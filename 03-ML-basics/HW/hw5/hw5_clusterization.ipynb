{
 "cells": [
  {
   "cell_type": "markdown",
   "metadata": {},
   "source": [
    "# _All the news_"
   ]
  },
  {
   "cell_type": "markdown",
   "metadata": {},
   "source": [
    "https://www.kaggle.com/snapcrack/all-the-news"
   ]
  },
  {
   "cell_type": "code",
   "execution_count": 1,
   "metadata": {},
   "outputs": [],
   "source": [
    "import pandas as pd\n",
    "import numpy as np\n",
    "\n",
    "import matplotlib.pyplot as plt\n",
    "%matplotlib inline"
   ]
  },
  {
   "cell_type": "code",
   "execution_count": 2,
   "metadata": {},
   "outputs": [
    {
     "data": {
      "text/plain": [
       "'0.20.2'"
      ]
     },
     "execution_count": 2,
     "metadata": {},
     "output_type": "execute_result"
    }
   ],
   "source": [
    "import sklearn\n",
    "sklearn.__version__"
   ]
  },
  {
   "cell_type": "markdown",
   "metadata": {},
   "source": [
    "## 1. _Data preparation_"
   ]
  },
  {
   "cell_type": "markdown",
   "metadata": {},
   "source": [
    "_\"Проверьте данные на наличие аномалий\"_ - я не очень понял, что здесь имеется в виду."
   ]
  },
  {
   "cell_type": "code",
   "execution_count": 3,
   "metadata": {},
   "outputs": [],
   "source": [
    "articles = pd.DataFrame()\n",
    "\n",
    "for i in range(3):\n",
    "    articles = articles.append(pd.read_csv('articles{}.csv'.format(1+i), index_col=0))"
   ]
  },
  {
   "cell_type": "code",
   "execution_count": 4,
   "metadata": {},
   "outputs": [
    {
     "data": {
      "text/html": [
       "<div>\n",
       "<style scoped>\n",
       "    .dataframe tbody tr th:only-of-type {\n",
       "        vertical-align: middle;\n",
       "    }\n",
       "\n",
       "    .dataframe tbody tr th {\n",
       "        vertical-align: top;\n",
       "    }\n",
       "\n",
       "    .dataframe thead th {\n",
       "        text-align: right;\n",
       "    }\n",
       "</style>\n",
       "<table border=\"1\" class=\"dataframe\">\n",
       "  <thead>\n",
       "    <tr style=\"text-align: right;\">\n",
       "      <th></th>\n",
       "      <th>id</th>\n",
       "      <th>title</th>\n",
       "      <th>publication</th>\n",
       "      <th>author</th>\n",
       "      <th>date</th>\n",
       "      <th>year</th>\n",
       "      <th>month</th>\n",
       "      <th>url</th>\n",
       "      <th>content</th>\n",
       "    </tr>\n",
       "  </thead>\n",
       "  <tbody>\n",
       "    <tr>\n",
       "      <th>146028</th>\n",
       "      <td>218078</td>\n",
       "      <td>An eavesdropping Uber driver saved his 16-year...</td>\n",
       "      <td>Washington Post</td>\n",
       "      <td>Avi Selk</td>\n",
       "      <td>2016-12-30</td>\n",
       "      <td>2016.0</td>\n",
       "      <td>12.0</td>\n",
       "      <td>https://web.archive.org/web/20161231004909/htt...</td>\n",
       "      <td>Uber driver Keith Avila picked up a p...</td>\n",
       "    </tr>\n",
       "    <tr>\n",
       "      <th>146029</th>\n",
       "      <td>218079</td>\n",
       "      <td>Plane carrying six people returning from a Cav...</td>\n",
       "      <td>Washington Post</td>\n",
       "      <td>Sarah Larimer</td>\n",
       "      <td>2016-12-30</td>\n",
       "      <td>2016.0</td>\n",
       "      <td>12.0</td>\n",
       "      <td>https://web.archive.org/web/20161231004909/htt...</td>\n",
       "      <td>Crews on Friday continued to search L...</td>\n",
       "    </tr>\n",
       "    <tr>\n",
       "      <th>146030</th>\n",
       "      <td>218080</td>\n",
       "      <td>After helping a fraction of homeowners expecte...</td>\n",
       "      <td>Washington Post</td>\n",
       "      <td>Renae Merle</td>\n",
       "      <td>2016-12-30</td>\n",
       "      <td>2016.0</td>\n",
       "      <td>12.0</td>\n",
       "      <td>https://web.archive.org/web/20161231004909/htt...</td>\n",
       "      <td>When the Obama administration announced a...</td>\n",
       "    </tr>\n",
       "    <tr>\n",
       "      <th>146031</th>\n",
       "      <td>218081</td>\n",
       "      <td>Yes, this is real: Michigan just banned bannin...</td>\n",
       "      <td>Washington Post</td>\n",
       "      <td>Chelsea Harvey</td>\n",
       "      <td>2016-12-30</td>\n",
       "      <td>2016.0</td>\n",
       "      <td>12.0</td>\n",
       "      <td>https://web.archive.org/web/20161231004909/htt...</td>\n",
       "      <td>This story has been updated. A new law in...</td>\n",
       "    </tr>\n",
       "    <tr>\n",
       "      <th>146032</th>\n",
       "      <td>218082</td>\n",
       "      <td>What happened in Washington state after voters...</td>\n",
       "      <td>Washington Post</td>\n",
       "      <td>Christopher Ingraham</td>\n",
       "      <td>2016-12-29</td>\n",
       "      <td>2016.0</td>\n",
       "      <td>12.0</td>\n",
       "      <td>https://web.archive.org/web/20161231004909/htt...</td>\n",
       "      <td>The nation’s first recreational marijuana...</td>\n",
       "    </tr>\n",
       "  </tbody>\n",
       "</table>\n",
       "</div>"
      ],
      "text/plain": [
       "            id                                              title  \\\n",
       "146028  218078  An eavesdropping Uber driver saved his 16-year...   \n",
       "146029  218079  Plane carrying six people returning from a Cav...   \n",
       "146030  218080  After helping a fraction of homeowners expecte...   \n",
       "146031  218081  Yes, this is real: Michigan just banned bannin...   \n",
       "146032  218082  What happened in Washington state after voters...   \n",
       "\n",
       "            publication                author        date    year  month  \\\n",
       "146028  Washington Post              Avi Selk  2016-12-30  2016.0   12.0   \n",
       "146029  Washington Post         Sarah Larimer  2016-12-30  2016.0   12.0   \n",
       "146030  Washington Post           Renae Merle  2016-12-30  2016.0   12.0   \n",
       "146031  Washington Post        Chelsea Harvey  2016-12-30  2016.0   12.0   \n",
       "146032  Washington Post  Christopher Ingraham  2016-12-29  2016.0   12.0   \n",
       "\n",
       "                                                      url  \\\n",
       "146028  https://web.archive.org/web/20161231004909/htt...   \n",
       "146029  https://web.archive.org/web/20161231004909/htt...   \n",
       "146030  https://web.archive.org/web/20161231004909/htt...   \n",
       "146031  https://web.archive.org/web/20161231004909/htt...   \n",
       "146032  https://web.archive.org/web/20161231004909/htt...   \n",
       "\n",
       "                                                  content  \n",
       "146028           Uber driver Keith Avila picked up a p...  \n",
       "146029           Crews on Friday continued to search L...  \n",
       "146030       When the Obama administration announced a...  \n",
       "146031       This story has been updated. A new law in...  \n",
       "146032       The nation’s first recreational marijuana...  "
      ]
     },
     "execution_count": 4,
     "metadata": {},
     "output_type": "execute_result"
    }
   ],
   "source": [
    "articles.tail()"
   ]
  },
  {
   "cell_type": "code",
   "execution_count": 5,
   "metadata": {},
   "outputs": [
    {
     "data": {
      "text/plain": [
       "(142570, 9)"
      ]
     },
     "execution_count": 5,
     "metadata": {},
     "output_type": "execute_result"
    }
   ],
   "source": [
    "articles.shape"
   ]
  },
  {
   "cell_type": "code",
   "execution_count": 6,
   "metadata": {},
   "outputs": [],
   "source": [
    "articles = articles[['title', 'content']]"
   ]
  },
  {
   "cell_type": "code",
   "execution_count": 7,
   "metadata": {},
   "outputs": [
    {
     "data": {
      "text/plain": [
       "title      2\n",
       "content    0\n",
       "dtype: int64"
      ]
     },
     "execution_count": 7,
     "metadata": {},
     "output_type": "execute_result"
    }
   ],
   "source": [
    "articles.isnull().sum()"
   ]
  },
  {
   "cell_type": "code",
   "execution_count": 8,
   "metadata": {},
   "outputs": [],
   "source": [
    "articles['title'][articles['title'].isnull()] = ''"
   ]
  },
  {
   "cell_type": "code",
   "execution_count": 9,
   "metadata": {},
   "outputs": [],
   "source": [
    "titles = articles['title']\n",
    "\n",
    "texts = articles['content']"
   ]
  },
  {
   "cell_type": "markdown",
   "metadata": {},
   "source": [
    "## 2. _Clusterization_ "
   ]
  },
  {
   "cell_type": "code",
   "execution_count": 10,
   "metadata": {},
   "outputs": [],
   "source": [
    "from sklearn.feature_extraction.text import TfidfVectorizer\n",
    "from sklearn.pipeline import Pipeline\n",
    "from sklearn.model_selection import train_test_split\n",
    "\n",
    "from sklearn.decomposition import TruncatedSVD\n",
    "from sklearn.cluster import KMeans\n",
    "from sklearn.cluster import AffinityPropagation\n",
    "\n",
    "from sklearn.cluster import DBSCAN\n",
    "from sklearn.cluster import AgglomerativeClustering\n",
    "\n",
    "from sklearn import metrics"
   ]
  },
  {
   "cell_type": "markdown",
   "metadata": {},
   "source": [
    "Ограничим размеры словарей (для сокращения времени работы алгоритмов)."
   ]
  },
  {
   "cell_type": "code",
   "execution_count": 11,
   "metadata": {},
   "outputs": [],
   "source": [
    "titles_sparse = TfidfVectorizer(max_features=4096).fit_transform(titles)\n",
    "texts_sparse = TfidfVectorizer(max_features=4096).fit_transform(texts)"
   ]
  },
  {
   "cell_type": "code",
   "execution_count": 12,
   "metadata": {},
   "outputs": [
    {
     "data": {
      "text/plain": [
       "((142570, 4096), (142570, 4096))"
      ]
     },
     "execution_count": 12,
     "metadata": {},
     "output_type": "execute_result"
    }
   ],
   "source": [
    "titles_sparse.shape, texts_sparse.shape"
   ]
  },
  {
   "cell_type": "code",
   "execution_count": 13,
   "metadata": {},
   "outputs": [],
   "source": [
    "def get_title_metrics(X_train, _, y_pred):\n",
    "    return { 'Silhouette' : metrics.silhouette_score(X_train, y_pred) }\n",
    "\n",
    "def get_content_metrics(X_train, y_test, y_pred):\n",
    "    result = {\n",
    "        'ARI': metrics.adjusted_rand_score(y_test, y_pred),\n",
    "        'AMI': metrics.adjusted_mutual_info_score(y_test, y_pred, average_method='arithmetic'),\n",
    "        'Homogenity': metrics.homogeneity_score(y_test, y_pred),\n",
    "        'Completeness': metrics.completeness_score(y_test, y_pred),\n",
    "        'V-measure': metrics.v_measure_score(y_test, y_pred)}\n",
    "    result.update(get_title_metrics(X_train, y_test, y_pred))\n",
    "    return result\n",
    "\n",
    "def print_metrics(get_metrics, dataset_name, algo_name, X_train, y_test, y_pred):\n",
    "    print('{} for {}:'.format(algo_name, dataset_name))\n",
    "    for name, val in get_metrics(X_train, y_test, y_pred).items():\n",
    "        print('{}: {:.3f}'.format(name, val))\n",
    "    print(40 * '*')\n",
    "\n",
    "def print_title_metrics(algo_name, X_train, y_pred):\n",
    "    print_metrics(get_title_metrics, 'titles', algo_name, X_train, None, y_pred)\n",
    "\n",
    "def print_content_metrics(algo_name, X_train, y_test, y_pred):\n",
    "    print_metrics(get_content_metrics, 'content', algo_name, X_train, y_test, y_pred)"
   ]
  },
  {
   "cell_type": "markdown",
   "metadata": {},
   "source": [
    "### 2.1 _AffinityPropagation_"
   ]
  },
  {
   "cell_type": "markdown",
   "metadata": {},
   "source": [
    "У меня **AffinityPropagation** не работает на большом датасете - не хватает памяти ([`MemoryError`](https://docs.python.org/3/library/exceptions.html)), пришлось его сильно уменьшить."
   ]
  },
  {
   "cell_type": "code",
   "execution_count": 14,
   "metadata": {},
   "outputs": [],
   "source": [
    "ix = np.random.choice(range(titles_sparse.shape[0]), 4096, replace=False)\n",
    "\n",
    "X_train = titles_sparse[ix]\n",
    "X_test = texts_sparse[ix]"
   ]
  },
  {
   "cell_type": "code",
   "execution_count": 15,
   "metadata": {},
   "outputs": [
    {
     "name": "stdout",
     "output_type": "stream",
     "text": [
      "AffinityPropagation for titles:\n",
      "Silhouette: -0.031\n",
      "****************************************\n",
      "Wall time: 2min 29s\n"
     ]
    }
   ],
   "source": [
    "%%time\n",
    "\n",
    "y_test = AffinityPropagation().fit_predict(X_train)\n",
    "\n",
    "print_title_metrics('AffinityPropagation', X_train, y_test)"
   ]
  },
  {
   "cell_type": "code",
   "execution_count": 16,
   "metadata": {},
   "outputs": [
    {
     "name": "stdout",
     "output_type": "stream",
     "text": [
      "AffinityPropagation for content:\n",
      "ARI: 0.001\n",
      "AMI: 0.002\n",
      "Homogenity: 0.055\n",
      "Completeness: 0.022\n",
      "V-measure: 0.031\n",
      "Silhouette: -0.023\n",
      "****************************************\n",
      "Wall time: 2min 39s\n"
     ]
    }
   ],
   "source": [
    "%%time\n",
    "\n",
    "print_content_metrics('AffinityPropagation', X_train, y_test, AffinityPropagation().fit_predict(X_test))"
   ]
  },
  {
   "cell_type": "markdown",
   "metadata": {},
   "source": [
    "### 2.2 _DBSCAN_"
   ]
  },
  {
   "cell_type": "markdown",
   "metadata": {},
   "source": [
    "Так же пришлось уменьшить датасет (20% от исходных данных), а то долго считает."
   ]
  },
  {
   "cell_type": "code",
   "execution_count": 17,
   "metadata": {},
   "outputs": [],
   "source": [
    "_, X_train, _, X_test = train_test_split(titles_sparse, texts_sparse, test_size=0.2, random_state=299)"
   ]
  },
  {
   "cell_type": "code",
   "execution_count": 18,
   "metadata": {},
   "outputs": [
    {
     "data": {
      "text/plain": [
       "((28514, 4096), (28514, 4096))"
      ]
     },
     "execution_count": 18,
     "metadata": {},
     "output_type": "execute_result"
    }
   ],
   "source": [
    "X_train.shape, X_test.shape"
   ]
  },
  {
   "cell_type": "code",
   "execution_count": 19,
   "metadata": {},
   "outputs": [
    {
     "name": "stdout",
     "output_type": "stream",
     "text": [
      "DBSCAN for titles:\n",
      "Silhouette: -0.284\n",
      "****************************************\n",
      "Wall time: 1min 4s\n"
     ]
    }
   ],
   "source": [
    "%%time\n",
    "\n",
    "y_test = DBSCAN().fit_predict(X_train)\n",
    "\n",
    "print_title_metrics('DBSCAN', X_train, y_test)"
   ]
  },
  {
   "cell_type": "code",
   "execution_count": 20,
   "metadata": {},
   "outputs": [
    {
     "name": "stdout",
     "output_type": "stream",
     "text": [
      "DBSCAN for content:\n",
      "ARI: -0.003\n",
      "AMI: -0.001\n",
      "Homogenity: 0.000\n",
      "Completeness: 0.000\n",
      "V-measure: 0.000\n",
      "Silhouette: -0.009\n",
      "****************************************\n",
      "Wall time: 5min 11s\n"
     ]
    }
   ],
   "source": [
    "%%time\n",
    "\n",
    "print_content_metrics('DBSCAN', X_train, y_test, DBSCAN().fit_predict(X_test))"
   ]
  },
  {
   "cell_type": "markdown",
   "metadata": {},
   "source": [
    "# 3. _PCA Clusterization_ "
   ]
  },
  {
   "cell_type": "code",
   "execution_count": 21,
   "metadata": {},
   "outputs": [
    {
     "data": {
      "text/plain": [
       "((142570, 128), (142570, 128))"
      ]
     },
     "execution_count": 21,
     "metadata": {},
     "output_type": "execute_result"
    }
   ],
   "source": [
    "titles_pca = TruncatedSVD(n_components=128).fit_transform(titles_sparse)\n",
    "texts_pca = TruncatedSVD(n_components=128).fit_transform(texts_sparse)\n",
    "\n",
    "titles_pca.shape, texts_pca.shape"
   ]
  },
  {
   "cell_type": "markdown",
   "metadata": {},
   "source": [
    "### 3.1 _AffinityPropagation_"
   ]
  },
  {
   "cell_type": "code",
   "execution_count": 22,
   "metadata": {},
   "outputs": [],
   "source": [
    "X_train = titles_pca[ix]\n",
    "X_test = texts_pca[ix]"
   ]
  },
  {
   "cell_type": "code",
   "execution_count": 23,
   "metadata": {},
   "outputs": [
    {
     "name": "stdout",
     "output_type": "stream",
     "text": [
      "PCA / AffinityPropagation for titles:\n",
      "Silhouette: 0.008\n",
      "****************************************\n",
      "Wall time: 35.5 s\n"
     ]
    }
   ],
   "source": [
    "%%time\n",
    "\n",
    "y_test = AffinityPropagation().fit_predict(X_train)\n",
    "\n",
    "print_title_metrics('PCA / AffinityPropagation', X_train, y_test)"
   ]
  },
  {
   "cell_type": "code",
   "execution_count": 24,
   "metadata": {},
   "outputs": [
    {
     "name": "stdout",
     "output_type": "stream",
     "text": [
      "PCA / AffinityPropagation for content:\n",
      "ARI: 0.016\n",
      "AMI: 0.063\n",
      "Homogenity: 0.454\n",
      "Completeness: 0.433\n",
      "V-measure: 0.443\n",
      "Silhouette: -0.198\n",
      "****************************************\n",
      "Wall time: 51.7 s\n"
     ]
    }
   ],
   "source": [
    "%%time\n",
    "\n",
    "print_content_metrics('PCA / AffinityPropagation', X_train, y_test, AffinityPropagation().fit_predict(X_test))"
   ]
  },
  {
   "cell_type": "markdown",
   "metadata": {},
   "source": [
    "### 3.2 _DBSCAN_"
   ]
  },
  {
   "cell_type": "code",
   "execution_count": 25,
   "metadata": {},
   "outputs": [],
   "source": [
    "_, X_train, _, X_test = train_test_split(titles_pca, texts_pca, test_size=0.2, random_state=299)"
   ]
  },
  {
   "cell_type": "code",
   "execution_count": 26,
   "metadata": {},
   "outputs": [
    {
     "name": "stdout",
     "output_type": "stream",
     "text": [
      "PCA / DBSCAN for titles:\n",
      "Silhouette: 0.265\n",
      "****************************************\n",
      "Wall time: 6min 48s\n"
     ]
    }
   ],
   "source": [
    "%%time\n",
    "\n",
    "y_test = DBSCAN().fit_predict(X_train)\n",
    "\n",
    "print_title_metrics('PCA / DBSCAN', X_train, y_test)"
   ]
  },
  {
   "cell_type": "code",
   "execution_count": 27,
   "metadata": {},
   "outputs": [
    {
     "ename": "NameError",
     "evalue": "name 'print_connent_metrics' is not defined",
     "output_type": "error",
     "traceback": [
      "\u001b[1;31m---------------------------------------------------------------------------\u001b[0m",
      "\u001b[1;31mNameError\u001b[0m                                 Traceback (most recent call last)",
      "\u001b[1;32m<timed eval>\u001b[0m in \u001b[0;36m<module>\u001b[1;34m\u001b[0m\n",
      "\u001b[1;31mNameError\u001b[0m: name 'print_connent_metrics' is not defined"
     ]
    }
   ],
   "source": [
    "%%time\n",
    "\n",
    "print_connent_metrics('PCA / DBSCAN', X_train, y_test, DBSCAN().fit_predict(X_test))"
   ]
  },
  {
   "cell_type": "markdown",
   "metadata": {},
   "source": [
    "### 3.3 _AgglomerativeClustering_"
   ]
  },
  {
   "cell_type": "code",
   "execution_count": 28,
   "metadata": {},
   "outputs": [
    {
     "name": "stdout",
     "output_type": "stream",
     "text": [
      "PCA / AgglomerativeClustering for titles:\n",
      "Silhouette: 0.113\n",
      "****************************************\n",
      "Wall time: 2min 43s\n"
     ]
    }
   ],
   "source": [
    "%%time\n",
    "\n",
    "y_test = AgglomerativeClustering().fit_predict(X_train)\n",
    "\n",
    "print_title_metrics('PCA / AgglomerativeClustering', X_train, y_test)"
   ]
  },
  {
   "cell_type": "code",
   "execution_count": 29,
   "metadata": {},
   "outputs": [
    {
     "name": "stdout",
     "output_type": "stream",
     "text": [
      "PCA / AgglomerativeClustering for content:\n",
      "ARI: 0.058\n",
      "AMI: 0.015\n",
      "Homogenity: 0.028\n",
      "Completeness: 0.011\n",
      "V-measure: 0.016\n",
      "Silhouette: 0.036\n",
      "****************************************\n",
      "Wall time: 2min 30s\n"
     ]
    }
   ],
   "source": [
    "%%time\n",
    "\n",
    "print_content_metrics('PCA / AgglomerativeClustering', X_train, y_test, AgglomerativeClustering().fit_predict(X_test))"
   ]
  }
 ],
 "metadata": {
  "kernelspec": {
   "display_name": "Python 3",
   "language": "python",
   "name": "python3"
  },
  "language_info": {
   "codemirror_mode": {
    "name": "ipython",
    "version": 3
   },
   "file_extension": ".py",
   "mimetype": "text/x-python",
   "name": "python",
   "nbconvert_exporter": "python",
   "pygments_lexer": "ipython3",
   "version": "3.7.2"
  }
 },
 "nbformat": 4,
 "nbformat_minor": 2
}
