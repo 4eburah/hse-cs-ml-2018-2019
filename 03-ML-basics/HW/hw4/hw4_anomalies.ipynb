{
 "cells": [
  {
   "cell_type": "markdown",
   "metadata": {},
   "source": [
    "# seismic-bumps"
   ]
  },
  {
   "cell_type": "markdown",
   "metadata": {},
   "source": [
    "## 0. _Pre-processing_ "
   ]
  },
  {
   "cell_type": "code",
   "execution_count": 1,
   "metadata": {},
   "outputs": [],
   "source": [
    "from scipy.io import arff\n",
    "import pandas as pd\n",
    "import numpy as np"
   ]
  },
  {
   "cell_type": "code",
   "execution_count": 2,
   "metadata": {},
   "outputs": [
    {
     "name": "stdout",
     "output_type": "stream",
     "text": [
      "0.20.2\n"
     ]
    }
   ],
   "source": [
    "import sklearn\n",
    "print( sklearn.__version__ )"
   ]
  },
  {
   "cell_type": "code",
   "execution_count": 3,
   "metadata": {},
   "outputs": [],
   "source": [
    "from sklearn.preprocessing import LabelEncoder"
   ]
  },
  {
   "cell_type": "markdown",
   "metadata": {},
   "source": [
    "### _0.1_ "
   ]
  },
  {
   "cell_type": "code",
   "execution_count": 4,
   "metadata": {},
   "outputs": [],
   "source": [
    "seismic_data, seismic_meta = arff.loadarff('seismic-bumps.arff')"
   ]
  },
  {
   "cell_type": "code",
   "execution_count": 5,
   "metadata": {},
   "outputs": [
    {
     "data": {
      "text/html": [
       "<div>\n",
       "<style scoped>\n",
       "    .dataframe tbody tr th:only-of-type {\n",
       "        vertical-align: middle;\n",
       "    }\n",
       "\n",
       "    .dataframe tbody tr th {\n",
       "        vertical-align: top;\n",
       "    }\n",
       "\n",
       "    .dataframe thead th {\n",
       "        text-align: right;\n",
       "    }\n",
       "</style>\n",
       "<table border=\"1\" class=\"dataframe\">\n",
       "  <thead>\n",
       "    <tr style=\"text-align: right;\">\n",
       "      <th></th>\n",
       "      <th>seismic</th>\n",
       "      <th>seismoacoustic</th>\n",
       "      <th>shift</th>\n",
       "      <th>genergy</th>\n",
       "      <th>gpuls</th>\n",
       "      <th>gdenergy</th>\n",
       "      <th>gdpuls</th>\n",
       "      <th>ghazard</th>\n",
       "      <th>nbumps</th>\n",
       "      <th>nbumps2</th>\n",
       "      <th>nbumps3</th>\n",
       "      <th>nbumps4</th>\n",
       "      <th>nbumps5</th>\n",
       "      <th>nbumps6</th>\n",
       "      <th>nbumps7</th>\n",
       "      <th>nbumps89</th>\n",
       "      <th>energy</th>\n",
       "      <th>maxenergy</th>\n",
       "      <th>class</th>\n",
       "    </tr>\n",
       "  </thead>\n",
       "  <tbody>\n",
       "    <tr>\n",
       "      <th>0</th>\n",
       "      <td>b'a'</td>\n",
       "      <td>b'a'</td>\n",
       "      <td>b'N'</td>\n",
       "      <td>15180.0</td>\n",
       "      <td>48.0</td>\n",
       "      <td>-72.0</td>\n",
       "      <td>-72.0</td>\n",
       "      <td>b'a'</td>\n",
       "      <td>0.0</td>\n",
       "      <td>0.0</td>\n",
       "      <td>0.0</td>\n",
       "      <td>0.0</td>\n",
       "      <td>0.0</td>\n",
       "      <td>0.0</td>\n",
       "      <td>0.0</td>\n",
       "      <td>0.0</td>\n",
       "      <td>0.0</td>\n",
       "      <td>0.0</td>\n",
       "      <td>b'0'</td>\n",
       "    </tr>\n",
       "    <tr>\n",
       "      <th>1</th>\n",
       "      <td>b'a'</td>\n",
       "      <td>b'a'</td>\n",
       "      <td>b'N'</td>\n",
       "      <td>14720.0</td>\n",
       "      <td>33.0</td>\n",
       "      <td>-70.0</td>\n",
       "      <td>-79.0</td>\n",
       "      <td>b'a'</td>\n",
       "      <td>1.0</td>\n",
       "      <td>0.0</td>\n",
       "      <td>1.0</td>\n",
       "      <td>0.0</td>\n",
       "      <td>0.0</td>\n",
       "      <td>0.0</td>\n",
       "      <td>0.0</td>\n",
       "      <td>0.0</td>\n",
       "      <td>2000.0</td>\n",
       "      <td>2000.0</td>\n",
       "      <td>b'0'</td>\n",
       "    </tr>\n",
       "    <tr>\n",
       "      <th>2</th>\n",
       "      <td>b'a'</td>\n",
       "      <td>b'a'</td>\n",
       "      <td>b'N'</td>\n",
       "      <td>8050.0</td>\n",
       "      <td>30.0</td>\n",
       "      <td>-81.0</td>\n",
       "      <td>-78.0</td>\n",
       "      <td>b'a'</td>\n",
       "      <td>0.0</td>\n",
       "      <td>0.0</td>\n",
       "      <td>0.0</td>\n",
       "      <td>0.0</td>\n",
       "      <td>0.0</td>\n",
       "      <td>0.0</td>\n",
       "      <td>0.0</td>\n",
       "      <td>0.0</td>\n",
       "      <td>0.0</td>\n",
       "      <td>0.0</td>\n",
       "      <td>b'0'</td>\n",
       "    </tr>\n",
       "    <tr>\n",
       "      <th>3</th>\n",
       "      <td>b'a'</td>\n",
       "      <td>b'a'</td>\n",
       "      <td>b'N'</td>\n",
       "      <td>28820.0</td>\n",
       "      <td>171.0</td>\n",
       "      <td>-23.0</td>\n",
       "      <td>40.0</td>\n",
       "      <td>b'a'</td>\n",
       "      <td>1.0</td>\n",
       "      <td>0.0</td>\n",
       "      <td>1.0</td>\n",
       "      <td>0.0</td>\n",
       "      <td>0.0</td>\n",
       "      <td>0.0</td>\n",
       "      <td>0.0</td>\n",
       "      <td>0.0</td>\n",
       "      <td>3000.0</td>\n",
       "      <td>3000.0</td>\n",
       "      <td>b'0'</td>\n",
       "    </tr>\n",
       "    <tr>\n",
       "      <th>4</th>\n",
       "      <td>b'a'</td>\n",
       "      <td>b'a'</td>\n",
       "      <td>b'N'</td>\n",
       "      <td>12640.0</td>\n",
       "      <td>57.0</td>\n",
       "      <td>-63.0</td>\n",
       "      <td>-52.0</td>\n",
       "      <td>b'a'</td>\n",
       "      <td>0.0</td>\n",
       "      <td>0.0</td>\n",
       "      <td>0.0</td>\n",
       "      <td>0.0</td>\n",
       "      <td>0.0</td>\n",
       "      <td>0.0</td>\n",
       "      <td>0.0</td>\n",
       "      <td>0.0</td>\n",
       "      <td>0.0</td>\n",
       "      <td>0.0</td>\n",
       "      <td>b'0'</td>\n",
       "    </tr>\n",
       "  </tbody>\n",
       "</table>\n",
       "</div>"
      ],
      "text/plain": [
       "  seismic seismoacoustic shift  genergy  gpuls  gdenergy  gdpuls ghazard  \\\n",
       "0    b'a'           b'a'  b'N'  15180.0   48.0     -72.0   -72.0    b'a'   \n",
       "1    b'a'           b'a'  b'N'  14720.0   33.0     -70.0   -79.0    b'a'   \n",
       "2    b'a'           b'a'  b'N'   8050.0   30.0     -81.0   -78.0    b'a'   \n",
       "3    b'a'           b'a'  b'N'  28820.0  171.0     -23.0    40.0    b'a'   \n",
       "4    b'a'           b'a'  b'N'  12640.0   57.0     -63.0   -52.0    b'a'   \n",
       "\n",
       "   nbumps  nbumps2  nbumps3  nbumps4  nbumps5  nbumps6  nbumps7  nbumps89  \\\n",
       "0     0.0      0.0      0.0      0.0      0.0      0.0      0.0       0.0   \n",
       "1     1.0      0.0      1.0      0.0      0.0      0.0      0.0       0.0   \n",
       "2     0.0      0.0      0.0      0.0      0.0      0.0      0.0       0.0   \n",
       "3     1.0      0.0      1.0      0.0      0.0      0.0      0.0       0.0   \n",
       "4     0.0      0.0      0.0      0.0      0.0      0.0      0.0       0.0   \n",
       "\n",
       "   energy  maxenergy class  \n",
       "0     0.0        0.0  b'0'  \n",
       "1  2000.0     2000.0  b'0'  \n",
       "2     0.0        0.0  b'0'  \n",
       "3  3000.0     3000.0  b'0'  \n",
       "4     0.0        0.0  b'0'  "
      ]
     },
     "execution_count": 5,
     "metadata": {},
     "output_type": "execute_result"
    }
   ],
   "source": [
    "seismic_bumps = pd.DataFrame(seismic_data, columns=seismic_data.dtype.fields.keys())\n",
    "seismic_bumps.head()"
   ]
  },
  {
   "cell_type": "code",
   "execution_count": 6,
   "metadata": {},
   "outputs": [
    {
     "data": {
      "text/plain": [
       "(2584, 19)"
      ]
     },
     "execution_count": 6,
     "metadata": {},
     "output_type": "execute_result"
    }
   ],
   "source": [
    "seismic_bumps.shape"
   ]
  },
  {
   "cell_type": "code",
   "execution_count": 7,
   "metadata": {},
   "outputs": [
    {
     "data": {
      "text/plain": [
       "float64    14\n",
       "object      5\n",
       "dtype: int64"
      ]
     },
     "execution_count": 7,
     "metadata": {},
     "output_type": "execute_result"
    }
   ],
   "source": [
    "seismic_bumps.get_dtype_counts()"
   ]
  },
  {
   "cell_type": "code",
   "execution_count": 8,
   "metadata": {},
   "outputs": [
    {
     "data": {
      "text/plain": [
       "seismic           0\n",
       "seismoacoustic    0\n",
       "shift             0\n",
       "genergy           0\n",
       "gpuls             0\n",
       "gdenergy          0\n",
       "gdpuls            0\n",
       "ghazard           0\n",
       "nbumps            0\n",
       "nbumps2           0\n",
       "nbumps3           0\n",
       "nbumps4           0\n",
       "nbumps5           0\n",
       "nbumps6           0\n",
       "nbumps7           0\n",
       "nbumps89          0\n",
       "energy            0\n",
       "maxenergy         0\n",
       "class             0\n",
       "dtype: int64"
      ]
     },
     "execution_count": 8,
     "metadata": {},
     "output_type": "execute_result"
    }
   ],
   "source": [
    "seismic_bumps.isnull().sum()"
   ]
  },
  {
   "cell_type": "code",
   "execution_count": 9,
   "metadata": {},
   "outputs": [
    {
     "data": {
      "text/html": [
       "<div>\n",
       "<style scoped>\n",
       "    .dataframe tbody tr th:only-of-type {\n",
       "        vertical-align: middle;\n",
       "    }\n",
       "\n",
       "    .dataframe tbody tr th {\n",
       "        vertical-align: top;\n",
       "    }\n",
       "\n",
       "    .dataframe thead th {\n",
       "        text-align: right;\n",
       "    }\n",
       "</style>\n",
       "<table border=\"1\" class=\"dataframe\">\n",
       "  <thead>\n",
       "    <tr style=\"text-align: right;\">\n",
       "      <th></th>\n",
       "      <th>count</th>\n",
       "      <th>unique</th>\n",
       "      <th>top</th>\n",
       "      <th>freq</th>\n",
       "    </tr>\n",
       "  </thead>\n",
       "  <tbody>\n",
       "    <tr>\n",
       "      <th>seismic</th>\n",
       "      <td>2584</td>\n",
       "      <td>2</td>\n",
       "      <td>b'a'</td>\n",
       "      <td>1682</td>\n",
       "    </tr>\n",
       "    <tr>\n",
       "      <th>seismoacoustic</th>\n",
       "      <td>2584</td>\n",
       "      <td>3</td>\n",
       "      <td>b'a'</td>\n",
       "      <td>1580</td>\n",
       "    </tr>\n",
       "    <tr>\n",
       "      <th>shift</th>\n",
       "      <td>2584</td>\n",
       "      <td>2</td>\n",
       "      <td>b'W'</td>\n",
       "      <td>1663</td>\n",
       "    </tr>\n",
       "    <tr>\n",
       "      <th>ghazard</th>\n",
       "      <td>2584</td>\n",
       "      <td>3</td>\n",
       "      <td>b'a'</td>\n",
       "      <td>2342</td>\n",
       "    </tr>\n",
       "    <tr>\n",
       "      <th>class</th>\n",
       "      <td>2584</td>\n",
       "      <td>2</td>\n",
       "      <td>b'0'</td>\n",
       "      <td>2414</td>\n",
       "    </tr>\n",
       "  </tbody>\n",
       "</table>\n",
       "</div>"
      ],
      "text/plain": [
       "               count unique   top  freq\n",
       "seismic         2584      2  b'a'  1682\n",
       "seismoacoustic  2584      3  b'a'  1580\n",
       "shift           2584      2  b'W'  1663\n",
       "ghazard         2584      3  b'a'  2342\n",
       "class           2584      2  b'0'  2414"
      ]
     },
     "execution_count": 9,
     "metadata": {},
     "output_type": "execute_result"
    }
   ],
   "source": [
    "seismic_bumps.select_dtypes(exclude=[np.float64,]).describe().T"
   ]
  },
  {
   "cell_type": "code",
   "execution_count": 10,
   "metadata": {},
   "outputs": [
    {
     "data": {
      "text/plain": [
       "Dataset: seismic-bumps\n",
       "\tseismic's type is nominal, range is ('a', 'b', 'c', 'd')\n",
       "\tseismoacoustic's type is nominal, range is ('a', 'b', 'c', 'd')\n",
       "\tshift's type is nominal, range is ('W', 'N')\n",
       "\tgenergy's type is numeric\n",
       "\tgpuls's type is numeric\n",
       "\tgdenergy's type is numeric\n",
       "\tgdpuls's type is numeric\n",
       "\tghazard's type is nominal, range is ('a', 'b', 'c', 'd')\n",
       "\tnbumps's type is numeric\n",
       "\tnbumps2's type is numeric\n",
       "\tnbumps3's type is numeric\n",
       "\tnbumps4's type is numeric\n",
       "\tnbumps5's type is numeric\n",
       "\tnbumps6's type is numeric\n",
       "\tnbumps7's type is numeric\n",
       "\tnbumps89's type is numeric\n",
       "\tenergy's type is numeric\n",
       "\tmaxenergy's type is numeric\n",
       "\tclass's type is nominal, range is ('1', '0')"
      ]
     },
     "execution_count": 10,
     "metadata": {},
     "output_type": "execute_result"
    }
   ],
   "source": [
    "seismic_meta"
   ]
  },
  {
   "cell_type": "code",
   "execution_count": 11,
   "metadata": {},
   "outputs": [
    {
     "data": {
      "text/plain": [
       "0    93.421053\n",
       "1     6.578947\n",
       "Name: class, dtype: float64"
      ]
     },
     "execution_count": 11,
     "metadata": {},
     "output_type": "execute_result"
    }
   ],
   "source": [
    "seismic_bumps['class'] = seismic_bumps['class'].astype(np.int8)\n",
    "\n",
    "seismic_bumps['class'].value_counts(normalize=True) * 100"
   ]
  },
  {
   "cell_type": "markdown",
   "metadata": {},
   "source": [
    "[seismic-bumps Data Set](https://archive.ics.uci.edu/ml/datasets/seismic-bumps)\n",
    "\n",
    "( a - lack of hazard, b - low hazard, c - high hazard, d - danger state)\n",
    "\n",
    "_Очевидно, что здесь есть отношение порядка, поэтому к соответсвующим признакам можно применить **Label encoding**_:"
   ]
  },
  {
   "cell_type": "code",
   "execution_count": 12,
   "metadata": {},
   "outputs": [],
   "source": [
    "le = LabelEncoder()\n",
    "\n",
    "for feature in ['seismic', 'seismoacoustic', 'ghazard']:\n",
    "    seismic_bumps[feature] = le.fit_transform(seismic_bumps[feature])"
   ]
  },
  {
   "cell_type": "code",
   "execution_count": 13,
   "metadata": {},
   "outputs": [],
   "source": [
    "seismic_bumps = pd.get_dummies(seismic_bumps, columns=['shift'], drop_first=True)"
   ]
  },
  {
   "cell_type": "code",
   "execution_count": 14,
   "metadata": {},
   "outputs": [],
   "source": [
    "X, y = seismic_bumps.drop('class', 1), seismic_bumps['class']"
   ]
  },
  {
   "cell_type": "code",
   "execution_count": 15,
   "metadata": {},
   "outputs": [
    {
     "data": {
      "text/plain": [
       "int32       3\n",
       "float64    14\n",
       "uint8       1\n",
       "dtype: int64"
      ]
     },
     "execution_count": 15,
     "metadata": {},
     "output_type": "execute_result"
    }
   ],
   "source": [
    "X.get_dtype_counts()"
   ]
  },
  {
   "cell_type": "code",
   "execution_count": 16,
   "metadata": {},
   "outputs": [
    {
     "data": {
      "text/plain": [
       " 1    2414\n",
       "-1     170\n",
       "Name: class, dtype: int64"
      ]
     },
     "execution_count": 16,
     "metadata": {},
     "output_type": "execute_result"
    }
   ],
   "source": [
    "def target_encode(y):\n",
    "    return (1 - 2 * y).astype(np.int8)\n",
    "\n",
    "def target_decode(y):\n",
    "    return ((1 - y) / 2).astype(np.int8)\n",
    "\n",
    "# changing class labels to {-1;1} for the convenience of grid search for the best params of outlier detection algorithms  \n",
    "y = target_encode(y)\n",
    "\n",
    "y.value_counts()"
   ]
  },
  {
   "cell_type": "markdown",
   "metadata": {},
   "source": [
    "### _0.2 PCA_"
   ]
  },
  {
   "cell_type": "code",
   "execution_count": 17,
   "metadata": {},
   "outputs": [],
   "source": [
    "import matplotlib.pyplot as plt\n",
    "%matplotlib inline\n",
    "\n",
    "import warnings\n",
    "warnings.filterwarnings('ignore')"
   ]
  },
  {
   "cell_type": "code",
   "execution_count": 18,
   "metadata": {},
   "outputs": [],
   "source": [
    "from sklearn.preprocessing import StandardScaler\n",
    "from sklearn.decomposition import PCA"
   ]
  },
  {
   "cell_type": "code",
   "execution_count": 19,
   "metadata": {},
   "outputs": [
    {
     "name": "stdout",
     "output_type": "stream",
     "text": [
      "(2584, 18) (2584,)\n"
     ]
    }
   ],
   "source": [
    "X_scaled = X.copy()\n",
    "\n",
    "ss = StandardScaler()\n",
    "\n",
    "for col in X.columns:\n",
    "    X_scaled[col] = ss.fit_transform(X[[col]])\n",
    "\n",
    "print(X_scaled.shape, y.shape)"
   ]
  },
  {
   "cell_type": "code",
   "execution_count": 20,
   "metadata": {},
   "outputs": [],
   "source": [
    "pca = PCA(n_components=2)\n",
    "X_pca = pca.fit_transform(X_scaled)"
   ]
  },
  {
   "cell_type": "code",
   "execution_count": 21,
   "metadata": {},
   "outputs": [
    {
     "data": {
      "image/png": "[encoded data removed]",
      "text/plain": [
       "<Figure size 1224x720 with 1 Axes>"
      ]
     },
     "metadata": {
      "needs_background": "light"
     },
     "output_type": "display_data"
    }
   ],
   "source": [
    "plt.figure(figsize=(17,10))\n",
    "\n",
    "for u in sorted(y.unique(), reverse=True):\n",
    "    ix = np.argwhere(y == u).squeeze()\n",
    "    plt.plot(X_pca[ix, 0], X_pca[ix, 1], 'o', label='class {}'.format(u))\n",
    "\n",
    "plt.legend();"
   ]
  },
  {
   "cell_type": "code",
   "execution_count": 22,
   "metadata": {},
   "outputs": [
    {
     "name": "stdout",
     "output_type": "stream",
     "text": [
      "Component #1: 25.31% of initial variance\n",
      "Component #2: 15.37% of initial variance\n"
     ]
    }
   ],
   "source": [
    "for i, component in enumerate(pca.components_):\n",
    "    print(\"Component #{}: {:.2f}% of initial variance\".format(i + 1, 100 * pca.explained_variance_ratio_[i], 2))"
   ]
  },
  {
   "cell_type": "markdown",
   "metadata": {},
   "source": [
    "## 1. _Quality metrics_"
   ]
  },
  {
   "cell_type": "markdown",
   "metadata": {},
   "source": [
    "Классы сильно несбалансированы, __accuracy__ не подходит, потому что примитивно предсказывая только класс **(1)** мы получим __accuracy__ $= 93,4\\%$.\n",
    "\n",
    "Имеет смысл использовать либо __Precision__ / __Recall__ (причём настраивать модель на аномальный класс <b>(-1)</b> как на _positive_), либо __F-меру__. Причём, возможно, даже не __F1__, а __F-$\\beta$__ с $\\beta > 1$ (что даёт приоритет **recall**) потому что **FP**(_false positive_) в данном случае, очевидно, более приемлем, чем **FN**(_false negative_) $-$ наверное, лучше устроить ложную тревогу, чем не предупредить о землетрясении."
   ]
  },
  {
   "cell_type": "code",
   "execution_count": 23,
   "metadata": {},
   "outputs": [],
   "source": [
    "from sklearn.metrics import make_scorer\n",
    "\n",
    "from sklearn.metrics import precision_score\n",
    "from sklearn.metrics import recall_score\n",
    "from sklearn.metrics import f1_score\n",
    "from sklearn.metrics import fbeta_score\n",
    "from sklearn.metrics import accuracy_score\n",
    "from sklearn.metrics import roc_auc_score\n",
    "from sklearn.metrics import classification_report\n",
    "from sklearn.metrics import roc_curve\n",
    "from sklearn.metrics import precision_recall_curve"
   ]
  },
  {
   "cell_type": "code",
   "execution_count": 24,
   "metadata": {},
   "outputs": [],
   "source": [
    "beta = 1.75\n",
    "\n",
    "fbeta_scorer = make_scorer(fbeta_score, pos_label=-1, average='binary', beta=beta)"
   ]
  },
  {
   "cell_type": "markdown",
   "metadata": {},
   "source": [
    "## 2.  _Гипотеза компактности_"
   ]
  },
  {
   "cell_type": "markdown",
   "metadata": {},
   "source": [
    "_Если применить **TSNE** к не-скалированным данным, то получается довольно интересная картинка (с ленточной структурой)_.\n",
    "\n",
    "Но, как можно по ней yвидеть (а также по визуализации **PCA** выше), по крайней мере, в пространстве двух компонент гипотеза компактности _не удовлетворена_ - классы плохо отделены друг от друга.\n",
    "\n",
    "По этой причине можно предположить, что метрические алгоритмы классификации (**kNN**) здесь будут работать плохо. Модели линейной регрессии, судя по всему, также вряд ли смогут разделить классы."
   ]
  },
  {
   "cell_type": "code",
   "execution_count": 25,
   "metadata": {},
   "outputs": [],
   "source": [
    "from sklearn.manifold import TSNE"
   ]
  },
  {
   "cell_type": "code",
   "execution_count": 26,
   "metadata": {},
   "outputs": [],
   "source": [
    "def plot_tsne(subplot, title, X, y):\n",
    "    plt.subplot(subplot)\n",
    "    for u in sorted(y.unique(), reverse=True):\n",
    "        ix = np.argwhere(y == u).squeeze()\n",
    "        plt.plot(X[ix, 0], X[ix, 1], 'o', label='class {}'.format(u))    \n",
    "    plt.title(title)\n",
    "    plt.legend()"
   ]
  },
  {
   "cell_type": "code",
   "execution_count": 27,
   "metadata": {},
   "outputs": [
    {
     "name": "stdout",
     "output_type": "stream",
     "text": [
      "Wall time: 37.4 s\n"
     ]
    }
   ],
   "source": [
    "%%time\n",
    "\n",
    "X_embedded = TSNE(n_components=2).fit_transform(X)"
   ]
  },
  {
   "cell_type": "code",
   "execution_count": 28,
   "metadata": {},
   "outputs": [
    {
     "name": "stdout",
     "output_type": "stream",
     "text": [
      "Wall time: 40.9 s\n"
     ]
    }
   ],
   "source": [
    "%%time\n",
    "\n",
    "X_scaled_embedded = TSNE(n_components=2).fit_transform(X_scaled)"
   ]
  },
  {
   "cell_type": "code",
   "execution_count": 29,
   "metadata": {},
   "outputs": [
    {
     "data": {
      "image/png": "[encoded data removed]",
      "text/plain": [
       "<Figure size 1224x720 with 2 Axes>"
      ]
     },
     "metadata": {
      "needs_background": "light"
     },
     "output_type": "display_data"
    }
   ],
   "source": [
    "plt.figure(figsize=(17,10))\n",
    "\n",
    "plot_tsne(121, 'X', X_embedded, y)\n",
    "plot_tsne(122, 'X_scaled', X_scaled_embedded, y)\n",
    "\n",
    "plt.show();"
   ]
  },
  {
   "cell_type": "markdown",
   "metadata": {},
   "source": [
    "## 3.  _Simple classification attempt_"
   ]
  },
  {
   "cell_type": "markdown",
   "metadata": {},
   "source": [
    "Чтобы проверить предположение из п.<b>2</b> попробуем применить для классификации как раз метод __kNN__."
   ]
  },
  {
   "cell_type": "code",
   "execution_count": 30,
   "metadata": {},
   "outputs": [],
   "source": [
    "from sklearn.neighbors import KNeighborsClassifier\n",
    "\n",
    "from sklearn.model_selection import GridSearchCV\n",
    "from sklearn.model_selection import StratifiedKFold\n",
    "from sklearn.model_selection import train_test_split"
   ]
  },
  {
   "cell_type": "code",
   "execution_count": 31,
   "metadata": {},
   "outputs": [
    {
     "name": "stdout",
     "output_type": "stream",
     "text": [
      "(2067, 18) (2067,)\n",
      "(517, 18) (517,)\n"
     ]
    }
   ],
   "source": [
    "X_scaled_emb_train, X_scaled_emb_test, X_scaled_train, X_scaled_test, X_train, X_test, y_train, y_test = \\\n",
    "    train_test_split(X_scaled_embedded, X_scaled, X, y, train_size=0.8, random_state=201)\n",
    "\n",
    "print(X_train.shape, y_train.shape)\n",
    "print(X_test.shape, y_test.shape)"
   ]
  },
  {
   "cell_type": "code",
   "execution_count": 32,
   "metadata": {},
   "outputs": [
    {
     "name": "stdout",
     "output_type": "stream",
     "text": [
      "(1931, 18)\n"
     ]
    }
   ],
   "source": [
    "# часть тренировочного датасета, очищенная от аномалий\n",
    "X_train_inliers = X_train.iloc[np.argwhere(y_train == 1).squeeze()]\n",
    "X_scaled_train_inliers = X_scaled_train.iloc[np.argwhere(y_train == 1).squeeze()]\n",
    "\n",
    "print(X_train_inliers.shape)"
   ]
  },
  {
   "cell_type": "code",
   "execution_count": 33,
   "metadata": {},
   "outputs": [
    {
     "name": "stdout",
     "output_type": "stream",
     "text": [
      "Wall time: 8.25 s\n"
     ]
    }
   ],
   "source": [
    "%%time\n",
    "\n",
    "knn_grid_params = {\n",
    "    'n_neighbors': list(range(1,10)),\n",
    "    'weights': ['uniform', 'distance'],\n",
    "    'algorithm': ['auto'],\n",
    "    'leaf_size': [30],\n",
    "    'metric': ['minkowski'],\n",
    "    'p': [2]\n",
    "}\n",
    "\n",
    "gs_knn = GridSearchCV(KNeighborsClassifier(), knn_grid_params, scoring=fbeta_scorer, \n",
    "                      cv=StratifiedKFold(n_splits=4), n_jobs=4)\n",
    "\n",
    "gs_knn.fit(X_scaled_train, y_train)"
   ]
  },
  {
   "cell_type": "code",
   "execution_count": 34,
   "metadata": {},
   "outputs": [
    {
     "data": {
      "text/plain": [
       "KNeighborsClassifier(algorithm='auto', leaf_size=30, metric='minkowski',\n",
       "           metric_params=None, n_jobs=None, n_neighbors=2, p=2,\n",
       "           weights='uniform')"
      ]
     },
     "execution_count": 34,
     "metadata": {},
     "output_type": "execute_result"
    }
   ],
   "source": [
    "knn_clf = gs_knn.best_estimator_\n",
    "\n",
    "knn_clf"
   ]
  },
  {
   "cell_type": "code",
   "execution_count": 35,
   "metadata": {},
   "outputs": [],
   "source": [
    "y_pred = knn_clf.predict(X_scaled_test)"
   ]
  },
  {
   "cell_type": "code",
   "execution_count": 36,
   "metadata": {},
   "outputs": [],
   "source": [
    "def print_test_scoring(clf_name, y_test, y_pred, best_train_score=None):\n",
    "    if not best_train_score is None:\n",
    "        print('[{}] Best train score: {:.5f}'.format(clf_name, best_train_score))\n",
    "        print('*' * 40)\n",
    "        print()\n",
    "    print('[{}] F-beta for test: {:.5f}'.format(clf_name, fbeta_score(y_test, y_pred, beta=beta, pos_label=-1)))\n",
    "    print()\n",
    "    print( classification_report(y_test, y_pred) )\n",
    "    print('*' * 40)\n",
    "    print()\n",
    "    print('[{}] accuracy for test: {:.5f}'.format(clf_name, accuracy_score(y_test, y_pred)))\n",
    "    print('*' * 40)"
   ]
  },
  {
   "cell_type": "code",
   "execution_count": 37,
   "metadata": {},
   "outputs": [
    {
     "name": "stdout",
     "output_type": "stream",
     "text": [
      "[KNN] Best train score: 0.22554\n",
      "****************************************\n",
      "\n",
      "[KNN] F-beta for test: 0.28655\n",
      "\n",
      "              precision    recall  f1-score   support\n",
      "\n",
      "          -1       0.18      0.35      0.24        34\n",
      "           1       0.95      0.89      0.92       483\n",
      "\n",
      "   micro avg       0.85      0.85      0.85       517\n",
      "   macro avg       0.57      0.62      0.58       517\n",
      "weighted avg       0.90      0.85      0.87       517\n",
      "\n",
      "****************************************\n",
      "\n",
      "[KNN] accuracy for test: 0.85300\n",
      "****************************************\n"
     ]
    }
   ],
   "source": [
    "print_test_scoring('KNN', y_test, y_pred, gs_knn.best_score_)"
   ]
  },
  {
   "cell_type": "markdown",
   "metadata": {},
   "source": [
    "Как можно видеть, результат в определении класса <b>(-1)</b>, и, в первую очередь, *__recall__*, не впечатляющий (при этом общий *__accuracy__*, как уже отмечалось, \n",
    "довольно высокий). Очевидно, что это подтверждает предположение о том, что для этого набора данных не выполняется гипотеза компактности."
   ]
  },
  {
   "cell_type": "markdown",
   "metadata": {},
   "source": [
    "## 4.  _Anomalies detection_"
   ]
  },
  {
   "cell_type": "markdown",
   "metadata": {},
   "source": [
    "<i>Возможно, не совсем хорошо обучать **OneClassSVM** и **EllipticEnvelope** на датасетах, которые включают в том числе аномалии $-$ класс <b>(-1)</b>, но иначе, видимо, требуется использовать более сложную технику при кросс-валидации через grid search</i>."
   ]
  },
  {
   "cell_type": "markdown",
   "metadata": {},
   "source": [
    "### _4.1 LOF_"
   ]
  },
  {
   "cell_type": "code",
   "execution_count": 38,
   "metadata": {},
   "outputs": [],
   "source": [
    "from sklearn.neighbors import LocalOutlierFactor"
   ]
  },
  {
   "cell_type": "code",
   "execution_count": 39,
   "metadata": {},
   "outputs": [
    {
     "data": {
      "text/plain": [
       "array([0.01      , 0.04333333, 0.07666667, 0.11      , 0.14333333,\n",
       "       0.17666667, 0.21      , 0.24333333, 0.27666667, 0.31      ])"
      ]
     },
     "execution_count": 39,
     "metadata": {},
     "output_type": "execute_result"
    }
   ],
   "source": [
    "0.01 + np.linspace(0.0, 0.3, 10)"
   ]
  },
  {
   "cell_type": "code",
   "execution_count": 40,
   "metadata": {},
   "outputs": [
    {
     "name": "stdout",
     "output_type": "stream",
     "text": [
      "Wall time: 1min 40s\n"
     ]
    }
   ],
   "source": [
    "%%time\n",
    "\n",
    "lof = LocalOutlierFactor()\n",
    "\n",
    "lof_grid_params = {\n",
    "    'algorithm' : ['ball_tree', 'kd_tree', 'brute'],\n",
    "    'n_neighbors' : list(range(2,10)),\n",
    "    'contamination' : 0.01 + np.linspace(0.0, 0.3, 10),\n",
    "    'novelty' : [True]\n",
    "}\n",
    "\n",
    "gs_lof = GridSearchCV(lof, lof_grid_params, scoring=fbeta_scorer, cv=StratifiedKFold(n_splits=4), n_jobs=4)\n",
    "\n",
    "gs_lof.fit(X_scaled_train, y_train)"
   ]
  },
  {
   "cell_type": "code",
   "execution_count": 41,
   "metadata": {},
   "outputs": [],
   "source": [
    "def print_precision(y_test, y_pred):\n",
    "    print('Precision: [1] {:.2f}, [-1] {:.2f}'.format(1 - target_decode(y_test[y_pred == 1]).mean(),\n",
    "                                                      target_decode(y_test[y_pred == -1]).mean()))\n",
    "\n",
    "def clf_predict(clf, X_test, y_test):\n",
    "    y_pred = clf.predict(X_test) # {-1, 1}\n",
    "    print_precision(y_test, y_pred)\n",
    "    return y_pred"
   ]
  },
  {
   "cell_type": "code",
   "execution_count": 42,
   "metadata": {},
   "outputs": [
    {
     "data": {
      "text/plain": [
       "LocalOutlierFactor(algorithm='ball_tree', contamination=0.27666666666666667,\n",
       "          leaf_size=30, metric='minkowski', metric_params=None,\n",
       "          n_jobs=None, n_neighbors=2, novelty=True, p=2)"
      ]
     },
     "execution_count": 42,
     "metadata": {},
     "output_type": "execute_result"
    }
   ],
   "source": [
    "lof_clf = gs_lof.best_estimator_\n",
    "\n",
    "lof_clf"
   ]
  },
  {
   "cell_type": "code",
   "execution_count": 43,
   "metadata": {},
   "outputs": [
    {
     "name": "stdout",
     "output_type": "stream",
     "text": [
      "Precision: [1] 0.93, [-1] 0.07\n"
     ]
    }
   ],
   "source": [
    "y_lof_pred = clf_predict(lof_clf, X_scaled_test, y_test)"
   ]
  },
  {
   "cell_type": "code",
   "execution_count": 44,
   "metadata": {},
   "outputs": [
    {
     "name": "stdout",
     "output_type": "stream",
     "text": [
      "[LOF] F-beta for test: 0.15800\n",
      "\n",
      "              precision    recall  f1-score   support\n",
      "\n",
      "          -1       0.07      0.29      0.11        34\n",
      "           1       0.93      0.70      0.80       483\n",
      "\n",
      "   micro avg       0.68      0.68      0.68       517\n",
      "   macro avg       0.50      0.50      0.45       517\n",
      "weighted avg       0.88      0.68      0.76       517\n",
      "\n",
      "****************************************\n",
      "\n",
      "[LOF] accuracy for test: 0.67698\n",
      "****************************************\n"
     ]
    }
   ],
   "source": [
    "print_test_scoring('LOF', y_test, y_lof_pred)"
   ]
  },
  {
   "cell_type": "markdown",
   "metadata": {},
   "source": [
    "### _4.2 One-Class SVM_"
   ]
  },
  {
   "cell_type": "code",
   "execution_count": 45,
   "metadata": {},
   "outputs": [],
   "source": [
    "from sklearn.svm import OneClassSVM"
   ]
  },
  {
   "cell_type": "code",
   "execution_count": 46,
   "metadata": {},
   "outputs": [
    {
     "name": "stdout",
     "output_type": "stream",
     "text": [
      "Wall time: 11.3 s\n"
     ]
    }
   ],
   "source": [
    "%%time\n",
    "\n",
    "ocsvm = OneClassSVM()\n",
    "\n",
    "ocsvm_grid_params = {\n",
    "    'kernel' : ['poly', 'rbf', 'sigmoid'],\n",
    "    'degree' : [2, 3, 5], # poly kernel only\n",
    "    'gamma' : ['auto', 'scale'],\n",
    "    'nu' : [0.05, 0.1, 0.2, 0.3]\n",
    "}\n",
    "\n",
    "gs_ocsvm = GridSearchCV(ocsvm, ocsvm_grid_params, scoring=fbeta_scorer, cv=StratifiedKFold(n_splits=4), n_jobs=4)\n",
    "\n",
    "gs_ocsvm.fit(X_scaled_train, y_train)"
   ]
  },
  {
   "cell_type": "code",
   "execution_count": 47,
   "metadata": {},
   "outputs": [
    {
     "data": {
      "text/plain": [
       "OneClassSVM(cache_size=200, coef0=0.0, degree=2, gamma='scale', kernel='rbf',\n",
       "      max_iter=-1, nu=0.3, random_state=None, shrinking=True, tol=0.001,\n",
       "      verbose=False)"
      ]
     },
     "execution_count": 47,
     "metadata": {},
     "output_type": "execute_result"
    }
   ],
   "source": [
    "ocsvm_clf = gs_ocsvm.best_estimator_\n",
    "\n",
    "ocsvm_clf"
   ]
  },
  {
   "cell_type": "code",
   "execution_count": 48,
   "metadata": {},
   "outputs": [
    {
     "name": "stdout",
     "output_type": "stream",
     "text": [
      "Precision: [1] 0.96, [-1] 0.13\n"
     ]
    }
   ],
   "source": [
    "y_ocsvm_pred = clf_predict(ocsvm_clf, X_scaled_test, y_test)"
   ]
  },
  {
   "cell_type": "code",
   "execution_count": 49,
   "metadata": {},
   "outputs": [
    {
     "name": "stdout",
     "output_type": "stream",
     "text": [
      "[OneClassSVM] Best train score: 0.28838\n",
      "****************************************\n",
      "\n",
      "[OneClassSVM] F-beta for test: 0.30615\n",
      "\n",
      "              precision    recall  f1-score   support\n",
      "\n",
      "          -1       0.13      0.56      0.21        34\n",
      "           1       0.96      0.73      0.83       483\n",
      "\n",
      "   micro avg       0.72      0.72      0.72       517\n",
      "   macro avg       0.54      0.65      0.52       517\n",
      "weighted avg       0.90      0.72      0.79       517\n",
      "\n",
      "****************************************\n",
      "\n",
      "[OneClassSVM] accuracy for test: 0.72147\n",
      "****************************************\n"
     ]
    }
   ],
   "source": [
    "print_test_scoring('OneClassSVM', y_test, y_ocsvm_pred, gs_ocsvm.best_score_)"
   ]
  },
  {
   "cell_type": "markdown",
   "metadata": {},
   "source": [
    "### _4.3 IsolationForest_"
   ]
  },
  {
   "cell_type": "code",
   "execution_count": 50,
   "metadata": {},
   "outputs": [],
   "source": [
    "from sklearn.ensemble import IsolationForest"
   ]
  },
  {
   "cell_type": "code",
   "execution_count": 51,
   "metadata": {},
   "outputs": [
    {
     "name": "stdout",
     "output_type": "stream",
     "text": [
      "Wall time: 56.5 s\n"
     ]
    }
   ],
   "source": [
    "%%time\n",
    "\n",
    "iforest = IsolationForest()\n",
    "\n",
    "iforest_grid_params = {\n",
    "    'contamination' : np.linspace(0.0, 0.3, 10),\n",
    "    'max_features' : np.linspace(0.5, 1.0, 6),\n",
    "}\n",
    "\n",
    "gs_iforest = GridSearchCV(iforest, iforest_grid_params, scoring=fbeta_scorer, cv=StratifiedKFold(n_splits=4), n_jobs=4)\n",
    "\n",
    "gs_iforest.fit(X_train, y_train)"
   ]
  },
  {
   "cell_type": "code",
   "execution_count": 52,
   "metadata": {},
   "outputs": [
    {
     "data": {
      "text/plain": [
       "IsolationForest(behaviour='old', bootstrap=False,\n",
       "        contamination=0.26666666666666666, max_features=0.6,\n",
       "        max_samples='auto', n_estimators=100, n_jobs=None,\n",
       "        random_state=None, verbose=0)"
      ]
     },
     "execution_count": 52,
     "metadata": {},
     "output_type": "execute_result"
    }
   ],
   "source": [
    "iforest_clf = gs_iforest.best_estimator_\n",
    "\n",
    "iforest_clf"
   ]
  },
  {
   "cell_type": "code",
   "execution_count": 53,
   "metadata": {},
   "outputs": [
    {
     "name": "stdout",
     "output_type": "stream",
     "text": [
      "Precision: [1] 0.96, [-1] 0.14\n"
     ]
    }
   ],
   "source": [
    "y_iforest_pred = clf_predict(iforest_clf, X_test, y_test)"
   ]
  },
  {
   "cell_type": "code",
   "execution_count": 54,
   "metadata": {},
   "outputs": [
    {
     "name": "stdout",
     "output_type": "stream",
     "text": [
      "[IsolationForest] Best train score: 0.33200\n",
      "****************************************\n",
      "\n",
      "[IsolationForest] F-beta for test: 0.32551\n",
      "\n",
      "              precision    recall  f1-score   support\n",
      "\n",
      "          -1       0.14      0.56      0.23        34\n",
      "           1       0.96      0.76      0.85       483\n",
      "\n",
      "   micro avg       0.75      0.75      0.75       517\n",
      "   macro avg       0.55      0.66      0.54       517\n",
      "weighted avg       0.91      0.75      0.81       517\n",
      "\n",
      "****************************************\n",
      "\n",
      "[IsolationForest] accuracy for test: 0.75048\n",
      "****************************************\n"
     ]
    }
   ],
   "source": [
    "print_test_scoring('IsolationForest', y_test, y_iforest_pred, gs_iforest.best_score_)"
   ]
  },
  {
   "cell_type": "markdown",
   "metadata": {},
   "source": [
    "### _4.4 EllipticEnvelope_"
   ]
  },
  {
   "cell_type": "code",
   "execution_count": 55,
   "metadata": {},
   "outputs": [],
   "source": [
    "from sklearn.covariance import EllipticEnvelope"
   ]
  },
  {
   "cell_type": "code",
   "execution_count": 56,
   "metadata": {},
   "outputs": [
    {
     "name": "stdout",
     "output_type": "stream",
     "text": [
      "Wall time: 13.9 s\n"
     ]
    }
   ],
   "source": [
    "%%time\n",
    "\n",
    "ee = EllipticEnvelope()\n",
    "\n",
    "ee_grid_params = {\n",
    "    'contamination' : np.linspace(0.0, 0.3, 10),\n",
    "}\n",
    "\n",
    "gs_ee = GridSearchCV(ee, ee_grid_params, scoring=fbeta_scorer, cv=StratifiedKFold(n_splits=4), n_jobs=4)\n",
    "\n",
    "gs_ee.fit(X_scaled_train, y_train)"
   ]
  },
  {
   "cell_type": "code",
   "execution_count": 57,
   "metadata": {},
   "outputs": [
    {
     "data": {
      "text/plain": [
       "EllipticEnvelope(assume_centered=False, contamination=0.3, random_state=None,\n",
       "         store_precision=True, support_fraction=None)"
      ]
     },
     "execution_count": 57,
     "metadata": {},
     "output_type": "execute_result"
    }
   ],
   "source": [
    "ee_clf = gs_ee.best_estimator_\n",
    "\n",
    "ee_clf"
   ]
  },
  {
   "cell_type": "code",
   "execution_count": 58,
   "metadata": {},
   "outputs": [
    {
     "name": "stdout",
     "output_type": "stream",
     "text": [
      "Precision: [1] 0.97, [-1] 0.14\n"
     ]
    }
   ],
   "source": [
    "y_ee_pred = clf_predict(ee_clf, X_scaled_test, y_test)"
   ]
  },
  {
   "cell_type": "code",
   "execution_count": 59,
   "metadata": {},
   "outputs": [
    {
     "name": "stdout",
     "output_type": "stream",
     "text": [
      "[EllipticEnvelope] Best train score: 0.33338\n",
      "****************************************\n",
      "\n",
      "[EllipticEnvelope] F-beta for test: 0.34625\n",
      "\n",
      "              precision    recall  f1-score   support\n",
      "\n",
      "          -1       0.14      0.65      0.23        34\n",
      "           1       0.97      0.73      0.83       483\n",
      "\n",
      "   micro avg       0.72      0.72      0.72       517\n",
      "   macro avg       0.55      0.69      0.53       517\n",
      "weighted avg       0.91      0.72      0.79       517\n",
      "\n",
      "****************************************\n",
      "\n",
      "[EllipticEnvelope] accuracy for test: 0.72147\n",
      "****************************************\n"
     ]
    }
   ],
   "source": [
    "print_test_scoring('EllipticEnvelope', y_test, y_ee_pred, gs_ee.best_score_)"
   ]
  },
  {
   "cell_type": "markdown",
   "metadata": {},
   "source": [
    "Как можно видеть, точность (*__precision__*) в определении класса <b>(-1)</b> не очень высокая, однако *__recall__* относительно повысить получилось (что, собственно, и было целью)."
   ]
  },
  {
   "cell_type": "markdown",
   "metadata": {},
   "source": [
    "## 5.  _Predictions visualization_"
   ]
  },
  {
   "cell_type": "code",
   "execution_count": 60,
   "metadata": {},
   "outputs": [],
   "source": [
    "def plot_real_vs_predicted(X, y_test, y_pred):\n",
    "    plt.figure(figsize=(17,10))\n",
    "    \n",
    "    def subplot(nrc, title, X, y):\n",
    "        plt.subplot(nrc)\n",
    "        plt.title(title)\n",
    "        for u in sorted(np.unique(y), reverse=True):\n",
    "            ix = np.argwhere(y == u).squeeze()\n",
    "            plt.scatter(X[ix, 0], X[ix, 1], label='class {}'.format(u))\n",
    "        plt.legend(loc=4)\n",
    "        \n",
    "    subplot(121, 'Real', X, y_test)\n",
    "    subplot(122, 'Predicted', X, y_pred)"
   ]
  },
  {
   "cell_type": "code",
   "execution_count": 61,
   "metadata": {},
   "outputs": [
    {
     "data": {
      "image/png": "[encoded data removed]",
      "text/plain": [
       "<Figure size 1224x720 with 2 Axes>"
      ]
     },
     "metadata": {
      "needs_background": "light"
     },
     "output_type": "display_data"
    }
   ],
   "source": [
    "plot_real_vs_predicted(X_scaled_emb_test, y_test, y_ee_pred)"
   ]
  }
 ],
 "metadata": {
  "kernelspec": {
   "display_name": "Python 3",
   "language": "python",
   "name": "python3"
  },
  "language_info": {
   "codemirror_mode": {
    "name": "ipython",
    "version": 3
   },
   "file_extension": ".py",
   "mimetype": "text/x-python",
   "name": "python",
   "nbconvert_exporter": "python",
   "pygments_lexer": "ipython3",
   "version": "3.7.2"
  }
 },
 "nbformat": 4,
 "nbformat_minor": 2
}
