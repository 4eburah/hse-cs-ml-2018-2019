{
 "cells": [
  {
   "cell_type": "markdown",
   "metadata": {},
   "source": [
    "## 0. _Pre-processing_ "
   ]
  },
  {
   "cell_type": "code",
   "execution_count": 1,
   "metadata": {},
   "outputs": [],
   "source": [
    "import pandas as pd\n",
    "import numpy as np"
   ]
  },
  {
   "cell_type": "code",
   "execution_count": 2,
   "metadata": {},
   "outputs": [
    {
     "name": "stderr",
     "output_type": "stream",
     "text": [
      "<string>:2: DtypeWarning: Columns (47,73) have mixed types. Specify dtype option on import or set low_memory=False.\n"
     ]
    },
    {
     "name": "stdout",
     "output_type": "stream",
     "text": [
      "Wall time: 57.1 s\n"
     ]
    }
   ],
   "source": [
    "%%time\n",
    "\n",
    "bottle_full = pd.read_csv('bottle.csv')"
   ]
  },
  {
   "cell_type": "code",
   "execution_count": 3,
   "metadata": {},
   "outputs": [
    {
     "data": {
      "text/plain": [
       "(864863, 74)"
      ]
     },
     "execution_count": 3,
     "metadata": {},
     "output_type": "execute_result"
    }
   ],
   "source": [
    "bottle_full.shape"
   ]
  },
  {
   "cell_type": "code",
   "execution_count": 4,
   "metadata": {},
   "outputs": [
    {
     "data": {
      "text/plain": [
       "float64    65\n",
       "int64       5\n",
       "object      4\n",
       "dtype: int64"
      ]
     },
     "execution_count": 4,
     "metadata": {},
     "output_type": "execute_result"
    }
   ],
   "source": [
    "bottle_full.get_dtype_counts()"
   ]
  },
  {
   "cell_type": "code",
   "execution_count": 5,
   "metadata": {},
   "outputs": [
    {
     "data": {
      "text/plain": [
       "(853900, 65)"
      ]
     },
     "execution_count": 5,
     "metadata": {},
     "output_type": "execute_result"
    }
   ],
   "source": [
    "bottle = bottle_full.dropna(0, subset=['T_degC'])\n",
    "bottle = bottle.select_dtypes(include=[np.float64])\n",
    "bottle.shape"
   ]
  },
  {
   "cell_type": "markdown",
   "metadata": {},
   "source": [
    "## 1. _Quality metrics_ "
   ]
  },
  {
   "cell_type": "markdown",
   "metadata": {},
   "source": [
    "Я решил повторить действия из [семинара 5](https://github.com/HolyBayes/HSE_ML_2018-2019/blob/master/Seminars/Lesson_5.ipynb) и использовать модель линейной регрессии `ElasticNet`.\n",
    "Но здесь проблема в том, что у `ElasticNetCV` нет параметра `scoring` и туда сейчас просто [зашит](https://scikit-learn.org/stable/modules/generated/sklearn.linear_model.ElasticNetCV.html#sklearn.linear_model.ElasticNetCV.score) _коэффициент детерминации_ $R^2$, то есть, в данном случае возможности выбора метрики для кросс-валидации нет.\n",
    "\n",
    "Из постановки задачи $-$ предсказание температуры воды $-$ не получается сделать вывод о необходимости асимметричной метрики (ошибка предсказания температуры в любую сторону выглядит равнозначной).\n",
    "\n",
    "Для интереса, при оценке качества предсказания на тестовом датасете попробую также применить метрику MAE."
   ]
  },
  {
   "cell_type": "code",
   "execution_count": 6,
   "metadata": {},
   "outputs": [],
   "source": [
    "from sklearn.metrics import r2_score\n",
    "from sklearn.metrics import mean_absolute_error\n",
    "from sklearn.metrics import mean_squared_error"
   ]
  },
  {
   "cell_type": "markdown",
   "metadata": {},
   "source": [
    "## 2. _Regression models_ "
   ]
  },
  {
   "cell_type": "code",
   "execution_count": 7,
   "metadata": {},
   "outputs": [],
   "source": [
    "def model_fit_predict(model_pipeline, X_train, y_train, X_test, y_test):\n",
    "    model = model_pipeline.fit(X_train, y_train)\n",
    "    print('l1_ratio: {:.2f}, n_iter: {}'.format(model.named_steps['model'].l1_ratio_,model.named_steps['model'].n_iter_))\n",
    "    y_pred = model_pipeline.predict(X_test)\n",
    "    print('R2: {:.3f}'.format(r2_score(y_test, y_pred)))\n",
    "    print('MAE: {:.3f}'.format(mean_absolute_error(y_test, y_pred)))\n",
    "    print('MSE: {:.3f}'.format(mean_squared_error(y_test, y_pred)))"
   ]
  },
  {
   "cell_type": "markdown",
   "metadata": {},
   "source": [
    "### _2.1 Preparation_"
   ]
  },
  {
   "cell_type": "code",
   "execution_count": 8,
   "metadata": {},
   "outputs": [],
   "source": [
    "from sklearn.pipeline import Pipeline\n",
    "from sklearn.preprocessing import StandardScaler\n",
    "from sklearn.impute import SimpleImputer"
   ]
  },
  {
   "cell_type": "code",
   "execution_count": 9,
   "metadata": {},
   "outputs": [],
   "source": [
    "X, y = bottle.drop('T_degC',  1), bottle['T_degC']"
   ]
  },
  {
   "cell_type": "code",
   "execution_count": 10,
   "metadata": {},
   "outputs": [],
   "source": [
    "imputer_scaler = Pipeline([\n",
    "    ('imputer', SimpleImputer(missing_values=np.nan, strategy='mean')),\n",
    "    ('scaling', StandardScaler())\n",
    "])\n",
    "\n",
    "X_scaled = imputer_scaler.fit_transform(X, y)"
   ]
  },
  {
   "cell_type": "markdown",
   "metadata": {},
   "source": [
    "#### _2.1.1 PCA_"
   ]
  },
  {
   "cell_type": "markdown",
   "metadata": {},
   "source": [
    "Если простую линейную регрессию ещё можно посчитать на полном датасете, то, для того чтобы добавить комбинации признаков более высоких порядков, предварительно надо сжать простанство признаков."
   ]
  },
  {
   "cell_type": "code",
   "execution_count": 11,
   "metadata": {},
   "outputs": [],
   "source": [
    "from sklearn.decomposition import PCA"
   ]
  },
  {
   "cell_type": "code",
   "execution_count": 12,
   "metadata": {},
   "outputs": [],
   "source": [
    "pca = PCA(n_components=12)\n",
    "X_pca = pca.fit_transform(X_scaled)"
   ]
  },
  {
   "cell_type": "code",
   "execution_count": 13,
   "metadata": {},
   "outputs": [
    {
     "name": "stdout",
     "output_type": "stream",
     "text": [
      "Explained variance for 12 components: 0.675\n",
      "Explained variance for 9 components: 0.592\n",
      "Explained variance for 6 components: 0.488\n",
      "Explained variance for 3 components: 0.349\n"
     ]
    }
   ],
   "source": [
    "for n in range(len(pca.explained_variance_ratio_), 0, -3):\n",
    "    print( 'Explained variance for {} components: {:.3f}'.format(n, sum(pca.explained_variance_ratio_[:n])) )"
   ]
  },
  {
   "cell_type": "markdown",
   "metadata": {},
   "source": [
    "#### _2.1.2 Splitting_"
   ]
  },
  {
   "cell_type": "code",
   "execution_count": 14,
   "metadata": {},
   "outputs": [],
   "source": [
    "from sklearn.model_selection import train_test_split"
   ]
  },
  {
   "cell_type": "code",
   "execution_count": 15,
   "metadata": {},
   "outputs": [],
   "source": [
    "X_train, X_test, X_scaled_train, X_scaled_test, X_pca_train, X_pca_test, \\\n",
    "    y_train, y_test = train_test_split(X, X_scaled, X_pca, y, test_size=0.2, random_state=223)"
   ]
  },
  {
   "cell_type": "code",
   "execution_count": 16,
   "metadata": {},
   "outputs": [
    {
     "data": {
      "text/plain": [
       "((683120, 64), (170780, 64))"
      ]
     },
     "execution_count": 16,
     "metadata": {},
     "output_type": "execute_result"
    }
   ],
   "source": [
    "X_train.shape, X_test.shape"
   ]
  },
  {
   "cell_type": "markdown",
   "metadata": {},
   "source": [
    "### _2.2 Linear_"
   ]
  },
  {
   "cell_type": "code",
   "execution_count": 17,
   "metadata": {},
   "outputs": [],
   "source": [
    "from sklearn.linear_model import ElasticNetCV"
   ]
  },
  {
   "cell_type": "code",
   "execution_count": 18,
   "metadata": {},
   "outputs": [],
   "source": [
    "linear_model = Pipeline([\n",
    "    ('model', ElasticNetCV(l1_ratio=[.1, .5, .7, .9, .95, .99, 1], cv=4, n_jobs=4, max_iter=512))\n",
    "])"
   ]
  },
  {
   "cell_type": "markdown",
   "metadata": {},
   "source": [
    "#### _2.2.1 Linear regression on PCA-reduced dataset_"
   ]
  },
  {
   "cell_type": "code",
   "execution_count": 19,
   "metadata": {},
   "outputs": [
    {
     "name": "stdout",
     "output_type": "stream",
     "text": [
      "l1_ratio: 1.00, n_iter: 3\n",
      "R2: 0.783\n",
      "MAE: 1.353\n",
      "MSE: 3.916\n",
      "Wall time: 59.9 s\n"
     ]
    }
   ],
   "source": [
    "%%time\n",
    "\n",
    "model_fit_predict(linear_model, X_pca_train, y_train, X_pca_test, y_test)"
   ]
  },
  {
   "cell_type": "markdown",
   "metadata": {},
   "source": [
    "#### _2.2.2 Linear regression on full dataset_"
   ]
  },
  {
   "cell_type": "code",
   "execution_count": 20,
   "metadata": {},
   "outputs": [
    {
     "name": "stdout",
     "output_type": "stream",
     "text": [
      "l1_ratio: 1.00, n_iter: 369\n",
      "R2: 1.000\n",
      "MAE: 0.004\n",
      "MSE: 0.000\n",
      "Wall time: 4min 26s\n"
     ]
    }
   ],
   "source": [
    "%%time\n",
    "\n",
    "model_fit_predict(linear_model, X_scaled_train, y_train, X_scaled_test, y_test)"
   ]
  },
  {
   "cell_type": "markdown",
   "metadata": {},
   "source": [
    "### _2.3 Poly$^2$_"
   ]
  },
  {
   "cell_type": "code",
   "execution_count": 21,
   "metadata": {},
   "outputs": [],
   "source": [
    "from sklearn.preprocessing import PolynomialFeatures"
   ]
  },
  {
   "cell_type": "code",
   "execution_count": 22,
   "metadata": {},
   "outputs": [
    {
     "name": "stdout",
     "output_type": "stream",
     "text": [
      "l1_ratio: 0.70, n_iter: 232\n",
      "R2: 0.790\n",
      "MAE: 1.341\n",
      "MSE: 3.788\n",
      "Wall time: 6min 20s\n"
     ]
    }
   ],
   "source": [
    "%%time\n",
    "\n",
    "poly2_model = Pipeline([\n",
    "    ('features', PolynomialFeatures(2)),\n",
    "    ('model', ElasticNetCV(l1_ratio=[.1, .5, .7, .9, .95, .99, 1], cv=4, n_jobs=4, max_iter=8192))\n",
    "])\n",
    "\n",
    "model_fit_predict(poly2_model, X_pca_train, y_train, X_pca_test, y_test)"
   ]
  },
  {
   "cell_type": "markdown",
   "metadata": {},
   "source": [
    "### _2.4 Poly$^3$_"
   ]
  },
  {
   "cell_type": "markdown",
   "metadata": {},
   "source": [
    "Пришлось ограничить размер тренингового датасета, потому что иначе очень долго считает."
   ]
  },
  {
   "cell_type": "code",
   "execution_count": 23,
   "metadata": {},
   "outputs": [],
   "source": [
    "_, X_short_pca_train, _, y_short_train = train_test_split(X_pca_train, y_train, test_size=0.2, random_state=229)"
   ]
  },
  {
   "cell_type": "code",
   "execution_count": 24,
   "metadata": {},
   "outputs": [
    {
     "name": "stdout",
     "output_type": "stream",
     "text": [
      "l1_ratio: 1.00, n_iter: 2\n",
      "R2: 0.000\n",
      "MAE: 3.489\n",
      "MSE: 18.031\n",
      "Wall time: 4min 46s\n"
     ]
    }
   ],
   "source": [
    "%%time\n",
    "\n",
    "poly3_model = Pipeline([\n",
    "    ('features', PolynomialFeatures(3)),\n",
    "    ('model', ElasticNetCV(l1_ratio=[.1, .5, .7, .9, .95, .99, 1], cv=4, n_jobs=4, max_iter=131072))\n",
    "])\n",
    "\n",
    "model_fit_predict(poly3_model, X_short_pca_train, y_short_train, X_pca_test, y_test)"
   ]
  },
  {
   "cell_type": "markdown",
   "metadata": {},
   "source": [
    "В итоге ничего хорошего и не насчитал)\n",
    "Модель с кубическими комбинациями признаков явно не подходит для нашего датасета."
   ]
  },
  {
   "cell_type": "markdown",
   "metadata": {},
   "source": [
    "### _2.5 FunctionTransformer_"
   ]
  },
  {
   "cell_type": "code",
   "execution_count": 25,
   "metadata": {},
   "outputs": [],
   "source": [
    "from sklearn.preprocessing import FunctionTransformer"
   ]
  },
  {
   "cell_type": "code",
   "execution_count": 26,
   "metadata": {},
   "outputs": [
    {
     "name": "stdout",
     "output_type": "stream",
     "text": [
      "l1_ratio: 1.00, n_iter: 40\n",
      "R2: 0.730\n",
      "MAE: 1.657\n",
      "MSE: 4.872\n",
      "Wall time: 55.7 s\n"
     ]
    }
   ],
   "source": [
    "%%time\n",
    "\n",
    "ft_model = Pipeline([\n",
    "    ('transformer', FunctionTransformer(np.tanh, validate=True)),\n",
    "    ('model', ElasticNetCV(l1_ratio=[.1, .5, .7, .9, .95, .99, 1], cv=4, n_jobs=4, max_iter=4096))\n",
    "])\n",
    "\n",
    "model_fit_predict(ft_model, X_pca_train, y_train, X_pca_test, y_test)"
   ]
  },
  {
   "cell_type": "markdown",
   "metadata": {},
   "source": [
    "## 3. _Scaling required?_"
   ]
  },
  {
   "cell_type": "markdown",
   "metadata": {},
   "source": [
    "Модели, имеющие в основе `ElasticNet` - линейную модель с регуляризацией - требуют стандартизованных данных.\n",
    "\n",
    "`rbf` ядро `SVR` рассчитывает расстояния между многомерными векторами, и, соответственно, также должно использовать стандартизованные данные.\n",
    "\n",
    "Вообще, насколько я понял, для простой линейной регрессии стандартизация технически не требуется, хотя, скорее всего, для более очевидной интерпретации результатов (весов признаков), её лучше делать в любом случае, потому что делением на СКО мы фактически делаем величину безразмерной."
   ]
  },
  {
   "cell_type": "markdown",
   "metadata": {},
   "source": [
    "## 4. _Overall quality_"
   ]
  },
  {
   "cell_type": "markdown",
   "metadata": {},
   "source": [
    "Как можно видеть по метрикам качества, обычная линейная регрессия на полном наборе признаков даёт почти идеальное предсказание. Так что с этой точки зрения можно утверждать, что существует очевидная зависимость температуры воды от химических показателей (хотя, вероятно, тут можно порассуждать, насколько применение `Imputer(mean)` могло на это повлиять).\n",
    "\n",
    "Что касается сжатого с помощью **PCA** датасета, то здесь, видимо, можно сделать два вывода:\n",
    "1. Даже на сокращённом датасете качество предсказания целевой переменной достаточно приемлемое.\n",
    "2. В данном случае, видимо, особого смысла добавлять признаки более высоких порядков нет, потому что вычислительная сложность увеличивается, а существенного прироста точности предсказания это не даёт. "
   ]
  }
 ],
 "metadata": {
  "kernelspec": {
   "display_name": "Python 3",
   "language": "python",
   "name": "python3"
  },
  "language_info": {
   "codemirror_mode": {
    "name": "ipython",
    "version": 3
   },
   "file_extension": ".py",
   "mimetype": "text/x-python",
   "name": "python",
   "nbconvert_exporter": "python",
   "pygments_lexer": "ipython3",
   "version": "3.7.2"
  }
 },
 "nbformat": 4,
 "nbformat_minor": 2
}
