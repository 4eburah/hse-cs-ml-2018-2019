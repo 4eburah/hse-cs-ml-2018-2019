{
 "cells": [
  {
   "cell_type": "markdown",
   "metadata": {},
   "source": [
    "## Интерактивная визуализация\n",
    "[Визуализация](https://playground.tensorflow.org)\n",
    "\n",
    "![](https://www.cs.umd.edu/~tomg/img/landscapes/notresnet110.png)\n",
    "\n",
    "![](http://ruder.io/content/images/2016/09/saddle_point_evaluation_optimizers.gif)\n",
    "\n",
    "![](http://ruder.io/content/images/2016/09/contours_evaluation_optimizers.gif)"
   ]
  },
  {
   "cell_type": "markdown",
   "metadata": {},
   "source": [
    "# Нейронные сети. Практика"
   ]
  },
  {
   "cell_type": "code",
   "execution_count": 1,
   "metadata": {},
   "outputs": [],
   "source": [
    "# !pip install http://download.pytorch.org/whl/cu92/torch-0.4.1-cp36-cp36m-linux_x86_64.whl"
   ]
  },
  {
   "cell_type": "code",
   "execution_count": 2,
   "metadata": {},
   "outputs": [
    {
     "data": {
      "text/plain": [
       "True"
      ]
     },
     "execution_count": 2,
     "metadata": {},
     "output_type": "execute_result"
    }
   ],
   "source": [
    "import torch\n",
    "from torch import nn\n",
    "import torch.nn.functional as F\n",
    "\n",
    "torch.cuda.is_available()"
   ]
  },
  {
   "cell_type": "code",
   "execution_count": 10,
   "metadata": {},
   "outputs": [],
   "source": [
    "import numpy\n",
    "import pandas as pd\n",
    "import matplotlib.pyplot as plt\n",
    "\n",
    "from sklearn.metrics import roc_auc_score, roc_curve\n",
    "from sklearn.preprocessing import StandardScaler\n",
    "from sklearn.model_selection import train_test_split\n",
    "\n",
    "RND_SEED = 7\n",
    "plt.style.use('ggplot')\n",
    "\n",
    "numpy.random.seed(RND_SEED)\n",
    "\n",
    "%matplotlib inline\n",
    "\n",
    "# # код ниже нужен для чтения файлов с google drive \n",
    "# from google.colab import drive\n",
    "# drive.mount('/content/gdrive')\n"
   ]
  },
  {
   "cell_type": "markdown",
   "metadata": {},
   "source": [
    "# Классификация"
   ]
  },
  {
   "cell_type": "markdown",
   "metadata": {},
   "source": [
    "## Загрузка данных"
   ]
  },
  {
   "cell_type": "markdown",
   "metadata": {},
   "source": [
    "Для тренеровки мы будем использовать достаточно известный набор данных [Pima Indians](http://archive.ics.uci.edu/ml/datasets/Pima+Indians+Diabetes).\n",
    "\n",
    "Признаки такие: <br\\>\n",
    "1. Number of times pregnant\n",
    "2. Plasma glucose concentration a 2 hours in an oral glucose tolerance test\n",
    "3. Diastolic blood pressure (mm Hg)\n",
    "4. Triceps skin fold thickness (mm)\n",
    "5. 2-Hour serum insulin (mu U/ml)\n",
    "6. Body mass index (weight in kg/(height in m)^2)\n",
    "7. Diabetes pedigree function\n",
    "8. Age (years)\n",
    "9. Class variable (0 or 1)\n"
   ]
  },
  {
   "cell_type": "code",
   "execution_count": 11,
   "metadata": {},
   "outputs": [],
   "source": [
    "df = pd.read_csv('../data/diabetes.csv', sep=',')\n",
    "# df = pd.read_csv('/content/gdrive/My Drive/Datasets/diabetes.csv', sep=',')"
   ]
  },
  {
   "cell_type": "code",
   "execution_count": 12,
   "metadata": {},
   "outputs": [
    {
     "data": {
      "text/html": [
       "<div>\n",
       "<style scoped>\n",
       "    .dataframe tbody tr th:only-of-type {\n",
       "        vertical-align: middle;\n",
       "    }\n",
       "\n",
       "    .dataframe tbody tr th {\n",
       "        vertical-align: top;\n",
       "    }\n",
       "\n",
       "    .dataframe thead th {\n",
       "        text-align: right;\n",
       "    }\n",
       "</style>\n",
       "<table border=\"1\" class=\"dataframe\">\n",
       "  <thead>\n",
       "    <tr style=\"text-align: right;\">\n",
       "      <th></th>\n",
       "      <th>Pregnancies</th>\n",
       "      <th>Glucose</th>\n",
       "      <th>BloodPressure</th>\n",
       "      <th>SkinThickness</th>\n",
       "      <th>Insulin</th>\n",
       "      <th>BMI</th>\n",
       "      <th>DiabetesPedigreeFunction</th>\n",
       "      <th>Age</th>\n",
       "      <th>Outcome</th>\n",
       "    </tr>\n",
       "  </thead>\n",
       "  <tbody>\n",
       "    <tr>\n",
       "      <th>0</th>\n",
       "      <td>6</td>\n",
       "      <td>148</td>\n",
       "      <td>72</td>\n",
       "      <td>35</td>\n",
       "      <td>0</td>\n",
       "      <td>33.6</td>\n",
       "      <td>0.627</td>\n",
       "      <td>50</td>\n",
       "      <td>1</td>\n",
       "    </tr>\n",
       "    <tr>\n",
       "      <th>1</th>\n",
       "      <td>1</td>\n",
       "      <td>85</td>\n",
       "      <td>66</td>\n",
       "      <td>29</td>\n",
       "      <td>0</td>\n",
       "      <td>26.6</td>\n",
       "      <td>0.351</td>\n",
       "      <td>31</td>\n",
       "      <td>0</td>\n",
       "    </tr>\n",
       "    <tr>\n",
       "      <th>2</th>\n",
       "      <td>8</td>\n",
       "      <td>183</td>\n",
       "      <td>64</td>\n",
       "      <td>0</td>\n",
       "      <td>0</td>\n",
       "      <td>23.3</td>\n",
       "      <td>0.672</td>\n",
       "      <td>32</td>\n",
       "      <td>1</td>\n",
       "    </tr>\n",
       "    <tr>\n",
       "      <th>3</th>\n",
       "      <td>1</td>\n",
       "      <td>89</td>\n",
       "      <td>66</td>\n",
       "      <td>23</td>\n",
       "      <td>94</td>\n",
       "      <td>28.1</td>\n",
       "      <td>0.167</td>\n",
       "      <td>21</td>\n",
       "      <td>0</td>\n",
       "    </tr>\n",
       "    <tr>\n",
       "      <th>4</th>\n",
       "      <td>0</td>\n",
       "      <td>137</td>\n",
       "      <td>40</td>\n",
       "      <td>35</td>\n",
       "      <td>168</td>\n",
       "      <td>43.1</td>\n",
       "      <td>2.288</td>\n",
       "      <td>33</td>\n",
       "      <td>1</td>\n",
       "    </tr>\n",
       "  </tbody>\n",
       "</table>\n",
       "</div>"
      ],
      "text/plain": [
       "   Pregnancies  Glucose  BloodPressure  SkinThickness  Insulin   BMI  \\\n",
       "0            6      148             72             35        0  33.6   \n",
       "1            1       85             66             29        0  26.6   \n",
       "2            8      183             64              0        0  23.3   \n",
       "3            1       89             66             23       94  28.1   \n",
       "4            0      137             40             35      168  43.1   \n",
       "\n",
       "   DiabetesPedigreeFunction  Age  Outcome  \n",
       "0                     0.627   50        1  \n",
       "1                     0.351   31        0  \n",
       "2                     0.672   32        1  \n",
       "3                     0.167   21        0  \n",
       "4                     2.288   33        1  "
      ]
     },
     "execution_count": 12,
     "metadata": {},
     "output_type": "execute_result"
    }
   ],
   "source": [
    "df.head()"
   ]
  },
  {
   "cell_type": "code",
   "execution_count": 13,
   "metadata": {},
   "outputs": [],
   "source": [
    "X, y = df.iloc[:, :8].values, df.iloc[:, 8].values\n",
    "X_train, X_test, y_train, y_test = train_test_split(X, y, test_size=0.2, \n",
    "                                                    random_state=RND_SEED)"
   ]
  },
  {
   "cell_type": "code",
   "execution_count": 14,
   "metadata": {},
   "outputs": [],
   "source": [
    "from sklearn.preprocessing import StandardScaler"
   ]
  },
  {
   "cell_type": "code",
   "execution_count": 15,
   "metadata": {},
   "outputs": [],
   "source": [
    "sc = StandardScaler().fit(X_train)\n",
    "X_train = sc.transform(X_train)\n",
    "X_test = sc.transform(X_test)"
   ]
  },
  {
   "cell_type": "code",
   "execution_count": 16,
   "metadata": {},
   "outputs": [
    {
     "data": {
      "text/plain": [
       "8"
      ]
     },
     "execution_count": 16,
     "metadata": {},
     "output_type": "execute_result"
    }
   ],
   "source": [
    "input_features = X_train.shape[1]\n",
    "input_features"
   ]
  },
  {
   "cell_type": "markdown",
   "metadata": {},
   "source": [
    "## Составляем модель"
   ]
  },
  {
   "cell_type": "markdown",
   "metadata": {},
   "source": [
    "Построим простую 2х (3х) слойную нейронную сеть. Делать это в keras одно удовольствие"
   ]
  },
  {
   "cell_type": "code",
   "execution_count": 19,
   "metadata": {},
   "outputs": [],
   "source": [
    "model = nn.Sequential(\n",
    "    nn.Linear(input_features, 1), # полносвязный слой с input_features нейронами на входе и 12 нейронами на выходе\n",
    "#     nn.ReLU(),\n",
    "#     nn.Linear(12, 8),\n",
    "#     nn.ReLU(),\n",
    "#     nn.Linear(8, 1),\n",
    "    nn.Sigmoid()\n",
    ")\n",
    "\n",
    "\n",
    "# # ниже - эквивалентная форма записи. Используется для описания более сложных структур\n",
    "\n",
    "# class Model(nn.Module):\n",
    "#     def __init__(self):\n",
    "#         super(Model, self).__init__()\n",
    "#         self.l1 = nn.Linear(input_features, 12) # добавляем в конструктор обучаемые слои\n",
    "#         self.l2 = nn.Linear(12, 8)\n",
    "#         self.l3 = nn.Linear(8, 1)\n",
    "        \n",
    "#     def forward(self, x): # x - входной тензор (torch.Tensor)\n",
    "#         x = self.l1(x)\n",
    "#         x = F.relu(x)\n",
    "#         x = self.l2(x)\n",
    "#         x = F.relu(x)\n",
    "#         x = self.l3(x)\n",
    "#         return F.sigmoid(x)\n",
    "\n",
    "# model = Model()"
   ]
  },
  {
   "cell_type": "markdown",
   "metadata": {},
   "source": [
    "## Обучаем"
   ]
  },
  {
   "cell_type": "code",
   "execution_count": 20,
   "metadata": {},
   "outputs": [],
   "source": [
    "# !pip install livelossplot"
   ]
  },
  {
   "cell_type": "code",
   "execution_count": 30,
   "metadata": {
    "scrolled": false
   },
   "outputs": [
    {
     "ename": "KeyboardInterrupt",
     "evalue": "",
     "output_type": "error",
     "traceback": [
      "\u001b[0;31m---------------------------------------------------------------------------\u001b[0m",
      "\u001b[0;31mKeyboardInterrupt\u001b[0m                         Traceback (most recent call last)",
      "\u001b[0;32m<ipython-input-30-d4297020771d>\u001b[0m in \u001b[0;36m<module>\u001b[0;34m()\u001b[0m\n\u001b[1;32m     42\u001b[0m         \u001b[0;34m'val_accuracy'\u001b[0m\u001b[0;34m:\u001b[0m \u001b[0macc_test\u001b[0m\u001b[0;34m\u001b[0m\u001b[0m\n\u001b[1;32m     43\u001b[0m     })\n\u001b[0;32m---> 44\u001b[0;31m     \u001b[0mliveloss\u001b[0m\u001b[0;34m.\u001b[0m\u001b[0mdraw\u001b[0m\u001b[0;34m(\u001b[0m\u001b[0;34m)\u001b[0m\u001b[0;34m\u001b[0m\u001b[0m\n\u001b[0m\u001b[1;32m     45\u001b[0m \u001b[0;34m\u001b[0m\u001b[0m\n",
      "\u001b[0;32m~/anaconda3/envs/pytorch_3.6/lib/python3.6/site-packages/livelossplot/generic_plot.py\u001b[0m in \u001b[0;36mdraw\u001b[0;34m(self)\u001b[0m\n\u001b[1;32m     68\u001b[0m                   \u001b[0mvalidation_fmt\u001b[0m\u001b[0;34m=\u001b[0m\u001b[0mself\u001b[0m\u001b[0;34m.\u001b[0m\u001b[0mvalidation_fmt\u001b[0m\u001b[0;34m,\u001b[0m\u001b[0;34m\u001b[0m\u001b[0m\n\u001b[1;32m     69\u001b[0m                   \u001b[0mmetric2title\u001b[0m\u001b[0;34m=\u001b[0m\u001b[0mself\u001b[0m\u001b[0;34m.\u001b[0m\u001b[0mmetric2title\u001b[0m\u001b[0;34m,\u001b[0m\u001b[0;34m\u001b[0m\u001b[0m\n\u001b[0;32m---> 70\u001b[0;31m                   extrema=self.metrics_extrema if self.plot_extrema else None)\n\u001b[0m",
      "\u001b[0;32m~/anaconda3/envs/pytorch_3.6/lib/python3.6/site-packages/livelossplot/core.py\u001b[0m in \u001b[0;36mdraw_plot\u001b[0;34m(logs, metrics, figsize, max_epoch, max_cols, validation_fmt, metric2title, extrema)\u001b[0m\n\u001b[1;32m     71\u001b[0m \u001b[0;34m\u001b[0m\u001b[0m\n\u001b[1;32m     72\u001b[0m     \u001b[0mplt\u001b[0m\u001b[0;34m.\u001b[0m\u001b[0mtight_layout\u001b[0m\u001b[0;34m(\u001b[0m\u001b[0;34m)\u001b[0m\u001b[0;34m\u001b[0m\u001b[0m\n\u001b[0;32m---> 73\u001b[0;31m     \u001b[0mplt\u001b[0m\u001b[0;34m.\u001b[0m\u001b[0mshow\u001b[0m\u001b[0;34m(\u001b[0m\u001b[0;34m)\u001b[0m\u001b[0;34m\u001b[0m\u001b[0m\n\u001b[0m\u001b[1;32m     74\u001b[0m     \u001b[0mprint\u001b[0m\u001b[0;34m(\u001b[0m\u001b[0;34m'\\n\\n'\u001b[0m\u001b[0;34m.\u001b[0m\u001b[0mjoin\u001b[0m\u001b[0;34m(\u001b[0m\u001b[0mextrema_logs\u001b[0m\u001b[0;34m)\u001b[0m\u001b[0;34m)\u001b[0m\u001b[0;34m\u001b[0m\u001b[0m\n",
      "\u001b[0;32m~/anaconda3/envs/pytorch_3.6/lib/python3.6/site-packages/matplotlib/pyplot.py\u001b[0m in \u001b[0;36mshow\u001b[0;34m(*args, **kw)\u001b[0m\n\u001b[1;32m    251\u001b[0m     \"\"\"\n\u001b[1;32m    252\u001b[0m     \u001b[0;32mglobal\u001b[0m \u001b[0m_show\u001b[0m\u001b[0;34m\u001b[0m\u001b[0m\n\u001b[0;32m--> 253\u001b[0;31m     \u001b[0;32mreturn\u001b[0m \u001b[0m_show\u001b[0m\u001b[0;34m(\u001b[0m\u001b[0;34m*\u001b[0m\u001b[0margs\u001b[0m\u001b[0;34m,\u001b[0m \u001b[0;34m**\u001b[0m\u001b[0mkw\u001b[0m\u001b[0;34m)\u001b[0m\u001b[0;34m\u001b[0m\u001b[0m\n\u001b[0m\u001b[1;32m    254\u001b[0m \u001b[0;34m\u001b[0m\u001b[0m\n\u001b[1;32m    255\u001b[0m \u001b[0;34m\u001b[0m\u001b[0m\n",
      "\u001b[0;32m~/anaconda3/envs/pytorch_3.6/lib/python3.6/site-packages/ipykernel/pylab/backend_inline.py\u001b[0m in \u001b[0;36mshow\u001b[0;34m(close, block)\u001b[0m\n\u001b[1;32m     34\u001b[0m     \u001b[0;32mtry\u001b[0m\u001b[0;34m:\u001b[0m\u001b[0;34m\u001b[0m\u001b[0m\n\u001b[1;32m     35\u001b[0m         \u001b[0;32mfor\u001b[0m \u001b[0mfigure_manager\u001b[0m \u001b[0;32min\u001b[0m \u001b[0mGcf\u001b[0m\u001b[0;34m.\u001b[0m\u001b[0mget_all_fig_managers\u001b[0m\u001b[0;34m(\u001b[0m\u001b[0;34m)\u001b[0m\u001b[0;34m:\u001b[0m\u001b[0;34m\u001b[0m\u001b[0m\n\u001b[0;32m---> 36\u001b[0;31m             \u001b[0mdisplay\u001b[0m\u001b[0;34m(\u001b[0m\u001b[0mfigure_manager\u001b[0m\u001b[0;34m.\u001b[0m\u001b[0mcanvas\u001b[0m\u001b[0;34m.\u001b[0m\u001b[0mfigure\u001b[0m\u001b[0;34m)\u001b[0m\u001b[0;34m\u001b[0m\u001b[0m\n\u001b[0m\u001b[1;32m     37\u001b[0m     \u001b[0;32mfinally\u001b[0m\u001b[0;34m:\u001b[0m\u001b[0;34m\u001b[0m\u001b[0m\n\u001b[1;32m     38\u001b[0m         \u001b[0mshow\u001b[0m\u001b[0;34m.\u001b[0m\u001b[0m_to_draw\u001b[0m \u001b[0;34m=\u001b[0m \u001b[0;34m[\u001b[0m\u001b[0;34m]\u001b[0m\u001b[0;34m\u001b[0m\u001b[0m\n",
      "\u001b[0;32m~/anaconda3/envs/pytorch_3.6/lib/python3.6/site-packages/IPython/core/display.py\u001b[0m in \u001b[0;36mdisplay\u001b[0;34m(include, exclude, metadata, transient, display_id, *objs, **kwargs)\u001b[0m\n\u001b[1;32m    296\u001b[0m             \u001b[0mpublish_display_data\u001b[0m\u001b[0;34m(\u001b[0m\u001b[0mdata\u001b[0m\u001b[0;34m=\u001b[0m\u001b[0mobj\u001b[0m\u001b[0;34m,\u001b[0m \u001b[0mmetadata\u001b[0m\u001b[0;34m=\u001b[0m\u001b[0mmetadata\u001b[0m\u001b[0;34m,\u001b[0m \u001b[0;34m**\u001b[0m\u001b[0mkwargs\u001b[0m\u001b[0;34m)\u001b[0m\u001b[0;34m\u001b[0m\u001b[0m\n\u001b[1;32m    297\u001b[0m         \u001b[0;32melse\u001b[0m\u001b[0;34m:\u001b[0m\u001b[0;34m\u001b[0m\u001b[0m\n\u001b[0;32m--> 298\u001b[0;31m             \u001b[0mformat_dict\u001b[0m\u001b[0;34m,\u001b[0m \u001b[0mmd_dict\u001b[0m \u001b[0;34m=\u001b[0m \u001b[0mformat\u001b[0m\u001b[0;34m(\u001b[0m\u001b[0mobj\u001b[0m\u001b[0;34m,\u001b[0m \u001b[0minclude\u001b[0m\u001b[0;34m=\u001b[0m\u001b[0minclude\u001b[0m\u001b[0;34m,\u001b[0m \u001b[0mexclude\u001b[0m\u001b[0;34m=\u001b[0m\u001b[0mexclude\u001b[0m\u001b[0;34m)\u001b[0m\u001b[0;34m\u001b[0m\u001b[0m\n\u001b[0m\u001b[1;32m    299\u001b[0m             \u001b[0;32mif\u001b[0m \u001b[0;32mnot\u001b[0m \u001b[0mformat_dict\u001b[0m\u001b[0;34m:\u001b[0m\u001b[0;34m\u001b[0m\u001b[0m\n\u001b[1;32m    300\u001b[0m                 \u001b[0;31m# nothing to display (e.g. _ipython_display_ took over)\u001b[0m\u001b[0;34m\u001b[0m\u001b[0;34m\u001b[0m\u001b[0m\n",
      "\u001b[0;32m~/anaconda3/envs/pytorch_3.6/lib/python3.6/site-packages/IPython/core/formatters.py\u001b[0m in \u001b[0;36mformat\u001b[0;34m(self, obj, include, exclude)\u001b[0m\n\u001b[1;32m    178\u001b[0m             \u001b[0mmd\u001b[0m \u001b[0;34m=\u001b[0m \u001b[0;32mNone\u001b[0m\u001b[0;34m\u001b[0m\u001b[0m\n\u001b[1;32m    179\u001b[0m             \u001b[0;32mtry\u001b[0m\u001b[0;34m:\u001b[0m\u001b[0;34m\u001b[0m\u001b[0m\n\u001b[0;32m--> 180\u001b[0;31m                 \u001b[0mdata\u001b[0m \u001b[0;34m=\u001b[0m \u001b[0mformatter\u001b[0m\u001b[0;34m(\u001b[0m\u001b[0mobj\u001b[0m\u001b[0;34m)\u001b[0m\u001b[0;34m\u001b[0m\u001b[0m\n\u001b[0m\u001b[1;32m    181\u001b[0m             \u001b[0;32mexcept\u001b[0m\u001b[0;34m:\u001b[0m\u001b[0;34m\u001b[0m\u001b[0m\n\u001b[1;32m    182\u001b[0m                 \u001b[0;31m# FIXME: log the exception\u001b[0m\u001b[0;34m\u001b[0m\u001b[0;34m\u001b[0m\u001b[0m\n",
      "\u001b[0;32m<decorator-gen-9>\u001b[0m in \u001b[0;36m__call__\u001b[0;34m(self, obj)\u001b[0m\n",
      "\u001b[0;32m~/anaconda3/envs/pytorch_3.6/lib/python3.6/site-packages/IPython/core/formatters.py\u001b[0m in \u001b[0;36mcatch_format_error\u001b[0;34m(method, self, *args, **kwargs)\u001b[0m\n\u001b[1;32m    222\u001b[0m     \u001b[0;34m\"\"\"show traceback on failed format call\"\"\"\u001b[0m\u001b[0;34m\u001b[0m\u001b[0m\n\u001b[1;32m    223\u001b[0m     \u001b[0;32mtry\u001b[0m\u001b[0;34m:\u001b[0m\u001b[0;34m\u001b[0m\u001b[0m\n\u001b[0;32m--> 224\u001b[0;31m         \u001b[0mr\u001b[0m \u001b[0;34m=\u001b[0m \u001b[0mmethod\u001b[0m\u001b[0;34m(\u001b[0m\u001b[0mself\u001b[0m\u001b[0;34m,\u001b[0m \u001b[0;34m*\u001b[0m\u001b[0margs\u001b[0m\u001b[0;34m,\u001b[0m \u001b[0;34m**\u001b[0m\u001b[0mkwargs\u001b[0m\u001b[0;34m)\u001b[0m\u001b[0;34m\u001b[0m\u001b[0m\n\u001b[0m\u001b[1;32m    225\u001b[0m     \u001b[0;32mexcept\u001b[0m \u001b[0mNotImplementedError\u001b[0m\u001b[0;34m:\u001b[0m\u001b[0;34m\u001b[0m\u001b[0m\n\u001b[1;32m    226\u001b[0m         \u001b[0;31m# don't warn on NotImplementedErrors\u001b[0m\u001b[0;34m\u001b[0m\u001b[0;34m\u001b[0m\u001b[0m\n",
      "\u001b[0;32m~/anaconda3/envs/pytorch_3.6/lib/python3.6/site-packages/IPython/core/formatters.py\u001b[0m in \u001b[0;36m__call__\u001b[0;34m(self, obj)\u001b[0m\n\u001b[1;32m    339\u001b[0m                 \u001b[0;32mpass\u001b[0m\u001b[0;34m\u001b[0m\u001b[0m\n\u001b[1;32m    340\u001b[0m             \u001b[0;32melse\u001b[0m\u001b[0;34m:\u001b[0m\u001b[0;34m\u001b[0m\u001b[0m\n\u001b[0;32m--> 341\u001b[0;31m                 \u001b[0;32mreturn\u001b[0m \u001b[0mprinter\u001b[0m\u001b[0;34m(\u001b[0m\u001b[0mobj\u001b[0m\u001b[0;34m)\u001b[0m\u001b[0;34m\u001b[0m\u001b[0m\n\u001b[0m\u001b[1;32m    342\u001b[0m             \u001b[0;31m# Finally look for special method names\u001b[0m\u001b[0;34m\u001b[0m\u001b[0;34m\u001b[0m\u001b[0m\n\u001b[1;32m    343\u001b[0m             \u001b[0mmethod\u001b[0m \u001b[0;34m=\u001b[0m \u001b[0mget_real_method\u001b[0m\u001b[0;34m(\u001b[0m\u001b[0mobj\u001b[0m\u001b[0;34m,\u001b[0m \u001b[0mself\u001b[0m\u001b[0;34m.\u001b[0m\u001b[0mprint_method\u001b[0m\u001b[0;34m)\u001b[0m\u001b[0;34m\u001b[0m\u001b[0m\n",
      "\u001b[0;32m~/anaconda3/envs/pytorch_3.6/lib/python3.6/site-packages/IPython/core/pylabtools.py\u001b[0m in \u001b[0;36m<lambda>\u001b[0;34m(fig)\u001b[0m\n\u001b[1;32m    239\u001b[0m \u001b[0;34m\u001b[0m\u001b[0m\n\u001b[1;32m    240\u001b[0m     \u001b[0;32mif\u001b[0m \u001b[0;34m'png'\u001b[0m \u001b[0;32min\u001b[0m \u001b[0mformats\u001b[0m\u001b[0;34m:\u001b[0m\u001b[0;34m\u001b[0m\u001b[0m\n\u001b[0;32m--> 241\u001b[0;31m         \u001b[0mpng_formatter\u001b[0m\u001b[0;34m.\u001b[0m\u001b[0mfor_type\u001b[0m\u001b[0;34m(\u001b[0m\u001b[0mFigure\u001b[0m\u001b[0;34m,\u001b[0m \u001b[0;32mlambda\u001b[0m \u001b[0mfig\u001b[0m\u001b[0;34m:\u001b[0m \u001b[0mprint_figure\u001b[0m\u001b[0;34m(\u001b[0m\u001b[0mfig\u001b[0m\u001b[0;34m,\u001b[0m \u001b[0;34m'png'\u001b[0m\u001b[0;34m,\u001b[0m \u001b[0;34m**\u001b[0m\u001b[0mkwargs\u001b[0m\u001b[0;34m)\u001b[0m\u001b[0;34m)\u001b[0m\u001b[0;34m\u001b[0m\u001b[0m\n\u001b[0m\u001b[1;32m    242\u001b[0m     \u001b[0;32mif\u001b[0m \u001b[0;34m'retina'\u001b[0m \u001b[0;32min\u001b[0m \u001b[0mformats\u001b[0m \u001b[0;32mor\u001b[0m \u001b[0;34m'png2x'\u001b[0m \u001b[0;32min\u001b[0m \u001b[0mformats\u001b[0m\u001b[0;34m:\u001b[0m\u001b[0;34m\u001b[0m\u001b[0m\n\u001b[1;32m    243\u001b[0m         \u001b[0mpng_formatter\u001b[0m\u001b[0;34m.\u001b[0m\u001b[0mfor_type\u001b[0m\u001b[0;34m(\u001b[0m\u001b[0mFigure\u001b[0m\u001b[0;34m,\u001b[0m \u001b[0;32mlambda\u001b[0m \u001b[0mfig\u001b[0m\u001b[0;34m:\u001b[0m \u001b[0mretina_figure\u001b[0m\u001b[0;34m(\u001b[0m\u001b[0mfig\u001b[0m\u001b[0;34m,\u001b[0m \u001b[0;34m**\u001b[0m\u001b[0mkwargs\u001b[0m\u001b[0;34m)\u001b[0m\u001b[0;34m)\u001b[0m\u001b[0;34m\u001b[0m\u001b[0m\n",
      "\u001b[0;32m~/anaconda3/envs/pytorch_3.6/lib/python3.6/site-packages/IPython/core/pylabtools.py\u001b[0m in \u001b[0;36mprint_figure\u001b[0;34m(fig, fmt, bbox_inches, **kwargs)\u001b[0m\n\u001b[1;32m    123\u001b[0m \u001b[0;34m\u001b[0m\u001b[0m\n\u001b[1;32m    124\u001b[0m     \u001b[0mbytes_io\u001b[0m \u001b[0;34m=\u001b[0m \u001b[0mBytesIO\u001b[0m\u001b[0;34m(\u001b[0m\u001b[0;34m)\u001b[0m\u001b[0;34m\u001b[0m\u001b[0m\n\u001b[0;32m--> 125\u001b[0;31m     \u001b[0mfig\u001b[0m\u001b[0;34m.\u001b[0m\u001b[0mcanvas\u001b[0m\u001b[0;34m.\u001b[0m\u001b[0mprint_figure\u001b[0m\u001b[0;34m(\u001b[0m\u001b[0mbytes_io\u001b[0m\u001b[0;34m,\u001b[0m \u001b[0;34m**\u001b[0m\u001b[0mkw\u001b[0m\u001b[0;34m)\u001b[0m\u001b[0;34m\u001b[0m\u001b[0m\n\u001b[0m\u001b[1;32m    126\u001b[0m     \u001b[0mdata\u001b[0m \u001b[0;34m=\u001b[0m \u001b[0mbytes_io\u001b[0m\u001b[0;34m.\u001b[0m\u001b[0mgetvalue\u001b[0m\u001b[0;34m(\u001b[0m\u001b[0;34m)\u001b[0m\u001b[0;34m\u001b[0m\u001b[0m\n\u001b[1;32m    127\u001b[0m     \u001b[0;32mif\u001b[0m \u001b[0mfmt\u001b[0m \u001b[0;34m==\u001b[0m \u001b[0;34m'svg'\u001b[0m\u001b[0;34m:\u001b[0m\u001b[0;34m\u001b[0m\u001b[0m\n",
      "\u001b[0;32m~/anaconda3/envs/pytorch_3.6/lib/python3.6/site-packages/matplotlib/backend_bases.py\u001b[0m in \u001b[0;36mprint_figure\u001b[0;34m(self, filename, dpi, facecolor, edgecolor, orientation, format, **kwargs)\u001b[0m\n\u001b[1;32m   2210\u001b[0m                     \u001b[0morientation\u001b[0m\u001b[0;34m=\u001b[0m\u001b[0morientation\u001b[0m\u001b[0;34m,\u001b[0m\u001b[0;34m\u001b[0m\u001b[0m\n\u001b[1;32m   2211\u001b[0m                     \u001b[0mdryrun\u001b[0m\u001b[0;34m=\u001b[0m\u001b[0;32mTrue\u001b[0m\u001b[0;34m,\u001b[0m\u001b[0;34m\u001b[0m\u001b[0m\n\u001b[0;32m-> 2212\u001b[0;31m                     **kwargs)\n\u001b[0m\u001b[1;32m   2213\u001b[0m                 \u001b[0mrenderer\u001b[0m \u001b[0;34m=\u001b[0m \u001b[0mself\u001b[0m\u001b[0;34m.\u001b[0m\u001b[0mfigure\u001b[0m\u001b[0;34m.\u001b[0m\u001b[0m_cachedRenderer\u001b[0m\u001b[0;34m\u001b[0m\u001b[0m\n\u001b[1;32m   2214\u001b[0m                 \u001b[0mbbox_inches\u001b[0m \u001b[0;34m=\u001b[0m \u001b[0mself\u001b[0m\u001b[0;34m.\u001b[0m\u001b[0mfigure\u001b[0m\u001b[0;34m.\u001b[0m\u001b[0mget_tightbbox\u001b[0m\u001b[0;34m(\u001b[0m\u001b[0mrenderer\u001b[0m\u001b[0;34m)\u001b[0m\u001b[0;34m\u001b[0m\u001b[0m\n",
      "\u001b[0;32m~/anaconda3/envs/pytorch_3.6/lib/python3.6/site-packages/matplotlib/backends/backend_agg.py\u001b[0m in \u001b[0;36mprint_png\u001b[0;34m(self, filename_or_obj, *args, **kwargs)\u001b[0m\n\u001b[1;32m    526\u001b[0m             \u001b[0;32mwith\u001b[0m \u001b[0mcbook\u001b[0m\u001b[0;34m.\u001b[0m\u001b[0mopen_file_cm\u001b[0m\u001b[0;34m(\u001b[0m\u001b[0mfilename_or_obj\u001b[0m\u001b[0;34m,\u001b[0m \u001b[0;34m\"wb\"\u001b[0m\u001b[0;34m)\u001b[0m \u001b[0;32mas\u001b[0m \u001b[0mfh\u001b[0m\u001b[0;34m:\u001b[0m\u001b[0;34m\u001b[0m\u001b[0m\n\u001b[1;32m    527\u001b[0m                 _png.write_png(renderer._renderer, fh,\n\u001b[0;32m--> 528\u001b[0;31m                                self.figure.dpi, metadata=metadata)\n\u001b[0m\u001b[1;32m    529\u001b[0m         \u001b[0;32mfinally\u001b[0m\u001b[0;34m:\u001b[0m\u001b[0;34m\u001b[0m\u001b[0m\n\u001b[1;32m    530\u001b[0m             \u001b[0mrenderer\u001b[0m\u001b[0;34m.\u001b[0m\u001b[0mdpi\u001b[0m \u001b[0;34m=\u001b[0m \u001b[0moriginal_dpi\u001b[0m\u001b[0;34m\u001b[0m\u001b[0m\n",
      "\u001b[0;31mKeyboardInterrupt\u001b[0m: "
     ]
    }
   ],
   "source": [
    "import math\n",
    "import numpy as np\n",
    "from torch.utils.data import DataLoader, TensorDataset\n",
    "from sklearn.metrics import accuracy_score\n",
    "from livelossplot import PlotLosses\n",
    "\n",
    "nb_epoch=500\n",
    "batch_size=50\n",
    "train_dataset = TensorDataset(torch.from_numpy(X_train).float(), torch.from_numpy(y_train).float())\n",
    "train_loader = DataLoader(train_dataset, shuffle=True, batch_size=batch_size)\n",
    "\n",
    "opt = torch.optim.SGD(model.parameters(), lr=1e-2)\n",
    "criterion = nn.BCELoss() # Binary cross-entropy loss\n",
    "\n",
    "liveloss = PlotLosses()\n",
    "\n",
    "for epoch in range(nb_epoch):\n",
    "    print('Epoch: %d' % epoch)\n",
    "    loss_train = []\n",
    "    acc_train = []\n",
    "    for batch_X, batch_y in train_loader:\n",
    "        preds = model(batch_X)\n",
    "        loss = criterion(preds, batch_y) # считаем ошибку\n",
    "        loss_train.append(loss.item())\n",
    "        loss.backward() # обратное распространение ошибки\n",
    "        opt.step() # шаг градиентного спуска\n",
    "        opt.zero_grad() # обнуление градиентов\n",
    "        acc_train.append(accuracy_score(preds.squeeze().round().detach().numpy(), batch_y.detach().numpy()))\n",
    "                            \n",
    "    loss_train = np.mean(loss_train)\n",
    "    acc_train = np.mean(acc_train)\n",
    "    \n",
    "    with torch.no_grad(): # говорим pytorch, что здесь не нужно хранить градиенты\n",
    "        preds = model(torch.Tensor(X_test))\n",
    "        loss_test = criterion(preds, torch.Tensor(y_test)).item()\n",
    "        acc_test = accuracy_score(preds.squeeze().round(), y_test)\n",
    "    \n",
    "    liveloss.update({\n",
    "        'loss': loss_train,\n",
    "        'val_loss': loss_test,\n",
    "        'accuracy': acc_train,\n",
    "        'val_accuracy': acc_test\n",
    "    })\n",
    "    liveloss.draw()\n",
    "    "
   ]
  },
  {
   "cell_type": "markdown",
   "metadata": {},
   "source": [
    "## Оценка качества"
   ]
  },
  {
   "cell_type": "code",
   "execution_count": 31,
   "metadata": {},
   "outputs": [],
   "source": [
    "from sklearn.metrics import roc_auc_score\n",
    "# roc_auc_score(y_hat, y_test)"
   ]
  },
  {
   "cell_type": "code",
   "execution_count": 32,
   "metadata": {},
   "outputs": [
    {
     "data": {
      "text/plain": [
       "[<matplotlib.lines.Line2D at 0x7f98dc066128>]"
      ]
     },
     "execution_count": 32,
     "metadata": {},
     "output_type": "execute_result"
    },
    {
     "data": {
      "image/png": "[encoded data removed]",
      "text/plain": [
       "<Figure size 432x288 with 1 Axes>"
      ]
     },
     "metadata": {},
     "output_type": "display_data"
    }
   ],
   "source": [
    "fpr, tpr, _ = roc_curve(y_test, preds.squeeze())\n",
    "plt.plot(fpr, tpr, label='test')"
   ]
  },
  {
   "cell_type": "markdown",
   "metadata": {},
   "source": [
    "# Регрессия"
   ]
  },
  {
   "cell_type": "markdown",
   "metadata": {},
   "source": [
    "Будем строить регрессию на данных [Boston Housing Data Set](https://archive.ics.uci.edu/ml/datasets/Housing)\n",
    "\n",
    "Описание:<br\\>\n",
    "1. CRIM: per capita crime rate by town\n",
    "2. ZN: proportion of residential land zoned for lots over 25,000 sq.ft.\n",
    "3. INDUS: proportion of non-retail business acres per town\n",
    "4. CHAS: Charles River dummy variable (= 1 if tract bounds river; 0 otherwise)\n",
    "5. NOX: nitric oxides concentration (parts per 10 million)\n",
    "6. RM: average number of rooms per dwelling\n",
    "7. AGE: proportion of owner-occupied units built prior to 1940\n",
    "8. DIS: weighted distances to five Boston employment centres\n",
    "9. RAD: index of accessibility to radial highways\n",
    "10. TAX: full-value property-tax rate per 10,000 USD\n",
    "11. PTRATIO: pupil-teacher ratio by town\n",
    "12. B: 1000(Bk - 0.63)^2 where Bk is the proportion of blacks by town\n",
    "13. LSTAT: lower status of the population\n",
    "14. MEDV: Median value of owner-occupied homes in 1000's USD"
   ]
  },
  {
   "cell_type": "markdown",
   "metadata": {},
   "source": [
    "Весь pipeline практически повторяется. Ну и повторим."
   ]
  },
  {
   "cell_type": "code",
   "execution_count": 31,
   "metadata": {},
   "outputs": [],
   "source": [
    "from sklearn import datasets"
   ]
  },
  {
   "cell_type": "code",
   "execution_count": 32,
   "metadata": {},
   "outputs": [],
   "source": [
    "boston = datasets.load_boston()"
   ]
  },
  {
   "cell_type": "code",
   "execution_count": 33,
   "metadata": {},
   "outputs": [],
   "source": [
    "y = boston.target"
   ]
  },
  {
   "cell_type": "code",
   "execution_count": 34,
   "metadata": {},
   "outputs": [],
   "source": [
    "X = boston.data"
   ]
  },
  {
   "cell_type": "code",
   "execution_count": 35,
   "metadata": {},
   "outputs": [],
   "source": [
    "X_train, X_test, y_train, y_test = train_test_split(X, y, test_size=0.2, \n",
    "                                                    random_state=RND_SEED)"
   ]
  },
  {
   "cell_type": "code",
   "execution_count": 36,
   "metadata": {},
   "outputs": [],
   "source": [
    "sc = StandardScaler().fit(X_train)\n",
    "X_train = sc.transform(X_train)\n",
    "X_test = sc.transform(X_test)"
   ]
  },
  {
   "cell_type": "code",
   "execution_count": 37,
   "metadata": {},
   "outputs": [
    {
     "data": {
      "text/plain": [
       "13"
      ]
     },
     "execution_count": 37,
     "metadata": {},
     "output_type": "execute_result"
    }
   ],
   "source": [
    "input_features = X_train.shape[1]\n",
    "input_features"
   ]
  },
  {
   "cell_type": "markdown",
   "metadata": {},
   "source": [
    "## Составляем модель"
   ]
  },
  {
   "cell_type": "markdown",
   "metadata": {},
   "source": [
    "Построим простую 2х (3х) слойную нейронную сеть. Делать это в keras одно удовольствие"
   ]
  },
  {
   "cell_type": "code",
   "execution_count": 38,
   "metadata": {},
   "outputs": [],
   "source": [
    "model = nn.Sequential(\n",
    "    nn.Linear(input_features, 12), # полносвязный слой с input_features нейронами на входе и 12 нейронами на выходе\n",
    "    nn.ReLU(),\n",
    "    nn.Linear(12, 8),\n",
    "    nn.ReLU(),\n",
    "    nn.Linear(8, 2),\n",
    "#     nn.Sigmoid()\n",
    ")\n",
    "\n",
    "# # ниже - эквивалентная форма записи. Используется для описания более сложных структур\n",
    "\n",
    "# class Model(nn.Module):\n",
    "#     def __init__(self):\n",
    "#         super(Model, self).__init__()\n",
    "#         self.l1 = nn.Linear(input_features, 12) # добавляем в конструктор обучаемые слои\n",
    "#         self.l2 = nn.Linear(12, 8)\n",
    "#         self.l3 = nn.Linear(8, 1)\n",
    "        \n",
    "#     def forward(self, x): # x - входной тензор (torch.Tensor)\n",
    "#         x = self.l1(x)\n",
    "#         x = F.relu(x)\n",
    "#         x = self.l2(x)\n",
    "#         x = F.relu(x)\n",
    "#         x = self.l3(x)\n",
    "##         return F.sigmoid(x)\n",
    "#         return x\n",
    "\n",
    "# model = Model()"
   ]
  },
  {
   "cell_type": "markdown",
   "metadata": {},
   "source": [
    "## Обучаем"
   ]
  },
  {
   "cell_type": "code",
   "execution_count": 45,
   "metadata": {
    "scrolled": false
   },
   "outputs": [
    {
     "data": {
      "image/png": "[encoded data removed]",
      "text/plain": [
       "<Figure size 864x576 with 1 Axes>"
      ]
     },
     "metadata": {},
     "output_type": "display_data"
    },
    {
     "name": "stdout",
     "output_type": "stream",
     "text": [
      "loss:\n",
      "training   (min:    5.164, max:  352.779, cur:    5.640)\n",
      "validation (min:   16.094, max: 2262.569, cur:   22.029)\n"
     ]
    }
   ],
   "source": [
    "import math\n",
    "import numpy as np\n",
    "from torch.utils.data import DataLoader, TensorDataset\n",
    "from sklearn.metrics import accuracy_score\n",
    "from livelossplot import PlotLosses\n",
    "\n",
    "nb_epoch=500\n",
    "batch_size=50\n",
    "train_dataset = TensorDataset(torch.from_numpy(X_train).float(), torch.from_numpy(y_train).float().squeeze())\n",
    "train_loader = DataLoader(train_dataset, shuffle=True, batch_size=batch_size)\n",
    "\n",
    "opt = torch.optim.SGD(model.parameters(), lr=1e-2)\n",
    "criterion = nn.MSELoss() # Binary cross-entropy loss\n",
    "\n",
    "liveloss = PlotLosses()\n",
    "\n",
    "for epoch in range(nb_epoch):\n",
    "    print('Epoch: %d' % epoch)\n",
    "    loss_train = []\n",
    "    for batch_X, batch_y in train_loader:\n",
    "        preds = model(batch_X).squeeze()\n",
    "        loss = criterion(preds, batch_y) # считаем ошибку\n",
    "        loss_train.append(loss.item())\n",
    "        loss.backward() # обратное распространение ошибки\n",
    "        opt.step() # шаг градиентного спуска\n",
    "        opt.zero_grad() # обнуление градиентов\n",
    "                            \n",
    "    loss_train = np.mean(loss_train)\n",
    "    \n",
    "    with torch.no_grad(): # говорим pytorch, что здесь не нужно хранить градиенты\n",
    "        preds = model(torch.Tensor(X_test)).squeeze()\n",
    "        loss_test = criterion(preds, torch.Tensor(y_test)).item()\n",
    "        \n",
    "    liveloss.update({\n",
    "        'loss': loss_train,\n",
    "        'val_loss': loss_test\n",
    "    })\n",
    "    liveloss.draw()\n",
    "    "
   ]
  },
  {
   "cell_type": "code",
   "execution_count": null,
   "metadata": {},
   "outputs": [],
   "source": []
  },
  {
   "cell_type": "code",
   "execution_count": 41,
   "metadata": {},
   "outputs": [
    {
     "data": {
      "text/plain": [
       "Parameter containing:\n",
       "tensor([[-0.0810, -0.1064, -0.1563, -0.0687, -0.2695, -0.1908,  0.0481,\n",
       "         -0.2032, -0.1809,  0.1687, -0.1725, -0.1485, -0.1034],\n",
       "        [ 0.1913, -0.1839,  0.2319,  0.0783,  0.0593, -0.1875,  0.1612,\n",
       "          0.0182, -0.0018,  0.2566,  0.1172,  0.0007,  0.2047],\n",
       "        [ 0.1900,  0.0136, -0.1870,  0.0262,  0.1383, -0.2177,  0.2689,\n",
       "         -0.2101, -0.2396, -0.1266,  0.0876,  0.0111, -0.0451],\n",
       "        [ 0.0727,  0.0912,  0.1066, -0.2248,  0.0145, -0.2026,  0.1411,\n",
       "          0.2769, -0.0035,  0.0379, -0.0726,  0.2261, -0.0666],\n",
       "        [ 0.2132, -0.1107,  0.2490,  0.1723, -0.0096, -0.0735, -0.1398,\n",
       "         -0.0722,  0.0234,  0.2645,  0.0347, -0.0033,  0.0694],\n",
       "        [ 0.0053, -0.1161,  0.1291,  0.2094, -0.1581, -0.2364,  0.2115,\n",
       "          0.2444,  0.0890, -0.0728, -0.1002,  0.0213,  0.1367],\n",
       "        [-0.0587,  0.2518,  0.2005,  0.0574,  0.2509, -0.1722, -0.1447,\n",
       "          0.0908, -0.1486,  0.2684, -0.1939, -0.0034,  0.2456],\n",
       "        [-0.1895, -0.1278,  0.0059, -0.2412, -0.2356, -0.1402,  0.1087,\n",
       "          0.2773, -0.2651, -0.0026, -0.0317,  0.1899,  0.2017],\n",
       "        [-0.2285, -0.1538,  0.1469, -0.1587,  0.2072, -0.0783, -0.2616,\n",
       "         -0.0387, -0.0112, -0.1223,  0.0010,  0.0512,  0.1136],\n",
       "        [-0.2064,  0.2684,  0.1187,  0.0239, -0.0681,  0.1758,  0.0008,\n",
       "         -0.2460,  0.0605, -0.1684, -0.1329,  0.2673, -0.2586],\n",
       "        [ 0.2054, -0.1870, -0.1086,  0.1532, -0.2052,  0.1772,  0.1395,\n",
       "         -0.0724,  0.0017,  0.1048,  0.1460,  0.1211,  0.1723],\n",
       "        [-0.1333,  0.0895, -0.0282,  0.0762,  0.1025, -0.1980, -0.2267,\n",
       "         -0.0228,  0.0328, -0.0175, -0.2089,  0.2572,  0.1335]])"
      ]
     },
     "execution_count": 41,
     "metadata": {},
     "output_type": "execute_result"
    }
   ],
   "source": [
    "model[0].weight.data = torch.Tensor()"
   ]
  },
  {
   "cell_type": "markdown",
   "metadata": {},
   "source": [
    "# Конволюционные нейронные сети"
   ]
  },
  {
   "cell_type": "markdown",
   "metadata": {},
   "source": [
    "<img src='http://i.stack.imgur.com/oUwMk.png'>"
   ]
  },
  {
   "cell_type": "markdown",
   "metadata": {},
   "source": [
    "Загрузите архив [отсюда](https://github.com/lucastheis/deepbelief/blob/master/data/mnist.npz)"
   ]
  },
  {
   "cell_type": "code",
   "execution_count": 73,
   "metadata": {},
   "outputs": [],
   "source": [
    "# !wget https://github.com/lucastheis/deepbelief/blob/master/data/mnist.npz ."
   ]
  },
  {
   "cell_type": "code",
   "execution_count": 69,
   "metadata": {},
   "outputs": [
    {
     "data": {
      "image/png": "[encoded data removed]",
      "text/plain": [
       "<Figure size 864x576 with 2 Axes>"
      ]
     },
     "metadata": {},
     "output_type": "display_data"
    },
    {
     "name": "stdout",
     "output_type": "stream",
     "text": [
      "log loss:\n",
      "training   (min:    0.219, max:    1.989, cur:    0.219)\n",
      "validation (min:    0.064, max:    0.266, cur:    0.069)\n",
      "\n",
      "accuracy:\n",
      "training   (min:    0.490, max:    0.933, cur:    0.933)\n",
      "validation (min:    0.941, max:    0.981, cur:    0.980)\n",
      "Accuracy: 0.9795 (test), 0.9333 (train)\n"
     ]
    }
   ],
   "source": [
    "import torch\n",
    "import torch.nn as nn\n",
    "import torch.optim as optim\n",
    "from torch.utils.data import TensorDataset, DataLoader\n",
    "import numpy as np\n",
    "from livelossplot import PlotLosses\n",
    "\n",
    "#device = torch.device(\"cpu\") # Uncomment this to run on CPU\n",
    "device = torch.device(\"cuda:0\") # Uncomment this to run on GPU\n",
    "\n",
    "n_classes = 10\n",
    "\n",
    "def create_dataset(x, y, flatten=False):\n",
    "    if flatten:\n",
    "        # Convert it into a matrix (N [samples], 28*28 [dims])\n",
    "        xt = torch.from_numpy(x).view(len(x), -1)\n",
    "    else:\n",
    "        # Convert it into a 4D tensor (N [samples], 1 [ch], 28 [px], 28 [px])\n",
    "        xt = torch.from_numpy(x).unsqueeze(1)\n",
    "    yt = torch.from_numpy(y).long()\n",
    "    return TensorDataset(xt.float(), yt.float())\n",
    "\n",
    "def test_model(model, loss_fn, test_loader, device):\n",
    "    model.eval()\n",
    "\n",
    "    loss = 0.\n",
    "    num_correct = 0.\n",
    "    for batch_idx, (x, y) in enumerate(test_loader):\n",
    "        x, y = x.to(device), y.to(device).squeeze().long()\n",
    "        y_pred = model(x)\n",
    "        loss += loss_fn(y_pred, y).item()\n",
    "        _, predicted = torch.max(y_pred.data, 1)\n",
    "        num_correct += (predicted == y).sum().item()\n",
    "\n",
    "    model.train()\n",
    "    loss /= len(test_loader.dataset)\n",
    "    num_correct /= len(test_loader.dataset)\n",
    "    return loss, num_correct\n",
    "\n",
    "class Flatten(torch.nn.Module):\n",
    "    def __init__(self):\n",
    "        super(Flatten, self).__init__()\n",
    "\n",
    "    def forward(self, x):\n",
    "        return x.view(-1, 512)\n",
    "\n",
    "model = torch.nn.Sequential(\n",
    "    torch.nn.Conv2d(1, 16, (5, 5)),\n",
    "    torch.nn.MaxPool2d(2),\n",
    "    torch.nn.ReLU(),\n",
    "    torch.nn.Dropout(),\n",
    "    torch.nn.Conv2d(16, 32, (5, 5)),\n",
    "    torch.nn.MaxPool2d(2),    \n",
    "    torch.nn.ReLU(),\n",
    "    torch.nn.Dropout(),\n",
    "    Flatten(),\n",
    "    torch.nn.Linear(512, 256),\n",
    "    torch.nn.ReLU(),\n",
    "    torch.nn.Dropout(),\n",
    "    torch.nn.Linear(256, 10),\n",
    ")\n",
    "\n",
    "model.to(device)\n",
    "\n",
    "data = np.load('../data/mnist.npz')\n",
    "train_set = create_dataset(data['train'].transpose().reshape(-1,28,28), data['train_labels'].transpose())\n",
    "test_set = create_dataset(data['test'].transpose().reshape(-1,28,28), data['test_labels'].transpose())\n",
    "train_loader = DataLoader(train_set, batch_size=256, shuffle=True)\n",
    "test_loader = DataLoader(test_set, batch_size=128)\n",
    "\n",
    "loss_fn = nn.CrossEntropyLoss(size_average=False)\n",
    "optimizer = optim.SGD(model.parameters(), lr=1e-4)\n",
    "\n",
    "liveloss = PlotLosses()\n",
    "for epoch in range(10):\n",
    "    print('Epoch: %d' % epoch)\n",
    "    train_loss = 0.\n",
    "    train_correct = 0\n",
    "    \n",
    "    # Training loop for mini-batches\n",
    "    for batch_idx, (x, y) in enumerate(train_loader):\n",
    "        # Make predictions with the current parameters.\n",
    "        x, y = x.to(device), y.to(device).squeeze()\n",
    "        y_pred = model(x)\n",
    "        _, predicted = torch.max(y_pred.data, 1)\n",
    "        train_correct += (predicted.long() == y.long()).sum().item()\n",
    "        \n",
    "        # Compute the loss value.\n",
    "        loss = loss_fn(y_pred.float(), y.long())\n",
    "        train_loss += loss.item()\n",
    "\n",
    "        # Update the parameters.\n",
    "        optimizer.zero_grad()\n",
    "        loss.backward()\n",
    "        optimizer.step()\n",
    "    \n",
    "    # Compute the average loss and accuracy.\n",
    "    train_loss /= len(train_loader.dataset)\n",
    "    train_correct /= float(len(train_loader.dataset))\n",
    "    \n",
    "    # Evaluate the model on the test set.\n",
    "    test_loss, test_correct = test_model(model, loss_fn, test_loader, device)\n",
    "\n",
    "    # Visualize the loss and accuracy values.\n",
    "    liveloss.update({\n",
    "        'log loss': train_loss,\n",
    "        'val_log loss': test_loss,\n",
    "        'accuracy': train_correct,\n",
    "        'val_accuracy': test_correct,\n",
    "    })\n",
    "    liveloss.draw()\n",
    "    \n",
    "print('Accuracy: {:.4f} (test), {:.4f} (train)'.format(test_correct, train_correct))"
   ]
  },
  {
   "cell_type": "markdown",
   "metadata": {},
   "source": [
    "Посмотрим на данные"
   ]
  },
  {
   "cell_type": "markdown",
   "metadata": {},
   "source": [
    "# Цветные картинки"
   ]
  },
  {
   "cell_type": "code",
   "execution_count": 1,
   "metadata": {},
   "outputs": [],
   "source": [
    "import torch\n",
    "import torch.nn as nn\n",
    "import torch.nn.functional as F\n",
    "import torch.optim as optim\n",
    "from torch.autograd import Variable\n",
    "from torchvision import datasets, transforms\n",
    "\n",
    "train_batch_size = 32\n",
    "test_batch_size = 124\n",
    "best_loss = float(\"inf\")\n",
    "best_epoch = -1\n",
    "dataset_path = '../data/cifar10'"
   ]
  },
  {
   "cell_type": "markdown",
   "metadata": {},
   "source": [
    "## Аугментация"
   ]
  },
  {
   "cell_type": "markdown",
   "metadata": {},
   "source": [
    "Сеть должна уметь выполнять классификацию не зависимо от того, повернут ли объект, уменьшен он или увеличен и тп.\n",
    "То есть в обучающей выборке должны содержаться такие элементарные трансформации. Кроме того, это совершенно бесплатно вам позволяет очень сильно увеличить размер вашей обучающей выборки (и притом ещё и разнообразить её новыми примерами). В случае с картинками это особо важно, потому что каждая размеченная картинка, как правило, \"на вес золота\""
   ]
  },
  {
   "cell_type": "code",
   "execution_count": 2,
   "metadata": {},
   "outputs": [
    {
     "name": "stdout",
     "output_type": "stream",
     "text": [
      "Downloading https://www.cs.toronto.edu/~kriz/cifar-10-python.tar.gz to ../data/cifar10/cifar-10-python.tar.gz\n",
      "Files already downloaded and verified\n",
      "Files already downloaded and verified\n"
     ]
    }
   ],
   "source": [
    "trainset = datasets.CIFAR10(root=dataset_path, train=True, download=True)\n",
    "train_mean = trainset.train_data.mean(axis=(0,1,2))/255  # [0.49139968  0.48215841  0.44653091]\n",
    "train_std = trainset.train_data.std(axis=(0,1,2))/255  # [0.24703223  0.24348513  0.26158784]\n",
    "transform_train = transforms.Compose([\n",
    "    transforms.RandomCrop(32, padding=4),\n",
    "    transforms.RandomHorizontalFlip(),\n",
    "    transforms.ToTensor(),\n",
    "    transforms.Normalize(train_mean, train_std),\n",
    "])\n",
    "\n",
    "transform_test = transforms.Compose([\n",
    "    transforms.ToTensor(),\n",
    "    transforms.Normalize(train_mean, train_std),\n",
    "])\n",
    "train_loader = torch.utils.data.DataLoader(datasets.CIFAR10(\n",
    "    root=dataset_path, train=True, download=True,\n",
    "    transform=transform_train),\n",
    "    batch_size=train_batch_size, shuffle=True)\n",
    "test_loader = torch.utils.data.DataLoader(\n",
    "    datasets.CIFAR10(root=dataset_path, train=False, download=True,\n",
    "    transform=transform_test),\n",
    "    batch_size=test_batch_size, shuffle=False)"
   ]
  },
  {
   "cell_type": "markdown",
   "metadata": {},
   "source": [
    "Далее, продолжаем по https://github.com/fchollet/keras/blob/master/examples/cifar10_cnn.py"
   ]
  },
  {
   "cell_type": "markdown",
   "metadata": {},
   "source": [
    "## Обучение"
   ]
  },
  {
   "cell_type": "code",
   "execution_count": 10,
   "metadata": {},
   "outputs": [],
   "source": [
    "#device = torch.device(\"cpu\") # Uncomment this to run on CPU\n",
    "device = torch.device(\"cuda:0\") # Uncomment this to run on GPU\n",
    "\n",
    "n_classes = 10\n",
    "\n",
    "class Flatten(torch.nn.Module):\n",
    "    def __init__(self):\n",
    "        super(Flatten, self).__init__()\n",
    "\n",
    "    def forward(self, x):\n",
    "        return x.view(x.shape[0], -1)\n",
    "\n",
    "\n",
    "model = torch.nn.Sequential(\n",
    "    torch.nn.Conv2d(3, 16, (5, 5)),\n",
    "    torch.nn.MaxPool2d(2),\n",
    "    torch.nn.ReLU(),\n",
    "    torch.nn.Dropout(),\n",
    "    torch.nn.Conv2d(16, 32, (5, 5)),\n",
    "    torch.nn.MaxPool2d(2),    \n",
    "    torch.nn.ReLU(),\n",
    "    torch.nn.Dropout(),\n",
    "    Flatten(),\n",
    "    torch.nn.Linear(800, 256),\n",
    "    torch.nn.ReLU(),\n",
    "    torch.nn.Dropout(),\n",
    "    torch.nn.Linear(256, 10),\n",
    ").to(device)\n",
    "\n",
    "criterion = nn.CrossEntropyLoss()\n",
    "opt = optim.SGD(model.parameters(), lr=1e-3, momentum=0.9)"
   ]
  },
  {
   "cell_type": "code",
   "execution_count": 15,
   "metadata": {},
   "outputs": [],
   "source": [
    "def train(epoch):\n",
    "    model.train()\n",
    "    for batch_idx, (data, target) in enumerate(train_loader):\n",
    "        data, target = data.to(device), target.to(device)\n",
    "        opt.zero_grad()\n",
    "        output = model(data)\n",
    "        loss = criterion(output, target)\n",
    "        loss.backward()\n",
    "        opt.step()\n",
    "        if batch_idx % 100 == 0:\n",
    "            print('Train Epoch: {} [{}/{} ({:.0f}%)]\\tLoss: {:.6f}'.format(\n",
    "                epoch, batch_idx * len(data), len(train_loader.dataset),\n",
    "                100. * batch_idx / len(train_loader), loss.data[0]))\n",
    "            \n",
    "def test(epoch, best_loss, best_epoch):\n",
    "    model.eval()\n",
    "    test_loss = 0\n",
    "    correct = 0\n",
    "    for data, target in test_loader:\n",
    "        data, target = data.to(device), target.to(device)\n",
    "        \n",
    "        output = model(data)\n",
    "        # sum up batch loss\n",
    "        test_loss += criterion(output, target).data[0]\n",
    "        # get the index of the max log-probability\n",
    "        pred = output.data.max(1, keepdim=True)[1]\n",
    "        correct += pred.eq(target.data.view_as(pred)).long().cpu().sum()\n",
    "\n",
    "    test_loss /= len(test_loader.dataset)\n",
    "    print(\n",
    "        '\\nTest set: Average loss: {:.4f}, Accuracy: {}/{} ({:.0f}%)\\n'.format(\n",
    "            test_loss, correct, len(test_loader.dataset), 100. * correct /\n",
    "            len(test_loader.dataset)))\n",
    "    \n",
    "##     для сохра\n",
    "#     if test_loss < best_loss:\n",
    "#         best_epoch = epoch\n",
    "#         best_loss = test_loss\n",
    "#         torch.save(model, \"best.pt\")\n",
    "#         if gsync_save:\n",
    "#             gsync.update_file_to_folder(\"best.pt\")\n",
    "    return best_loss, best_epoch"
   ]
  },
  {
   "cell_type": "code",
   "execution_count": 16,
   "metadata": {},
   "outputs": [
    {
     "name": "stderr",
     "output_type": "stream",
     "text": [
      "/home/artem/anaconda3/envs/pytorch_3.6/lib/python3.6/site-packages/ipykernel_launcher.py:13: UserWarning: invalid index of a 0-dim tensor. This will be an error in PyTorch 0.5. Use tensor.item() to convert a 0-dim tensor to a Python number\n",
      "  del sys.path[0]\n"
     ]
    },
    {
     "name": "stdout",
     "output_type": "stream",
     "text": [
      "Train Epoch: 0 [0/50000 (0%)]\tLoss: 1.899726\n",
      "Train Epoch: 0 [3200/50000 (6%)]\tLoss: 2.056948\n",
      "Train Epoch: 0 [6400/50000 (13%)]\tLoss: 1.732126\n",
      "Train Epoch: 0 [9600/50000 (19%)]\tLoss: 1.843653\n",
      "Train Epoch: 0 [12800/50000 (26%)]\tLoss: 1.812793\n",
      "Train Epoch: 0 [16000/50000 (32%)]\tLoss: 1.794552\n",
      "Train Epoch: 0 [19200/50000 (38%)]\tLoss: 1.791229\n",
      "Train Epoch: 0 [22400/50000 (45%)]\tLoss: 2.034439\n",
      "Train Epoch: 0 [25600/50000 (51%)]\tLoss: 1.866062\n",
      "Train Epoch: 0 [28800/50000 (58%)]\tLoss: 1.976375\n",
      "Train Epoch: 0 [32000/50000 (64%)]\tLoss: 1.836805\n",
      "Train Epoch: 0 [35200/50000 (70%)]\tLoss: 1.666337\n",
      "Train Epoch: 0 [38400/50000 (77%)]\tLoss: 1.964420\n",
      "Train Epoch: 0 [41600/50000 (83%)]\tLoss: 1.624720\n",
      "Train Epoch: 0 [44800/50000 (90%)]\tLoss: 1.871456\n",
      "Train Epoch: 0 [48000/50000 (96%)]\tLoss: 1.928681\n"
     ]
    },
    {
     "name": "stderr",
     "output_type": "stream",
     "text": [
      "/home/artem/anaconda3/envs/pytorch_3.6/lib/python3.6/site-packages/ipykernel_launcher.py:24: UserWarning: invalid index of a 0-dim tensor. This will be an error in PyTorch 0.5. Use tensor.item() to convert a 0-dim tensor to a Python number\n"
     ]
    },
    {
     "name": "stdout",
     "output_type": "stream",
     "text": [
      "\n",
      "Test set: Average loss: 0.0131, Accuracy: 4365/10000 (43%)\n",
      "\n",
      "Train Epoch: 1 [0/50000 (0%)]\tLoss: 1.516556\n",
      "Train Epoch: 1 [3200/50000 (6%)]\tLoss: 1.790110\n",
      "Train Epoch: 1 [6400/50000 (13%)]\tLoss: 1.634391\n",
      "Train Epoch: 1 [9600/50000 (19%)]\tLoss: 1.676216\n",
      "Train Epoch: 1 [12800/50000 (26%)]\tLoss: 1.853363\n",
      "Train Epoch: 1 [16000/50000 (32%)]\tLoss: 1.511915\n",
      "Train Epoch: 1 [19200/50000 (38%)]\tLoss: 1.945287\n",
      "Train Epoch: 1 [22400/50000 (45%)]\tLoss: 1.845023\n",
      "Train Epoch: 1 [25600/50000 (51%)]\tLoss: 1.620026\n",
      "Train Epoch: 1 [28800/50000 (58%)]\tLoss: 1.683776\n",
      "Train Epoch: 1 [32000/50000 (64%)]\tLoss: 1.784438\n",
      "Train Epoch: 1 [35200/50000 (70%)]\tLoss: 1.650676\n",
      "Train Epoch: 1 [38400/50000 (77%)]\tLoss: 1.629941\n",
      "Train Epoch: 1 [41600/50000 (83%)]\tLoss: 1.752902\n",
      "Train Epoch: 1 [44800/50000 (90%)]\tLoss: 1.914457\n",
      "Train Epoch: 1 [48000/50000 (96%)]\tLoss: 1.605628\n",
      "\n",
      "Test set: Average loss: 0.0126, Accuracy: 4553/10000 (45%)\n",
      "\n",
      "Train Epoch: 2 [0/50000 (0%)]\tLoss: 1.386163\n",
      "Train Epoch: 2 [3200/50000 (6%)]\tLoss: 1.615023\n",
      "Train Epoch: 2 [6400/50000 (13%)]\tLoss: 1.553637\n",
      "Train Epoch: 2 [9600/50000 (19%)]\tLoss: 1.389716\n",
      "Train Epoch: 2 [12800/50000 (26%)]\tLoss: 1.232916\n",
      "Train Epoch: 2 [16000/50000 (32%)]\tLoss: 1.744433\n",
      "Train Epoch: 2 [19200/50000 (38%)]\tLoss: 1.747883\n",
      "Train Epoch: 2 [22400/50000 (45%)]\tLoss: 1.535065\n",
      "Train Epoch: 2 [25600/50000 (51%)]\tLoss: 1.630934\n",
      "Train Epoch: 2 [28800/50000 (58%)]\tLoss: 1.567307\n",
      "Train Epoch: 2 [32000/50000 (64%)]\tLoss: 1.828449\n",
      "Train Epoch: 2 [35200/50000 (70%)]\tLoss: 1.577250\n",
      "Train Epoch: 2 [38400/50000 (77%)]\tLoss: 1.583545\n",
      "Train Epoch: 2 [41600/50000 (83%)]\tLoss: 1.831344\n",
      "Train Epoch: 2 [44800/50000 (90%)]\tLoss: 1.660265\n",
      "Train Epoch: 2 [48000/50000 (96%)]\tLoss: 1.631537\n",
      "\n",
      "Test set: Average loss: 0.0118, Accuracy: 4852/10000 (48%)\n",
      "\n",
      "Train Epoch: 3 [0/50000 (0%)]\tLoss: 1.650723\n",
      "Train Epoch: 3 [3200/50000 (6%)]\tLoss: 1.482140\n",
      "Train Epoch: 3 [6400/50000 (13%)]\tLoss: 1.613142\n",
      "Train Epoch: 3 [9600/50000 (19%)]\tLoss: 1.612700\n",
      "Train Epoch: 3 [12800/50000 (26%)]\tLoss: 1.222083\n",
      "Train Epoch: 3 [16000/50000 (32%)]\tLoss: 1.931897\n",
      "Train Epoch: 3 [19200/50000 (38%)]\tLoss: 1.261679\n",
      "Train Epoch: 3 [22400/50000 (45%)]\tLoss: 1.388097\n",
      "Train Epoch: 3 [25600/50000 (51%)]\tLoss: 1.692770\n",
      "Train Epoch: 3 [28800/50000 (58%)]\tLoss: 1.570522\n",
      "Train Epoch: 3 [32000/50000 (64%)]\tLoss: 1.421530\n",
      "Train Epoch: 3 [35200/50000 (70%)]\tLoss: 1.351050\n",
      "Train Epoch: 3 [38400/50000 (77%)]\tLoss: 1.356896\n",
      "Train Epoch: 3 [41600/50000 (83%)]\tLoss: 1.390828\n",
      "Train Epoch: 3 [44800/50000 (90%)]\tLoss: 1.434703\n",
      "Train Epoch: 3 [48000/50000 (96%)]\tLoss: 1.350801\n",
      "\n",
      "Test set: Average loss: 0.0113, Accuracy: 5138/10000 (51%)\n",
      "\n",
      "Train Epoch: 4 [0/50000 (0%)]\tLoss: 1.509073\n",
      "Train Epoch: 4 [3200/50000 (6%)]\tLoss: 1.645115\n",
      "Train Epoch: 4 [6400/50000 (13%)]\tLoss: 1.520753\n",
      "Train Epoch: 4 [9600/50000 (19%)]\tLoss: 1.449486\n",
      "Train Epoch: 4 [12800/50000 (26%)]\tLoss: 1.824302\n",
      "Train Epoch: 4 [16000/50000 (32%)]\tLoss: 1.574715\n",
      "Train Epoch: 4 [19200/50000 (38%)]\tLoss: 1.563872\n",
      "Train Epoch: 4 [22400/50000 (45%)]\tLoss: 1.268449\n",
      "Train Epoch: 4 [25600/50000 (51%)]\tLoss: 1.594626\n",
      "Train Epoch: 4 [28800/50000 (58%)]\tLoss: 1.570538\n",
      "Train Epoch: 4 [32000/50000 (64%)]\tLoss: 1.275855\n",
      "Train Epoch: 4 [35200/50000 (70%)]\tLoss: 1.647719\n",
      "Train Epoch: 4 [38400/50000 (77%)]\tLoss: 1.261287\n",
      "Train Epoch: 4 [41600/50000 (83%)]\tLoss: 1.811927\n",
      "Train Epoch: 4 [44800/50000 (90%)]\tLoss: 1.519465\n",
      "Train Epoch: 4 [48000/50000 (96%)]\tLoss: 1.500811\n",
      "\n",
      "Test set: Average loss: 0.0110, Accuracy: 5385/10000 (53%)\n",
      "\n",
      "Train Epoch: 5 [0/50000 (0%)]\tLoss: 1.572966\n",
      "Train Epoch: 5 [3200/50000 (6%)]\tLoss: 1.276514\n",
      "Train Epoch: 5 [6400/50000 (13%)]\tLoss: 1.412390\n",
      "Train Epoch: 5 [9600/50000 (19%)]\tLoss: 1.614047\n",
      "Train Epoch: 5 [12800/50000 (26%)]\tLoss: 1.536240\n",
      "Train Epoch: 5 [16000/50000 (32%)]\tLoss: 1.577046\n",
      "Train Epoch: 5 [19200/50000 (38%)]\tLoss: 1.660763\n",
      "Train Epoch: 5 [22400/50000 (45%)]\tLoss: 1.432464\n",
      "Train Epoch: 5 [25600/50000 (51%)]\tLoss: 1.895782\n",
      "Train Epoch: 5 [28800/50000 (58%)]\tLoss: 1.437363\n",
      "Train Epoch: 5 [32000/50000 (64%)]\tLoss: 1.233342\n",
      "Train Epoch: 5 [35200/50000 (70%)]\tLoss: 1.316676\n",
      "Train Epoch: 5 [38400/50000 (77%)]\tLoss: 1.331026\n",
      "Train Epoch: 5 [41600/50000 (83%)]\tLoss: 1.619082\n",
      "Train Epoch: 5 [44800/50000 (90%)]\tLoss: 1.380967\n",
      "Train Epoch: 5 [48000/50000 (96%)]\tLoss: 1.370557\n",
      "\n",
      "Test set: Average loss: 0.0108, Accuracy: 5410/10000 (54%)\n",
      "\n",
      "Train Epoch: 6 [0/50000 (0%)]\tLoss: 1.445364\n",
      "Train Epoch: 6 [3200/50000 (6%)]\tLoss: 1.501813\n",
      "Train Epoch: 6 [6400/50000 (13%)]\tLoss: 1.307030\n",
      "Train Epoch: 6 [9600/50000 (19%)]\tLoss: 1.475585\n",
      "Train Epoch: 6 [12800/50000 (26%)]\tLoss: 1.090130\n",
      "Train Epoch: 6 [16000/50000 (32%)]\tLoss: 1.543607\n",
      "Train Epoch: 6 [19200/50000 (38%)]\tLoss: 0.942447\n",
      "Train Epoch: 6 [22400/50000 (45%)]\tLoss: 1.233338\n",
      "Train Epoch: 6 [25600/50000 (51%)]\tLoss: 1.573189\n",
      "Train Epoch: 6 [28800/50000 (58%)]\tLoss: 1.369278\n",
      "Train Epoch: 6 [32000/50000 (64%)]\tLoss: 1.342899\n",
      "Train Epoch: 6 [35200/50000 (70%)]\tLoss: 1.509597\n",
      "Train Epoch: 6 [38400/50000 (77%)]\tLoss: 1.399834\n",
      "Train Epoch: 6 [41600/50000 (83%)]\tLoss: 1.429720\n",
      "Train Epoch: 6 [44800/50000 (90%)]\tLoss: 1.234698\n",
      "Train Epoch: 6 [48000/50000 (96%)]\tLoss: 1.427441\n",
      "\n",
      "Test set: Average loss: 0.0104, Accuracy: 5654/10000 (56%)\n",
      "\n",
      "Train Epoch: 7 [0/50000 (0%)]\tLoss: 1.673181\n",
      "Train Epoch: 7 [3200/50000 (6%)]\tLoss: 1.299119\n",
      "Train Epoch: 7 [6400/50000 (13%)]\tLoss: 1.324909\n",
      "Train Epoch: 7 [9600/50000 (19%)]\tLoss: 1.416343\n",
      "Train Epoch: 7 [12800/50000 (26%)]\tLoss: 1.254664\n",
      "Train Epoch: 7 [16000/50000 (32%)]\tLoss: 1.423341\n",
      "Train Epoch: 7 [19200/50000 (38%)]\tLoss: 1.516507\n",
      "Train Epoch: 7 [22400/50000 (45%)]\tLoss: 1.174140\n",
      "Train Epoch: 7 [25600/50000 (51%)]\tLoss: 1.402606\n",
      "Train Epoch: 7 [28800/50000 (58%)]\tLoss: 1.246922\n",
      "Train Epoch: 7 [32000/50000 (64%)]\tLoss: 1.492752\n",
      "Train Epoch: 7 [35200/50000 (70%)]\tLoss: 1.154457\n",
      "Train Epoch: 7 [38400/50000 (77%)]\tLoss: 1.565156\n",
      "Train Epoch: 7 [41600/50000 (83%)]\tLoss: 1.427351\n",
      "Train Epoch: 7 [44800/50000 (90%)]\tLoss: 1.464855\n",
      "Train Epoch: 7 [48000/50000 (96%)]\tLoss: 1.700045\n",
      "\n",
      "Test set: Average loss: 0.0104, Accuracy: 5635/10000 (56%)\n",
      "\n",
      "Train Epoch: 8 [0/50000 (0%)]\tLoss: 1.867639\n",
      "Train Epoch: 8 [3200/50000 (6%)]\tLoss: 1.742884\n",
      "Train Epoch: 8 [6400/50000 (13%)]\tLoss: 1.651241\n",
      "Train Epoch: 8 [9600/50000 (19%)]\tLoss: 1.312021\n",
      "Train Epoch: 8 [12800/50000 (26%)]\tLoss: 1.370831\n",
      "Train Epoch: 8 [16000/50000 (32%)]\tLoss: 1.100471\n",
      "Train Epoch: 8 [19200/50000 (38%)]\tLoss: 1.240790\n",
      "Train Epoch: 8 [22400/50000 (45%)]\tLoss: 1.548532\n",
      "Train Epoch: 8 [25600/50000 (51%)]\tLoss: 1.454722\n",
      "Train Epoch: 8 [28800/50000 (58%)]\tLoss: 1.536297\n",
      "Train Epoch: 8 [32000/50000 (64%)]\tLoss: 1.494474\n",
      "Train Epoch: 8 [35200/50000 (70%)]\tLoss: 1.131081\n",
      "Train Epoch: 8 [38400/50000 (77%)]\tLoss: 1.260825\n",
      "Train Epoch: 8 [41600/50000 (83%)]\tLoss: 1.291803\n",
      "Train Epoch: 8 [44800/50000 (90%)]\tLoss: 1.248868\n",
      "Train Epoch: 8 [48000/50000 (96%)]\tLoss: 1.441190\n",
      "\n",
      "Test set: Average loss: 0.0100, Accuracy: 5828/10000 (58%)\n",
      "\n",
      "Train Epoch: 9 [0/50000 (0%)]\tLoss: 1.677842\n",
      "Train Epoch: 9 [3200/50000 (6%)]\tLoss: 1.224053\n",
      "Train Epoch: 9 [6400/50000 (13%)]\tLoss: 1.532503\n",
      "Train Epoch: 9 [9600/50000 (19%)]\tLoss: 1.383196\n",
      "Train Epoch: 9 [12800/50000 (26%)]\tLoss: 1.096740\n",
      "Train Epoch: 9 [16000/50000 (32%)]\tLoss: 1.307339\n",
      "Train Epoch: 9 [19200/50000 (38%)]\tLoss: 1.246550\n",
      "Train Epoch: 9 [22400/50000 (45%)]\tLoss: 1.707746\n",
      "Train Epoch: 9 [25600/50000 (51%)]\tLoss: 1.215452\n",
      "Train Epoch: 9 [28800/50000 (58%)]\tLoss: 1.260842\n",
      "Train Epoch: 9 [32000/50000 (64%)]\tLoss: 1.455713\n",
      "Train Epoch: 9 [35200/50000 (70%)]\tLoss: 1.637127\n",
      "Train Epoch: 9 [38400/50000 (77%)]\tLoss: 1.547010\n",
      "Train Epoch: 9 [41600/50000 (83%)]\tLoss: 1.385676\n",
      "Train Epoch: 9 [44800/50000 (90%)]\tLoss: 1.370358\n",
      "Train Epoch: 9 [48000/50000 (96%)]\tLoss: 1.322810\n",
      "\n",
      "Test set: Average loss: 0.0097, Accuracy: 5999/10000 (59%)\n",
      "\n"
     ]
    }
   ],
   "source": [
    "for epoch in range(10):\n",
    "    train(epoch)\n",
    "    best_loss, best_epoch = test(epoch, best_loss, best_epoch)"
   ]
  },
  {
   "cell_type": "markdown",
   "metadata": {},
   "source": [
    "### Полезные ссылки\n",
    "* https://habr.com/post/348058/ - Мануал по получению бесплатной GPU на Google.Colab\n",
    "* https://www.dlology.com/blog/how-to-run-pytorch-with-gpu-and-cuda-92-support-on-google-colab/ - Установка PyTorch и CUDA на Google.Colab\n",
    "* https://colab.research.google.com/github/chokkan/deeplearningclass/blob/master/mnist.ipynb - MNIST на Pytorch и Google.Colab\n",
    "* https://colab.research.google.com/github/StefOe/all-conv-pytorch/blob/master/cifar10.ipynb - CIFAR10 на Pytorch и Google.Colab\n",
    "* https://www.youtube.com/watch?v=WjwA5DqxL-c - Лекция К.В, Воронцова \"Нейронные сети\"\n",
    "* http://ruder.io/optimizing-gradient-descent/ - обзор современных методов градиентного спуска"
   ]
  },
  {
   "cell_type": "code",
   "execution_count": null,
   "metadata": {},
   "outputs": [],
   "source": []
  }
 ],
 "metadata": {
  "anaconda-cloud": {},
  "kernelspec": {
   "display_name": "Python 3",
   "language": "python",
   "name": "python3"
  },
  "language_info": {
   "codemirror_mode": {
    "name": "ipython",
    "version": 3
   },
   "file_extension": ".py",
   "mimetype": "text/x-python",
   "name": "python",
   "nbconvert_exporter": "python",
   "pygments_lexer": "ipython3",
   "version": "3.6.6"
  },
  "nav_menu": {},
  "toc": {
   "colors": {
    "hover_highlight": "#DAA520",
    "navigate_num": "#000000",
    "navigate_text": "#333333",
    "running_highlight": "#FF0000",
    "selected_highlight": "#FFD700",
    "sidebar_border": "#EEEEEE",
    "wrapper_background": "#FFFFFF"
   },
   "moveMenuLeft": true,
   "nav_menu": {
    "height": "254px",
    "width": "253px"
   },
   "navigate_menu": true,
   "number_sections": false,
   "sideBar": true,
   "threshold": 4,
   "toc_cell": false,
   "toc_section_display": "block",
   "toc_window_display": false,
   "widenNotebook": false
  }
 },
 "nbformat": 4,
 "nbformat_minor": 1
}
