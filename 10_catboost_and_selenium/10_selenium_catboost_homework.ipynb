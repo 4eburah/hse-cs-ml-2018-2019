{
 "cells": [
  {
   "cell_type": "markdown",
   "metadata": {},
   "source": [
    "## 1. Selenium (5 баллов)\n",
    "\n",
    "Загрузите датасет Titanic с помощью Selenium\n",
    "\n",
    "Полезнее будет найти алгоритм самостоятельно. Но если у вас возникли проблемы, далее я привожу алгоритм, который работает:\n",
    "\n",
    "- Перейдите на страничку https://kaggle.com\n",
    "- Найдите ссылку с текстом Competitions и кликните на нее\n",
    "- Найдите ссылку с текстом Titanic: Machine Learning from Disaster и кликните на нее\n",
    "- Найдите ссылку с текстом Data и кликните на нее\n",
    "- Найдите элемент с name=username , заполните его своим логином (метод send_keys)\n",
    "- Аналогично с password\n",
    "- Вызовете submit (можно прямо из элемента password)\n",
    "- После этого вас снова перекинет на Overview соревнования, так что найдите ссылку с текстом Data и кликните на нее\n",
    "- Найдите ссылку с текстом Download All и кликните на нее\n",
    "- Файл all.zip загрузился в Downloads\n",
    "\n",
    "\n",
    "## 2. CatBoost (5 баллов)\n",
    "\n",
    "- С помощью pandas откройте train.csv и test.csv\n",
    "- Заполните пропуски на слово \"Unknown\" в колонках Cabin и Embarked\n",
    "- Подготовьте X_train и y_train для обучения. В X_train попадут все колонки из train DataFrame, кроме колонок Survived и PassengerId. В y_train - только лишь колонка Survived. \n",
    "- Метод fit в CatBoostClassifier умеет работать либо с объектами класса Pool, либо с numpy.array (с pandas.DataFrame pandas.Series не умеет). Получить numpy.array из DataFrame можно вызвав у последнего аттрибут .values\n",
    "- Вызовите метод .fit(X_train.values, y_train.values, cat_features=[....]). В опциональный параметр cat_features передайте список индексов категориальных колонок.\n",
    "- У обученной модели после fit можно вызвать .predict(X_test.values) , где X_test получен так же как X_train, но на основе test.csv\n",
    "- Из ответа, полученного в predict, сформируйте submission.csv и загрузите на платформу. Какой у вас получился score?"
   ]
  },
  {
   "cell_type": "code",
   "execution_count": null,
   "metadata": {},
   "outputs": [],
   "source": []
  }
 ],
 "metadata": {
  "kernelspec": {
   "display_name": "Python 3",
   "language": "python",
   "name": "python3"
  },
  "language_info": {
   "codemirror_mode": {
    "name": "ipython",
    "version": 3
   },
   "file_extension": ".py",
   "mimetype": "text/x-python",
   "name": "python",
   "nbconvert_exporter": "python",
   "pygments_lexer": "ipython3",
   "version": "3.6.4"
  }
 },
 "nbformat": 4,
 "nbformat_minor": 2
}
