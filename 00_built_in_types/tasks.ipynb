{
 "cells": [
  {
   "cell_type": "markdown",
   "metadata": {},
   "source": [
    "# Блиц 1"
   ]
  },
  {
   "cell_type": "markdown",
   "metadata": {
    "ExecuteTime": {
     "end_time": "2018-09-13T11:18:24.028600Z",
     "start_time": "2018-09-13T11:18:24.021744Z"
    }
   },
   "source": [
    "##### 1.1 (1 балл)  \n",
    "В каком порядке происходит сложение и умножение в выражении 2 + 2 * 2 ?"
   ]
  },
  {
   "cell_type": "markdown",
   "metadata": {
    "ExecuteTime": {
     "end_time": "2018-09-13T10:55:34.822657Z",
     "start_time": "2018-09-13T10:55:34.806126Z"
    }
   },
   "source": [
    "##### 1.2. (1 балл)  \n",
    "Вам на вход приходит длина стороны квадрата. Верните tuple с тремя числами: периметр квадрата, площадь квадрата и диагональ квадрата."
   ]
  },
  {
   "cell_type": "markdown",
   "metadata": {
    "ExecuteTime": {
     "end_time": "2018-09-13T11:36:20.900496Z",
     "start_time": "2018-09-13T11:36:20.890948Z"
    }
   },
   "source": [
    "##### 1.3. (2 балла) \n",
    "Есть переменные a и b. Реализуйте обмен значениями этих переменных. Например для a = 5, b = 6 результатом будет a = 6, b = 5"
   ]
  },
  {
   "cell_type": "markdown",
   "metadata": {
    "ExecuteTime": {
     "end_time": "2018-09-13T11:38:12.272475Z",
     "start_time": "2018-09-13T11:38:12.264693Z"
    }
   },
   "source": [
    "##### 1.4. (2 балла) \n",
    "Выведете сумму цифр трехзначного числа"
   ]
  },
  {
   "cell_type": "code",
   "execution_count": null,
   "metadata": {},
   "outputs": [],
   "source": []
  },
  {
   "cell_type": "code",
   "execution_count": null,
   "metadata": {},
   "outputs": [],
   "source": []
  },
  {
   "cell_type": "code",
   "execution_count": null,
   "metadata": {},
   "outputs": [],
   "source": []
  },
  {
   "cell_type": "code",
   "execution_count": null,
   "metadata": {},
   "outputs": [],
   "source": []
  },
  {
   "cell_type": "code",
   "execution_count": null,
   "metadata": {},
   "outputs": [],
   "source": []
  },
  {
   "cell_type": "code",
   "execution_count": null,
   "metadata": {},
   "outputs": [],
   "source": []
  },
  {
   "cell_type": "code",
   "execution_count": null,
   "metadata": {},
   "outputs": [],
   "source": []
  },
  {
   "cell_type": "markdown",
   "metadata": {
    "ExecuteTime": {
     "end_time": "2018-09-13T14:56:27.744008Z",
     "start_time": "2018-09-13T14:56:27.737275Z"
    }
   },
   "source": [
    "# Блиц 2"
   ]
  },
  {
   "cell_type": "markdown",
   "metadata": {
    "ExecuteTime": {
     "end_time": "2018-09-13T15:02:17.238363Z",
     "start_time": "2018-09-13T15:02:17.229977Z"
    }
   },
   "source": [
    "#### 2.1 (1 балл)\n",
    "Что больше: True или False?"
   ]
  },
  {
   "cell_type": "markdown",
   "metadata": {
    "ExecuteTime": {
     "end_time": "2018-09-13T15:02:57.458533Z",
     "start_time": "2018-09-13T15:02:57.450897Z"
    }
   },
   "source": [
    "#### 2.2 (0.25 балла за каждую)\n",
    "Найдите максимальное количество операций, которые можно проводить с переменной типа None (операции могут быть бинарными)"
   ]
  },
  {
   "cell_type": "markdown",
   "metadata": {
    "ExecuteTime": {
     "end_time": "2018-09-13T11:03:50.219169Z",
     "start_time": "2018-09-13T11:03:50.210950Z"
    }
   },
   "source": [
    "##### 2.3 (2 балла)  \n",
    "Для двух логических переменных a и b напишите выражение, реализующее логический оператор XOR.<br>\n",
    "Он работает так:<br>\n",
    "True XOR True = False<br>\n",
    "True XOR False = True<br>\n",
    "False XOR True = True<br>\n",
    "False XOR False = False<br>"
   ]
  },
  {
   "cell_type": "markdown",
   "metadata": {
    "ExecuteTime": {
     "end_time": "2018-09-13T10:54:12.675101Z",
     "start_time": "2018-09-13T10:54:12.662638Z"
    }
   },
   "source": [
    "##### 2.4 (2 балла)  \n",
    "Вам на вход приходит год (например, 2025). Определите, високосный ли он?"
   ]
  },
  {
   "cell_type": "code",
   "execution_count": null,
   "metadata": {},
   "outputs": [],
   "source": []
  },
  {
   "cell_type": "code",
   "execution_count": null,
   "metadata": {},
   "outputs": [],
   "source": []
  },
  {
   "cell_type": "code",
   "execution_count": null,
   "metadata": {},
   "outputs": [],
   "source": []
  },
  {
   "cell_type": "code",
   "execution_count": null,
   "metadata": {},
   "outputs": [],
   "source": []
  },
  {
   "cell_type": "code",
   "execution_count": null,
   "metadata": {},
   "outputs": [],
   "source": []
  },
  {
   "cell_type": "code",
   "execution_count": null,
   "metadata": {},
   "outputs": [],
   "source": []
  },
  {
   "cell_type": "code",
   "execution_count": null,
   "metadata": {},
   "outputs": [],
   "source": []
  },
  {
   "cell_type": "markdown",
   "metadata": {},
   "source": [
    "# Блиц 3"
   ]
  },
  {
   "cell_type": "markdown",
   "metadata": {
    "ExecuteTime": {
     "end_time": "2018-09-13T15:20:56.335248Z",
     "start_time": "2018-09-13T15:20:56.326920Z"
    }
   },
   "source": [
    "##### 3.1 (1 балл)  \n",
    "\n",
    "Создайте пустой список (list) и наполните его элементами True, None, 42\n",
    "\n",
    "Создайте пустое множество (set) и наполните его элементами True, None, 42\n",
    "\n",
    "Создайте пустой кортеж (tuplу) и наполните его элементами True, None, 42"
   ]
  },
  {
   "cell_type": "markdown",
   "metadata": {
    "ExecuteTime": {
     "end_time": "2018-09-13T15:07:34.200956Z",
     "start_time": "2018-09-13T15:07:34.190603Z"
    }
   },
   "source": [
    "##### 3.2 (1 балл)  \n",
    "\n",
    "Создайдет список из 4-х элемернтов. Перемножьте 0-й, 2-й и 3-й элементы"
   ]
  },
  {
   "cell_type": "markdown",
   "metadata": {
    "ExecuteTime": {
     "end_time": "2018-09-13T11:28:53.224416Z",
     "start_time": "2018-09-13T11:28:53.211604Z"
    }
   },
   "source": [
    "##### 3.3 (3 балла)  \n",
    "\n",
    "Расположите строчки от меньшей к большей (с т.з. оператора < ):<br>\n",
    "'abz'<br>\n",
    "'aabz'<br>\n",
    "'Abz'<br>\n",
    "'0.123'<br>\n",
    "'00.123'<br>\n",
    "'-0.123'<br>\n",
    "'0123'<br>\n",
    "''"
   ]
  },
  {
   "cell_type": "markdown",
   "metadata": {},
   "source": [
    "##### 3.4 (3 балла)  \n",
    "Рассчитайте, сколько окажетеся денег на счету у клиента банка, если он положил x рублей на n лет под 10% годовых. Процены прибавляются к сумме вклада ежегодно"
   ]
  },
  {
   "cell_type": "code",
   "execution_count": null,
   "metadata": {},
   "outputs": [],
   "source": []
  },
  {
   "cell_type": "code",
   "execution_count": null,
   "metadata": {},
   "outputs": [],
   "source": []
  },
  {
   "cell_type": "code",
   "execution_count": null,
   "metadata": {},
   "outputs": [],
   "source": []
  },
  {
   "cell_type": "markdown",
   "metadata": {},
   "source": [
    "# Домашка 1:"
   ]
  },
  {
   "cell_type": "markdown",
   "metadata": {
    "ExecuteTime": {
     "end_time": "2018-07-23T14:15:49.812245Z",
     "start_time": "2018-07-23T14:15:49.799852Z"
    }
   },
   "source": [
    "##### 1. (2 балла) \n",
    "\n",
    "На вход вам приходит вещественное число, обозначающее время, которое необходимо потратить на задачу (создайте для этого переменную duration). \n",
    "<br>\n",
    "Выведите, сколько времени уйдет, чтобы выполнить 3 такие задачи.\n",
    "<br>\n",
    "__Ввод:__ вещественное число, которое обозначает количество часов (нецелое, например 1.5 -значит 1 час и 0.5 часа, то есть 30 минут). Число часов точно меньше 24.\n",
    "<br>\n",
    "__Вывод:__ hh:mm (часы:минуты).\n",
    "\n"
   ]
  },
  {
   "cell_type": "markdown",
   "metadata": {
    "ExecuteTime": {
     "end_time": "2018-09-13T11:14:49.555933Z",
     "start_time": "2018-09-13T11:14:49.530687Z"
    }
   },
   "source": [
    "##### 2. (2 балла)  \n",
    "Для двух строк l1 и l2, а так же числа n вывести строчку l3, состоящую из конкатенации l1 и l2, повторенной n раз.<br>\n",
    "Например, для l1='hello', l2='world', n=2, l3 будет равно 'helloworldhelloworld' "
   ]
  },
  {
   "cell_type": "markdown",
   "metadata": {
    "ExecuteTime": {
     "end_time": "2018-07-23T14:16:20.925801Z",
     "start_time": "2018-07-23T14:16:20.919099Z"
    }
   },
   "source": [
    "##### 3. (2 балла) \n",
    "\n",
    "Электронные часы показывают время в формате hh:mm:ss, то есть сначала записывается обязательно двузначное количество часов, потом обязательно двузначное количество минут, затем обязательно двузначное количество секунд. \n",
    "\n",
    "С начала суток прошло N секунд. Выведите, что покажут часы. В N точно меньше 24 часов."
   ]
  },
  {
   "cell_type": "markdown",
   "metadata": {},
   "source": [
    "##### 4. (2 балла) \n",
    "\n",
    "На вход даются числа a, b, натуральные, a < b. Задача вывести числа Фибоначчи с номерами от a до b. [Число Фибоначчи](https://ru.wikipedia.org/wiki/Числа_Фибоначчи)"
   ]
  }
 ],
 "metadata": {
  "kernelspec": {
   "display_name": "Python 3",
   "language": "python",
   "name": "python3"
  },
  "language_info": {
   "codemirror_mode": {
    "name": "ipython",
    "version": 3
   },
   "file_extension": ".py",
   "mimetype": "text/x-python",
   "name": "python",
   "nbconvert_exporter": "python",
   "pygments_lexer": "ipython3",
   "version": "3.6.4"
  }
 },
 "nbformat": 4,
 "nbformat_minor": 2
}
