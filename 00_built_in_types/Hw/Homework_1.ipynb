{
 "cells": [
  {
   "cell_type": "markdown",
   "metadata": {},
   "source": [
    "Roman Klepov\n",
    "\n",
    "Python для анализа данных, Домашка 1 https://github.com/SlinkoIgor/data_mining_course2/blob/master/00_built_in_types/tasks.ipynb"
   ]
  },
  {
   "cell_type": "code",
   "execution_count": 1,
   "metadata": {},
   "outputs": [
    {
     "name": "stdout",
     "output_type": "stream",
     "text": [
      "01:30\n",
      "23:15\n",
      "04:30\n"
     ]
    }
   ],
   "source": [
    "# 1.1\n",
    "\n",
    "def task_dur(dur):\n",
    "    hh = int(dur)\n",
    "    mm = 60 * (dur - hh)\n",
    "    return str(hh).zfill(2) + \":\" + str(int(mm)).zfill(2)\n",
    "\n",
    "print(task_dur(1.5))\n",
    "print(task_dur(23.25))\n",
    "print(task_dur(3 * 1.5))"
   ]
  },
  {
   "cell_type": "code",
   "execution_count": 2,
   "metadata": {},
   "outputs": [
    {
     "name": "stdout",
     "output_type": "stream",
     "text": [
      "Hello world!\n",
      "Hello world!\n",
      "Hello world!\n",
      "\n"
     ]
    }
   ],
   "source": [
    "# 1.2\n",
    "\n",
    "def concat(n,s1,s2):\n",
    "    return n * (s1 + s2)\n",
    "\n",
    "print(concat(3,\"Hello \",\"world!\\n\"))"
   ]
  },
  {
   "cell_type": "code",
   "execution_count": 3,
   "metadata": {},
   "outputs": [
    {
     "name": "stdout",
     "output_type": "stream",
     "text": [
      "21:44:15\n",
      "00:00:00\n",
      "02:46:39\n"
     ]
    }
   ],
   "source": [
    "# 1.3\n",
    "\n",
    "def time_hms(sec):\n",
    "    ss = sec % 60\n",
    "    mm = sec // 60 % 60\n",
    "    hh = sec // 3600 % 24\n",
    "    return str(hh).zfill(2) + \":\" + str(mm).zfill(2) + \":\" + str(ss).zfill(2)\n",
    "\n",
    "print(time_hms(15 + 60 * 44 + 3600 * 21))\n",
    "print(time_hms(0))\n",
    "print(time_hms(9999))"
   ]
  },
  {
   "cell_type": "code",
   "execution_count": 4,
   "metadata": {},
   "outputs": [
    {
     "name": "stdout",
     "output_type": "stream",
     "text": [
      "[144, 233, 377, 610]\n",
      "[1]\n",
      "[1, 1]\n"
     ]
    }
   ],
   "source": [
    "# 1.4\n",
    "\n",
    "# index      0  1  2  3  4  5   6   7   8   9  10   11   12   13   14   15\n",
    "# fibonacci  1, 1, 2, 3, 5, 8, 13, 21, 34, 55, 89, 144, 233, 377, 610, 987\n",
    "def fib(ixMax,sequence):\n",
    "    if ixMax < len(sequence): return sequence[:ixMax + 1]\n",
    "    sequence.append(sequence[-1] + sequence[-2])\n",
    "    return fib(ixMax,sequence)\n",
    "\n",
    "def fib_range(ixa,ixb):\n",
    "    return fib(ixb,[1, 1])[ixa:]\n",
    "\n",
    "print(fib_range(11, 14))\n",
    "print(fib_range(0, 0))\n",
    "print(fib_range(0, 1))"
   ]
  }
 ],
 "metadata": {
  "kernelspec": {
   "display_name": "Python 3",
   "language": "python",
   "name": "python3"
  },
  "language_info": {
   "codemirror_mode": {
    "name": "ipython",
    "version": 3
   },
   "file_extension": ".py",
   "mimetype": "text/x-python",
   "name": "python",
   "nbconvert_exporter": "python",
   "pygments_lexer": "ipython3",
   "version": "3.6.5"
  }
 },
 "nbformat": 4,
 "nbformat_minor": 2
}
