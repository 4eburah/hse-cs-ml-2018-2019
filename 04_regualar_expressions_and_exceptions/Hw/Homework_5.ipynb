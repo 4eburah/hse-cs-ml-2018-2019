{
 "cells": [
  {
   "cell_type": "markdown",
   "metadata": {},
   "source": [
    "### _imports_"
   ]
  },
  {
   "cell_type": "code",
   "execution_count": 1,
   "metadata": {},
   "outputs": [],
   "source": [
    "# all imports go here\n",
    "\n",
    "import datetime\n",
    "import math\n",
    "import re"
   ]
  },
  {
   "cell_type": "markdown",
   "metadata": {},
   "source": [
    "## 1"
   ]
  },
  {
   "cell_type": "code",
   "execution_count": 2,
   "metadata": {},
   "outputs": [
    {
     "name": "stdout",
     "output_type": "stream",
     "text": [
      "2018-08-14 19:00:55\n"
     ]
    }
   ],
   "source": [
    "date = '2018-08-14T19:00:55Z'\n",
    "print( datetime.datetime.strptime(date,'%Y-%m-%dT%H:%M:%SZ') )"
   ]
  },
  {
   "cell_type": "markdown",
   "metadata": {},
   "source": [
    "## 2"
   ]
  },
  {
   "cell_type": "code",
   "execution_count": 3,
   "metadata": {},
   "outputs": [
    {
     "name": "stdout",
     "output_type": "stream",
     "text": [
      "(datetime.datetime(2018, 11, 6, 1, 10, 54, 417382), 'Tuesday')\n",
      "(datetime.datetime(2018, 10, 17, 1, 10, 54, 417382), 'Wednesday')\n"
     ]
    }
   ],
   "source": [
    "def get_weekday(dt = datetime.datetime.now(), offset = 20):\n",
    "    when = dt + datetime.timedelta(offset)\n",
    "    return (when, when.strftime('%A'))\n",
    "    \n",
    "print( get_weekday() )\n",
    "print( get_weekday(offset = 0) )"
   ]
  },
  {
   "cell_type": "markdown",
   "metadata": {},
   "source": [
    "## 3"
   ]
  },
  {
   "cell_type": "code",
   "execution_count": 4,
   "metadata": {},
   "outputs": [
    {
     "name": "stdout",
     "output_type": "stream",
     "text": [
      "{'radius': 1.5707963267948966, 'surface': 31.006276680299816, 'volume': 16.23484850566707}\n"
     ]
    }
   ],
   "source": [
    "def get_sphere_geomety(r):\n",
    "    return {'radius' : r, 'surface' : 4 * math.pi * r**2, 'volume' : (4/3) * math.pi * r**3 }\n",
    "\n",
    "print( get_sphere_geomety(math.pi / 2) )"
   ]
  },
  {
   "cell_type": "markdown",
   "metadata": {},
   "source": [
    "## 4\n",
    "\n",
    "_Не совсем понял идею создания функции для данного задания. Чтобы она... что? Просто делегировала вызов `re.findall` ?\n",
    "Да ещё и ответ указан вместе с заданием)_\n",
    "\n",
    "_Но уж делаем, как попросили)_"
   ]
  },
  {
   "cell_type": "code",
   "execution_count": 5,
   "metadata": {},
   "outputs": [
    {
     "name": "stdout",
     "output_type": "stream",
     "text": [
      "['12345', '23456']\n"
     ]
    }
   ],
   "source": [
    "def find_all_passwords(pattern, phrase):\n",
    "    return re.findall(pattern, phrase)\n",
    "    \n",
    "string = 'kasdjvb password:12345 hdhvbpassword:  23456, 3534726, password123 fhbfvw'\n",
    "print( find_all_passwords(r'password:[\\s]*([\\d]+)', string) )"
   ]
  },
  {
   "cell_type": "markdown",
   "metadata": {},
   "source": [
    "## 5"
   ]
  },
  {
   "cell_type": "code",
   "execution_count": 6,
   "metadata": {},
   "outputs": [
    {
     "data": {
      "text/plain": [
       "['+7(917)12-345-67', '+7(495)36-558-47']"
      ]
     },
     "execution_count": 6,
     "metadata": {},
     "output_type": "execute_result"
    }
   ],
   "source": [
    "tel = 'My number is +7(917)12-345-67 or +7(495)36-558-47. Call me!'\n",
    "\n",
    "re.findall(r'\\+?\\d\\(\\d{3}\\)\\d{2}-\\d{3}-\\d{2}', tel)"
   ]
  },
  {
   "cell_type": "markdown",
   "metadata": {},
   "source": [
    "## 6"
   ]
  },
  {
   "cell_type": "code",
   "execution_count": 7,
   "metadata": {},
   "outputs": [
    {
     "name": "stdout",
     "output_type": "stream",
     "text": [
      "Division can't be performed (2): [(4, 0), (0, 0)]\n",
      "Division is good to go (3): ([(2, 3), (9, 3), (143, 12)])\n"
     ]
    }
   ],
   "source": [
    "def get_divisible_pairs(*pairs):\n",
    "    divisible = list()\n",
    "    failing = list()\n",
    "    list_selector = divisible\n",
    "    for num, denom in pairs:\n",
    "        try:\n",
    "            num / denom\n",
    "        except ZeroDivisionError as zde:\n",
    "            list_selector = failing\n",
    "        finally:\n",
    "            list_selector.append((num, denom))\n",
    "            list_selector = divisible\n",
    "            \n",
    "    return { 'divisible' : divisible, 'non-divisible' : failing }\n",
    "\n",
    "def prnit_divisible_pairs(*pairs):\n",
    "    r = get_divisible_pairs(*pairs)\n",
    "    \n",
    "    d = r['non-divisible']\n",
    "    if 0 < len(d):\n",
    "        print(\"Division can't be performed ({1}): {0}\".format(d, len(d)))\n",
    "        \n",
    "    d = r['divisible']\n",
    "    if 0 < len(d):\n",
    "        print(\"Division is good to go ({1}): ({0})\".format(d, len(d)))\n",
    "\n",
    "\n",
    "pairs = [(2, 3), (4, 0), (9, 3), (143,12), (0, 0)] \n",
    "prnit_divisible_pairs(*pairs)"
   ]
  }
 ],
 "metadata": {
  "kernelspec": {
   "display_name": "Python 3",
   "language": "python",
   "name": "python3"
  },
  "language_info": {
   "codemirror_mode": {
    "name": "ipython",
    "version": 3
   },
   "file_extension": ".py",
   "mimetype": "text/x-python",
   "name": "python",
   "nbconvert_exporter": "python",
   "pygments_lexer": "ipython3",
   "version": "3.6.5"
  }
 },
 "nbformat": 4,
 "nbformat_minor": 2
}
