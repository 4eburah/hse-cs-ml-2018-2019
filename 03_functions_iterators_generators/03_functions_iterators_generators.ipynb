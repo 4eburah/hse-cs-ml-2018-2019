{
 "cells": [
  {
   "cell_type": "markdown",
   "metadata": {},
   "source": [
    "# Functions\n",
    "\n",
    "## Введение в функции\n",
    "\n",
    "Функции - необходимые строительные кирпичики в случае, когда вы пишите много кода и он только растет. \n",
    "\n",
    "Функции - это конструкции, которые совмещают в себе несколько выражений и могут быть использованы несколько раз. Чаще всего им на вход передаются различные параметры, которые могут служить вводными для функции.\n",
    "\n",
    "Функции используются для многократного повторения кода по одной команде. Мы уже использовали функцию `len()`, которая считает колиество элементов в массиве. Это часто повторяющаяся операция, поэтому удобно иметь короткую команду для ее вызова."
   ]
  },
  {
   "cell_type": "markdown",
   "metadata": {},
   "source": [
    "## def - начло функции\n",
    "\n",
    "Начнем разбираться с построением функций. Общий вид этой конструкции таков:"
   ]
  },
  {
   "cell_type": "code",
   "execution_count": null,
   "metadata": {},
   "outputs": [],
   "source": [
    "def function_name(arg1, arg2):\n",
    "    '''\n",
    "    Здесь прописывается документация функции (docstring)\n",
    "    '''\n",
    "    # Здесь могло бы быть выражение, которое что-то делает\n",
    "    # А здесь то, что функция возвращает"
   ]
  },
  {
   "cell_type": "markdown",
   "metadata": {},
   "source": [
    "За словом `def` после пробела следует имя функции. Старайтесь давать функциям краткие и релевантные имена, это упростит в дальнейшем чтение и понимание кода. Не используйте в качестве названий имена встроенных функций [built-in function in Python](https://docs.python.org/2/library/functions.html) (например, len). В названии функции принято добавлять глагол. Например, check_password() – так читающий ваш код может понять, что это функция, а не что-то другое\n",
    "\n",
    "Затем идет пара скобок с аргументами. Аргументов может быть сколько угодно. Аргументы - это переменные, которые будет использоваться внутри функции. После них идет двоеточие. \n",
    "\n",
    "Тело функции начинается с отступа (4 пробела).\n",
    "\n",
    "Далее следует опциональная часть с документацией функции. Чтение документации в iPython Notebooks доступно по сочетанию клавиш `Shift+Tab` внутри скобок.\n",
    "\n",
    "Далее идет код, который выполнтся при вызове функции и return, если функция должна что-то вернуть."
   ]
  },
  {
   "cell_type": "markdown",
   "metadata": {},
   "source": [
    "### Example 1: функция, которая пишет hello"
   ]
  },
  {
   "cell_type": "code",
   "execution_count": null,
   "metadata": {},
   "outputs": [],
   "source": [
    "def print_hello():\n",
    "    print('hello')"
   ]
  },
  {
   "cell_type": "markdown",
   "metadata": {},
   "source": [
    "Вызов функции:"
   ]
  },
  {
   "cell_type": "code",
   "execution_count": null,
   "metadata": {},
   "outputs": [],
   "source": [
    "print_hello()"
   ]
  },
  {
   "cell_type": "markdown",
   "metadata": {},
   "source": [
    "### Example 2: Простая приветственная функция"
   ]
  },
  {
   "cell_type": "code",
   "execution_count": null,
   "metadata": {},
   "outputs": [],
   "source": [
    "def greeting(name):\n",
    "    print('Привет, {}'.format(name))"
   ]
  },
  {
   "cell_type": "code",
   "execution_count": null,
   "metadata": {},
   "outputs": [],
   "source": [
    "greeting('Valya')"
   ]
  },
  {
   "cell_type": "markdown",
   "metadata": {},
   "source": [
    "## Использование return\n",
    "`return` позволяет функции возвращать результат, который может передаваться переменной или использоваться как угдно далее.\n",
    "\n",
    "### Example 3: Суммирующая функция"
   ]
  },
  {
   "cell_type": "code",
   "execution_count": null,
   "metadata": {},
   "outputs": [],
   "source": [
    "def sum_num(num1, num2):\n",
    "    return num1 + num2"
   ]
  },
  {
   "cell_type": "code",
   "execution_count": null,
   "metadata": {},
   "outputs": [],
   "source": [
    "sum_num(4, 5)"
   ]
  },
  {
   "cell_type": "code",
   "execution_count": null,
   "metadata": {},
   "outputs": [],
   "source": [
    "result = sum_num(4,5)"
   ]
  },
  {
   "cell_type": "code",
   "execution_count": null,
   "metadata": {},
   "outputs": [],
   "source": [
    "print(result)"
   ]
  },
  {
   "cell_type": "code",
   "execution_count": null,
   "metadata": {},
   "outputs": [],
   "source": [
    "sum_num('один','два')"
   ]
  },
  {
   "cell_type": "code",
   "execution_count": null,
   "metadata": {},
   "outputs": [],
   "source": [
    "def sum_num(num1=0, num2=0):\n",
    "    return num1 + num2"
   ]
  },
  {
   "cell_type": "code",
   "execution_count": null,
   "metadata": {},
   "outputs": [],
   "source": [
    "sum_num()"
   ]
  },
  {
   "cell_type": "markdown",
   "metadata": {
    "collapsed": true
   },
   "source": [
    "Давайте напишем программу посложнее. Например, проверку, простое ли число. Мы знаем, что число простое, когда оно делится без остатка лишь на себя и 1. Поэтому в первой реализации кода проверим остаток от деления этого числа на все числа меньше его."
   ]
  },
  {
   "cell_type": "code",
   "execution_count": null,
   "metadata": {},
   "outputs": [],
   "source": [
    "def is_prime(num):\n",
    "    '''\n",
    "    Наивный и не оптимальный метод проверки чисел на простоту. \n",
    "    '''\n",
    "    for n in range(2, num):\n",
    "        if num % n == 0:\n",
    "            print(num,'не простое!')\n",
    "            break\n",
    "    else: # если ни разу не было деления без остатка\n",
    "        print(num,'простое!')"
   ]
  },
  {
   "cell_type": "code",
   "execution_count": null,
   "metadata": {},
   "outputs": [],
   "source": [
    "is_prime(15)"
   ]
  },
  {
   "cell_type": "code",
   "execution_count": null,
   "metadata": {},
   "outputs": [],
   "source": [
    "is_prime(7)"
   ]
  },
  {
   "cell_type": "code",
   "execution_count": null,
   "metadata": {},
   "outputs": [],
   "source": [
    "def is_prime2(num):\n",
    "    '''\n",
    "    Better method of checking for primes. \n",
    "    '''\n",
    "    if num % 2 == 0 and num > 2: \n",
    "        return False\n",
    "    for i in range(3, int(num**0.5) + 1, 2):\n",
    "        if num % i == 0:\n",
    "            return False\n",
    "    return True"
   ]
  },
  {
   "cell_type": "code",
   "execution_count": null,
   "metadata": {},
   "outputs": [],
   "source": [
    "is_prime2(18)"
   ]
  },
  {
   "cell_type": "markdown",
   "metadata": {},
   "source": [
    "Почему в этом случае не используется `break`? Это следует из природы `return`. Если функция возвращает что-то, она прекращает работу. Функция может иметь множественные выводы `print`, но возвращает что-то она лишь один раз."
   ]
  },
  {
   "cell_type": "markdown",
   "metadata": {},
   "source": [
    "# Блиц 1\n",
    "1. На вход функции подается строка: два слова через пробел. Проверить, имеют ли слова одинаковые первые буквы. Регистр не учитывать.\n",
    "2. На вход функции подаются два числа. Проверить, составляют ли они в сумме 20 или что хотя бы одно из чисел равно 20.\n",
    "3. Создать функцию, которая полученную на вход фразу выводит в обратном порядке.\n",
    "4. На вход функции подается лист из чисел. Проверить, что в листе есть три подряд идущие 7. Например, `[1, 2, 7, 7, 7]` вернет `True`.\n",
    "5. Функции на вход подается слово, вывести такое же слово, но где все буквы повторяются по 4 раза. Пример: `привет - ппппррррииииввввеееетттт`."
   ]
  },
  {
   "cell_type": "markdown",
   "metadata": {},
   "source": [
    "# Для дз\n",
    "1. На вход функции подается лист из чисел. Проверить, что в листе есть идущие  по порядку цифры, составляющие число 123. Например, `[7, 1, 4, 2, 1, 3, 7]` вернет `True`. А `[3, 2, 1]` вернет `False`.\n",
    "2. На вход функции подается число >=2. Посчитать, сколько между 2 и этим числом есть простых чисел и вывести все эти числа."
   ]
  },
  {
   "cell_type": "markdown",
   "metadata": {},
   "source": [
    "# Итераторы и генераторы\n",
    "\n",
    "Генераторы позволяют нам создавать последовательность данных, не храня сразу всю информацию в памяти.\n",
    "\n",
    "По своему устройству они очень похожи на функции, за исключением ключевого слова. Здесь оно `yield` вместо `return`. Еще одно различие заключается в том, что после того, как генератор скомпилирован, он начинает поддерживать итеративный протокол. Это значит, что после вызова генератора в коде, он не просто возвращает значение и прекращает работу, он останавливается на том моменте, где закончил, и начинает с того же момента при следующем вызове."
   ]
  },
  {
   "cell_type": "code",
   "execution_count": null,
   "metadata": {},
   "outputs": [],
   "source": [
    "def gensquares(n):\n",
    "    for num in range(n):\n",
    "        yield num**2"
   ]
  },
  {
   "cell_type": "code",
   "execution_count": null,
   "metadata": {},
   "outputs": [],
   "source": [
    "gensquares(10)"
   ]
  },
  {
   "cell_type": "code",
   "execution_count": null,
   "metadata": {},
   "outputs": [],
   "source": [
    "for i in gensquares(10):\n",
    "    print(i)"
   ]
  },
  {
   "cell_type": "code",
   "execution_count": null,
   "metadata": {},
   "outputs": [],
   "source": [
    "list(gensquares(10))"
   ]
  },
  {
   "cell_type": "code",
   "execution_count": null,
   "metadata": {},
   "outputs": [],
   "source": [
    "def genfibonnachi(n):\n",
    "    \"\"\"\n",
    "    Generate a fibonnaci sequence up to n\n",
    "    \"\"\"\n",
    "    a = 1\n",
    "    b = 1\n",
    "    for i in range(n):\n",
    "        yield a\n",
    "        a,b = b,a+b"
   ]
  },
  {
   "cell_type": "code",
   "execution_count": null,
   "metadata": {},
   "outputs": [],
   "source": [
    "list(genfibonnachi(10))"
   ]
  },
  {
   "cell_type": "code",
   "execution_count": null,
   "metadata": {},
   "outputs": [],
   "source": [
    "def fibonnachi(n):\n",
    "    a = 1\n",
    "    b = 1\n",
    "    output = []\n",
    "    \n",
    "    for i in range(n):\n",
    "        output.append(a)\n",
    "        a,b = b,a+b\n",
    "        \n",
    "    return output"
   ]
  },
  {
   "cell_type": "code",
   "execution_count": null,
   "metadata": {},
   "outputs": [],
   "source": [
    "fibonnachi(10)"
   ]
  },
  {
   "cell_type": "code",
   "execution_count": null,
   "metadata": {},
   "outputs": [],
   "source": [
    "def count(start=0, step=1):\n",
    "    n = start\n",
    "    while True:\n",
    "        yield n\n",
    "        n += step"
   ]
  },
  {
   "cell_type": "code",
   "execution_count": null,
   "metadata": {},
   "outputs": [],
   "source": [
    "gen = count()"
   ]
  },
  {
   "cell_type": "code",
   "execution_count": null,
   "metadata": {},
   "outputs": [],
   "source": [
    "print(next(gen))"
   ]
  },
  {
   "cell_type": "code",
   "execution_count": null,
   "metadata": {},
   "outputs": [],
   "source": [
    "print(next(gen))"
   ]
  },
  {
   "cell_type": "code",
   "execution_count": null,
   "metadata": {},
   "outputs": [],
   "source": [
    "print(next(gen))"
   ]
  },
  {
   "cell_type": "code",
   "execution_count": null,
   "metadata": {},
   "outputs": [],
   "source": [
    "def count3(start=0, step=1):\n",
    "    n = start\n",
    "    while n < 3:\n",
    "        yield n\n",
    "        n += step"
   ]
  },
  {
   "cell_type": "code",
   "execution_count": null,
   "metadata": {},
   "outputs": [],
   "source": [
    "gen3 = count3()"
   ]
  },
  {
   "cell_type": "code",
   "execution_count": null,
   "metadata": {},
   "outputs": [],
   "source": [
    "print(next(gen3))"
   ]
  },
  {
   "cell_type": "code",
   "execution_count": null,
   "metadata": {},
   "outputs": [],
   "source": [
    "print(next(gen3))"
   ]
  },
  {
   "cell_type": "code",
   "execution_count": null,
   "metadata": {},
   "outputs": [],
   "source": [
    "print(next(gen3))"
   ]
  },
  {
   "cell_type": "code",
   "execution_count": null,
   "metadata": {},
   "outputs": [],
   "source": [
    "print(next(gen3))"
   ]
  },
  {
   "cell_type": "code",
   "execution_count": null,
   "metadata": {},
   "outputs": [],
   "source": [
    "s = 'python'\n",
    "\n",
    "for let in s:\n",
    "    print(let)"
   ]
  },
  {
   "cell_type": "code",
   "execution_count": null,
   "metadata": {},
   "outputs": [],
   "source": [
    "next(s)"
   ]
  },
  {
   "cell_type": "code",
   "execution_count": null,
   "metadata": {},
   "outputs": [],
   "source": [
    "s_iter = iter(s)"
   ]
  },
  {
   "cell_type": "code",
   "execution_count": null,
   "metadata": {},
   "outputs": [],
   "source": [
    "print(next(s_iter))\n",
    "print(next(s_iter))\n",
    "print(next(s_iter))\n",
    "print(next(s_iter))\n",
    "print(next(s_iter))\n",
    "print(next(s_iter))\n",
    "print(next(s_iter))"
   ]
  },
  {
   "cell_type": "markdown",
   "metadata": {},
   "source": [
    "# List Comprehensions\n",
    "Можно считать, что эти выражения - свернутые в одну строку `for` циклы и `append` результата. И выглядят они почти как эти циклы, только обернутые в квадратные скобки. Внутри этих выражений можно реализовать большинство простых циклов."
   ]
  },
  {
   "cell_type": "code",
   "execution_count": null,
   "metadata": {},
   "outputs": [],
   "source": [
    "l = [x for x in 'python']\n",
    "l"
   ]
  },
  {
   "cell_type": "code",
   "execution_count": null,
   "metadata": {},
   "outputs": [],
   "source": [
    "l = [x.upper() for x in 'python']\n",
    "l"
   ]
  },
  {
   "cell_type": "code",
   "execution_count": null,
   "metadata": {},
   "outputs": [],
   "source": [
    "l = [x**3 for x in range(5)]\n",
    "l"
   ]
  },
  {
   "cell_type": "code",
   "execution_count": null,
   "metadata": {},
   "outputs": [],
   "source": [
    "l = [int(x) for x in '123456789' if int(x) % 2 == 0]\n",
    "l"
   ]
  },
  {
   "cell_type": "code",
   "execution_count": null,
   "metadata": {
    "ExecuteTime": {
     "end_time": "2018-10-04T13:24:25.667109Z",
     "start_time": "2018-10-04T13:24:25.635537Z"
    }
   },
   "outputs": [],
   "source": [
    "celsius = [0, 10, 20.1, 34.5]\n",
    "\n",
    "fahrenheit = [9 / 5 * temp + 32 for temp in celsius]\n",
    "\n",
    "fahrenheit"
   ]
  },
  {
   "cell_type": "code",
   "execution_count": null,
   "metadata": {},
   "outputs": [],
   "source": [
    "l = [x // 2 for x in [y ** 3 for y in range(5)]]\n",
    "l"
   ]
  },
  {
   "cell_type": "code",
   "execution_count": null,
   "metadata": {},
   "outputs": [],
   "source": [
    "non_flat = [ [1,2,3], [4,5,6], [7,8] ]\n",
    "flat = [y for x in non_flat for y in x]\n",
    "flat"
   ]
  },
  {
   "cell_type": "code",
   "execution_count": null,
   "metadata": {},
   "outputs": [],
   "source": [
    "for x in non_flat:\n",
    "    for y in x:\n",
    "        print(y)"
   ]
  },
  {
   "cell_type": "markdown",
   "metadata": {
    "ExecuteTime": {
     "end_time": "2018-10-04T13:35:15.382324Z",
     "start_time": "2018-10-04T13:35:15.373402Z"
    }
   },
   "source": [
    "Все это же можно делать с помощью круглых скобок – в таком случае не будет создаваться список"
   ]
  },
  {
   "cell_type": "markdown",
   "metadata": {},
   "source": [
    "# Блиц 2\n",
    "1. С помощью list comprehensions создать список чисел от 0 до 100 включительно, которые нацело делятся на 5.\n",
    "2. Говорят, что некотрые буквы встречаются на втором месте в слове чаще, чем на первом. Давайте проверим на примере 'o'. Сохраните спихотворение 'The Raven' в файл .txt, и проверьте на его примере это утверждение. Ссылка на стихотворение: https://www.eapoe.org/works/poems/ravent.htm"
   ]
  },
  {
   "cell_type": "code",
   "execution_count": null,
   "metadata": {},
   "outputs": [],
   "source": []
  },
  {
   "cell_type": "code",
   "execution_count": null,
   "metadata": {},
   "outputs": [],
   "source": []
  }
 ],
 "metadata": {
  "kernelspec": {
   "display_name": "Python 3",
   "language": "python",
   "name": "python3"
  },
  "language_info": {
   "codemirror_mode": {
    "name": "ipython",
    "version": 3
   },
   "file_extension": ".py",
   "mimetype": "text/x-python",
   "name": "python",
   "nbconvert_exporter": "python",
   "pygments_lexer": "ipython3",
   "version": "3.6.4"
  }
 },
 "nbformat": 4,
 "nbformat_minor": 1
}
