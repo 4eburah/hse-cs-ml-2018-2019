{
 "cells": [
  {
   "cell_type": "markdown",
   "metadata": {},
   "source": [
    "[Домашнее задание №4](https://github.com/SlinkoIgor/data_mining_course2/blob/master/03_functions_iterators_generators/03_functions_iterators_generators_homework.ipynb)"
   ]
  },
  {
   "cell_type": "markdown",
   "metadata": {},
   "source": [
    "## 1\n",
    "Насколько я понимаю, идея 1-го задания - это создать функцию, которая бы вычисляла факториал без использования генератора (в задании 3 функция будет переписана с использованием реализованного там генератора)."
   ]
  },
  {
   "cell_type": "code",
   "execution_count": 1,
   "metadata": {},
   "outputs": [],
   "source": [
    "def calc_factorial(n):\n",
    "    if n < 0:\n",
    "        return None\n",
    "    if 0 == n:\n",
    "        return 1\n",
    "    return n * calc_factorial(n - 1)"
   ]
  },
  {
   "cell_type": "code",
   "execution_count": 2,
   "metadata": {},
   "outputs": [
    {
     "name": "stdout",
     "output_type": "stream",
     "text": [
      "None\n",
      "1\n",
      "1\n",
      "2\n",
      "6\n",
      "24\n"
     ]
    }
   ],
   "source": [
    "print(calc_factorial(-1))\n",
    "print(calc_factorial(0))\n",
    "print(calc_factorial(1))\n",
    "print(calc_factorial(2))\n",
    "print(calc_factorial(3))\n",
    "print(calc_factorial(4))"
   ]
  },
  {
   "cell_type": "markdown",
   "metadata": {},
   "source": [
    "## 2\n",
    "Почитал про функции, теперь могу даже сделать вычисление максимума для произвольного числа аргументов)"
   ]
  },
  {
   "cell_type": "code",
   "execution_count": 3,
   "metadata": {},
   "outputs": [],
   "source": [
    "def get_max_value(*args):\n",
    "    m = None\n",
    "    for v in args:\n",
    "        if m is None or v > m:\n",
    "            m = v\n",
    "    return m"
   ]
  },
  {
   "cell_type": "code",
   "execution_count": 4,
   "metadata": {},
   "outputs": [
    {
     "name": "stdout",
     "output_type": "stream",
     "text": [
      "None\n",
      "0\n",
      "3\n",
      "9\n",
      "-5\n",
      "0\n"
     ]
    }
   ],
   "source": [
    "print(get_max_value())\n",
    "print(get_max_value(0))\n",
    "print(get_max_value(1, 3, 2))\n",
    "print(get_max_value(9, 9, 9))\n",
    "print(get_max_value(-99, -5, -18, -44))\n",
    "print(get_max_value(0, -5, -18, -44))"
   ]
  },
  {
   "cell_type": "markdown",
   "metadata": {},
   "source": [
    "## 3"
   ]
  },
  {
   "cell_type": "markdown",
   "metadata": {},
   "source": [
    "### 3.1\n",
    "Указанная в задании спецификация `get_factorial_generator()` исключает его использование в качестве итерируемого объекта в цикле `for`, потому что отсутствует верхняя граница диапазона. Поэтому он будет использоваться только в паре с вызовом  `next()` в теле цикла."
   ]
  },
  {
   "cell_type": "code",
   "execution_count": 5,
   "metadata": {},
   "outputs": [],
   "source": [
    "def get_factorial_generator():\n",
    "    n = 0\n",
    "    f = 1\n",
    "    while True:\n",
    "        yield f\n",
    "        n += 1\n",
    "        f *= n"
   ]
  },
  {
   "cell_type": "code",
   "execution_count": 6,
   "metadata": {},
   "outputs": [
    {
     "name": "stdout",
     "output_type": "stream",
     "text": [
      "0! = 1\n",
      "1! = 1\n",
      "2! = 2\n",
      "3! = 6\n",
      "4! = 24\n",
      "5! = 120\n",
      "6! = 720\n",
      "7! = 5040\n"
     ]
    }
   ],
   "source": [
    "fact_g = get_factorial_generator()\n",
    "for n in range(8):\n",
    "    print('{}! = {}'.format(n, next(fact_g)))"
   ]
  },
  {
   "cell_type": "markdown",
   "metadata": {},
   "source": [
    "### 3.2 \n",
    "Теперь перепишем `calc_factorial()` с использованием реализованного генератора."
   ]
  },
  {
   "cell_type": "code",
   "execution_count": 7,
   "metadata": {},
   "outputs": [],
   "source": [
    "def calc_factorial(n):\n",
    "    if n < 0:\n",
    "        return None\n",
    "    fact_g = get_factorial_generator()\n",
    "    for _ in range(n):\n",
    "        next(fact_g)        \n",
    "    return next(fact_g)"
   ]
  },
  {
   "cell_type": "code",
   "execution_count": 8,
   "metadata": {},
   "outputs": [
    {
     "name": "stdout",
     "output_type": "stream",
     "text": [
      "None\n",
      "1\n",
      "1\n",
      "2\n",
      "6\n",
      "24\n"
     ]
    }
   ],
   "source": [
    "print(calc_factorial(-1))\n",
    "print(calc_factorial(0))\n",
    "print(calc_factorial(1))\n",
    "print(calc_factorial(2))\n",
    "print(calc_factorial(3))\n",
    "print(calc_factorial(4))"
   ]
  },
  {
   "cell_type": "markdown",
   "metadata": {},
   "source": [
    "## 4"
   ]
  },
  {
   "cell_type": "markdown",
   "metadata": {},
   "source": [
    "### 4.1"
   ]
  },
  {
   "cell_type": "code",
   "execution_count": 9,
   "metadata": {},
   "outputs": [
    {
     "name": "stdout",
     "output_type": "stream",
     "text": [
      "[1, 120, 2432902008176640000, 6, 5040]\n"
     ]
    }
   ],
   "source": [
    "print( [ calc_factorial(n) for n in [1, 5, 20, 3, 7] ] )"
   ]
  },
  {
   "cell_type": "markdown",
   "metadata": {},
   "source": [
    "### 4.2\n",
    "Не совсем понял, что значит _\"Не изменяя список\"_, потому что в самом задании в примере список изменён."
   ]
  },
  {
   "cell_type": "code",
   "execution_count": 10,
   "metadata": {},
   "outputs": [
    {
     "name": "stdout",
     "output_type": "stream",
     "text": [
      "[1, 120, 2432902008176640000, 6, 5040]\n"
     ]
    }
   ],
   "source": [
    "print( [ calc_factorial(n) for n in [1, 5, 20, 31, 3, 7] if 30 >= n] )"
   ]
  },
  {
   "cell_type": "markdown",
   "metadata": {},
   "source": [
    "## 5"
   ]
  },
  {
   "cell_type": "code",
   "execution_count": 11,
   "metadata": {},
   "outputs": [],
   "source": [
    "def compare_files(f1, f2):\n",
    "    '''\n",
    "    Возвращает номер первой различающейся строки в двух файлах (нумерация строк с 1)\n",
    "    или 0, если все строки обоих файлов совпадают\n",
    "    '''\n",
    "    for line_num, line1 in enumerate(f1):\n",
    "        line1 = line1.rstrip()\n",
    "        line2 = f2.readline().rstrip()\n",
    "        # print(line1, line2, line1 == line2)\n",
    "        if line1 != line2:\n",
    "            return line_num + 1\n",
    "    return 0"
   ]
  },
  {
   "cell_type": "code",
   "execution_count": 12,
   "metadata": {},
   "outputs": [
    {
     "name": "stdout",
     "output_type": "stream",
     "text": [
      "The content of the two files is identical\n"
     ]
    }
   ],
   "source": [
    "with open('Onegin_utf8.txt', encoding='utf8') as eugene, \\\n",
    "        open('Onegin_windows1251.txt', encoding='windows-1251') as onegin:\n",
    "    line_num_diff = compare_files(eugene, onegin)\n",
    "    if 0 == line_num_diff:\n",
    "        print('The content of the two files is identical')\n",
    "    else:\n",
    "        print('Difference at line #{}'.format(line_num_diff))"
   ]
  }
 ],
 "metadata": {
  "kernelspec": {
   "display_name": "Python 3",
   "language": "python",
   "name": "python3"
  },
  "language_info": {
   "codemirror_mode": {
    "name": "ipython",
    "version": 3
   },
   "file_extension": ".py",
   "mimetype": "text/x-python",
   "name": "python",
   "nbconvert_exporter": "python",
   "pygments_lexer": "ipython3",
   "version": "3.6.5"
  }
 },
 "nbformat": 4,
 "nbformat_minor": 2
}
