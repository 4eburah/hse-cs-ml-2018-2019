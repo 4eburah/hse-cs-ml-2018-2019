{
 "cells": [
  {
   "cell_type": "markdown",
   "metadata": {},
   "source": [
    "1. (3 балла) С помощью requests скачайте главную страницу https://meduza.io/ . Для каждой новости получите как давно она была опубликована. Постройте гистограму, где по x будет время в часах, а по y - количество новостей в данный час.\n",
    "\n",
    "2. (3 балла) На страничке постеров к Звездным войнам скачайте каждый из постеров: https://www.kinopoisk.ru/film/zvyozdnye-voyny-poslednie-dzhedai-2017-718223/posters/ . Воспользуйтесь requests и beatiful soup.\n",
    "\n",
    "3. (3 балла) На сайте https://auto.ru/ в шапке представлены марки автомобилей и рядом количество объявлений. Загрузите сайт с помощью requests, с помощью beautiful soup получите информацию о марках и соответствующих числах. Постройте countplot, где по x будет марка, а по y - количество объявлений.\n",
    "\n",
    "4. (3 балла) На сайте https://www.kaggle.com/competitions?sortBy=prize&group=general&page=1&pageSize=100 представлены соревнования по машинному обучению, скачайте сайт с помощью requests. Для каждого сореванония из html сайта получите призовой фонд и количество команд-учатников. Отсортируйте соревнования по количеству команд. Постройте график, в котором по x будет количество команд-участников, а по y - размер призового фонда. "
   ]
  },
  {
   "cell_type": "code",
   "execution_count": null,
   "metadata": {},
   "outputs": [],
   "source": []
  }
 ],
 "metadata": {
  "kernelspec": {
   "display_name": "Python 3",
   "language": "python",
   "name": "python3"
  },
  "language_info": {
   "codemirror_mode": {
    "name": "ipython",
    "version": 3
   },
   "file_extension": ".py",
   "mimetype": "text/x-python",
   "name": "python",
   "nbconvert_exporter": "python",
   "pygments_lexer": "ipython3",
   "version": "3.6.4"
  }
 },
 "nbformat": 4,
 "nbformat_minor": 2
}
