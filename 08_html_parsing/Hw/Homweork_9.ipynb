{
 "cells": [
  {
   "cell_type": "markdown",
   "metadata": {},
   "source": [
    "### _imports_"
   ]
  },
  {
   "cell_type": "code",
   "execution_count": 1,
   "metadata": {},
   "outputs": [],
   "source": [
    "import matplotlib.pyplot as plt\n",
    "%matplotlib inline\n",
    "from bs4 import BeautifulSoup\n",
    "import pandas as pd\n",
    "import numpy as np\n",
    "import seaborn as sns\n",
    "import requests\n",
    "import time\n",
    "import os\n",
    "import re\n",
    "import json\n",
    "\n",
    "from collections import Counter"
   ]
  },
  {
   "cell_type": "markdown",
   "metadata": {},
   "source": [
    "# 1. Meduza\n",
    "\n",
    "_Я не стал парсить текст \"ххх минут назад\", чтобы построить точную гистограмму по времени, потому что это не совсем тема данной работы (а похожую задачу мы уже решали в_ [_прошлом ДЗ_](https://github.com/rklepov/data_mining_course2/blob/homework/07_xml_and_visualization/Hw/Homework_8.ipynb) _- возраст живатоных)._"
   ]
  },
  {
   "cell_type": "code",
   "execution_count": 2,
   "metadata": {},
   "outputs": [],
   "source": [
    "response = requests.get('https://meduza.io/')\n",
    "soup = BeautifulSoup(response.text, 'html.parser')"
   ]
  },
  {
   "cell_type": "code",
   "execution_count": 3,
   "metadata": {},
   "outputs": [],
   "source": [
    "when = pd.DataFrame(columns=['when', 'count'],\n",
    "                    data=Counter([ time.text for time in soup.find_all('time', {'class': 'Timestamp-root'}) ]).most_common())"
   ]
  },
  {
   "cell_type": "code",
   "execution_count": 4,
   "metadata": {},
   "outputs": [
    {
     "data": {
      "image/png": "[encoded data removed]",
      "text/plain": [
       "<Figure size 720x360 with 1 Axes>"
      ]
     },
     "metadata": {},
     "output_type": "display_data"
    }
   ],
   "source": [
    "sns.set()\n",
    "g = sns.catplot(x='when', y='count', data=when, kind='bar', height=5, aspect=2, palette='dark')\n",
    "g.set_xticklabels(rotation = 90);"
   ]
  },
  {
   "cell_type": "markdown",
   "metadata": {},
   "source": [
    "# 2. StarWars\n",
    "\n",
    "_Данная задача плохо воспроизводится, потому что Яндекс банит(_"
   ]
  },
  {
   "cell_type": "code",
   "execution_count": 5,
   "metadata": {},
   "outputs": [],
   "source": [
    "# обходим блокировку через Тор\n",
    "import socks\n",
    "import socket\n",
    "\n",
    "# !pip install fake_useragent\n",
    "from fake_useragent import UserAgent\n",
    "\n",
    "socks.set_default_proxy(socks.SOCKS5, \"localhost\", 9150)\n",
    "if not socket.socket is socks.socksocket: \n",
    "    _socket = socket.socket\n",
    "    socket.socket = socks.socksocket\n",
    "\n",
    "ua = UserAgent()\n",
    "\n",
    "# torrc\n",
    "# MaxCircuitDirtiness 10"
   ]
  },
  {
   "cell_type": "code",
   "execution_count": 6,
   "metadata": {},
   "outputs": [],
   "source": [
    "os.makedirs('StarWars', exist_ok=True)"
   ]
  },
  {
   "cell_type": "code",
   "execution_count": 7,
   "metadata": {},
   "outputs": [],
   "source": [
    "def get_sw_poster_previews(page):\n",
    "    headers = {'User-Agent' : ua.random}\n",
    "    response = requests.get('https://www.kinopoisk.ru/film/718223/posters/page/{}/'.format(page), headers=headers)\n",
    "    soup = BeautifulSoup(response.text, 'html.parser')\n",
    "    return [ img for img in soup.find_all('img', {'src' : True}) if 'poster' in img.attrs['src'] ]"
   ]
  },
  {
   "cell_type": "code",
   "execution_count": 8,
   "metadata": {
    "scrolled": true
   },
   "outputs": [
    {
     "name": "stdout",
     "output_type": "stream",
     "text": [
      "85\n"
     ]
    }
   ],
   "source": [
    "img_previews = list(get_sw_poster_previews(1))\n",
    "img_previews.extend(get_sw_poster_previews(2))\n",
    "print(len(img_previews))"
   ]
  },
  {
   "cell_type": "code",
   "execution_count": 9,
   "metadata": {},
   "outputs": [],
   "source": [
    "def get_sw_poster_img(url, attempt = 20):\n",
    "#     print(url)\n",
    "    headers = {'User-Agent' : ua.random}\n",
    "    response = requests.get(url, headers=headers)\n",
    "    soup = BeautifulSoup(response.text, 'html.parser')\n",
    "    img = soup.find('img', {'id' : 'image', 'onclick' : True})\n",
    "    if img is None and 0 < attempt - 1:\n",
    "        time.sleep(1 + np.random.random())\n",
    "        return get_sw_poster_img(url, attempt - 1)\n",
    "#     print(img)\n",
    "    return img"
   ]
  },
  {
   "cell_type": "code",
   "execution_count": null,
   "metadata": {},
   "outputs": [],
   "source": [
    "images = [ get_sw_poster_img('https://www.kinopoisk.ru{}'.format(img.parent['href'])) \n",
    "              for img in img_previews if 'picture' in img.parent['href'] ]"
   ]
  },
  {
   "cell_type": "code",
   "execution_count": 11,
   "metadata": {},
   "outputs": [
    {
     "data": {
      "text/plain": [
       "83"
      ]
     },
     "execution_count": 11,
     "metadata": {},
     "output_type": "execute_result"
    }
   ],
   "source": [
    "len([ img['src'] for img in images if not img is None ])"
   ]
  },
  {
   "cell_type": "code",
   "execution_count": 12,
   "metadata": {},
   "outputs": [],
   "source": [
    "def save_sw_poster(poster_url, attempts = 10):\n",
    "    poster = requests.get(poster_url, headers=headers)\n",
    "    if 200 != poster.status_code and 0 < attempts - 1:\n",
    "        time.sleep(1+np.random.random())\n",
    "        return save_sw_poster(poster_url, attempts - 1)\n",
    "    with open('{}/{}'.format('StarWars', poster_url.split('/')[-1]), 'wb') as poster_fd:\n",
    "        poster_fd.write(poster.content)"
   ]
  },
  {
   "cell_type": "code",
   "execution_count": null,
   "metadata": {},
   "outputs": [],
   "source": [
    "for poster_url in [ img['src'] for img in images if not img is None ]:\n",
    "    headers = {'User-Agent' : ua.random}\n",
    "#     print(poster_url)\n",
    "    save_sw_poster(poster_url)"
   ]
  },
  {
   "cell_type": "markdown",
   "metadata": {},
   "source": [
    "![](StarWars/kinopoisk.ru-Star-Wars_3A-Episode-VIII-The-Last-Jedi-3061146.jpg)"
   ]
  },
  {
   "cell_type": "markdown",
   "metadata": {},
   "source": [
    "# 3. auto.ru"
   ]
  },
  {
   "cell_type": "code",
   "execution_count": 14,
   "metadata": {},
   "outputs": [],
   "source": [
    "# auto.ru наоборот не работает черех proxy, требует принять какое-то соглашение\n",
    "socket.socket = _socket"
   ]
  },
  {
   "cell_type": "code",
   "execution_count": 15,
   "metadata": {},
   "outputs": [],
   "source": [
    "headers = {'User-Agent' : ua.random}\n",
    "response = requests.get('https://auto.ru/', headers=headers)\n",
    "soup = BeautifulSoup(response.content.decode('utf-8'), 'html.parser')"
   ]
  },
  {
   "cell_type": "code",
   "execution_count": 16,
   "metadata": {},
   "outputs": [],
   "source": [
    "items = soup.find_all('a', {'class' : 'IndexMarks__item'})\n",
    "names = np.array([ item.find('div', {'class' : 'IndexMarks__item-name'}).string for item in items ])\n",
    "counts = np.array([ int(item.find('div', {'class' : 'IndexMarks__item-count'}).text) for item in items ])\n",
    "sorted_ix = counts.argsort()[::-1]"
   ]
  },
  {
   "cell_type": "code",
   "execution_count": 17,
   "metadata": {},
   "outputs": [
    {
     "data": {
      "image/png": "[encoded data removed]",
      "text/plain": [
       "<Figure size 864x720 with 1 Axes>"
      ]
     },
     "metadata": {},
     "output_type": "display_data"
    }
   ],
   "source": [
    "sns.set(rc={'figure.figsize':(12,10)})\n",
    "g = sns.barplot(x=names[sorted_ix], y=counts[sorted_ix])\n",
    "g.set_xticklabels(names[sorted_ix], rotation = 90);"
   ]
  },
  {
   "cell_type": "markdown",
   "metadata": {},
   "source": [
    "# 4. Kaggle"
   ]
  },
  {
   "cell_type": "code",
   "execution_count": 18,
   "metadata": {},
   "outputs": [],
   "source": [
    "response = requests.get('https://www.kaggle.com/competitions?sortBy=prize&group=general&page=1&pageSize=100')\n",
    "soup = BeautifulSoup(response.text, 'html.parser')"
   ]
  },
  {
   "cell_type": "code",
   "execution_count": 19,
   "metadata": {},
   "outputs": [],
   "source": [
    "# сайт динамический, данные запрятаны в json (смотрим только начальную страницу)\n",
    "json_text = re.search(r'[^(]*\\(({.*})\\)', soup.find_all('script')[-6].string)"
   ]
  },
  {
   "cell_type": "code",
   "execution_count": 20,
   "metadata": {},
   "outputs": [],
   "source": [
    "json_competitions = json.loads(json_text.groups(0)[0])"
   ]
  },
  {
   "cell_type": "code",
   "execution_count": 21,
   "metadata": {},
   "outputs": [
    {
     "data": {
      "text/html": [
       "<div>\n",
       "<style scoped>\n",
       "    .dataframe tbody tr th:only-of-type {\n",
       "        vertical-align: middle;\n",
       "    }\n",
       "\n",
       "    .dataframe tbody tr th {\n",
       "        vertical-align: top;\n",
       "    }\n",
       "\n",
       "    .dataframe thead th {\n",
       "        text-align: right;\n",
       "    }\n",
       "</style>\n",
       "<table border=\"1\" class=\"dataframe\">\n",
       "  <thead>\n",
       "    <tr style=\"text-align: right;\">\n",
       "      <th></th>\n",
       "      <th>rewardDisplay</th>\n",
       "      <th>totalTeams</th>\n",
       "      <th>competitionDescription</th>\n",
       "    </tr>\n",
       "  </thead>\n",
       "  <tbody>\n",
       "    <tr>\n",
       "      <th>Zillow Prize: Zillow’s Home Value Prediction (Zestimate)</th>\n",
       "      <td>1200000</td>\n",
       "      <td>3779</td>\n",
       "      <td>Can you improve the algorithm that changed the...</td>\n",
       "    </tr>\n",
       "    <tr>\n",
       "      <th>2018 Data Science Bowl</th>\n",
       "      <td>100000</td>\n",
       "      <td>3634</td>\n",
       "      <td>Find the nuclei in divergent images to advance...</td>\n",
       "    </tr>\n",
       "    <tr>\n",
       "      <th>TGS Salt Identification Challenge</th>\n",
       "      <td>100000</td>\n",
       "      <td>3234</td>\n",
       "      <td>Segment salt deposits beneath the Earth's surface</td>\n",
       "    </tr>\n",
       "    <tr>\n",
       "      <th>Mercari Price Suggestion Challenge</th>\n",
       "      <td>100000</td>\n",
       "      <td>2384</td>\n",
       "      <td>Can you automatically suggest product prices t...</td>\n",
       "    </tr>\n",
       "    <tr>\n",
       "      <th>The Nature Conservancy Fisheries Monitoring</th>\n",
       "      <td>150000</td>\n",
       "      <td>2293</td>\n",
       "      <td>Can you detect and classify species of fish?</td>\n",
       "    </tr>\n",
       "    <tr>\n",
       "      <th>Springleaf Marketing Response</th>\n",
       "      <td>100000</td>\n",
       "      <td>2226</td>\n",
       "      <td>Determine whether to send a direct mail piece ...</td>\n",
       "    </tr>\n",
       "    <tr>\n",
       "      <th>Two Sigma Financial Modeling Challenge</th>\n",
       "      <td>100000</td>\n",
       "      <td>2070</td>\n",
       "      <td>Can you uncover predictive value in an uncerta...</td>\n",
       "    </tr>\n",
       "    <tr>\n",
       "      <th>Data Science Bowl 2017</th>\n",
       "      <td>1000000</td>\n",
       "      <td>1972</td>\n",
       "      <td>Can you improve lung cancer detection?</td>\n",
       "    </tr>\n",
       "    <tr>\n",
       "      <th>Two Sigma: Using News to Predict Stock Movements</th>\n",
       "      <td>100000</td>\n",
       "      <td>1606</td>\n",
       "      <td>Use news analytics to predict stock price perf...</td>\n",
       "    </tr>\n",
       "    <tr>\n",
       "      <th>Heritage Health Prize</th>\n",
       "      <td>500000</td>\n",
       "      <td>1353</td>\n",
       "      <td>Identify patients who will be admitted to a ho...</td>\n",
       "    </tr>\n",
       "    <tr>\n",
       "      <th>National Data Science Bowl</th>\n",
       "      <td>175000</td>\n",
       "      <td>1049</td>\n",
       "      <td>Predict ocean health, one plankton at a time</td>\n",
       "    </tr>\n",
       "    <tr>\n",
       "      <th>Ultrasound Nerve Segmentation</th>\n",
       "      <td>100000</td>\n",
       "      <td>923</td>\n",
       "      <td>Identify nerve structures in ultrasound images...</td>\n",
       "    </tr>\n",
       "    <tr>\n",
       "      <th>Intel &amp; MobileODT Cervical Cancer Screening</th>\n",
       "      <td>100000</td>\n",
       "      <td>848</td>\n",
       "      <td>Which cancer treatment will be most effective?</td>\n",
       "    </tr>\n",
       "    <tr>\n",
       "      <th>Second Annual Data Science Bowl</th>\n",
       "      <td>200000</td>\n",
       "      <td>773</td>\n",
       "      <td>Transforming How We Diagnose Heart Disease</td>\n",
       "    </tr>\n",
       "    <tr>\n",
       "      <th>Google Cloud &amp; YouTube-8M Video Understanding Challenge</th>\n",
       "      <td>100000</td>\n",
       "      <td>655</td>\n",
       "      <td>Can you produce the best video tag predictions?</td>\n",
       "    </tr>\n",
       "    <tr>\n",
       "      <th>Passenger Screening Algorithm Challenge</th>\n",
       "      <td>1500000</td>\n",
       "      <td>518</td>\n",
       "      <td>Improve the accuracy of the Department of Home...</td>\n",
       "    </tr>\n",
       "    <tr>\n",
       "      <th>Dstl Satellite Imagery Feature Detection</th>\n",
       "      <td>100000</td>\n",
       "      <td>419</td>\n",
       "      <td>Can you train an eye in the sky?</td>\n",
       "    </tr>\n",
       "    <tr>\n",
       "      <th>Western Australia Rental Prices</th>\n",
       "      <td>100000</td>\n",
       "      <td>59</td>\n",
       "      <td>Predict rental prices for properties across We...</td>\n",
       "    </tr>\n",
       "    <tr>\n",
       "      <th>Flu Forecasting</th>\n",
       "      <td>125000</td>\n",
       "      <td>50</td>\n",
       "      <td>Predict when, where and how strong the flu wil...</td>\n",
       "    </tr>\n",
       "    <tr>\n",
       "      <th>Cervical Cancer Screening</th>\n",
       "      <td>100000</td>\n",
       "      <td>40</td>\n",
       "      <td>Help prevent cervical cancer by identifying at...</td>\n",
       "    </tr>\n",
       "  </tbody>\n",
       "</table>\n",
       "</div>"
      ],
      "text/plain": [
       "                                                    rewardDisplay  totalTeams  \\\n",
       "Zillow Prize: Zillow’s Home Value Prediction (Z...        1200000        3779   \n",
       "2018 Data Science Bowl                                     100000        3634   \n",
       "TGS Salt Identification Challenge                          100000        3234   \n",
       "Mercari Price Suggestion Challenge                         100000        2384   \n",
       "The Nature Conservancy Fisheries Monitoring                150000        2293   \n",
       "Springleaf Marketing Response                              100000        2226   \n",
       "Two Sigma Financial Modeling Challenge                     100000        2070   \n",
       "Data Science Bowl 2017                                    1000000        1972   \n",
       "Two Sigma: Using News to Predict Stock Movements           100000        1606   \n",
       "Heritage Health Prize                                      500000        1353   \n",
       "National Data Science Bowl                                 175000        1049   \n",
       "Ultrasound Nerve Segmentation                              100000         923   \n",
       "Intel & MobileODT Cervical Cancer Screening                100000         848   \n",
       "Second Annual Data Science Bowl                            200000         773   \n",
       "Google Cloud & YouTube-8M Video Understanding C...         100000         655   \n",
       "Passenger Screening Algorithm Challenge                   1500000         518   \n",
       "Dstl Satellite Imagery Feature Detection                   100000         419   \n",
       "Western Australia Rental Prices                            100000          59   \n",
       "Flu Forecasting                                            125000          50   \n",
       "Cervical Cancer Screening                                  100000          40   \n",
       "\n",
       "                                                                               competitionDescription  \n",
       "Zillow Prize: Zillow’s Home Value Prediction (Z...  Can you improve the algorithm that changed the...  \n",
       "2018 Data Science Bowl                              Find the nuclei in divergent images to advance...  \n",
       "TGS Salt Identification Challenge                   Segment salt deposits beneath the Earth's surface  \n",
       "Mercari Price Suggestion Challenge                  Can you automatically suggest product prices t...  \n",
       "The Nature Conservancy Fisheries Monitoring              Can you detect and classify species of fish?  \n",
       "Springleaf Marketing Response                       Determine whether to send a direct mail piece ...  \n",
       "Two Sigma Financial Modeling Challenge              Can you uncover predictive value in an uncerta...  \n",
       "Data Science Bowl 2017                                         Can you improve lung cancer detection?  \n",
       "Two Sigma: Using News to Predict Stock Movements    Use news analytics to predict stock price perf...  \n",
       "Heritage Health Prize                               Identify patients who will be admitted to a ho...  \n",
       "National Data Science Bowl                               Predict ocean health, one plankton at a time  \n",
       "Ultrasound Nerve Segmentation                       Identify nerve structures in ultrasound images...  \n",
       "Intel & MobileODT Cervical Cancer Screening            Which cancer treatment will be most effective?  \n",
       "Second Annual Data Science Bowl                            Transforming How We Diagnose Heart Disease  \n",
       "Google Cloud & YouTube-8M Video Understanding C...    Can you produce the best video tag predictions?  \n",
       "Passenger Screening Algorithm Challenge             Improve the accuracy of the Department of Home...  \n",
       "Dstl Satellite Imagery Feature Detection                             Can you train an eye in the sky?  \n",
       "Western Australia Rental Prices                     Predict rental prices for properties across We...  \n",
       "Flu Forecasting                                     Predict when, where and how strong the flu wil...  \n",
       "Cervical Cancer Screening                           Help prevent cervical cancer by identifying at...  "
      ]
     },
     "execution_count": 21,
     "metadata": {},
     "output_type": "execute_result"
    }
   ],
   "source": [
    "competitions = {'competitionTitle' : [], 'rewardDisplay' : [], 'totalTeams' : [], 'competitionDescription' : []}\n",
    "\n",
    "for competition in json_competitions['pagedCompetitionGroup']['competitions']:\n",
    "    for k in competitions.keys():\n",
    "        competitions[k].append(competition[k])\n",
    "\n",
    "competitionTitle = competitions.pop('competitionTitle')\n",
    "competitions_df = pd.DataFrame(data=competitions, index=competitionTitle)\n",
    "competitions_df['rewardDisplay'] = competitions_df['rewardDisplay'].apply(lambda s: int(s[1::].replace(',','')))\n",
    "competitions_df.sort_values('totalTeams', ascending=False, inplace=True)\n",
    "competitions_df"
   ]
  },
  {
   "cell_type": "code",
   "execution_count": 22,
   "metadata": {},
   "outputs": [
    {
     "data": {
      "image/png": "[encoded data removed]",
      "text/plain": [
       "<Figure size 864x720 with 1 Axes>"
      ]
     },
     "metadata": {},
     "output_type": "display_data"
    }
   ],
   "source": [
    "sns.set(rc={'figure.figsize':(12,10)})\n",
    "sns.barplot(x = 'totalTeams', y = 'rewardDisplay', data=competitions_df);"
   ]
  }
 ],
 "metadata": {
  "kernelspec": {
   "display_name": "Python 3",
   "language": "python",
   "name": "python3"
  },
  "language_info": {
   "codemirror_mode": {
    "name": "ipython",
    "version": 3
   },
   "file_extension": ".py",
   "mimetype": "text/x-python",
   "name": "python",
   "nbconvert_exporter": "python",
   "pygments_lexer": "ipython3",
   "version": "3.7.0"
  }
 },
 "nbformat": 4,
 "nbformat_minor": 2
}
