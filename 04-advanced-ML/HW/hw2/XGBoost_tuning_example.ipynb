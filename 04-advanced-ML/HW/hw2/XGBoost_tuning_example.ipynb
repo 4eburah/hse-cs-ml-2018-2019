{
  "nbformat": 4,
  "nbformat_minor": 0,
  "metadata": {
    "colab": {
      "name": "XGBoost_tuning_example.ipynb",
      "version": "0.3.2",
      "provenance": [],
      "collapsed_sections": [],
      "include_colab_link": true
    },
    "kernelspec": {
      "name": "python3",
      "display_name": "Python 3"
    },
    "accelerator": "TPU"
  },
  "cells": [
    {
      "cell_type": "markdown",
      "metadata": {
        "id": "view-in-github",
        "colab_type": "text"
      },
      "source": [
        "<a href=\"https://colab.research.google.com/github/rklepov/hse-cs-ml-2018-2019/blob/homework/04-advanced-ML/HW/hw2/XGBoost_tuning_example.ipynb\" target=\"_parent\"><img src=\"https://colab.research.google.com/assets/colab-badge.svg\" alt=\"Open In Colab\"/></a>"
      ]
    },
    {
      "metadata": {
        "id": "FN89GeDM3IWn",
        "colab_type": "text"
      },
      "cell_type": "markdown",
      "source": [
        "# XGBoost tuning\n",
        "\n",
        "Будем работать с данными - http://datahack.analyticsvidhya.com/contest/data-hackathon-3x.\n",
        "Мы решаем задачу классификации на два класса. Сразу будем работать с обработанными и уменьшенными данными (для ускорения процесса обучения). Процесс обработки данных и полный и подробный туториал для данной задачи приведён здесь: https://github.com/aarshayj/Analytics_Vidhya/blob/master/Articles/Parameter_Tuning_XGBoost_with_Example. "
      ]
    },
    {
      "metadata": {
        "id": "sHMLJk8G3IWw",
        "colab_type": "code",
        "colab": {}
      },
      "cell_type": "code",
      "source": [
        "import pandas as pd\n",
        "import numpy as np\n",
        "import xgboost as xgb\n",
        "from xgboost.sklearn import XGBClassifier\n",
        "from sklearn import model_selection, metrics\n",
        "from sklearn.model_selection import GridSearchCV\n",
        "\n",
        "import matplotlib.pylab as plt\n",
        "%matplotlib inline\n",
        "from matplotlib.pylab import rcParams\n",
        "rcParams['figure.figsize'] = 16, 9"
      ],
      "execution_count": 0,
      "outputs": []
    },
    {
      "metadata": {
        "id": "2l_xjtHC3IW_",
        "colab_type": "text"
      },
      "cell_type": "markdown",
      "source": [
        "# Загружаем данные\n",
        "\n",
        "Вы можете работать с train_medium/test_medium, если готовы немного подождать при обучении xgboost. Если вы хотите быстрых результатов, то работайте с файлами train_small/test_small."
      ]
    },
    {
      "metadata": {
        "id": "ewpfmSCB3IXF",
        "colab_type": "code",
        "outputId": "111b0761-3cbd-4649-ea0d-873053ca613c",
        "colab": {
          "base_uri": "https://localhost:8080/",
          "height": 35
        }
      },
      "cell_type": "code",
      "source": [
        "X_train = pd.read_csv('https://raw.githubusercontent.com/rklepov/hse-cs-ml-2018-2019/master/04-advanced-ML/03-boosting/train_medium.csv')\n",
        "X_test = pd.read_csv('https://raw.githubusercontent.com/rklepov/hse-cs-ml-2018-2019/master/04-advanced-ML/03-boosting/test_medium.csv')\n",
        "# X_train = pd.read_csv('https://raw.githubusercontent.com/rklepov/hse-cs-ml-2018-2019/master/04-advanced-ML/03-boosting/train_small.csv')\n",
        "# X_test = pd.read_csv('https://raw.githubusercontent.com/rklepov/hse-cs-ml-2018-2019/master/04-advanced-ML/03-boosting/test_small.csv')\n",
        "len(X_train), len(X_test)"
      ],
      "execution_count": 4,
      "outputs": [
        {
          "output_type": "execute_result",
          "data": {
            "text/plain": [
              "(65265, 21755)"
            ]
          },
          "metadata": {
            "tags": []
          },
          "execution_count": 4
        }
      ]
    },
    {
      "metadata": {
        "id": "T1m8QF-H3IXT",
        "colab_type": "code",
        "colab": {}
      },
      "cell_type": "code",
      "source": [
        "target='Disbursed'\n",
        "IDcol = 'ID'\n",
        "\n",
        "random_seed=199\n",
        "cv_folds = 5"
      ],
      "execution_count": 0,
      "outputs": []
    },
    {
      "metadata": {
        "scrolled": false,
        "id": "cFyUF0ji3IXg",
        "colab_type": "code",
        "outputId": "abbf24ea-e2c4-47d3-8375-bbf5caa7905c",
        "colab": {
          "base_uri": "https://localhost:8080/",
          "height": 69
        }
      },
      "cell_type": "code",
      "source": [
        "X_train['Disbursed'].value_counts(), len(X_train)"
      ],
      "execution_count": 6,
      "outputs": [
        {
          "output_type": "execute_result",
          "data": {
            "text/plain": [
              "(0.0    64316\n",
              " 1.0      949\n",
              " Name: Disbursed, dtype: int64, 65265)"
            ]
          },
          "metadata": {
            "tags": []
          },
          "execution_count": 6
        }
      ]
    },
    {
      "metadata": {
        "id": "CayEFZJT3IXt",
        "colab_type": "text"
      },
      "cell_type": "markdown",
      "source": [
        "## Создадим функцию для моделирования и кросс-валидации\n",
        "\n",
        "Эта функция делает следующее:\n",
        "1. обучает модель\n",
        "2. вычисляет accuracy на тренировочной выборке\n",
        "3. вычисляет AUC на тренировочной выборке\n",
        "4. вычисляет AUC на тестовой выборке\n",
        "5. обновляет n_estimators с помощью встроенной в пакет xgboost функции cv\n",
        "6. строит диаграмму Feature Importance "
      ]
    },
    {
      "metadata": {
        "id": "7DyXeQhL3IXy",
        "colab_type": "code",
        "colab": {}
      },
      "cell_type": "code",
      "source": [
        "def modelfit(alg, dtrain, dtest, predictors, useTrainCV=True, cv_folds=5, early_stopping_rounds=50):\n",
        "    \n",
        "    if useTrainCV:\n",
        "        xgb_param = alg.get_xgb_params()\n",
        "        xgtrain = xgb.DMatrix(dtrain[predictors].values, label=dtrain[target].values)\n",
        "        xgtest = xgb.DMatrix(dtest[predictors].values)\n",
        "        cvresult = xgb.cv(xgb_param, xgtrain, num_boost_round=alg.get_params()['n_estimators'], nfold=cv_folds,\n",
        "            metrics='auc', early_stopping_rounds=early_stopping_rounds)\n",
        "        alg.set_params(n_estimators=cvresult.shape[0])\n",
        "    \n",
        "    #Fit the algorithm on the data\n",
        "    alg.fit(dtrain[predictors], dtrain['Disbursed'], eval_metric='auc')\n",
        "        \n",
        "    #Predict training set:\n",
        "    dtrain_predictions = alg.predict(dtrain[predictors])\n",
        "    dtrain_predprob = alg.predict_proba(dtrain[predictors])[:,1]\n",
        "        \n",
        "    #Print model report:\n",
        "    print(\"\\nModel Report\")\n",
        "    print(\"Accuracy : %.4g\" % metrics.accuracy_score(dtrain['Disbursed'].values, dtrain_predictions))\n",
        "    print(\"AUC Score (Train): %f\" % metrics.roc_auc_score(dtrain['Disbursed'], dtrain_predprob))\n",
        "    \n",
        "    #Predict on testing data:\n",
        "    dtest['predprob'] = alg.predict_proba(dtest[predictors])[:,1]\n",
        "    print('AUC Score (Test): %f' % metrics.roc_auc_score(dtest['Disbursed'], dtest['predprob']))\n",
        "                \n",
        "    feat_imp = pd.Series(alg.get_booster().get_fscore()).sort_values(ascending=False)\n",
        "    feat_imp.plot(kind='bar', title='Feature Importances')\n",
        "    plt.ylabel('Feature Importance Score')"
      ],
      "execution_count": 0,
      "outputs": []
    },
    {
      "metadata": {
        "id": "rWzk24203IYD",
        "colab_type": "text"
      },
      "cell_type": "markdown",
      "source": [
        "## Начинаем последовательный подбор параметров при большом learning_rate"
      ]
    },
    {
      "metadata": {
        "id": "eEhrw1yj3IYI",
        "colab_type": "code",
        "colab": {
          "base_uri": "https://localhost:8080/",
          "height": 121
        },
        "outputId": "43a9ee3a-4f77-42c7-c585-a6e87deff488"
      },
      "cell_type": "code",
      "source": [
        "predictors = [x for x in X_train.columns if x not in [target, IDcol]]\n",
        "\n",
        "xgb1 = XGBClassifier(\n",
        "        learning_rate=0.1,\n",
        "        n_estimators=150,\n",
        "        objective='binary:logistic',\n",
        "        nthread=-1,\n",
        "        scale_pos_weight=1,\n",
        "        seed=random_seed)\n",
        "\n",
        "xgb1"
      ],
      "execution_count": 8,
      "outputs": [
        {
          "output_type": "execute_result",
          "data": {
            "text/plain": [
              "XGBClassifier(base_score=0.5, booster='gbtree', colsample_bylevel=1,\n",
              "       colsample_bytree=1, gamma=0, learning_rate=0.1, max_delta_step=0,\n",
              "       max_depth=3, min_child_weight=1, missing=None, n_estimators=150,\n",
              "       n_jobs=1, nthread=-1, objective='binary:logistic', random_state=0,\n",
              "       reg_alpha=0, reg_lambda=1, scale_pos_weight=1, seed=199,\n",
              "       silent=True, subsample=1)"
            ]
          },
          "metadata": {
            "tags": []
          },
          "execution_count": 8
        }
      ]
    },
    {
      "metadata": {
        "id": "ESm0jP7xQE_s",
        "colab_type": "code",
        "colab": {
          "base_uri": "https://localhost:8080/",
          "height": 816
        },
        "outputId": "ae6f3198-b2ca-4d05-fad5-146467e683e2"
      },
      "cell_type": "code",
      "source": [
        "%%time\n",
        "\n",
        "modelfit(xgb1, X_train, X_test, predictors)"
      ],
      "execution_count": 9,
      "outputs": [
        {
          "output_type": "stream",
          "text": [
            "\n",
            "Model Report\n",
            "Accuracy : 0.9855\n",
            "AUC Score (Train): 0.870066\n",
            "AUC Score (Test): 0.836413\n",
            "CPU times: user 1min 41s, sys: 446 ms, total: 1min 42s\n",
            "Wall time: 59.3 s\n"
          ],
          "name": "stdout"
        },
        {
          "output_type": "display_data",
          "data": {
            "image/png": "[encoded data removed]",
            "text/plain": [
              "<Figure size 1152x648 with 1 Axes>"
            ]
          },
          "metadata": {
            "tags": []
          }
        }
      ]
    },
    {
      "metadata": {
        "id": "Cfc0SadM3IYV",
        "colab_type": "text"
      },
      "cell_type": "markdown",
      "source": [
        "Перебираем max_depth и min_child_weight по сетке."
      ]
    },
    {
      "metadata": {
        "id": "HAmB1bmp3IYf",
        "colab_type": "code",
        "colab": {
          "base_uri": "https://localhost:8080/",
          "height": 52
        },
        "outputId": "799e768e-cfae-4f85-e20e-cb2639406f32"
      },
      "cell_type": "code",
      "source": [
        "%%time\n",
        "\n",
        "param_test1 = {\n",
        "    'max_depth':range(3,10,2),\n",
        "    'min_child_weight':range(1,6,2)\n",
        "}\n",
        "\n",
        "gsearch1 = GridSearchCV(estimator = XGBClassifier(\n",
        "                                        learning_rate=0.1,\n",
        "                                        n_estimators=150,\n",
        "                                        objective='binary:logistic', \n",
        "                                        nthread=-1, \n",
        "                                        scale_pos_weight=1, \n",
        "                                        seed=random_seed),\n",
        "                        \n",
        "                        param_grid=param_test1, scoring='roc_auc', n_jobs=-1, iid=False, cv=cv_folds)\n",
        "\n",
        "gsearch1.fit(X_train[predictors], X_train[target])"
      ],
      "execution_count": 10,
      "outputs": [
        {
          "output_type": "stream",
          "text": [
            "CPU times: user 15.4 s, sys: 148 ms, total: 15.5 s\n",
            "Wall time: 15min 29s\n"
          ],
          "name": "stdout"
        }
      ]
    },
    {
      "metadata": {
        "id": "fqCxDYi-3IY0",
        "colab_type": "code",
        "colab": {
          "base_uri": "https://localhost:8080/",
          "height": 35
        },
        "outputId": "bda2bf05-06f3-4225-d011-569d29d46dd3"
      },
      "cell_type": "code",
      "source": [
        "gsearch1.best_params_, gsearch1.best_score_"
      ],
      "execution_count": 11,
      "outputs": [
        {
          "output_type": "execute_result",
          "data": {
            "text/plain": [
              "({'max_depth': 3, 'min_child_weight': 3}, 0.8362237271210141)"
            ]
          },
          "metadata": {
            "tags": []
          },
          "execution_count": 11
        }
      ]
    },
    {
      "metadata": {
        "id": "FSjxDIvt3IZE",
        "colab_type": "text"
      },
      "cell_type": "markdown",
      "source": [
        "\n",
        "Уточняем предсказание"
      ]
    },
    {
      "metadata": {
        "id": "UvyQZyxN3IZH",
        "colab_type": "code",
        "colab": {
          "base_uri": "https://localhost:8080/",
          "height": 52
        },
        "outputId": "3c8a9541-25e7-47fa-c9a0-e7b9df11bfc8"
      },
      "cell_type": "code",
      "source": [
        "%%time\n",
        "\n",
        "param_test2 = {\n",
        "    'max_depth':[2,3,4],\n",
        "    'min_child_weight':[1,2,3,4]\n",
        "}\n",
        "\n",
        "gsearch2 = GridSearchCV(estimator = XGBClassifier(\n",
        "                                        learning_rate=0.1, \n",
        "                                        n_estimators=150, \n",
        "                                        objective= 'binary:logistic', \n",
        "                                        nthread=-1, \n",
        "                                        scale_pos_weight=1,\n",
        "                                        seed=random_seed),\n",
        "                        \n",
        "                        param_grid=param_test2, scoring='roc_auc', n_jobs=-1, iid=False, cv=cv_folds)\n",
        "\n",
        "gsearch2.fit(X_train[predictors], X_train[target])"
      ],
      "execution_count": 12,
      "outputs": [
        {
          "output_type": "stream",
          "text": [
            "CPU times: user 19.1 s, sys: 98.1 ms, total: 19.2 s\n",
            "Wall time: 8min 22s\n"
          ],
          "name": "stdout"
        }
      ]
    },
    {
      "metadata": {
        "id": "EKA5fpeK3IZR",
        "colab_type": "code",
        "colab": {
          "base_uri": "https://localhost:8080/",
          "height": 35
        },
        "outputId": "c4162a48-c222-4fc7-9f19-b1783baf6013"
      },
      "cell_type": "code",
      "source": [
        "gsearch2.best_params_, gsearch2.best_score_"
      ],
      "execution_count": 13,
      "outputs": [
        {
          "output_type": "execute_result",
          "data": {
            "text/plain": [
              "({'max_depth': 4, 'min_child_weight': 2}, 0.8373936820919434)"
            ]
          },
          "metadata": {
            "tags": []
          },
          "execution_count": 13
        }
      ]
    },
    {
      "metadata": {
        "id": "NFwQvtKK3IZb",
        "colab_type": "text"
      },
      "cell_type": "markdown",
      "source": [
        "Зафиксируем найденный max_depth и подберем min_child_weight"
      ]
    },
    {
      "metadata": {
        "id": "SwvgpRnm3IZg",
        "colab_type": "code",
        "colab": {
          "base_uri": "https://localhost:8080/",
          "height": 52
        },
        "outputId": "0bb93f6f-d22f-4497-8c22-ee3c63dfe2d3"
      },
      "cell_type": "code",
      "source": [
        "%%time\n",
        "\n",
        "param_test2b = {\n",
        "    'min_child_weight':range(1,8)\n",
        "}\n",
        "\n",
        "gsearch2b = GridSearchCV(estimator = XGBClassifier(\n",
        "                                        learning_rate=0.1, \n",
        "                                        n_estimators=150,\n",
        "                                        max_depth=gsearch2.best_params_['max_depth'],\n",
        "                                        objective='binary:logistic', \n",
        "                                        nthread=-1,\n",
        "                                        scale_pos_weight=1,\n",
        "                                        seed=random_seed),\n",
        "                         param_grid=param_test2b, scoring='roc_auc', n_jobs=-1, iid=False, cv=cv_folds)\n",
        "\n",
        "gsearch2b.fit(X_train[predictors], X_train[target])"
      ],
      "execution_count": 14,
      "outputs": [
        {
          "output_type": "stream",
          "text": [
            "CPU times: user 19.3 s, sys: 78.8 ms, total: 19.4 s\n",
            "Wall time: 6min 24s\n"
          ],
          "name": "stdout"
        }
      ]
    },
    {
      "metadata": {
        "id": "QHI-iBBP3IZw",
        "colab_type": "code",
        "colab": {
          "base_uri": "https://localhost:8080/",
          "height": 35
        },
        "outputId": "f1e9f599-e584-41af-d946-8af19d459b3c"
      },
      "cell_type": "code",
      "source": [
        "gsearch2b.best_params_, gsearch2b.best_score_"
      ],
      "execution_count": 15,
      "outputs": [
        {
          "output_type": "execute_result",
          "data": {
            "text/plain": [
              "({'min_child_weight': 7}, 0.8383048763885341)"
            ]
          },
          "metadata": {
            "tags": []
          },
          "execution_count": 15
        }
      ]
    },
    {
      "metadata": {
        "id": "ppXqM_wN3IZ8",
        "colab_type": "text"
      },
      "cell_type": "markdown",
      "source": [
        "Мы подобрали max_depth и min_child_weight - дальше будем использовать подобранные значения параметров. Подберите по сетке параметр gamma."
      ]
    },
    {
      "metadata": {
        "id": "U8UHA2es3IaE",
        "colab_type": "code",
        "colab": {
          "base_uri": "https://localhost:8080/",
          "height": 52
        },
        "outputId": "80deb4f1-143c-41df-90b8-3b17735658ec"
      },
      "cell_type": "code",
      "source": [
        "%%time\n",
        "\n",
        "param_test3 = {\n",
        "    'gamma':[i/10.0 for i in range(0,5)]\n",
        "}\n",
        "\n",
        "#Your code here\n",
        "\n",
        "gsearch3 = GridSearchCV(estimator = XGBClassifier(\n",
        "                                        learning_rate=0.1, \n",
        "                                        n_estimators=150,\n",
        "                                        max_depth=gsearch2.best_params_['max_depth'],\n",
        "                                        min_child_weight=gsearch2b.best_params_['min_child_weight'],\n",
        "                                        objective='binary:logistic', \n",
        "                                        nthread=-1,\n",
        "                                        scale_pos_weight=1,\n",
        "                                        seed=random_seed),\n",
        "                        \n",
        "                         param_grid=param_test3, scoring='roc_auc', n_jobs=-1, iid=False, cv=cv_folds)\n",
        "\n",
        "gsearch3.fit(X_train[predictors], X_train[target])"
      ],
      "execution_count": 16,
      "outputs": [
        {
          "output_type": "stream",
          "text": [
            "CPU times: user 19.2 s, sys: 55.6 ms, total: 19.3 s\n",
            "Wall time: 4min 43s\n"
          ],
          "name": "stdout"
        }
      ]
    },
    {
      "metadata": {
        "id": "w9a9mN5r3Iaa",
        "colab_type": "code",
        "colab": {
          "base_uri": "https://localhost:8080/",
          "height": 35
        },
        "outputId": "67e72667-63a8-487a-c915-c76cfc88b3d6"
      },
      "cell_type": "code",
      "source": [
        "gsearch3.best_params_, gsearch3.best_score_"
      ],
      "execution_count": 17,
      "outputs": [
        {
          "output_type": "execute_result",
          "data": {
            "text/plain": [
              "({'gamma': 0.1}, 0.8388332472627151)"
            ]
          },
          "metadata": {
            "tags": []
          },
          "execution_count": 17
        }
      ]
    },
    {
      "metadata": {
        "id": "MrVDVAyl3Ial",
        "colab_type": "text"
      },
      "cell_type": "markdown",
      "source": [
        "Установите в качестве параметров алгоритма подобранные max_depth, min_child_weight и gamma и посмотрите как изменилось качество."
      ]
    },
    {
      "metadata": {
        "id": "diBCVRxS3Iaq",
        "colab_type": "code",
        "colab": {
          "base_uri": "https://localhost:8080/",
          "height": 121
        },
        "outputId": "6586fc6c-05e3-4334-eac8-3d8ac1700848"
      },
      "cell_type": "code",
      "source": [
        "predictors = [x for x in X_train.columns if x not in [target, IDcol]]\n",
        "\n",
        "xgb2 = XGBClassifier(\n",
        "        learning_rate =0.1,\n",
        "        n_estimators=150,\n",
        "        max_depth=gsearch2.best_params_['max_depth'],\n",
        "        min_child_weight=gsearch2b.best_params_['min_child_weight'],\n",
        "        gamma=gsearch3.best_params_['gamma'],\n",
        "        objective='binary:logistic',\n",
        "        nthread=-1,\n",
        "        scale_pos_weight=1,\n",
        "        seed=random_seed)\n",
        "\n",
        "xgb2"
      ],
      "execution_count": 18,
      "outputs": [
        {
          "output_type": "execute_result",
          "data": {
            "text/plain": [
              "XGBClassifier(base_score=0.5, booster='gbtree', colsample_bylevel=1,\n",
              "       colsample_bytree=1, gamma=0.1, learning_rate=0.1, max_delta_step=0,\n",
              "       max_depth=4, min_child_weight=7, missing=None, n_estimators=150,\n",
              "       n_jobs=1, nthread=-1, objective='binary:logistic', random_state=0,\n",
              "       reg_alpha=0, reg_lambda=1, scale_pos_weight=1, seed=199,\n",
              "       silent=True, subsample=1)"
            ]
          },
          "metadata": {
            "tags": []
          },
          "execution_count": 18
        }
      ]
    },
    {
      "metadata": {
        "id": "WZeiBtH8QQzI",
        "colab_type": "code",
        "colab": {
          "base_uri": "https://localhost:8080/",
          "height": 816
        },
        "outputId": "5b10dd9f-7aa1-49f7-b86e-effa4c32aaab"
      },
      "cell_type": "code",
      "source": [
        "%%time\n",
        "\n",
        "modelfit(xgb2, X_train, X_test, predictors)"
      ],
      "execution_count": 19,
      "outputs": [
        {
          "output_type": "stream",
          "text": [
            "\n",
            "Model Report\n",
            "Accuracy : 0.9855\n",
            "AUC Score (Train): 0.888830\n",
            "AUC Score (Test): 0.832764\n",
            "CPU times: user 1min 44s, sys: 329 ms, total: 1min 44s\n",
            "Wall time: 1min 44s\n"
          ],
          "name": "stdout"
        },
        {
          "output_type": "display_data",
          "data": {
            "image/png": "[encoded data removed]",
            "text/plain": [
              "<Figure size 1152x648 with 1 Axes>"
            ]
          },
          "metadata": {
            "tags": []
          }
        }
      ]
    },
    {
      "metadata": {
        "id": "nTDEow8K3Ia5",
        "colab_type": "text"
      },
      "cell_type": "markdown",
      "source": [
        "Подберите по сетке параметры subsample и colsample_bytree. Используйте значения этих параметров: [0.6,0.7,0.8,0.9,1.]"
      ]
    },
    {
      "metadata": {
        "id": "cclowaQp3IbB",
        "colab_type": "code",
        "colab": {
          "base_uri": "https://localhost:8080/",
          "height": 52
        },
        "outputId": "3a1b174b-8c55-4228-c392-52a04dc5a62f"
      },
      "cell_type": "code",
      "source": [
        "%%time\n",
        "\n",
        "#Your code here\n",
        "\n",
        "param_test4 = {\n",
        "    'subsample':[0.6,0.7,0.8,0.9,1.],\n",
        "    'colsample_bytree':[0.6,0.7,0.8,0.9,1.]\n",
        "}\n",
        "\n",
        "gsearch4 = GridSearchCV(estimator = XGBClassifier(\n",
        "                                        learning_rate =0.1,\n",
        "                                        n_estimators=150,\n",
        "                                        max_depth=gsearch2.best_params_['max_depth'],\n",
        "                                        min_child_weight=gsearch2b.best_params_['min_child_weight'],\n",
        "                                        gamma=gsearch3.best_params_['gamma'],\n",
        "                                        objective='binary:logistic',\n",
        "                                        nthread=-1,\n",
        "                                        scale_pos_weight=1,\n",
        "                                        seed=random_seed),\n",
        "                        \n",
        "                         param_grid=param_test4, scoring='roc_auc', n_jobs=-1, iid=False, cv=cv_folds)\n",
        "\n",
        "gsearch4.fit(X_train[predictors], X_train[target])"
      ],
      "execution_count": 20,
      "outputs": [
        {
          "output_type": "stream",
          "text": [
            "CPU times: user 21.4 s, sys: 115 ms, total: 21.5 s\n",
            "Wall time: 21min 2s\n"
          ],
          "name": "stdout"
        }
      ]
    },
    {
      "metadata": {
        "id": "xAllo7N7TFcE",
        "colab_type": "code",
        "colab": {
          "base_uri": "https://localhost:8080/",
          "height": 35
        },
        "outputId": "02fec51d-8d43-4b64-9577-9ab77a3a47b5"
      },
      "cell_type": "code",
      "source": [
        "gsearch4.best_params_, gsearch4.best_score_"
      ],
      "execution_count": 21,
      "outputs": [
        {
          "output_type": "execute_result",
          "data": {
            "text/plain": [
              "({'colsample_bytree': 1.0, 'subsample': 0.9}, 0.8391540318688909)"
            ]
          },
          "metadata": {
            "tags": []
          },
          "execution_count": 21
        }
      ]
    },
    {
      "metadata": {
        "id": "bU5HC_td3IbK",
        "colab_type": "text"
      },
      "cell_type": "markdown",
      "source": [
        "Уточните значения subsample и colsample_bytree. Например, если оптимальный subsample на предыдущем шаге равен 0.6, то теперь перебирайте subsample в диапазоне [0.55,0.6,0.65,0.7]. Аналогично с colsample_bytree."
      ]
    },
    {
      "metadata": {
        "id": "aW1xa9BH3IbQ",
        "colab_type": "code",
        "colab": {
          "base_uri": "https://localhost:8080/",
          "height": 52
        },
        "outputId": "112121e2-d861-4f69-e719-3157bae7e028"
      },
      "cell_type": "code",
      "source": [
        "%%time\n",
        "\n",
        "#Your code here\n",
        "\n",
        "param_test4b = {\n",
        "    'subsample':np.linspace(0.8, 1, 5),\n",
        "    'colsample_bytree':np.linspace(0.9, 1, 3),\n",
        "}\n",
        "\n",
        "gsearch4b = GridSearchCV(estimator = XGBClassifier(\n",
        "                                        learning_rate =0.1,\n",
        "                                        n_estimators=150,\n",
        "                                        max_depth=gsearch2.best_params_['max_depth'],\n",
        "                                        min_child_weight=gsearch2b.best_params_['min_child_weight'],\n",
        "                                        gamma=gsearch3.best_params_['gamma'],\n",
        "                                        objective='binary:logistic',\n",
        "                                        nthread=-1,\n",
        "                                        scale_pos_weight=1,\n",
        "                                        seed=random_seed),\n",
        "                         \n",
        "                         param_grid=param_test4b, scoring='roc_auc', n_jobs=-1, iid=False, cv=cv_folds)\n",
        "\n",
        "gsearch4b.fit(X_train[predictors], X_train[target])"
      ],
      "execution_count": 22,
      "outputs": [
        {
          "output_type": "stream",
          "text": [
            "CPU times: user 20.9 s, sys: 172 ms, total: 21.1 s\n",
            "Wall time: 13min 46s\n"
          ],
          "name": "stdout"
        }
      ]
    },
    {
      "metadata": {
        "id": "3bUUct6VTO0p",
        "colab_type": "code",
        "colab": {
          "base_uri": "https://localhost:8080/",
          "height": 35
        },
        "outputId": "55e846e6-1318-4603-efa3-5477cf4851ea"
      },
      "cell_type": "code",
      "source": [
        "gsearch4b.best_params_, gsearch4b.best_score_"
      ],
      "execution_count": 23,
      "outputs": [
        {
          "output_type": "execute_result",
          "data": {
            "text/plain": [
              "({'colsample_bytree': 1.0, 'subsample': 0.9}, 0.8391540318688909)"
            ]
          },
          "metadata": {
            "tags": []
          },
          "execution_count": 23
        }
      ]
    },
    {
      "metadata": {
        "id": "7J1rYYq_3IbY",
        "colab_type": "text"
      },
      "cell_type": "markdown",
      "source": [
        "Подберите параметр регуляризации reg_alpha. Попробуйте [1e-5, 1e-2, 0.1, 1, 100]"
      ]
    },
    {
      "metadata": {
        "id": "fjxzzqsg3Ibb",
        "colab_type": "code",
        "colab": {
          "base_uri": "https://localhost:8080/",
          "height": 52
        },
        "outputId": "bcafc0e5-7606-4513-9c2c-1fc598baf0eb"
      },
      "cell_type": "code",
      "source": [
        "%%time\n",
        "\n",
        "#Your code here\n",
        "\n",
        "param_test5 = {\n",
        "    'reg_alpha':[1e-5, 1e-2, 0.1, 1, 100]\n",
        "}\n",
        "\n",
        "gsearch5 = GridSearchCV(estimator = XGBClassifier(\n",
        "                                        learning_rate =0.1,\n",
        "                                        n_estimators=150,\n",
        "                                        max_depth=gsearch2.best_params_['max_depth'],\n",
        "                                        min_child_weight=gsearch2b.best_params_['min_child_weight'],\n",
        "                                        gamma=gsearch3.best_params_['gamma'],\n",
        "                                        subsample=gsearch4b.best_params_['subsample'],\n",
        "                                        colsample_bytree=gsearch4b.best_params_['colsample_bytree'],\n",
        "                                        objective='binary:logistic',\n",
        "                                        nthread=-1,\n",
        "                                        scale_pos_weight=1,\n",
        "                                        seed=random_seed),\n",
        "                         \n",
        "                         param_grid=param_test5, scoring='roc_auc', n_jobs=-1, iid=False, cv=cv_folds)\n",
        "\n",
        "gsearch5.fit(X_train[predictors], X_train[target])"
      ],
      "execution_count": 24,
      "outputs": [
        {
          "output_type": "stream",
          "text": [
            "CPU times: user 20.6 s, sys: 73 ms, total: 20.7 s\n",
            "Wall time: 4min 49s\n"
          ],
          "name": "stdout"
        }
      ]
    },
    {
      "metadata": {
        "id": "qi5_rkxtxtHB",
        "colab_type": "code",
        "colab": {
          "base_uri": "https://localhost:8080/",
          "height": 35
        },
        "outputId": "1fd73065-a894-4ede-831e-e44bd49b8b12"
      },
      "cell_type": "code",
      "source": [
        "gsearch5.best_params_, gsearch5.best_score_"
      ],
      "execution_count": 25,
      "outputs": [
        {
          "output_type": "execute_result",
          "data": {
            "text/plain": [
              "({'reg_alpha': 0.01}, 0.8394653067488717)"
            ]
          },
          "metadata": {
            "tags": []
          },
          "execution_count": 25
        }
      ]
    },
    {
      "metadata": {
        "id": "tVGZeDYV3Ibr",
        "colab_type": "text"
      },
      "cell_type": "markdown",
      "source": [
        "Уточните параметр reg_alpha, исходя из найденного оптимума."
      ]
    },
    {
      "metadata": {
        "id": "HHlgbsqT3Ibu",
        "colab_type": "code",
        "colab": {
          "base_uri": "https://localhost:8080/",
          "height": 52
        },
        "outputId": "177e6cfa-220c-43cf-e0f2-98b357a82d2d"
      },
      "cell_type": "code",
      "source": [
        "%%time\n",
        "\n",
        "#Your code here\n",
        "\n",
        "param_test5b = {\n",
        "    'reg_alpha':np.concatenate([np.linspace(0.005, 0.0095, 10), np.linspace(0.01, 0.05, 9)])\n",
        "}\n",
        "\n",
        "gsearch5b = GridSearchCV(estimator = XGBClassifier(\n",
        "                                        learning_rate =0.1,\n",
        "                                        n_estimators=150,\n",
        "                                        max_depth=gsearch2.best_params_['max_depth'],\n",
        "                                        min_child_weight=gsearch2b.best_params_['min_child_weight'],\n",
        "                                        gamma=gsearch3.best_params_['gamma'],\n",
        "                                        subsample=gsearch4b.best_params_['subsample'],\n",
        "                                        colsample_bytree=gsearch4b.best_params_['colsample_bytree'],\n",
        "                                        objective='binary:logistic',\n",
        "                                        nthread=-1,\n",
        "                                        scale_pos_weight=1,\n",
        "                                        seed=random_seed),\n",
        "\n",
        "                         param_grid=param_test5b, scoring='roc_auc', n_jobs=-1, iid=False, cv=cv_folds)\n",
        "\n",
        "gsearch5b.fit(X_train[predictors], X_train[target])"
      ],
      "execution_count": 26,
      "outputs": [
        {
          "output_type": "stream",
          "text": [
            "CPU times: user 20.8 s, sys: 175 ms, total: 21 s\n",
            "Wall time: 18min 15s\n"
          ],
          "name": "stdout"
        }
      ]
    },
    {
      "metadata": {
        "id": "SHKuwjHr0B3c",
        "colab_type": "code",
        "colab": {
          "base_uri": "https://localhost:8080/",
          "height": 35
        },
        "outputId": "f801660f-eb31-464e-cb41-e7e391420d63"
      },
      "cell_type": "code",
      "source": [
        "gsearch5b.best_params_, gsearch5b.best_score_"
      ],
      "execution_count": 27,
      "outputs": [
        {
          "output_type": "execute_result",
          "data": {
            "text/plain": [
              "({'reg_alpha': 0.01}, 0.8394653067488717)"
            ]
          },
          "metadata": {
            "tags": []
          },
          "execution_count": 27
        }
      ]
    },
    {
      "metadata": {
        "id": "ROBIOSJx3Ib2",
        "colab_type": "text"
      },
      "cell_type": "markdown",
      "source": [
        "Запустите обучение и предсказание на найденных параметрах и посмотрите на качество."
      ]
    },
    {
      "metadata": {
        "id": "WJT8c4gF3Ib6",
        "colab_type": "code",
        "colab": {
          "base_uri": "https://localhost:8080/",
          "height": 121
        },
        "outputId": "8b3d91ea-9325-4f04-a936-42766c6af111"
      },
      "cell_type": "code",
      "source": [
        "xgb3 = XGBClassifier(\n",
        "        learning_rate=0.1,\n",
        "        n_estimators=150,\n",
        "        max_depth=gsearch2.best_params_['max_depth'],\n",
        "        min_child_weight=gsearch2b.best_params_['min_child_weight'],\n",
        "        gamma=gsearch3.best_params_['gamma'],\n",
        "        subsample=gsearch4b.best_params_['subsample'],\n",
        "        colsample_bytree=gsearch4b.best_params_['colsample_bytree'],\n",
        "        reg_alpha=gsearch5b.best_params_['reg_alpha'],\n",
        "        objective='binary:logistic',\n",
        "        nthread=-1,\n",
        "        scale_pos_weight=1,\n",
        "        seed=random_seed)\n",
        "\n",
        "xgb3"
      ],
      "execution_count": 28,
      "outputs": [
        {
          "output_type": "execute_result",
          "data": {
            "text/plain": [
              "XGBClassifier(base_score=0.5, booster='gbtree', colsample_bylevel=1,\n",
              "       colsample_bytree=1.0, gamma=0.1, learning_rate=0.1,\n",
              "       max_delta_step=0, max_depth=4, min_child_weight=7, missing=None,\n",
              "       n_estimators=150, n_jobs=1, nthread=-1, objective='binary:logistic',\n",
              "       random_state=0, reg_alpha=0.01, reg_lambda=1, scale_pos_weight=1,\n",
              "       seed=199, silent=True, subsample=0.9)"
            ]
          },
          "metadata": {
            "tags": []
          },
          "execution_count": 28
        }
      ]
    },
    {
      "metadata": {
        "id": "8v618JfB1fAY",
        "colab_type": "code",
        "colab": {
          "base_uri": "https://localhost:8080/",
          "height": 816
        },
        "outputId": "98b47441-13b9-4684-acb3-aa4a37c06265"
      },
      "cell_type": "code",
      "source": [
        "%time\n",
        "\n",
        "modelfit(xgb3, X_train, X_test, predictors)"
      ],
      "execution_count": 29,
      "outputs": [
        {
          "output_type": "stream",
          "text": [
            "CPU times: user 4 µs, sys: 0 ns, total: 4 µs\n",
            "Wall time: 7.87 µs\n",
            "\n",
            "Model Report\n",
            "Accuracy : 0.9855\n",
            "AUC Score (Train): 0.890533\n",
            "AUC Score (Test): 0.837557\n"
          ],
          "name": "stdout"
        },
        {
          "output_type": "display_data",
          "data": {
            "image/png": "[encoded data removed]",
            "text/plain": [
              "<Figure size 1152x648 with 1 Axes>"
            ]
          },
          "metadata": {
            "tags": []
          }
        }
      ]
    },
    {
      "metadata": {
        "id": "6hkfHM9N3IcC",
        "colab_type": "text"
      },
      "cell_type": "markdown",
      "source": [
        "Уменьшите learning_rate до 0.01 и пропорционально увеличьте число деревьев. Все подобранные параметры остаются такими же. Обучите модель и сделайте предсказание. Посмотрите на качество."
      ]
    },
    {
      "metadata": {
        "id": "eNkPe9Uj3IcE",
        "colab_type": "code",
        "colab": {
          "base_uri": "https://localhost:8080/",
          "height": 139
        },
        "outputId": "bcd12497-a712-439f-9ddb-55777150be1f"
      },
      "cell_type": "code",
      "source": [
        "#Your code here\n",
        "\n",
        "xgb4 = XGBClassifier(\n",
        "        learning_rate=xgb3.get_params()['learning_rate']/10,\n",
        "        n_estimators=xgb3.get_params()['n_estimators']*10,\n",
        "        max_depth=gsearch2.best_params_['max_depth'],\n",
        "        min_child_weight=gsearch2b.best_params_['min_child_weight'],\n",
        "        gamma=gsearch3.best_params_['gamma'],\n",
        "        subsample=gsearch4b.best_params_['subsample'],\n",
        "        colsample_bytree=gsearch4b.best_params_['colsample_bytree'],\n",
        "        reg_alpha=gsearch5b.best_params_['reg_alpha'],\n",
        "        objective='binary:logistic',\n",
        "        nthread=-1,\n",
        "        scale_pos_weight=1,\n",
        "        seed=random_seed)\n",
        "\n",
        "xgb4"
      ],
      "execution_count": 30,
      "outputs": [
        {
          "output_type": "execute_result",
          "data": {
            "text/plain": [
              "XGBClassifier(base_score=0.5, booster='gbtree', colsample_bylevel=1,\n",
              "       colsample_bytree=1.0, gamma=0.1, learning_rate=0.01,\n",
              "       max_delta_step=0, max_depth=4, min_child_weight=7, missing=None,\n",
              "       n_estimators=1500, n_jobs=1, nthread=-1,\n",
              "       objective='binary:logistic', random_state=0, reg_alpha=0.01,\n",
              "       reg_lambda=1, scale_pos_weight=1, seed=199, silent=True,\n",
              "       subsample=0.9)"
            ]
          },
          "metadata": {
            "tags": []
          },
          "execution_count": 30
        }
      ]
    },
    {
      "metadata": {
        "id": "KeGMS1x31mEY",
        "colab_type": "code",
        "colab": {
          "base_uri": "https://localhost:8080/",
          "height": 816
        },
        "outputId": "4a223e27-f4c0-498c-ecdb-9fdaf75f58fa"
      },
      "cell_type": "code",
      "source": [
        "%time\n",
        "\n",
        "modelfit(xgb4, X_train, X_test, predictors)"
      ],
      "execution_count": 32,
      "outputs": [
        {
          "output_type": "stream",
          "text": [
            "CPU times: user 3 µs, sys: 0 ns, total: 3 µs\n",
            "Wall time: 6.68 µs\n",
            "\n",
            "Model Report\n",
            "Accuracy : 0.9855\n",
            "AUC Score (Train): 0.880986\n",
            "AUC Score (Test): 0.838760\n"
          ],
          "name": "stdout"
        },
        {
          "output_type": "display_data",
          "data": {
            "image/png": "[encoded data removed]",
            "text/plain": [
              "<Figure size 1152x648 with 1 Axes>"
            ]
          },
          "metadata": {
            "tags": []
          }
        }
      ]
    }
  ]
}