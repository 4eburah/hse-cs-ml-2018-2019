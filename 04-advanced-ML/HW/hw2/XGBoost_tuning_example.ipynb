{
  "nbformat": 4,
  "nbformat_minor": 0,
  "metadata": {
    "colab": {
      "name": "XGBoost_tuning_example.ipynb",
      "version": "0.3.2",
      "provenance": [],
      "include_colab_link": true
    },
    "kernelspec": {
      "display_name": "Python 3",
      "language": "python",
      "name": "python3"
    }
  },
  "cells": [
    {
      "cell_type": "markdown",
      "metadata": {
        "id": "view-in-github",
        "colab_type": "text"
      },
      "source": [
        "<a href=\"https://colab.research.google.com/github/rklepov/hse-cs-ml-2018-2019/blob/homework/04-advanced-ML/HW/hw2/XGBoost_tuning_example.ipynb\" target=\"_parent\"><img src=\"https://colab.research.google.com/assets/colab-badge.svg\" alt=\"Open In Colab\"/></a>"
      ]
    },
    {
      "metadata": {
        "id": "FN89GeDM3IWn",
        "colab_type": "text"
      },
      "cell_type": "markdown",
      "source": [
        "# XGBoost tuning\n",
        "\n",
        "Будем работать с данными - http://datahack.analyticsvidhya.com/contest/data-hackathon-3x.\n",
        "Мы решаем задачу классификации на два класса. Сразу будем работать с обработанными и уменьшенными данными (для ускорения процесса обучения). Процесс обработки данных и полный и подробный туториал для данной задачи приведён здесь: https://github.com/aarshayj/Analytics_Vidhya/blob/master/Articles/Parameter_Tuning_XGBoost_with_Example. "
      ]
    },
    {
      "metadata": {
        "id": "sHMLJk8G3IWw",
        "colab_type": "code",
        "colab": {}
      },
      "cell_type": "code",
      "source": [
        "import pandas as pd\n",
        "import numpy as np\n",
        "import xgboost as xgb\n",
        "from xgboost.sklearn import XGBClassifier\n",
        "from sklearn import model_selection, metrics\n",
        "from sklearn.model_selection import GridSearchCV\n",
        "\n",
        "import matplotlib.pylab as plt\n",
        "%matplotlib inline\n",
        "from matplotlib.pylab import rcParams\n",
        "rcParams['figure.figsize'] = 12, 4"
      ],
      "execution_count": 0,
      "outputs": []
    },
    {
      "metadata": {
        "id": "2l_xjtHC3IW_",
        "colab_type": "text"
      },
      "cell_type": "markdown",
      "source": [
        "# Загружаем данные\n",
        "\n",
        "Вы можете работать с train_medium/test_medium, если готовы немного подождать при обучении xgboost. Если вы хотите быстрых результатов, то работайте с файлами train_small/test_small."
      ]
    },
    {
      "metadata": {
        "id": "ewpfmSCB3IXF",
        "colab_type": "code",
        "colab": {}
      },
      "cell_type": "code",
      "source": [
        "# X_train = pd.read_csv('train_medium.csv')\n",
        "# X_test = pd.read_csv('test_medium.csv')\n",
        "X_train = pd.read_csv('train_small.csv')\n",
        "X_test = pd.read_csv('test_small.csv')\n",
        "len(X_train), len(X_test)"
      ],
      "execution_count": 0,
      "outputs": []
    },
    {
      "metadata": {
        "id": "T1m8QF-H3IXT",
        "colab_type": "code",
        "colab": {}
      },
      "cell_type": "code",
      "source": [
        "target='Disbursed'\n",
        "IDcol = 'ID'"
      ],
      "execution_count": 0,
      "outputs": []
    },
    {
      "metadata": {
        "scrolled": false,
        "id": "cFyUF0ji3IXg",
        "colab_type": "code",
        "colab": {}
      },
      "cell_type": "code",
      "source": [
        "X_train['Disbursed'].value_counts(), len(X_train)"
      ],
      "execution_count": 0,
      "outputs": []
    },
    {
      "metadata": {
        "id": "CayEFZJT3IXt",
        "colab_type": "text"
      },
      "cell_type": "markdown",
      "source": [
        "## Создадим функцию для моделирования и кросс-валидации\n",
        "\n",
        "Эта функция делает следующее:\n",
        "1. обучает модель\n",
        "2. вычисляет accuracy на тренировочной выборке\n",
        "3. вычисляет AUC на тренировочной выборке\n",
        "4. вычисляет AUC на тестовой выборке\n",
        "5. обновляет n_estimators с помощью встроенной в пакет xgboost функции cv\n",
        "6. строит диаграмму Feature Importance "
      ]
    },
    {
      "metadata": {
        "id": "7DyXeQhL3IXy",
        "colab_type": "code",
        "colab": {}
      },
      "cell_type": "code",
      "source": [
        "def modelfit(alg, dtrain, dtest, predictors, useTrainCV=True, cv_folds=5, early_stopping_rounds=50):\n",
        "    \n",
        "    if useTrainCV:\n",
        "        xgb_param = alg.get_xgb_params()\n",
        "        xgtrain = xgb.DMatrix(dtrain[predictors].values, label=dtrain[target].values)\n",
        "        xgtest = xgb.DMatrix(dtest[predictors].values)\n",
        "        cvresult = xgb.cv(xgb_param, xgtrain, num_boost_round=alg.get_params()['n_estimators'], nfold=cv_folds,\n",
        "            metrics='auc', early_stopping_rounds=early_stopping_rounds)\n",
        "        alg.set_params(n_estimators=cvresult.shape[0])\n",
        "    \n",
        "    #Fit the algorithm on the data\n",
        "    alg.fit(dtrain[predictors], dtrain['Disbursed'],eval_metric='auc')\n",
        "        \n",
        "    #Predict training set:\n",
        "    dtrain_predictions = alg.predict(dtrain[predictors])\n",
        "    dtrain_predprob = alg.predict_proba(dtrain[predictors])[:,1]\n",
        "        \n",
        "    #Print model report:\n",
        "    print(\"\\nModel Report\")\n",
        "    print(\"Accuracy : %.4g\" % metrics.accuracy_score(dtrain['Disbursed'].values, dtrain_predictions))\n",
        "    print(\"AUC Score (Train): %f\" % metrics.roc_auc_score(dtrain['Disbursed'], dtrain_predprob))\n",
        "    \n",
        "    #Predict on testing data:\n",
        "    dtest['predprob'] = alg.predict_proba(dtest[predictors])[:,1]\n",
        "    print('AUC Score (Test): %f' % metrics.roc_auc_score(dtest['Disbursed'], dtest['predprob']))\n",
        "                \n",
        "    feat_imp = pd.Series(alg.get_booster().get_fscore()).sort_values(ascending=False)\n",
        "    feat_imp.plot(kind='bar', title='Feature Importances')\n",
        "    plt.ylabel('Feature Importance Score')"
      ],
      "execution_count": 0,
      "outputs": []
    },
    {
      "metadata": {
        "id": "rWzk24203IYD",
        "colab_type": "text"
      },
      "cell_type": "markdown",
      "source": [
        "## Начинаем последовательный подбор параметров при большом learning_rate"
      ]
    },
    {
      "metadata": {
        "id": "eEhrw1yj3IYI",
        "colab_type": "code",
        "colab": {}
      },
      "cell_type": "code",
      "source": [
        "predictors = [x for x in X_train.columns if x not in [target, IDcol]]\n",
        "xgb1 = XGBClassifier(\n",
        "        learning_rate=0.1,\n",
        "        n_estimators=150,\n",
        "        objective= 'binary:logistic',\n",
        "        nthread=4,\n",
        "        scale_pos_weight=1,\n",
        "        seed=27)\n",
        "modelfit(xgb1, X_train, X_test, predictors)"
      ],
      "execution_count": 0,
      "outputs": []
    },
    {
      "metadata": {
        "id": "Cfc0SadM3IYV",
        "colab_type": "text"
      },
      "cell_type": "markdown",
      "source": [
        "Перебираем max_depth и min_child_weight по сетке."
      ]
    },
    {
      "metadata": {
        "id": "HAmB1bmp3IYf",
        "colab_type": "code",
        "colab": {}
      },
      "cell_type": "code",
      "source": [
        "param_test1 = {\n",
        "    'max_depth':range(3,10,2),\n",
        "    'min_child_weight':range(1,6,2)\n",
        "}\n",
        "gsearch1 = GridSearchCV(estimator = XGBClassifier(learning_rate=0.1, n_estimators=150,\n",
        "                                        objective= 'binary:logistic', nthread=4, scale_pos_weight=1, seed=27), \n",
        "                       param_grid = param_test1, scoring='roc_auc',n_jobs=4,iid=False, cv=5)\n",
        "gsearch1.fit(X_train[predictors],X_train[target])"
      ],
      "execution_count": 0,
      "outputs": []
    },
    {
      "metadata": {
        "id": "fqCxDYi-3IY0",
        "colab_type": "code",
        "colab": {}
      },
      "cell_type": "code",
      "source": [
        "gsearch1.best_params_, gsearch1.best_score_"
      ],
      "execution_count": 0,
      "outputs": []
    },
    {
      "metadata": {
        "id": "FSjxDIvt3IZE",
        "colab_type": "text"
      },
      "cell_type": "markdown",
      "source": [
        "Уточняем предсказание"
      ]
    },
    {
      "metadata": {
        "id": "UvyQZyxN3IZH",
        "colab_type": "code",
        "colab": {}
      },
      "cell_type": "code",
      "source": [
        "param_test2 = {\n",
        "    'max_depth':[2,3,4],\n",
        "    'min_child_weight':[2,3,4]\n",
        "}\n",
        "gsearch2 = GridSearchCV(estimator = XGBClassifier( learning_rate=0.1, n_estimators=150, \n",
        "                                        objective= 'binary:logistic', nthread=4, scale_pos_weight=1,seed=27), \n",
        "                       param_grid = param_test2, scoring='roc_auc',n_jobs=4,iid=False, cv=5)\n",
        "gsearch2.fit(X_train[predictors],X_train[target])"
      ],
      "execution_count": 0,
      "outputs": []
    },
    {
      "metadata": {
        "id": "EKA5fpeK3IZR",
        "colab_type": "code",
        "colab": {}
      },
      "cell_type": "code",
      "source": [
        "gsearch2.best_params_, gsearch2.best_score_"
      ],
      "execution_count": 0,
      "outputs": []
    },
    {
      "metadata": {
        "id": "NFwQvtKK3IZb",
        "colab_type": "text"
      },
      "cell_type": "markdown",
      "source": [
        "Зафиксируем найденный max_depth и подберем min_child_weight"
      ]
    },
    {
      "metadata": {
        "id": "SwvgpRnm3IZg",
        "colab_type": "code",
        "colab": {}
      },
      "cell_type": "code",
      "source": [
        "param_test2b = {\n",
        "    'min_child_weight':[5,6,7]\n",
        "}\n",
        "gsearch2b = GridSearchCV(estimator = XGBClassifier( learning_rate=0.1, n_estimators=150, max_depth=4,\n",
        "                                        objective= 'binary:logistic', nthread=4, scale_pos_weight=1,seed=27), \n",
        "                       param_grid = param_test2b, scoring='roc_auc',n_jobs=4,iid=False, cv=5)\n",
        "gsearch2b.fit(X_train[predictors],X_train[target])"
      ],
      "execution_count": 0,
      "outputs": []
    },
    {
      "metadata": {
        "id": "QHI-iBBP3IZw",
        "colab_type": "code",
        "colab": {}
      },
      "cell_type": "code",
      "source": [
        "gsearch2b.best_params_, gsearch2b.best_score_"
      ],
      "execution_count": 0,
      "outputs": []
    },
    {
      "metadata": {
        "id": "ppXqM_wN3IZ8",
        "colab_type": "text"
      },
      "cell_type": "markdown",
      "source": [
        "Мы подобрали max_depth и min_child_weight - дальше будем использовать подобранные значения параметров. Подберите по сетке параметр gamma."
      ]
    },
    {
      "metadata": {
        "id": "U8UHA2es3IaE",
        "colab_type": "code",
        "colab": {}
      },
      "cell_type": "code",
      "source": [
        "param_test3 = {\n",
        "    'gamma':[i/10.0 for i in range(0,5)]\n",
        "}\n",
        "#Your code here"
      ],
      "execution_count": 0,
      "outputs": []
    },
    {
      "metadata": {
        "id": "w9a9mN5r3Iaa",
        "colab_type": "code",
        "colab": {}
      },
      "cell_type": "code",
      "source": [
        "gsearch3.best_params_, gsearch3.best_score_"
      ],
      "execution_count": 0,
      "outputs": []
    },
    {
      "metadata": {
        "id": "MrVDVAyl3Ial",
        "colab_type": "text"
      },
      "cell_type": "markdown",
      "source": [
        "Установите в качестве параметров алгоритма подобранные max_depth, min_child_weight и gamma и посмотрите как изменилось качество."
      ]
    },
    {
      "metadata": {
        "id": "diBCVRxS3Iaq",
        "colab_type": "code",
        "colab": {}
      },
      "cell_type": "code",
      "source": [
        "predictors = [x for x in X_train.columns if x not in [target, IDcol]]\n",
        "xgb2 = XGBClassifier(\n",
        "        learning_rate =0.1,\n",
        "        n_estimators=150,\n",
        "        max_depth=...,\n",
        "        min_child_weight=...,\n",
        "        gamma = ...,\n",
        "        objective= 'binary:logistic',\n",
        "        nthread=4,\n",
        "        scale_pos_weight=1,\n",
        "        seed=27)\n",
        "modelfit(xgb2, X_train, X_test, predictors)"
      ],
      "execution_count": 0,
      "outputs": []
    },
    {
      "metadata": {
        "id": "nTDEow8K3Ia5",
        "colab_type": "text"
      },
      "cell_type": "markdown",
      "source": [
        "Подберите по сетке параметры subsample и colsample_bytree. Используйте значения этих параметров: [0.6,0.7,0.8,0.9,1.]"
      ]
    },
    {
      "metadata": {
        "id": "cclowaQp3IbB",
        "colab_type": "code",
        "colab": {}
      },
      "cell_type": "code",
      "source": [
        "#Your code here"
      ],
      "execution_count": 0,
      "outputs": []
    },
    {
      "metadata": {
        "id": "bU5HC_td3IbK",
        "colab_type": "text"
      },
      "cell_type": "markdown",
      "source": [
        "Уточните значения subsample и colsample_bytree. Например, если оптимальный subsample на предыдущем шаге равен 0.6, то теперь перебирайте subsample в диапазоне [0.55,0.6,0.65,0.7]. Аналогично с colsample_bytree."
      ]
    },
    {
      "metadata": {
        "id": "aW1xa9BH3IbQ",
        "colab_type": "code",
        "colab": {}
      },
      "cell_type": "code",
      "source": [
        "#Your code here"
      ],
      "execution_count": 0,
      "outputs": []
    },
    {
      "metadata": {
        "id": "7J1rYYq_3IbY",
        "colab_type": "text"
      },
      "cell_type": "markdown",
      "source": [
        "Подберите параметр регуляризации reg_alpha. Попробуйте [1e-5, 1e-2, 0.1, 1, 100]"
      ]
    },
    {
      "metadata": {
        "id": "fjxzzqsg3Ibb",
        "colab_type": "code",
        "colab": {}
      },
      "cell_type": "code",
      "source": [
        "#Your code here"
      ],
      "execution_count": 0,
      "outputs": []
    },
    {
      "metadata": {
        "id": "tVGZeDYV3Ibr",
        "colab_type": "text"
      },
      "cell_type": "markdown",
      "source": [
        "Уточните параметр reg_alpha, исходя из найденного оптимума."
      ]
    },
    {
      "metadata": {
        "id": "HHlgbsqT3Ibu",
        "colab_type": "code",
        "colab": {}
      },
      "cell_type": "code",
      "source": [
        "#Your code here"
      ],
      "execution_count": 0,
      "outputs": []
    },
    {
      "metadata": {
        "id": "ROBIOSJx3Ib2",
        "colab_type": "text"
      },
      "cell_type": "markdown",
      "source": [
        "Запустите обучение и предсказание на найденных параметрах и посмотрите на качество."
      ]
    },
    {
      "metadata": {
        "id": "WJT8c4gF3Ib6",
        "colab_type": "code",
        "colab": {}
      },
      "cell_type": "code",
      "source": [
        "xgb3 = XGBClassifier(\n",
        "        learning_rate=0.1,\n",
        "        n_estimators=150,\n",
        "        max_depth=...,\n",
        "        min_child_weight=...,\n",
        "        gamma=...,\n",
        "        subsample=...,\n",
        "        colsample_bytree=...,\n",
        "        reg_alpha=...,\n",
        "        objective= 'binary:logistic',\n",
        "        nthread=4,\n",
        "        scale_pos_weight=1,\n",
        "        seed=27)\n",
        "modelfit(xgb3, X_train, X_test, predictors)"
      ],
      "execution_count": 0,
      "outputs": []
    },
    {
      "metadata": {
        "id": "6hkfHM9N3IcC",
        "colab_type": "text"
      },
      "cell_type": "markdown",
      "source": [
        "Уменьшите learning_rate до 0.01 и пропорционально увеличьте число деревьев. Все подобранные параметры остаются такими же. Обучите модель и сделайте предсказание. Посмотрите на качество."
      ]
    },
    {
      "metadata": {
        "id": "eNkPe9Uj3IcE",
        "colab_type": "code",
        "colab": {}
      },
      "cell_type": "code",
      "source": [
        "#Your code here"
      ],
      "execution_count": 0,
      "outputs": []
    }
  ]
}