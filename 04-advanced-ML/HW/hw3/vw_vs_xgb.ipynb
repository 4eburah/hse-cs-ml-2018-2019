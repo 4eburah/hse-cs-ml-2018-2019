{
  "nbformat": 4,
  "nbformat_minor": 0,
  "metadata": {
    "colab": {
      "name": "vw_vs_xgb.ipynb",
      "version": "0.3.2",
      "provenance": [],
      "collapsed_sections": [],
      "include_colab_link": true
    },
    "kernelspec": {
      "display_name": "Python 3",
      "language": "python",
      "name": "python3"
    }
  },
  "cells": [
    {
      "cell_type": "markdown",
      "metadata": {
        "id": "view-in-github",
        "colab_type": "text"
      },
      "source": [
        "<a href=\"https://colab.research.google.com/github/rklepov/hse-cs-ml-2018-2019/blob/homework/04-advanced-ML/HW/hw3/vw_vs_xgb.ipynb\" target=\"_parent\"><img src=\"https://colab.research.google.com/assets/colab-badge.svg\" alt=\"Open In Colab\"/></a>"
      ]
    },
    {
      "metadata": {
        "colab_type": "text",
        "id": "2x_U57KKQOzx"
      },
      "cell_type": "markdown",
      "source": [
        "# Vowpal Wabbit\n",
        "\n",
        "*Поработаем с той же задачей и с теми же данными, на которых мы настраивали параметры xgboost.*\n",
        "\n",
        "*Посмотрим, справятся ли линейные алгоритмы, реализованные в vowpal wabbit, с этой задачей.*"
      ]
    },
    {
      "metadata": {
        "id": "tdMGOPjIKbZI",
        "colab_type": "text"
      },
      "cell_type": "markdown",
      "source": [
        "## 1."
      ]
    },
    {
      "metadata": {
        "id": "1xhPngpDaKMf",
        "colab_type": "code",
        "outputId": "16c60dff-915d-4348-8466-3166843e21ab",
        "colab": {
          "base_uri": "https://localhost:8080/",
          "height": 468
        }
      },
      "cell_type": "code",
      "source": [
        "!apt-get install vowpal-wabbit"
      ],
      "execution_count": 1,
      "outputs": [
        {
          "output_type": "stream",
          "text": [
            "Reading package lists... Done\n",
            "Building dependency tree       \n",
            "Reading state information... Done\n",
            "The following additional packages will be installed:\n",
            "  libvw0\n",
            "Suggested packages:\n",
            "  vowpal-wabbit-doc\n",
            "The following NEW packages will be installed:\n",
            "  libvw0 vowpal-wabbit\n",
            "0 upgraded, 2 newly installed, 0 to remove and 13 not upgraded.\n",
            "Need to get 797 kB of archives.\n",
            "After this operation, 3,034 kB of additional disk space will be used.\n",
            "Get:1 http://archive.ubuntu.com/ubuntu bionic/universe amd64 libvw0 amd64 8.5.0.dfsg1-1 [748 kB]\n",
            "Get:2 http://archive.ubuntu.com/ubuntu bionic/universe amd64 vowpal-wabbit amd64 8.5.0.dfsg1-1 [49.1 kB]\n",
            "Fetched 797 kB in 6s (127 kB/s)\n",
            "Selecting previously unselected package libvw0.\n",
            "(Reading database ... 110851 files and directories currently installed.)\n",
            "Preparing to unpack .../libvw0_8.5.0.dfsg1-1_amd64.deb ...\n",
            "Unpacking libvw0 (8.5.0.dfsg1-1) ...\n",
            "Selecting previously unselected package vowpal-wabbit.\n",
            "Preparing to unpack .../vowpal-wabbit_8.5.0.dfsg1-1_amd64.deb ...\n",
            "Unpacking vowpal-wabbit (8.5.0.dfsg1-1) ...\n",
            "Setting up libvw0 (8.5.0.dfsg1-1) ...\n",
            "Setting up vowpal-wabbit (8.5.0.dfsg1-1) ...\n",
            "Processing triggers for libc-bin (2.27-3ubuntu1) ...\n",
            "Processing triggers for man-db (2.8.3-2ubuntu0.1) ...\n"
          ],
          "name": "stdout"
        }
      ]
    },
    {
      "metadata": {
        "colab_type": "code",
        "id": "J7Lp9oHaQVTx",
        "outputId": "07de855e-157a-416f-873b-6b59b8cd24fb",
        "colab": {
          "base_uri": "https://localhost:8080/",
          "height": 731
        }
      },
      "cell_type": "code",
      "source": [
        "!wget https://www.dropbox.com/s/eg9wt98ak9n91w2/train_medium.csv?dl=0\n",
        "!wget https://www.dropbox.com/s/mji0jvu5wo34p2w/test_medium.csv?dl=0"
      ],
      "execution_count": 2,
      "outputs": [
        {
          "output_type": "stream",
          "text": [
            "--2019-01-29 20:23:11--  https://www.dropbox.com/s/eg9wt98ak9n91w2/train_medium.csv?dl=0\n",
            "Resolving www.dropbox.com (www.dropbox.com)... 162.125.8.1, 2620:100:6016:1::a27d:101\n",
            "Connecting to www.dropbox.com (www.dropbox.com)|162.125.8.1|:443... connected.\n",
            "HTTP request sent, awaiting response... 301 Moved Permanently\n",
            "Location: /s/raw/eg9wt98ak9n91w2/train_medium.csv [following]\n",
            "--2019-01-29 20:23:11--  https://www.dropbox.com/s/raw/eg9wt98ak9n91w2/train_medium.csv\n",
            "Reusing existing connection to www.dropbox.com:443.\n",
            "HTTP request sent, awaiting response... 302 Found\n",
            "Location: https://uc58247bfa67f6feaa7cd2315cb8.dl.dropboxusercontent.com/cd/0/inline/AaVtM1bpq_OnL25KelC9_DUe6sG-L8NvyjO8WVVicJrhOPo3Z_36uoqfDsOdq71NdWamRB5eTsx4VXQQaDJJjSWdOIgkChwPMgkYpC-T6ChFeg/file# [following]\n",
            "--2019-01-29 20:23:12--  https://uc58247bfa67f6feaa7cd2315cb8.dl.dropboxusercontent.com/cd/0/inline/AaVtM1bpq_OnL25KelC9_DUe6sG-L8NvyjO8WVVicJrhOPo3Z_36uoqfDsOdq71NdWamRB5eTsx4VXQQaDJJjSWdOIgkChwPMgkYpC-T6ChFeg/file\n",
            "Resolving uc58247bfa67f6feaa7cd2315cb8.dl.dropboxusercontent.com (uc58247bfa67f6feaa7cd2315cb8.dl.dropboxusercontent.com)... 162.125.8.6, 2620:100:601b:6::a27d:806\n",
            "Connecting to uc58247bfa67f6feaa7cd2315cb8.dl.dropboxusercontent.com (uc58247bfa67f6feaa7cd2315cb8.dl.dropboxusercontent.com)|162.125.8.6|:443... connected.\n",
            "HTTP request sent, awaiting response... 200 OK\n",
            "Length: 8133459 (7.8M) [text/plain]\n",
            "Saving to: ‘train_medium.csv?dl=0’\n",
            "\n",
            "train_medium.csv?dl 100%[===================>]   7.76M  16.7MB/s    in 0.5s    \n",
            "\n",
            "2019-01-29 20:23:13 (16.7 MB/s) - ‘train_medium.csv?dl=0’ saved [8133459/8133459]\n",
            "\n",
            "--2019-01-29 20:23:14--  https://www.dropbox.com/s/mji0jvu5wo34p2w/test_medium.csv?dl=0\n",
            "Resolving www.dropbox.com (www.dropbox.com)... 162.125.8.1, 2620:100:6016:1::a27d:101\n",
            "Connecting to www.dropbox.com (www.dropbox.com)|162.125.8.1|:443... connected.\n",
            "HTTP request sent, awaiting response... 301 Moved Permanently\n",
            "Location: /s/raw/mji0jvu5wo34p2w/test_medium.csv [following]\n",
            "--2019-01-29 20:23:14--  https://www.dropbox.com/s/raw/mji0jvu5wo34p2w/test_medium.csv\n",
            "Reusing existing connection to www.dropbox.com:443.\n",
            "HTTP request sent, awaiting response... 302 Found\n",
            "Location: https://uc285d3eba735b3218f3573d94af.dl.dropboxusercontent.com/cd/0/inline/AaWYGxrmH748P6JMV3mtEUvE9Nn0PwacDgv0DvpEvTzf3wQJeFvEI8yfRQymeHsVb6wzj5O2vCXXk5vg2cD5LAx4j9LeFT0VYWhgrtHQrtQ8og/file# [following]\n",
            "--2019-01-29 20:23:14--  https://uc285d3eba735b3218f3573d94af.dl.dropboxusercontent.com/cd/0/inline/AaWYGxrmH748P6JMV3mtEUvE9Nn0PwacDgv0DvpEvTzf3wQJeFvEI8yfRQymeHsVb6wzj5O2vCXXk5vg2cD5LAx4j9LeFT0VYWhgrtHQrtQ8og/file\n",
            "Resolving uc285d3eba735b3218f3573d94af.dl.dropboxusercontent.com (uc285d3eba735b3218f3573d94af.dl.dropboxusercontent.com)... 162.125.8.6, 2620:100:601b:6::a27d:806\n",
            "Connecting to uc285d3eba735b3218f3573d94af.dl.dropboxusercontent.com (uc285d3eba735b3218f3573d94af.dl.dropboxusercontent.com)|162.125.8.6|:443... connected.\n",
            "HTTP request sent, awaiting response... 200 OK\n",
            "Length: 2711665 (2.6M) [text/plain]\n",
            "Saving to: ‘test_medium.csv?dl=0’\n",
            "\n",
            "test_medium.csv?dl= 100%[===================>]   2.59M  8.21MB/s    in 0.3s    \n",
            "\n",
            "2019-01-29 20:23:15 (8.21 MB/s) - ‘test_medium.csv?dl=0’ saved [2711665/2711665]\n",
            "\n"
          ],
          "name": "stdout"
        }
      ]
    },
    {
      "metadata": {
        "colab_type": "code",
        "id": "l_KXRvwGQye5",
        "outputId": "a6522408-49a8-4f69-d29a-14ad909ea2cf",
        "colab": {
          "base_uri": "https://localhost:8080/",
          "height": 35
        }
      },
      "cell_type": "code",
      "source": [
        "!ls"
      ],
      "execution_count": 3,
      "outputs": [
        {
          "output_type": "stream",
          "text": [
            " sample_data  'test_medium.csv?dl=0'  'train_medium.csv?dl=0'\n"
          ],
          "name": "stdout"
        }
      ]
    },
    {
      "metadata": {
        "id": "CU9nTjfYUQi1",
        "colab_type": "code",
        "colab": {}
      },
      "cell_type": "code",
      "source": [
        "import numpy as np\n",
        "import pandas as pd\n",
        "import regex as re"
      ],
      "execution_count": 0,
      "outputs": []
    },
    {
      "metadata": {
        "colab_type": "code",
        "id": "GbxqpO_rQOz0",
        "outputId": "efb06711-6ff5-45e9-c09a-3ef880c51aac",
        "colab": {
          "base_uri": "https://localhost:8080/",
          "height": 35
        }
      },
      "cell_type": "code",
      "source": [
        "X_train = pd.read_csv('train_medium.csv?dl=0')\n",
        "X_test = pd.read_csv('test_medium.csv?dl=0')\n",
        "\n",
        "X_train.shape, X_test.shape"
      ],
      "execution_count": 5,
      "outputs": [
        {
          "output_type": "execute_result",
          "data": {
            "text/plain": [
              "((65265, 51), (21755, 51))"
            ]
          },
          "metadata": {
            "tags": []
          },
          "execution_count": 5
        }
      ]
    },
    {
      "metadata": {
        "id": "9xlVT4Ukiz6_",
        "colab_type": "code",
        "outputId": "be9af575-90f8-4864-ef23-8e547410aeba",
        "colab": {
          "base_uri": "https://localhost:8080/",
          "height": 269
        }
      },
      "cell_type": "code",
      "source": [
        "X_train.head()"
      ],
      "execution_count": 6,
      "outputs": [
        {
          "output_type": "execute_result",
          "data": {
            "text/html": [
              "<div>\n",
              "<style scoped>\n",
              "    .dataframe tbody tr th:only-of-type {\n",
              "        vertical-align: middle;\n",
              "    }\n",
              "\n",
              "    .dataframe tbody tr th {\n",
              "        vertical-align: top;\n",
              "    }\n",
              "\n",
              "    .dataframe thead th {\n",
              "        text-align: right;\n",
              "    }\n",
              "</style>\n",
              "<table border=\"1\" class=\"dataframe\">\n",
              "  <thead>\n",
              "    <tr style=\"text-align: right;\">\n",
              "      <th></th>\n",
              "      <th>Unnamed: 0</th>\n",
              "      <th>Existing_EMI</th>\n",
              "      <th>Loan_Amount_Applied</th>\n",
              "      <th>Loan_Tenure_Applied</th>\n",
              "      <th>Monthly_Income</th>\n",
              "      <th>Var4</th>\n",
              "      <th>Var5</th>\n",
              "      <th>Age</th>\n",
              "      <th>EMI_Loan_Submitted_Missing</th>\n",
              "      <th>Interest_Rate_Missing</th>\n",
              "      <th>...</th>\n",
              "      <th>Var2_3</th>\n",
              "      <th>Var2_4</th>\n",
              "      <th>Var2_5</th>\n",
              "      <th>Var2_6</th>\n",
              "      <th>Mobile_Verified_0</th>\n",
              "      <th>Mobile_Verified_1</th>\n",
              "      <th>Source_0</th>\n",
              "      <th>Source_1</th>\n",
              "      <th>Source_2</th>\n",
              "      <th>Disbursed</th>\n",
              "    </tr>\n",
              "  </thead>\n",
              "  <tbody>\n",
              "    <tr>\n",
              "      <th>0</th>\n",
              "      <td>7881</td>\n",
              "      <td>0.0</td>\n",
              "      <td>100000.0</td>\n",
              "      <td>3.0</td>\n",
              "      <td>29000</td>\n",
              "      <td>4</td>\n",
              "      <td>11</td>\n",
              "      <td>29</td>\n",
              "      <td>0</td>\n",
              "      <td>0</td>\n",
              "      <td>...</td>\n",
              "      <td>0</td>\n",
              "      <td>0</td>\n",
              "      <td>0</td>\n",
              "      <td>0</td>\n",
              "      <td>0</td>\n",
              "      <td>1</td>\n",
              "      <td>0</td>\n",
              "      <td>1</td>\n",
              "      <td>0</td>\n",
              "      <td>1.0</td>\n",
              "    </tr>\n",
              "    <tr>\n",
              "      <th>1</th>\n",
              "      <td>189</td>\n",
              "      <td>21000.0</td>\n",
              "      <td>450000.0</td>\n",
              "      <td>5.0</td>\n",
              "      <td>48000</td>\n",
              "      <td>1</td>\n",
              "      <td>0</td>\n",
              "      <td>27</td>\n",
              "      <td>1</td>\n",
              "      <td>1</td>\n",
              "      <td>...</td>\n",
              "      <td>0</td>\n",
              "      <td>0</td>\n",
              "      <td>0</td>\n",
              "      <td>0</td>\n",
              "      <td>1</td>\n",
              "      <td>0</td>\n",
              "      <td>0</td>\n",
              "      <td>1</td>\n",
              "      <td>0</td>\n",
              "      <td>0.0</td>\n",
              "    </tr>\n",
              "    <tr>\n",
              "      <th>2</th>\n",
              "      <td>64000</td>\n",
              "      <td>3832.0</td>\n",
              "      <td>100000.0</td>\n",
              "      <td>3.0</td>\n",
              "      <td>25000</td>\n",
              "      <td>5</td>\n",
              "      <td>11</td>\n",
              "      <td>44</td>\n",
              "      <td>0</td>\n",
              "      <td>0</td>\n",
              "      <td>...</td>\n",
              "      <td>0</td>\n",
              "      <td>0</td>\n",
              "      <td>0</td>\n",
              "      <td>1</td>\n",
              "      <td>0</td>\n",
              "      <td>1</td>\n",
              "      <td>1</td>\n",
              "      <td>0</td>\n",
              "      <td>0</td>\n",
              "      <td>0.0</td>\n",
              "    </tr>\n",
              "    <tr>\n",
              "      <th>3</th>\n",
              "      <td>61629</td>\n",
              "      <td>0.0</td>\n",
              "      <td>200000.0</td>\n",
              "      <td>3.0</td>\n",
              "      <td>22500</td>\n",
              "      <td>3</td>\n",
              "      <td>1</td>\n",
              "      <td>26</td>\n",
              "      <td>1</td>\n",
              "      <td>1</td>\n",
              "      <td>...</td>\n",
              "      <td>0</td>\n",
              "      <td>0</td>\n",
              "      <td>0</td>\n",
              "      <td>1</td>\n",
              "      <td>0</td>\n",
              "      <td>1</td>\n",
              "      <td>1</td>\n",
              "      <td>0</td>\n",
              "      <td>0</td>\n",
              "      <td>0.0</td>\n",
              "    </tr>\n",
              "    <tr>\n",
              "      <th>4</th>\n",
              "      <td>23212</td>\n",
              "      <td>0.0</td>\n",
              "      <td>50000.0</td>\n",
              "      <td>1.0</td>\n",
              "      <td>17943</td>\n",
              "      <td>1</td>\n",
              "      <td>0</td>\n",
              "      <td>25</td>\n",
              "      <td>1</td>\n",
              "      <td>1</td>\n",
              "      <td>...</td>\n",
              "      <td>0</td>\n",
              "      <td>0</td>\n",
              "      <td>0</td>\n",
              "      <td>0</td>\n",
              "      <td>1</td>\n",
              "      <td>0</td>\n",
              "      <td>0</td>\n",
              "      <td>1</td>\n",
              "      <td>0</td>\n",
              "      <td>0.0</td>\n",
              "    </tr>\n",
              "  </tbody>\n",
              "</table>\n",
              "<p>5 rows × 51 columns</p>\n",
              "</div>"
            ],
            "text/plain": [
              "   Unnamed: 0  Existing_EMI  Loan_Amount_Applied  Loan_Tenure_Applied  \\\n",
              "0        7881           0.0             100000.0                  3.0   \n",
              "1         189       21000.0             450000.0                  5.0   \n",
              "2       64000        3832.0             100000.0                  3.0   \n",
              "3       61629           0.0             200000.0                  3.0   \n",
              "4       23212           0.0              50000.0                  1.0   \n",
              "\n",
              "   Monthly_Income  Var4  Var5  Age  EMI_Loan_Submitted_Missing  \\\n",
              "0           29000     4    11   29                           0   \n",
              "1           48000     1     0   27                           1   \n",
              "2           25000     5    11   44                           0   \n",
              "3           22500     3     1   26                           1   \n",
              "4           17943     1     0   25                           1   \n",
              "\n",
              "   Interest_Rate_Missing    ...      Var2_3  Var2_4  Var2_5  Var2_6  \\\n",
              "0                      0    ...           0       0       0       0   \n",
              "1                      1    ...           0       0       0       0   \n",
              "2                      0    ...           0       0       0       1   \n",
              "3                      1    ...           0       0       0       1   \n",
              "4                      1    ...           0       0       0       0   \n",
              "\n",
              "   Mobile_Verified_0  Mobile_Verified_1  Source_0  Source_1  Source_2  \\\n",
              "0                  0                  1         0         1         0   \n",
              "1                  1                  0         0         1         0   \n",
              "2                  0                  1         1         0         0   \n",
              "3                  0                  1         1         0         0   \n",
              "4                  1                  0         0         1         0   \n",
              "\n",
              "   Disbursed  \n",
              "0        1.0  \n",
              "1        0.0  \n",
              "2        0.0  \n",
              "3        0.0  \n",
              "4        0.0  \n",
              "\n",
              "[5 rows x 51 columns]"
            ]
          },
          "metadata": {
            "tags": []
          },
          "execution_count": 6
        }
      ]
    },
    {
      "metadata": {
        "id": "q7jirmYpOdiC",
        "colab_type": "code",
        "colab": {
          "base_uri": "https://localhost:8080/",
          "height": 69
        },
        "outputId": "7c8346c5-38a7-4973-8e89-508999191f07"
      },
      "cell_type": "code",
      "source": [
        "X_test['Disbursed'].value_counts()"
      ],
      "execution_count": 7,
      "outputs": [
        {
          "output_type": "execute_result",
          "data": {
            "text/plain": [
              "0.0    21431\n",
              "1.0      324\n",
              "Name: Disbursed, dtype: int64"
            ]
          },
          "metadata": {
            "tags": []
          },
          "execution_count": 7
        }
      ]
    },
    {
      "metadata": {
        "colab_type": "text",
        "id": "3mKVFx0wQOz6"
      },
      "cell_type": "markdown",
      "source": [
        "*Измените функцию save_to_vw из предыдущего ноутбука (см.ниже) так, чтобы она записывала файлы train_medium и test_medium в нужном формате. Не забудьте, что столбец 'Disbursed' является целевым, поэтому а) он определяет значение переменной target, b) его не нужно записывать в файл-матрицу с признаками.*"
      ]
    },
    {
      "metadata": {
        "id": "9JEXKCz_OWQj",
        "colab_type": "code",
        "colab": {}
      },
      "cell_type": "code",
      "source": [
        "def fomrat_vw(row):\n",
        "    target = row['Disbursed']\n",
        "    result =\"{1} '{0:.0f}|\".format(target, 1 if 0 < target else -1)\n",
        "    result +=' '.join([ ' {}:{}'.format(re.sub('\\W+','_',name), value) for name, value in row.drop('Disbursed').iteritems() ])\n",
        "    return result"
      ],
      "execution_count": 0,
      "outputs": []
    },
    {
      "metadata": {
        "id": "XWV1ALmwGmJG",
        "colab_type": "code",
        "outputId": "464fe388-7cf3-4701-fd7a-6a8167ec5c44",
        "colab": {
          "base_uri": "https://localhost:8080/",
          "height": 52
        }
      },
      "cell_type": "code",
      "source": [
        "%%time\n",
        "\n",
        "vw_train = X_train.apply(fomrat_vw, axis=1)\n",
        "vw_test = X_test.apply(fomrat_vw, axis=1)"
      ],
      "execution_count": 9,
      "outputs": [
        {
          "output_type": "stream",
          "text": [
            "CPU times: user 55.7 s, sys: 97.6 ms, total: 55.8 s\n",
            "Wall time: 55.8 s\n"
          ],
          "name": "stdout"
        }
      ]
    },
    {
      "metadata": {
        "id": "PQFcsCP6YLsm",
        "colab_type": "code",
        "outputId": "4eb30d22-655f-4fb8-b990-b42e5d48b6ba",
        "colab": {
          "base_uri": "https://localhost:8080/",
          "height": 121
        }
      },
      "cell_type": "code",
      "source": [
        "vw_train.head()"
      ],
      "execution_count": 10,
      "outputs": [
        {
          "output_type": "execute_result",
          "data": {
            "text/plain": [
              "0    1 '1| Unnamed_0:7881.0  Existing_EMI:0.0  Loan...\n",
              "1    -1 '0| Unnamed_0:189.0  Existing_EMI:21000.0  ...\n",
              "2    -1 '0| Unnamed_0:64000.0  Existing_EMI:3832.0 ...\n",
              "3    -1 '0| Unnamed_0:61629.0  Existing_EMI:0.0  Lo...\n",
              "4    -1 '0| Unnamed_0:23212.0  Existing_EMI:0.0  Lo...\n",
              "dtype: object"
            ]
          },
          "metadata": {
            "tags": []
          },
          "execution_count": 10
        }
      ]
    },
    {
      "metadata": {
        "id": "836DzBcIXwko",
        "colab_type": "code",
        "colab": {}
      },
      "cell_type": "code",
      "source": [
        "np.savetxt('train_medium.vw', vw_train.values, '%s')\n",
        "np.savetxt('test_medium.vw', vw_test.values, '%s')"
      ],
      "execution_count": 0,
      "outputs": []
    },
    {
      "metadata": {
        "id": "TcYDQ8UhZVqX",
        "colab_type": "code",
        "outputId": "5d0691f7-da1e-499e-803a-a3ccd33d9ebc",
        "colab": {
          "base_uri": "https://localhost:8080/",
          "height": 52
        }
      },
      "cell_type": "code",
      "source": [
        "!ls"
      ],
      "execution_count": 12,
      "outputs": [
        {
          "output_type": "stream",
          "text": [
            " sample_data\t\t test_medium.vw\t\t  train_medium.vw\n",
            "'test_medium.csv?dl=0'\t'train_medium.csv?dl=0'\n"
          ],
          "name": "stdout"
        }
      ]
    },
    {
      "metadata": {
        "colab_type": "text",
        "id": "p8p_gqHyQO0E"
      },
      "cell_type": "markdown",
      "source": [
        "*Скопируйте полученные файлы в папку share и обучите vowpal wabbit. Например, предсказания классов можно сохранять в файл с именем preds.txt, а предсказания вероятностей - в файл probs.txt.*\n",
        "\n",
        "*Поэкспериментируйте с параметрами vowpal wabbit и постарайтесь добиться наилучшего качества на тесте.*\n",
        "\n",
        "*Постарайтесь, насколько это возможно, приблизить ROC-AUC к значению, полученному после оптимизации xgboost.*"
      ]
    },
    {
      "metadata": {
        "colab_type": "code",
        "id": "nqhMCt-fSmYl",
        "outputId": "d99a69d2-f51e-41b5-f80a-58159c8b5e58",
        "colab": {
          "base_uri": "https://localhost:8080/",
          "height": 89
        }
      },
      "cell_type": "code",
      "source": [
        "!head -n 3 train_medium.vw"
      ],
      "execution_count": 13,
      "outputs": [
        {
          "output_type": "stream",
          "text": [
            "1 '1| Unnamed_0:7881.0  Existing_EMI:0.0  Loan_Amount_Applied:100000.0  Loan_Tenure_Applied:3.0  Monthly_Income:29000.0  Var4:4.0  Var5:11.0  Age:29.0  EMI_Loan_Submitted_Missing:0.0  Interest_Rate_Missing:0.0  Loan_Amount_Submitted_Missing:0.0  Loan_Tenure_Submitted_Missing:0.0  Processing_Fee_Missing:0.0  Device_Type_0:0.0  Device_Type_1:1.0  Filled_Form_0:1.0  Filled_Form_1:0.0  Gender_0:0.0  Gender_1:1.0  Var1_0:0.0  Var1_1:0.0  Var1_2:0.0  Var1_3:0.0  Var1_4:0.0  Var1_5:0.0  Var1_6:0.0  Var1_7:0.0  Var1_8:0.0  Var1_9:0.0  Var1_10:0.0  Var1_11:1.0  Var1_12:0.0  Var1_13:0.0  Var1_14:0.0  Var1_15:0.0  Var1_16:0.0  Var1_17:0.0  Var1_18:0.0  Var2_0:0.0  Var2_1:1.0  Var2_2:0.0  Var2_3:0.0  Var2_4:0.0  Var2_5:0.0  Var2_6:0.0  Mobile_Verified_0:0.0  Mobile_Verified_1:1.0  Source_0:0.0  Source_1:1.0  Source_2:0.0\n",
            "-1 '0| Unnamed_0:189.0  Existing_EMI:21000.0  Loan_Amount_Applied:450000.0  Loan_Tenure_Applied:5.0  Monthly_Income:48000.0  Var4:1.0  Var5:0.0  Age:27.0  EMI_Loan_Submitted_Missing:1.0  Interest_Rate_Missing:1.0  Loan_Amount_Submitted_Missing:1.0  Loan_Tenure_Submitted_Missing:1.0  Processing_Fee_Missing:1.0  Device_Type_0:0.0  Device_Type_1:1.0  Filled_Form_0:1.0  Filled_Form_1:0.0  Gender_0:1.0  Gender_1:0.0  Var1_0:0.0  Var1_1:0.0  Var1_2:0.0  Var1_3:0.0  Var1_4:0.0  Var1_5:0.0  Var1_6:0.0  Var1_7:0.0  Var1_8:0.0  Var1_9:0.0  Var1_10:0.0  Var1_11:0.0  Var1_12:0.0  Var1_13:1.0  Var1_14:0.0  Var1_15:0.0  Var1_16:0.0  Var1_17:0.0  Var1_18:0.0  Var2_0:0.0  Var2_1:1.0  Var2_2:0.0  Var2_3:0.0  Var2_4:0.0  Var2_5:0.0  Var2_6:0.0  Mobile_Verified_0:1.0  Mobile_Verified_1:0.0  Source_0:0.0  Source_1:1.0  Source_2:0.0\n",
            "-1 '0| Unnamed_0:64000.0  Existing_EMI:3832.0  Loan_Amount_Applied:100000.0  Loan_Tenure_Applied:3.0  Monthly_Income:25000.0  Var4:5.0  Var5:11.0  Age:44.0  EMI_Loan_Submitted_Missing:0.0  Interest_Rate_Missing:0.0  Loan_Amount_Submitted_Missing:0.0  Loan_Tenure_Submitted_Missing:0.0  Processing_Fee_Missing:0.0  Device_Type_0:0.0  Device_Type_1:1.0  Filled_Form_0:0.0  Filled_Form_1:1.0  Gender_0:0.0  Gender_1:1.0  Var1_0:0.0  Var1_1:1.0  Var1_2:0.0  Var1_3:0.0  Var1_4:0.0  Var1_5:0.0  Var1_6:0.0  Var1_7:0.0  Var1_8:0.0  Var1_9:0.0  Var1_10:0.0  Var1_11:0.0  Var1_12:0.0  Var1_13:0.0  Var1_14:0.0  Var1_15:0.0  Var1_16:0.0  Var1_17:0.0  Var1_18:0.0  Var2_0:0.0  Var2_1:0.0  Var2_2:0.0  Var2_3:0.0  Var2_4:0.0  Var2_5:0.0  Var2_6:1.0  Mobile_Verified_0:0.0  Mobile_Verified_1:1.0  Source_0:1.0  Source_1:0.0  Source_2:0.0\n"
          ],
          "name": "stdout"
        }
      ]
    },
    {
      "metadata": {
        "id": "7Jjl8DInKD9w",
        "colab_type": "text"
      },
      "cell_type": "markdown",
      "source": [
        "## 2"
      ]
    },
    {
      "metadata": {
        "id": "vSPaRLSaKzzV",
        "colab_type": "text"
      },
      "cell_type": "markdown",
      "source": [
        "### 2.1\n",
        "\n",
        "Сначала попробуем с одинаковыми весами для классов и параметрами по умолчанию."
      ]
    },
    {
      "metadata": {
        "id": "qlLzGrn1cvTE",
        "colab_type": "code",
        "outputId": "4f34304e-6000-4931-baab-e9c7445f6d0d",
        "colab": {
          "base_uri": "https://localhost:8080/",
          "height": 728
        }
      },
      "cell_type": "code",
      "source": [
        "!vw -d train_medium.vw -c -k -f model.vw --passes 10 --link logistic"
      ],
      "execution_count": 14,
      "outputs": [
        {
          "output_type": "stream",
          "text": [
            "final_regressor = model.vw\n",
            "Num weight bits = 18\n",
            "learning rate = 0.5\n",
            "initial_t = 0\n",
            "power_t = 0.5\n",
            "decay_learning_rate = 1\n",
            "creating cache_file = train_medium.vw.cache\n",
            "Reading datafile = train_medium.vw\n",
            "num sources = 1\n",
            "average  since         example        example  current  current  current\n",
            "loss     last          counter         weight    label  predict features\n",
            "1.000000 1.000000            1            1.0   1.0000   0.5000       15\n",
            "2.120413 3.240826            2            2.0  -1.0000   0.6900       20\n",
            "1.706689 1.292964            4            4.0  -1.0000   0.3142       18\n",
            "0.864536 0.022383            8            8.0  -1.0000   0.2769       19\n",
            "0.757420 0.650304           16           16.0  -1.0000   0.3284       16\n",
            "0.380981 0.004542           32           32.0  -1.0000   0.2689       15\n",
            "0.194584 0.008186           64           64.0  -1.0000   0.2689       20\n",
            "0.097948 0.001312          128          128.0  -1.0000   0.2689       19\n",
            "0.049074 0.000201          256          256.0  -1.0000   0.2689       18\n",
            "0.050901 0.052727          512          512.0  -1.0000   0.2689       17\n",
            "0.051735 0.052570         1024         1024.0  -1.0000   0.2689       16\n",
            "0.066989 0.082243         2048         2048.0  -1.0000   0.2856       20\n",
            "0.059892 0.052796         4096         4096.0  -1.0000   0.3020       15\n",
            "0.049482 0.039071         8192         8192.0  -1.0000   0.2689       17\n",
            "0.055373 0.061264        16384        16384.0  -1.0000   0.2689       18\n",
            "0.055662 0.055951        32768        32768.0  -1.0000   0.2689       20\n",
            "0.061999 0.061999        65536        65536.0  -1.0000   0.2883       16 h\n",
            "0.063314 0.064628       131072       131072.0  -1.0000   0.2796       18 h\n",
            "0.062704 0.062095       262144       262144.0  -1.0000   0.2689       18 h\n",
            "0.062169 0.061634       524288       524288.0  -1.0000   0.2798       20 h\n",
            "\n",
            "finished run\n",
            "number of examples per pass = 58739\n",
            "passes used = 10\n",
            "weighted example sum = 587390.000000\n",
            "weighted label sum = -570510.000000\n",
            "average loss = 0.062040 h\n",
            "best constant = -0.971263\n",
            "best constant's loss = 0.056649\n",
            "total feature number = 10038680\n"
          ],
          "name": "stdout"
        }
      ]
    },
    {
      "metadata": {
        "id": "hvZFJPQAc3SN",
        "colab_type": "code",
        "outputId": "8a0b0589-c3cf-4bf5-ddb9-944b4970108b",
        "colab": {
          "base_uri": "https://localhost:8080/",
          "height": 69
        }
      },
      "cell_type": "code",
      "source": [
        "!ls"
      ],
      "execution_count": 15,
      "outputs": [
        {
          "output_type": "stream",
          "text": [
            " model.vw\t\t test_medium.vw\t\t  train_medium.vw.cache\n",
            " sample_data\t\t'train_medium.csv?dl=0'\n",
            "'test_medium.csv?dl=0'\t train_medium.vw\n"
          ],
          "name": "stdout"
        }
      ]
    },
    {
      "metadata": {
        "id": "XSY5jQj8ddIi",
        "colab_type": "code",
        "outputId": "06a24d9f-52f7-4a2a-a3d4-1306eebbf98d",
        "colab": {
          "base_uri": "https://localhost:8080/",
          "height": 641
        }
      },
      "cell_type": "code",
      "source": [
        "!vw -d test_medium.vw -i model.vw -t -p probs.txt"
      ],
      "execution_count": 16,
      "outputs": [
        {
          "output_type": "stream",
          "text": [
            "only testing\n",
            "predictions = probs.txt\n",
            "Num weight bits = 18\n",
            "learning rate = 0.5\n",
            "initial_t = 0\n",
            "power_t = 0.5\n",
            "using no cache\n",
            "Reading datafile = test_medium.vw\n",
            "num sources = 1\n",
            "average  since         example        example  current  current  current\n",
            "loss     last          counter         weight    label  predict features\n",
            "0.002402 0.002402            1            1.0  -1.0000   0.2787       18\n",
            "0.001201 0.000001            2            2.0  -1.0000   0.2691       18\n",
            "0.002775 0.004349            4            4.0  -1.0000   0.2877       16\n",
            "0.004098 0.005420            8            8.0  -1.0000   0.2835       20\n",
            "0.004410 0.004722           16           16.0  -1.0000   0.2926       16\n",
            "0.004201 0.003992           32           32.0  -1.0000   0.2775       20\n",
            "0.061743 0.119286           64           64.0   1.0000   0.2883       16\n",
            "0.120200 0.178657          128          128.0  -1.0000   0.2858       18\n",
            "0.076308 0.032417          256          256.0  -1.0000   0.2689       13\n",
            "0.075953 0.075598          512          512.0  -1.0000   0.2716       16\n",
            "0.061450 0.046947         1024         1024.0  -1.0000   0.2689       16\n",
            "0.058070 0.054689         2048         2048.0  -1.0000   0.2689       13\n",
            "0.062739 0.067407         4096         4096.0  -1.0000   0.2799       18\n",
            "0.059466 0.056193         8192         8192.0  -1.0000   0.2891       20\n",
            "0.061797 0.064128        16384        16384.0   1.0000   0.2771       13\n",
            "\n",
            "finished run\n",
            "number of examples per pass = 21755\n",
            "passes used = 1\n",
            "weighted example sum = 21755.000000\n",
            "weighted label sum = -21107.000000\n",
            "average loss = 0.059453\n",
            "best constant = -0.970214\n",
            "best constant's loss = 0.058685\n",
            "total feature number = 371484\n"
          ],
          "name": "stdout"
        }
      ]
    },
    {
      "metadata": {
        "id": "cVmmC19WdpEG",
        "colab_type": "code",
        "outputId": "4521cee9-e883-4a8d-cc1a-504edb15de97",
        "colab": {
          "base_uri": "https://localhost:8080/",
          "height": 104
        }
      },
      "cell_type": "code",
      "source": [
        "!head -5 probs.txt"
      ],
      "execution_count": 17,
      "outputs": [
        {
          "output_type": "stream",
          "text": [
            "0.278686 0\n",
            "0.269102 0\n",
            "0.268941 0\n",
            "0.287668 0\n",
            "0.279070 0\n"
          ],
          "name": "stdout"
        }
      ]
    },
    {
      "metadata": {
        "colab_type": "code",
        "id": "ujOVfiQYS4v5",
        "colab": {}
      },
      "cell_type": "code",
      "source": [
        "from sklearn import metrics\n",
        "\n",
        "def print_scores(dataset_name, y_true, y_pred, y_proba):\n",
        "    print(\"[{}] {}\".format(dataset_name, dict(zip(*np.unique(y_pred, return_counts=True)))))\n",
        "    print(\"Accuracy : {:.3f}\".format(metrics.accuracy_score(y_true, y_pred)))\n",
        "    print(\"Balanced accuracy : {:.3f}\".format(metrics.balanced_accuracy_score(y_true, y_pred)))\n",
        "    print(\"AUC Score [class {:.0f}]: {:.3f}\".format(1, metrics.roc_auc_score(y_true, y_proba)))\n",
        "    print(metrics.classification_report(y_true, y_pred, digits=3))\n",
        "    print(60 * \"*\")\n",
        "    \n",
        "def get_preds(y_proba, proba_treshold = 0.5):\n",
        "     return np.array([0, 1])[(y_proba > proba_treshold).values.astype('int')]    "
      ],
      "execution_count": 0,
      "outputs": []
    },
    {
      "metadata": {
        "id": "1FJSaWtVdzyO",
        "colab_type": "code",
        "outputId": "97e8e083-aa69-46d6-a1d0-b5e137eff37f",
        "colab": {
          "base_uri": "https://localhost:8080/",
          "height": 202
        }
      },
      "cell_type": "code",
      "source": [
        "probs = pd.read_csv('probs.txt', header=None, names=['Proba', 'Label'], sep=' ')\n",
        "\n",
        "probs[probs['Label'] == 1].head()"
      ],
      "execution_count": 19,
      "outputs": [
        {
          "output_type": "execute_result",
          "data": {
            "text/html": [
              "<div>\n",
              "<style scoped>\n",
              "    .dataframe tbody tr th:only-of-type {\n",
              "        vertical-align: middle;\n",
              "    }\n",
              "\n",
              "    .dataframe tbody tr th {\n",
              "        vertical-align: top;\n",
              "    }\n",
              "\n",
              "    .dataframe thead th {\n",
              "        text-align: right;\n",
              "    }\n",
              "</style>\n",
              "<table border=\"1\" class=\"dataframe\">\n",
              "  <thead>\n",
              "    <tr style=\"text-align: right;\">\n",
              "      <th></th>\n",
              "      <th>Proba</th>\n",
              "      <th>Label</th>\n",
              "    </tr>\n",
              "  </thead>\n",
              "  <tbody>\n",
              "    <tr>\n",
              "      <th>63</th>\n",
              "      <td>0.288329</td>\n",
              "      <td>1</td>\n",
              "    </tr>\n",
              "    <tr>\n",
              "      <th>73</th>\n",
              "      <td>0.287613</td>\n",
              "      <td>1</td>\n",
              "    </tr>\n",
              "    <tr>\n",
              "      <th>87</th>\n",
              "      <td>0.291979</td>\n",
              "      <td>1</td>\n",
              "    </tr>\n",
              "    <tr>\n",
              "      <th>88</th>\n",
              "      <td>0.274852</td>\n",
              "      <td>1</td>\n",
              "    </tr>\n",
              "    <tr>\n",
              "      <th>220</th>\n",
              "      <td>0.290738</td>\n",
              "      <td>1</td>\n",
              "    </tr>\n",
              "  </tbody>\n",
              "</table>\n",
              "</div>"
            ],
            "text/plain": [
              "        Proba  Label\n",
              "63   0.288329      1\n",
              "73   0.287613      1\n",
              "87   0.291979      1\n",
              "88   0.274852      1\n",
              "220  0.290738      1"
            ]
          },
          "metadata": {
            "tags": []
          },
          "execution_count": 19
        }
      ]
    },
    {
      "metadata": {
        "id": "wzR9U1d2pVpP",
        "colab_type": "code",
        "outputId": "cdf5036a-6b15-4840-9414-4e03add2f72b",
        "colab": {
          "base_uri": "https://localhost:8080/",
          "height": 35
        }
      },
      "cell_type": "code",
      "source": [
        "np.unique(get_preds(probs['Proba']), return_counts=True)"
      ],
      "execution_count": 21,
      "outputs": [
        {
          "output_type": "execute_result",
          "data": {
            "text/plain": [
              "(array([0]), array([21755]))"
            ]
          },
          "metadata": {
            "tags": []
          },
          "execution_count": 21
        }
      ]
    },
    {
      "metadata": {
        "id": "04B40jVCn_-d",
        "colab_type": "code",
        "outputId": "5e94bd85-f891-4e75-e634-fb6df3ca93c1",
        "colab": {
          "base_uri": "https://localhost:8080/",
          "height": 315
        }
      },
      "cell_type": "code",
      "source": [
        "print_scores('vw', X_test['Disbursed'], get_preds(probs['Proba']), probs['Proba'])"
      ],
      "execution_count": 22,
      "outputs": [
        {
          "output_type": "stream",
          "text": [
            "[vw] {0: 21755}\n",
            "Accuracy : 0.985\n",
            "Balanced accuracy : 0.500\n",
            "AUC Score [class 1]: 0.729\n",
            "              precision    recall  f1-score   support\n",
            "\n",
            "         0.0      0.985     1.000     0.992     21431\n",
            "         1.0      0.000     0.000     0.000       324\n",
            "\n",
            "   micro avg      0.985     0.985     0.985     21755\n",
            "   macro avg      0.493     0.500     0.496     21755\n",
            "weighted avg      0.970     0.985     0.978     21755\n",
            "\n",
            "************************************************************\n"
          ],
          "name": "stdout"
        },
        {
          "output_type": "stream",
          "text": [
            "/usr/local/lib/python3.6/dist-packages/sklearn/metrics/classification.py:1143: UndefinedMetricWarning: Precision and F-score are ill-defined and being set to 0.0 in labels with no predicted samples.\n",
            "  'precision', 'predicted', average, warn_for)\n"
          ],
          "name": "stderr"
        }
      ]
    },
    {
      "metadata": {
        "id": "ZHufU7fM6411",
        "colab_type": "code",
        "colab": {}
      },
      "cell_type": "code",
      "source": [
        "def print_metrics(vw_probs, proba_treshold = 0.5):\n",
        "    probs = pd.read_csv(vw_probs, header=None, names=['Proba', 'Label'], sep=' ')\n",
        "    y_pred = get_preds(probs['Proba'], proba_treshold)\n",
        "    print_scores('vw', X_test['Disbursed'], y_pred, probs['Proba'])"
      ],
      "execution_count": 0,
      "outputs": []
    },
    {
      "metadata": {
        "id": "bW0B61aW3kAR",
        "colab_type": "text"
      },
      "cell_type": "markdown",
      "source": [
        "### 2.2\n",
        "Увеличим вес класса **1**. Это позволяет увеличить **recall** по редкому классу."
      ]
    },
    {
      "metadata": {
        "id": "RQLuHonkLd3g",
        "colab_type": "code",
        "outputId": "4230b900-0a52-45f2-ebe6-59c32342bcd8",
        "colab": {
          "base_uri": "https://localhost:8080/",
          "height": 260
        }
      },
      "cell_type": "code",
      "source": [
        "!vw -d train_medium.vw -c -k -f model.vw --passes 10 --link logistic --classweight 1:16 --quiet\n",
        "!vw -d test_medium.vw -i model.vw -t -p probs.txt --quiet\n",
        "\n",
        "print_metrics('probs.txt')"
      ],
      "execution_count": 24,
      "outputs": [
        {
          "output_type": "stream",
          "text": [
            "[vw] {0: 20937, 1: 818}\n",
            "Accuracy : 0.954\n",
            "Balanced accuracy : 0.597\n",
            "AUC Score [class 1]: 0.771\n",
            "              precision    recall  f1-score   support\n",
            "\n",
            "         0.0      0.988     0.965     0.977     21431\n",
            "         1.0      0.090     0.228     0.130       324\n",
            "\n",
            "   micro avg      0.954     0.954     0.954     21755\n",
            "   macro avg      0.539     0.597     0.553     21755\n",
            "weighted avg      0.975     0.954     0.964     21755\n",
            "\n",
            "************************************************************\n"
          ],
          "name": "stdout"
        }
      ]
    },
    {
      "metadata": {
        "id": "WekrfwQuNR3O",
        "colab_type": "text"
      },
      "cell_type": "markdown",
      "source": [
        "### 2.3\n",
        "Дальнейшее увеличение веса класса **1** отрицательно сказывается на других метриках, в первую очередь на общем **accuracy** - слишком много false alarm-ов."
      ]
    },
    {
      "metadata": {
        "id": "f-DSY62UNe8w",
        "colab_type": "code",
        "colab": {
          "base_uri": "https://localhost:8080/",
          "height": 260
        },
        "outputId": "825a0108-4875-476f-ff06-e0215d4ea596"
      },
      "cell_type": "code",
      "source": [
        "!vw -d train_medium.vw -c -k -f model.vw --passes 10 --link logistic --classweight 1:50 --quiet\n",
        "!vw -d test_medium.vw -i model.vw -t -p probs.txt --quiet\n",
        "\n",
        "print_metrics('probs.txt')"
      ],
      "execution_count": 25,
      "outputs": [
        {
          "output_type": "stream",
          "text": [
            "[vw] {0: 14497, 1: 7258}\n",
            "Accuracy : 0.674\n",
            "Balanced accuracy : 0.708\n",
            "AUC Score [class 1]: 0.768\n",
            "              precision    recall  f1-score   support\n",
            "\n",
            "         0.0      0.994     0.673     0.802     21431\n",
            "         1.0      0.033     0.744     0.064       324\n",
            "\n",
            "   micro avg      0.674     0.674     0.674     21755\n",
            "   macro avg      0.514     0.708     0.433     21755\n",
            "weighted avg      0.980     0.674     0.791     21755\n",
            "\n",
            "************************************************************\n"
          ],
          "name": "stdout"
        }
      ]
    },
    {
      "metadata": {
        "id": "LtjisTIqQnA8",
        "colab_type": "text"
      },
      "cell_type": "markdown",
      "source": [
        "### 2.4\n",
        "Попробуем изменять некоторые другие параметры vowpal wabbit и посмотреть значения метрик."
      ]
    },
    {
      "metadata": {
        "id": "_RJdWqlm6bIi",
        "colab_type": "code",
        "outputId": "f6d7064b-20f8-49d5-e70e-30cfe2730f3c",
        "colab": {
          "base_uri": "https://localhost:8080/",
          "height": 260
        }
      },
      "cell_type": "code",
      "source": [
        "!vw -d train_medium.vw -c -f model.vw --passes 10 -l 0.1 --link logistic --classweight 1:16 --quiet\n",
        "!vw -d test_medium.vw -i model.vw -t -p probs.txt --quiet\n",
        "\n",
        "print_metrics('probs.txt')"
      ],
      "execution_count": 26,
      "outputs": [
        {
          "output_type": "stream",
          "text": [
            "[vw] {0: 21244, 1: 511}\n",
            "Accuracy : 0.966\n",
            "Balanced accuracy : 0.570\n",
            "AUC Score [class 1]: 0.789\n",
            "              precision    recall  f1-score   support\n",
            "\n",
            "         0.0      0.987     0.979     0.983     21431\n",
            "         1.0      0.102     0.160     0.125       324\n",
            "\n",
            "   micro avg      0.966     0.966     0.966     21755\n",
            "   macro avg      0.544     0.570     0.554     21755\n",
            "weighted avg      0.974     0.966     0.970     21755\n",
            "\n",
            "************************************************************\n"
          ],
          "name": "stdout"
        }
      ]
    },
    {
      "metadata": {
        "id": "n7ya1RNQ7Yqq",
        "colab_type": "code",
        "outputId": "dca45037-c18f-44c6-f87b-fe001a20bc33",
        "colab": {
          "base_uri": "https://localhost:8080/",
          "height": 260
        }
      },
      "cell_type": "code",
      "source": [
        "!vw -d train_medium.vw -c -f model.vw --passes 10 -l 0.1 --link logistic --loss_function=logistic --classweight 1:16 --quiet\n",
        "!vw -d test_medium.vw -i model.vw -t -p probs.txt --quiet\n",
        "\n",
        "print_metrics('probs.txt')"
      ],
      "execution_count": 27,
      "outputs": [
        {
          "output_type": "stream",
          "text": [
            "[vw] {0: 21085, 1: 670}\n",
            "Accuracy : 0.961\n",
            "Balanced accuracy : 0.596\n",
            "AUC Score [class 1]: 0.787\n",
            "              precision    recall  f1-score   support\n",
            "\n",
            "         0.0      0.988     0.972     0.980     21431\n",
            "         1.0      0.106     0.219     0.143       324\n",
            "\n",
            "   micro avg      0.961     0.961     0.961     21755\n",
            "   macro avg      0.547     0.596     0.561     21755\n",
            "weighted avg      0.975     0.961     0.967     21755\n",
            "\n",
            "************************************************************\n"
          ],
          "name": "stdout"
        }
      ]
    },
    {
      "metadata": {
        "id": "3q7DZqaNAb1K",
        "colab_type": "code",
        "outputId": "c3c84168-88a8-4b72-8f0c-8f844f716f2f",
        "colab": {
          "base_uri": "https://localhost:8080/",
          "height": 260
        }
      },
      "cell_type": "code",
      "source": [
        "!vw -d train_medium.vw -c -f model.vw --passes 10 -l 0.05 --link logistic --loss_function=logistic --classweight 1:20 --quiet\n",
        "!vw -d test_medium.vw -i model.vw -t -p probs.txt --quiet\n",
        "\n",
        "print_metrics('probs.txt')"
      ],
      "execution_count": 28,
      "outputs": [
        {
          "output_type": "stream",
          "text": [
            "[vw] {0: 20809, 1: 946}\n",
            "Accuracy : 0.950\n",
            "Balanced accuracy : 0.624\n",
            "AUC Score [class 1]: 0.784\n",
            "              precision    recall  f1-score   support\n",
            "\n",
            "         0.0      0.989     0.960     0.974     21431\n",
            "         1.0      0.098     0.287     0.146       324\n",
            "\n",
            "   micro avg      0.950     0.950     0.950     21755\n",
            "   macro avg      0.544     0.624     0.560     21755\n",
            "weighted avg      0.976     0.950     0.962     21755\n",
            "\n",
            "************************************************************\n"
          ],
          "name": "stdout"
        }
      ]
    },
    {
      "metadata": {
        "id": "Rag9YO2FF7Yh",
        "colab_type": "text"
      },
      "cell_type": "markdown",
      "source": [
        "## 3. Выводы\n",
        "\n",
        "Значение `ROC_AUC` получается достаточно близкое к `XGBoost`.\n",
        "Увеличение веса редкого класса **1** позволяет немного (хотя и заметно по сравнению с 0) увеличить **recall** по нему.\n",
        "Также приятно порадовала скорость обучения."
      ]
    }
  ]
}