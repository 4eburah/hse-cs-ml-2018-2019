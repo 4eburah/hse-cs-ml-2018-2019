{
 "cells": [
  {
   "cell_type": "markdown",
   "metadata": {},
   "source": [
    "\n",
    "#### _ML продвинутые методы / ДЗ №1 / Практическая часть / Задача 3_"
   ]
  },
  {
   "cell_type": "markdown",
   "metadata": {},
   "source": [
    "## 3. _Boosting vs Bagging_ "
   ]
  },
  {
   "cell_type": "code",
   "execution_count": 1,
   "metadata": {},
   "outputs": [],
   "source": [
    "import pandas as pd\n",
    "import numpy as np\n",
    "\n",
    "import matplotlib.pyplot as plt\n",
    "%matplotlib inline"
   ]
  },
  {
   "cell_type": "code",
   "execution_count": 2,
   "metadata": {},
   "outputs": [],
   "source": [
    "from sklearn.tree import DecisionTreeRegressor\n",
    "from sklearn.ensemble import RandomForestRegressor, BaggingRegressor, GradientBoostingRegressor\n",
    "\n",
    "from sklearn.model_selection import train_test_split\n",
    "from sklearn.model_selection import cross_val_score\n",
    "from sklearn.model_selection import GridSearchCV\n",
    "\n",
    "from sklearn.metrics import r2_score\n",
    "from sklearn.metrics import mean_squared_error"
   ]
  },
  {
   "cell_type": "code",
   "execution_count": 3,
   "metadata": {},
   "outputs": [
    {
     "data": {
      "text/plain": [
       "((442, 10), (442,))"
      ]
     },
     "execution_count": 3,
     "metadata": {},
     "output_type": "execute_result"
    }
   ],
   "source": [
    "from sklearn.datasets import load_diabetes\n",
    "\n",
    "data = load_diabetes()\n",
    "\n",
    "X = data.data\n",
    "y = data.target\n",
    "\n",
    "X.shape, y.shape"
   ]
  },
  {
   "cell_type": "code",
   "execution_count": 4,
   "metadata": {},
   "outputs": [
    {
     "name": "stdout",
     "output_type": "stream",
     "text": [
      "(353, 10) (89, 10)\n"
     ]
    }
   ],
   "source": [
    "X_train, X_test, y_train, y_test = train_test_split(X, y, test_size=0.2, random_state=223)\n",
    "\n",
    "print(X_train.shape, X_test.shape)"
   ]
  },
  {
   "cell_type": "markdown",
   "metadata": {},
   "source": [
    "### 3.1 _DecisionTreeRegressor_ "
   ]
  },
  {
   "cell_type": "code",
   "execution_count": 5,
   "metadata": {},
   "outputs": [
    {
     "name": "stdout",
     "output_type": "stream",
     "text": [
      "Wall time: 7.85 s\n"
     ]
    }
   ],
   "source": [
    "%%time\n",
    "\n",
    "dtr = DecisionTreeRegressor()\n",
    "\n",
    "dtr_grid_params = {\n",
    "    'max_depth' : list(range(2, 10)),\n",
    "    'max_features' : [0.1, 0.2, 0.3, 0.5, 0.7, 0.9, 1.0],\n",
    "    'min_samples_leaf' : list(range(1, 15))\n",
    "}\n",
    "\n",
    "gs_dtr = GridSearchCV(dtr, dtr_grid_params, scoring='neg_mean_squared_error', cv=4, iid=True, n_jobs=-1)\n",
    "gs_dtr.fit(X_train, y_train)\n",
    "\n",
    "best_dtr = gs_dtr.best_estimator_"
   ]
  },
  {
   "cell_type": "code",
   "execution_count": 6,
   "metadata": {},
   "outputs": [
    {
     "data": {
      "text/plain": [
       "DecisionTreeRegressor(criterion='mse', max_depth=3, max_features=0.5,\n",
       "           max_leaf_nodes=None, min_impurity_decrease=0.0,\n",
       "           min_impurity_split=None, min_samples_leaf=14,\n",
       "           min_samples_split=2, min_weight_fraction_leaf=0.0,\n",
       "           presort=False, random_state=None, splitter='best')"
      ]
     },
     "execution_count": 6,
     "metadata": {},
     "output_type": "execute_result"
    }
   ],
   "source": [
    "best_dtr"
   ]
  },
  {
   "cell_type": "code",
   "execution_count": 7,
   "metadata": {},
   "outputs": [
    {
     "data": {
      "text/plain": [
       "3662.1233010071483"
      ]
     },
     "execution_count": 7,
     "metadata": {},
     "output_type": "execute_result"
    }
   ],
   "source": [
    "-gs_dtr.best_score_"
   ]
  },
  {
   "cell_type": "code",
   "execution_count": 8,
   "metadata": {},
   "outputs": [],
   "source": [
    "def print_scores(regr_name, dataset_name, y_test, y_pred):\n",
    "    print('[{}] R2 ({}): {:.3f}'.format(regr_name, dataset_name, r2_score(y_test, y_pred)))\n",
    "    print('[{}] MSE ({}): {:.3f}'.format(regr_name, dataset_name, mean_squared_error(y_test, y_pred)))\n",
    "    print()\n",
    "    print('*' * 50)"
   ]
  },
  {
   "cell_type": "code",
   "execution_count": 9,
   "metadata": {},
   "outputs": [],
   "source": [
    "y_dtr_pred = best_dtr.predict(X_test)"
   ]
  },
  {
   "cell_type": "code",
   "execution_count": 10,
   "metadata": {},
   "outputs": [
    {
     "name": "stdout",
     "output_type": "stream",
     "text": [
      "[DecisionTreeRegressor] R2 (train): 0.500\n",
      "[DecisionTreeRegressor] MSE (train): 2933.637\n",
      "\n",
      "**************************************************\n",
      "[DecisionTreeRegressor] R2 (test): 0.328\n",
      "[DecisionTreeRegressor] MSE (test): 4135.898\n",
      "\n",
      "**************************************************\n"
     ]
    }
   ],
   "source": [
    "print_scores('DecisionTreeRegressor', 'train', y_train, best_dtr.predict(X_train))\n",
    "print_scores('DecisionTreeRegressor', 'test', y_test, y_dtr_pred)"
   ]
  },
  {
   "cell_type": "markdown",
   "metadata": {},
   "source": [
    "### 3.2 _RandomForestRegressor_"
   ]
  },
  {
   "cell_type": "markdown",
   "metadata": {},
   "source": [
    "Параметры для решающего дерева возьмём равными найденным выше для `DecisionTreeRegressor`."
   ]
  },
  {
   "cell_type": "code",
   "execution_count": 11,
   "metadata": {},
   "outputs": [
    {
     "name": "stdout",
     "output_type": "stream",
     "text": [
      "-3240.6825179792236\n",
      "Wall time: 915 ms\n"
     ]
    }
   ],
   "source": [
    "%%time\n",
    "\n",
    "rfr_params = {k:v for (k,v) in best_dtr.get_params().items() \n",
    "                        if k in ['max_depth', 'max_features', 'min_samples_leaf', 'min_samples_split']}\n",
    "\n",
    "rfr = RandomForestRegressor(n_estimators=100, **rfr_params)\n",
    "\n",
    "print( cross_val_score(rfr, X_train, y_train, cv=4, scoring='neg_mean_squared_error').mean() )"
   ]
  },
  {
   "cell_type": "code",
   "execution_count": 12,
   "metadata": {},
   "outputs": [
    {
     "data": {
      "text/plain": [
       "RandomForestRegressor(bootstrap=True, criterion='mse', max_depth=3,\n",
       "           max_features=0.5, max_leaf_nodes=None,\n",
       "           min_impurity_decrease=0.0, min_impurity_split=None,\n",
       "           min_samples_leaf=14, min_samples_split=2,\n",
       "           min_weight_fraction_leaf=0.0, n_estimators=100, n_jobs=None,\n",
       "           oob_score=False, random_state=None, verbose=0, warm_start=False)"
      ]
     },
     "execution_count": 12,
     "metadata": {},
     "output_type": "execute_result"
    }
   ],
   "source": [
    "rfr.fit(X_train, y_train)"
   ]
  },
  {
   "cell_type": "code",
   "execution_count": 13,
   "metadata": {},
   "outputs": [],
   "source": [
    "y_rfr_pred = rfr.predict(X_test) "
   ]
  },
  {
   "cell_type": "code",
   "execution_count": 14,
   "metadata": {},
   "outputs": [
    {
     "name": "stdout",
     "output_type": "stream",
     "text": [
      "[RandomForestClassifier] R2 (train): 0.549\n",
      "[RandomForestClassifier] MSE (train): 2649.944\n",
      "\n",
      "**************************************************\n",
      "[RandomForestClassifier] R2 (test): 0.478\n",
      "[RandomForestClassifier] MSE (test): 3212.067\n",
      "\n",
      "**************************************************\n"
     ]
    }
   ],
   "source": [
    "print_scores('RandomForestClassifier', 'train', y_train, rfr.predict(X_train))\n",
    "print_scores('RandomForestClassifier', 'test', y_test, y_rfr_pred)"
   ]
  },
  {
   "cell_type": "markdown",
   "metadata": {},
   "source": [
    "#### 3.2.1 _Number of trees in RandomForest_"
   ]
  },
  {
   "cell_type": "code",
   "execution_count": 15,
   "metadata": {},
   "outputs": [],
   "source": [
    "from tqdm import tqdm"
   ]
  },
  {
   "cell_type": "code",
   "execution_count": 16,
   "metadata": {},
   "outputs": [
    {
     "name": "stderr",
     "output_type": "stream",
     "text": [
      "100%|██████████████████████████████████████████████████████████████████████████████████████████████████████████| 12/12 [00:19<00:00,  1.99s/it]\n"
     ]
    }
   ],
   "source": [
    "n_trees = np.arange(5,300,25)\n",
    "scores = []\n",
    "\n",
    "rfr_params = {k:v for (k,v) in rfr.get_params().items() \n",
    "                        if k in ['max_depth', 'max_features', 'min_samples_leaf', \n",
    "                                 'min_samples_split', 'min_weight_fraction_leaf']}\n",
    "\n",
    "for n in tqdm(n_trees):\n",
    "    rfr = RandomForestRegressor(n_estimators=n, n_jobs=-1, **rfr_params)\n",
    "    scores.append(-cross_val_score(rfr, X, y, cv=4, scoring='neg_mean_squared_error').mean())"
   ]
  },
  {
   "cell_type": "code",
   "execution_count": 18,
   "metadata": {},
   "outputs": [
    {
     "data": {
      "image/png": "[encoded data removed]",
      "text/plain": [
       "<Figure size 1080x576 with 1 Axes>"
      ]
     },
     "metadata": {
      "needs_background": "light"
     },
     "output_type": "display_data"
    }
   ],
   "source": [
    "plt.figure(figsize = (15, 8))\n",
    "plt.plot(scores)\n",
    "plt.xticks(np.arange(len(n_trees)), n_trees);\n",
    "plt.grid()"
   ]
  },
  {
   "cell_type": "markdown",
   "metadata": {},
   "source": [
    "### 3.3 _GradientBoostingRegressor_"
   ]
  },
  {
   "cell_type": "code",
   "execution_count": null,
   "metadata": {},
   "outputs": [],
   "source": []
  }
 ],
 "metadata": {
  "kernelspec": {
   "display_name": "Python 3",
   "language": "python",
   "name": "python3"
  },
  "language_info": {
   "codemirror_mode": {
    "name": "ipython",
    "version": 3
   },
   "file_extension": ".py",
   "mimetype": "text/x-python",
   "name": "python",
   "nbconvert_exporter": "python",
   "pygments_lexer": "ipython3",
   "version": "3.7.2"
  }
 },
 "nbformat": 4,
 "nbformat_minor": 2
}
