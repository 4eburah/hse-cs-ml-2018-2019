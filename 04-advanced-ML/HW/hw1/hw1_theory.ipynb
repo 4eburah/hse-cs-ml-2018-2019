{
 "cells": [
  {
   "cell_type": "markdown",
   "metadata": {},
   "source": [
    "#### _ML продвинутые методы / ДЗ №1 / Теоретическая часть_"
   ]
  },
  {
   "cell_type": "code",
   "execution_count": 1,
   "metadata": {},
   "outputs": [],
   "source": [
    "import numpy as np"
   ]
  },
  {
   "cell_type": "markdown",
   "metadata": {},
   "source": [
    "## _Задача №1_ "
   ]
  },
  {
   "cell_type": "code",
   "execution_count": 2,
   "metadata": {},
   "outputs": [
    {
     "data": {
      "text/plain": [
       "array([1, 2, 3, 4, 5, 6, 7])"
      ]
     },
     "execution_count": 2,
     "metadata": {},
     "output_type": "execute_result"
    }
   ],
   "source": [
    "X = 1 + np.arange(7)\n",
    "\n",
    "X"
   ]
  },
  {
   "cell_type": "code",
   "execution_count": 3,
   "metadata": {},
   "outputs": [
    {
     "data": {
      "text/plain": [
       "array([100, 102, 103,  50,  55,  61,  70])"
      ]
     },
     "execution_count": 3,
     "metadata": {},
     "output_type": "execute_result"
    }
   ],
   "source": [
    "Y = np.array([100, 102, 103, 50, 55, 61, 70])\n",
    "             \n",
    "Y"
   ]
  },
  {
   "cell_type": "code",
   "execution_count": 4,
   "metadata": {},
   "outputs": [
    {
     "data": {
      "text/plain": [
       "478.2040816326531"
      ]
     },
     "execution_count": 4,
     "metadata": {},
     "output_type": "execute_result"
    }
   ],
   "source": [
    "np.var(Y)"
   ]
  },
  {
   "cell_type": "markdown",
   "metadata": {},
   "source": [
    "Будем определять правила разбиения, находя максимум информационного прироста."
   ]
  },
  {
   "cell_type": "code",
   "execution_count": 5,
   "metadata": {},
   "outputs": [],
   "source": [
    "def Q(hrf, X, Y):\n",
    "    HR = hrf(Y)\n",
    "    for i, x in enumerate(X):\n",
    "        if 0 == i:\n",
    "            continue\n",
    "        l = X < x\n",
    "        r = ~l\n",
    "        HRl = hrf(Y[l])\n",
    "        HRr = hrf(Y[r])\n",
    "        Q = HR - ((len(np.argwhere(l)) / len(X)) * HRl) - ((len(np.argwhere(r)) / len(X)) * HRr)\n",
    "        print('[{}] [ x < {} ] [{} / {}] HR(l): {:.3f}, HR(r): {:.3f}, Q: {:.3f}'.format(i, x, X[l], X[r], HRl, HRr, Q))"
   ]
  },
  {
   "cell_type": "code",
   "execution_count": 6,
   "metadata": {},
   "outputs": [
    {
     "name": "stdout",
     "output_type": "stream",
     "text": [
      "[1] [ x < 2 ] [[1] / [2 3 4 5 6 7]] HR(l): 0.000, HR(r): 457.583, Q: 85.990\n",
      "[2] [ x < 3 ] [[1 2] / [3 4 5 6 7]] HR(l): 1.000, HR(r): 354.160, Q: 224.947\n",
      "[3] [ x < 4 ] [[1 2 3] / [4 5 6 7]] HR(l): 1.556, HR(r): 55.500, Q: 445.823\n",
      "[4] [ x < 5 ] [[1 2 3 4] / [5 6 7]] HR(l): 501.688, HR(r): 38.000, Q: 175.240\n",
      "[5] [ x < 6 ] [[1 2 3 4 5] / [6 7]] HR(l): 583.600, HR(r): 20.250, Q: 55.561\n",
      "[6] [ x < 7 ] [[1 2 3 4 5 6] / [7]] HR(l): 547.583, HR(r): 0.000, Q: 8.847\n"
     ]
    }
   ],
   "source": [
    "Q(np.var, X, Y)"
   ]
  },
  {
   "cell_type": "code",
   "execution_count": 7,
   "metadata": {},
   "outputs": [
    {
     "name": "stdout",
     "output_type": "stream",
     "text": [
      "[1] [ x < 2 ] [[1] / [2 3]] HR(l): 0.000, HR(r): 0.250, Q: 1.389\n",
      "[2] [ x < 3 ] [[1 2] / [3]] HR(l): 1.000, HR(r): 0.000, Q: 0.889\n"
     ]
    }
   ],
   "source": [
    "Q(np.var, X[X<4], Y[X<4])"
   ]
  },
  {
   "cell_type": "code",
   "execution_count": 8,
   "metadata": {},
   "outputs": [
    {
     "name": "stdout",
     "output_type": "stream",
     "text": [
      "[1] [ x < 5 ] [[4] / [5 6 7]] HR(l): 0.000, HR(r): 38.000, Q: 27.000\n",
      "[2] [ x < 6 ] [[4 5] / [6 7]] HR(l): 6.250, HR(r): 20.250, Q: 42.250\n",
      "[3] [ x < 7 ] [[4 5 6] / [7]] HR(l): 20.222, HR(r): 0.000, Q: 40.333\n"
     ]
    }
   ],
   "source": [
    "Q(np.var, X[X>=4], Y[X>=4])"
   ]
  },
  {
   "cell_type": "markdown",
   "metadata": {},
   "source": [
    "Получили следующее дерево:\n",
    "```\n",
    "                        { x < 4 }[#7]\n",
    "                           True | False\n",
    "               +----------------+----------------+\n",
    "               |                                 |\n",
    "       { x < 2 }[#3]                     { x < 6 }[#4]\n",
    "          True | False                      True | False\n",
    "      +--------+--------+               +--------+--------+\n",
    "      |                 |               |                 |\n",
    "    {1}[#1]         {2,3}[#2]       {4,5}[#2]         {6,7}[#2]\n",
    "\n",
    "```"
   ]
  },
  {
   "cell_type": "markdown",
   "metadata": {},
   "source": [
    "## _Задача №2_ "
   ]
  },
  {
   "cell_type": "code",
   "execution_count": 9,
   "metadata": {},
   "outputs": [],
   "source": [
    "def gini(X):\n",
    "    unique, counts = np.unique(X, return_counts=True)\n",
    "    probs = counts / X.shape[0]\n",
    "    return np.sum(probs * (1. - probs))"
   ]
  },
  {
   "cell_type": "markdown",
   "metadata": {},
   "source": [
    "Индекс Джини будет больше `0.9999`, например, если у нас будет выборка из более чем `10000` элементов, каждый из которых принадлежит к своему уникальному классу (ну или просто одинаковое число элеметнов каждого класса при общем объёме выборки более `10000`)."
   ]
  },
  {
   "cell_type": "code",
   "execution_count": 10,
   "metadata": {},
   "outputs": [
    {
     "data": {
      "text/plain": [
       "array([    1,     2,     3, ...,  9998,  9999, 10000])"
      ]
     },
     "execution_count": 10,
     "metadata": {},
     "output_type": "execute_result"
    }
   ],
   "source": [
    "X = 1 + np.arange(10000)\n",
    "\n",
    "X"
   ]
  },
  {
   "cell_type": "code",
   "execution_count": 11,
   "metadata": {},
   "outputs": [
    {
     "data": {
      "text/plain": [
       "0.9999000000000005"
      ]
     },
     "execution_count": 11,
     "metadata": {},
     "output_type": "execute_result"
    }
   ],
   "source": [
    "gini(X)"
   ]
  },
  {
   "cell_type": "markdown",
   "metadata": {},
   "source": [
    "## _Задача №3_ "
   ]
  },
  {
   "cell_type": "code",
   "execution_count": 12,
   "metadata": {},
   "outputs": [
    {
     "data": {
      "text/plain": [
       "array([10, 11, 12, 13, 14])"
      ]
     },
     "execution_count": 12,
     "metadata": {},
     "output_type": "execute_result"
    }
   ],
   "source": [
    "X = np.array([10, 11, 12, 13, 14])\n",
    "\n",
    "X"
   ]
  },
  {
   "cell_type": "code",
   "execution_count": 13,
   "metadata": {},
   "outputs": [
    {
     "data": {
      "text/plain": [
       "array(['плюнет', 'поцелует', 'поцелует', 'к сердцу прижмёт',\n",
       "       'к сердцу прижмёт'], dtype='<U16')"
      ]
     },
     "execution_count": 13,
     "metadata": {},
     "output_type": "execute_result"
    }
   ],
   "source": [
    "Y = np.array(['плюнет', 'поцелует', 'поцелует', 'к сердцу прижмёт', 'к сердцу прижмёт'])\n",
    "\n",
    "Y"
   ]
  },
  {
   "cell_type": "code",
   "execution_count": 14,
   "metadata": {},
   "outputs": [
    {
     "name": "stdout",
     "output_type": "stream",
     "text": [
      "[1] [ x < 11 ] [[10] / [11 12 13 14]] HR(l): 0.000, HR(r): 0.500, Q: 0.240\n",
      "[2] [ x < 12 ] [[10 11] / [12 13 14]] HR(l): 0.500, HR(r): 0.444, Q: 0.173\n",
      "[3] [ x < 13 ] [[10 11 12] / [13 14]] HR(l): 0.444, HR(r): 0.000, Q: 0.373\n",
      "[4] [ x < 14 ] [[10 11 12 13] / [14]] HR(l): 0.625, HR(r): 0.000, Q: 0.140\n"
     ]
    }
   ],
   "source": [
    "Q(gini, X, Y)"
   ]
  },
  {
   "cell_type": "code",
   "execution_count": 15,
   "metadata": {},
   "outputs": [
    {
     "name": "stdout",
     "output_type": "stream",
     "text": [
      "[1] [ x < 11 ] [[10] / [11 12]] HR(l): 0.000, HR(r): 0.000, Q: 0.444\n",
      "[2] [ x < 12 ] [[10 11] / [12]] HR(l): 0.500, HR(r): 0.000, Q: 0.111\n"
     ]
    }
   ],
   "source": [
    "Q(gini, X[X<13], Y[X<13])"
   ]
  },
  {
   "cell_type": "markdown",
   "metadata": {},
   "source": [
    "Получили следующее дерево:\n",
    "```\n",
    "                          { x < 13 }[#5]\n",
    "                              True | False\n",
    "                  +----------------+----------------+\n",
    "                  |                                 |\n",
    "         { x < 11 }[#3]          {'к сердцу прижмёт'}[#2]\n",
    "             True | False\n",
    "         +--------+--------+\n",
    "         |                 |\n",
    "{'плюнет'}[#1]  {'поцелует'}[#2]\n",
    "\n",
    "```"
   ]
  }
 ],
 "metadata": {
  "kernelspec": {
   "display_name": "Python 3",
   "language": "python",
   "name": "python3"
  },
  "language_info": {
   "codemirror_mode": {
    "name": "ipython",
    "version": 3
   },
   "file_extension": ".py",
   "mimetype": "text/x-python",
   "name": "python",
   "nbconvert_exporter": "python",
   "pygments_lexer": "ipython3",
   "version": "3.7.2"
  }
 },
 "nbformat": 4,
 "nbformat_minor": 2
}
