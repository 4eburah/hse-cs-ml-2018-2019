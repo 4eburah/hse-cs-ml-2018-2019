{
 "cells": [
  {
   "cell_type": "markdown",
   "metadata": {},
   "source": [
    "## Цикл for "
   ]
  },
  {
   "cell_type": "code",
   "execution_count": 2,
   "metadata": {
    "ExecuteTime": {
     "end_time": "2018-09-20T16:13:54.726790Z",
     "start_time": "2018-09-20T16:13:54.718303Z"
    }
   },
   "outputs": [
    {
     "name": "stdout",
     "output_type": "stream",
     "text": [
      "10\n",
      "1\n",
      "2\n",
      "3\n",
      "4\n"
     ]
    }
   ],
   "source": [
    "for number in [10, 1, 2, 3, 4]:\n",
    "    print(number) "
   ]
  },
  {
   "cell_type": "markdown",
   "metadata": {},
   "source": [
    "Мы получили индексы элементов или сами элементы?"
   ]
  },
  {
   "cell_type": "code",
   "execution_count": 5,
   "metadata": {
    "ExecuteTime": {
     "end_time": "2018-09-20T16:14:57.911844Z",
     "start_time": "2018-09-20T16:14:57.898751Z"
    }
   },
   "outputs": [
    {
     "name": "stdout",
     "output_type": "stream",
     "text": [
      "0\n",
      "1\n",
      "2\n",
      "3\n",
      "4\n"
     ]
    },
    {
     "data": {
      "text/plain": [
       "4"
      ]
     },
     "execution_count": 5,
     "metadata": {},
     "output_type": "execute_result"
    }
   ],
   "source": [
    "number = 100\n",
    "for number in (0, 1, 2, 3, 4):\n",
    "    print(number)\n",
    "    \n",
    "number"
   ]
  },
  {
   "cell_type": "markdown",
   "metadata": {},
   "source": [
    "Что это за контейнер был?"
   ]
  },
  {
   "cell_type": "code",
   "execution_count": null,
   "metadata": {
    "ExecuteTime": {
     "end_time": "2018-09-19T23:01:51.372161Z",
     "start_time": "2018-09-19T23:01:51.357314Z"
    }
   },
   "outputs": [],
   "source": [
    "for number in set(0, 1, 2, 3, 4):\n",
    "    print(number)"
   ]
  },
  {
   "cell_type": "markdown",
   "metadata": {
    "ExecuteTime": {
     "end_time": "2018-09-19T23:02:05.987245Z",
     "start_time": "2018-09-19T23:02:05.979323Z"
    }
   },
   "source": [
    "Почему ошибка?"
   ]
  },
  {
   "cell_type": "code",
   "execution_count": 10,
   "metadata": {
    "ExecuteTime": {
     "end_time": "2018-09-20T16:18:19.463931Z",
     "start_time": "2018-09-20T16:18:19.455799Z"
    }
   },
   "outputs": [
    {
     "name": "stdout",
     "output_type": "stream",
     "text": [
      "0\n",
      "1\n",
      "2\n",
      "3\n",
      "4\n"
     ]
    }
   ],
   "source": [
    "for number in set((0, 1, 2, 3, 4)):\n",
    "    print(number)"
   ]
  },
  {
   "cell_type": "code",
   "execution_count": 9,
   "metadata": {
    "ExecuteTime": {
     "end_time": "2018-09-20T16:17:52.568240Z",
     "start_time": "2018-09-20T16:17:52.553716Z"
    }
   },
   "outputs": [
    {
     "ename": "TypeError",
     "evalue": "'set' object does not support indexing",
     "output_type": "error",
     "traceback": [
      "\u001b[0;31m---------------------------------------------------------------------------\u001b[0m",
      "\u001b[0;31mTypeError\u001b[0m                                 Traceback (most recent call last)",
      "\u001b[0;32m<ipython-input-9-b7af0b5ce1a2>\u001b[0m in \u001b[0;36m<module>\u001b[0;34m()\u001b[0m\n\u001b[1;32m      1\u001b[0m \u001b[0ma\u001b[0m \u001b[0;34m=\u001b[0m \u001b[0mset\u001b[0m\u001b[0;34m(\u001b[0m\u001b[0;34m(\u001b[0m\u001b[0;36m0\u001b[0m\u001b[0;34m,\u001b[0m \u001b[0;36m1\u001b[0m\u001b[0;34m,\u001b[0m \u001b[0;36m2\u001b[0m\u001b[0;34m,\u001b[0m \u001b[0;36m3\u001b[0m\u001b[0;34m,\u001b[0m \u001b[0;36m4\u001b[0m\u001b[0;34m)\u001b[0m\u001b[0;34m)\u001b[0m\u001b[0;34m\u001b[0m\u001b[0m\n\u001b[0;32m----> 2\u001b[0;31m \u001b[0ma\u001b[0m\u001b[0;34m[\u001b[0m\u001b[0;36m3\u001b[0m\u001b[0;34m]\u001b[0m\u001b[0;34m\u001b[0m\u001b[0m\n\u001b[0m",
      "\u001b[0;31mTypeError\u001b[0m: 'set' object does not support indexing"
     ]
    }
   ],
   "source": [
    "a = set((0, 1, 2, 3, 4)) \n",
    "a[3]"
   ]
  },
  {
   "cell_type": "markdown",
   "metadata": {},
   "source": [
    "По set можно проитерироваться, но нельзя взять индекс!"
   ]
  },
  {
   "cell_type": "code",
   "execution_count": 13,
   "metadata": {
    "ExecuteTime": {
     "end_time": "2018-09-20T16:20:19.859760Z",
     "start_time": "2018-09-20T16:20:19.750829Z"
    }
   },
   "outputs": [
    {
     "name": "stdout",
     "output_type": "stream",
     "text": [
      "number:;0\tnumber squred: 0\n",
      "\n",
      "number:;1\tnumber squred: 1\n",
      "\n",
      "number:;2\tnumber squred: 4\n",
      "\n",
      "number:;3\tnumber squred: 9\n",
      "\n",
      "number:;4\tnumber squred: 16\n",
      "\n"
     ]
    }
   ],
   "source": [
    "for number in set((0, 1, 2, 3, 4)):\n",
    "    print('number:', number, sep=';', end='\\t', )\n",
    "    print('number squred:', number ** 2)\n",
    "    print() \n"
   ]
  },
  {
   "cell_type": "markdown",
   "metadata": {},
   "source": [
    "## Функция range"
   ]
  },
  {
   "cell_type": "code",
   "execution_count": 14,
   "metadata": {
    "ExecuteTime": {
     "end_time": "2018-09-20T16:21:14.081040Z",
     "start_time": "2018-09-20T16:21:14.072513Z"
    }
   },
   "outputs": [
    {
     "name": "stdout",
     "output_type": "stream",
     "text": [
      "0\n",
      "1\n",
      "2\n",
      "3\n",
      "4\n",
      "5\n",
      "6\n",
      "7\n",
      "8\n",
      "9\n"
     ]
    }
   ],
   "source": [
    "for i in range(10):\n",
    "    print(i)"
   ]
  },
  {
   "cell_type": "markdown",
   "metadata": {},
   "source": [
    "что делает range?"
   ]
  },
  {
   "cell_type": "code",
   "execution_count": 15,
   "metadata": {
    "ExecuteTime": {
     "end_time": "2018-09-20T16:21:34.101794Z",
     "start_time": "2018-09-20T16:21:34.092492Z"
    }
   },
   "outputs": [
    {
     "data": {
      "text/plain": [
       "range(0, 10)"
      ]
     },
     "execution_count": 15,
     "metadata": {},
     "output_type": "execute_result"
    }
   ],
   "source": [
    "range(10) "
   ]
  },
  {
   "cell_type": "code",
   "execution_count": 16,
   "metadata": {
    "ExecuteTime": {
     "end_time": "2018-09-20T16:21:46.378177Z",
     "start_time": "2018-09-20T16:21:46.370202Z"
    }
   },
   "outputs": [
    {
     "data": {
      "text/plain": [
       "range"
      ]
     },
     "execution_count": 16,
     "metadata": {},
     "output_type": "execute_result"
    }
   ],
   "source": [
    "type(range(10)) "
   ]
  },
  {
   "cell_type": "markdown",
   "metadata": {
    "ExecuteTime": {
     "end_time": "2018-09-19T23:14:58.460435Z",
     "start_time": "2018-09-19T23:14:58.453254Z"
    }
   },
   "source": [
    "range - не список! Это генератор! (А вот во 2-м питоне эта функция создает список)"
   ]
  },
  {
   "cell_type": "markdown",
   "metadata": {
    "ExecuteTime": {
     "end_time": "2018-09-19T23:15:37.714098Z",
     "start_time": "2018-09-19T23:15:37.706831Z"
    }
   },
   "source": [
    "Превратить range в список можно так:"
   ]
  },
  {
   "cell_type": "code",
   "execution_count": 17,
   "metadata": {
    "ExecuteTime": {
     "end_time": "2018-09-20T16:23:34.429605Z",
     "start_time": "2018-09-20T16:23:34.421941Z"
    }
   },
   "outputs": [
    {
     "data": {
      "text/plain": [
       "[0, 1, 2, 3, 4, 5, 6, 7, 8, 9]"
      ]
     },
     "execution_count": 17,
     "metadata": {},
     "output_type": "execute_result"
    }
   ],
   "source": [
    "list(range(10))  "
   ]
  },
  {
   "cell_type": "code",
   "execution_count": null,
   "metadata": {},
   "outputs": [],
   "source": []
  },
  {
   "cell_type": "markdown",
   "metadata": {
    "ExecuteTime": {
     "end_time": "2018-09-19T23:17:21.598529Z",
     "start_time": "2018-09-19T23:17:21.590969Z"
    }
   },
   "source": [
    "Интерфейс функции (можно вызвать через shift+tab):\n",
    "\n",
    "range(stop) -> range object\n",
    "\n",
    "range(start, stop[, step]) -> range object"
   ]
  },
  {
   "cell_type": "code",
   "execution_count": 20,
   "metadata": {
    "ExecuteTime": {
     "end_time": "2018-09-20T16:25:26.792890Z",
     "start_time": "2018-09-20T16:25:26.787222Z"
    }
   },
   "outputs": [
    {
     "name": "stdout",
     "output_type": "stream",
     "text": [
      "0\n",
      "1\n",
      "2\n",
      "3\n",
      "4\n",
      "5\n",
      "6\n",
      "7\n",
      "8\n",
      "9\n"
     ]
    }
   ],
   "source": [
    "for i in range(0, 10):\n",
    "    print(i)"
   ]
  },
  {
   "cell_type": "code",
   "execution_count": 21,
   "metadata": {
    "ExecuteTime": {
     "end_time": "2018-09-20T16:25:30.439108Z",
     "start_time": "2018-09-20T16:25:30.432180Z"
    }
   },
   "outputs": [
    {
     "name": "stdout",
     "output_type": "stream",
     "text": [
      "1\n",
      "2\n",
      "3\n",
      "4\n",
      "5\n",
      "6\n",
      "7\n",
      "8\n",
      "9\n"
     ]
    }
   ],
   "source": [
    "for i in range(1, 10):\n",
    "    print(i)"
   ]
  },
  {
   "cell_type": "code",
   "execution_count": 24,
   "metadata": {
    "ExecuteTime": {
     "end_time": "2018-09-20T16:25:55.441584Z",
     "start_time": "2018-09-20T16:25:55.433672Z"
    }
   },
   "outputs": [
    {
     "name": "stdout",
     "output_type": "stream",
     "text": [
      "0\n",
      "2\n",
      "4\n",
      "6\n",
      "8\n"
     ]
    }
   ],
   "source": [
    "for i in range(0, 10, 2): \n",
    "    print(i)"
   ]
  },
  {
   "cell_type": "code",
   "execution_count": 28,
   "metadata": {
    "ExecuteTime": {
     "end_time": "2018-09-20T16:26:37.911648Z",
     "start_time": "2018-09-20T16:26:37.898987Z"
    }
   },
   "outputs": [
    {
     "data": {
      "text/plain": [
       "[42, 41, 40, 39, 38, 37, 36, 35, 34]"
      ]
     },
     "execution_count": 28,
     "metadata": {},
     "output_type": "execute_result"
    }
   ],
   "source": [
    "list(range(42, 33, -1)) "
   ]
  },
  {
   "cell_type": "code",
   "execution_count": 29,
   "metadata": {
    "ExecuteTime": {
     "end_time": "2018-09-20T16:26:49.415561Z",
     "start_time": "2018-09-20T16:26:49.409665Z"
    }
   },
   "outputs": [
    {
     "name": "stdout",
     "output_type": "stream",
     "text": [
      "42\n",
      "41\n",
      "40\n",
      "39\n",
      "38\n",
      "37\n",
      "36\n",
      "35\n",
      "34\n"
     ]
    }
   ],
   "source": [
    "for i in range(42, 33, -1):\n",
    "    print(i)"
   ]
  },
  {
   "cell_type": "markdown",
   "metadata": {
    "ExecuteTime": {
     "end_time": "2018-09-19T23:19:39.564309Z",
     "start_time": "2018-09-19T23:19:39.557822Z"
    }
   },
   "source": [
    "range полезна, например, если вы хотите провести какую-то операцию n раз:"
   ]
  },
  {
   "cell_type": "code",
   "execution_count": 30,
   "metadata": {
    "ExecuteTime": {
     "end_time": "2018-09-20T16:28:18.316964Z",
     "start_time": "2018-09-20T16:28:18.310139Z"
    }
   },
   "outputs": [
    {
     "name": "stdout",
     "output_type": "stream",
     "text": [
      "Hip hip hooray\n",
      "Hip hip hooray\n",
      "Hip hip hooray\n"
     ]
    }
   ],
   "source": [
    "for _ in range(3):\n",
    "    print('Hip hip hooray')"
   ]
  },
  {
   "cell_type": "markdown",
   "metadata": {},
   "source": [
    "## Блиц 1\n",
    "\n",
    "1.1 Дан список слов ['Hello', 'from', 'the', 'other', 'side']. Пройдите по нему циклом for и получите переменную lyrics = 'Hello from the other side'. \n",
    "\n",
    "1.2 Для этого же списка слов получите переменную lyrics_reversed = 'side other the from Hello'\n",
    "\n",
    "1.3 Заполните список квадратами целых чисел от 0 до 10 включительно. Используйте в коде цикл for, функции range() и метод .append()\n",
    "\n",
    "1.4 Дан список [0, 10, 20, 30, 40]. Прибавьте к каждому элементу этого списка его индекс. В ответе должно получиться [0, 11, 22, 33, 44]"
   ]
  },
  {
   "cell_type": "code",
   "execution_count": null,
   "metadata": {},
   "outputs": [],
   "source": []
  },
  {
   "cell_type": "code",
   "execution_count": 45,
   "metadata": {
    "ExecuteTime": {
     "end_time": "2018-09-20T16:54:01.879420Z",
     "start_time": "2018-09-20T16:54:01.869348Z"
    }
   },
   "outputs": [
    {
     "data": {
      "text/plain": [
       "'Hello from the other side'"
      ]
     },
     "execution_count": 45,
     "metadata": {},
     "output_type": "execute_result"
    }
   ],
   "source": [
    "# 1.1\n",
    "\n",
    "lyrics = ''\n",
    "for word in ['Hello', 'from', 'the', 'other', 'side']:\n",
    "    lyrics += word + ' '\n",
    "    \n",
    "lyrics = lyrics[:-1]\n",
    "lyrics"
   ]
  },
  {
   "cell_type": "code",
   "execution_count": 49,
   "metadata": {
    "ExecuteTime": {
     "end_time": "2018-09-20T16:57:04.363454Z",
     "start_time": "2018-09-20T16:57:04.350700Z"
    }
   },
   "outputs": [
    {
     "data": {
      "text/plain": [
       "'Hello from the other side'"
      ]
     },
     "execution_count": 49,
     "metadata": {},
     "output_type": "execute_result"
    }
   ],
   "source": [
    "# 1.1 второй вариант \n",
    "\n",
    "lyrics = ''\n",
    "mylist = ['Hello', 'from', 'the', 'other', 'side']\n",
    "for word in mylist:\n",
    "    lyrics += word + ' '\n",
    "lyrics = lyrics.rstrip()\n",
    "lyrics"
   ]
  },
  {
   "cell_type": "code",
   "execution_count": 48,
   "metadata": {
    "ExecuteTime": {
     "end_time": "2018-09-20T16:54:53.878687Z",
     "start_time": "2018-09-20T16:54:53.867599Z"
    }
   },
   "outputs": [
    {
     "data": {
      "text/plain": [
       "'side other the from Hello'"
      ]
     },
     "execution_count": 48,
     "metadata": {},
     "output_type": "execute_result"
    }
   ],
   "source": [
    "# 1.2\n",
    "lyrics_reversed = ''\n",
    "for word in ['Hello', 'from', 'the', 'other', 'side'][::-1]:\n",
    "    lyrics_reversed += word + ' '\n",
    "\n",
    "lyrics_reversed = lyrics_reversed[:-1] \n",
    "lyrics_reversed"
   ]
  },
  {
   "cell_type": "code",
   "execution_count": null,
   "metadata": {},
   "outputs": [],
   "source": [
    "# 1.2 второй вариант\n",
    "lyrics_reversed = ''\n",
    "lyrics_reversed = ['Hello', 'from', 'the', 'other', 'side']\n",
    "for word in mylist[::-1]:\n",
    "    lyrics_reversed += word + ' '\n",
    "lyrics_reversed = lyrics_reversed.rstrip()\n",
    "lyrics_reversed"
   ]
  },
  {
   "cell_type": "code",
   "execution_count": 69,
   "metadata": {
    "ExecuteTime": {
     "end_time": "2018-09-20T17:05:50.705602Z",
     "start_time": "2018-09-20T17:05:50.700434Z"
    }
   },
   "outputs": [],
   "source": [
    "# 1.3\n",
    "squared_numbers = [] \n",
    "for number in range(11):\n",
    "    squared_numbers.append(number ** 2)"
   ]
  },
  {
   "cell_type": "code",
   "execution_count": 70,
   "metadata": {
    "ExecuteTime": {
     "end_time": "2018-09-20T17:05:51.087519Z",
     "start_time": "2018-09-20T17:05:51.078475Z"
    }
   },
   "outputs": [
    {
     "data": {
      "text/plain": [
       "[0, 1, 4, 9, 16, 25, 36, 49, 64, 81, 100]"
      ]
     },
     "execution_count": 70,
     "metadata": {},
     "output_type": "execute_result"
    }
   ],
   "source": [
    "squared_numbers"
   ]
  },
  {
   "cell_type": "code",
   "execution_count": 72,
   "metadata": {
    "ExecuteTime": {
     "end_time": "2018-09-20T17:08:53.907939Z",
     "start_time": "2018-09-20T17:08:53.899656Z"
    }
   },
   "outputs": [
    {
     "name": "stdout",
     "output_type": "stream",
     "text": [
      "0\n",
      "1\n",
      "2\n",
      "3\n",
      "4\n",
      "5\n"
     ]
    }
   ],
   "source": [
    "# 1.4\n",
    "numbers = [0, 10, 20, 30, 40, 60]\n",
    "\n",
    "for index in range(len(numbers)):\n",
    "    numbers[index] += index"
   ]
  },
  {
   "cell_type": "markdown",
   "metadata": {},
   "source": [
    "## Цикл while"
   ]
  },
  {
   "cell_type": "markdown",
   "metadata": {
    "ExecuteTime": {
     "end_time": "2018-09-19T23:30:31.094887Z",
     "start_time": "2018-09-19T23:30:31.080553Z"
    }
   },
   "source": [
    "Что произойдет в этом примере:"
   ]
  },
  {
   "cell_type": "code",
   "execution_count": 198,
   "metadata": {
    "ExecuteTime": {
     "end_time": "2018-09-21T21:07:13.169035Z",
     "start_time": "2018-09-21T21:07:13.164009Z"
    },
    "scrolled": true
   },
   "outputs": [],
   "source": [
    "i = 0\n",
    "while i < 10:\n",
    "    print(i)"
   ]
  },
  {
   "cell_type": "markdown",
   "metadata": {},
   "source": [
    "А теперь? "
   ]
  },
  {
   "cell_type": "code",
   "execution_count": 77,
   "metadata": {
    "ExecuteTime": {
     "end_time": "2018-09-20T17:14:44.600126Z",
     "start_time": "2018-09-20T17:14:44.594965Z"
    }
   },
   "outputs": [
    {
     "name": "stdout",
     "output_type": "stream",
     "text": [
      "0\n",
      "1\n",
      "2\n",
      "3\n",
      "4\n",
      "5\n",
      "6\n",
      "7\n",
      "8\n",
      "9\n"
     ]
    }
   ],
   "source": [
    "i = 0\n",
    "while i < 10:\n",
    "    print(i)\n",
    "    i += 1"
   ]
  },
  {
   "cell_type": "markdown",
   "metadata": {
    "ExecuteTime": {
     "end_time": "2018-09-19T23:32:10.430666Z",
     "start_time": "2018-09-19T23:32:10.424236Z"
    }
   },
   "source": [
    "А здесь?"
   ]
  },
  {
   "cell_type": "code",
   "execution_count": 219,
   "metadata": {
    "ExecuteTime": {
     "end_time": "2018-09-21T21:24:45.274357Z",
     "start_time": "2018-09-21T21:24:45.270692Z"
    }
   },
   "outputs": [],
   "source": [
    "i = 0\n",
    "while 'hello':\n",
    "    print(i)"
   ]
  },
  {
   "cell_type": "markdown",
   "metadata": {},
   "source": [
    "Строчка конвертируется в bool как True, если она не пустая. Иначе конвертируется как False"
   ]
  },
  {
   "cell_type": "code",
   "execution_count": null,
   "metadata": {},
   "outputs": [],
   "source": [
    "i = 0\n",
    "while True:\n",
    "    print(i)"
   ]
  },
  {
   "cell_type": "markdown",
   "metadata": {},
   "source": [
    "## Условные операторы if, else, elif"
   ]
  },
  {
   "cell_type": "code",
   "execution_count": null,
   "metadata": {},
   "outputs": [],
   "source": [
    "if <условие справедливо>:\n",
    "    выполнить вот эти строки"
   ]
  },
  {
   "cell_type": "code",
   "execution_count": null,
   "metadata": {
    "ExecuteTime": {
     "end_time": "2018-09-19T23:44:38.532832Z",
     "start_time": "2018-09-19T23:44:38.527214Z"
    }
   },
   "outputs": [],
   "source": [
    "if 5 < 6:\n",
    "    print('5 < 6')"
   ]
  },
  {
   "cell_type": "code",
   "execution_count": 86,
   "metadata": {
    "ExecuteTime": {
     "end_time": "2018-09-20T17:21:13.948579Z",
     "start_time": "2018-09-20T17:21:13.943490Z"
    }
   },
   "outputs": [
    {
     "name": "stdout",
     "output_type": "stream",
     "text": [
      "It works!\n"
     ]
    }
   ],
   "source": [
    "if True:\n",
    "    print('It works!')"
   ]
  },
  {
   "cell_type": "code",
   "execution_count": null,
   "metadata": {},
   "outputs": [],
   "source": [
    "if <условие справедливо>:\n",
    "    выполнить вот эти строки\n",
    "else:  # иначе\n",
    "    выполнить вот эти другие строки"
   ]
  },
  {
   "cell_type": "code",
   "execution_count": 88,
   "metadata": {
    "ExecuteTime": {
     "end_time": "2018-09-20T17:21:42.440569Z",
     "start_time": "2018-09-20T17:21:42.434372Z"
    }
   },
   "outputs": [
    {
     "name": "stdout",
     "output_type": "stream",
     "text": [
      "condition == False\n"
     ]
    }
   ],
   "source": [
    "if 5 > 6:\n",
    "    print('condition == True')\n",
    "else:\n",
    "    print('condition == False')"
   ]
  },
  {
   "cell_type": "code",
   "execution_count": null,
   "metadata": {
    "ExecuteTime": {
     "end_time": "2018-09-19T23:49:06.935925Z",
     "start_time": "2018-09-19T23:49:06.931138Z"
    }
   },
   "outputs": [],
   "source": [
    "if <условие справедливо>:\n",
    "    выполнить вот эти строки\n",
    "elif <другое условие справедливо>:\n",
    "    выполнить вот эти строки\n",
    "else:  # иначе\n",
    "    выполнить вот эти другие строки"
   ]
  },
  {
   "cell_type": "code",
   "execution_count": 89,
   "metadata": {
    "ExecuteTime": {
     "end_time": "2018-09-20T17:22:30.193036Z",
     "start_time": "2018-09-20T17:22:30.182876Z"
    }
   },
   "outputs": [
    {
     "name": "stdout",
     "output_type": "stream",
     "text": [
      "5 < 6\n"
     ]
    }
   ],
   "source": [
    "if 5 < 6:\n",
    "    print('5 < 6')\n",
    "elif 5 == 6:\n",
    "    print('5 == 6')\n",
    "else:\n",
    "    print('5 > 6')"
   ]
  },
  {
   "cell_type": "markdown",
   "metadata": {},
   "source": [
    "## Блиц 2"
   ]
  },
  {
   "cell_type": "markdown",
   "metadata": {
    "ExecuteTime": {
     "end_time": "2018-09-19T23:36:24.378677Z",
     "start_time": "2018-09-19T23:36:24.367531Z"
    }
   },
   "source": [
    "2.1 Используя цикл while, выведите на экран для числа 2 его степени от 0 до 20. Возведение в степень в Python обозначается как **.\n",
    "\n",
    "2.2 Напишите программу, которая печатает целые числа от 1 до 50. Но для тех чисел, которые кратны 7, вместо числа выведите слово \"fizz\". А для тех, которые кратны и 7, и 4, выведите слово \"buzz\"."
   ]
  },
  {
   "cell_type": "code",
   "execution_count": 90,
   "metadata": {
    "ExecuteTime": {
     "end_time": "2018-09-20T17:51:18.422546Z",
     "start_time": "2018-09-20T17:51:18.415737Z"
    },
    "collapsed": true
   },
   "outputs": [
    {
     "name": "stdout",
     "output_type": "stream",
     "text": [
      "1\n",
      "2\n",
      "4\n",
      "8\n",
      "16\n",
      "32\n",
      "64\n",
      "128\n",
      "256\n",
      "512\n",
      "1024\n",
      "2048\n",
      "4096\n",
      "8192\n",
      "16384\n",
      "32768\n",
      "65536\n",
      "131072\n",
      "262144\n",
      "524288\n",
      "1048576\n"
     ]
    }
   ],
   "source": [
    "# 2.1\n",
    "power = 0\n",
    "\n",
    "while power <= 20:\n",
    "    print(2 ** power)\n",
    "    power += 1"
   ]
  },
  {
   "cell_type": "code",
   "execution_count": 91,
   "metadata": {
    "ExecuteTime": {
     "end_time": "2018-09-20T17:54:05.249327Z",
     "start_time": "2018-09-20T17:54:05.236788Z"
    },
    "collapsed": true
   },
   "outputs": [
    {
     "name": "stdout",
     "output_type": "stream",
     "text": [
      "1\n",
      "2\n",
      "3\n",
      "4\n",
      "5\n",
      "6\n",
      "fizz\n",
      "8\n",
      "9\n",
      "10\n",
      "11\n",
      "12\n",
      "13\n",
      "fizz\n",
      "15\n",
      "16\n",
      "17\n",
      "18\n",
      "19\n",
      "20\n",
      "fizz\n",
      "22\n",
      "23\n",
      "24\n",
      "25\n",
      "26\n",
      "27\n",
      "buzz\n",
      "29\n",
      "30\n",
      "31\n",
      "32\n",
      "33\n",
      "34\n",
      "fizz\n",
      "36\n",
      "37\n",
      "38\n",
      "39\n",
      "40\n",
      "41\n",
      "fizz\n",
      "43\n",
      "44\n",
      "45\n",
      "46\n",
      "47\n",
      "48\n",
      "fizz\n",
      "50\n"
     ]
    }
   ],
   "source": [
    "# 2.2\n",
    "number = 1\n",
    "\n",
    "while number <= 50:\n",
    "    if number % 7 == 0 and number % 4 == 0:\n",
    "        print('buzz')\n",
    "    elif number % 7 == 0:\n",
    "        print('fizz')\n",
    "    else:\n",
    "        print(number)\n",
    "        \n",
    "    number += 1"
   ]
  },
  {
   "cell_type": "code",
   "execution_count": null,
   "metadata": {},
   "outputs": [],
   "source": [
    "# 2.2 более правильный вариант, т.к. нет дублирования кода\n",
    "number = 1\n",
    "\n",
    "while number <= 50:\n",
    "    if number % 7 == 0:\n",
    "        if number % 4 == 0:\n",
    "            print('buzz')\n",
    "        else:\n",
    "            print('fizz')\n",
    "    else:\n",
    "        print(number)\n",
    "        \n",
    "    number += 1"
   ]
  },
  {
   "cell_type": "code",
   "execution_count": 93,
   "metadata": {
    "ExecuteTime": {
     "end_time": "2018-09-20T17:57:53.426410Z",
     "start_time": "2018-09-20T17:57:53.409634Z"
    },
    "collapsed": true
   },
   "outputs": [
    {
     "name": "stdout",
     "output_type": "stream",
     "text": [
      "buzz\n",
      "1\n",
      "2\n",
      "3\n",
      "4\n",
      "5\n",
      "6\n",
      "fizz\n",
      "8\n",
      "9\n",
      "10\n",
      "11\n",
      "12\n",
      "13\n",
      "fizz\n",
      "15\n",
      "16\n",
      "17\n",
      "18\n",
      "19\n",
      "20\n",
      "fizz\n",
      "22\n",
      "23\n",
      "24\n",
      "25\n",
      "26\n",
      "27\n",
      "buzz\n",
      "29\n",
      "30\n",
      "31\n",
      "32\n",
      "33\n",
      "34\n",
      "fizz\n",
      "36\n",
      "37\n",
      "38\n",
      "39\n",
      "40\n",
      "41\n",
      "fizz\n",
      "43\n",
      "44\n",
      "45\n",
      "46\n",
      "47\n",
      "48\n",
      "fizz\n",
      "50\n"
     ]
    }
   ],
   "source": [
    "# 2.2 вариант без while (он тут не нужен в общем-то)\n",
    "for number in range(51):\n",
    "    if number % 7 == 0:\n",
    "        if number % 4 == 0:\n",
    "            print('buzz')\n",
    "        else:\n",
    "            print('fizz')\n",
    "    else:\n",
    "        print(number)"
   ]
  },
  {
   "cell_type": "markdown",
   "metadata": {},
   "source": [
    "## Ключевые слова break, continue"
   ]
  },
  {
   "cell_type": "markdown",
   "metadata": {},
   "source": [
    "Мы можем использовать break, continue и pass выражения в наших for и while циклах для добавления им большей функциональности в различных случаях. \n",
    "\n",
    "Определения:\n",
    "\n",
    "* break: Прекращает выполнение цикла, в который он вложен.\n",
    "* continue: Пропускает текущую итерацию цикла, в который он вложен.\n",
    "* pass: Позволяет в цикле или условии не делать ничего.\n",
    "\n",
    "break и continue могут появляться где угодно в цикле, но часто их используют вместе с условиями, для совершения действия, основанного на этом условии."
   ]
  },
  {
   "cell_type": "code",
   "execution_count": 199,
   "metadata": {
    "ExecuteTime": {
     "end_time": "2018-09-21T21:12:24.886245Z",
     "start_time": "2018-09-21T21:12:24.877417Z"
    }
   },
   "outputs": [],
   "source": [
    "mylist = [1, 2, 3]\n",
    "\n",
    "for item in mylist:\n",
    "    # Допустим, пока что сюда нечего добавить\n",
    "    pass"
   ]
  },
  {
   "cell_type": "code",
   "execution_count": 104,
   "metadata": {
    "ExecuteTime": {
     "end_time": "2018-09-20T18:01:12.728970Z",
     "start_time": "2018-09-20T18:01:12.725146Z"
    }
   },
   "outputs": [],
   "source": [
    "mystr = 'Осень'"
   ]
  },
  {
   "cell_type": "code",
   "execution_count": 105,
   "metadata": {
    "ExecuteTime": {
     "end_time": "2018-09-20T18:01:13.203081Z",
     "start_time": "2018-09-20T18:01:13.196125Z"
    }
   },
   "outputs": [
    {
     "name": "stdout",
     "output_type": "stream",
     "text": [
      "О\n",
      "с\n",
      "е\n",
      "н\n",
      "ь\n"
     ]
    }
   ],
   "source": [
    "for letter in mystr:\n",
    "    if letter == 'е':\n",
    "        pass\n",
    "    print(letter)"
   ]
  },
  {
   "cell_type": "code",
   "execution_count": 106,
   "metadata": {
    "ExecuteTime": {
     "end_time": "2018-09-20T18:01:38.377931Z",
     "start_time": "2018-09-20T18:01:38.365738Z"
    }
   },
   "outputs": [
    {
     "name": "stdout",
     "output_type": "stream",
     "text": [
      "О\n",
      "с\n",
      "н\n",
      "ь\n"
     ]
    }
   ],
   "source": [
    "for letter in mystr:\n",
    "    if letter == 'е':\n",
    "        continue\n",
    "    print(letter)"
   ]
  },
  {
   "cell_type": "code",
   "execution_count": 107,
   "metadata": {
    "ExecuteTime": {
     "end_time": "2018-09-20T18:02:00.295110Z",
     "start_time": "2018-09-20T18:02:00.284441Z"
    }
   },
   "outputs": [
    {
     "name": "stdout",
     "output_type": "stream",
     "text": [
      "О\n",
      "с\n"
     ]
    }
   ],
   "source": [
    "for letter in mystr:\n",
    "    if letter == 'е':\n",
    "        break\n",
    "    print(letter)"
   ]
  },
  {
   "cell_type": "code",
   "execution_count": 108,
   "metadata": {
    "ExecuteTime": {
     "end_time": "2018-09-20T18:02:10.937269Z",
     "start_time": "2018-09-20T18:02:10.928670Z"
    }
   },
   "outputs": [
    {
     "name": "stdout",
     "output_type": "stream",
     "text": [
      "0\n",
      "1\n",
      "2\n",
      "3\n",
      "4\n",
      "5\n",
      "6\n"
     ]
    }
   ],
   "source": [
    "x = 0\n",
    "\n",
    "while x < 7:\n",
    "    print(x)\n",
    "    x += 1"
   ]
  },
  {
   "cell_type": "markdown",
   "metadata": {
    "ExecuteTime": {
     "end_time": "2018-09-20T14:00:34.735541Z",
     "start_time": "2018-09-20T14:00:34.728795Z"
    }
   },
   "source": [
    "Что выведет программа:"
   ]
  },
  {
   "cell_type": "code",
   "execution_count": 113,
   "metadata": {
    "ExecuteTime": {
     "end_time": "2018-09-20T18:05:28.791951Z",
     "start_time": "2018-09-20T18:05:28.781620Z"
    }
   },
   "outputs": [
    {
     "name": "stdout",
     "output_type": "stream",
     "text": [
      "0\n",
      "1\n",
      "2\n"
     ]
    }
   ],
   "source": [
    "x = 0\n",
    "\n",
    "while x < 7:\n",
    "    if x != 3:\n",
    "        print(x)\n",
    "    else:\n",
    "        break\n",
    "    x += 1"
   ]
  },
  {
   "cell_type": "markdown",
   "metadata": {},
   "source": [
    "## Блиц 3"
   ]
  },
  {
   "cell_type": "markdown",
   "metadata": {},
   "source": [
    "3.1. Перепише код выше так, чтобы не использовался только оператор if (без else)\n",
    "\n",
    "3.2. Используйте цикл while для печати последовательных целых чисел начиная с x (может быть отрицательным). Пусть цикл остановится когда текущее число будет в точности делиться на 11, но если текущее число 0, то нужно продолжить итерацию."
   ]
  },
  {
   "cell_type": "code",
   "execution_count": 203,
   "metadata": {
    "ExecuteTime": {
     "end_time": "2018-09-21T21:15:57.834616Z",
     "start_time": "2018-09-21T21:15:57.821983Z"
    }
   },
   "outputs": [
    {
     "name": "stdout",
     "output_type": "stream",
     "text": [
      "-10\n",
      "-9\n",
      "-8\n",
      "-7\n",
      "-6\n",
      "-5\n",
      "-4\n",
      "-3\n",
      "-2\n",
      "-1\n",
      "0\n",
      "1\n",
      "2\n",
      "3\n",
      "4\n",
      "5\n",
      "6\n",
      "7\n",
      "8\n",
      "9\n",
      "10\n"
     ]
    }
   ],
   "source": [
    "x = -10\n",
    "while x % 11 != 0 or x == 0:\n",
    "    print(x)\n",
    "    x += 1"
   ]
  },
  {
   "cell_type": "markdown",
   "metadata": {},
   "source": [
    "## dict - Словари"
   ]
  },
  {
   "cell_type": "markdown",
   "metadata": {
    "ExecuteTime": {
     "end_time": "2018-09-21T21:16:19.546307Z",
     "start_time": "2018-09-21T21:16:19.525238Z"
    }
   },
   "source": [
    "Уже знаем:\n",
    "\n",
    "set /\n",
    "list /\n",
    "tuple /\n",
    "str /\n",
    "frozenset "
   ]
  },
  {
   "cell_type": "code",
   "execution_count": 124,
   "metadata": {
    "ExecuteTime": {
     "end_time": "2018-09-20T18:18:22.675596Z",
     "start_time": "2018-09-20T18:18:22.668243Z"
    }
   },
   "outputs": [
    {
     "data": {
      "text/plain": [
       "{}"
      ]
     },
     "execution_count": 124,
     "metadata": {},
     "output_type": "execute_result"
    }
   ],
   "source": [
    "my_dict = dict() \n",
    "my_dict = {}"
   ]
  },
  {
   "cell_type": "code",
   "execution_count": null,
   "metadata": {},
   "outputs": [],
   "source": [
    "[['key1', 'value1'], set(('key2', 'value2'))] "
   ]
  },
  {
   "cell_type": "code",
   "execution_count": 126,
   "metadata": {
    "ExecuteTime": {
     "end_time": "2018-09-20T18:20:35.516182Z",
     "start_time": "2018-09-20T18:20:35.509065Z"
    }
   },
   "outputs": [
    {
     "data": {
      "text/plain": [
       "{'key1': 'value1', 'key2': 'value2'}"
      ]
     },
     "execution_count": 126,
     "metadata": {},
     "output_type": "execute_result"
    }
   ],
   "source": [
    "my_dict = dict([['key1', 'value1'], ('key2', 'value2')] )\n",
    "my_dict"
   ]
  },
  {
   "cell_type": "code",
   "execution_count": 206,
   "metadata": {
    "ExecuteTime": {
     "end_time": "2018-09-21T21:18:12.217148Z",
     "start_time": "2018-09-21T21:18:12.209103Z"
    }
   },
   "outputs": [],
   "source": [
    "phones = {'police': 102, 'ambulance': 103, 'firefighters': 101}"
   ]
  },
  {
   "cell_type": "code",
   "execution_count": 207,
   "metadata": {
    "ExecuteTime": {
     "end_time": "2018-09-21T21:18:12.381022Z",
     "start_time": "2018-09-21T21:18:12.369827Z"
    }
   },
   "outputs": [
    {
     "data": {
      "text/plain": [
       "102"
      ]
     },
     "execution_count": 207,
     "metadata": {},
     "output_type": "execute_result"
    }
   ],
   "source": [
    "phones['police']"
   ]
  },
  {
   "cell_type": "code",
   "execution_count": 208,
   "metadata": {
    "ExecuteTime": {
     "end_time": "2018-09-21T21:18:12.526294Z",
     "start_time": "2018-09-21T21:18:12.520867Z"
    }
   },
   "outputs": [],
   "source": [
    "phones['gas service'] = 104"
   ]
  },
  {
   "cell_type": "code",
   "execution_count": 209,
   "metadata": {
    "ExecuteTime": {
     "end_time": "2018-09-21T21:18:12.660547Z",
     "start_time": "2018-09-21T21:18:12.653331Z"
    }
   },
   "outputs": [
    {
     "data": {
      "text/plain": [
       "dict_keys(['police', 'ambulance', 'firefighters', 'gas service'])"
      ]
     },
     "execution_count": 209,
     "metadata": {},
     "output_type": "execute_result"
    }
   ],
   "source": [
    "phones.keys()"
   ]
  },
  {
   "cell_type": "code",
   "execution_count": 210,
   "metadata": {
    "ExecuteTime": {
     "end_time": "2018-09-21T21:18:12.815712Z",
     "start_time": "2018-09-21T21:18:12.806757Z"
    }
   },
   "outputs": [
    {
     "data": {
      "text/plain": [
       "[102, 103, 101, 104]"
      ]
     },
     "execution_count": 210,
     "metadata": {},
     "output_type": "execute_result"
    }
   ],
   "source": [
    "list(phones.values())"
   ]
  },
  {
   "cell_type": "code",
   "execution_count": 211,
   "metadata": {
    "ExecuteTime": {
     "end_time": "2018-09-21T21:18:12.955869Z",
     "start_time": "2018-09-21T21:18:12.949700Z"
    }
   },
   "outputs": [
    {
     "data": {
      "text/plain": [
       "dict_items([('police', 102), ('ambulance', 103), ('firefighters', 101), ('gas service', 104)])"
      ]
     },
     "execution_count": 211,
     "metadata": {},
     "output_type": "execute_result"
    }
   ],
   "source": [
    "phones.items() "
   ]
  },
  {
   "cell_type": "code",
   "execution_count": 212,
   "metadata": {
    "ExecuteTime": {
     "end_time": "2018-09-21T21:18:13.115808Z",
     "start_time": "2018-09-21T21:18:13.109629Z"
    }
   },
   "outputs": [
    {
     "name": "stdout",
     "output_type": "stream",
     "text": [
      "police\n",
      "ambulance\n",
      "firefighters\n",
      "gas service\n"
     ]
    }
   ],
   "source": [
    "for key in phones: \n",
    "    print(key)"
   ]
  },
  {
   "cell_type": "code",
   "execution_count": 213,
   "metadata": {
    "ExecuteTime": {
     "end_time": "2018-09-21T21:18:15.090011Z",
     "start_time": "2018-09-21T21:18:15.081142Z"
    }
   },
   "outputs": [
    {
     "name": "stdout",
     "output_type": "stream",
     "text": [
      "police 102\n",
      "ambulance 103\n",
      "firefighters 101\n",
      "gas service 104\n"
     ]
    }
   ],
   "source": [
    "for key, value in phones.items():\n",
    "    print(key, value)"
   ]
  },
  {
   "cell_type": "code",
   "execution_count": 214,
   "metadata": {
    "ExecuteTime": {
     "end_time": "2018-09-21T21:18:16.818077Z",
     "start_time": "2018-09-21T21:18:16.793636Z"
    }
   },
   "outputs": [
    {
     "ename": "KeyError",
     "evalue": "'Kate'",
     "output_type": "error",
     "traceback": [
      "\u001b[0;31m---------------------------------------------------------------------------\u001b[0m",
      "\u001b[0;31mKeyError\u001b[0m                                  Traceback (most recent call last)",
      "\u001b[0;32m<ipython-input-214-9b05dcd538cf>\u001b[0m in \u001b[0;36m<module>\u001b[0;34m()\u001b[0m\n\u001b[0;32m----> 1\u001b[0;31m \u001b[0mphones\u001b[0m\u001b[0;34m[\u001b[0m\u001b[0;34m'Kate'\u001b[0m\u001b[0;34m]\u001b[0m\u001b[0;34m\u001b[0m\u001b[0m\n\u001b[0m",
      "\u001b[0;31mKeyError\u001b[0m: 'Kate'"
     ]
    }
   ],
   "source": [
    "phones['Kate'] "
   ]
  },
  {
   "cell_type": "markdown",
   "metadata": {
    "ExecuteTime": {
     "end_time": "2018-09-20T14:11:58.258390Z",
     "start_time": "2018-09-20T14:11:58.252135Z"
    }
   },
   "source": [
    "Как проверить, что ключ есть в словаре:"
   ]
  },
  {
   "cell_type": "code",
   "execution_count": 215,
   "metadata": {
    "ExecuteTime": {
     "end_time": "2018-09-21T21:18:18.241910Z",
     "start_time": "2018-09-21T21:18:18.231334Z"
    }
   },
   "outputs": [
    {
     "data": {
      "text/plain": [
       "False"
      ]
     },
     "execution_count": 215,
     "metadata": {},
     "output_type": "execute_result"
    }
   ],
   "source": [
    "'Kate' in phones"
   ]
  },
  {
   "cell_type": "markdown",
   "metadata": {
    "ExecuteTime": {
     "end_time": "2018-09-20T14:13:16.378569Z",
     "start_time": "2018-09-20T14:13:16.372882Z"
    }
   },
   "source": [
    "Работает не только для словарей:"
   ]
  },
  {
   "cell_type": "code",
   "execution_count": 216,
   "metadata": {
    "ExecuteTime": {
     "end_time": "2018-09-21T21:18:21.194997Z",
     "start_time": "2018-09-21T21:18:21.187654Z"
    }
   },
   "outputs": [
    {
     "data": {
      "text/plain": [
       "False"
      ]
     },
     "execution_count": 216,
     "metadata": {},
     "output_type": "execute_result"
    }
   ],
   "source": [
    "'Kate' in ['Ярослав', 'Николай', 'Алиса'] "
   ]
  },
  {
   "cell_type": "markdown",
   "metadata": {},
   "source": [
    "## Блиц 4"
   ]
  },
  {
   "cell_type": "markdown",
   "metadata": {},
   "source": [
    "4.1 Создайте словарь superhero_ranks. Назначьте значение 2 Аквамену и значение 1 Супермену\n",
    "\n",
    "4.2 Дан список целых чисел. Сформировать словарь, в котором ключами будут числа, а значенями - количество употреблений данных чисел в списке. Например, если дан список [1, 1, 3, 2, 1, 3, 4], то в нем число 1 встречается три раза, число 3 - два раза, числа 2 и 4 - по одному разу."
   ]
  },
  {
   "cell_type": "code",
   "execution_count": 218,
   "metadata": {
    "ExecuteTime": {
     "end_time": "2018-09-21T21:18:46.213316Z",
     "start_time": "2018-09-21T21:18:46.203421Z"
    }
   },
   "outputs": [
    {
     "data": {
      "text/plain": [
       "{'Аквамен': 2, 'Супермен': 1}"
      ]
     },
     "execution_count": 218,
     "metadata": {},
     "output_type": "execute_result"
    }
   ],
   "source": [
    "# 4.1 \n",
    "superhero_ranks = {'Супермен': 1, 'Аквамен': 2}\n",
    "superhero_ranks"
   ]
  },
  {
   "cell_type": "code",
   "execution_count": 217,
   "metadata": {
    "ExecuteTime": {
     "end_time": "2018-09-21T21:18:43.018593Z",
     "start_time": "2018-09-21T21:18:43.010147Z"
    }
   },
   "outputs": [
    {
     "data": {
      "text/plain": [
       "{'Аквамен': 2, 'Супермен': 1}"
      ]
     },
     "execution_count": 217,
     "metadata": {},
     "output_type": "execute_result"
    }
   ],
   "source": [
    "# 4.1 второй способ\n",
    "superhero_ranks = {}\n",
    "superhero_ranks['Супермен'] = 1\n",
    "superhero_ranks['Аквамен'] = 2\n",
    "superhero_ranks"
   ]
  },
  {
   "cell_type": "code",
   "execution_count": 197,
   "metadata": {
    "ExecuteTime": {
     "end_time": "2018-09-20T19:01:36.152167Z",
     "start_time": "2018-09-20T19:01:36.142293Z"
    }
   },
   "outputs": [],
   "source": [
    "# 4.2\n",
    "number_stats = {}\n",
    "for number in [1, 1, 3, 2, 1, 3, 4]:\n",
    "    if number not in number_stats:\n",
    "        number_stats[number] = 1\n",
    "    else:\n",
    "        number_stats[number] += 1"
   ]
  },
  {
   "cell_type": "code",
   "execution_count": 196,
   "metadata": {
    "ExecuteTime": {
     "end_time": "2018-09-20T19:01:34.480588Z",
     "start_time": "2018-09-20T19:01:33.966637Z"
    }
   },
   "outputs": [],
   "source": [
    "# 4.2 второй вариант\n",
    "number_stats = {}\n",
    "my_list = [1, 1, 3, 2, 1, 3, 4]\n",
    "for number in my_list:\n",
    "    number_stats[number] = my_list.count(number)  \n",
    "\n",
    "# не очень хороший пример, т.к. count проходит по всему list'у. \n",
    "# А значит, если лист будет очень длинным, то этот цикл работает за N^2 условных действий, если N - длина листа."
   ]
  },
  {
   "cell_type": "code",
   "execution_count": null,
   "metadata": {},
   "outputs": [],
   "source": []
  }
 ],
 "metadata": {
  "kernelspec": {
   "display_name": "Python 3",
   "language": "python",
   "name": "python3"
  },
  "language_info": {
   "codemirror_mode": {
    "name": "ipython",
    "version": 3
   },
   "file_extension": ".py",
   "mimetype": "text/x-python",
   "name": "python",
   "nbconvert_exporter": "python",
   "pygments_lexer": "ipython3",
   "version": "3.6.4"
  }
 },
 "nbformat": 4,
 "nbformat_minor": 2
}
