{
 "cells": [
  {
   "cell_type": "markdown",
   "metadata": {},
   "source": [
    "# Домашняя работа №2"
   ]
  },
  {
   "cell_type": "markdown",
   "metadata": {},
   "source": [
    "## 1, 2\n",
    "\\* Предполагается целочисленный ввод.\n",
    "\n",
    "**UPD**: отказался от хранения списка чисел, среднее можно вычислить без него (так же как _min_ и _max_)"
   ]
  },
  {
   "cell_type": "code",
   "execution_count": 1,
   "metadata": {},
   "outputs": [
    {
     "name": "stdout",
     "output_type": "stream",
     "text": [
      "Enter int number or \"done\" > 8\n",
      "Enter int number or \"done\" > 9\n",
      "Enter int number or \"done\" > 12\n",
      "Enter int number or \"done\" > done\n",
      "The stats for 3 number(s): (avg = 9.666666666666666; min = 8; max = 12)\n"
     ]
    }
   ],
   "source": [
    "totalSum = count = 0\n",
    "maxNum = minNum = None\n",
    "while True:\n",
    "    s = input('Enter int number or \"done\" > ')\n",
    "    if 'done' == s.lower():\n",
    "        break\n",
    "    if not s.isnumeric():\n",
    "        continue\n",
    "    n = int(s)\n",
    "    totalSum += n\n",
    "    count += 1\n",
    "    if maxNum is None:\n",
    "        maxNum = minNum = n\n",
    "        continue\n",
    "    elif n < minNum:\n",
    "        minNum = n\n",
    "    elif n > maxNum:\n",
    "        maxNum = n\n",
    "\n",
    "print('The stats for {} number(s): (avg = {}; min = {}; max = {})'.\n",
    "      format(count, None if count <= 0 else totalSum / count, minNum, maxNum))"
   ]
  },
  {
   "cell_type": "markdown",
   "metadata": {},
   "source": [
    "## 3\n",
    "**UPD**: С использованием list comprehension\n",
    "\n",
    "**UPD2**: С использованием set\n",
    "\n",
    "Если рассматривать вложенные словари как tuple< tuple< _ключ_, _значение_ > > , то можно сделать за один проход по каждому словарю (точнее, по его набору пар). Не знаю, это ли решение вы имели в виду.\n",
    "\n",
    "Для упрощения задачи сделано допущение, что в словарях d1 и d2 не может быть _разных_ значений для _одинаковых_ ключей, иначе они перезапишутся при объединении словарей."
   ]
  },
  {
   "cell_type": "code",
   "execution_count": 11,
   "metadata": {},
   "outputs": [
    {
     "name": "stdout",
     "output_type": "stream",
     "text": [
      "{'Item1': {'Name': 'Cake', 'Price': 20}, 'Item2': {'Name': 'Pie', 'Price': 10}, 'Item3': {'Name': 'Chocobar', 'Price': 5}, 'Item44': {'Name': 'Brownie', 'Price': 15}}\n"
     ]
    }
   ],
   "source": [
    "d1 = {'Item1': {'Name': 'Cake', 'Price': 20},\n",
    "      'Item2': {'Name': 'Pie', 'Price': 10},\n",
    "      'Item3': {'Name': 'Chocobar', 'Price': 5}      \n",
    "     }\n",
    "d2 = {'Item44': {'Name': 'Brownie', 'Price': 15},\n",
    "      'Item5': {'Name': 'Cake', 'Price': 20},\n",
    "      'Item9': {'Name': 'Chocobar', 'Price': 5}\n",
    "     }\n",
    "\n",
    "def joinByValues(d1,d2):\n",
    "    uniqItems = set()\n",
    "    resultDict = dict()\n",
    "    for key,value in list(d1.items()) + list(d2.items()):\n",
    "        card = tuple( [ tuple(i) for i in value.items() ] )\n",
    "        if card not in uniqItems:\n",
    "            uniqItems.add(card)\n",
    "            resultDict[key] = value\n",
    "    return resultDict\n",
    "\n",
    "joinedItems = joinByValues(d1, d2)\n",
    "print(joinedItems)"
   ]
  },
  {
   "cell_type": "markdown",
   "metadata": {},
   "source": [
    "## 4\n",
    "**UPD**: С использованием list comprehension"
   ]
  },
  {
   "cell_type": "code",
   "execution_count": 12,
   "metadata": {},
   "outputs": [
    {
     "name": "stdout",
     "output_type": "stream",
     "text": [
      "Sum of d products is: 50\n"
     ]
    }
   ],
   "source": [
    "def total(items):\n",
    "    return sum([ x['Price'] for x in items.values() if 'Price' in x.keys() ])\n",
    "\n",
    "print('Sum of d products is:', total(joinedItems))    "
   ]
  },
  {
   "cell_type": "markdown",
   "metadata": {},
   "source": [
    "## 5\n",
    "\n",
    "\\* Совпадение структуры словарей не проверяется\n",
    "\n",
    "**UPD**: С использованием list comprehension"
   ]
  },
  {
   "cell_type": "code",
   "execution_count": 13,
   "metadata": {},
   "outputs": [
    {
     "name": "stdout",
     "output_type": "stream",
     "text": [
      "{'wheat': 62688.0, 'corn': 35760.0, 'soybean': 339840.0}\n"
     ]
    }
   ],
   "source": [
    "def inventoryValue(amount, px):\n",
    "    return dict([ (qty[0], qty[1] * px[qty[0]]) for qty in amount.items() ])\n",
    "\n",
    "commodities = {'wheat' : 120, 'corn' : 100, 'soybean' : 400}\n",
    "prices = {'wheat' : 522.4, 'corn' : 357.6, 'soybean' : 849.6}\n",
    "\n",
    "print(inventoryValue(commodities, prices))"
   ]
  },
  {
   "cell_type": "markdown",
   "metadata": {},
   "source": [
    "## 6"
   ]
  },
  {
   "cell_type": "code",
   "execution_count": 14,
   "metadata": {},
   "outputs": [
    {
     "name": "stdout",
     "output_type": "stream",
     "text": [
      "Hey Jude, don't make it bad\n",
      "Take a sad song and make it better\n",
      "Remember to let her into your heart\n",
      "Then you can start to make it better\n",
      "\n",
      "Hey Jude, don't be afraid\n",
      "You were made to go out and get her\n",
      "The minute you let her under your skin\n",
      "Then you begin to make it better\n",
      "\n",
      "Hey Jude, don't let me down\n",
      "You have found her, now go and get her\n",
      "Remember to let her into your heart\n",
      "Then you can start to make it better\n",
      "\n",
      "Hey Jude, don't make it bad\n",
      "Take a sad song and make it better\n",
      "Remember you let her under your skin\n",
      "Then you begin to make it better\n",
      "\n"
     ]
    }
   ],
   "source": [
    "text = (\n",
    "    'Hey Jude',                               #0\n",
    "    \"don't make it bad\",                      #1\n",
    "    'Take a sad song and make it better',     #2\n",
    "    'Remember',                               #3\n",
    "    'to let her into your heart',             #4\n",
    "    'Then you',                               #5\n",
    "    'can start',                              #6\n",
    "    \"don't be afraid\",                        #7\n",
    "    'You were made to go out and get her',    #8\n",
    "    'The minute',                             #9\n",
    "    'you let her under your skin',            #10\n",
    "    'begin',                                  #11\n",
    "    \"don't let me down\",                      #12\n",
    "    'You have found her, now go and get her', #13\n",
    "    'to make it better'                       #14\n",
    "    )\n",
    "\n",
    "# [text index, separator]\n",
    "verses = [\n",
    "    [ [ 1,'\\n'], [ 2,'\\n'], [ 3,' '], [ 4,'\\n'],  [ 5,' '],  [ 6,' '] ],\n",
    "    [ [ 7,'\\n'], [ 8,'\\n'], [ 9,' '], [10,'\\n'],  [ 5,' '],  [11,' '] ],\n",
    "    [ [12,'\\n'], [13,'\\n'], [ 3,' '], [ 4,'\\n'],  [ 5,' '],  [ 6,' '] ],\n",
    "    [ [ 1,'\\n'], [ 2,'\\n'], [ 3,' '], [10,'\\n'],  [ 5,' '],  [11,' '] ]\n",
    "    ]\n",
    "\n",
    "\n",
    "for verse in verses:\n",
    "    print(text[0], ', ', sep='', end='') # \"Hey Jude, \" header\n",
    "    for line in verse:\n",
    "        print(text[line[0]], line[1], sep='', end='')\n",
    "    print(text[-1]) # \"to make it better\" footer\n",
    "    print()\n",
    "        "
   ]
  }
 ],
 "metadata": {
  "celltoolbar": "Raw Cell Format",
  "kernelspec": {
   "display_name": "Python 3",
   "language": "python",
   "name": "python3"
  },
  "language_info": {
   "codemirror_mode": {
    "name": "ipython",
    "version": 3
   },
   "file_extension": ".py",
   "mimetype": "text/x-python",
   "name": "python",
   "nbconvert_exporter": "python",
   "pygments_lexer": "ipython3",
   "version": "3.6.5"
  }
 },
 "nbformat": 4,
 "nbformat_minor": 2
}
