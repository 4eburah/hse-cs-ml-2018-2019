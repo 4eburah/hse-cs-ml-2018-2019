{
 "cells": [
  {
   "cell_type": "markdown",
   "metadata": {},
   "source": [
    "## 1. (3 балла) \n",
    "Напишите программу, в которой пользователь вводит числа по одному, пока не введет слово \"done\". Для полученного списка чисел найдите среднее арифметическое.\n",
    "Для ввода используйте встроенную функцию input()."
   ]
  },
  {
   "cell_type": "code",
   "execution_count": 87,
   "metadata": {
    "ExecuteTime": {
     "end_time": "2018-09-27T16:15:17.172707Z",
     "start_time": "2018-09-27T16:15:11.401865Z"
    }
   },
   "outputs": [
    {
     "name": "stdout",
     "output_type": "stream",
     "text": [
      "123\n",
      "123\n",
      "321\n",
      "done\n"
     ]
    }
   ],
   "source": [
    "numbers = [] \n",
    "while True:\n",
    "    number = input()\n",
    "    if number == 'done':\n",
    "        break\n",
    "    numbers.append(float(number))"
   ]
  },
  {
   "cell_type": "code",
   "execution_count": 83,
   "metadata": {
    "ExecuteTime": {
     "end_time": "2018-09-27T16:14:33.043106Z",
     "start_time": "2018-09-27T16:14:33.037676Z"
    }
   },
   "outputs": [],
   "source": [
    "# Первый вариант:\n",
    "summ = 0.\n",
    "for number in numbers:    \n",
    "    summ += number\n",
    "\n",
    "mean = summ / len(numbers)"
   ]
  },
  {
   "cell_type": "code",
   "execution_count": null,
   "metadata": {},
   "outputs": [],
   "source": [
    "# Второй вариант:\n",
    "sum(numbers) / len(numbers)"
   ]
  },
  {
   "cell_type": "markdown",
   "metadata": {
    "ExecuteTime": {
     "end_time": "2018-09-22T10:24:32.303494Z",
     "start_time": "2018-09-22T10:24:32.296849Z"
    }
   },
   "source": [
    "## 2. (1 балл) \n",
    "Напишите аналогичную программу, но для полученного списка найдите минимум и максимум."
   ]
  },
  {
   "cell_type": "code",
   "execution_count": 88,
   "metadata": {
    "ExecuteTime": {
     "end_time": "2018-09-27T16:15:20.666019Z",
     "start_time": "2018-09-27T16:15:20.655586Z"
    }
   },
   "outputs": [
    {
     "data": {
      "text/plain": [
       "123.0"
      ]
     },
     "execution_count": 88,
     "metadata": {},
     "output_type": "execute_result"
    }
   ],
   "source": [
    "min(numbers)"
   ]
  },
  {
   "cell_type": "code",
   "execution_count": 89,
   "metadata": {
    "ExecuteTime": {
     "end_time": "2018-09-27T16:15:27.012439Z",
     "start_time": "2018-09-27T16:15:27.004590Z"
    }
   },
   "outputs": [
    {
     "data": {
      "text/plain": [
       "321.0"
      ]
     },
     "execution_count": 89,
     "metadata": {},
     "output_type": "execute_result"
    }
   ],
   "source": [
    "max(numbers) "
   ]
  },
  {
   "cell_type": "markdown",
   "metadata": {},
   "source": [
    "Перед тем, как выполнять задание по словарям, рекомендую посмотреть на документацию метода dict(): [python.org](https://docs.python.org/3/library/stdtypes.html#dict)"
   ]
  },
  {
   "cell_type": "markdown",
   "metadata": {},
   "source": [
    "## 3. (2 балла, 1+1)\n",
    "На вход подается два словаря d1 и d2 с карточками продуктов. Необходимо объединить оба словаря в один и удалить дубликаты значений (values в терминах метода dict()), если они есть, и вывести итоговый словарь. За объединение словаря 1 балл и еще 1 балл за корректное удаление дубликатов. \n",
    "\n",
    "При простом объединении словарей, если совпадают и ключи, и значения, словарь сам убирает дубликаты. В этом плане он похож на set(). Но наш случай не настолько тривиальный, у нас основные ключи разные, а значения, то есть внутренние словари, могут быть одинаковыми. Вот как раз от одинаковых значений (внутренних словарей) надо избавиться. Какой в итоге ему ключ будет присвоен из дубликатов - не имеет значения.\n",
    "\n",
    "Сначала постарайтесь сами решить это задание и понять, что происходит. Используйте методы словаря, все из которых перечислены в верхней ссылке."
   ]
  },
  {
   "cell_type": "code",
   "execution_count": 102,
   "metadata": {
    "ExecuteTime": {
     "end_time": "2018-09-27T16:20:12.705021Z",
     "start_time": "2018-09-27T16:20:12.696623Z"
    }
   },
   "outputs": [],
   "source": [
    "d1 = {'key1': 'v1', 'key2': 'v3'}\n",
    "\n",
    "d2 = {'key2': 'v2'} "
   ]
  },
  {
   "cell_type": "code",
   "execution_count": 98,
   "metadata": {
    "ExecuteTime": {
     "end_time": "2018-09-27T16:19:35.530478Z",
     "start_time": "2018-09-27T16:19:35.524420Z"
    }
   },
   "outputs": [],
   "source": [
    "d1.update(d2)"
   ]
  },
  {
   "cell_type": "code",
   "execution_count": 120,
   "metadata": {
    "ExecuteTime": {
     "end_time": "2018-09-27T16:28:00.304884Z",
     "start_time": "2018-09-27T16:28:00.263060Z"
    },
    "scrolled": true
   },
   "outputs": [
    {
     "name": "stdout",
     "output_type": "stream",
     "text": [
      "Input\n",
      "d1:\n",
      "{'Item1': {'Name': 'Cake', 'Price': 20},\n",
      " 'Item2': {'Name': 'Pie', 'Price': 10},\n",
      " 'Item3': {'Name': 'Chocobar', 'Price': 5}}\n",
      "d2:\n",
      "{'Item4': {'Name': 'Brownie', 'Price': 15},\n",
      " 'Item5': {'Name': 'Cake', 'Price': 20}}\n",
      "\n",
      "Output\n",
      "{'Item1': {'Name': 'Cake', 'Price': 20},\n",
      " 'Item2': {'Name': 'Pie', 'Price': 10},\n",
      " 'Item3': {'Name': 'Chocobar', 'Price': 5},\n",
      " 'Item4': {'Name': 'Brownie', 'Price': 15}}\n"
     ]
    }
   ],
   "source": [
    "d1 = {'Item1': \n",
    "          {'Name': 'Cake', 'Price': 20}, \n",
    "      'Item2': \n",
    "          {'Name': 'Pie', 'Price': 10},\n",
    "      'Item3': \n",
    "          {'Name': 'Chocobar', 'Price': 5}\n",
    "     }\n",
    "d2 = {'Item4': \n",
    "          {'Name': 'Brownie', 'Price': 15},\n",
    "      'Item5': \n",
    "          {'Name': 'Cake', 'Price': 20}\n",
    "     }\n",
    "\n",
    "print('Input')\n",
    "print('d1:')\n",
    "from pprint import pprint\n",
    "pprint(d1)\n",
    "\n",
    "print('d2:')\n",
    "pprint(d2)\n",
    "\n",
    "dd = d1.copy()\n",
    "dd.update(d2)\n",
    "\n",
    "d = {} \n",
    "\n",
    "for key, value in dd.items():\n",
    "    if value not in d.values():\n",
    "        d[key] = value\n",
    "print()\n",
    "print('Output')\n",
    "pprint(d)"
   ]
  },
  {
   "cell_type": "code",
   "execution_count": null,
   "metadata": {},
   "outputs": [],
   "source": []
  },
  {
   "cell_type": "markdown",
   "metadata": {},
   "source": [
    "# 4. (1 балл)\n",
    "Для объединенного словаря из прошлого примера посчитайте итоговую сумму продуктов."
   ]
  },
  {
   "cell_type": "code",
   "execution_count": 122,
   "metadata": {
    "ExecuteTime": {
     "end_time": "2018-09-27T16:28:37.728008Z",
     "start_time": "2018-09-27T16:28:37.718548Z"
    }
   },
   "outputs": [
    {
     "name": "stdout",
     "output_type": "stream",
     "text": [
      "{'Name': 'Cake', 'Price': 20}\n",
      "{'Name': 'Pie', 'Price': 10}\n",
      "{'Name': 'Chocobar', 'Price': 5}\n",
      "{'Name': 'Brownie', 'Price': 15}\n",
      "Sum of d products is: 50\n"
     ]
    }
   ],
   "source": [
    "d_sum = 0\n",
    "for value in d.values():\n",
    "    d_sum += value['Price']\n",
    "print('Sum of d products is:', d_sum)"
   ]
  },
  {
   "cell_type": "markdown",
   "metadata": {},
   "source": [
    "# 5. (2 балла)\n",
    "Дан один словарь с запасами продуктов на складе. Дан второй словарь со стоимостью этих товаров. Создать словарь с балансом этих продуктов и вывести его."
   ]
  },
  {
   "cell_type": "code",
   "execution_count": 10,
   "metadata": {
    "ExecuteTime": {
     "end_time": "2018-09-22T10:36:37.564740Z",
     "start_time": "2018-09-22T10:36:37.544296Z"
    }
   },
   "outputs": [
    {
     "name": "stdout",
     "output_type": "stream",
     "text": [
      "Input\n",
      "d1:\n",
      "{'Item1': 120, 'Item2': 100, 'Item3': 500}\n",
      "d2:\n",
      "{'Item1': 5, 'Item2': 12, 'Item3': 7}\n",
      "\n",
      "Output\n",
      "{'Item1': 600, 'Item2': 1200, 'Item3': 3500}\n"
     ]
    }
   ],
   "source": [
    "d1 = {'Item1': 120, \n",
    "      'Item2': 100,\n",
    "      'Item3': 500}\n",
    "d2 = {'Item1': 5,\n",
    "      'Item2': 12,\n",
    "      'Item3': 7}\n",
    "print('Input')\n",
    "print('d1:')\n",
    "pprint(d1)\n",
    "print('d2:')\n",
    "pprint(d2)\n",
    "\n",
    "d = {}\n",
    "\n",
    "for key in d1.keys():\n",
    "    d[key] = d1[key] * d2[key]\n",
    "    \n",
    "print()\n",
    "print('Output')\n",
    "pprint(d)"
   ]
  },
  {
   "cell_type": "code",
   "execution_count": null,
   "metadata": {},
   "outputs": [],
   "source": []
  },
  {
   "cell_type": "markdown",
   "metadata": {},
   "source": [
    "## 6* (1 балл)\n",
    "\n",
    "Напишите программу для генерации песни \"Hey Jude\". В этой песне 4 куплета и многие слова повторяются. Цель - использовать как можно меньше кода. В схеме ниже #1 и #2 означают, что используются строчки из первого и второго куплета соотв.\n",
    "<img src='jude.jpg' width=600>"
   ]
  },
  {
   "cell_type": "code",
   "execution_count": 61,
   "metadata": {
    "ExecuteTime": {
     "end_time": "2018-09-27T15:04:40.251434Z",
     "start_time": "2018-09-27T15:04:40.219884Z"
    }
   },
   "outputs": [],
   "source": [
    "hey_jude_lyrics =  ['Hey Jude, ', \n",
    "                    [\"don't make it bad\\n\", \"don't be afraid\\n\", \"don't let me down\\n\"], \n",
    "                    [\"Take a sad song and make it better\\n\", \"You were made to go out and get her\\n\", \"You have found her, now go and get her\\n\"],\n",
    "                    ['Remember to ', 'The minute you '], \n",
    "                    ['let her into your heart\\n', 'let her under your skin\\n'],\n",
    "                    'Then you ',\n",
    "                    ['can start ', 'begin '],\n",
    "                    'to make it better\\n'] \n",
    "\n",
    "hey_jude_compiled = ''\n",
    "\n",
    "for verse_i in range(4):\n",
    "    for module_i in range(len(hey_jude_lyrics)):\n",
    "        module = hey_jude_lyrics[module_i]\n",
    "        if module_i in [0, 5, 7]:\n",
    "            hey_jude_compiled += module\n",
    "        elif module_i in [1, 2]:\n",
    "            hey_jude_compiled += module[verse_i % 3]\n",
    "        elif module_i == 3:\n",
    "            if verse_i < 2:\n",
    "                hey_jude_compiled += module[verse_i]\n",
    "            else:\n",
    "                hey_jude_compiled += module[0]\n",
    "        elif module_i in [4, 6]:\n",
    "            hey_jude_compiled += module[verse_i % 2]\n",
    "    hey_jude_compiled += '\\n'\n",
    "    \n",
    "hey_jude_compiled = hey_jude_compiled.rstrip()"
   ]
  },
  {
   "cell_type": "code",
   "execution_count": 62,
   "metadata": {
    "ExecuteTime": {
     "end_time": "2018-09-27T15:04:40.367343Z",
     "start_time": "2018-09-27T15:04:40.361808Z"
    }
   },
   "outputs": [],
   "source": [
    "hey_jude_compiled_golden = \"\"\"Hey Jude, don't make it bad\n",
    "Take a sad song and make it better\n",
    "Remember to let her into your heart\n",
    "Then you can start to make it better\n",
    "\n",
    "Hey Jude, don't be afraid\n",
    "You were made to go out and get her\n",
    "The minute you let her under your skin\n",
    "Then you begin to make it better\n",
    "\n",
    "Hey Jude, don't let me down\n",
    "You have found her, now go and get her\n",
    "Remember to let her into your heart\n",
    "Then you can start to make it better\n",
    "\n",
    "Hey Jude, don't make it bad\n",
    "Take a sad song and make it better\n",
    "Remember to let her under your skin\n",
    "Then you begin to make it better\"\"\""
   ]
  },
  {
   "cell_type": "code",
   "execution_count": 63,
   "metadata": {
    "ExecuteTime": {
     "end_time": "2018-09-27T15:04:40.531307Z",
     "start_time": "2018-09-27T15:04:40.524369Z"
    }
   },
   "outputs": [
    {
     "data": {
      "text/plain": [
       "True"
      ]
     },
     "execution_count": 63,
     "metadata": {},
     "output_type": "execute_result"
    }
   ],
   "source": [
    "hey_jude_compiled == hey_jude_compiled_golden"
   ]
  },
  {
   "cell_type": "code",
   "execution_count": 64,
   "metadata": {
    "ExecuteTime": {
     "end_time": "2018-09-27T15:04:41.075120Z",
     "start_time": "2018-09-27T15:04:41.067070Z"
    }
   },
   "outputs": [
    {
     "name": "stdout",
     "output_type": "stream",
     "text": [
      "Hey Jude, don't make it bad Hey Jude, don't make it bad True\n",
      "Take a sad song and make it better Take a sad song and make it better True\n",
      "Remember to let her into your heart Remember to let her into your heart True\n",
      "Then you can start to make it better Then you can start to make it better True\n",
      "  True\n",
      "Hey Jude, don't be afraid Hey Jude, don't be afraid True\n",
      "You were made to go out and get her You were made to go out and get her True\n",
      "The minute you let her under your skin The minute you let her under your skin True\n",
      "Then you begin to make it better Then you begin to make it better True\n",
      "  True\n",
      "Hey Jude, don't let me down Hey Jude, don't let me down True\n",
      "You have found her, now go and get her You have found her, now go and get her True\n",
      "Remember to let her into your heart Remember to let her into your heart True\n",
      "Then you can start to make it better Then you can start to make it better True\n",
      "  True\n",
      "Hey Jude, don't make it bad Hey Jude, don't make it bad True\n",
      "Take a sad song and make it better Take a sad song and make it better True\n",
      "Remember to let her under your skin Remember to let her under your skin True\n",
      "Then you begin to make it better Then you begin to make it better True\n"
     ]
    }
   ],
   "source": [
    "# Дебаг:\n",
    "for line_golden, line_ours in zip(hey_jude_compiled_golden.split('\\n'), hey_jude_compiled.split('\\n')):\n",
    "    print(line_golden, line_ours, line_ours == line_golden)"
   ]
  },
  {
   "cell_type": "code",
   "execution_count": null,
   "metadata": {},
   "outputs": [],
   "source": []
  }
 ],
 "metadata": {
  "kernelspec": {
   "display_name": "Python 3",
   "language": "python",
   "name": "python3"
  },
  "language_info": {
   "codemirror_mode": {
    "name": "ipython",
    "version": 3
   },
   "file_extension": ".py",
   "mimetype": "text/x-python",
   "name": "python",
   "nbconvert_exporter": "python",
   "pygments_lexer": "ipython3",
   "version": "3.6.4"
  }
 },
 "nbformat": 4,
 "nbformat_minor": 2
}
