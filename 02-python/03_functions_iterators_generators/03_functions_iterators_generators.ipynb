{
 "cells": [
  {
   "cell_type": "markdown",
   "metadata": {},
   "source": [
    "# Functions\n",
    "\n",
    "## Введение в функции\n",
    "\n",
    "Функции - необходимые строительные кирпичики в случае, когда вы пишите много кода и он только растет. \n",
    "\n",
    "Функции - это конструкции, которые совмещают в себе несколько выражений и могут быть использованы несколько раз. Чаще всего им на вход передаются различные параметры, которые могут служить вводными для функции.\n",
    "\n",
    "Функции используются для многократного повторения кода по одной команде. Мы уже использовали функцию `len()`, которая считает колиество элементов в массиве. Это часто повторяющаяся операция, поэтому удобно иметь короткую команду для ее вызова."
   ]
  },
  {
   "cell_type": "markdown",
   "metadata": {},
   "source": [
    "## def - начло функции\n",
    "\n",
    "Начнем разбираться с построением функций. Общий вид этой конструкции таков:"
   ]
  },
  {
   "cell_type": "code",
   "execution_count": 19,
   "metadata": {
    "ExecuteTime": {
     "end_time": "2018-10-04T16:22:53.471636Z",
     "start_time": "2018-10-04T16:22:53.464788Z"
    }
   },
   "outputs": [],
   "source": [
    "def function_name(arg1, arg2):\n",
    "    '''\n",
    "    Здесь прописывается документация функции (docstring)\n",
    "    '''\n",
    "    # Здесь могло бы быть выражение, которое что-то делает\n",
    "    # А здесь то, что функция возвращает"
   ]
  },
  {
   "cell_type": "markdown",
   "metadata": {},
   "source": [
    "За словом `def` после пробела следует имя функции. Старайтесь давать функциям краткие и релевантные имена, это упростит в дальнейшем чтение и понимание кода. Не используйте в качестве названий имена встроенных функций [built-in function in Python](https://docs.python.org/2/library/functions.html) (например, len). В названии функции принято добавлять глагол. Например, check_password() – так читающий ваш код может понять, что это функция, а не что-то другое\n",
    "\n",
    "Затем идет пара скобок с аргументами. Аргументов может быть сколько угодно. Аргументы - это переменные, которые будет использоваться внутри функции. После них идет двоеточие. \n",
    "\n",
    "Тело функции начинается с отступа (4 пробела).\n",
    "\n",
    "Далее следует опциональная часть с документацией функции. Чтение документации в iPython Notebooks доступно по сочетанию клавиш `Shift+Tab` внутри скобок.\n",
    "\n",
    "Далее идет код, который выполнтся при вызове функции и return, если функция должна что-то вернуть."
   ]
  },
  {
   "cell_type": "markdown",
   "metadata": {},
   "source": [
    "### Example 1: функция, которая пишет hello"
   ]
  },
  {
   "cell_type": "code",
   "execution_count": 20,
   "metadata": {
    "ExecuteTime": {
     "end_time": "2018-10-04T16:24:03.897461Z",
     "start_time": "2018-10-04T16:24:03.892442Z"
    }
   },
   "outputs": [],
   "source": [
    "def print_hello():\n",
    "    print('hello')"
   ]
  },
  {
   "cell_type": "markdown",
   "metadata": {},
   "source": [
    "Вызов функции:"
   ]
  },
  {
   "cell_type": "code",
   "execution_count": 21,
   "metadata": {
    "ExecuteTime": {
     "end_time": "2018-10-04T16:24:08.528665Z",
     "start_time": "2018-10-04T16:24:08.522799Z"
    }
   },
   "outputs": [
    {
     "name": "stdout",
     "output_type": "stream",
     "text": [
      "hello\n"
     ]
    }
   ],
   "source": [
    "print_hello()"
   ]
  },
  {
   "cell_type": "code",
   "execution_count": 268,
   "metadata": {
    "ExecuteTime": {
     "end_time": "2018-10-06T01:37:19.482174Z",
     "start_time": "2018-10-06T01:37:19.466178Z"
    }
   },
   "outputs": [
    {
     "data": {
      "text/plain": [
       "'asdasd 15 asd True asdasd asd world asd asdhello'"
      ]
     },
     "execution_count": 268,
     "metadata": {},
     "output_type": "execute_result"
    }
   ],
   "source": [
    "'asdasd {number} asd {arg_name} asdasd asd {1} asd asd{0}'.format(\n",
    "    'hello', 'world', number=15, arg_name=True)"
   ]
  },
  {
   "cell_type": "code",
   "execution_count": null,
   "metadata": {},
   "outputs": [],
   "source": []
  },
  {
   "cell_type": "markdown",
   "metadata": {},
   "source": [
    "### Example 2: Простая приветственная функция"
   ]
  },
  {
   "cell_type": "code",
   "execution_count": 32,
   "metadata": {
    "ExecuteTime": {
     "end_time": "2018-10-04T16:29:35.566782Z",
     "start_time": "2018-10-04T16:29:35.561674Z"
    }
   },
   "outputs": [],
   "source": [
    "def greet(name):\n",
    "    print('Привет, {}'.format(name))"
   ]
  },
  {
   "cell_type": "code",
   "execution_count": 33,
   "metadata": {
    "ExecuteTime": {
     "end_time": "2018-10-04T16:29:40.090322Z",
     "start_time": "2018-10-04T16:29:40.083514Z"
    }
   },
   "outputs": [
    {
     "name": "stdout",
     "output_type": "stream",
     "text": [
      "None\n"
     ]
    }
   ],
   "source": [
    "print(greet('Valya')) "
   ]
  },
  {
   "cell_type": "markdown",
   "metadata": {},
   "source": [
    "## Использование return\n",
    "`return` позволяет функции возвращать результат, который может передаваться переменной или использоваться как угдно далее.\n",
    "\n",
    "### Example 3: Суммирующая функция"
   ]
  },
  {
   "cell_type": "code",
   "execution_count": 61,
   "metadata": {
    "ExecuteTime": {
     "end_time": "2018-10-04T16:35:17.535153Z",
     "start_time": "2018-10-04T16:35:17.525633Z"
    }
   },
   "outputs": [],
   "source": [
    "my_value = 0\n",
    "def sum_two_values(value1, value2):\n",
    "    return value1 + value2   "
   ]
  },
  {
   "cell_type": "code",
   "execution_count": 64,
   "metadata": {
    "ExecuteTime": {
     "end_time": "2018-10-04T16:35:24.456311Z",
     "start_time": "2018-10-04T16:35:24.451324Z"
    }
   },
   "outputs": [],
   "source": [
    "my_value = sum_two_values(4, 5)"
   ]
  },
  {
   "cell_type": "code",
   "execution_count": 65,
   "metadata": {
    "ExecuteTime": {
     "end_time": "2018-10-04T16:35:24.601019Z",
     "start_time": "2018-10-04T16:35:24.595622Z"
    }
   },
   "outputs": [
    {
     "data": {
      "text/plain": [
       "'одиндва'"
      ]
     },
     "execution_count": 65,
     "metadata": {},
     "output_type": "execute_result"
    }
   ],
   "source": [
    "sum_two_values('один', 'два')"
   ]
  },
  {
   "cell_type": "code",
   "execution_count": 74,
   "metadata": {
    "ExecuteTime": {
     "end_time": "2018-10-04T16:38:01.160000Z",
     "start_time": "2018-10-04T16:38:01.153190Z"
    }
   },
   "outputs": [],
   "source": [
    "def sum_num(num1=0, num2=0, num3=0):\n",
    "    return num1 + num2 + num3"
   ]
  },
  {
   "cell_type": "code",
   "execution_count": 76,
   "metadata": {
    "ExecuteTime": {
     "end_time": "2018-10-04T16:38:32.965054Z",
     "start_time": "2018-10-04T16:38:32.958847Z"
    }
   },
   "outputs": [
    {
     "data": {
      "text/plain": [
       "468"
      ]
     },
     "execution_count": 76,
     "metadata": {},
     "output_type": "execute_result"
    }
   ],
   "source": [
    "sum_num(num3=345, num1=123) "
   ]
  },
  {
   "cell_type": "markdown",
   "metadata": {
    "collapsed": true
   },
   "source": [
    "Давайте напишем программу посложнее. Например, проверку, простое ли число. Мы знаем, что число простое, когда оно делится без остатка лишь на себя и 1. Поэтому в первой реализации кода проверим остаток от деления этого числа на все числа меньше его."
   ]
  },
  {
   "cell_type": "code",
   "execution_count": 77,
   "metadata": {
    "ExecuteTime": {
     "end_time": "2018-10-04T16:42:35.387809Z",
     "start_time": "2018-10-04T16:42:35.378383Z"
    }
   },
   "outputs": [],
   "source": [
    "def check_if_prime(num):\n",
    "    '''\n",
    "    Наивный и не оптимальный метод проверки чисел на простоту. \n",
    "    '''\n",
    "    is_prime = True\n",
    "    for devider in range(2, num):\n",
    "        if num % devider == 0:\n",
    "            print(num, 'не простое!')\n",
    "            is_prime = False\n",
    "            break\n",
    "    if is_prime: # если ни разу не было деления без остатка\n",
    "        print(num, 'простое!')"
   ]
  },
  {
   "cell_type": "code",
   "execution_count": 79,
   "metadata": {
    "ExecuteTime": {
     "end_time": "2018-10-04T16:42:39.723735Z",
     "start_time": "2018-10-04T16:42:39.714166Z"
    }
   },
   "outputs": [
    {
     "name": "stdout",
     "output_type": "stream",
     "text": [
      "15 не простое!\n"
     ]
    }
   ],
   "source": [
    "check_if_prime(15)"
   ]
  },
  {
   "cell_type": "code",
   "execution_count": 80,
   "metadata": {
    "ExecuteTime": {
     "end_time": "2018-10-04T16:42:42.014296Z",
     "start_time": "2018-10-04T16:42:42.009692Z"
    }
   },
   "outputs": [
    {
     "name": "stdout",
     "output_type": "stream",
     "text": [
      "7 простое!\n"
     ]
    }
   ],
   "source": [
    "check_if_prime(7)"
   ]
  },
  {
   "cell_type": "code",
   "execution_count": 84,
   "metadata": {
    "ExecuteTime": {
     "end_time": "2018-10-04T16:44:04.263723Z",
     "start_time": "2018-10-04T16:44:04.256443Z"
    }
   },
   "outputs": [],
   "source": [
    "def check_is_prime(num):\n",
    "    for devider in range(2, num):\n",
    "        if num % devider == 0:\n",
    "            return False\n",
    "    return True"
   ]
  },
  {
   "cell_type": "code",
   "execution_count": 85,
   "metadata": {
    "ExecuteTime": {
     "end_time": "2018-10-04T16:44:04.483411Z",
     "start_time": "2018-10-04T16:44:04.474967Z"
    }
   },
   "outputs": [
    {
     "data": {
      "text/plain": [
       "True"
      ]
     },
     "execution_count": 85,
     "metadata": {},
     "output_type": "execute_result"
    }
   ],
   "source": [
    "check_is_prime(7)"
   ]
  },
  {
   "cell_type": "code",
   "execution_count": null,
   "metadata": {},
   "outputs": [],
   "source": []
  },
  {
   "cell_type": "code",
   "execution_count": null,
   "metadata": {},
   "outputs": [],
   "source": []
  },
  {
   "cell_type": "code",
   "execution_count": null,
   "metadata": {},
   "outputs": [],
   "source": []
  },
  {
   "cell_type": "markdown",
   "metadata": {},
   "source": [
    "Почему в этом случае не используется `break`? Это следует из природы `return`. Если функция возвращает что-то, она прекращает работу. Функция может иметь множественные выводы `print`, но возвращает что-то она лишь один раз."
   ]
  },
  {
   "cell_type": "markdown",
   "metadata": {},
   "source": [
    "# Блиц 1\n",
    "1. На вход функции подается строка: два слова через пробел. Проверить, имеют ли слова одинаковые первые буквы. Регистр не учитывать.\n",
    "2. На вход функции подаются два числа. Проверить, составляют ли они в сумме 20 или что хотя бы одно из чисел равно 20.\n",
    "3. Создать функцию, которая полученную на вход фразу выводит в обратном порядке.\n",
    "4. На вход функции подается лист из чисел. Проверить, что в листе есть три подряд идущие 7. Например, `[1, 2, 7, 7, 7]` вернет `True`.\n",
    "5. Функции на вход подается слово, вывести такое же слово, но где все буквы повторяются по 4 раза. Пример: `привет - ппппррррииииввввеееетттт`."
   ]
  },
  {
   "cell_type": "code",
   "execution_count": 90,
   "metadata": {
    "ExecuteTime": {
     "end_time": "2018-10-04T17:23:25.541770Z",
     "start_time": "2018-10-04T17:23:25.533236Z"
    }
   },
   "outputs": [],
   "source": [
    "def compare_first_letters(two_words):\n",
    "    first_word, second_word = two_words.split(' ')\n",
    "    return first_word[0].lower() == second_word[0].lower()"
   ]
  },
  {
   "cell_type": "code",
   "execution_count": null,
   "metadata": {},
   "outputs": [],
   "source": [
    "def check_twenty(first_number, second_number):\n",
    "    return first_number == 20 or \\\n",
    "        second_number == 20 or \\\n",
    "        first_number + second_number == 20    "
   ]
  },
  {
   "cell_type": "code",
   "execution_count": null,
   "metadata": {},
   "outputs": [],
   "source": [
    "def reverse_phrase(phrase):\n",
    "    return ' '.join(phrase.split(' ')[::-1]) \n",
    "    "
   ]
  },
  {
   "cell_type": "code",
   "execution_count": 99,
   "metadata": {
    "ExecuteTime": {
     "end_time": "2018-10-04T17:35:48.112248Z",
     "start_time": "2018-10-04T17:35:48.102718Z"
    }
   },
   "outputs": [],
   "source": [
    "def has_n_values_in_a_row(sequense, n=3, value=7):\n",
    "    counter = 0\n",
    "    for digit in sequense:\n",
    "        if digit == value:\n",
    "            counter += 1\n",
    "            if counter == n:\n",
    "                return True\n",
    "        else:\n",
    "            counter = 0\n",
    "    return False"
   ]
  },
  {
   "cell_type": "code",
   "execution_count": 107,
   "metadata": {
    "ExecuteTime": {
     "end_time": "2018-10-04T17:37:25.761935Z",
     "start_time": "2018-10-04T17:37:25.752393Z"
    }
   },
   "outputs": [
    {
     "data": {
      "text/plain": [
       "True"
      ]
     },
     "execution_count": 107,
     "metadata": {},
     "output_type": "execute_result"
    }
   ],
   "source": [
    "has_n_values_in_a_row([3,3,3,3,3,5], 4, 3) "
   ]
  },
  {
   "cell_type": "code",
   "execution_count": 109,
   "metadata": {
    "ExecuteTime": {
     "end_time": "2018-10-04T17:39:20.344996Z",
     "start_time": "2018-10-04T17:39:20.337289Z"
    }
   },
   "outputs": [
    {
     "data": {
      "text/plain": [
       "['a', 's', 'd', 'a', 'd']"
      ]
     },
     "execution_count": 109,
     "metadata": {},
     "output_type": "execute_result"
    }
   ],
   "source": [
    "list('asdad')"
   ]
  },
  {
   "cell_type": "code",
   "execution_count": null,
   "metadata": {},
   "outputs": [],
   "source": [
    "пппп\n",
    "ппппрррр\n",
    "ппппррррииии\n",
    "ппппрррриииивввв\n",
    "ппппррррииииввввееее\n",
    "ппппррррииииввввеееетттт"
   ]
  },
  {
   "cell_type": "code",
   "execution_count": 114,
   "metadata": {
    "ExecuteTime": {
     "end_time": "2018-10-04T17:45:16.264568Z",
     "start_time": "2018-10-04T17:45:16.257524Z"
    }
   },
   "outputs": [],
   "source": [
    "def multiply_by_n(line, n=4):\n",
    "    line_multiplied_list = []\n",
    "    for char in line:\n",
    "        line_multiplied_list.append(char * n)\n",
    "    return ''.join(line_multiplied_list)"
   ]
  },
  {
   "cell_type": "code",
   "execution_count": 115,
   "metadata": {
    "ExecuteTime": {
     "end_time": "2018-10-04T17:45:17.033939Z",
     "start_time": "2018-10-04T17:45:17.027149Z"
    }
   },
   "outputs": [
    {
     "data": {
      "text/plain": [
       "'ппппррррииииввввеееетттт'"
      ]
     },
     "execution_count": 115,
     "metadata": {},
     "output_type": "execute_result"
    }
   ],
   "source": [
    "multiply_by_n('привет')"
   ]
  },
  {
   "cell_type": "markdown",
   "metadata": {},
   "source": [
    "# Для дз\n",
    "1. На вход функции подается лист из чисел. Проверить, что в листе есть идущие  подряд цифры, составляющие число 123. Например, `[7, 1, 4, 1, 2, 3, 7]` вернет `True`. А `[3, 2, 1]` вернет `False`.\n",
    "2. На вход функции подается число >=2. Посчитать, сколько между 2 и этим числом есть простых чисел и вывести все эти числа."
   ]
  },
  {
   "cell_type": "markdown",
   "metadata": {},
   "source": [
    "# Итераторы и генераторы\n",
    "\n",
    "Генераторы позволяют нам создавать последовательность данных, не храня сразу всю информацию в памяти.\n",
    "\n",
    "По своему устройству они очень похожи на функции, за исключением ключевого слова. Здесь оно `yield` вместо `return`. Еще одно различие заключается в том, что после того, как генератор скомпилирован, он начинает поддерживать итеративный протокол. Это значит, что после вызова генератора в коде, он не просто возвращает значение и прекращает работу, он останавливается на том моменте, где закончил, и начинает с того же момента при следующем вызове."
   ]
  },
  {
   "cell_type": "code",
   "execution_count": 197,
   "metadata": {
    "ExecuteTime": {
     "end_time": "2018-10-04T18:15:55.978177Z",
     "start_time": "2018-10-04T18:15:55.970767Z"
    }
   },
   "outputs": [],
   "source": [
    "def get_hello_generator():\n",
    "    yield 'hello'\n",
    "    yield 'world1'\n",
    "    print('asdasd') \n",
    "    return 'everithning is awesome'"
   ]
  },
  {
   "cell_type": "code",
   "execution_count": 169,
   "metadata": {
    "ExecuteTime": {
     "end_time": "2018-10-04T18:12:43.324816Z",
     "start_time": "2018-10-04T18:12:43.319592Z"
    }
   },
   "outputs": [],
   "source": [
    "def gen_squares(n):\n",
    "    for num in range(n):\n",
    "        yield num**2"
   ]
  },
  {
   "cell_type": "code",
   "execution_count": 142,
   "metadata": {
    "ExecuteTime": {
     "end_time": "2018-10-04T18:07:05.518342Z",
     "start_time": "2018-10-04T18:07:05.513237Z"
    }
   },
   "outputs": [],
   "source": [
    "my_generator = gen_squares(10)"
   ]
  },
  {
   "cell_type": "code",
   "execution_count": 140,
   "metadata": {
    "ExecuteTime": {
     "end_time": "2018-10-04T18:04:09.341481Z",
     "start_time": "2018-10-04T18:04:09.322449Z"
    },
    "collapsed": true
   },
   "outputs": [
    {
     "name": "stdout",
     "output_type": "stream",
     "text": [
      "0\n",
      "1\n",
      "4\n",
      "9\n",
      "16\n",
      "25\n",
      "36\n",
      "49\n",
      "64\n",
      "81\n"
     ]
    },
    {
     "ename": "StopIteration",
     "evalue": "",
     "output_type": "error",
     "traceback": [
      "\u001b[0;31m---------------------------------------------------------------------------\u001b[0m",
      "\u001b[0;31mStopIteration\u001b[0m                             Traceback (most recent call last)",
      "\u001b[0;32m<ipython-input-140-967d7f1c172f>\u001b[0m in \u001b[0;36m<module>\u001b[0;34m()\u001b[0m\n\u001b[1;32m      4\u001b[0m     \u001b[0mprint\u001b[0m\u001b[0;34m(\u001b[0m\u001b[0mi\u001b[0m\u001b[0;34m)\u001b[0m\u001b[0;34m\u001b[0m\u001b[0m\n\u001b[1;32m      5\u001b[0m \u001b[0;34m\u001b[0m\u001b[0m\n\u001b[0;32m----> 6\u001b[0;31m \u001b[0mnext\u001b[0m\u001b[0;34m(\u001b[0m\u001b[0mmy_generator\u001b[0m\u001b[0;34m)\u001b[0m\u001b[0;34m\u001b[0m\u001b[0m\n\u001b[0m",
      "\u001b[0;31mStopIteration\u001b[0m: "
     ]
    }
   ],
   "source": [
    "my_generator = gensquares(10)\n",
    "\n",
    "for i in my_generator:\n",
    "    print(i)\n",
    "\n",
    "next(my_generator)"
   ]
  },
  {
   "cell_type": "code",
   "execution_count": 120,
   "metadata": {
    "ExecuteTime": {
     "end_time": "2018-10-04T18:01:52.015223Z",
     "start_time": "2018-10-04T18:01:52.004207Z"
    }
   },
   "outputs": [
    {
     "data": {
      "text/plain": [
       "[0, 1, 4, 9, 16, 25, 36, 49, 64, 81]"
      ]
     },
     "execution_count": 120,
     "metadata": {},
     "output_type": "execute_result"
    }
   ],
   "source": [
    "list(gensquares(10)) "
   ]
  },
  {
   "cell_type": "code",
   "execution_count": 270,
   "metadata": {
    "ExecuteTime": {
     "end_time": "2018-10-06T01:42:12.729196Z",
     "start_time": "2018-10-06T01:42:12.721934Z"
    }
   },
   "outputs": [],
   "source": [
    "def genfibonnachi(n):\n",
    "    a = 1\n",
    "    b = 1\n",
    "    for i in range(n):\n",
    "        yield a\n",
    "        a, b = b, a+b"
   ]
  },
  {
   "cell_type": "code",
   "execution_count": 271,
   "metadata": {
    "ExecuteTime": {
     "end_time": "2018-10-06T01:42:13.011500Z",
     "start_time": "2018-10-06T01:42:13.004406Z"
    }
   },
   "outputs": [],
   "source": [
    "x = genfibonnachi(100000)"
   ]
  },
  {
   "cell_type": "code",
   "execution_count": 272,
   "metadata": {
    "ExecuteTime": {
     "end_time": "2018-10-06T01:42:13.419869Z",
     "start_time": "2018-10-06T01:42:13.409769Z"
    }
   },
   "outputs": [
    {
     "data": {
      "text/plain": [
       "1"
      ]
     },
     "execution_count": 272,
     "metadata": {},
     "output_type": "execute_result"
    }
   ],
   "source": [
    "next(x)"
   ]
  },
  {
   "cell_type": "code",
   "execution_count": 234,
   "metadata": {
    "ExecuteTime": {
     "end_time": "2018-10-04T18:18:43.039717Z",
     "start_time": "2018-10-04T18:18:43.028192Z"
    }
   },
   "outputs": [],
   "source": [
    "def fibonnachi(n):\n",
    "    a = 1\n",
    "    b = 1\n",
    "    output = []\n",
    "    \n",
    "    for i in range(n):\n",
    "        output.append(a)\n",
    "        a,b = b,a+b\n",
    "        \n",
    "    return output"
   ]
  },
  {
   "cell_type": "code",
   "execution_count": null,
   "metadata": {},
   "outputs": [],
   "source": [
    "fibonnachi(10)"
   ]
  },
  {
   "cell_type": "code",
   "execution_count": 273,
   "metadata": {
    "ExecuteTime": {
     "end_time": "2018-10-06T01:43:04.021116Z",
     "start_time": "2018-10-06T01:43:04.009822Z"
    }
   },
   "outputs": [],
   "source": [
    "def count(start=0, step=1):\n",
    "    n = start\n",
    "    while True:\n",
    "        yield n\n",
    "        n += step"
   ]
  },
  {
   "cell_type": "code",
   "execution_count": 274,
   "metadata": {
    "ExecuteTime": {
     "end_time": "2018-10-06T01:43:04.253512Z",
     "start_time": "2018-10-06T01:43:04.248021Z"
    }
   },
   "outputs": [],
   "source": [
    "gen = count()"
   ]
  },
  {
   "cell_type": "code",
   "execution_count": 275,
   "metadata": {
    "ExecuteTime": {
     "end_time": "2018-10-06T01:43:04.460218Z",
     "start_time": "2018-10-06T01:43:04.452832Z"
    }
   },
   "outputs": [
    {
     "name": "stdout",
     "output_type": "stream",
     "text": [
      "0\n"
     ]
    }
   ],
   "source": [
    "print(next(gen))"
   ]
  },
  {
   "cell_type": "code",
   "execution_count": 276,
   "metadata": {
    "ExecuteTime": {
     "end_time": "2018-10-06T01:43:04.667028Z",
     "start_time": "2018-10-06T01:43:04.661498Z"
    }
   },
   "outputs": [
    {
     "name": "stdout",
     "output_type": "stream",
     "text": [
      "1\n"
     ]
    }
   ],
   "source": [
    "print(next(gen))"
   ]
  },
  {
   "cell_type": "code",
   "execution_count": 277,
   "metadata": {
    "ExecuteTime": {
     "end_time": "2018-10-06T01:43:04.949064Z",
     "start_time": "2018-10-06T01:43:04.942968Z"
    }
   },
   "outputs": [
    {
     "name": "stdout",
     "output_type": "stream",
     "text": [
      "2\n"
     ]
    }
   ],
   "source": [
    "print(next(gen))"
   ]
  },
  {
   "cell_type": "code",
   "execution_count": 278,
   "metadata": {
    "ExecuteTime": {
     "end_time": "2018-10-06T01:43:07.814356Z",
     "start_time": "2018-10-06T01:43:07.806039Z"
    }
   },
   "outputs": [],
   "source": [
    "def count3(start=0, step=1):\n",
    "    n = start\n",
    "    while n < 3:\n",
    "        yield n\n",
    "        n += step"
   ]
  },
  {
   "cell_type": "code",
   "execution_count": 279,
   "metadata": {
    "ExecuteTime": {
     "end_time": "2018-10-06T01:43:08.088671Z",
     "start_time": "2018-10-06T01:43:08.081776Z"
    }
   },
   "outputs": [],
   "source": [
    "gen3 = count3()"
   ]
  },
  {
   "cell_type": "code",
   "execution_count": 280,
   "metadata": {
    "ExecuteTime": {
     "end_time": "2018-10-06T01:43:08.274412Z",
     "start_time": "2018-10-06T01:43:08.266425Z"
    }
   },
   "outputs": [
    {
     "name": "stdout",
     "output_type": "stream",
     "text": [
      "0\n"
     ]
    }
   ],
   "source": [
    "print(next(gen3))"
   ]
  },
  {
   "cell_type": "code",
   "execution_count": 281,
   "metadata": {
    "ExecuteTime": {
     "end_time": "2018-10-06T01:43:08.445047Z",
     "start_time": "2018-10-06T01:43:08.439751Z"
    }
   },
   "outputs": [
    {
     "name": "stdout",
     "output_type": "stream",
     "text": [
      "1\n"
     ]
    }
   ],
   "source": [
    "print(next(gen3))"
   ]
  },
  {
   "cell_type": "code",
   "execution_count": 282,
   "metadata": {
    "ExecuteTime": {
     "end_time": "2018-10-06T01:43:08.618007Z",
     "start_time": "2018-10-06T01:43:08.609997Z"
    }
   },
   "outputs": [
    {
     "name": "stdout",
     "output_type": "stream",
     "text": [
      "2\n"
     ]
    }
   ],
   "source": [
    "print(next(gen3))"
   ]
  },
  {
   "cell_type": "code",
   "execution_count": 283,
   "metadata": {
    "ExecuteTime": {
     "end_time": "2018-10-06T01:43:08.811634Z",
     "start_time": "2018-10-06T01:43:08.785401Z"
    }
   },
   "outputs": [
    {
     "ename": "StopIteration",
     "evalue": "",
     "output_type": "error",
     "traceback": [
      "\u001b[0;31m---------------------------------------------------------------------------\u001b[0m",
      "\u001b[0;31mStopIteration\u001b[0m                             Traceback (most recent call last)",
      "\u001b[0;32m<ipython-input-283-3b4ced746b93>\u001b[0m in \u001b[0;36m<module>\u001b[0;34m()\u001b[0m\n\u001b[0;32m----> 1\u001b[0;31m \u001b[0mprint\u001b[0m\u001b[0;34m(\u001b[0m\u001b[0mnext\u001b[0m\u001b[0;34m(\u001b[0m\u001b[0mgen3\u001b[0m\u001b[0;34m)\u001b[0m\u001b[0;34m)\u001b[0m\u001b[0;34m\u001b[0m\u001b[0m\n\u001b[0m",
      "\u001b[0;31mStopIteration\u001b[0m: "
     ]
    }
   ],
   "source": [
    "print(next(gen3))"
   ]
  },
  {
   "cell_type": "code",
   "execution_count": 288,
   "metadata": {
    "ExecuteTime": {
     "end_time": "2018-10-06T01:43:29.716471Z",
     "start_time": "2018-10-06T01:43:29.706981Z"
    }
   },
   "outputs": [
    {
     "name": "stdout",
     "output_type": "stream",
     "text": [
      "p\n",
      "y\n",
      "t\n",
      "h\n",
      "o\n",
      "n\n"
     ]
    }
   ],
   "source": [
    "s = 'python'\n",
    "\n",
    "for let in s:\n",
    "    print(let)"
   ]
  },
  {
   "cell_type": "code",
   "execution_count": 289,
   "metadata": {
    "ExecuteTime": {
     "end_time": "2018-10-06T01:43:30.587492Z",
     "start_time": "2018-10-06T01:43:30.581972Z"
    }
   },
   "outputs": [],
   "source": [
    "s_iter = iter(s)"
   ]
  },
  {
   "cell_type": "code",
   "execution_count": 290,
   "metadata": {
    "ExecuteTime": {
     "end_time": "2018-10-06T01:43:30.935308Z",
     "start_time": "2018-10-06T01:43:30.912542Z"
    }
   },
   "outputs": [
    {
     "name": "stdout",
     "output_type": "stream",
     "text": [
      "p\n",
      "y\n",
      "t\n",
      "h\n",
      "o\n",
      "n\n"
     ]
    },
    {
     "ename": "StopIteration",
     "evalue": "",
     "output_type": "error",
     "traceback": [
      "\u001b[0;31m---------------------------------------------------------------------------\u001b[0m",
      "\u001b[0;31mStopIteration\u001b[0m                             Traceback (most recent call last)",
      "\u001b[0;32m<ipython-input-290-abf31faada14>\u001b[0m in \u001b[0;36m<module>\u001b[0;34m()\u001b[0m\n\u001b[1;32m      5\u001b[0m \u001b[0mprint\u001b[0m\u001b[0;34m(\u001b[0m\u001b[0mnext\u001b[0m\u001b[0;34m(\u001b[0m\u001b[0ms_iter\u001b[0m\u001b[0;34m)\u001b[0m\u001b[0;34m)\u001b[0m\u001b[0;34m\u001b[0m\u001b[0m\n\u001b[1;32m      6\u001b[0m \u001b[0mprint\u001b[0m\u001b[0;34m(\u001b[0m\u001b[0mnext\u001b[0m\u001b[0;34m(\u001b[0m\u001b[0ms_iter\u001b[0m\u001b[0;34m)\u001b[0m\u001b[0;34m)\u001b[0m\u001b[0;34m\u001b[0m\u001b[0m\n\u001b[0;32m----> 7\u001b[0;31m \u001b[0mprint\u001b[0m\u001b[0;34m(\u001b[0m\u001b[0mnext\u001b[0m\u001b[0;34m(\u001b[0m\u001b[0ms_iter\u001b[0m\u001b[0;34m)\u001b[0m\u001b[0;34m)\u001b[0m\u001b[0;34m\u001b[0m\u001b[0m\n\u001b[0m",
      "\u001b[0;31mStopIteration\u001b[0m: "
     ]
    }
   ],
   "source": [
    "print(next(s_iter))\n",
    "print(next(s_iter))\n",
    "print(next(s_iter))\n",
    "print(next(s_iter))\n",
    "print(next(s_iter))\n",
    "print(next(s_iter))\n",
    "print(next(s_iter))"
   ]
  },
  {
   "cell_type": "markdown",
   "metadata": {},
   "source": [
    "# List Comprehensions\n",
    "Можно считать, что эти выражения - свернутые в одну строку `for` циклы и `append` результата. И выглядят они почти как эти циклы, только обернутые в квадратные скобки. Внутри этих выражений можно реализовать большинство простых циклов."
   ]
  },
  {
   "cell_type": "code",
   "execution_count": 294,
   "metadata": {
    "ExecuteTime": {
     "end_time": "2018-10-06T01:43:58.029413Z",
     "start_time": "2018-10-06T01:43:58.024789Z"
    }
   },
   "outputs": [],
   "source": [
    "def asdas(line):\n",
    "    for x in line:\n",
    "        yield x"
   ]
  },
  {
   "cell_type": "code",
   "execution_count": 295,
   "metadata": {
    "ExecuteTime": {
     "end_time": "2018-10-06T01:43:58.302004Z",
     "start_time": "2018-10-06T01:43:58.295724Z"
    }
   },
   "outputs": [
    {
     "data": {
      "text/plain": [
       "<generator object <genexpr> at 0x1102bb888>"
      ]
     },
     "execution_count": 295,
     "metadata": {},
     "output_type": "execute_result"
    }
   ],
   "source": [
    "l = (x for x in 'python')\n",
    "l"
   ]
  },
  {
   "cell_type": "code",
   "execution_count": 296,
   "metadata": {
    "ExecuteTime": {
     "end_time": "2018-10-06T01:43:58.478995Z",
     "start_time": "2018-10-06T01:43:58.472717Z"
    }
   },
   "outputs": [
    {
     "data": {
      "text/plain": [
       "<generator object <genexpr> at 0x10ffc6db0>"
      ]
     },
     "execution_count": 296,
     "metadata": {},
     "output_type": "execute_result"
    }
   ],
   "source": [
    "l = (x.upper() for x in 'python')\n",
    "l"
   ]
  },
  {
   "cell_type": "code",
   "execution_count": 297,
   "metadata": {
    "ExecuteTime": {
     "end_time": "2018-10-06T01:43:58.706657Z",
     "start_time": "2018-10-06T01:43:58.699771Z"
    }
   },
   "outputs": [
    {
     "data": {
      "text/plain": [
       "'P'"
      ]
     },
     "execution_count": 297,
     "metadata": {},
     "output_type": "execute_result"
    }
   ],
   "source": [
    "next(l)"
   ]
  },
  {
   "cell_type": "code",
   "execution_count": 298,
   "metadata": {
    "ExecuteTime": {
     "end_time": "2018-10-06T01:43:58.949347Z",
     "start_time": "2018-10-06T01:43:58.939488Z"
    }
   },
   "outputs": [
    {
     "data": {
      "text/plain": [
       "[0, 1, 8, 27, 64]"
      ]
     },
     "execution_count": 298,
     "metadata": {},
     "output_type": "execute_result"
    }
   ],
   "source": [
    "l = [x**3 for x in range(5)]\n",
    "l"
   ]
  },
  {
   "cell_type": "code",
   "execution_count": 299,
   "metadata": {
    "ExecuteTime": {
     "end_time": "2018-10-06T01:43:59.190766Z",
     "start_time": "2018-10-06T01:43:59.182537Z"
    }
   },
   "outputs": [
    {
     "data": {
      "text/plain": [
       "[2, 4, 6, 8]"
      ]
     },
     "execution_count": 299,
     "metadata": {},
     "output_type": "execute_result"
    }
   ],
   "source": [
    "l = [int(x) for x in '123456789' if int(x) % 2 == 0] \n",
    "l"
   ]
  },
  {
   "cell_type": "code",
   "execution_count": 300,
   "metadata": {
    "ExecuteTime": {
     "end_time": "2018-10-06T01:43:59.398801Z",
     "start_time": "2018-10-06T01:43:59.384123Z"
    }
   },
   "outputs": [
    {
     "ename": "NameError",
     "evalue": "name 'b' is not defined",
     "output_type": "error",
     "traceback": [
      "\u001b[0;31m---------------------------------------------------------------------------\u001b[0m",
      "\u001b[0;31mNameError\u001b[0m                                 Traceback (most recent call last)",
      "\u001b[0;32m<ipython-input-300-21d696368029>\u001b[0m in \u001b[0;36m<module>\u001b[0;34m()\u001b[0m\n\u001b[0;32m----> 1\u001b[0;31m \u001b[0;34m(\u001b[0m\u001b[0ma\u001b[0m\u001b[0;34m,\u001b[0m \u001b[0mb\u001b[0m\u001b[0;34m,\u001b[0m \u001b[0mc\u001b[0m\u001b[0;34m)\u001b[0m\u001b[0;34m\u001b[0m\u001b[0m\n\u001b[0m\u001b[1;32m      2\u001b[0m \u001b[0;34m(\u001b[0m\u001b[0ma\u001b[0m \u001b[0;32mfor\u001b[0m \u001b[0ma\u001b[0m \u001b[0;32min\u001b[0m \u001b[0mb\u001b[0m\u001b[0;34m)\u001b[0m\u001b[0;34m\u001b[0m\u001b[0m\n",
      "\u001b[0;31mNameError\u001b[0m: name 'b' is not defined"
     ]
    }
   ],
   "source": [
    "(a, b, c)\n",
    "(a for a in b) "
   ]
  },
  {
   "cell_type": "code",
   "execution_count": 301,
   "metadata": {
    "ExecuteTime": {
     "end_time": "2018-10-06T01:43:59.642063Z",
     "start_time": "2018-10-06T01:43:59.634067Z"
    }
   },
   "outputs": [
    {
     "name": "stdout",
     "output_type": "stream",
     "text": [
      "32.0\n",
      "50.0\n",
      "68.18\n",
      "94.1\n"
     ]
    }
   ],
   "source": [
    "celsius = [0, 10, 20.1, 34.5]\n",
    "\n",
    "fahrenheit_generator = (9 / 5 * temp + 32 for temp in celsius)\n",
    "\n",
    "for temp in fahrenheit_generator:\n",
    "    print(temp)"
   ]
  },
  {
   "cell_type": "code",
   "execution_count": 302,
   "metadata": {
    "ExecuteTime": {
     "end_time": "2018-10-06T01:43:59.904148Z",
     "start_time": "2018-10-06T01:43:59.895928Z"
    }
   },
   "outputs": [
    {
     "data": {
      "text/plain": [
       "[0, 0, 4, 13, 32]"
      ]
     },
     "execution_count": 302,
     "metadata": {},
     "output_type": "execute_result"
    }
   ],
   "source": [
    "l = [x // 2 for x in [y ** 3 for y in range(5)]]\n",
    "l"
   ]
  },
  {
   "cell_type": "code",
   "execution_count": 303,
   "metadata": {
    "ExecuteTime": {
     "end_time": "2018-10-06T01:44:00.189731Z",
     "start_time": "2018-10-06T01:44:00.171569Z"
    }
   },
   "outputs": [
    {
     "data": {
      "text/plain": [
       "[1, 2, 3, 4, 5, 6, 7, 8]"
      ]
     },
     "execution_count": 303,
     "metadata": {},
     "output_type": "execute_result"
    }
   ],
   "source": [
    "non_flat = [ [1,2,3], [4,5,6], [7,8] ]\n",
    "flat = [y for x in non_flat for y in x]\n",
    "flat"
   ]
  },
  {
   "cell_type": "code",
   "execution_count": 304,
   "metadata": {
    "ExecuteTime": {
     "end_time": "2018-10-06T01:44:00.424538Z",
     "start_time": "2018-10-06T01:44:00.416655Z"
    }
   },
   "outputs": [
    {
     "name": "stdout",
     "output_type": "stream",
     "text": [
      "1\n",
      "2\n",
      "3\n",
      "4\n",
      "5\n",
      "6\n",
      "7\n",
      "8\n"
     ]
    }
   ],
   "source": [
    "for x in non_flat:\n",
    "    for y in x:\n",
    "        print(y)"
   ]
  },
  {
   "cell_type": "markdown",
   "metadata": {
    "ExecuteTime": {
     "end_time": "2018-10-04T13:35:15.382324Z",
     "start_time": "2018-10-04T13:35:15.373402Z"
    }
   },
   "source": [
    "Все это же можно делать с помощью круглых скобок – в таком случае не будет создаваться список"
   ]
  },
  {
   "cell_type": "markdown",
   "metadata": {},
   "source": [
    "# Блиц 2\n",
    "1. С помощью list comprehensions создать список чисел от 0 до 100 включительно, которые нацело делятся на 5.\n",
    "2. Говорят, что некотрые буквы встречаются на втором месте в слове чаще, чем на первом. Давайте проверим на примере 'o'. Сохраните спихотворение 'The Raven' в файл .txt, и проверьте на его примере это утверждение. Ссылка на стихотворение: https://www.eapoe.org/works/poems/ravent.htm"
   ]
  },
  {
   "cell_type": "code",
   "execution_count": 310,
   "metadata": {
    "ExecuteTime": {
     "end_time": "2018-10-06T01:44:12.316806Z",
     "start_time": "2018-10-06T01:44:12.311098Z"
    }
   },
   "outputs": [],
   "source": [
    "(a for a in b)\n",
    "[a for a in b]\n",
    "(a for a in b if a > 3)\n",
    "(a ** 3 for a in b)\n",
    "(a ** 3 for a in b if a > 3)"
   ]
  },
  {
   "cell_type": "code",
   "execution_count": 306,
   "metadata": {
    "ExecuteTime": {
     "end_time": "2018-10-06T01:44:01.338674Z",
     "start_time": "2018-10-06T01:44:01.330141Z"
    }
   },
   "outputs": [
    {
     "data": {
      "text/plain": [
       "[0,\n",
       " 5,\n",
       " 10,\n",
       " 15,\n",
       " 20,\n",
       " 25,\n",
       " 30,\n",
       " 35,\n",
       " 40,\n",
       " 45,\n",
       " 50,\n",
       " 55,\n",
       " 60,\n",
       " 65,\n",
       " 70,\n",
       " 75,\n",
       " 80,\n",
       " 85,\n",
       " 90,\n",
       " 95,\n",
       " 100]"
      ]
     },
     "execution_count": 306,
     "metadata": {},
     "output_type": "execute_result"
    }
   ],
   "source": [
    "[number for number in range(0, 101) if number % 5 == 0] "
   ]
  },
  {
   "cell_type": "code",
   "execution_count": 312,
   "metadata": {
    "ExecuteTime": {
     "end_time": "2018-10-06T01:45:41.933576Z",
     "start_time": "2018-10-06T01:45:41.925952Z"
    }
   },
   "outputs": [],
   "source": [
    "first_o_counter = 0\n",
    "second_o_counter = 0\n",
    "\n",
    "with open('Raven.txt', encoding='utf8') as poem_fp:\n",
    "    poem = poem_fp.read()\n",
    "    for word in poem.splity():\n",
    "        if len(word) >= 1 and word[0] == 'o':\n",
    "            first_o_counter += 1\n",
    "        if len(word) >= 2 and word[1] == 'o':\n",
    "            second_o_counter += 1\n",
    "            \n"
   ]
  },
  {
   "cell_type": "code",
   "execution_count": null,
   "metadata": {},
   "outputs": [],
   "source": []
  }
 ],
 "metadata": {
  "kernelspec": {
   "display_name": "Python 3",
   "language": "python",
   "name": "python3"
  },
  "language_info": {
   "codemirror_mode": {
    "name": "ipython",
    "version": 3
   },
   "file_extension": ".py",
   "mimetype": "text/x-python",
   "name": "python",
   "nbconvert_exporter": "python",
   "pygments_lexer": "ipython3",
   "version": "3.6.4"
  }
 },
 "nbformat": 4,
 "nbformat_minor": 1
}
