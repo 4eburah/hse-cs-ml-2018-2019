{
 "cells": [
  {
   "cell_type": "markdown",
   "metadata": {},
   "source": [
    "# 1"
   ]
  },
  {
   "cell_type": "code",
   "execution_count": 1,
   "metadata": {},
   "outputs": [
    {
     "name": "stdout",
     "output_type": "stream",
     "text": [
      "abr\n",
      "AAAAADDDDDD\n",
      "''\n",
      "bbzz2\n",
      "aa1zz\n",
      "aaMMzz\n"
     ]
    }
   ],
   "source": [
    "def str_cut(string, sep):\n",
    "    head = string.find(sep)\n",
    "    tail = string.rfind(sep)\n",
    "    if tail >= 0:\n",
    "        tail += 1\n",
    "    return string[:head]+string[tail:]\n",
    "    \n",
    "print(str_cut('habrahabr','h'))\n",
    "print(str_cut('AAAAAhBBBBBhCCCCChDDDDDD', 'h'))\n",
    "print(\"'{}'\".format(str_cut('hh','h')))\n",
    "\n",
    "print(str_cut('bbzz2:',':'))\n",
    "print(str_cut('aa1:2bb:zz',':'))\n",
    "print(str_cut('aaMMzz',':'))"
   ]
  },
  {
   "cell_type": "markdown",
   "metadata": {},
   "source": [
    "# 2\n",
    "Моя интерпретация задания:\n",
    "* использовать _именно_ `str.replace()` для очистки строки от знаков пунктуации\n",
    "* посчитать _общее количество_ различных слов в строке (*не* число появлений каждого слова)"
   ]
  },
  {
   "cell_type": "code",
   "execution_count": 2,
   "metadata": {},
   "outputs": [],
   "source": [
    "poem = \"\"\"5 little piges.\n",
    "This little pig went to market,\n",
    "This little pig stayed at home,\n",
    "This little pig had roast beef,\n",
    "And this little pig had none,\n",
    "This little pig said, \"Wee, wee, wee!\n",
    "I can't find my way home.\"\"\""
   ]
  },
  {
   "cell_type": "code",
   "execution_count": 5,
   "metadata": {},
   "outputs": [
    {
     "name": "stdout",
     "output_type": "stream",
     "text": [
      "{'wee', 'cant', 'pig', 'at', 'none', 'piges', 'i', 'home', 'find', 'this', 'my', 'said', 'little', 'stayed', 'went', 'had', 'roast', 'and', 'to', '5', 'market', 'beef', 'way'}\n",
      "23\n"
     ]
    }
   ],
   "source": [
    "import string # for punctuation\n",
    "\n",
    "def count_distinct_words(poem):\n",
    "    for p in string.punctuation:\n",
    "        poem = poem.replace(p, '')\n",
    "    words = poem.lower().split()\n",
    "    print(set(words))\n",
    "    return len(set(words))\n",
    "\n",
    "print(count_distinct_words(poem))"
   ]
  },
  {
   "cell_type": "markdown",
   "metadata": {},
   "source": [
    "# 3\n",
    "Допущения:\n",
    "* Файл `10-million-password-list-top-500.txt` расположен в рабочей директории интерпретатора.\n",
    "* Согласно заданию, надёжным паролем считается тот, в котором есть минимум 6 букв разного регистра, цифры и специальные символы. Однако в указанном файле таких паролей вообще нет. Поэтому, чтобы получить в результате число, отличное от 0, я принял решение эти требования немного ослабить (см. условие по коду)."
   ]
  },
  {
   "cell_type": "code",
   "execution_count": 4,
   "metadata": {},
   "outputs": [
    {
     "name": "stdout",
     "output_type": "stream",
     "text": [
      "The ratio of strong passwords: 2.20%\n"
     ]
    }
   ],
   "source": [
    "def strong_password(passwd):\n",
    "    lower = upper = digit = special = 0\n",
    "    for c in passwd:\n",
    "        if c.isalpha():\n",
    "            if c.islower():\n",
    "                lower += 1\n",
    "            elif c.isupper():\n",
    "                upper += 1\n",
    "        elif c.isdigit():\n",
    "            digit += 1\n",
    "        elif c.isprintable() and not c.isalnum():\n",
    "            special += 1\n",
    "        # if all([lower > 0, upper > 0, lower + upper > 5, digit > 0, special > 0]):\n",
    "        if all([lower + upper > 4, digit > 0]):\n",
    "            return True\n",
    "    return False\n",
    "\n",
    "def strong_passwords_ratio(passwords_filename):\n",
    "    with open(passwords_filename) as f:\n",
    "        total = strong = 0\n",
    "        for passwd in f:\n",
    "            total += 1\n",
    "            if strong_password(passwd.rstrip()):\n",
    "                strong += 1\n",
    "    return strong / total\n",
    "\n",
    "print('The ratio of strong passwords: {:.2f}%'.format(100 * strong_passwords_ratio('10-million-password-list-top-500.txt')))\n"
   ]
  }
 ],
 "metadata": {
  "kernelspec": {
   "display_name": "Python 3",
   "language": "python",
   "name": "python3"
  },
  "language_info": {
   "codemirror_mode": {
    "name": "ipython",
    "version": 3
   },
   "file_extension": ".py",
   "mimetype": "text/x-python",
   "name": "python",
   "nbconvert_exporter": "python",
   "pygments_lexer": "ipython3",
   "version": "3.6.5"
  }
 },
 "nbformat": 4,
 "nbformat_minor": 2
}
