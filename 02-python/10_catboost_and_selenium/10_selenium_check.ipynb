{
 "cells": [
  {
   "cell_type": "code",
   "execution_count": 1,
   "metadata": {
    "ExecuteTime": {
     "end_time": "2018-11-22T15:18:51.416867Z",
     "start_time": "2018-11-22T15:18:46.015309Z"
    }
   },
   "outputs": [],
   "source": [
    "from selenium.webdriver import Chrome\n",
    "path=\"/Users/yellowduck/Yandex.Disk.localized/projects/ml/data_mining_course2/10_catboost_and_selenium/chromedriver\"\n",
    "browser = Chrome(executable_path=path)\n",
    "browser.get('https://duckduckgo.com')"
   ]
  },
  {
   "cell_type": "code",
   "execution_count": 10,
   "metadata": {
    "ExecuteTime": {
     "end_time": "2018-11-22T15:17:00.609803Z",
     "start_time": "2018-11-22T15:16:57.168403Z"
    }
   },
   "outputs": [],
   "source": [
    "search_form = browser.find_element_by_id('search_form_input_homepage')\n",
    "search_form.send_keys('real python')\n",
    "search_form.submit()"
   ]
  },
  {
   "cell_type": "code",
   "execution_count": 10,
   "metadata": {},
   "outputs": [
    {
     "name": "stdout",
     "output_type": "stream",
     "text": [
      "Python Tutorials - Real Python\n",
      "Python Community Interview With Kenneth Reitz. Kenneth is the author of the extremely popular requests and pipenv libraries. In this interview, we discuss his latest projects, Responder and PyTheory, and the most challenging code he's written to date.\n",
      "https://realpython.com\n"
     ]
    }
   ],
   "source": [
    "results = browser.find_elements_by_class_name('result')\n",
    "print(results[0].text)"
   ]
  },
  {
   "cell_type": "code",
   "execution_count": null,
   "metadata": {},
   "outputs": [],
   "source": []
  }
 ],
 "metadata": {
  "kernelspec": {
   "display_name": "Python 3",
   "language": "python",
   "name": "python3"
  },
  "language_info": {
   "codemirror_mode": {
    "name": "ipython",
    "version": 3
   },
   "file_extension": ".py",
   "mimetype": "text/x-python",
   "name": "python",
   "nbconvert_exporter": "python",
   "pygments_lexer": "ipython3",
   "version": "3.6.4"
  }
 },
 "nbformat": 4,
 "nbformat_minor": 2
}
