{
 "cells": [
  {
   "cell_type": "markdown",
   "metadata": {},
   "source": [
    "# Решение Селениума:"
   ]
  },
  {
   "cell_type": "code",
   "execution_count": 1,
   "metadata": {
    "ExecuteTime": {
     "end_time": "2018-11-24T11:22:02.873429Z",
     "start_time": "2018-11-24T11:22:02.631471Z"
    }
   },
   "outputs": [],
   "source": [
    "from selenium import webdriver\n",
    "from selenium.webdriver.common.keys import Keys \n",
    "import time"
   ]
  },
  {
   "cell_type": "code",
   "execution_count": 2,
   "metadata": {
    "ExecuteTime": {
     "end_time": "2018-11-24T11:22:15.075973Z",
     "start_time": "2018-11-24T11:22:02.883876Z"
    }
   },
   "outputs": [],
   "source": [
    "from selenium.webdriver import Chrome\n",
    "\n",
    "path=\"/Users/yellowduck/Yandex.Disk.localized/projects/ml/data_mining_course2/10_catboost_and_selenium/chromedriver\"\n",
    "driver = Chrome(executable_path=path)\n",
    "driver.get('https://kaggle.com')"
   ]
  },
  {
   "cell_type": "code",
   "execution_count": 3,
   "metadata": {
    "ExecuteTime": {
     "end_time": "2018-11-24T11:22:21.520749Z",
     "start_time": "2018-11-24T11:22:19.026652Z"
    }
   },
   "outputs": [],
   "source": [
    "driver.find_element_by_link_text('Competitions').click()"
   ]
  },
  {
   "cell_type": "code",
   "execution_count": 4,
   "metadata": {
    "ExecuteTime": {
     "end_time": "2018-11-24T11:22:24.051242Z",
     "start_time": "2018-11-24T11:22:21.525655Z"
    }
   },
   "outputs": [],
   "source": [
    "driver.find_element_by_link_text('Titanic: Machine Learning from Disaster').click()"
   ]
  },
  {
   "cell_type": "code",
   "execution_count": 5,
   "metadata": {
    "ExecuteTime": {
     "end_time": "2018-11-24T11:22:24.775729Z",
     "start_time": "2018-11-24T11:22:24.054626Z"
    }
   },
   "outputs": [],
   "source": [
    "driver.find_element_by_link_text('Data').click()"
   ]
  },
  {
   "cell_type": "code",
   "execution_count": 8,
   "metadata": {
    "ExecuteTime": {
     "end_time": "2018-11-24T11:23:01.080032Z",
     "start_time": "2018-11-24T11:22:57.826847Z"
    }
   },
   "outputs": [],
   "source": [
    "username = driver.find_element_by_name('username')\n",
    "username.clear()\n",
    "username.send_keys('yellowduck')\n",
    "\n",
    "password = driver.find_element_by_name('password')\n",
    "password.clear()\n",
    "password.send_keys('xxxxxxxxxx')\n",
    "\n",
    "password.submit()"
   ]
  },
  {
   "cell_type": "code",
   "execution_count": 9,
   "metadata": {
    "ExecuteTime": {
     "end_time": "2018-11-24T11:23:03.436293Z",
     "start_time": "2018-11-24T11:23:03.047777Z"
    }
   },
   "outputs": [],
   "source": [
    "driver.find_element_by_link_text('Data').click()"
   ]
  },
  {
   "cell_type": "code",
   "execution_count": 10,
   "metadata": {
    "ExecuteTime": {
     "end_time": "2018-11-24T11:23:05.877272Z",
     "start_time": "2018-11-24T11:23:05.682079Z"
    }
   },
   "outputs": [],
   "source": [
    "driver.find_element_by_link_text('Download All').click()"
   ]
  },
  {
   "cell_type": "code",
   "execution_count": null,
   "metadata": {},
   "outputs": [],
   "source": []
  },
  {
   "cell_type": "markdown",
   "metadata": {},
   "source": [
    "# Решение CatBoost'а:"
   ]
  },
  {
   "cell_type": "markdown",
   "metadata": {
    "ExecuteTime": {
     "end_time": "2018-11-30T19:38:14.930004Z",
     "start_time": "2018-11-30T19:38:14.921997Z"
    }
   },
   "source": [
    "https://www.kaggle.com/pacifik80/yandex-catboost-demo"
   ]
  },
  {
   "cell_type": "code",
   "execution_count": null,
   "metadata": {},
   "outputs": [],
   "source": []
  }
 ],
 "metadata": {
  "kernelspec": {
   "display_name": "Python 3",
   "language": "python",
   "name": "python3"
  },
  "language_info": {
   "codemirror_mode": {
    "name": "ipython",
    "version": 3
   },
   "file_extension": ".py",
   "mimetype": "text/x-python",
   "name": "python",
   "nbconvert_exporter": "python",
   "pygments_lexer": "ipython3",
   "version": "3.6.4"
  }
 },
 "nbformat": 4,
 "nbformat_minor": 2
}
