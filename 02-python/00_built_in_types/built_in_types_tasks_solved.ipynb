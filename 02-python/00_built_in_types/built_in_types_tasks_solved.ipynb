{
 "cells": [
  {
   "cell_type": "markdown",
   "metadata": {},
   "source": [
    "# Блиц 1"
   ]
  },
  {
   "cell_type": "markdown",
   "metadata": {
    "ExecuteTime": {
     "end_time": "2018-09-13T11:18:24.028600Z",
     "start_time": "2018-09-13T11:18:24.021744Z"
    }
   },
   "source": [
    "##### 1.1 (1 балл)  \n",
    "В каком порядке происходит сложение и умножение в выражении 2 + 2 * 2 ?"
   ]
  },
  {
   "cell_type": "code",
   "execution_count": 1,
   "metadata": {
    "ExecuteTime": {
     "end_time": "2018-09-21T13:13:32.572904Z",
     "start_time": "2018-09-21T13:13:32.552805Z"
    }
   },
   "outputs": [
    {
     "data": {
      "text/plain": [
       "6"
      ]
     },
     "execution_count": 1,
     "metadata": {},
     "output_type": "execute_result"
    }
   ],
   "source": [
    "2 + 2 * 2"
   ]
  },
  {
   "cell_type": "markdown",
   "metadata": {},
   "source": [
    "-- Сначала умножение, потом сложение"
   ]
  },
  {
   "cell_type": "markdown",
   "metadata": {
    "ExecuteTime": {
     "end_time": "2018-09-13T10:55:34.822657Z",
     "start_time": "2018-09-13T10:55:34.806126Z"
    }
   },
   "source": [
    "##### 1.2. (1 балл)  \n",
    "Вам на вход приходит длина стороны квадрата. Верните tuple с тремя числами: периметр квадрата, площадь квадрата и диагональ квадрата."
   ]
  },
  {
   "cell_type": "code",
   "execution_count": 2,
   "metadata": {
    "ExecuteTime": {
     "end_time": "2018-09-21T13:14:35.051535Z",
     "start_time": "2018-09-21T13:14:35.044912Z"
    }
   },
   "outputs": [
    {
     "data": {
      "text/plain": [
       "(40, 100, 14.142135623730951)"
      ]
     },
     "execution_count": 2,
     "metadata": {},
     "output_type": "execute_result"
    }
   ],
   "source": [
    "length = 10\n",
    "length * 4, length ** 2, length * 2 ** 0.5"
   ]
  },
  {
   "cell_type": "markdown",
   "metadata": {
    "ExecuteTime": {
     "end_time": "2018-09-13T11:36:20.900496Z",
     "start_time": "2018-09-13T11:36:20.890948Z"
    }
   },
   "source": [
    "##### 1.3. (2 балла) \n",
    "Есть переменные a и b. Реализуйте обмен значениями этих переменных. Например для a = 5, b = 6 результатом будет a = 6, b = 5"
   ]
  },
  {
   "cell_type": "code",
   "execution_count": 5,
   "metadata": {
    "ExecuteTime": {
     "end_time": "2018-09-21T13:15:28.999691Z",
     "start_time": "2018-09-21T13:15:28.987502Z"
    }
   },
   "outputs": [
    {
     "data": {
      "text/plain": [
       "(6, 5)"
      ]
     },
     "execution_count": 5,
     "metadata": {},
     "output_type": "execute_result"
    }
   ],
   "source": [
    "# Длинное решение:\n",
    "    \n",
    "a = 5\n",
    "b = 6\n",
    "\n",
    "tmp = a\n",
    "a = b\n",
    "b = tmp \n",
    "\n",
    "a, b"
   ]
  },
  {
   "cell_type": "code",
   "execution_count": 6,
   "metadata": {
    "ExecuteTime": {
     "end_time": "2018-09-21T13:15:40.141006Z",
     "start_time": "2018-09-21T13:15:40.134049Z"
    }
   },
   "outputs": [],
   "source": [
    "# Короткое решение:\n",
    "\n",
    "a = 5\n",
    "b = 6\n",
    "a, b = b, a"
   ]
  },
  {
   "cell_type": "markdown",
   "metadata": {
    "ExecuteTime": {
     "end_time": "2018-09-13T11:38:12.272475Z",
     "start_time": "2018-09-13T11:38:12.264693Z"
    }
   },
   "source": [
    "##### 1.4. (2 балла) \n",
    "Выведете сумму цифр трехзначного числа"
   ]
  },
  {
   "cell_type": "code",
   "execution_count": 7,
   "metadata": {
    "ExecuteTime": {
     "end_time": "2018-09-21T13:16:40.049962Z",
     "start_time": "2018-09-21T13:16:40.041481Z"
    }
   },
   "outputs": [
    {
     "data": {
      "text/plain": [
       "15"
      ]
     },
     "execution_count": 7,
     "metadata": {},
     "output_type": "execute_result"
    }
   ],
   "source": [
    "number = 456\n",
    "(number // 100) + (number // 10 % 10) + (number % 10)"
   ]
  },
  {
   "cell_type": "markdown",
   "metadata": {
    "ExecuteTime": {
     "end_time": "2018-09-13T14:56:27.744008Z",
     "start_time": "2018-09-13T14:56:27.737275Z"
    }
   },
   "source": [
    "# Блиц 2"
   ]
  },
  {
   "cell_type": "markdown",
   "metadata": {
    "ExecuteTime": {
     "end_time": "2018-09-13T15:02:17.238363Z",
     "start_time": "2018-09-13T15:02:17.229977Z"
    }
   },
   "source": [
    "#### 2.1 (1 балл)\n",
    "Что больше: True или False?"
   ]
  },
  {
   "cell_type": "code",
   "execution_count": 8,
   "metadata": {
    "ExecuteTime": {
     "end_time": "2018-09-21T13:17:09.838751Z",
     "start_time": "2018-09-21T13:17:09.829621Z"
    }
   },
   "outputs": [
    {
     "data": {
      "text/plain": [
       "True"
      ]
     },
     "execution_count": 8,
     "metadata": {},
     "output_type": "execute_result"
    }
   ],
   "source": [
    "True > False"
   ]
  },
  {
   "cell_type": "code",
   "execution_count": 9,
   "metadata": {
    "ExecuteTime": {
     "end_time": "2018-09-21T13:17:28.915726Z",
     "start_time": "2018-09-21T13:17:28.910171Z"
    }
   },
   "outputs": [
    {
     "data": {
      "text/plain": [
       "False"
      ]
     },
     "execution_count": 9,
     "metadata": {},
     "output_type": "execute_result"
    }
   ],
   "source": [
    "False > True"
   ]
  },
  {
   "cell_type": "markdown",
   "metadata": {},
   "source": [
    "-- True больше"
   ]
  },
  {
   "cell_type": "markdown",
   "metadata": {
    "ExecuteTime": {
     "end_time": "2018-09-13T15:02:57.458533Z",
     "start_time": "2018-09-13T15:02:57.450897Z"
    }
   },
   "source": [
    "#### 2.2 (0.25 балла за каждую)\n",
    "Найдите максимальное количество операций, которые можно проводить с переменной типа None (операции могут быть бинарными)"
   ]
  },
  {
   "cell_type": "code",
   "execution_count": 11,
   "metadata": {
    "ExecuteTime": {
     "end_time": "2018-09-21T13:17:54.700658Z",
     "start_time": "2018-09-21T13:17:54.692350Z"
    }
   },
   "outputs": [
    {
     "data": {
      "text/plain": [
       "True"
      ]
     },
     "execution_count": 11,
     "metadata": {},
     "output_type": "execute_result"
    }
   ],
   "source": [
    "None is None "
   ]
  },
  {
   "cell_type": "code",
   "execution_count": 12,
   "metadata": {
    "ExecuteTime": {
     "end_time": "2018-09-21T13:17:59.384308Z",
     "start_time": "2018-09-21T13:17:59.377143Z"
    }
   },
   "outputs": [
    {
     "data": {
      "text/plain": [
       "True"
      ]
     },
     "execution_count": 12,
     "metadata": {},
     "output_type": "execute_result"
    }
   ],
   "source": [
    "None == None "
   ]
  },
  {
   "cell_type": "code",
   "execution_count": 13,
   "metadata": {
    "ExecuteTime": {
     "end_time": "2018-09-21T13:18:03.975623Z",
     "start_time": "2018-09-21T13:18:03.969083Z"
    }
   },
   "outputs": [
    {
     "data": {
      "text/plain": [
       "False"
      ]
     },
     "execution_count": 13,
     "metadata": {},
     "output_type": "execute_result"
    }
   ],
   "source": [
    "None != None "
   ]
  },
  {
   "cell_type": "code",
   "execution_count": 31,
   "metadata": {
    "ExecuteTime": {
     "end_time": "2018-09-21T13:23:23.039230Z",
     "start_time": "2018-09-21T13:23:23.029313Z"
    }
   },
   "outputs": [
    {
     "data": {
      "text/plain": [
       "True"
      ]
     },
     "execution_count": 31,
     "metadata": {},
     "output_type": "execute_result"
    }
   ],
   "source": [
    "not None"
   ]
  },
  {
   "cell_type": "code",
   "execution_count": 30,
   "metadata": {
    "ExecuteTime": {
     "end_time": "2018-09-21T13:23:11.264930Z",
     "start_time": "2018-09-21T13:23:11.261567Z"
    }
   },
   "outputs": [],
   "source": [
    "None and None"
   ]
  },
  {
   "cell_type": "code",
   "execution_count": 32,
   "metadata": {
    "ExecuteTime": {
     "end_time": "2018-09-21T13:23:34.041603Z",
     "start_time": "2018-09-21T13:23:34.036091Z"
    }
   },
   "outputs": [],
   "source": [
    "None or None"
   ]
  },
  {
   "cell_type": "markdown",
   "metadata": {
    "ExecuteTime": {
     "end_time": "2018-09-13T11:03:50.219169Z",
     "start_time": "2018-09-13T11:03:50.210950Z"
    }
   },
   "source": [
    "##### 2.3 (2 балла)  \n",
    "Для двух логических переменных a и b напишите выражение, реализующее логический оператор XOR.<br>\n",
    "Он работает так:<br>\n",
    "True XOR True = False<br>\n",
    "True XOR False = True<br>\n",
    "False XOR True = True<br>\n",
    "False XOR False = False<br>"
   ]
  },
  {
   "cell_type": "code",
   "execution_count": 42,
   "metadata": {
    "ExecuteTime": {
     "end_time": "2018-09-21T13:25:03.579624Z",
     "start_time": "2018-09-21T13:25:03.571747Z"
    }
   },
   "outputs": [
    {
     "data": {
      "text/plain": [
       "False"
      ]
     },
     "execution_count": 42,
     "metadata": {},
     "output_type": "execute_result"
    }
   ],
   "source": [
    "(not (a and b)) and (a or b)"
   ]
  },
  {
   "cell_type": "markdown",
   "metadata": {
    "ExecuteTime": {
     "end_time": "2018-09-13T10:54:12.675101Z",
     "start_time": "2018-09-13T10:54:12.662638Z"
    }
   },
   "source": [
    "##### 2.4 (2 балла)  \n",
    "Вам на вход приходит год (например, 2025). Определите, високосный ли он?"
   ]
  },
  {
   "cell_type": "markdown",
   "metadata": {},
   "source": [
    "- год, номер которого кратен 400, — високосный;\n",
    "- остальные годы, номер которых кратен 100, — невисокосные;\n",
    "- остальные годы, номер которых кратен 4, — високосные."
   ]
  },
  {
   "cell_type": "code",
   "execution_count": 44,
   "metadata": {
    "ExecuteTime": {
     "end_time": "2018-09-21T13:27:21.910973Z",
     "start_time": "2018-09-21T13:27:21.900177Z"
    }
   },
   "outputs": [
    {
     "data": {
      "text/plain": [
       "True"
      ]
     },
     "execution_count": 44,
     "metadata": {},
     "output_type": "execute_result"
    }
   ],
   "source": [
    "year = 2000\n",
    "(year % 400 == 0) or (year % 4 == 0 and year % 100 != 0)"
   ]
  },
  {
   "cell_type": "code",
   "execution_count": null,
   "metadata": {},
   "outputs": [],
   "source": []
  },
  {
   "cell_type": "markdown",
   "metadata": {},
   "source": [
    "# Блиц 3"
   ]
  },
  {
   "cell_type": "markdown",
   "metadata": {
    "ExecuteTime": {
     "end_time": "2018-09-13T15:20:56.335248Z",
     "start_time": "2018-09-13T15:20:56.326920Z"
    }
   },
   "source": [
    "##### 3.1 (1 балл)  \n",
    "\n",
    "Создайте пустой список (list) и наполните его элементами True, None, 42\n",
    "\n",
    "Создайте пустое множество (set) и наполните его элементами True, None, 42\n",
    "\n",
    "Создайте пустой кортеж (tuplу) и наполните его элементами True, None, 42"
   ]
  },
  {
   "cell_type": "code",
   "execution_count": 45,
   "metadata": {
    "ExecuteTime": {
     "end_time": "2018-09-21T16:53:26.359585Z",
     "start_time": "2018-09-21T16:53:26.339727Z"
    }
   },
   "outputs": [
    {
     "name": "stdout",
     "output_type": "stream",
     "text": [
      "[True, False, 42]\n",
      "[True, False, 42]\n",
      "(True, False, 42)\n"
     ]
    }
   ],
   "source": [
    "my_list = []\n",
    "my_list.append(True)\n",
    "my_list.append(False)\n",
    "my_list.append(42)\n",
    "print(my_list)\n",
    "\n",
    "my_set = set()\n",
    "my_set.add(True)\n",
    "my_set.add(False)\n",
    "my_set.add(42)\n",
    "print(my_list)\n",
    "\n",
    "my_tuple = (True, False, 42)  # tuple immutable, соотв. его нельзя изменять\n",
    "print(my_tuple)"
   ]
  },
  {
   "cell_type": "markdown",
   "metadata": {
    "ExecuteTime": {
     "end_time": "2018-09-13T15:07:34.200956Z",
     "start_time": "2018-09-13T15:07:34.190603Z"
    }
   },
   "source": [
    "##### 3.2 (1 балл)  \n",
    "\n",
    "Создайте список из 4-х элемернтов. Перемножьте 0-й, 2-й и 3-й элементыё"
   ]
  },
  {
   "cell_type": "code",
   "execution_count": 46,
   "metadata": {
    "ExecuteTime": {
     "end_time": "2018-09-21T16:58:06.789172Z",
     "start_time": "2018-09-21T16:58:06.780958Z"
    }
   },
   "outputs": [
    {
     "data": {
      "text/plain": [
       "100368"
      ]
     },
     "execution_count": 46,
     "metadata": {},
     "output_type": "execute_result"
    }
   ],
   "source": [
    "my_list = [123, 523, 34, 24]\n",
    "my_list[0] * my_list[2] * my_list[3]"
   ]
  },
  {
   "cell_type": "markdown",
   "metadata": {
    "ExecuteTime": {
     "end_time": "2018-09-13T11:28:53.224416Z",
     "start_time": "2018-09-13T11:28:53.211604Z"
    }
   },
   "source": [
    "##### 3.3 (3 балла)  \n",
    "\n",
    "Расположите строчки от меньшей к большей (с т.з. оператора < ):<br>\n",
    "'abz'<br>\n",
    "'aabz'<br>\n",
    "'Abz'<br>\n",
    "'0.123'<br>\n",
    "'00.123'<br>\n",
    "'-0.123'<br>\n",
    "'0123'<br>\n",
    "''"
   ]
  },
  {
   "cell_type": "code",
   "execution_count": 54,
   "metadata": {
    "ExecuteTime": {
     "end_time": "2018-09-21T16:59:17.111844Z",
     "start_time": "2018-09-21T16:59:17.104284Z"
    }
   },
   "outputs": [
    {
     "data": {
      "text/plain": [
       "True"
      ]
     },
     "execution_count": 54,
     "metadata": {},
     "output_type": "execute_result"
    }
   ],
   "source": [
    "'' < '-0.123' < '0.123' < '00.123' < '0123' < 'Abz' < 'aabz' < 'abz'"
   ]
  },
  {
   "cell_type": "markdown",
   "metadata": {},
   "source": [
    "##### 3.4 (3 балла)  \n",
    "Рассчитайте, сколько окажетеся денег на счету у клиента банка, если он положил x рублей на n лет под 10% годовых. Процены прибавляются к сумме вклада ежегодно"
   ]
  },
  {
   "cell_type": "code",
   "execution_count": 59,
   "metadata": {
    "ExecuteTime": {
     "end_time": "2018-09-21T17:03:59.133401Z",
     "start_time": "2018-09-21T17:03:59.121540Z"
    }
   },
   "outputs": [
    {
     "data": {
      "text/plain": [
       "2593.7424601000025"
      ]
     },
     "execution_count": 59,
     "metadata": {},
     "output_type": "execute_result"
    }
   ],
   "source": [
    "# формула сложного процента: SUM = X * (1 + %)^n\n",
    "\n",
    "x = 1000  # сколько рублей положил\n",
    "n = 10  # сколько лет\n",
    "relative_annual_benefit = 0.1  # 10% годовых\n",
    "\n",
    "result_sum = x * (1 + relative_annual_benefit) ** n\n",
    "result_sum"
   ]
  },
  {
   "cell_type": "markdown",
   "metadata": {},
   "source": [
    "# Домашка 1:"
   ]
  },
  {
   "cell_type": "markdown",
   "metadata": {
    "ExecuteTime": {
     "end_time": "2018-07-23T14:15:49.812245Z",
     "start_time": "2018-07-23T14:15:49.799852Z"
    }
   },
   "source": [
    "##### 1. (2 балла) \n",
    "\n",
    "На вход вам приходит вещественное число, обозначающее время, которое необходимо потратить на задачу (создайте для этого переменную duration). \n",
    "<br>\n",
    "Выведите, сколько времени уйдет, чтобы выполнить 3 такие задачи.\n",
    "<br>\n",
    "__Ввод:__ вещественное число, которое обозначает количество часов (нецелое, например 1.5 -значит 1 час и 0.5 часа, то есть 30 минут). Число часов точно меньше 24.\n",
    "<br>\n",
    "__Вывод:__ h:mm (часы:минуты).\n",
    "\n"
   ]
  },
  {
   "cell_type": "code",
   "execution_count": 67,
   "metadata": {
    "ExecuteTime": {
     "end_time": "2018-09-21T17:09:09.707542Z",
     "start_time": "2018-09-21T17:09:09.694765Z"
    }
   },
   "outputs": [
    {
     "data": {
      "text/plain": [
       "'4:30'"
      ]
     },
     "execution_count": 67,
     "metadata": {},
     "output_type": "execute_result"
    }
   ],
   "source": [
    "duration = 1.5  # количество часов\n",
    "all_tasks_duration = duration * 3\n",
    "all_tasks_hours = str(int(all_tasks_duration))\n",
    "all_tasks_minutes = str(int(all_tasks_duration % 1 * 60))  \n",
    "#  \"% 1\" - остаток от деления на 1, то есть дробная часть числа.\n",
    "all_tasks_hours + ':' + all_tasks_minutes"
   ]
  },
  {
   "cell_type": "markdown",
   "metadata": {
    "ExecuteTime": {
     "end_time": "2018-09-13T11:14:49.555933Z",
     "start_time": "2018-09-13T11:14:49.530687Z"
    }
   },
   "source": [
    "##### 2. (2 балла)  \n",
    "Для двух строк l1 и l2, а так же числа n вывести строчку l3, состоящую из конкатенации l1 и l2, повторенной n раз.<br>\n",
    "Например, для l1='hello', l2='world', n=2, l3 будет равно 'helloworldhelloworld' "
   ]
  },
  {
   "cell_type": "code",
   "execution_count": 70,
   "metadata": {
    "ExecuteTime": {
     "end_time": "2018-09-21T17:09:57.039315Z",
     "start_time": "2018-09-21T17:09:57.027796Z"
    }
   },
   "outputs": [
    {
     "data": {
      "text/plain": [
       "'helloworldhelloworldhelloworld'"
      ]
     },
     "execution_count": 70,
     "metadata": {},
     "output_type": "execute_result"
    }
   ],
   "source": [
    "l1='hello'\n",
    "l2='world'\n",
    "n = 3\n",
    "l3 = (l1 + l2) * n\n",
    "l3"
   ]
  },
  {
   "cell_type": "markdown",
   "metadata": {
    "ExecuteTime": {
     "end_time": "2018-07-23T14:16:20.925801Z",
     "start_time": "2018-07-23T14:16:20.919099Z"
    }
   },
   "source": [
    "##### 3. (2 балла) \n",
    "\n",
    "Электронные часы показывают время в формате hh:mm:ss, то есть сначала записывается обязательно двузначное количество часов, потом обязательно двузначное количество минут, затем обязательно двузначное количество секунд. \n",
    "\n",
    "С начала суток прошло N секунд. Выведите, что покажут часы. В N точно меньше 24 часов."
   ]
  },
  {
   "cell_type": "code",
   "execution_count": 82,
   "metadata": {
    "ExecuteTime": {
     "end_time": "2018-09-21T17:19:49.339606Z",
     "start_time": "2018-09-21T17:19:49.326992Z"
    }
   },
   "outputs": [
    {
     "data": {
      "text/plain": [
       "'01:00:43'"
      ]
     },
     "execution_count": 82,
     "metadata": {},
     "output_type": "execute_result"
    }
   ],
   "source": [
    "n = 3643\n",
    "hours = n // 60 // 60\n",
    "minutes = n // 60 % 60\n",
    "seconds = n % 60\n",
    "\n",
    "# для добавления нулей в начало воспользуемся методом строки .zfill() \n",
    "str(hours).zfill(2) + ':' + str(minutes).zfill(2) + ':' + str(seconds).zfill(2)"
   ]
  },
  {
   "cell_type": "markdown",
   "metadata": {},
   "source": [
    "##### 4. (2 балла) \n",
    "\n",
    "Найдите число Фибоначчи номер n с помощью формулы Бине. [Число Фибоначчи](https://ru.wikipedia.org/wiki/Числа_Фибоначчи)"
   ]
  },
  {
   "cell_type": "markdown",
   "metadata": {
    "ExecuteTime": {
     "end_time": "2018-09-21T17:23:48.355331Z",
     "start_time": "2018-09-21T17:23:48.349783Z"
    }
   },
   "source": [
    "<img src=\"https://wikimedia.org/api/rest_v1/media/math/render/svg/7e13a8a7c316c95f60118e8a3dc9641eb1680dc2\">"
   ]
  },
  {
   "cell_type": "code",
   "execution_count": 92,
   "metadata": {
    "ExecuteTime": {
     "end_time": "2018-09-21T17:27:23.186462Z",
     "start_time": "2018-09-21T17:27:23.176258Z"
    }
   },
   "outputs": [
    {
     "data": {
      "text/plain": [
       "55"
      ]
     },
     "execution_count": 92,
     "metadata": {},
     "output_type": "execute_result"
    }
   ],
   "source": [
    "n = 10\n",
    "fibonacci_n = int ( ( ((1 + 5**0.5) / 2) ** n - ((1 - 5**0.5) / 2) ** n ) / 5 ** 0.5 )\n",
    "fibonacci_n"
   ]
  },
  {
   "cell_type": "code",
   "execution_count": null,
   "metadata": {},
   "outputs": [],
   "source": []
  }
 ],
 "metadata": {
  "kernelspec": {
   "display_name": "Python 3",
   "language": "python",
   "name": "python3"
  },
  "language_info": {
   "codemirror_mode": {
    "name": "ipython",
    "version": 3
   },
   "file_extension": ".py",
   "mimetype": "text/x-python",
   "name": "python",
   "nbconvert_exporter": "python",
   "pygments_lexer": "ipython3",
   "version": "3.6.4"
  }
 },
 "nbformat": 4,
 "nbformat_minor": 2
}
