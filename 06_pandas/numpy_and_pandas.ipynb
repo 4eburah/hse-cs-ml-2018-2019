{
 "cells": [
  {
   "cell_type": "markdown",
   "metadata": {},
   "source": [
    "# NumPy \n",
    "\n",
    "NumPy - это библиотека языка Python для работы с линейной алгеброй. Это быстрый способ работы с данными, так как эта библиотека написана на языке C. И, например, предпочтительно использовать массивы Numpy вместо питоновских листов, так как это будет быстрее и эффективнее. "
   ]
  },
  {
   "cell_type": "markdown",
   "metadata": {},
   "source": [
    "## Использование NumPy"
   ]
  },
  {
   "cell_type": "code",
   "execution_count": 1,
   "metadata": {
    "ExecuteTime": {
     "end_time": "2018-10-25T14:31:47.694902Z",
     "start_time": "2018-10-25T14:31:47.445937Z"
    }
   },
   "outputs": [],
   "source": [
    "import numpy as np"
   ]
  },
  {
   "cell_type": "markdown",
   "metadata": {},
   "source": [
    "## Создание NumPy Arrays"
   ]
  },
  {
   "cell_type": "code",
   "execution_count": 2,
   "metadata": {
    "ExecuteTime": {
     "end_time": "2018-10-25T14:31:47.712817Z",
     "start_time": "2018-10-25T14:31:47.697774Z"
    }
   },
   "outputs": [
    {
     "data": {
      "text/plain": [
       "[1, 2, 3]"
      ]
     },
     "execution_count": 2,
     "metadata": {},
     "output_type": "execute_result"
    }
   ],
   "source": [
    "my_list = [1,2,3]\n",
    "my_list"
   ]
  },
  {
   "cell_type": "code",
   "execution_count": 3,
   "metadata": {
    "ExecuteTime": {
     "end_time": "2018-10-25T14:31:47.722501Z",
     "start_time": "2018-10-25T14:31:47.715938Z"
    }
   },
   "outputs": [
    {
     "data": {
      "text/plain": [
       "array([1, 2, 3])"
      ]
     },
     "execution_count": 3,
     "metadata": {},
     "output_type": "execute_result"
    }
   ],
   "source": [
    "np.array(my_list)"
   ]
  },
  {
   "cell_type": "code",
   "execution_count": 4,
   "metadata": {
    "ExecuteTime": {
     "end_time": "2018-10-25T14:31:47.733078Z",
     "start_time": "2018-10-25T14:31:47.725558Z"
    }
   },
   "outputs": [
    {
     "data": {
      "text/plain": [
       "[[1, 2, 3], [4, 5, 6], [7, 8, 9]]"
      ]
     },
     "execution_count": 4,
     "metadata": {},
     "output_type": "execute_result"
    }
   ],
   "source": [
    "# Создание n-мерных матриц\n",
    "my_matrix = [[1,2,3],[4,5,6],[7,8,9]]\n",
    "my_matrix"
   ]
  },
  {
   "cell_type": "code",
   "execution_count": 5,
   "metadata": {
    "ExecuteTime": {
     "end_time": "2018-10-25T14:31:47.742369Z",
     "start_time": "2018-10-25T14:31:47.736552Z"
    }
   },
   "outputs": [
    {
     "data": {
      "text/plain": [
       "array([[1, 2, 3],\n",
       "       [4, 5, 6],\n",
       "       [7, 8, 9]])"
      ]
     },
     "execution_count": 5,
     "metadata": {},
     "output_type": "execute_result"
    }
   ],
   "source": [
    "np.array(my_matrix)"
   ]
  },
  {
   "cell_type": "markdown",
   "metadata": {},
   "source": [
    "## Встроенные методы"
   ]
  },
  {
   "cell_type": "code",
   "execution_count": 6,
   "metadata": {
    "ExecuteTime": {
     "end_time": "2018-10-25T14:31:47.755713Z",
     "start_time": "2018-10-25T14:31:47.745695Z"
    }
   },
   "outputs": [
    {
     "data": {
      "text/plain": [
       "(array([ 5,  8, 11, 14]),\n",
       " array([ 1,  2,  3,  4,  5,  6,  7,  8,  9, 10, 11, 12, 13, 14, 15, 16, 17,\n",
       "        18, 19]))"
      ]
     },
     "execution_count": 6,
     "metadata": {},
     "output_type": "execute_result"
    }
   ],
   "source": [
    "# Списки\n",
    "np.arange(5, 15, 3), np.arange(1, 20)"
   ]
  },
  {
   "cell_type": "code",
   "execution_count": 7,
   "metadata": {
    "ExecuteTime": {
     "end_time": "2018-10-25T14:31:47.765988Z",
     "start_time": "2018-10-25T14:31:47.759085Z"
    }
   },
   "outputs": [
    {
     "data": {
      "text/plain": [
       "array([0., 0., 0., 0., 0.])"
      ]
     },
     "execution_count": 7,
     "metadata": {},
     "output_type": "execute_result"
    }
   ],
   "source": [
    "# Нули\n",
    "np.zeros(5)"
   ]
  },
  {
   "cell_type": "code",
   "execution_count": 8,
   "metadata": {
    "ExecuteTime": {
     "end_time": "2018-10-25T14:31:47.778515Z",
     "start_time": "2018-10-25T14:31:47.770782Z"
    }
   },
   "outputs": [
    {
     "data": {
      "text/plain": [
       "array([[0., 0., 0.],\n",
       "       [0., 0., 0.],\n",
       "       [0., 0., 0.]])"
      ]
     },
     "execution_count": 8,
     "metadata": {},
     "output_type": "execute_result"
    }
   ],
   "source": [
    "np.zeros((3, 3))"
   ]
  },
  {
   "cell_type": "code",
   "execution_count": 9,
   "metadata": {
    "ExecuteTime": {
     "end_time": "2018-10-25T14:31:47.791602Z",
     "start_time": "2018-10-25T14:31:47.781787Z"
    }
   },
   "outputs": [
    {
     "data": {
      "text/plain": [
       "array([1., 1., 1., 1., 1.])"
      ]
     },
     "execution_count": 9,
     "metadata": {},
     "output_type": "execute_result"
    }
   ],
   "source": [
    "# Единицы\n",
    "np.ones(5)"
   ]
  },
  {
   "cell_type": "code",
   "execution_count": 10,
   "metadata": {
    "ExecuteTime": {
     "end_time": "2018-10-25T14:31:47.801938Z",
     "start_time": "2018-10-25T14:31:47.794901Z"
    }
   },
   "outputs": [
    {
     "data": {
      "text/plain": [
       "array([[1., 1., 1., 1., 1., 1.],\n",
       "       [1., 1., 1., 1., 1., 1.],\n",
       "       [1., 1., 1., 1., 1., 1.],\n",
       "       [1., 1., 1., 1., 1., 1.]])"
      ]
     },
     "execution_count": 10,
     "metadata": {},
     "output_type": "execute_result"
    }
   ],
   "source": [
    "np.ones((4, 6))"
   ]
  },
  {
   "cell_type": "code",
   "execution_count": 11,
   "metadata": {
    "ExecuteTime": {
     "end_time": "2018-10-25T14:31:47.813605Z",
     "start_time": "2018-10-25T14:31:47.805113Z"
    }
   },
   "outputs": [
    {
     "data": {
      "text/plain": [
       "array([10.        , 10.71428571, 11.42857143, 12.14285714, 12.85714286,\n",
       "       13.57142857, 14.28571429, 15.        , 15.71428571, 16.42857143,\n",
       "       17.14285714, 17.85714286, 18.57142857, 19.28571429, 20.        ])"
      ]
     },
     "execution_count": 11,
     "metadata": {},
     "output_type": "execute_result"
    }
   ],
   "source": [
    "# Равномерно распределенное заданное кол-во чисел в интервале\n",
    "np.linspace(10,20,15)"
   ]
  },
  {
   "cell_type": "code",
   "execution_count": 12,
   "metadata": {
    "ExecuteTime": {
     "end_time": "2018-10-25T14:31:47.825164Z",
     "start_time": "2018-10-25T14:31:47.817098Z"
    }
   },
   "outputs": [
    {
     "data": {
      "text/plain": [
       "array([[1., 0., 0., 0., 0.],\n",
       "       [0., 1., 0., 0., 0.],\n",
       "       [0., 0., 1., 0., 0.],\n",
       "       [0., 0., 0., 1., 0.],\n",
       "       [0., 0., 0., 0., 1.]])"
      ]
     },
     "execution_count": 12,
     "metadata": {},
     "output_type": "execute_result"
    }
   ],
   "source": [
    "# Единичная матрица\n",
    "np.eye(5)"
   ]
  },
  {
   "cell_type": "code",
   "execution_count": 13,
   "metadata": {
    "ExecuteTime": {
     "end_time": "2018-10-25T14:31:47.836043Z",
     "start_time": "2018-10-25T14:31:47.828475Z"
    }
   },
   "outputs": [
    {
     "data": {
      "text/plain": [
       "array([0.90076307, 0.11386098, 0.48146272, 0.77812832, 0.57410106])"
      ]
     },
     "execution_count": 13,
     "metadata": {},
     "output_type": "execute_result"
    }
   ],
   "source": [
    "# Случайные равномерно распределенные числа в диапазоне [0; 1)\n",
    "np.random.rand(5)"
   ]
  },
  {
   "cell_type": "code",
   "execution_count": 14,
   "metadata": {
    "ExecuteTime": {
     "end_time": "2018-10-25T14:31:47.845749Z",
     "start_time": "2018-10-25T14:31:47.838991Z"
    }
   },
   "outputs": [
    {
     "data": {
      "text/plain": [
       "array([[0.25161718, 0.83851329, 0.09219767],\n",
       "       [0.86082685, 0.72862183, 0.31493517],\n",
       "       [0.45612215, 0.7422485 , 0.96766418],\n",
       "       [0.51950014, 0.84051228, 0.82207809],\n",
       "       [0.74490925, 0.8666751 , 0.91954412]])"
      ]
     },
     "execution_count": 14,
     "metadata": {},
     "output_type": "execute_result"
    }
   ],
   "source": [
    "np.random.rand(5, 3)"
   ]
  },
  {
   "cell_type": "code",
   "execution_count": 15,
   "metadata": {
    "ExecuteTime": {
     "end_time": "2018-10-25T14:31:47.855835Z",
     "start_time": "2018-10-25T14:31:47.849130Z"
    }
   },
   "outputs": [
    {
     "data": {
      "text/plain": [
       "array([ 1.60539105, -1.27862487,  1.80242471, -0.78154246, -0.25865627])"
      ]
     },
     "execution_count": 15,
     "metadata": {},
     "output_type": "execute_result"
    }
   ],
   "source": [
    "# Случайные нормально распределенные числа\n",
    "np.random.randn(5)"
   ]
  },
  {
   "cell_type": "code",
   "execution_count": 16,
   "metadata": {
    "ExecuteTime": {
     "end_time": "2018-10-25T14:31:47.866552Z",
     "start_time": "2018-10-25T14:31:47.859937Z"
    }
   },
   "outputs": [
    {
     "data": {
      "text/plain": [
       "array([[-0.37270708, -0.55674793,  1.54316635, -0.12735403, -1.89279132],\n",
       "       [-0.75113121,  0.46174318, -0.02188428, -0.38858685, -0.91430134],\n",
       "       [ 0.36534302,  1.29429429, -0.24868884,  1.06758273, -0.48095709]])"
      ]
     },
     "execution_count": 16,
     "metadata": {},
     "output_type": "execute_result"
    }
   ],
   "source": [
    "np.random.randn(3, 5)"
   ]
  },
  {
   "cell_type": "code",
   "execution_count": 17,
   "metadata": {
    "ExecuteTime": {
     "end_time": "2018-10-25T14:31:47.877627Z",
     "start_time": "2018-10-25T14:31:47.869692Z"
    }
   },
   "outputs": [
    {
     "data": {
      "text/plain": [
       "14"
      ]
     },
     "execution_count": 17,
     "metadata": {},
     "output_type": "execute_result"
    }
   ],
   "source": [
    "# Случайные равномерно распределенные целые числа в диапазоне [min; max)\n",
    "np.random.randint(10, 20)"
   ]
  },
  {
   "cell_type": "code",
   "execution_count": 18,
   "metadata": {
    "ExecuteTime": {
     "end_time": "2018-10-25T14:31:47.888428Z",
     "start_time": "2018-10-25T14:31:47.881099Z"
    }
   },
   "outputs": [
    {
     "data": {
      "text/plain": [
       "array([17, 16, 17, 14, 17, 10, 15, 15, 19, 12, 12, 18, 17, 16, 15])"
      ]
     },
     "execution_count": 18,
     "metadata": {},
     "output_type": "execute_result"
    }
   ],
   "source": [
    "np.random.randint(10, 20, 15)"
   ]
  },
  {
   "cell_type": "markdown",
   "metadata": {},
   "source": [
    "## Методы"
   ]
  },
  {
   "cell_type": "code",
   "execution_count": 19,
   "metadata": {
    "ExecuteTime": {
     "end_time": "2018-10-25T14:31:47.896588Z",
     "start_time": "2018-10-25T14:31:47.891563Z"
    }
   },
   "outputs": [],
   "source": [
    "ar = np.arange(42)\n",
    "arran = np.random.randint(10, 20, 15) "
   ]
  },
  {
   "cell_type": "code",
   "execution_count": 20,
   "metadata": {
    "ExecuteTime": {
     "end_time": "2018-10-25T14:31:47.907284Z",
     "start_time": "2018-10-25T14:31:47.900628Z"
    }
   },
   "outputs": [
    {
     "data": {
      "text/plain": [
       "array([ 0,  1,  2,  3,  4,  5,  6,  7,  8,  9, 10, 11, 12, 13, 14, 15, 16,\n",
       "       17, 18, 19, 20, 21, 22, 23, 24, 25, 26, 27, 28, 29, 30, 31, 32, 33,\n",
       "       34, 35, 36, 37, 38, 39, 40, 41])"
      ]
     },
     "execution_count": 20,
     "metadata": {},
     "output_type": "execute_result"
    }
   ],
   "source": [
    "ar"
   ]
  },
  {
   "cell_type": "code",
   "execution_count": 21,
   "metadata": {
    "ExecuteTime": {
     "end_time": "2018-10-25T14:31:47.918064Z",
     "start_time": "2018-10-25T14:31:47.910706Z"
    }
   },
   "outputs": [
    {
     "data": {
      "text/plain": [
       "array([14, 12, 14, 13, 18, 11, 16, 14, 19, 17, 11, 12, 17, 18, 17])"
      ]
     },
     "execution_count": 21,
     "metadata": {},
     "output_type": "execute_result"
    }
   ],
   "source": [
    "arran"
   ]
  },
  {
   "cell_type": "code",
   "execution_count": 22,
   "metadata": {
    "ExecuteTime": {
     "end_time": "2018-10-25T14:31:47.928655Z",
     "start_time": "2018-10-25T14:31:47.921193Z"
    }
   },
   "outputs": [
    {
     "data": {
      "text/plain": [
       "array([[ 0,  1,  2,  3,  4,  5],\n",
       "       [ 6,  7,  8,  9, 10, 11],\n",
       "       [12, 13, 14, 15, 16, 17],\n",
       "       [18, 19, 20, 21, 22, 23],\n",
       "       [24, 25, 26, 27, 28, 29],\n",
       "       [30, 31, 32, 33, 34, 35],\n",
       "       [36, 37, 38, 39, 40, 41]])"
      ]
     },
     "execution_count": 22,
     "metadata": {},
     "output_type": "execute_result"
    }
   ],
   "source": [
    "# Преобразование в другую размерность\n",
    "ar.reshape(7, 6)"
   ]
  },
  {
   "cell_type": "code",
   "execution_count": 23,
   "metadata": {
    "ExecuteTime": {
     "end_time": "2018-10-25T14:31:47.941091Z",
     "start_time": "2018-10-25T14:31:47.932376Z"
    }
   },
   "outputs": [
    {
     "data": {
      "text/plain": [
       "19"
      ]
     },
     "execution_count": 23,
     "metadata": {},
     "output_type": "execute_result"
    }
   ],
   "source": [
    "# Поиск максимума массива\n",
    "arran.max()"
   ]
  },
  {
   "cell_type": "code",
   "execution_count": 24,
   "metadata": {
    "ExecuteTime": {
     "end_time": "2018-10-25T14:31:47.953367Z",
     "start_time": "2018-10-25T14:31:47.944520Z"
    }
   },
   "outputs": [
    {
     "data": {
      "text/plain": [
       "8"
      ]
     },
     "execution_count": 24,
     "metadata": {},
     "output_type": "execute_result"
    }
   ],
   "source": [
    "# Поиск положения максимума массива\n",
    "arran.argmax()"
   ]
  },
  {
   "cell_type": "code",
   "execution_count": 25,
   "metadata": {
    "ExecuteTime": {
     "end_time": "2018-10-25T14:31:47.963707Z",
     "start_time": "2018-10-25T14:31:47.957013Z"
    }
   },
   "outputs": [
    {
     "data": {
      "text/plain": [
       "11"
      ]
     },
     "execution_count": 25,
     "metadata": {},
     "output_type": "execute_result"
    }
   ],
   "source": [
    "# Поиск минимума массива\n",
    "arran.min()"
   ]
  },
  {
   "cell_type": "code",
   "execution_count": 26,
   "metadata": {
    "ExecuteTime": {
     "end_time": "2018-10-25T14:31:47.973970Z",
     "start_time": "2018-10-25T14:31:47.966492Z"
    }
   },
   "outputs": [
    {
     "data": {
      "text/plain": [
       "5"
      ]
     },
     "execution_count": 26,
     "metadata": {},
     "output_type": "execute_result"
    }
   ],
   "source": [
    "# Поиск положения минимума массива\n",
    "arran.argmin()"
   ]
  },
  {
   "cell_type": "code",
   "execution_count": 27,
   "metadata": {
    "ExecuteTime": {
     "end_time": "2018-10-25T14:31:47.983774Z",
     "start_time": "2018-10-25T14:31:47.977333Z"
    }
   },
   "outputs": [
    {
     "data": {
      "text/plain": [
       "(42,)"
      ]
     },
     "execution_count": 27,
     "metadata": {},
     "output_type": "execute_result"
    }
   ],
   "source": [
    "# Вектор\n",
    "ar.shape"
   ]
  },
  {
   "cell_type": "code",
   "execution_count": 28,
   "metadata": {
    "ExecuteTime": {
     "end_time": "2018-10-25T14:31:47.995300Z",
     "start_time": "2018-10-25T14:31:47.987397Z"
    }
   },
   "outputs": [
    {
     "data": {
      "text/plain": [
       "array([[ 0,  1,  2,  3,  4,  5,  6,  7,  8,  9, 10, 11, 12, 13, 14, 15,\n",
       "        16, 17, 18, 19, 20, 21, 22, 23, 24, 25, 26, 27, 28, 29, 30, 31,\n",
       "        32, 33, 34, 35, 36, 37, 38, 39, 40, 41]])"
      ]
     },
     "execution_count": 28,
     "metadata": {},
     "output_type": "execute_result"
    }
   ],
   "source": [
    "# Массив\n",
    "ar.reshape(1, 42)"
   ]
  },
  {
   "cell_type": "code",
   "execution_count": 29,
   "metadata": {
    "ExecuteTime": {
     "end_time": "2018-10-25T14:31:48.007282Z",
     "start_time": "2018-10-25T14:31:47.998966Z"
    }
   },
   "outputs": [
    {
     "data": {
      "text/plain": [
       "(1, 42)"
      ]
     },
     "execution_count": 29,
     "metadata": {},
     "output_type": "execute_result"
    }
   ],
   "source": [
    "# Изменение размерности\n",
    "ar.reshape(1, 42).shape"
   ]
  },
  {
   "cell_type": "code",
   "execution_count": 30,
   "metadata": {
    "ExecuteTime": {
     "end_time": "2018-10-25T14:31:48.018485Z",
     "start_time": "2018-10-25T14:31:48.010180Z"
    }
   },
   "outputs": [
    {
     "data": {
      "text/plain": [
       "array([[ 0,  1],\n",
       "       [ 2,  3],\n",
       "       [ 4,  5],\n",
       "       [ 6,  7],\n",
       "       [ 8,  9],\n",
       "       [10, 11],\n",
       "       [12, 13],\n",
       "       [14, 15],\n",
       "       [16, 17],\n",
       "       [18, 19],\n",
       "       [20, 21],\n",
       "       [22, 23],\n",
       "       [24, 25],\n",
       "       [26, 27],\n",
       "       [28, 29],\n",
       "       [30, 31],\n",
       "       [32, 33],\n",
       "       [34, 35],\n",
       "       [36, 37],\n",
       "       [38, 39],\n",
       "       [40, 41]])"
      ]
     },
     "execution_count": 30,
     "metadata": {},
     "output_type": "execute_result"
    }
   ],
   "source": [
    "ar.reshape(21, 2)"
   ]
  },
  {
   "cell_type": "code",
   "execution_count": 31,
   "metadata": {
    "ExecuteTime": {
     "end_time": "2018-10-25T14:31:48.030024Z",
     "start_time": "2018-10-25T14:31:48.022374Z"
    }
   },
   "outputs": [
    {
     "data": {
      "text/plain": [
       "(21, 2)"
      ]
     },
     "execution_count": 31,
     "metadata": {},
     "output_type": "execute_result"
    }
   ],
   "source": [
    "ar.reshape(21, 2).shape"
   ]
  },
  {
   "cell_type": "code",
   "execution_count": 32,
   "metadata": {
    "ExecuteTime": {
     "end_time": "2018-10-25T14:31:48.040766Z",
     "start_time": "2018-10-25T14:31:48.033011Z"
    }
   },
   "outputs": [
    {
     "data": {
      "text/plain": [
       "dtype('int64')"
      ]
     },
     "execution_count": 32,
     "metadata": {},
     "output_type": "execute_result"
    }
   ],
   "source": [
    "# Тип данных\n",
    "ar.dtype"
   ]
  },
  {
   "cell_type": "code",
   "execution_count": 33,
   "metadata": {
    "ExecuteTime": {
     "end_time": "2018-10-25T14:31:48.051908Z",
     "start_time": "2018-10-25T14:31:48.044186Z"
    }
   },
   "outputs": [
    {
     "data": {
      "text/plain": [
       "array([0, 1, 2, 3, 4, 5, 6, 7, 8, 9])"
      ]
     },
     "execution_count": 33,
     "metadata": {},
     "output_type": "execute_result"
    }
   ],
   "source": [
    "# Фильтрация \n",
    "ar[ar<10]"
   ]
  },
  {
   "cell_type": "markdown",
   "metadata": {},
   "source": [
    "## Индексирование и выбор части"
   ]
  },
  {
   "cell_type": "code",
   "execution_count": 34,
   "metadata": {
    "ExecuteTime": {
     "end_time": "2018-10-25T14:31:48.064328Z",
     "start_time": "2018-10-25T14:31:48.056022Z"
    }
   },
   "outputs": [
    {
     "data": {
      "text/plain": [
       "5"
      ]
     },
     "execution_count": 34,
     "metadata": {},
     "output_type": "execute_result"
    }
   ],
   "source": [
    "# Счет позиции начинается с 0\n",
    "# Одно число на 5 месте\n",
    "ar[5]"
   ]
  },
  {
   "cell_type": "code",
   "execution_count": 35,
   "metadata": {
    "ExecuteTime": {
     "end_time": "2018-10-25T14:31:48.075383Z",
     "start_time": "2018-10-25T14:31:48.068059Z"
    }
   },
   "outputs": [
    {
     "data": {
      "text/plain": [
       "array([0, 1, 2, 3, 4])"
      ]
     },
     "execution_count": 35,
     "metadata": {},
     "output_type": "execute_result"
    }
   ],
   "source": [
    "# Первые 5 чисел\n",
    "ar[:5]"
   ]
  },
  {
   "cell_type": "code",
   "execution_count": 36,
   "metadata": {
    "ExecuteTime": {
     "end_time": "2018-10-25T14:31:48.088867Z",
     "start_time": "2018-10-25T14:31:48.079841Z"
    }
   },
   "outputs": [
    {
     "data": {
      "text/plain": [
       "array([ 0,  1,  2,  3,  4, 42, 42, 42, 42, 42, 10, 11, 12, 13, 14, 15, 16,\n",
       "       17, 18, 19, 20, 21, 22, 23, 24, 25, 26, 27, 28, 29, 30, 31, 32, 33,\n",
       "       34, 35, 36, 37, 38, 39, 40, 41])"
      ]
     },
     "execution_count": 36,
     "metadata": {},
     "output_type": "execute_result"
    }
   ],
   "source": [
    "# Присвоение части чисел другого значения\n",
    "ar[5:10] = 42\n",
    "ar"
   ]
  },
  {
   "cell_type": "code",
   "execution_count": 37,
   "metadata": {
    "ExecuteTime": {
     "end_time": "2018-10-25T14:31:48.098816Z",
     "start_time": "2018-10-25T14:31:48.091507Z"
    }
   },
   "outputs": [
    {
     "data": {
      "text/plain": [
       "array([37, 38, 39, 40, 41])"
      ]
     },
     "execution_count": 37,
     "metadata": {},
     "output_type": "execute_result"
    }
   ],
   "source": [
    "# Выбор части данных, в этом случае 5 последних\n",
    "slice_ar = ar[-5:]\n",
    "slice_ar"
   ]
  },
  {
   "cell_type": "code",
   "execution_count": 38,
   "metadata": {
    "ExecuteTime": {
     "end_time": "2018-10-25T14:31:48.111703Z",
     "start_time": "2018-10-25T14:31:48.103042Z"
    }
   },
   "outputs": [
    {
     "data": {
      "text/plain": [
       "array([ 0,  1,  2,  3,  4, 42, 42, 42, 42, 42, 10, 11, 12, 13, 14, 15, 16,\n",
       "       17, 18, 19, 20, 21, 22, 23, 24, 25, 26, 27, 28, 29, 30, 31, 32, 33,\n",
       "       34, 35, 36, 37, 38, 39, 40, 41])"
      ]
     },
     "execution_count": 38,
     "metadata": {},
     "output_type": "execute_result"
    }
   ],
   "source": [
    "# Копирование массива\n",
    "ar_copy = ar.copy()\n",
    "ar_copy"
   ]
  },
  {
   "cell_type": "code",
   "execution_count": 39,
   "metadata": {
    "ExecuteTime": {
     "end_time": "2018-10-25T14:31:48.123902Z",
     "start_time": "2018-10-25T14:31:48.115038Z"
    }
   },
   "outputs": [
    {
     "data": {
      "text/plain": [
       "array([[  3,   6,   9],\n",
       "       [ 10,  15,  30],\n",
       "       [ 42,  88, 333]])"
      ]
     },
     "execution_count": 39,
     "metadata": {},
     "output_type": "execute_result"
    }
   ],
   "source": [
    "# Создание матрицы\n",
    "data = np.array(([3, 6, 9], [10, 15, 30], [42, 88, 333]))\n",
    "data"
   ]
  },
  {
   "cell_type": "code",
   "execution_count": 40,
   "metadata": {
    "ExecuteTime": {
     "end_time": "2018-10-25T14:31:48.136271Z",
     "start_time": "2018-10-25T14:31:48.127953Z"
    }
   },
   "outputs": [
    {
     "data": {
      "text/plain": [
       "array([ 42,  88, 333])"
      ]
     },
     "execution_count": 40,
     "metadata": {},
     "output_type": "execute_result"
    }
   ],
   "source": [
    "# Выбор строки\n",
    "data[2]"
   ]
  },
  {
   "cell_type": "code",
   "execution_count": 41,
   "metadata": {
    "ExecuteTime": {
     "end_time": "2018-10-25T14:31:48.147526Z",
     "start_time": "2018-10-25T14:31:48.139901Z"
    }
   },
   "outputs": [
    {
     "data": {
      "text/plain": [
       "42"
      ]
     },
     "execution_count": 41,
     "metadata": {},
     "output_type": "execute_result"
    }
   ],
   "source": [
    "# Выбор числа в матрице\n",
    "data[2][0]"
   ]
  },
  {
   "cell_type": "code",
   "execution_count": 42,
   "metadata": {
    "ExecuteTime": {
     "end_time": "2018-10-25T14:31:48.159614Z",
     "start_time": "2018-10-25T14:31:48.151534Z"
    }
   },
   "outputs": [
    {
     "data": {
      "text/plain": [
       "array([[ 6,  9],\n",
       "       [15, 30]])"
      ]
     },
     "execution_count": 42,
     "metadata": {},
     "output_type": "execute_result"
    }
   ],
   "source": [
    "data[:2,1:]"
   ]
  },
  {
   "cell_type": "code",
   "execution_count": 43,
   "metadata": {
    "ExecuteTime": {
     "end_time": "2018-10-25T14:31:48.170252Z",
     "start_time": "2018-10-25T14:31:48.162745Z"
    }
   },
   "outputs": [
    {
     "data": {
      "text/plain": [
       "array([[ 42,  88, 333],\n",
       "       [  3,   6,   9]])"
      ]
     },
     "execution_count": 43,
     "metadata": {},
     "output_type": "execute_result"
    }
   ],
   "source": [
    "data[[2, 0]]"
   ]
  },
  {
   "cell_type": "markdown",
   "metadata": {},
   "source": [
    "## Операции"
   ]
  },
  {
   "cell_type": "code",
   "execution_count": 44,
   "metadata": {
    "ExecuteTime": {
     "end_time": "2018-10-25T14:31:48.180103Z",
     "start_time": "2018-10-25T14:31:48.173581Z"
    }
   },
   "outputs": [
    {
     "data": {
      "text/plain": [
       "array([ 0,  2,  4,  6,  8, 84, 84, 84, 84, 84, 20, 22, 24, 26, 28, 30, 32,\n",
       "       34, 36, 38, 40, 42, 44, 46, 48, 50, 52, 54, 56, 58, 60, 62, 64, 66,\n",
       "       68, 70, 72, 74, 76, 78, 80, 82])"
      ]
     },
     "execution_count": 44,
     "metadata": {},
     "output_type": "execute_result"
    }
   ],
   "source": [
    "ar + ar"
   ]
  },
  {
   "cell_type": "code",
   "execution_count": 45,
   "metadata": {
    "ExecuteTime": {
     "end_time": "2018-10-25T14:31:48.196205Z",
     "start_time": "2018-10-25T14:31:48.184394Z"
    }
   },
   "outputs": [
    {
     "name": "stderr",
     "output_type": "stream",
     "text": [
      "/Users/yellowduck/miniconda/lib/python3.6/site-packages/ipykernel_launcher.py:1: RuntimeWarning: divide by zero encountered in true_divide\n",
      "  \"\"\"Entry point for launching an IPython kernel.\n"
     ]
    },
    {
     "data": {
      "text/plain": [
       "array([       inf, 1.        , 0.5       , 0.33333333, 0.25      ,\n",
       "       0.02380952, 0.02380952, 0.02380952, 0.02380952, 0.02380952,\n",
       "       0.1       , 0.09090909, 0.08333333, 0.07692308, 0.07142857,\n",
       "       0.06666667, 0.0625    , 0.05882353, 0.05555556, 0.05263158,\n",
       "       0.05      , 0.04761905, 0.04545455, 0.04347826, 0.04166667,\n",
       "       0.04      , 0.03846154, 0.03703704, 0.03571429, 0.03448276,\n",
       "       0.03333333, 0.03225806, 0.03125   , 0.03030303, 0.02941176,\n",
       "       0.02857143, 0.02777778, 0.02702703, 0.02631579, 0.02564103,\n",
       "       0.025     , 0.02439024])"
      ]
     },
     "execution_count": 45,
     "metadata": {},
     "output_type": "execute_result"
    }
   ],
   "source": [
    "1/ar"
   ]
  },
  {
   "cell_type": "code",
   "execution_count": 46,
   "metadata": {
    "ExecuteTime": {
     "end_time": "2018-10-25T14:31:48.209446Z",
     "start_time": "2018-10-25T14:31:48.201398Z"
    }
   },
   "outputs": [
    {
     "data": {
      "text/plain": [
       "array([0.        , 1.        , 1.41421356, 1.73205081, 2.        ,\n",
       "       6.4807407 , 6.4807407 , 6.4807407 , 6.4807407 , 6.4807407 ,\n",
       "       3.16227766, 3.31662479, 3.46410162, 3.60555128, 3.74165739,\n",
       "       3.87298335, 4.        , 4.12310563, 4.24264069, 4.35889894,\n",
       "       4.47213595, 4.58257569, 4.69041576, 4.79583152, 4.89897949,\n",
       "       5.        , 5.09901951, 5.19615242, 5.29150262, 5.38516481,\n",
       "       5.47722558, 5.56776436, 5.65685425, 5.74456265, 5.83095189,\n",
       "       5.91607978, 6.        , 6.08276253, 6.164414  , 6.244998  ,\n",
       "       6.32455532, 6.40312424])"
      ]
     },
     "execution_count": 46,
     "metadata": {},
     "output_type": "execute_result"
    }
   ],
   "source": [
    "np.sqrt(ar)"
   ]
  },
  {
   "cell_type": "code",
   "execution_count": 47,
   "metadata": {
    "ExecuteTime": {
     "end_time": "2018-10-25T14:31:48.216582Z",
     "start_time": "2018-10-25T14:31:48.212482Z"
    }
   },
   "outputs": [],
   "source": [
    "# np.exp(), np.max(), np.sin(), np.log()"
   ]
  },
  {
   "cell_type": "code",
   "execution_count": 48,
   "metadata": {
    "ExecuteTime": {
     "end_time": "2018-10-25T14:31:48.230703Z",
     "start_time": "2018-10-25T14:31:48.220716Z"
    }
   },
   "outputs": [
    {
     "name": "stderr",
     "output_type": "stream",
     "text": [
      "/Users/yellowduck/miniconda/lib/python3.6/site-packages/ipykernel_launcher.py:1: RuntimeWarning: divide by zero encountered in log\n",
      "  \"\"\"Entry point for launching an IPython kernel.\n"
     ]
    },
    {
     "data": {
      "text/plain": [
       "array([      -inf, 0.        , 0.69314718, 1.09861229, 1.38629436,\n",
       "       3.73766962, 3.73766962, 3.73766962, 3.73766962, 3.73766962,\n",
       "       2.30258509, 2.39789527, 2.48490665, 2.56494936, 2.63905733,\n",
       "       2.7080502 , 2.77258872, 2.83321334, 2.89037176, 2.94443898,\n",
       "       2.99573227, 3.04452244, 3.09104245, 3.13549422, 3.17805383,\n",
       "       3.21887582, 3.25809654, 3.29583687, 3.33220451, 3.36729583,\n",
       "       3.40119738, 3.4339872 , 3.4657359 , 3.49650756, 3.52636052,\n",
       "       3.55534806, 3.58351894, 3.61091791, 3.63758616, 3.66356165,\n",
       "       3.68887945, 3.71357207])"
      ]
     },
     "execution_count": 48,
     "metadata": {},
     "output_type": "execute_result"
    }
   ],
   "source": [
    "np.log(ar)"
   ]
  },
  {
   "cell_type": "markdown",
   "metadata": {},
   "source": [
    "## Блиц\n",
    "##### 1. Что больше, $\\pi^e$ или $e^\\pi$? Выведете результат $\\pi^e > e^\\pi$ \n",
    "\n",
    "Воспользуйтесь встроенными константами np.pi и np.e"
   ]
  },
  {
   "cell_type": "code",
   "execution_count": null,
   "metadata": {},
   "outputs": [],
   "source": []
  },
  {
   "cell_type": "markdown",
   "metadata": {},
   "source": [
    "##### 2. Фильтрация элементов в массиве\n",
    "\n",
    "(1 балл) Создайте массив из последовательности чисел от 1 до 10 (функция <a href=\"https://docs.scipy.org/doc/numpy/reference/generated/numpy.arange.html\">np.arange</a>)\n",
    "\n",
    "(1 балл) Выведите этот массив в обратном порядке. \n",
    "\n",
    "(1 балл) Выведите каждый второй элемент. \n",
    "\n",
    "(1 балл) Выведите элементы, большие числа 3. (<a href=\"https://docs.scipy.org/doc/numpy/reference/arrays.indexing.html\">numpy indexing tutorial</a>)"
   ]
  },
  {
   "cell_type": "code",
   "execution_count": null,
   "metadata": {},
   "outputs": [],
   "source": []
  },
  {
   "cell_type": "markdown",
   "metadata": {},
   "source": [
    "##### 3.  Операции с массивами\n",
    "\n",
    "(1 балл) Создайте 5 одномерных массивов длины 7: первый из единиц, второй из двоек и т.д.\n",
    "\n",
    "(1 балл) Объедините массивы с помощью функции <a href=\"https://docs.scipy.org/doc/numpy/reference/generated/numpy.vstack.html\">np.vstack</a> в матрицу A (на самом деле 2-мерный массив).\n",
    "\n",
    "(1 балл) Сделайте копию А с помощью <a href=\"https://docs.scipy.org/doc/numpy/reference/generated/numpy.copy.html\">np.copy</a> и назовите её B.\n",
    "\n",
    "(1 балл) Вычислите <a href=\"https://ru.wikipedia.org/wiki/Умножение_матриц\">матричное произведение</a> (оператор @) между матрицей A и B транспонированной (метод <a href=\"https://docs.scipy.org/doc/numpy-1.9.1/reference/generated/numpy.ndarray.T.html\">.T</a>).\n",
    "\n",
    "Выведите ответ."
   ]
  },
  {
   "cell_type": "code",
   "execution_count": null,
   "metadata": {},
   "outputs": [],
   "source": []
  },
  {
   "cell_type": "markdown",
   "metadata": {},
   "source": [
    "##### 4. Max / min\n",
    "\n",
    "Найдите максимум и минимум массива A (методы <a href=\"https://docs.scipy.org/doc/numpy/reference/generated/numpy.ndarray.max.html\">.max</a> и <a href=\"https://docs.scipy.org/doc/numpy/reference/generated/numpy.ndarray.min.html\">.min</a> класса numpy.ndarray). Так же найдите максимумы в строках и столбцах (параметр axis)."
   ]
  },
  {
   "cell_type": "code",
   "execution_count": null,
   "metadata": {},
   "outputs": [],
   "source": []
  },
  {
   "cell_type": "markdown",
   "metadata": {
    "ExecuteTime": {
     "end_time": "2018-10-25T12:14:25.501301Z",
     "start_time": "2018-10-25T12:14:25.488557Z"
    }
   },
   "source": [
    "##### 5. Индексирование*\n",
    "Напишите функцию, возвращающую максимальный элемент в векторе `x` среди элементов, перед которыми стоит число 0. <br>\n",
    "Для `x = np.array([6, 2, 0, 3, 0, 0, 5, 7, 0])` ответом является `5`. Если нулевых элементов нет, функция должна возвращать None.\n",
    "\n",
    "Для решения можно использовать функцию <a href=\"https://docs.scipy.org/doc/numpy/reference/generated/numpy.where.html\">np.where</a>. Эта функция может быть использована для получения индексов элементов в массиве, которые подчиняются логическому условию. Например:\n",
    "`np.where(np.array([1, 4, 7, 5, 2]) % 2 == 0)[0]` возвращает индексы четных элементов: `array([1, 4])`"
   ]
  },
  {
   "cell_type": "code",
   "execution_count": null,
   "metadata": {},
   "outputs": [],
   "source": []
  },
  {
   "cell_type": "markdown",
   "metadata": {},
   "source": [
    "# Pandas"
   ]
  },
  {
   "cell_type": "markdown",
   "metadata": {},
   "source": [
    "## Series"
   ]
  },
  {
   "cell_type": "markdown",
   "metadata": {},
   "source": [
    "Начнем изучение pandas с рядов. Ряды очень похожи на NumPy array. Различие в том, что ряды могут иметь не только числовые индексы, а состоящие из любых Python объектов.\n",
    "\n",
    "Разберем некоторые примеры."
   ]
  },
  {
   "cell_type": "code",
   "execution_count": 49,
   "metadata": {
    "ExecuteTime": {
     "end_time": "2018-10-25T14:31:48.854928Z",
     "start_time": "2018-10-25T14:31:48.234927Z"
    }
   },
   "outputs": [],
   "source": [
    "import numpy as np\n",
    "import pandas as pd"
   ]
  },
  {
   "cell_type": "markdown",
   "metadata": {},
   "source": [
    "### Создание\n",
    "\n",
    "В ряд можно превратить лист, numpy array, или словарь:"
   ]
  },
  {
   "cell_type": "code",
   "execution_count": 50,
   "metadata": {
    "ExecuteTime": {
     "end_time": "2018-10-25T14:31:48.868900Z",
     "start_time": "2018-10-25T14:31:48.859431Z"
    }
   },
   "outputs": [],
   "source": [
    "spells = ['Accio','Riddikulus','Expelliarmus']\n",
    "power = [100, 300, 500]\n",
    "arr = np.array([100, 300, 500])\n",
    "dict_of_spells = {'Accio':100, 'Riddikulus':200, 'Expelliarmus':300}"
   ]
  },
  {
   "cell_type": "markdown",
   "metadata": {},
   "source": [
    "**Лист**"
   ]
  },
  {
   "cell_type": "code",
   "execution_count": 51,
   "metadata": {
    "ExecuteTime": {
     "end_time": "2018-10-25T14:31:48.881325Z",
     "start_time": "2018-10-25T14:31:48.872812Z"
    }
   },
   "outputs": [
    {
     "data": {
      "text/plain": [
       "0    100\n",
       "1    300\n",
       "2    500\n",
       "dtype: int64"
      ]
     },
     "execution_count": 51,
     "metadata": {},
     "output_type": "execute_result"
    }
   ],
   "source": [
    "pd.Series(power)"
   ]
  },
  {
   "cell_type": "code",
   "execution_count": 52,
   "metadata": {
    "ExecuteTime": {
     "end_time": "2018-10-25T14:31:48.892669Z",
     "start_time": "2018-10-25T14:31:48.884719Z"
    }
   },
   "outputs": [
    {
     "data": {
      "text/plain": [
       "Accio           100\n",
       "Riddikulus      300\n",
       "Expelliarmus    500\n",
       "dtype: int64"
      ]
     },
     "execution_count": 52,
     "metadata": {},
     "output_type": "execute_result"
    }
   ],
   "source": [
    "pd.Series(data=power, index=spells)"
   ]
  },
  {
   "cell_type": "markdown",
   "metadata": {},
   "source": [
    "**NumPy Arrays**"
   ]
  },
  {
   "cell_type": "code",
   "execution_count": 53,
   "metadata": {
    "ExecuteTime": {
     "end_time": "2018-10-25T14:31:48.903200Z",
     "start_time": "2018-10-25T14:31:48.895926Z"
    }
   },
   "outputs": [
    {
     "data": {
      "text/plain": [
       "0    100\n",
       "1    300\n",
       "2    500\n",
       "dtype: int64"
      ]
     },
     "execution_count": 53,
     "metadata": {},
     "output_type": "execute_result"
    }
   ],
   "source": [
    "pd.Series(arr)"
   ]
  },
  {
   "cell_type": "code",
   "execution_count": 54,
   "metadata": {
    "ExecuteTime": {
     "end_time": "2018-10-25T14:31:48.914226Z",
     "start_time": "2018-10-25T14:31:48.905972Z"
    }
   },
   "outputs": [
    {
     "data": {
      "text/plain": [
       "Accio           100\n",
       "Riddikulus      300\n",
       "Expelliarmus    500\n",
       "dtype: int64"
      ]
     },
     "execution_count": 54,
     "metadata": {},
     "output_type": "execute_result"
    }
   ],
   "source": [
    "pd.Series(arr, spells)"
   ]
  },
  {
   "cell_type": "markdown",
   "metadata": {},
   "source": [
    "**Словарь**"
   ]
  },
  {
   "cell_type": "code",
   "execution_count": 55,
   "metadata": {
    "ExecuteTime": {
     "end_time": "2018-10-25T14:31:48.928231Z",
     "start_time": "2018-10-25T14:31:48.920302Z"
    }
   },
   "outputs": [
    {
     "data": {
      "text/plain": [
       "Accio           100\n",
       "Expelliarmus    300\n",
       "Riddikulus      200\n",
       "dtype: int64"
      ]
     },
     "execution_count": 55,
     "metadata": {},
     "output_type": "execute_result"
    }
   ],
   "source": [
    "d_o_s = pd.Series(dict_of_spells)\n",
    "d_o_s"
   ]
  },
  {
   "cell_type": "markdown",
   "metadata": {},
   "source": [
    "## Использование индекса:"
   ]
  },
  {
   "cell_type": "code",
   "execution_count": 56,
   "metadata": {
    "ExecuteTime": {
     "end_time": "2018-10-25T14:31:48.939722Z",
     "start_time": "2018-10-25T14:31:48.931183Z"
    }
   },
   "outputs": [
    {
     "data": {
      "text/plain": [
       "200"
      ]
     },
     "execution_count": 56,
     "metadata": {},
     "output_type": "execute_result"
    }
   ],
   "source": [
    "d_o_s['Riddikulus']"
   ]
  },
  {
   "cell_type": "markdown",
   "metadata": {
    "collapsed": true
   },
   "source": [
    "## DataFrames\n",
    "\n",
    "DataFrames - это очень удобный инструмент для работы с данными. DataFrames можно представлять как набор индексированных одним индексом рядов."
   ]
  },
  {
   "cell_type": "code",
   "execution_count": 129,
   "metadata": {
    "ExecuteTime": {
     "end_time": "2018-10-25T14:35:16.887782Z",
     "start_time": "2018-10-25T14:35:16.882666Z"
    }
   },
   "outputs": [],
   "source": [
    "from numpy.random import randint"
   ]
  },
  {
   "cell_type": "code",
   "execution_count": 130,
   "metadata": {
    "ExecuteTime": {
     "end_time": "2018-10-25T14:35:18.681606Z",
     "start_time": "2018-10-25T14:35:18.673806Z"
    }
   },
   "outputs": [],
   "source": [
    "# Создание DataFrame\n",
    "np.random.seed(42)\n",
    "df = pd.DataFrame(randint(50, 100, size=(4,8)),index='Harry Ron Luna Neville'.split(),\n",
    "                  columns='Astronomy Charms Flying Herbology History_of_Magic Potions Transfiguration Apparition'.split())"
   ]
  },
  {
   "cell_type": "code",
   "execution_count": 131,
   "metadata": {
    "ExecuteTime": {
     "end_time": "2018-10-25T14:35:19.247473Z",
     "start_time": "2018-10-25T14:35:19.231042Z"
    }
   },
   "outputs": [
    {
     "data": {
      "text/html": [
       "<div>\n",
       "<style scoped>\n",
       "    .dataframe tbody tr th:only-of-type {\n",
       "        vertical-align: middle;\n",
       "    }\n",
       "\n",
       "    .dataframe tbody tr th {\n",
       "        vertical-align: top;\n",
       "    }\n",
       "\n",
       "    .dataframe thead th {\n",
       "        text-align: right;\n",
       "    }\n",
       "</style>\n",
       "<table border=\"1\" class=\"dataframe\">\n",
       "  <thead>\n",
       "    <tr style=\"text-align: right;\">\n",
       "      <th></th>\n",
       "      <th>Astronomy</th>\n",
       "      <th>Charms</th>\n",
       "      <th>Flying</th>\n",
       "      <th>Herbology</th>\n",
       "      <th>History_of_Magic</th>\n",
       "      <th>Potions</th>\n",
       "      <th>Transfiguration</th>\n",
       "      <th>Apparition</th>\n",
       "    </tr>\n",
       "  </thead>\n",
       "  <tbody>\n",
       "    <tr>\n",
       "      <th>Harry</th>\n",
       "      <td>88</td>\n",
       "      <td>78</td>\n",
       "      <td>64</td>\n",
       "      <td>92</td>\n",
       "      <td>57</td>\n",
       "      <td>70</td>\n",
       "      <td>88</td>\n",
       "      <td>68</td>\n",
       "    </tr>\n",
       "    <tr>\n",
       "      <th>Ron</th>\n",
       "      <td>72</td>\n",
       "      <td>60</td>\n",
       "      <td>60</td>\n",
       "      <td>73</td>\n",
       "      <td>85</td>\n",
       "      <td>89</td>\n",
       "      <td>73</td>\n",
       "      <td>52</td>\n",
       "    </tr>\n",
       "    <tr>\n",
       "      <th>Luna</th>\n",
       "      <td>71</td>\n",
       "      <td>51</td>\n",
       "      <td>73</td>\n",
       "      <td>93</td>\n",
       "      <td>79</td>\n",
       "      <td>87</td>\n",
       "      <td>51</td>\n",
       "      <td>70</td>\n",
       "    </tr>\n",
       "    <tr>\n",
       "      <th>Neville</th>\n",
       "      <td>82</td>\n",
       "      <td>61</td>\n",
       "      <td>71</td>\n",
       "      <td>93</td>\n",
       "      <td>74</td>\n",
       "      <td>98</td>\n",
       "      <td>76</td>\n",
       "      <td>91</td>\n",
       "    </tr>\n",
       "  </tbody>\n",
       "</table>\n",
       "</div>"
      ],
      "text/plain": [
       "         Astronomy  Charms  Flying  Herbology  History_of_Magic  Potions  \\\n",
       "Harry           88      78      64         92                57       70   \n",
       "Ron             72      60      60         73                85       89   \n",
       "Luna            71      51      73         93                79       87   \n",
       "Neville         82      61      71         93                74       98   \n",
       "\n",
       "         Transfiguration  Apparition  \n",
       "Harry                 88          68  \n",
       "Ron                   73          52  \n",
       "Luna                  51          70  \n",
       "Neville               76          91  "
      ]
     },
     "execution_count": 131,
     "metadata": {},
     "output_type": "execute_result"
    }
   ],
   "source": [
    "df"
   ]
  },
  {
   "cell_type": "markdown",
   "metadata": {},
   "source": [
    "## Выбор и индексация"
   ]
  },
  {
   "cell_type": "code",
   "execution_count": 132,
   "metadata": {
    "ExecuteTime": {
     "end_time": "2018-10-25T14:35:23.308987Z",
     "start_time": "2018-10-25T14:35:23.298558Z"
    }
   },
   "outputs": [
    {
     "data": {
      "text/plain": [
       "Harry      70\n",
       "Ron        89\n",
       "Luna       87\n",
       "Neville    98\n",
       "Name: Potions, dtype: int64"
      ]
     },
     "execution_count": 132,
     "metadata": {},
     "output_type": "execute_result"
    }
   ],
   "source": [
    "df['Potions']"
   ]
  },
  {
   "cell_type": "code",
   "execution_count": 133,
   "metadata": {
    "ExecuteTime": {
     "end_time": "2018-10-25T14:35:24.004556Z",
     "start_time": "2018-10-25T14:35:23.988874Z"
    }
   },
   "outputs": [
    {
     "data": {
      "text/html": [
       "<div>\n",
       "<style scoped>\n",
       "    .dataframe tbody tr th:only-of-type {\n",
       "        vertical-align: middle;\n",
       "    }\n",
       "\n",
       "    .dataframe tbody tr th {\n",
       "        vertical-align: top;\n",
       "    }\n",
       "\n",
       "    .dataframe thead th {\n",
       "        text-align: right;\n",
       "    }\n",
       "</style>\n",
       "<table border=\"1\" class=\"dataframe\">\n",
       "  <thead>\n",
       "    <tr style=\"text-align: right;\">\n",
       "      <th></th>\n",
       "      <th>History_of_Magic</th>\n",
       "      <th>Potions</th>\n",
       "    </tr>\n",
       "  </thead>\n",
       "  <tbody>\n",
       "    <tr>\n",
       "      <th>Harry</th>\n",
       "      <td>57</td>\n",
       "      <td>70</td>\n",
       "    </tr>\n",
       "    <tr>\n",
       "      <th>Ron</th>\n",
       "      <td>85</td>\n",
       "      <td>89</td>\n",
       "    </tr>\n",
       "    <tr>\n",
       "      <th>Luna</th>\n",
       "      <td>79</td>\n",
       "      <td>87</td>\n",
       "    </tr>\n",
       "    <tr>\n",
       "      <th>Neville</th>\n",
       "      <td>74</td>\n",
       "      <td>98</td>\n",
       "    </tr>\n",
       "  </tbody>\n",
       "</table>\n",
       "</div>"
      ],
      "text/plain": [
       "         History_of_Magic  Potions\n",
       "Harry                  57       70\n",
       "Ron                    85       89\n",
       "Luna                   79       87\n",
       "Neville                74       98"
      ]
     },
     "execution_count": 133,
     "metadata": {},
     "output_type": "execute_result"
    }
   ],
   "source": [
    "# Выбор нескольких колонок по именам колонок\n",
    "df[['History_of_Magic', 'Potions']]"
   ]
  },
  {
   "cell_type": "markdown",
   "metadata": {},
   "source": [
    "**Создание новой колонки разными способами:**"
   ]
  },
  {
   "cell_type": "code",
   "execution_count": 134,
   "metadata": {
    "ExecuteTime": {
     "end_time": "2018-10-25T14:35:36.060460Z",
     "start_time": "2018-10-25T14:35:36.041371Z"
    }
   },
   "outputs": [
    {
     "data": {
      "text/html": [
       "<div>\n",
       "<style scoped>\n",
       "    .dataframe tbody tr th:only-of-type {\n",
       "        vertical-align: middle;\n",
       "    }\n",
       "\n",
       "    .dataframe tbody tr th {\n",
       "        vertical-align: top;\n",
       "    }\n",
       "\n",
       "    .dataframe thead th {\n",
       "        text-align: right;\n",
       "    }\n",
       "</style>\n",
       "<table border=\"1\" class=\"dataframe\">\n",
       "  <thead>\n",
       "    <tr style=\"text-align: right;\">\n",
       "      <th></th>\n",
       "      <th>Astronomy</th>\n",
       "      <th>Charms</th>\n",
       "      <th>Flying</th>\n",
       "      <th>Herbology</th>\n",
       "      <th>History_of_Magic</th>\n",
       "      <th>Potions</th>\n",
       "      <th>Transfiguration</th>\n",
       "      <th>Apparition</th>\n",
       "      <th>MeanACF_0</th>\n",
       "    </tr>\n",
       "  </thead>\n",
       "  <tbody>\n",
       "    <tr>\n",
       "      <th>Harry</th>\n",
       "      <td>88</td>\n",
       "      <td>78</td>\n",
       "      <td>64</td>\n",
       "      <td>92</td>\n",
       "      <td>57</td>\n",
       "      <td>70</td>\n",
       "      <td>88</td>\n",
       "      <td>68</td>\n",
       "      <td>76.666667</td>\n",
       "    </tr>\n",
       "    <tr>\n",
       "      <th>Ron</th>\n",
       "      <td>72</td>\n",
       "      <td>60</td>\n",
       "      <td>60</td>\n",
       "      <td>73</td>\n",
       "      <td>85</td>\n",
       "      <td>89</td>\n",
       "      <td>73</td>\n",
       "      <td>52</td>\n",
       "      <td>64.000000</td>\n",
       "    </tr>\n",
       "    <tr>\n",
       "      <th>Luna</th>\n",
       "      <td>71</td>\n",
       "      <td>51</td>\n",
       "      <td>73</td>\n",
       "      <td>93</td>\n",
       "      <td>79</td>\n",
       "      <td>87</td>\n",
       "      <td>51</td>\n",
       "      <td>70</td>\n",
       "      <td>65.000000</td>\n",
       "    </tr>\n",
       "    <tr>\n",
       "      <th>Neville</th>\n",
       "      <td>82</td>\n",
       "      <td>61</td>\n",
       "      <td>71</td>\n",
       "      <td>93</td>\n",
       "      <td>74</td>\n",
       "      <td>98</td>\n",
       "      <td>76</td>\n",
       "      <td>91</td>\n",
       "      <td>71.333333</td>\n",
       "    </tr>\n",
       "  </tbody>\n",
       "</table>\n",
       "</div>"
      ],
      "text/plain": [
       "         Astronomy  Charms  Flying  Herbology  History_of_Magic  Potions  \\\n",
       "Harry           88      78      64         92                57       70   \n",
       "Ron             72      60      60         73                85       89   \n",
       "Luna            71      51      73         93                79       87   \n",
       "Neville         82      61      71         93                74       98   \n",
       "\n",
       "         Transfiguration  Apparition  MeanACF_0  \n",
       "Harry                 88          68  76.666667  \n",
       "Ron                   73          52  64.000000  \n",
       "Luna                  51          70  65.000000  \n",
       "Neville               76          91  71.333333  "
      ]
     },
     "execution_count": 134,
     "metadata": {},
     "output_type": "execute_result"
    }
   ],
   "source": [
    "# MeanACF = Mean Astronomy Charms Flying - подсчет средней разными способами\n",
    "df['MeanACF_0'] = (df['Astronomy'] + df['Charms'] + df['Flying']) / 3\n",
    "df"
   ]
  },
  {
   "cell_type": "code",
   "execution_count": 135,
   "metadata": {
    "ExecuteTime": {
     "end_time": "2018-10-25T14:35:41.595754Z",
     "start_time": "2018-10-25T14:35:41.576037Z"
    }
   },
   "outputs": [
    {
     "data": {
      "text/html": [
       "<div>\n",
       "<style scoped>\n",
       "    .dataframe tbody tr th:only-of-type {\n",
       "        vertical-align: middle;\n",
       "    }\n",
       "\n",
       "    .dataframe tbody tr th {\n",
       "        vertical-align: top;\n",
       "    }\n",
       "\n",
       "    .dataframe thead th {\n",
       "        text-align: right;\n",
       "    }\n",
       "</style>\n",
       "<table border=\"1\" class=\"dataframe\">\n",
       "  <thead>\n",
       "    <tr style=\"text-align: right;\">\n",
       "      <th></th>\n",
       "      <th>Astronomy</th>\n",
       "      <th>Charms</th>\n",
       "      <th>Flying</th>\n",
       "      <th>Herbology</th>\n",
       "      <th>History_of_Magic</th>\n",
       "      <th>Potions</th>\n",
       "      <th>Transfiguration</th>\n",
       "      <th>Apparition</th>\n",
       "      <th>MeanACF_0</th>\n",
       "      <th>MeanACF_1</th>\n",
       "    </tr>\n",
       "  </thead>\n",
       "  <tbody>\n",
       "    <tr>\n",
       "      <th>Harry</th>\n",
       "      <td>88</td>\n",
       "      <td>78</td>\n",
       "      <td>64</td>\n",
       "      <td>92</td>\n",
       "      <td>57</td>\n",
       "      <td>70</td>\n",
       "      <td>88</td>\n",
       "      <td>68</td>\n",
       "      <td>76.666667</td>\n",
       "      <td>76.666667</td>\n",
       "    </tr>\n",
       "    <tr>\n",
       "      <th>Ron</th>\n",
       "      <td>72</td>\n",
       "      <td>60</td>\n",
       "      <td>60</td>\n",
       "      <td>73</td>\n",
       "      <td>85</td>\n",
       "      <td>89</td>\n",
       "      <td>73</td>\n",
       "      <td>52</td>\n",
       "      <td>64.000000</td>\n",
       "      <td>64.000000</td>\n",
       "    </tr>\n",
       "    <tr>\n",
       "      <th>Luna</th>\n",
       "      <td>71</td>\n",
       "      <td>51</td>\n",
       "      <td>73</td>\n",
       "      <td>93</td>\n",
       "      <td>79</td>\n",
       "      <td>87</td>\n",
       "      <td>51</td>\n",
       "      <td>70</td>\n",
       "      <td>65.000000</td>\n",
       "      <td>65.000000</td>\n",
       "    </tr>\n",
       "    <tr>\n",
       "      <th>Neville</th>\n",
       "      <td>82</td>\n",
       "      <td>61</td>\n",
       "      <td>71</td>\n",
       "      <td>93</td>\n",
       "      <td>74</td>\n",
       "      <td>98</td>\n",
       "      <td>76</td>\n",
       "      <td>91</td>\n",
       "      <td>71.333333</td>\n",
       "      <td>71.333333</td>\n",
       "    </tr>\n",
       "  </tbody>\n",
       "</table>\n",
       "</div>"
      ],
      "text/plain": [
       "         Astronomy  Charms  Flying  Herbology  History_of_Magic  Potions  \\\n",
       "Harry           88      78      64         92                57       70   \n",
       "Ron             72      60      60         73                85       89   \n",
       "Luna            71      51      73         93                79       87   \n",
       "Neville         82      61      71         93                74       98   \n",
       "\n",
       "         Transfiguration  Apparition  MeanACF_0  MeanACF_1  \n",
       "Harry                 88          68  76.666667  76.666667  \n",
       "Ron                   73          52  64.000000  64.000000  \n",
       "Luna                  51          70  65.000000  65.000000  \n",
       "Neville               76          91  71.333333  71.333333  "
      ]
     },
     "execution_count": 135,
     "metadata": {},
     "output_type": "execute_result"
    }
   ],
   "source": [
    "df['MeanACF_1'] = df[['Astronomy', 'Charms', 'Flying']].mean(axis=1)\n",
    "df"
   ]
  },
  {
   "cell_type": "code",
   "execution_count": 136,
   "metadata": {
    "ExecuteTime": {
     "end_time": "2018-10-25T14:35:53.585503Z",
     "start_time": "2018-10-25T14:35:53.560803Z"
    }
   },
   "outputs": [
    {
     "data": {
      "text/html": [
       "<div>\n",
       "<style scoped>\n",
       "    .dataframe tbody tr th:only-of-type {\n",
       "        vertical-align: middle;\n",
       "    }\n",
       "\n",
       "    .dataframe tbody tr th {\n",
       "        vertical-align: top;\n",
       "    }\n",
       "\n",
       "    .dataframe thead th {\n",
       "        text-align: right;\n",
       "    }\n",
       "</style>\n",
       "<table border=\"1\" class=\"dataframe\">\n",
       "  <thead>\n",
       "    <tr style=\"text-align: right;\">\n",
       "      <th></th>\n",
       "      <th>Astronomy</th>\n",
       "      <th>Charms</th>\n",
       "      <th>Flying</th>\n",
       "      <th>Herbology</th>\n",
       "      <th>History_of_Magic</th>\n",
       "      <th>Potions</th>\n",
       "      <th>Transfiguration</th>\n",
       "      <th>Apparition</th>\n",
       "      <th>MeanACF_0</th>\n",
       "      <th>MeanACF_1</th>\n",
       "      <th>MeanACF_2</th>\n",
       "    </tr>\n",
       "  </thead>\n",
       "  <tbody>\n",
       "    <tr>\n",
       "      <th>Harry</th>\n",
       "      <td>88</td>\n",
       "      <td>78</td>\n",
       "      <td>64</td>\n",
       "      <td>92</td>\n",
       "      <td>57</td>\n",
       "      <td>70</td>\n",
       "      <td>88</td>\n",
       "      <td>68</td>\n",
       "      <td>76.666667</td>\n",
       "      <td>76.666667</td>\n",
       "      <td>76.666667</td>\n",
       "    </tr>\n",
       "    <tr>\n",
       "      <th>Ron</th>\n",
       "      <td>72</td>\n",
       "      <td>60</td>\n",
       "      <td>60</td>\n",
       "      <td>73</td>\n",
       "      <td>85</td>\n",
       "      <td>89</td>\n",
       "      <td>73</td>\n",
       "      <td>52</td>\n",
       "      <td>64.000000</td>\n",
       "      <td>64.000000</td>\n",
       "      <td>64.000000</td>\n",
       "    </tr>\n",
       "    <tr>\n",
       "      <th>Luna</th>\n",
       "      <td>71</td>\n",
       "      <td>51</td>\n",
       "      <td>73</td>\n",
       "      <td>93</td>\n",
       "      <td>79</td>\n",
       "      <td>87</td>\n",
       "      <td>51</td>\n",
       "      <td>70</td>\n",
       "      <td>65.000000</td>\n",
       "      <td>65.000000</td>\n",
       "      <td>65.000000</td>\n",
       "    </tr>\n",
       "    <tr>\n",
       "      <th>Neville</th>\n",
       "      <td>82</td>\n",
       "      <td>61</td>\n",
       "      <td>71</td>\n",
       "      <td>93</td>\n",
       "      <td>74</td>\n",
       "      <td>98</td>\n",
       "      <td>76</td>\n",
       "      <td>91</td>\n",
       "      <td>71.333333</td>\n",
       "      <td>71.333333</td>\n",
       "      <td>71.333333</td>\n",
       "    </tr>\n",
       "  </tbody>\n",
       "</table>\n",
       "</div>"
      ],
      "text/plain": [
       "         Astronomy  Charms  Flying  Herbology  History_of_Magic  Potions  \\\n",
       "Harry           88      78      64         92                57       70   \n",
       "Ron             72      60      60         73                85       89   \n",
       "Luna            71      51      73         93                79       87   \n",
       "Neville         82      61      71         93                74       98   \n",
       "\n",
       "         Transfiguration  Apparition  MeanACF_0  MeanACF_1  MeanACF_2  \n",
       "Harry                 88          68  76.666667  76.666667  76.666667  \n",
       "Ron                   73          52  64.000000  64.000000  64.000000  \n",
       "Luna                  51          70  65.000000  65.000000  65.000000  \n",
       "Neville               76          91  71.333333  71.333333  71.333333  "
      ]
     },
     "execution_count": 136,
     "metadata": {},
     "output_type": "execute_result"
    }
   ],
   "source": [
    "df['MeanACF_2'] = df[['Astronomy', 'Charms', 'Flying']].apply(lambda x: np.mean(x), axis=1)\n",
    "df"
   ]
  },
  {
   "cell_type": "code",
   "execution_count": 139,
   "metadata": {
    "ExecuteTime": {
     "end_time": "2018-10-25T14:36:42.731811Z",
     "start_time": "2018-10-25T14:36:42.712949Z"
    }
   },
   "outputs": [
    {
     "data": {
      "text/html": [
       "<div>\n",
       "<style scoped>\n",
       "    .dataframe tbody tr th:only-of-type {\n",
       "        vertical-align: middle;\n",
       "    }\n",
       "\n",
       "    .dataframe tbody tr th {\n",
       "        vertical-align: top;\n",
       "    }\n",
       "\n",
       "    .dataframe thead th {\n",
       "        text-align: right;\n",
       "    }\n",
       "</style>\n",
       "<table border=\"1\" class=\"dataframe\">\n",
       "  <thead>\n",
       "    <tr style=\"text-align: right;\">\n",
       "      <th></th>\n",
       "      <th>Astronomy</th>\n",
       "      <th>Charms</th>\n",
       "      <th>Flying</th>\n",
       "      <th>Herbology</th>\n",
       "      <th>History_of_Magic</th>\n",
       "      <th>Potions</th>\n",
       "      <th>Transfiguration</th>\n",
       "      <th>Apparition</th>\n",
       "      <th>MeanACF_0</th>\n",
       "      <th>MeanACF_1</th>\n",
       "      <th>MeanACF_2</th>\n",
       "      <th>Apparition_new</th>\n",
       "    </tr>\n",
       "  </thead>\n",
       "  <tbody>\n",
       "    <tr>\n",
       "      <th>Harry</th>\n",
       "      <td>88</td>\n",
       "      <td>78</td>\n",
       "      <td>64</td>\n",
       "      <td>92</td>\n",
       "      <td>57</td>\n",
       "      <td>70</td>\n",
       "      <td>88</td>\n",
       "      <td>68</td>\n",
       "      <td>76.666667</td>\n",
       "      <td>76.666667</td>\n",
       "      <td>76.666667</td>\n",
       "      <td>81.6</td>\n",
       "    </tr>\n",
       "    <tr>\n",
       "      <th>Ron</th>\n",
       "      <td>72</td>\n",
       "      <td>60</td>\n",
       "      <td>60</td>\n",
       "      <td>73</td>\n",
       "      <td>85</td>\n",
       "      <td>89</td>\n",
       "      <td>73</td>\n",
       "      <td>52</td>\n",
       "      <td>64.000000</td>\n",
       "      <td>64.000000</td>\n",
       "      <td>64.000000</td>\n",
       "      <td>62.4</td>\n",
       "    </tr>\n",
       "    <tr>\n",
       "      <th>Luna</th>\n",
       "      <td>71</td>\n",
       "      <td>51</td>\n",
       "      <td>73</td>\n",
       "      <td>93</td>\n",
       "      <td>79</td>\n",
       "      <td>87</td>\n",
       "      <td>51</td>\n",
       "      <td>70</td>\n",
       "      <td>65.000000</td>\n",
       "      <td>65.000000</td>\n",
       "      <td>65.000000</td>\n",
       "      <td>84.0</td>\n",
       "    </tr>\n",
       "    <tr>\n",
       "      <th>Neville</th>\n",
       "      <td>82</td>\n",
       "      <td>61</td>\n",
       "      <td>71</td>\n",
       "      <td>93</td>\n",
       "      <td>74</td>\n",
       "      <td>98</td>\n",
       "      <td>76</td>\n",
       "      <td>91</td>\n",
       "      <td>71.333333</td>\n",
       "      <td>71.333333</td>\n",
       "      <td>71.333333</td>\n",
       "      <td>109.2</td>\n",
       "    </tr>\n",
       "  </tbody>\n",
       "</table>\n",
       "</div>"
      ],
      "text/plain": [
       "         Astronomy  Charms  Flying  Herbology  History_of_Magic  Potions  \\\n",
       "Harry           88      78      64         92                57       70   \n",
       "Ron             72      60      60         73                85       89   \n",
       "Luna            71      51      73         93                79       87   \n",
       "Neville         82      61      71         93                74       98   \n",
       "\n",
       "         Transfiguration  Apparition  MeanACF_0  MeanACF_1  MeanACF_2  \\\n",
       "Harry                 88          68  76.666667  76.666667  76.666667   \n",
       "Ron                   73          52  64.000000  64.000000  64.000000   \n",
       "Luna                  51          70  65.000000  65.000000  65.000000   \n",
       "Neville               76          91  71.333333  71.333333  71.333333   \n",
       "\n",
       "         Apparition_new  \n",
       "Harry              81.6  \n",
       "Ron                62.4  \n",
       "Luna               84.0  \n",
       "Neville           109.2  "
      ]
     },
     "execution_count": 139,
     "metadata": {},
     "output_type": "execute_result"
    }
   ],
   "source": [
    "# Удобство исаользования lambda выражений, через них можно реализовывать широкий перечень несложных функций\n",
    "df['Apparition_new'] = df['Apparition'].apply(lambda x: x*1.2)\n",
    "df"
   ]
  },
  {
   "cell_type": "markdown",
   "metadata": {},
   "source": [
    "**Удаление колонок**"
   ]
  },
  {
   "cell_type": "code",
   "execution_count": 140,
   "metadata": {
    "ExecuteTime": {
     "end_time": "2018-10-25T14:36:51.231464Z",
     "start_time": "2018-10-25T14:36:51.212311Z"
    }
   },
   "outputs": [
    {
     "data": {
      "text/html": [
       "<div>\n",
       "<style scoped>\n",
       "    .dataframe tbody tr th:only-of-type {\n",
       "        vertical-align: middle;\n",
       "    }\n",
       "\n",
       "    .dataframe tbody tr th {\n",
       "        vertical-align: top;\n",
       "    }\n",
       "\n",
       "    .dataframe thead th {\n",
       "        text-align: right;\n",
       "    }\n",
       "</style>\n",
       "<table border=\"1\" class=\"dataframe\">\n",
       "  <thead>\n",
       "    <tr style=\"text-align: right;\">\n",
       "      <th></th>\n",
       "      <th>Astronomy</th>\n",
       "      <th>Charms</th>\n",
       "      <th>Flying</th>\n",
       "      <th>Herbology</th>\n",
       "      <th>History_of_Magic</th>\n",
       "      <th>Potions</th>\n",
       "      <th>Transfiguration</th>\n",
       "      <th>Apparition</th>\n",
       "      <th>MeanACF_0</th>\n",
       "      <th>MeanACF_1</th>\n",
       "      <th>Apparition_new</th>\n",
       "    </tr>\n",
       "  </thead>\n",
       "  <tbody>\n",
       "    <tr>\n",
       "      <th>Harry</th>\n",
       "      <td>88</td>\n",
       "      <td>78</td>\n",
       "      <td>64</td>\n",
       "      <td>92</td>\n",
       "      <td>57</td>\n",
       "      <td>70</td>\n",
       "      <td>88</td>\n",
       "      <td>68</td>\n",
       "      <td>76.666667</td>\n",
       "      <td>76.666667</td>\n",
       "      <td>81.6</td>\n",
       "    </tr>\n",
       "    <tr>\n",
       "      <th>Ron</th>\n",
       "      <td>72</td>\n",
       "      <td>60</td>\n",
       "      <td>60</td>\n",
       "      <td>73</td>\n",
       "      <td>85</td>\n",
       "      <td>89</td>\n",
       "      <td>73</td>\n",
       "      <td>52</td>\n",
       "      <td>64.000000</td>\n",
       "      <td>64.000000</td>\n",
       "      <td>62.4</td>\n",
       "    </tr>\n",
       "    <tr>\n",
       "      <th>Luna</th>\n",
       "      <td>71</td>\n",
       "      <td>51</td>\n",
       "      <td>73</td>\n",
       "      <td>93</td>\n",
       "      <td>79</td>\n",
       "      <td>87</td>\n",
       "      <td>51</td>\n",
       "      <td>70</td>\n",
       "      <td>65.000000</td>\n",
       "      <td>65.000000</td>\n",
       "      <td>84.0</td>\n",
       "    </tr>\n",
       "    <tr>\n",
       "      <th>Neville</th>\n",
       "      <td>82</td>\n",
       "      <td>61</td>\n",
       "      <td>71</td>\n",
       "      <td>93</td>\n",
       "      <td>74</td>\n",
       "      <td>98</td>\n",
       "      <td>76</td>\n",
       "      <td>91</td>\n",
       "      <td>71.333333</td>\n",
       "      <td>71.333333</td>\n",
       "      <td>109.2</td>\n",
       "    </tr>\n",
       "  </tbody>\n",
       "</table>\n",
       "</div>"
      ],
      "text/plain": [
       "         Astronomy  Charms  Flying  Herbology  History_of_Magic  Potions  \\\n",
       "Harry           88      78      64         92                57       70   \n",
       "Ron             72      60      60         73                85       89   \n",
       "Luna            71      51      73         93                79       87   \n",
       "Neville         82      61      71         93                74       98   \n",
       "\n",
       "         Transfiguration  Apparition  MeanACF_0  MeanACF_1  Apparition_new  \n",
       "Harry                 88          68  76.666667  76.666667            81.6  \n",
       "Ron                   73          52  64.000000  64.000000            62.4  \n",
       "Luna                  51          70  65.000000  65.000000            84.0  \n",
       "Neville               76          91  71.333333  71.333333           109.2  "
      ]
     },
     "execution_count": 140,
     "metadata": {},
     "output_type": "execute_result"
    }
   ],
   "source": [
    "df.drop('MeanACF_2', axis=1)"
   ]
  },
  {
   "cell_type": "code",
   "execution_count": 141,
   "metadata": {
    "ExecuteTime": {
     "end_time": "2018-10-25T14:36:51.793066Z",
     "start_time": "2018-10-25T14:36:51.774858Z"
    }
   },
   "outputs": [
    {
     "data": {
      "text/html": [
       "<div>\n",
       "<style scoped>\n",
       "    .dataframe tbody tr th:only-of-type {\n",
       "        vertical-align: middle;\n",
       "    }\n",
       "\n",
       "    .dataframe tbody tr th {\n",
       "        vertical-align: top;\n",
       "    }\n",
       "\n",
       "    .dataframe thead th {\n",
       "        text-align: right;\n",
       "    }\n",
       "</style>\n",
       "<table border=\"1\" class=\"dataframe\">\n",
       "  <thead>\n",
       "    <tr style=\"text-align: right;\">\n",
       "      <th></th>\n",
       "      <th>Astronomy</th>\n",
       "      <th>Charms</th>\n",
       "      <th>Flying</th>\n",
       "      <th>Herbology</th>\n",
       "      <th>History_of_Magic</th>\n",
       "      <th>Potions</th>\n",
       "      <th>Transfiguration</th>\n",
       "      <th>Apparition</th>\n",
       "      <th>MeanACF_0</th>\n",
       "      <th>MeanACF_1</th>\n",
       "      <th>MeanACF_2</th>\n",
       "      <th>Apparition_new</th>\n",
       "    </tr>\n",
       "  </thead>\n",
       "  <tbody>\n",
       "    <tr>\n",
       "      <th>Harry</th>\n",
       "      <td>88</td>\n",
       "      <td>78</td>\n",
       "      <td>64</td>\n",
       "      <td>92</td>\n",
       "      <td>57</td>\n",
       "      <td>70</td>\n",
       "      <td>88</td>\n",
       "      <td>68</td>\n",
       "      <td>76.666667</td>\n",
       "      <td>76.666667</td>\n",
       "      <td>76.666667</td>\n",
       "      <td>81.6</td>\n",
       "    </tr>\n",
       "    <tr>\n",
       "      <th>Ron</th>\n",
       "      <td>72</td>\n",
       "      <td>60</td>\n",
       "      <td>60</td>\n",
       "      <td>73</td>\n",
       "      <td>85</td>\n",
       "      <td>89</td>\n",
       "      <td>73</td>\n",
       "      <td>52</td>\n",
       "      <td>64.000000</td>\n",
       "      <td>64.000000</td>\n",
       "      <td>64.000000</td>\n",
       "      <td>62.4</td>\n",
       "    </tr>\n",
       "    <tr>\n",
       "      <th>Luna</th>\n",
       "      <td>71</td>\n",
       "      <td>51</td>\n",
       "      <td>73</td>\n",
       "      <td>93</td>\n",
       "      <td>79</td>\n",
       "      <td>87</td>\n",
       "      <td>51</td>\n",
       "      <td>70</td>\n",
       "      <td>65.000000</td>\n",
       "      <td>65.000000</td>\n",
       "      <td>65.000000</td>\n",
       "      <td>84.0</td>\n",
       "    </tr>\n",
       "    <tr>\n",
       "      <th>Neville</th>\n",
       "      <td>82</td>\n",
       "      <td>61</td>\n",
       "      <td>71</td>\n",
       "      <td>93</td>\n",
       "      <td>74</td>\n",
       "      <td>98</td>\n",
       "      <td>76</td>\n",
       "      <td>91</td>\n",
       "      <td>71.333333</td>\n",
       "      <td>71.333333</td>\n",
       "      <td>71.333333</td>\n",
       "      <td>109.2</td>\n",
       "    </tr>\n",
       "  </tbody>\n",
       "</table>\n",
       "</div>"
      ],
      "text/plain": [
       "         Astronomy  Charms  Flying  Herbology  History_of_Magic  Potions  \\\n",
       "Harry           88      78      64         92                57       70   \n",
       "Ron             72      60      60         73                85       89   \n",
       "Luna            71      51      73         93                79       87   \n",
       "Neville         82      61      71         93                74       98   \n",
       "\n",
       "         Transfiguration  Apparition  MeanACF_0  MeanACF_1  MeanACF_2  \\\n",
       "Harry                 88          68  76.666667  76.666667  76.666667   \n",
       "Ron                   73          52  64.000000  64.000000  64.000000   \n",
       "Luna                  51          70  65.000000  65.000000  65.000000   \n",
       "Neville               76          91  71.333333  71.333333  71.333333   \n",
       "\n",
       "         Apparition_new  \n",
       "Harry              81.6  \n",
       "Ron                62.4  \n",
       "Luna               84.0  \n",
       "Neville           109.2  "
      ]
     },
     "execution_count": 141,
     "metadata": {},
     "output_type": "execute_result"
    }
   ],
   "source": [
    "# В примере выше реального удаления не произошло, надо добавить inplace\n",
    "df"
   ]
  },
  {
   "cell_type": "code",
   "execution_count": 142,
   "metadata": {
    "ExecuteTime": {
     "end_time": "2018-10-25T14:36:56.929602Z",
     "start_time": "2018-10-25T14:36:56.921315Z"
    }
   },
   "outputs": [],
   "source": [
    "df.drop(['MeanACF_0', 'MeanACF_1', 'MeanACF_2', 'Apparition_new'], axis=1, inplace=True)"
   ]
  },
  {
   "cell_type": "code",
   "execution_count": 143,
   "metadata": {
    "ExecuteTime": {
     "end_time": "2018-10-25T14:36:57.693980Z",
     "start_time": "2018-10-25T14:36:57.680959Z"
    }
   },
   "outputs": [
    {
     "data": {
      "text/html": [
       "<div>\n",
       "<style scoped>\n",
       "    .dataframe tbody tr th:only-of-type {\n",
       "        vertical-align: middle;\n",
       "    }\n",
       "\n",
       "    .dataframe tbody tr th {\n",
       "        vertical-align: top;\n",
       "    }\n",
       "\n",
       "    .dataframe thead th {\n",
       "        text-align: right;\n",
       "    }\n",
       "</style>\n",
       "<table border=\"1\" class=\"dataframe\">\n",
       "  <thead>\n",
       "    <tr style=\"text-align: right;\">\n",
       "      <th></th>\n",
       "      <th>Astronomy</th>\n",
       "      <th>Charms</th>\n",
       "      <th>Flying</th>\n",
       "      <th>Herbology</th>\n",
       "      <th>History_of_Magic</th>\n",
       "      <th>Potions</th>\n",
       "      <th>Transfiguration</th>\n",
       "      <th>Apparition</th>\n",
       "    </tr>\n",
       "  </thead>\n",
       "  <tbody>\n",
       "    <tr>\n",
       "      <th>Harry</th>\n",
       "      <td>88</td>\n",
       "      <td>78</td>\n",
       "      <td>64</td>\n",
       "      <td>92</td>\n",
       "      <td>57</td>\n",
       "      <td>70</td>\n",
       "      <td>88</td>\n",
       "      <td>68</td>\n",
       "    </tr>\n",
       "    <tr>\n",
       "      <th>Ron</th>\n",
       "      <td>72</td>\n",
       "      <td>60</td>\n",
       "      <td>60</td>\n",
       "      <td>73</td>\n",
       "      <td>85</td>\n",
       "      <td>89</td>\n",
       "      <td>73</td>\n",
       "      <td>52</td>\n",
       "    </tr>\n",
       "    <tr>\n",
       "      <th>Luna</th>\n",
       "      <td>71</td>\n",
       "      <td>51</td>\n",
       "      <td>73</td>\n",
       "      <td>93</td>\n",
       "      <td>79</td>\n",
       "      <td>87</td>\n",
       "      <td>51</td>\n",
       "      <td>70</td>\n",
       "    </tr>\n",
       "    <tr>\n",
       "      <th>Neville</th>\n",
       "      <td>82</td>\n",
       "      <td>61</td>\n",
       "      <td>71</td>\n",
       "      <td>93</td>\n",
       "      <td>74</td>\n",
       "      <td>98</td>\n",
       "      <td>76</td>\n",
       "      <td>91</td>\n",
       "    </tr>\n",
       "  </tbody>\n",
       "</table>\n",
       "</div>"
      ],
      "text/plain": [
       "         Astronomy  Charms  Flying  Herbology  History_of_Magic  Potions  \\\n",
       "Harry           88      78      64         92                57       70   \n",
       "Ron             72      60      60         73                85       89   \n",
       "Luna            71      51      73         93                79       87   \n",
       "Neville         82      61      71         93                74       98   \n",
       "\n",
       "         Transfiguration  Apparition  \n",
       "Harry                 88          68  \n",
       "Ron                   73          52  \n",
       "Luna                  51          70  \n",
       "Neville               76          91  "
      ]
     },
     "execution_count": 143,
     "metadata": {},
     "output_type": "execute_result"
    }
   ],
   "source": [
    "df"
   ]
  },
  {
   "cell_type": "markdown",
   "metadata": {},
   "source": [
    "Точно так же можно удалять и строки:"
   ]
  },
  {
   "cell_type": "code",
   "execution_count": 70,
   "metadata": {
    "ExecuteTime": {
     "end_time": "2018-10-25T14:31:49.224220Z",
     "start_time": "2018-10-25T14:31:49.206449Z"
    }
   },
   "outputs": [
    {
     "data": {
      "text/html": [
       "<div>\n",
       "<style scoped>\n",
       "    .dataframe tbody tr th:only-of-type {\n",
       "        vertical-align: middle;\n",
       "    }\n",
       "\n",
       "    .dataframe tbody tr th {\n",
       "        vertical-align: top;\n",
       "    }\n",
       "\n",
       "    .dataframe thead th {\n",
       "        text-align: right;\n",
       "    }\n",
       "</style>\n",
       "<table border=\"1\" class=\"dataframe\">\n",
       "  <thead>\n",
       "    <tr style=\"text-align: right;\">\n",
       "      <th></th>\n",
       "      <th>Astronomy</th>\n",
       "      <th>Charms</th>\n",
       "      <th>Flying</th>\n",
       "      <th>Herbology</th>\n",
       "      <th>History_of_Magic</th>\n",
       "      <th>Potions</th>\n",
       "      <th>Transfiguration</th>\n",
       "      <th>Apparition</th>\n",
       "    </tr>\n",
       "  </thead>\n",
       "  <tbody>\n",
       "    <tr>\n",
       "      <th>Harry</th>\n",
       "      <td>88</td>\n",
       "      <td>78</td>\n",
       "      <td>64</td>\n",
       "      <td>92</td>\n",
       "      <td>57</td>\n",
       "      <td>70</td>\n",
       "      <td>88</td>\n",
       "      <td>68</td>\n",
       "    </tr>\n",
       "    <tr>\n",
       "      <th>Ron</th>\n",
       "      <td>72</td>\n",
       "      <td>60</td>\n",
       "      <td>60</td>\n",
       "      <td>73</td>\n",
       "      <td>85</td>\n",
       "      <td>89</td>\n",
       "      <td>73</td>\n",
       "      <td>52</td>\n",
       "    </tr>\n",
       "    <tr>\n",
       "      <th>Neville</th>\n",
       "      <td>82</td>\n",
       "      <td>61</td>\n",
       "      <td>71</td>\n",
       "      <td>93</td>\n",
       "      <td>74</td>\n",
       "      <td>98</td>\n",
       "      <td>76</td>\n",
       "      <td>91</td>\n",
       "    </tr>\n",
       "  </tbody>\n",
       "</table>\n",
       "</div>"
      ],
      "text/plain": [
       "         Astronomy  Charms  Flying  Herbology  History_of_Magic  Potions  \\\n",
       "Harry           88      78      64         92                57       70   \n",
       "Ron             72      60      60         73                85       89   \n",
       "Neville         82      61      71         93                74       98   \n",
       "\n",
       "         Transfiguration  Apparition  \n",
       "Harry                 88          68  \n",
       "Ron                   73          52  \n",
       "Neville               76          91  "
      ]
     },
     "execution_count": 70,
     "metadata": {},
     "output_type": "execute_result"
    }
   ],
   "source": [
    "df.drop('Luna',axis=0)"
   ]
  },
  {
   "cell_type": "markdown",
   "metadata": {},
   "source": [
    "**Индексация по строкам и столбцам**"
   ]
  },
  {
   "cell_type": "code",
   "execution_count": 71,
   "metadata": {
    "ExecuteTime": {
     "end_time": "2018-10-25T14:31:49.234755Z",
     "start_time": "2018-10-25T14:31:49.227178Z"
    }
   },
   "outputs": [
    {
     "data": {
      "text/plain": [
       "82"
      ]
     },
     "execution_count": 71,
     "metadata": {},
     "output_type": "execute_result"
    }
   ],
   "source": [
    "df.loc['Neville','Astronomy']"
   ]
  },
  {
   "cell_type": "code",
   "execution_count": 72,
   "metadata": {
    "ExecuteTime": {
     "end_time": "2018-10-25T14:31:49.251155Z",
     "start_time": "2018-10-25T14:31:49.238497Z"
    }
   },
   "outputs": [
    {
     "data": {
      "text/html": [
       "<div>\n",
       "<style scoped>\n",
       "    .dataframe tbody tr th:only-of-type {\n",
       "        vertical-align: middle;\n",
       "    }\n",
       "\n",
       "    .dataframe tbody tr th {\n",
       "        vertical-align: top;\n",
       "    }\n",
       "\n",
       "    .dataframe thead th {\n",
       "        text-align: right;\n",
       "    }\n",
       "</style>\n",
       "<table border=\"1\" class=\"dataframe\">\n",
       "  <thead>\n",
       "    <tr style=\"text-align: right;\">\n",
       "      <th></th>\n",
       "      <th>History_of_Magic</th>\n",
       "      <th>Potions</th>\n",
       "    </tr>\n",
       "  </thead>\n",
       "  <tbody>\n",
       "    <tr>\n",
       "      <th>Ron</th>\n",
       "      <td>85</td>\n",
       "      <td>89</td>\n",
       "    </tr>\n",
       "    <tr>\n",
       "      <th>Harry</th>\n",
       "      <td>57</td>\n",
       "      <td>70</td>\n",
       "    </tr>\n",
       "  </tbody>\n",
       "</table>\n",
       "</div>"
      ],
      "text/plain": [
       "       History_of_Magic  Potions\n",
       "Ron                  85       89\n",
       "Harry                57       70"
      ]
     },
     "execution_count": 72,
     "metadata": {},
     "output_type": "execute_result"
    }
   ],
   "source": [
    "df.iloc[[1, 0], [4, 5]]"
   ]
  },
  {
   "cell_type": "code",
   "execution_count": 73,
   "metadata": {
    "ExecuteTime": {
     "end_time": "2018-10-25T14:31:49.266172Z",
     "start_time": "2018-10-25T14:31:49.254781Z"
    }
   },
   "outputs": [
    {
     "data": {
      "text/html": [
       "<div>\n",
       "<style scoped>\n",
       "    .dataframe tbody tr th:only-of-type {\n",
       "        vertical-align: middle;\n",
       "    }\n",
       "\n",
       "    .dataframe tbody tr th {\n",
       "        vertical-align: top;\n",
       "    }\n",
       "\n",
       "    .dataframe thead th {\n",
       "        text-align: right;\n",
       "    }\n",
       "</style>\n",
       "<table border=\"1\" class=\"dataframe\">\n",
       "  <thead>\n",
       "    <tr style=\"text-align: right;\">\n",
       "      <th></th>\n",
       "      <th>History_of_Magic</th>\n",
       "      <th>Potions</th>\n",
       "    </tr>\n",
       "  </thead>\n",
       "  <tbody>\n",
       "    <tr>\n",
       "      <th>Ron</th>\n",
       "      <td>85</td>\n",
       "      <td>89</td>\n",
       "    </tr>\n",
       "    <tr>\n",
       "      <th>Harry</th>\n",
       "      <td>57</td>\n",
       "      <td>70</td>\n",
       "    </tr>\n",
       "  </tbody>\n",
       "</table>\n",
       "</div>"
      ],
      "text/plain": [
       "       History_of_Magic  Potions\n",
       "Ron                  85       89\n",
       "Harry                57       70"
      ]
     },
     "execution_count": 73,
     "metadata": {},
     "output_type": "execute_result"
    }
   ],
   "source": [
    "df.loc[['Ron','Harry'],['History_of_Magic', 'Potions']]"
   ]
  },
  {
   "cell_type": "markdown",
   "metadata": {},
   "source": [
    "### Выбор по условиям, фильтрация"
   ]
  },
  {
   "cell_type": "code",
   "execution_count": 144,
   "metadata": {
    "ExecuteTime": {
     "end_time": "2018-10-25T14:37:30.584512Z",
     "start_time": "2018-10-25T14:37:30.569262Z"
    }
   },
   "outputs": [
    {
     "data": {
      "text/html": [
       "<div>\n",
       "<style scoped>\n",
       "    .dataframe tbody tr th:only-of-type {\n",
       "        vertical-align: middle;\n",
       "    }\n",
       "\n",
       "    .dataframe tbody tr th {\n",
       "        vertical-align: top;\n",
       "    }\n",
       "\n",
       "    .dataframe thead th {\n",
       "        text-align: right;\n",
       "    }\n",
       "</style>\n",
       "<table border=\"1\" class=\"dataframe\">\n",
       "  <thead>\n",
       "    <tr style=\"text-align: right;\">\n",
       "      <th></th>\n",
       "      <th>Astronomy</th>\n",
       "      <th>Charms</th>\n",
       "      <th>Flying</th>\n",
       "      <th>Herbology</th>\n",
       "      <th>History_of_Magic</th>\n",
       "      <th>Potions</th>\n",
       "      <th>Transfiguration</th>\n",
       "      <th>Apparition</th>\n",
       "    </tr>\n",
       "  </thead>\n",
       "  <tbody>\n",
       "    <tr>\n",
       "      <th>Harry</th>\n",
       "      <td>88</td>\n",
       "      <td>78</td>\n",
       "      <td>64</td>\n",
       "      <td>92</td>\n",
       "      <td>57</td>\n",
       "      <td>70</td>\n",
       "      <td>88</td>\n",
       "      <td>68</td>\n",
       "    </tr>\n",
       "    <tr>\n",
       "      <th>Ron</th>\n",
       "      <td>72</td>\n",
       "      <td>60</td>\n",
       "      <td>60</td>\n",
       "      <td>73</td>\n",
       "      <td>85</td>\n",
       "      <td>89</td>\n",
       "      <td>73</td>\n",
       "      <td>52</td>\n",
       "    </tr>\n",
       "    <tr>\n",
       "      <th>Luna</th>\n",
       "      <td>71</td>\n",
       "      <td>51</td>\n",
       "      <td>73</td>\n",
       "      <td>93</td>\n",
       "      <td>79</td>\n",
       "      <td>87</td>\n",
       "      <td>51</td>\n",
       "      <td>70</td>\n",
       "    </tr>\n",
       "    <tr>\n",
       "      <th>Neville</th>\n",
       "      <td>82</td>\n",
       "      <td>61</td>\n",
       "      <td>71</td>\n",
       "      <td>93</td>\n",
       "      <td>74</td>\n",
       "      <td>98</td>\n",
       "      <td>76</td>\n",
       "      <td>91</td>\n",
       "    </tr>\n",
       "  </tbody>\n",
       "</table>\n",
       "</div>"
      ],
      "text/plain": [
       "         Astronomy  Charms  Flying  Herbology  History_of_Magic  Potions  \\\n",
       "Harry           88      78      64         92                57       70   \n",
       "Ron             72      60      60         73                85       89   \n",
       "Luna            71      51      73         93                79       87   \n",
       "Neville         82      61      71         93                74       98   \n",
       "\n",
       "         Transfiguration  Apparition  \n",
       "Harry                 88          68  \n",
       "Ron                   73          52  \n",
       "Luna                  51          70  \n",
       "Neville               76          91  "
      ]
     },
     "execution_count": 144,
     "metadata": {},
     "output_type": "execute_result"
    }
   ],
   "source": [
    "df"
   ]
  },
  {
   "cell_type": "code",
   "execution_count": 145,
   "metadata": {
    "ExecuteTime": {
     "end_time": "2018-10-25T14:37:31.225144Z",
     "start_time": "2018-10-25T14:37:31.196947Z"
    }
   },
   "outputs": [
    {
     "data": {
      "text/html": [
       "<div>\n",
       "<style scoped>\n",
       "    .dataframe tbody tr th:only-of-type {\n",
       "        vertical-align: middle;\n",
       "    }\n",
       "\n",
       "    .dataframe tbody tr th {\n",
       "        vertical-align: top;\n",
       "    }\n",
       "\n",
       "    .dataframe thead th {\n",
       "        text-align: right;\n",
       "    }\n",
       "</style>\n",
       "<table border=\"1\" class=\"dataframe\">\n",
       "  <thead>\n",
       "    <tr style=\"text-align: right;\">\n",
       "      <th></th>\n",
       "      <th>Astronomy</th>\n",
       "      <th>Charms</th>\n",
       "      <th>Flying</th>\n",
       "      <th>Herbology</th>\n",
       "      <th>History_of_Magic</th>\n",
       "      <th>Potions</th>\n",
       "      <th>Transfiguration</th>\n",
       "      <th>Apparition</th>\n",
       "    </tr>\n",
       "  </thead>\n",
       "  <tbody>\n",
       "    <tr>\n",
       "      <th>Harry</th>\n",
       "      <td>True</td>\n",
       "      <td>False</td>\n",
       "      <td>False</td>\n",
       "      <td>True</td>\n",
       "      <td>False</td>\n",
       "      <td>False</td>\n",
       "      <td>True</td>\n",
       "      <td>False</td>\n",
       "    </tr>\n",
       "    <tr>\n",
       "      <th>Ron</th>\n",
       "      <td>False</td>\n",
       "      <td>False</td>\n",
       "      <td>False</td>\n",
       "      <td>False</td>\n",
       "      <td>True</td>\n",
       "      <td>True</td>\n",
       "      <td>False</td>\n",
       "      <td>False</td>\n",
       "    </tr>\n",
       "    <tr>\n",
       "      <th>Luna</th>\n",
       "      <td>False</td>\n",
       "      <td>False</td>\n",
       "      <td>False</td>\n",
       "      <td>True</td>\n",
       "      <td>False</td>\n",
       "      <td>True</td>\n",
       "      <td>False</td>\n",
       "      <td>False</td>\n",
       "    </tr>\n",
       "    <tr>\n",
       "      <th>Neville</th>\n",
       "      <td>True</td>\n",
       "      <td>False</td>\n",
       "      <td>False</td>\n",
       "      <td>True</td>\n",
       "      <td>False</td>\n",
       "      <td>True</td>\n",
       "      <td>False</td>\n",
       "      <td>True</td>\n",
       "    </tr>\n",
       "  </tbody>\n",
       "</table>\n",
       "</div>"
      ],
      "text/plain": [
       "         Astronomy  Charms  Flying  Herbology  History_of_Magic  Potions  \\\n",
       "Harry         True   False   False       True             False    False   \n",
       "Ron          False   False   False      False              True     True   \n",
       "Luna         False   False   False       True             False     True   \n",
       "Neville       True   False   False       True             False     True   \n",
       "\n",
       "         Transfiguration  Apparition  \n",
       "Harry               True       False  \n",
       "Ron                False       False  \n",
       "Luna               False       False  \n",
       "Neville            False        True  "
      ]
     },
     "execution_count": 145,
     "metadata": {},
     "output_type": "execute_result"
    }
   ],
   "source": [
    "df>80"
   ]
  },
  {
   "cell_type": "code",
   "execution_count": 146,
   "metadata": {
    "ExecuteTime": {
     "end_time": "2018-10-25T14:37:35.277533Z",
     "start_time": "2018-10-25T14:37:35.254559Z"
    }
   },
   "outputs": [
    {
     "data": {
      "text/html": [
       "<div>\n",
       "<style scoped>\n",
       "    .dataframe tbody tr th:only-of-type {\n",
       "        vertical-align: middle;\n",
       "    }\n",
       "\n",
       "    .dataframe tbody tr th {\n",
       "        vertical-align: top;\n",
       "    }\n",
       "\n",
       "    .dataframe thead th {\n",
       "        text-align: right;\n",
       "    }\n",
       "</style>\n",
       "<table border=\"1\" class=\"dataframe\">\n",
       "  <thead>\n",
       "    <tr style=\"text-align: right;\">\n",
       "      <th></th>\n",
       "      <th>Astronomy</th>\n",
       "      <th>Charms</th>\n",
       "      <th>Flying</th>\n",
       "      <th>Herbology</th>\n",
       "      <th>History_of_Magic</th>\n",
       "      <th>Potions</th>\n",
       "      <th>Transfiguration</th>\n",
       "      <th>Apparition</th>\n",
       "    </tr>\n",
       "  </thead>\n",
       "  <tbody>\n",
       "    <tr>\n",
       "      <th>Harry</th>\n",
       "      <td>88.0</td>\n",
       "      <td>NaN</td>\n",
       "      <td>NaN</td>\n",
       "      <td>92.0</td>\n",
       "      <td>NaN</td>\n",
       "      <td>NaN</td>\n",
       "      <td>88.0</td>\n",
       "      <td>NaN</td>\n",
       "    </tr>\n",
       "    <tr>\n",
       "      <th>Ron</th>\n",
       "      <td>NaN</td>\n",
       "      <td>NaN</td>\n",
       "      <td>NaN</td>\n",
       "      <td>NaN</td>\n",
       "      <td>85.0</td>\n",
       "      <td>89.0</td>\n",
       "      <td>NaN</td>\n",
       "      <td>NaN</td>\n",
       "    </tr>\n",
       "    <tr>\n",
       "      <th>Luna</th>\n",
       "      <td>NaN</td>\n",
       "      <td>NaN</td>\n",
       "      <td>NaN</td>\n",
       "      <td>93.0</td>\n",
       "      <td>NaN</td>\n",
       "      <td>87.0</td>\n",
       "      <td>NaN</td>\n",
       "      <td>NaN</td>\n",
       "    </tr>\n",
       "    <tr>\n",
       "      <th>Neville</th>\n",
       "      <td>82.0</td>\n",
       "      <td>NaN</td>\n",
       "      <td>NaN</td>\n",
       "      <td>93.0</td>\n",
       "      <td>NaN</td>\n",
       "      <td>98.0</td>\n",
       "      <td>NaN</td>\n",
       "      <td>91.0</td>\n",
       "    </tr>\n",
       "  </tbody>\n",
       "</table>\n",
       "</div>"
      ],
      "text/plain": [
       "         Astronomy  Charms  Flying  Herbology  History_of_Magic  Potions  \\\n",
       "Harry         88.0     NaN     NaN       92.0               NaN      NaN   \n",
       "Ron            NaN     NaN     NaN        NaN              85.0     89.0   \n",
       "Luna           NaN     NaN     NaN       93.0               NaN     87.0   \n",
       "Neville       82.0     NaN     NaN       93.0               NaN     98.0   \n",
       "\n",
       "         Transfiguration  Apparition  \n",
       "Harry               88.0         NaN  \n",
       "Ron                  NaN         NaN  \n",
       "Luna                 NaN         NaN  \n",
       "Neville              NaN        91.0  "
      ]
     },
     "execution_count": 146,
     "metadata": {},
     "output_type": "execute_result"
    }
   ],
   "source": [
    "df[df>80]"
   ]
  },
  {
   "cell_type": "code",
   "execution_count": 77,
   "metadata": {
    "ExecuteTime": {
     "end_time": "2018-10-25T14:31:49.364986Z",
     "start_time": "2018-10-25T14:31:49.348037Z"
    }
   },
   "outputs": [
    {
     "data": {
      "text/html": [
       "<div>\n",
       "<style scoped>\n",
       "    .dataframe tbody tr th:only-of-type {\n",
       "        vertical-align: middle;\n",
       "    }\n",
       "\n",
       "    .dataframe tbody tr th {\n",
       "        vertical-align: top;\n",
       "    }\n",
       "\n",
       "    .dataframe thead th {\n",
       "        text-align: right;\n",
       "    }\n",
       "</style>\n",
       "<table border=\"1\" class=\"dataframe\">\n",
       "  <thead>\n",
       "    <tr style=\"text-align: right;\">\n",
       "      <th></th>\n",
       "      <th>Astronomy</th>\n",
       "      <th>Charms</th>\n",
       "      <th>Flying</th>\n",
       "      <th>Herbology</th>\n",
       "      <th>History_of_Magic</th>\n",
       "      <th>Potions</th>\n",
       "      <th>Transfiguration</th>\n",
       "      <th>Apparition</th>\n",
       "    </tr>\n",
       "  </thead>\n",
       "  <tbody>\n",
       "    <tr>\n",
       "      <th>Harry</th>\n",
       "      <td>88</td>\n",
       "      <td>78</td>\n",
       "      <td>64</td>\n",
       "      <td>92</td>\n",
       "      <td>57</td>\n",
       "      <td>70</td>\n",
       "      <td>88</td>\n",
       "      <td>68</td>\n",
       "    </tr>\n",
       "    <tr>\n",
       "      <th>Luna</th>\n",
       "      <td>71</td>\n",
       "      <td>51</td>\n",
       "      <td>73</td>\n",
       "      <td>93</td>\n",
       "      <td>79</td>\n",
       "      <td>87</td>\n",
       "      <td>51</td>\n",
       "      <td>70</td>\n",
       "    </tr>\n",
       "    <tr>\n",
       "      <th>Neville</th>\n",
       "      <td>82</td>\n",
       "      <td>61</td>\n",
       "      <td>71</td>\n",
       "      <td>93</td>\n",
       "      <td>74</td>\n",
       "      <td>98</td>\n",
       "      <td>76</td>\n",
       "      <td>91</td>\n",
       "    </tr>\n",
       "  </tbody>\n",
       "</table>\n",
       "</div>"
      ],
      "text/plain": [
       "         Astronomy  Charms  Flying  Herbology  History_of_Magic  Potions  \\\n",
       "Harry           88      78      64         92                57       70   \n",
       "Luna            71      51      73         93                79       87   \n",
       "Neville         82      61      71         93                74       98   \n",
       "\n",
       "         Transfiguration  Apparition  \n",
       "Harry                 88          68  \n",
       "Luna                  51          70  \n",
       "Neville               76          91  "
      ]
     },
     "execution_count": 77,
     "metadata": {},
     "output_type": "execute_result"
    }
   ],
   "source": [
    "# Фильтрация с помощью условий\n",
    "df[df['Herbology']>80]"
   ]
  },
  {
   "cell_type": "code",
   "execution_count": 78,
   "metadata": {
    "ExecuteTime": {
     "end_time": "2018-10-25T14:31:49.383037Z",
     "start_time": "2018-10-25T14:31:49.368377Z"
    }
   },
   "outputs": [
    {
     "data": {
      "text/html": [
       "<div>\n",
       "<style scoped>\n",
       "    .dataframe tbody tr th:only-of-type {\n",
       "        vertical-align: middle;\n",
       "    }\n",
       "\n",
       "    .dataframe tbody tr th {\n",
       "        vertical-align: top;\n",
       "    }\n",
       "\n",
       "    .dataframe thead th {\n",
       "        text-align: right;\n",
       "    }\n",
       "</style>\n",
       "<table border=\"1\" class=\"dataframe\">\n",
       "  <thead>\n",
       "    <tr style=\"text-align: right;\">\n",
       "      <th></th>\n",
       "      <th>Astronomy</th>\n",
       "      <th>Charms</th>\n",
       "      <th>Flying</th>\n",
       "      <th>Herbology</th>\n",
       "      <th>History_of_Magic</th>\n",
       "      <th>Potions</th>\n",
       "      <th>Transfiguration</th>\n",
       "      <th>Apparition</th>\n",
       "    </tr>\n",
       "  </thead>\n",
       "  <tbody>\n",
       "    <tr>\n",
       "      <th>Harry</th>\n",
       "      <td>88</td>\n",
       "      <td>78</td>\n",
       "      <td>64</td>\n",
       "      <td>92</td>\n",
       "      <td>57</td>\n",
       "      <td>70</td>\n",
       "      <td>88</td>\n",
       "      <td>68</td>\n",
       "    </tr>\n",
       "    <tr>\n",
       "      <th>Ron</th>\n",
       "      <td>72</td>\n",
       "      <td>60</td>\n",
       "      <td>60</td>\n",
       "      <td>73</td>\n",
       "      <td>85</td>\n",
       "      <td>89</td>\n",
       "      <td>73</td>\n",
       "      <td>52</td>\n",
       "    </tr>\n",
       "    <tr>\n",
       "      <th>Luna</th>\n",
       "      <td>71</td>\n",
       "      <td>51</td>\n",
       "      <td>73</td>\n",
       "      <td>93</td>\n",
       "      <td>79</td>\n",
       "      <td>87</td>\n",
       "      <td>51</td>\n",
       "      <td>70</td>\n",
       "    </tr>\n",
       "    <tr>\n",
       "      <th>Neville</th>\n",
       "      <td>82</td>\n",
       "      <td>61</td>\n",
       "      <td>71</td>\n",
       "      <td>93</td>\n",
       "      <td>74</td>\n",
       "      <td>98</td>\n",
       "      <td>76</td>\n",
       "      <td>91</td>\n",
       "    </tr>\n",
       "  </tbody>\n",
       "</table>\n",
       "</div>"
      ],
      "text/plain": [
       "         Astronomy  Charms  Flying  Herbology  History_of_Magic  Potions  \\\n",
       "Harry           88      78      64         92                57       70   \n",
       "Ron             72      60      60         73                85       89   \n",
       "Luna            71      51      73         93                79       87   \n",
       "Neville         82      61      71         93                74       98   \n",
       "\n",
       "         Transfiguration  Apparition  \n",
       "Harry                 88          68  \n",
       "Ron                   73          52  \n",
       "Luna                  51          70  \n",
       "Neville               76          91  "
      ]
     },
     "execution_count": 78,
     "metadata": {},
     "output_type": "execute_result"
    }
   ],
   "source": [
    "# Без inplace опять ничего не проиходит с таблицей\n",
    "df"
   ]
  },
  {
   "cell_type": "markdown",
   "metadata": {},
   "source": [
    "Для нескольких условий можно использовать или | и и &:"
   ]
  },
  {
   "cell_type": "code",
   "execution_count": 79,
   "metadata": {
    "ExecuteTime": {
     "end_time": "2018-10-25T14:31:49.398833Z",
     "start_time": "2018-10-25T14:31:49.386356Z"
    }
   },
   "outputs": [
    {
     "data": {
      "text/html": [
       "<div>\n",
       "<style scoped>\n",
       "    .dataframe tbody tr th:only-of-type {\n",
       "        vertical-align: middle;\n",
       "    }\n",
       "\n",
       "    .dataframe tbody tr th {\n",
       "        vertical-align: top;\n",
       "    }\n",
       "\n",
       "    .dataframe thead th {\n",
       "        text-align: right;\n",
       "    }\n",
       "</style>\n",
       "<table border=\"1\" class=\"dataframe\">\n",
       "  <thead>\n",
       "    <tr style=\"text-align: right;\">\n",
       "      <th></th>\n",
       "      <th>Flying</th>\n",
       "      <th>Apparition</th>\n",
       "    </tr>\n",
       "  </thead>\n",
       "  <tbody>\n",
       "    <tr>\n",
       "      <th>Harry</th>\n",
       "      <td>64</td>\n",
       "      <td>68</td>\n",
       "    </tr>\n",
       "    <tr>\n",
       "      <th>Neville</th>\n",
       "      <td>71</td>\n",
       "      <td>91</td>\n",
       "    </tr>\n",
       "  </tbody>\n",
       "</table>\n",
       "</div>"
      ],
      "text/plain": [
       "         Flying  Apparition\n",
       "Harry        64          68\n",
       "Neville      71          91"
      ]
     },
     "execution_count": 79,
     "metadata": {},
     "output_type": "execute_result"
    }
   ],
   "source": [
    "df[(df['Herbology']>=90) & (df['Transfiguration']>75)][['Flying','Apparition']]"
   ]
  },
  {
   "cell_type": "markdown",
   "metadata": {},
   "source": [
    "## Больше информации про индексы"
   ]
  },
  {
   "cell_type": "code",
   "execution_count": 151,
   "metadata": {
    "ExecuteTime": {
     "end_time": "2018-10-25T14:39:01.580216Z",
     "start_time": "2018-10-25T14:39:01.559231Z"
    }
   },
   "outputs": [
    {
     "data": {
      "text/html": [
       "<div>\n",
       "<style scoped>\n",
       "    .dataframe tbody tr th:only-of-type {\n",
       "        vertical-align: middle;\n",
       "    }\n",
       "\n",
       "    .dataframe tbody tr th {\n",
       "        vertical-align: top;\n",
       "    }\n",
       "\n",
       "    .dataframe thead th {\n",
       "        text-align: right;\n",
       "    }\n",
       "</style>\n",
       "<table border=\"1\" class=\"dataframe\">\n",
       "  <thead>\n",
       "    <tr style=\"text-align: right;\">\n",
       "      <th></th>\n",
       "      <th>index</th>\n",
       "      <th>Astronomy</th>\n",
       "      <th>Charms</th>\n",
       "      <th>Flying</th>\n",
       "      <th>Herbology</th>\n",
       "      <th>History_of_Magic</th>\n",
       "      <th>Potions</th>\n",
       "      <th>Transfiguration</th>\n",
       "      <th>Apparition</th>\n",
       "      <th>Surname</th>\n",
       "    </tr>\n",
       "  </thead>\n",
       "  <tbody>\n",
       "    <tr>\n",
       "      <th>0</th>\n",
       "      <td>Harry</td>\n",
       "      <td>88</td>\n",
       "      <td>78</td>\n",
       "      <td>64</td>\n",
       "      <td>92</td>\n",
       "      <td>57</td>\n",
       "      <td>70</td>\n",
       "      <td>88</td>\n",
       "      <td>68</td>\n",
       "      <td>Potter</td>\n",
       "    </tr>\n",
       "    <tr>\n",
       "      <th>1</th>\n",
       "      <td>Ron</td>\n",
       "      <td>72</td>\n",
       "      <td>60</td>\n",
       "      <td>60</td>\n",
       "      <td>73</td>\n",
       "      <td>85</td>\n",
       "      <td>89</td>\n",
       "      <td>73</td>\n",
       "      <td>52</td>\n",
       "      <td>Weasley</td>\n",
       "    </tr>\n",
       "    <tr>\n",
       "      <th>2</th>\n",
       "      <td>Luna</td>\n",
       "      <td>71</td>\n",
       "      <td>51</td>\n",
       "      <td>73</td>\n",
       "      <td>93</td>\n",
       "      <td>79</td>\n",
       "      <td>87</td>\n",
       "      <td>51</td>\n",
       "      <td>70</td>\n",
       "      <td>Lovegood</td>\n",
       "    </tr>\n",
       "    <tr>\n",
       "      <th>3</th>\n",
       "      <td>Neville</td>\n",
       "      <td>82</td>\n",
       "      <td>61</td>\n",
       "      <td>71</td>\n",
       "      <td>93</td>\n",
       "      <td>74</td>\n",
       "      <td>98</td>\n",
       "      <td>76</td>\n",
       "      <td>91</td>\n",
       "      <td>Longbottom</td>\n",
       "    </tr>\n",
       "  </tbody>\n",
       "</table>\n",
       "</div>"
      ],
      "text/plain": [
       "     index  Astronomy  Charms  Flying  Herbology  History_of_Magic  Potions  \\\n",
       "0    Harry         88      78      64         92                57       70   \n",
       "1      Ron         72      60      60         73                85       89   \n",
       "2     Luna         71      51      73         93                79       87   \n",
       "3  Neville         82      61      71         93                74       98   \n",
       "\n",
       "   Transfiguration  Apparition     Surname  \n",
       "0               88          68      Potter  \n",
       "1               73          52     Weasley  \n",
       "2               51          70    Lovegood  \n",
       "3               76          91  Longbottom  "
      ]
     },
     "execution_count": 151,
     "metadata": {},
     "output_type": "execute_result"
    }
   ],
   "source": [
    "# Удаление индекса до базового 0,1...n index\n",
    "df.reset_index()"
   ]
  },
  {
   "cell_type": "code",
   "execution_count": 148,
   "metadata": {
    "ExecuteTime": {
     "end_time": "2018-10-25T14:38:47.652879Z",
     "start_time": "2018-10-25T14:38:47.646200Z"
    }
   },
   "outputs": [],
   "source": [
    "newind = 'Potter Weasley Lovegood Longbottom'.split()"
   ]
  },
  {
   "cell_type": "code",
   "execution_count": 149,
   "metadata": {
    "ExecuteTime": {
     "end_time": "2018-10-25T14:38:49.503388Z",
     "start_time": "2018-10-25T14:38:49.499524Z"
    }
   },
   "outputs": [],
   "source": [
    "df['Surname'] = newind"
   ]
  },
  {
   "cell_type": "code",
   "execution_count": 150,
   "metadata": {
    "ExecuteTime": {
     "end_time": "2018-10-25T14:38:50.297788Z",
     "start_time": "2018-10-25T14:38:50.280111Z"
    }
   },
   "outputs": [
    {
     "data": {
      "text/html": [
       "<div>\n",
       "<style scoped>\n",
       "    .dataframe tbody tr th:only-of-type {\n",
       "        vertical-align: middle;\n",
       "    }\n",
       "\n",
       "    .dataframe tbody tr th {\n",
       "        vertical-align: top;\n",
       "    }\n",
       "\n",
       "    .dataframe thead th {\n",
       "        text-align: right;\n",
       "    }\n",
       "</style>\n",
       "<table border=\"1\" class=\"dataframe\">\n",
       "  <thead>\n",
       "    <tr style=\"text-align: right;\">\n",
       "      <th></th>\n",
       "      <th>Astronomy</th>\n",
       "      <th>Charms</th>\n",
       "      <th>Flying</th>\n",
       "      <th>Herbology</th>\n",
       "      <th>History_of_Magic</th>\n",
       "      <th>Potions</th>\n",
       "      <th>Transfiguration</th>\n",
       "      <th>Apparition</th>\n",
       "      <th>Surname</th>\n",
       "    </tr>\n",
       "  </thead>\n",
       "  <tbody>\n",
       "    <tr>\n",
       "      <th>Harry</th>\n",
       "      <td>88</td>\n",
       "      <td>78</td>\n",
       "      <td>64</td>\n",
       "      <td>92</td>\n",
       "      <td>57</td>\n",
       "      <td>70</td>\n",
       "      <td>88</td>\n",
       "      <td>68</td>\n",
       "      <td>Potter</td>\n",
       "    </tr>\n",
       "    <tr>\n",
       "      <th>Ron</th>\n",
       "      <td>72</td>\n",
       "      <td>60</td>\n",
       "      <td>60</td>\n",
       "      <td>73</td>\n",
       "      <td>85</td>\n",
       "      <td>89</td>\n",
       "      <td>73</td>\n",
       "      <td>52</td>\n",
       "      <td>Weasley</td>\n",
       "    </tr>\n",
       "    <tr>\n",
       "      <th>Luna</th>\n",
       "      <td>71</td>\n",
       "      <td>51</td>\n",
       "      <td>73</td>\n",
       "      <td>93</td>\n",
       "      <td>79</td>\n",
       "      <td>87</td>\n",
       "      <td>51</td>\n",
       "      <td>70</td>\n",
       "      <td>Lovegood</td>\n",
       "    </tr>\n",
       "    <tr>\n",
       "      <th>Neville</th>\n",
       "      <td>82</td>\n",
       "      <td>61</td>\n",
       "      <td>71</td>\n",
       "      <td>93</td>\n",
       "      <td>74</td>\n",
       "      <td>98</td>\n",
       "      <td>76</td>\n",
       "      <td>91</td>\n",
       "      <td>Longbottom</td>\n",
       "    </tr>\n",
       "  </tbody>\n",
       "</table>\n",
       "</div>"
      ],
      "text/plain": [
       "         Astronomy  Charms  Flying  Herbology  History_of_Magic  Potions  \\\n",
       "Harry           88      78      64         92                57       70   \n",
       "Ron             72      60      60         73                85       89   \n",
       "Luna            71      51      73         93                79       87   \n",
       "Neville         82      61      71         93                74       98   \n",
       "\n",
       "         Transfiguration  Apparition     Surname  \n",
       "Harry                 88          68      Potter  \n",
       "Ron                   73          52     Weasley  \n",
       "Luna                  51          70    Lovegood  \n",
       "Neville               76          91  Longbottom  "
      ]
     },
     "execution_count": 150,
     "metadata": {},
     "output_type": "execute_result"
    }
   ],
   "source": [
    "df"
   ]
  },
  {
   "cell_type": "code",
   "execution_count": 84,
   "metadata": {
    "ExecuteTime": {
     "end_time": "2018-10-25T14:31:49.476491Z",
     "start_time": "2018-10-25T14:31:49.460367Z"
    }
   },
   "outputs": [
    {
     "data": {
      "text/html": [
       "<div>\n",
       "<style scoped>\n",
       "    .dataframe tbody tr th:only-of-type {\n",
       "        vertical-align: middle;\n",
       "    }\n",
       "\n",
       "    .dataframe tbody tr th {\n",
       "        vertical-align: top;\n",
       "    }\n",
       "\n",
       "    .dataframe thead th {\n",
       "        text-align: right;\n",
       "    }\n",
       "</style>\n",
       "<table border=\"1\" class=\"dataframe\">\n",
       "  <thead>\n",
       "    <tr style=\"text-align: right;\">\n",
       "      <th></th>\n",
       "      <th>Astronomy</th>\n",
       "      <th>Charms</th>\n",
       "      <th>Flying</th>\n",
       "      <th>Herbology</th>\n",
       "      <th>History_of_Magic</th>\n",
       "      <th>Potions</th>\n",
       "      <th>Transfiguration</th>\n",
       "      <th>Apparition</th>\n",
       "    </tr>\n",
       "    <tr>\n",
       "      <th>Surname</th>\n",
       "      <th></th>\n",
       "      <th></th>\n",
       "      <th></th>\n",
       "      <th></th>\n",
       "      <th></th>\n",
       "      <th></th>\n",
       "      <th></th>\n",
       "      <th></th>\n",
       "    </tr>\n",
       "  </thead>\n",
       "  <tbody>\n",
       "    <tr>\n",
       "      <th>Potter</th>\n",
       "      <td>88</td>\n",
       "      <td>78</td>\n",
       "      <td>64</td>\n",
       "      <td>92</td>\n",
       "      <td>57</td>\n",
       "      <td>70</td>\n",
       "      <td>88</td>\n",
       "      <td>68</td>\n",
       "    </tr>\n",
       "    <tr>\n",
       "      <th>Weasley</th>\n",
       "      <td>72</td>\n",
       "      <td>60</td>\n",
       "      <td>60</td>\n",
       "      <td>73</td>\n",
       "      <td>85</td>\n",
       "      <td>89</td>\n",
       "      <td>73</td>\n",
       "      <td>52</td>\n",
       "    </tr>\n",
       "    <tr>\n",
       "      <th>Lovegood</th>\n",
       "      <td>71</td>\n",
       "      <td>51</td>\n",
       "      <td>73</td>\n",
       "      <td>93</td>\n",
       "      <td>79</td>\n",
       "      <td>87</td>\n",
       "      <td>51</td>\n",
       "      <td>70</td>\n",
       "    </tr>\n",
       "    <tr>\n",
       "      <th>Longbottom</th>\n",
       "      <td>82</td>\n",
       "      <td>61</td>\n",
       "      <td>71</td>\n",
       "      <td>93</td>\n",
       "      <td>74</td>\n",
       "      <td>98</td>\n",
       "      <td>76</td>\n",
       "      <td>91</td>\n",
       "    </tr>\n",
       "  </tbody>\n",
       "</table>\n",
       "</div>"
      ],
      "text/plain": [
       "            Astronomy  Charms  Flying  Herbology  History_of_Magic  Potions  \\\n",
       "Surname                                                                       \n",
       "Potter             88      78      64         92                57       70   \n",
       "Weasley            72      60      60         73                85       89   \n",
       "Lovegood           71      51      73         93                79       87   \n",
       "Longbottom         82      61      71         93                74       98   \n",
       "\n",
       "            Transfiguration  Apparition  \n",
       "Surname                                  \n",
       "Potter                   88          68  \n",
       "Weasley                  73          52  \n",
       "Lovegood                 51          70  \n",
       "Longbottom               76          91  "
      ]
     },
     "execution_count": 84,
     "metadata": {},
     "output_type": "execute_result"
    }
   ],
   "source": [
    "df.set_index('Surname')"
   ]
  },
  {
   "cell_type": "code",
   "execution_count": 85,
   "metadata": {
    "ExecuteTime": {
     "end_time": "2018-10-25T14:31:49.494264Z",
     "start_time": "2018-10-25T14:31:49.480220Z"
    }
   },
   "outputs": [
    {
     "data": {
      "text/html": [
       "<div>\n",
       "<style scoped>\n",
       "    .dataframe tbody tr th:only-of-type {\n",
       "        vertical-align: middle;\n",
       "    }\n",
       "\n",
       "    .dataframe tbody tr th {\n",
       "        vertical-align: top;\n",
       "    }\n",
       "\n",
       "    .dataframe thead th {\n",
       "        text-align: right;\n",
       "    }\n",
       "</style>\n",
       "<table border=\"1\" class=\"dataframe\">\n",
       "  <thead>\n",
       "    <tr style=\"text-align: right;\">\n",
       "      <th></th>\n",
       "      <th>Astronomy</th>\n",
       "      <th>Charms</th>\n",
       "      <th>Flying</th>\n",
       "      <th>Herbology</th>\n",
       "      <th>History_of_Magic</th>\n",
       "      <th>Potions</th>\n",
       "      <th>Transfiguration</th>\n",
       "      <th>Apparition</th>\n",
       "      <th>Surname</th>\n",
       "    </tr>\n",
       "  </thead>\n",
       "  <tbody>\n",
       "    <tr>\n",
       "      <th>Harry</th>\n",
       "      <td>88</td>\n",
       "      <td>78</td>\n",
       "      <td>64</td>\n",
       "      <td>92</td>\n",
       "      <td>57</td>\n",
       "      <td>70</td>\n",
       "      <td>88</td>\n",
       "      <td>68</td>\n",
       "      <td>Potter</td>\n",
       "    </tr>\n",
       "    <tr>\n",
       "      <th>Ron</th>\n",
       "      <td>72</td>\n",
       "      <td>60</td>\n",
       "      <td>60</td>\n",
       "      <td>73</td>\n",
       "      <td>85</td>\n",
       "      <td>89</td>\n",
       "      <td>73</td>\n",
       "      <td>52</td>\n",
       "      <td>Weasley</td>\n",
       "    </tr>\n",
       "    <tr>\n",
       "      <th>Luna</th>\n",
       "      <td>71</td>\n",
       "      <td>51</td>\n",
       "      <td>73</td>\n",
       "      <td>93</td>\n",
       "      <td>79</td>\n",
       "      <td>87</td>\n",
       "      <td>51</td>\n",
       "      <td>70</td>\n",
       "      <td>Lovegood</td>\n",
       "    </tr>\n",
       "    <tr>\n",
       "      <th>Neville</th>\n",
       "      <td>82</td>\n",
       "      <td>61</td>\n",
       "      <td>71</td>\n",
       "      <td>93</td>\n",
       "      <td>74</td>\n",
       "      <td>98</td>\n",
       "      <td>76</td>\n",
       "      <td>91</td>\n",
       "      <td>Longbottom</td>\n",
       "    </tr>\n",
       "  </tbody>\n",
       "</table>\n",
       "</div>"
      ],
      "text/plain": [
       "         Astronomy  Charms  Flying  Herbology  History_of_Magic  Potions  \\\n",
       "Harry           88      78      64         92                57       70   \n",
       "Ron             72      60      60         73                85       89   \n",
       "Luna            71      51      73         93                79       87   \n",
       "Neville         82      61      71         93                74       98   \n",
       "\n",
       "         Transfiguration  Apparition     Surname  \n",
       "Harry                 88          68      Potter  \n",
       "Ron                   73          52     Weasley  \n",
       "Luna                  51          70    Lovegood  \n",
       "Neville               76          91  Longbottom  "
      ]
     },
     "execution_count": 85,
     "metadata": {},
     "output_type": "execute_result"
    }
   ],
   "source": [
    "df"
   ]
  },
  {
   "cell_type": "code",
   "execution_count": 86,
   "metadata": {
    "ExecuteTime": {
     "end_time": "2018-10-25T14:31:49.502231Z",
     "start_time": "2018-10-25T14:31:49.497517Z"
    }
   },
   "outputs": [],
   "source": [
    "df.set_index('Surname', inplace=True)"
   ]
  },
  {
   "cell_type": "code",
   "execution_count": 87,
   "metadata": {
    "ExecuteTime": {
     "end_time": "2018-10-25T14:31:49.519773Z",
     "start_time": "2018-10-25T14:31:49.505821Z"
    }
   },
   "outputs": [
    {
     "data": {
      "text/html": [
       "<div>\n",
       "<style scoped>\n",
       "    .dataframe tbody tr th:only-of-type {\n",
       "        vertical-align: middle;\n",
       "    }\n",
       "\n",
       "    .dataframe tbody tr th {\n",
       "        vertical-align: top;\n",
       "    }\n",
       "\n",
       "    .dataframe thead th {\n",
       "        text-align: right;\n",
       "    }\n",
       "</style>\n",
       "<table border=\"1\" class=\"dataframe\">\n",
       "  <thead>\n",
       "    <tr style=\"text-align: right;\">\n",
       "      <th></th>\n",
       "      <th>Astronomy</th>\n",
       "      <th>Charms</th>\n",
       "      <th>Flying</th>\n",
       "      <th>Herbology</th>\n",
       "      <th>History_of_Magic</th>\n",
       "      <th>Potions</th>\n",
       "      <th>Transfiguration</th>\n",
       "      <th>Apparition</th>\n",
       "    </tr>\n",
       "    <tr>\n",
       "      <th>Surname</th>\n",
       "      <th></th>\n",
       "      <th></th>\n",
       "      <th></th>\n",
       "      <th></th>\n",
       "      <th></th>\n",
       "      <th></th>\n",
       "      <th></th>\n",
       "      <th></th>\n",
       "    </tr>\n",
       "  </thead>\n",
       "  <tbody>\n",
       "    <tr>\n",
       "      <th>Potter</th>\n",
       "      <td>88</td>\n",
       "      <td>78</td>\n",
       "      <td>64</td>\n",
       "      <td>92</td>\n",
       "      <td>57</td>\n",
       "      <td>70</td>\n",
       "      <td>88</td>\n",
       "      <td>68</td>\n",
       "    </tr>\n",
       "    <tr>\n",
       "      <th>Weasley</th>\n",
       "      <td>72</td>\n",
       "      <td>60</td>\n",
       "      <td>60</td>\n",
       "      <td>73</td>\n",
       "      <td>85</td>\n",
       "      <td>89</td>\n",
       "      <td>73</td>\n",
       "      <td>52</td>\n",
       "    </tr>\n",
       "    <tr>\n",
       "      <th>Lovegood</th>\n",
       "      <td>71</td>\n",
       "      <td>51</td>\n",
       "      <td>73</td>\n",
       "      <td>93</td>\n",
       "      <td>79</td>\n",
       "      <td>87</td>\n",
       "      <td>51</td>\n",
       "      <td>70</td>\n",
       "    </tr>\n",
       "    <tr>\n",
       "      <th>Longbottom</th>\n",
       "      <td>82</td>\n",
       "      <td>61</td>\n",
       "      <td>71</td>\n",
       "      <td>93</td>\n",
       "      <td>74</td>\n",
       "      <td>98</td>\n",
       "      <td>76</td>\n",
       "      <td>91</td>\n",
       "    </tr>\n",
       "  </tbody>\n",
       "</table>\n",
       "</div>"
      ],
      "text/plain": [
       "            Astronomy  Charms  Flying  Herbology  History_of_Magic  Potions  \\\n",
       "Surname                                                                       \n",
       "Potter             88      78      64         92                57       70   \n",
       "Weasley            72      60      60         73                85       89   \n",
       "Lovegood           71      51      73         93                79       87   \n",
       "Longbottom         82      61      71         93                74       98   \n",
       "\n",
       "            Transfiguration  Apparition  \n",
       "Surname                                  \n",
       "Potter                   88          68  \n",
       "Weasley                  73          52  \n",
       "Lovegood                 51          70  \n",
       "Longbottom               76          91  "
      ]
     },
     "execution_count": 87,
     "metadata": {},
     "output_type": "execute_result"
    }
   ],
   "source": [
    "df"
   ]
  },
  {
   "cell_type": "markdown",
   "metadata": {},
   "source": [
    "# Другие операции"
   ]
  },
  {
   "cell_type": "code",
   "execution_count": 88,
   "metadata": {
    "ExecuteTime": {
     "end_time": "2018-10-25T14:31:49.529522Z",
     "start_time": "2018-10-25T14:31:49.522840Z"
    }
   },
   "outputs": [
    {
     "data": {
      "text/plain": [
       "array([92, 73, 93])"
      ]
     },
     "execution_count": 88,
     "metadata": {},
     "output_type": "execute_result"
    }
   ],
   "source": [
    "# Поиск уникальных значений в столбце\n",
    "df['Herbology'].unique()"
   ]
  },
  {
   "cell_type": "code",
   "execution_count": 89,
   "metadata": {
    "ExecuteTime": {
     "end_time": "2018-10-25T14:31:49.539654Z",
     "start_time": "2018-10-25T14:31:49.533091Z"
    }
   },
   "outputs": [
    {
     "data": {
      "text/plain": [
       "3"
      ]
     },
     "execution_count": 89,
     "metadata": {},
     "output_type": "execute_result"
    }
   ],
   "source": [
    "# Кол-во уникальных значений в столбце\n",
    "df['Herbology'].nunique()"
   ]
  },
  {
   "cell_type": "code",
   "execution_count": 90,
   "metadata": {
    "ExecuteTime": {
     "end_time": "2018-10-25T14:31:49.559348Z",
     "start_time": "2018-10-25T14:31:49.543486Z"
    }
   },
   "outputs": [
    {
     "data": {
      "text/html": [
       "<div>\n",
       "<style scoped>\n",
       "    .dataframe tbody tr th:only-of-type {\n",
       "        vertical-align: middle;\n",
       "    }\n",
       "\n",
       "    .dataframe tbody tr th {\n",
       "        vertical-align: top;\n",
       "    }\n",
       "\n",
       "    .dataframe thead th {\n",
       "        text-align: right;\n",
       "    }\n",
       "</style>\n",
       "<table border=\"1\" class=\"dataframe\">\n",
       "  <thead>\n",
       "    <tr style=\"text-align: right;\">\n",
       "      <th></th>\n",
       "      <th>Astronomy</th>\n",
       "      <th>Charms</th>\n",
       "      <th>Flying</th>\n",
       "      <th>Herbology</th>\n",
       "      <th>History_of_Magic</th>\n",
       "      <th>Potions</th>\n",
       "      <th>Transfiguration</th>\n",
       "      <th>Apparition</th>\n",
       "    </tr>\n",
       "    <tr>\n",
       "      <th>Surname</th>\n",
       "      <th></th>\n",
       "      <th></th>\n",
       "      <th></th>\n",
       "      <th></th>\n",
       "      <th></th>\n",
       "      <th></th>\n",
       "      <th></th>\n",
       "      <th></th>\n",
       "    </tr>\n",
       "  </thead>\n",
       "  <tbody>\n",
       "    <tr>\n",
       "      <th>Potter</th>\n",
       "      <td>88</td>\n",
       "      <td>78</td>\n",
       "      <td>64</td>\n",
       "      <td>92</td>\n",
       "      <td>57</td>\n",
       "      <td>70</td>\n",
       "      <td>88</td>\n",
       "      <td>68</td>\n",
       "    </tr>\n",
       "    <tr>\n",
       "      <th>Longbottom</th>\n",
       "      <td>82</td>\n",
       "      <td>61</td>\n",
       "      <td>71</td>\n",
       "      <td>93</td>\n",
       "      <td>74</td>\n",
       "      <td>98</td>\n",
       "      <td>76</td>\n",
       "      <td>91</td>\n",
       "    </tr>\n",
       "    <tr>\n",
       "      <th>Weasley</th>\n",
       "      <td>72</td>\n",
       "      <td>60</td>\n",
       "      <td>60</td>\n",
       "      <td>73</td>\n",
       "      <td>85</td>\n",
       "      <td>89</td>\n",
       "      <td>73</td>\n",
       "      <td>52</td>\n",
       "    </tr>\n",
       "    <tr>\n",
       "      <th>Lovegood</th>\n",
       "      <td>71</td>\n",
       "      <td>51</td>\n",
       "      <td>73</td>\n",
       "      <td>93</td>\n",
       "      <td>79</td>\n",
       "      <td>87</td>\n",
       "      <td>51</td>\n",
       "      <td>70</td>\n",
       "    </tr>\n",
       "  </tbody>\n",
       "</table>\n",
       "</div>"
      ],
      "text/plain": [
       "            Astronomy  Charms  Flying  Herbology  History_of_Magic  Potions  \\\n",
       "Surname                                                                       \n",
       "Potter             88      78      64         92                57       70   \n",
       "Longbottom         82      61      71         93                74       98   \n",
       "Weasley            72      60      60         73                85       89   \n",
       "Lovegood           71      51      73         93                79       87   \n",
       "\n",
       "            Transfiguration  Apparition  \n",
       "Surname                                  \n",
       "Potter                   88          68  \n",
       "Longbottom               76          91  \n",
       "Weasley                  73          52  \n",
       "Lovegood                 51          70  "
      ]
     },
     "execution_count": 90,
     "metadata": {},
     "output_type": "execute_result"
    }
   ],
   "source": [
    "# Сортировка по значениям одного из столбцов\n",
    "df.sort_values(by='Transfiguration', ascending=False)"
   ]
  },
  {
   "cell_type": "code",
   "execution_count": 91,
   "metadata": {
    "ExecuteTime": {
     "end_time": "2018-10-25T14:31:49.569151Z",
     "start_time": "2018-10-25T14:31:49.562648Z"
    }
   },
   "outputs": [
    {
     "data": {
      "text/plain": [
       "['Astronomy',\n",
       " 'Charms',\n",
       " 'Flying',\n",
       " 'Herbology',\n",
       " 'History_of_Magic',\n",
       " 'Potions',\n",
       " 'Transfiguration',\n",
       " 'Apparition']"
      ]
     },
     "execution_count": 91,
     "metadata": {},
     "output_type": "execute_result"
    }
   ],
   "source": [
    "# Перечисление всех названий колонок\n",
    "list(df.columns)"
   ]
  },
  {
   "cell_type": "markdown",
   "metadata": {},
   "source": [
    "# Пропущенные данные"
   ]
  },
  {
   "cell_type": "code",
   "execution_count": 92,
   "metadata": {
    "ExecuteTime": {
     "end_time": "2018-10-25T14:31:49.588740Z",
     "start_time": "2018-10-25T14:31:49.572384Z"
    }
   },
   "outputs": [
    {
     "data": {
      "text/html": [
       "<div>\n",
       "<style scoped>\n",
       "    .dataframe tbody tr th:only-of-type {\n",
       "        vertical-align: middle;\n",
       "    }\n",
       "\n",
       "    .dataframe tbody tr th {\n",
       "        vertical-align: top;\n",
       "    }\n",
       "\n",
       "    .dataframe thead th {\n",
       "        text-align: right;\n",
       "    }\n",
       "</style>\n",
       "<table border=\"1\" class=\"dataframe\">\n",
       "  <thead>\n",
       "    <tr style=\"text-align: right;\">\n",
       "      <th></th>\n",
       "      <th>Astronomy</th>\n",
       "      <th>Charms</th>\n",
       "      <th>Flying</th>\n",
       "      <th>Herbology</th>\n",
       "      <th>History_of_Magic</th>\n",
       "      <th>Potions</th>\n",
       "      <th>Transfiguration</th>\n",
       "      <th>Apparition</th>\n",
       "    </tr>\n",
       "    <tr>\n",
       "      <th>Surname</th>\n",
       "      <th></th>\n",
       "      <th></th>\n",
       "      <th></th>\n",
       "      <th></th>\n",
       "      <th></th>\n",
       "      <th></th>\n",
       "      <th></th>\n",
       "      <th></th>\n",
       "    </tr>\n",
       "  </thead>\n",
       "  <tbody>\n",
       "    <tr>\n",
       "      <th>Potter</th>\n",
       "      <td>88</td>\n",
       "      <td>78</td>\n",
       "      <td>64</td>\n",
       "      <td>92</td>\n",
       "      <td>57</td>\n",
       "      <td>70</td>\n",
       "      <td>88</td>\n",
       "      <td>68</td>\n",
       "    </tr>\n",
       "    <tr>\n",
       "      <th>Weasley</th>\n",
       "      <td>72</td>\n",
       "      <td>60</td>\n",
       "      <td>60</td>\n",
       "      <td>73</td>\n",
       "      <td>85</td>\n",
       "      <td>89</td>\n",
       "      <td>73</td>\n",
       "      <td>52</td>\n",
       "    </tr>\n",
       "    <tr>\n",
       "      <th>Lovegood</th>\n",
       "      <td>71</td>\n",
       "      <td>51</td>\n",
       "      <td>73</td>\n",
       "      <td>93</td>\n",
       "      <td>79</td>\n",
       "      <td>87</td>\n",
       "      <td>51</td>\n",
       "      <td>70</td>\n",
       "    </tr>\n",
       "    <tr>\n",
       "      <th>Longbottom</th>\n",
       "      <td>82</td>\n",
       "      <td>61</td>\n",
       "      <td>71</td>\n",
       "      <td>93</td>\n",
       "      <td>74</td>\n",
       "      <td>98</td>\n",
       "      <td>76</td>\n",
       "      <td>91</td>\n",
       "    </tr>\n",
       "  </tbody>\n",
       "</table>\n",
       "</div>"
      ],
      "text/plain": [
       "            Astronomy  Charms  Flying  Herbology  History_of_Magic  Potions  \\\n",
       "Surname                                                                       \n",
       "Potter             88      78      64         92                57       70   \n",
       "Weasley            72      60      60         73                85       89   \n",
       "Lovegood           71      51      73         93                79       87   \n",
       "Longbottom         82      61      71         93                74       98   \n",
       "\n",
       "            Transfiguration  Apparition  \n",
       "Surname                                  \n",
       "Potter                   88          68  \n",
       "Weasley                  73          52  \n",
       "Lovegood                 51          70  \n",
       "Longbottom               76          91  "
      ]
     },
     "execution_count": 92,
     "metadata": {},
     "output_type": "execute_result"
    }
   ],
   "source": [
    "df"
   ]
  },
  {
   "cell_type": "code",
   "execution_count": 93,
   "metadata": {
    "ExecuteTime": {
     "end_time": "2018-10-25T14:31:49.600011Z",
     "start_time": "2018-10-25T14:31:49.591887Z"
    }
   },
   "outputs": [],
   "source": [
    "df = df[df>70]"
   ]
  },
  {
   "cell_type": "code",
   "execution_count": 94,
   "metadata": {
    "ExecuteTime": {
     "end_time": "2018-10-25T14:31:49.620316Z",
     "start_time": "2018-10-25T14:31:49.603536Z"
    }
   },
   "outputs": [
    {
     "data": {
      "text/html": [
       "<div>\n",
       "<style scoped>\n",
       "    .dataframe tbody tr th:only-of-type {\n",
       "        vertical-align: middle;\n",
       "    }\n",
       "\n",
       "    .dataframe tbody tr th {\n",
       "        vertical-align: top;\n",
       "    }\n",
       "\n",
       "    .dataframe thead th {\n",
       "        text-align: right;\n",
       "    }\n",
       "</style>\n",
       "<table border=\"1\" class=\"dataframe\">\n",
       "  <thead>\n",
       "    <tr style=\"text-align: right;\">\n",
       "      <th></th>\n",
       "      <th>Astronomy</th>\n",
       "      <th>Charms</th>\n",
       "      <th>Flying</th>\n",
       "      <th>Herbology</th>\n",
       "      <th>History_of_Magic</th>\n",
       "      <th>Potions</th>\n",
       "      <th>Transfiguration</th>\n",
       "      <th>Apparition</th>\n",
       "    </tr>\n",
       "    <tr>\n",
       "      <th>Surname</th>\n",
       "      <th></th>\n",
       "      <th></th>\n",
       "      <th></th>\n",
       "      <th></th>\n",
       "      <th></th>\n",
       "      <th></th>\n",
       "      <th></th>\n",
       "      <th></th>\n",
       "    </tr>\n",
       "  </thead>\n",
       "  <tbody>\n",
       "    <tr>\n",
       "      <th>Potter</th>\n",
       "      <td>88</td>\n",
       "      <td>78.0</td>\n",
       "      <td>NaN</td>\n",
       "      <td>92</td>\n",
       "      <td>NaN</td>\n",
       "      <td>NaN</td>\n",
       "      <td>88.0</td>\n",
       "      <td>NaN</td>\n",
       "    </tr>\n",
       "    <tr>\n",
       "      <th>Weasley</th>\n",
       "      <td>72</td>\n",
       "      <td>NaN</td>\n",
       "      <td>NaN</td>\n",
       "      <td>73</td>\n",
       "      <td>85.0</td>\n",
       "      <td>89.0</td>\n",
       "      <td>73.0</td>\n",
       "      <td>NaN</td>\n",
       "    </tr>\n",
       "    <tr>\n",
       "      <th>Lovegood</th>\n",
       "      <td>71</td>\n",
       "      <td>NaN</td>\n",
       "      <td>73.0</td>\n",
       "      <td>93</td>\n",
       "      <td>79.0</td>\n",
       "      <td>87.0</td>\n",
       "      <td>NaN</td>\n",
       "      <td>NaN</td>\n",
       "    </tr>\n",
       "    <tr>\n",
       "      <th>Longbottom</th>\n",
       "      <td>82</td>\n",
       "      <td>NaN</td>\n",
       "      <td>71.0</td>\n",
       "      <td>93</td>\n",
       "      <td>74.0</td>\n",
       "      <td>98.0</td>\n",
       "      <td>76.0</td>\n",
       "      <td>91.0</td>\n",
       "    </tr>\n",
       "  </tbody>\n",
       "</table>\n",
       "</div>"
      ],
      "text/plain": [
       "            Astronomy  Charms  Flying  Herbology  History_of_Magic  Potions  \\\n",
       "Surname                                                                       \n",
       "Potter             88    78.0     NaN         92               NaN      NaN   \n",
       "Weasley            72     NaN     NaN         73              85.0     89.0   \n",
       "Lovegood           71     NaN    73.0         93              79.0     87.0   \n",
       "Longbottom         82     NaN    71.0         93              74.0     98.0   \n",
       "\n",
       "            Transfiguration  Apparition  \n",
       "Surname                                  \n",
       "Potter                 88.0         NaN  \n",
       "Weasley                73.0         NaN  \n",
       "Lovegood                NaN         NaN  \n",
       "Longbottom             76.0        91.0  "
      ]
     },
     "execution_count": 94,
     "metadata": {},
     "output_type": "execute_result"
    }
   ],
   "source": [
    "df"
   ]
  },
  {
   "cell_type": "code",
   "execution_count": 95,
   "metadata": {
    "ExecuteTime": {
     "end_time": "2018-10-25T14:31:49.631923Z",
     "start_time": "2018-10-25T14:31:49.623637Z"
    }
   },
   "outputs": [
    {
     "data": {
      "text/plain": [
       "Astronomy           0\n",
       "Charms              3\n",
       "Flying              2\n",
       "Herbology           0\n",
       "History_of_Magic    1\n",
       "Potions             1\n",
       "Transfiguration     1\n",
       "Apparition          3\n",
       "dtype: int64"
      ]
     },
     "execution_count": 95,
     "metadata": {},
     "output_type": "execute_result"
    }
   ],
   "source": [
    "# Кол-во пропусков в каждом столбце\n",
    "df.isnull().sum()"
   ]
  },
  {
   "cell_type": "code",
   "execution_count": 96,
   "metadata": {
    "ExecuteTime": {
     "end_time": "2018-10-25T14:31:49.648789Z",
     "start_time": "2018-10-25T14:31:49.635815Z"
    }
   },
   "outputs": [
    {
     "data": {
      "text/html": [
       "<div>\n",
       "<style scoped>\n",
       "    .dataframe tbody tr th:only-of-type {\n",
       "        vertical-align: middle;\n",
       "    }\n",
       "\n",
       "    .dataframe tbody tr th {\n",
       "        vertical-align: top;\n",
       "    }\n",
       "\n",
       "    .dataframe thead th {\n",
       "        text-align: right;\n",
       "    }\n",
       "</style>\n",
       "<table border=\"1\" class=\"dataframe\">\n",
       "  <thead>\n",
       "    <tr style=\"text-align: right;\">\n",
       "      <th></th>\n",
       "      <th>Astronomy</th>\n",
       "      <th>Charms</th>\n",
       "      <th>Flying</th>\n",
       "      <th>Herbology</th>\n",
       "      <th>History_of_Magic</th>\n",
       "      <th>Potions</th>\n",
       "      <th>Transfiguration</th>\n",
       "      <th>Apparition</th>\n",
       "    </tr>\n",
       "    <tr>\n",
       "      <th>Surname</th>\n",
       "      <th></th>\n",
       "      <th></th>\n",
       "      <th></th>\n",
       "      <th></th>\n",
       "      <th></th>\n",
       "      <th></th>\n",
       "      <th></th>\n",
       "      <th></th>\n",
       "    </tr>\n",
       "  </thead>\n",
       "  <tbody>\n",
       "  </tbody>\n",
       "</table>\n",
       "</div>"
      ],
      "text/plain": [
       "Empty DataFrame\n",
       "Columns: [Astronomy, Charms, Flying, Herbology, History_of_Magic, Potions, Transfiguration, Apparition]\n",
       "Index: []"
      ]
     },
     "execution_count": 96,
     "metadata": {},
     "output_type": "execute_result"
    }
   ],
   "source": [
    "# Удаление строк с пропусками, по дефолту удаляются те, где хотя бы один пропуск\n",
    "df.dropna()"
   ]
  },
  {
   "cell_type": "code",
   "execution_count": 97,
   "metadata": {
    "ExecuteTime": {
     "end_time": "2018-10-25T14:31:49.663940Z",
     "start_time": "2018-10-25T14:31:49.652034Z"
    }
   },
   "outputs": [
    {
     "data": {
      "text/html": [
       "<div>\n",
       "<style scoped>\n",
       "    .dataframe tbody tr th:only-of-type {\n",
       "        vertical-align: middle;\n",
       "    }\n",
       "\n",
       "    .dataframe tbody tr th {\n",
       "        vertical-align: top;\n",
       "    }\n",
       "\n",
       "    .dataframe thead th {\n",
       "        text-align: right;\n",
       "    }\n",
       "</style>\n",
       "<table border=\"1\" class=\"dataframe\">\n",
       "  <thead>\n",
       "    <tr style=\"text-align: right;\">\n",
       "      <th></th>\n",
       "      <th>Astronomy</th>\n",
       "      <th>Herbology</th>\n",
       "    </tr>\n",
       "    <tr>\n",
       "      <th>Surname</th>\n",
       "      <th></th>\n",
       "      <th></th>\n",
       "    </tr>\n",
       "  </thead>\n",
       "  <tbody>\n",
       "    <tr>\n",
       "      <th>Potter</th>\n",
       "      <td>88</td>\n",
       "      <td>92</td>\n",
       "    </tr>\n",
       "    <tr>\n",
       "      <th>Weasley</th>\n",
       "      <td>72</td>\n",
       "      <td>73</td>\n",
       "    </tr>\n",
       "    <tr>\n",
       "      <th>Lovegood</th>\n",
       "      <td>71</td>\n",
       "      <td>93</td>\n",
       "    </tr>\n",
       "    <tr>\n",
       "      <th>Longbottom</th>\n",
       "      <td>82</td>\n",
       "      <td>93</td>\n",
       "    </tr>\n",
       "  </tbody>\n",
       "</table>\n",
       "</div>"
      ],
      "text/plain": [
       "            Astronomy  Herbology\n",
       "Surname                         \n",
       "Potter             88         92\n",
       "Weasley            72         73\n",
       "Lovegood           71         93\n",
       "Longbottom         82         93"
      ]
     },
     "execution_count": 97,
     "metadata": {},
     "output_type": "execute_result"
    }
   ],
   "source": [
    "# То же самое со столбцами\n",
    "df.dropna(axis=1)"
   ]
  },
  {
   "cell_type": "code",
   "execution_count": 98,
   "metadata": {
    "ExecuteTime": {
     "end_time": "2018-10-25T14:31:49.685243Z",
     "start_time": "2018-10-25T14:31:49.667434Z"
    }
   },
   "outputs": [
    {
     "data": {
      "text/html": [
       "<div>\n",
       "<style scoped>\n",
       "    .dataframe tbody tr th:only-of-type {\n",
       "        vertical-align: middle;\n",
       "    }\n",
       "\n",
       "    .dataframe tbody tr th {\n",
       "        vertical-align: top;\n",
       "    }\n",
       "\n",
       "    .dataframe thead th {\n",
       "        text-align: right;\n",
       "    }\n",
       "</style>\n",
       "<table border=\"1\" class=\"dataframe\">\n",
       "  <thead>\n",
       "    <tr style=\"text-align: right;\">\n",
       "      <th></th>\n",
       "      <th>Astronomy</th>\n",
       "      <th>Charms</th>\n",
       "      <th>Flying</th>\n",
       "      <th>Herbology</th>\n",
       "      <th>History_of_Magic</th>\n",
       "      <th>Potions</th>\n",
       "      <th>Transfiguration</th>\n",
       "      <th>Apparition</th>\n",
       "    </tr>\n",
       "    <tr>\n",
       "      <th>Surname</th>\n",
       "      <th></th>\n",
       "      <th></th>\n",
       "      <th></th>\n",
       "      <th></th>\n",
       "      <th></th>\n",
       "      <th></th>\n",
       "      <th></th>\n",
       "      <th></th>\n",
       "    </tr>\n",
       "  </thead>\n",
       "  <tbody>\n",
       "    <tr>\n",
       "      <th>Potter</th>\n",
       "      <td>88</td>\n",
       "      <td>78</td>\n",
       "      <td>-999</td>\n",
       "      <td>92</td>\n",
       "      <td>-999</td>\n",
       "      <td>-999</td>\n",
       "      <td>88</td>\n",
       "      <td>-999</td>\n",
       "    </tr>\n",
       "    <tr>\n",
       "      <th>Weasley</th>\n",
       "      <td>72</td>\n",
       "      <td>-999</td>\n",
       "      <td>-999</td>\n",
       "      <td>73</td>\n",
       "      <td>85</td>\n",
       "      <td>89</td>\n",
       "      <td>73</td>\n",
       "      <td>-999</td>\n",
       "    </tr>\n",
       "    <tr>\n",
       "      <th>Lovegood</th>\n",
       "      <td>71</td>\n",
       "      <td>-999</td>\n",
       "      <td>73</td>\n",
       "      <td>93</td>\n",
       "      <td>79</td>\n",
       "      <td>87</td>\n",
       "      <td>-999</td>\n",
       "      <td>-999</td>\n",
       "    </tr>\n",
       "    <tr>\n",
       "      <th>Longbottom</th>\n",
       "      <td>82</td>\n",
       "      <td>-999</td>\n",
       "      <td>71</td>\n",
       "      <td>93</td>\n",
       "      <td>74</td>\n",
       "      <td>98</td>\n",
       "      <td>76</td>\n",
       "      <td>91</td>\n",
       "    </tr>\n",
       "  </tbody>\n",
       "</table>\n",
       "</div>"
      ],
      "text/plain": [
       "            Astronomy Charms Flying  Herbology History_of_Magic Potions  \\\n",
       "Surname                                                                   \n",
       "Potter             88     78   -999         92             -999    -999   \n",
       "Weasley            72   -999   -999         73               85      89   \n",
       "Lovegood           71   -999     73         93               79      87   \n",
       "Longbottom         82   -999     71         93               74      98   \n",
       "\n",
       "           Transfiguration Apparition  \n",
       "Surname                                \n",
       "Potter                  88       -999  \n",
       "Weasley                 73       -999  \n",
       "Lovegood              -999       -999  \n",
       "Longbottom              76         91  "
      ]
     },
     "execution_count": 98,
     "metadata": {},
     "output_type": "execute_result"
    }
   ],
   "source": [
    "# Заполнение пропусков\n",
    "df.fillna(value='-999')"
   ]
  },
  {
   "cell_type": "markdown",
   "metadata": {},
   "source": [
    "# Группировка"
   ]
  },
  {
   "cell_type": "markdown",
   "metadata": {},
   "source": [
    "Группировки в pandas - это очень мощный инструмент, здесь приведено лишь несколько примеров. Но в интеренете можно найти много туториалов по работе с groupby для решения ваших конкретных задач.\n",
    "\n",
    "Вводая по данным:\n",
    "Департамент регулирования и контроля магических существ классифицирует всех магических существ по шкале от 1 (X) до 5 (XXXXX) таким образом:\n",
    "\n",
    "XXXXX: Known wizard killer / impossible to train or domesticate\n",
    "\n",
    "XXXX: Dangerous / requires specialist knowledge / skilled wizard may handle\n",
    "\n",
    "XXX: Competent wizards should cope\n",
    "\n",
    "XX: Harmless / may be domesticated\n",
    "\n",
    "X: Boring"
   ]
  },
  {
   "cell_type": "code",
   "execution_count": 99,
   "metadata": {
    "ExecuteTime": {
     "end_time": "2018-10-25T14:31:49.730272Z",
     "start_time": "2018-10-25T14:31:49.688057Z"
    }
   },
   "outputs": [],
   "source": [
    "np.random.seed(4242)\n",
    "\n",
    "X = ['Flobberworm', 'Horklump']\n",
    "XX = ['Augurey', 'Bowtruckle', 'Chizpurfle', 'Clabbert', 'Diricawl', 'Fairy', 'Ghoul', \n",
    "      'Gnome', 'Grindylow', 'Imp', 'Jobberknoll', 'Mooncalf', 'Porlock', 'Puffskein', 'Ramora', 'Winged horse']\n",
    "XXX = ['Ashwinder', 'Billywig', 'Bundimun', 'Crup', 'Doxy', 'Dugbog', 'Fire crab', \n",
    "       'Fwooper', 'Glumbumble', 'Hippocampus', 'Hippogriff', 'Hodag', 'Jarvey', 'Knarl', 'Kneazle', \n",
    "       'Leprechaun', 'Lobalug', 'Mackled Malaclaw', 'Moke', 'Murtlap', 'Niffler', 'Nogtail', 'Pixie',\n",
    "       'Plimpy', 'Pogrebin', 'Red Cap', 'Salamander', 'Sea serpent', 'Shrake', 'Streeler', 'Winged horse']\n",
    "XXXX = ['Centaur', 'Demiguise', 'Erkling', 'Erumpent', 'Golden Snidget', 'Graphorn', 'Griffin', 'Hidebehind',\n",
    "        'Kappa', 'Kelpie', 'Merpeople', 'Occamy', 'Phoenix', \"Re'em\", 'Runespoor', 'Snallygaster', 'Sphinx',\n",
    "        'Tebo', 'Thestral', 'Thunderbird', 'Troll', 'Unicorn', 'Winged horse', 'Yeti']\n",
    "XXXXX = ['Acromantula', 'Basilisk', 'Chimaera', 'Dragon', 'Horned Serpent', 'Lethifold', 'Manticore',\n",
    "         'Nundu', 'Quintaped', 'Wampus cat', 'Werewolf']\n",
    "\n",
    "X_count = len(X)\n",
    "XX_count = len(XX)\n",
    "XXX_count = len(XXX)\n",
    "XXXX_count = len(XXXX)\n",
    "XXXXX_count = len(XXXXX)\n",
    "\n",
    "Class = ['X']*X_count + ['XX']*XX_count + ['XXX']*XXX_count + ['XXXX']*XXXX_count + ['XXXXX']*XXXXX_count\n",
    "Creatures = X + XX + XXX + XXXX + XXXXX\n",
    "\n",
    "data = {'Class': Class,\n",
    "        'Creature': Creatures,\n",
    "        'Prettiness': randint(0, 100, size = (len(Class)))}\n"
   ]
  },
  {
   "cell_type": "code",
   "execution_count": 100,
   "metadata": {
    "ExecuteTime": {
     "end_time": "2018-10-25T14:31:49.748776Z",
     "start_time": "2018-10-25T14:31:49.733795Z"
    }
   },
   "outputs": [
    {
     "data": {
      "text/html": [
       "<div>\n",
       "<style scoped>\n",
       "    .dataframe tbody tr th:only-of-type {\n",
       "        vertical-align: middle;\n",
       "    }\n",
       "\n",
       "    .dataframe tbody tr th {\n",
       "        vertical-align: top;\n",
       "    }\n",
       "\n",
       "    .dataframe thead th {\n",
       "        text-align: right;\n",
       "    }\n",
       "</style>\n",
       "<table border=\"1\" class=\"dataframe\">\n",
       "  <thead>\n",
       "    <tr style=\"text-align: right;\">\n",
       "      <th></th>\n",
       "      <th>Class</th>\n",
       "      <th>Creature</th>\n",
       "      <th>Prettiness</th>\n",
       "    </tr>\n",
       "  </thead>\n",
       "  <tbody>\n",
       "    <tr>\n",
       "      <th>0</th>\n",
       "      <td>X</td>\n",
       "      <td>Flobberworm</td>\n",
       "      <td>46</td>\n",
       "    </tr>\n",
       "    <tr>\n",
       "      <th>1</th>\n",
       "      <td>X</td>\n",
       "      <td>Horklump</td>\n",
       "      <td>13</td>\n",
       "    </tr>\n",
       "    <tr>\n",
       "      <th>2</th>\n",
       "      <td>XX</td>\n",
       "      <td>Augurey</td>\n",
       "      <td>17</td>\n",
       "    </tr>\n",
       "    <tr>\n",
       "      <th>3</th>\n",
       "      <td>XX</td>\n",
       "      <td>Bowtruckle</td>\n",
       "      <td>54</td>\n",
       "    </tr>\n",
       "    <tr>\n",
       "      <th>4</th>\n",
       "      <td>XX</td>\n",
       "      <td>Chizpurfle</td>\n",
       "      <td>34</td>\n",
       "    </tr>\n",
       "  </tbody>\n",
       "</table>\n",
       "</div>"
      ],
      "text/plain": [
       "  Class     Creature  Prettiness\n",
       "0     X  Flobberworm          46\n",
       "1     X     Horklump          13\n",
       "2    XX      Augurey          17\n",
       "3    XX   Bowtruckle          54\n",
       "4    XX   Chizpurfle          34"
      ]
     },
     "execution_count": 100,
     "metadata": {},
     "output_type": "execute_result"
    }
   ],
   "source": [
    "data = pd.DataFrame(data)\n",
    "data.head()"
   ]
  },
  {
   "cell_type": "code",
   "execution_count": 101,
   "metadata": {
    "ExecuteTime": {
     "end_time": "2018-10-25T14:31:49.761630Z",
     "start_time": "2018-10-25T14:31:49.751616Z"
    }
   },
   "outputs": [
    {
     "data": {
      "text/plain": [
       "Class\n",
       "X        29.500000\n",
       "XX       47.500000\n",
       "XXX      47.548387\n",
       "XXXX     63.416667\n",
       "XXXXX    46.545455\n",
       "Name: Prettiness, dtype: float64"
      ]
     },
     "execution_count": 101,
     "metadata": {},
     "output_type": "execute_result"
    }
   ],
   "source": [
    "# Сгруппируем данные по классам и посмотрим на среднюю оценку симпатичности\n",
    "data.groupby('Class')['Prettiness'].mean()"
   ]
  },
  {
   "cell_type": "code",
   "execution_count": 102,
   "metadata": {
    "ExecuteTime": {
     "end_time": "2018-10-25T14:31:49.774898Z",
     "start_time": "2018-10-25T14:31:49.764520Z"
    }
   },
   "outputs": [
    {
     "data": {
      "text/plain": [
       "Class\n",
       "X        29.500000\n",
       "XX       47.500000\n",
       "XXX      47.548387\n",
       "XXXX     63.416667\n",
       "XXXXX    46.545455\n",
       "Name: Prettiness, dtype: float64"
      ]
     },
     "execution_count": 102,
     "metadata": {},
     "output_type": "execute_result"
    }
   ],
   "source": [
    "# Это можно сделать и иным способом. В agg() можно передавать любые функции\n",
    "data.groupby('Class')['Prettiness'].agg(np.mean)"
   ]
  },
  {
   "cell_type": "code",
   "execution_count": 103,
   "metadata": {
    "ExecuteTime": {
     "end_time": "2018-10-25T14:31:49.787763Z",
     "start_time": "2018-10-25T14:31:49.778297Z"
    }
   },
   "outputs": [
    {
     "data": {
      "text/plain": [
       "Class\n",
       "X         2\n",
       "XX       16\n",
       "XXX      31\n",
       "XXXX     24\n",
       "XXXXX    11\n",
       "Name: Prettiness, dtype: int64"
      ]
     },
     "execution_count": 103,
     "metadata": {},
     "output_type": "execute_result"
    }
   ],
   "source": [
    "# Подсчет кол-ва элементов в группах\n",
    "data.groupby('Class')['Prettiness'].count()"
   ]
  },
  {
   "cell_type": "code",
   "execution_count": 104,
   "metadata": {
    "ExecuteTime": {
     "end_time": "2018-10-25T14:31:49.800800Z",
     "start_time": "2018-10-25T14:31:49.791828Z"
    }
   },
   "outputs": [
    {
     "data": {
      "text/plain": [
       "XXX      31\n",
       "XXXX     24\n",
       "XX       16\n",
       "XXXXX    11\n",
       "X         2\n",
       "Name: Class, dtype: int64"
      ]
     },
     "execution_count": 104,
     "metadata": {},
     "output_type": "execute_result"
    }
   ],
   "source": [
    "# проверка пролого вывода, все сходится.\n",
    "data['Class'].value_counts()"
   ]
  },
  {
   "cell_type": "code",
   "execution_count": 105,
   "metadata": {
    "ExecuteTime": {
     "end_time": "2018-10-25T14:31:49.829713Z",
     "start_time": "2018-10-25T14:31:49.803890Z"
    }
   },
   "outputs": [
    {
     "data": {
      "text/html": [
       "<div>\n",
       "<style scoped>\n",
       "    .dataframe tbody tr th:only-of-type {\n",
       "        vertical-align: middle;\n",
       "    }\n",
       "\n",
       "    .dataframe tbody tr th {\n",
       "        vertical-align: top;\n",
       "    }\n",
       "\n",
       "    .dataframe thead th {\n",
       "        text-align: right;\n",
       "    }\n",
       "</style>\n",
       "<table border=\"1\" class=\"dataframe\">\n",
       "  <thead>\n",
       "    <tr style=\"text-align: right;\">\n",
       "      <th></th>\n",
       "      <th>Creature</th>\n",
       "      <th>Prettiness</th>\n",
       "    </tr>\n",
       "    <tr>\n",
       "      <th>Class</th>\n",
       "      <th></th>\n",
       "      <th></th>\n",
       "    </tr>\n",
       "  </thead>\n",
       "  <tbody>\n",
       "    <tr>\n",
       "      <th>X</th>\n",
       "      <td>Horklump</td>\n",
       "      <td>46</td>\n",
       "    </tr>\n",
       "    <tr>\n",
       "      <th>XX</th>\n",
       "      <td>Winged horse</td>\n",
       "      <td>93</td>\n",
       "    </tr>\n",
       "    <tr>\n",
       "      <th>XXX</th>\n",
       "      <td>Winged horse</td>\n",
       "      <td>98</td>\n",
       "    </tr>\n",
       "    <tr>\n",
       "      <th>XXXX</th>\n",
       "      <td>Yeti</td>\n",
       "      <td>99</td>\n",
       "    </tr>\n",
       "    <tr>\n",
       "      <th>XXXXX</th>\n",
       "      <td>Werewolf</td>\n",
       "      <td>87</td>\n",
       "    </tr>\n",
       "  </tbody>\n",
       "</table>\n",
       "</div>"
      ],
      "text/plain": [
       "           Creature  Prettiness\n",
       "Class                          \n",
       "X          Horklump          46\n",
       "XX     Winged horse          93\n",
       "XXX    Winged horse          98\n",
       "XXXX           Yeti          99\n",
       "XXXXX      Werewolf          87"
      ]
     },
     "execution_count": 105,
     "metadata": {},
     "output_type": "execute_result"
    }
   ],
   "source": [
    "# Вывод макимального значения в группе\n",
    "by_class = data.groupby('Class')\n",
    "by_class.max()"
   ]
  },
  {
   "cell_type": "code",
   "execution_count": 106,
   "metadata": {
    "ExecuteTime": {
     "end_time": "2018-10-25T14:31:49.888968Z",
     "start_time": "2018-10-25T14:31:49.832004Z"
    }
   },
   "outputs": [
    {
     "data": {
      "text/html": [
       "<div>\n",
       "<style scoped>\n",
       "    .dataframe tbody tr th:only-of-type {\n",
       "        vertical-align: middle;\n",
       "    }\n",
       "\n",
       "    .dataframe tbody tr th {\n",
       "        vertical-align: top;\n",
       "    }\n",
       "\n",
       "    .dataframe thead tr th {\n",
       "        text-align: left;\n",
       "    }\n",
       "\n",
       "    .dataframe thead tr:last-of-type th {\n",
       "        text-align: right;\n",
       "    }\n",
       "</style>\n",
       "<table border=\"1\" class=\"dataframe\">\n",
       "  <thead>\n",
       "    <tr>\n",
       "      <th></th>\n",
       "      <th colspan=\"8\" halign=\"left\">Prettiness</th>\n",
       "    </tr>\n",
       "    <tr>\n",
       "      <th></th>\n",
       "      <th>count</th>\n",
       "      <th>mean</th>\n",
       "      <th>std</th>\n",
       "      <th>min</th>\n",
       "      <th>25%</th>\n",
       "      <th>50%</th>\n",
       "      <th>75%</th>\n",
       "      <th>max</th>\n",
       "    </tr>\n",
       "    <tr>\n",
       "      <th>Class</th>\n",
       "      <th></th>\n",
       "      <th></th>\n",
       "      <th></th>\n",
       "      <th></th>\n",
       "      <th></th>\n",
       "      <th></th>\n",
       "      <th></th>\n",
       "      <th></th>\n",
       "    </tr>\n",
       "  </thead>\n",
       "  <tbody>\n",
       "    <tr>\n",
       "      <th>X</th>\n",
       "      <td>2.0</td>\n",
       "      <td>29.500000</td>\n",
       "      <td>23.334524</td>\n",
       "      <td>13.0</td>\n",
       "      <td>21.25</td>\n",
       "      <td>29.5</td>\n",
       "      <td>37.75</td>\n",
       "      <td>46.0</td>\n",
       "    </tr>\n",
       "    <tr>\n",
       "      <th>XX</th>\n",
       "      <td>16.0</td>\n",
       "      <td>47.500000</td>\n",
       "      <td>26.715788</td>\n",
       "      <td>13.0</td>\n",
       "      <td>28.75</td>\n",
       "      <td>41.0</td>\n",
       "      <td>67.50</td>\n",
       "      <td>93.0</td>\n",
       "    </tr>\n",
       "    <tr>\n",
       "      <th>XXX</th>\n",
       "      <td>31.0</td>\n",
       "      <td>47.548387</td>\n",
       "      <td>29.323300</td>\n",
       "      <td>0.0</td>\n",
       "      <td>22.50</td>\n",
       "      <td>48.0</td>\n",
       "      <td>64.50</td>\n",
       "      <td>98.0</td>\n",
       "    </tr>\n",
       "    <tr>\n",
       "      <th>XXXX</th>\n",
       "      <td>24.0</td>\n",
       "      <td>63.416667</td>\n",
       "      <td>27.347866</td>\n",
       "      <td>3.0</td>\n",
       "      <td>49.00</td>\n",
       "      <td>70.5</td>\n",
       "      <td>84.00</td>\n",
       "      <td>99.0</td>\n",
       "    </tr>\n",
       "    <tr>\n",
       "      <th>XXXXX</th>\n",
       "      <td>11.0</td>\n",
       "      <td>46.545455</td>\n",
       "      <td>19.438949</td>\n",
       "      <td>13.0</td>\n",
       "      <td>36.00</td>\n",
       "      <td>44.0</td>\n",
       "      <td>55.50</td>\n",
       "      <td>87.0</td>\n",
       "    </tr>\n",
       "  </tbody>\n",
       "</table>\n",
       "</div>"
      ],
      "text/plain": [
       "      Prettiness                                                      \n",
       "           count       mean        std   min    25%   50%    75%   max\n",
       "Class                                                                 \n",
       "X            2.0  29.500000  23.334524  13.0  21.25  29.5  37.75  46.0\n",
       "XX          16.0  47.500000  26.715788  13.0  28.75  41.0  67.50  93.0\n",
       "XXX         31.0  47.548387  29.323300   0.0  22.50  48.0  64.50  98.0\n",
       "XXXX        24.0  63.416667  27.347866   3.0  49.00  70.5  84.00  99.0\n",
       "XXXXX       11.0  46.545455  19.438949  13.0  36.00  44.0  55.50  87.0"
      ]
     },
     "execution_count": 106,
     "metadata": {},
     "output_type": "execute_result"
    }
   ],
   "source": [
    "# Описание групп\n",
    "by_class.describe()"
   ]
  },
  {
   "cell_type": "markdown",
   "metadata": {},
   "source": [
    "# Объединение таблиц\n",
    "\n",
    "Существует несколько основных способов объединения DataFrames вместе."
   ]
  },
  {
   "cell_type": "code",
   "execution_count": 107,
   "metadata": {
    "ExecuteTime": {
     "end_time": "2018-10-25T14:31:49.909120Z",
     "start_time": "2018-10-25T14:31:49.891573Z"
    }
   },
   "outputs": [],
   "source": [
    "# Обратите внимание на индекс в этом примере, он не пересекается.\n",
    "df1 = pd.DataFrame({'Gryffindor': ['G0', 'G1', 'G2', 'G3'],\n",
    "                        'Hufflepuff': ['H0', 'H1', 'H2', 'H3'],\n",
    "                        'Ravenclaw': ['R0', 'R1', 'R2', 'R3'],\n",
    "                        'Slytherin': ['S0', 'S1', 'S2', 'S3']},\n",
    "                        index=[0, 1, 2, 3])\n",
    "\n",
    "df2 = pd.DataFrame({'Gryffindor': ['G4', 'G5', 'G6', 'G7'],\n",
    "                        'Hufflepuff': ['H4', 'H5', 'H6', 'H7'],\n",
    "                        'Ravenclaw': ['R4', 'R5', 'R6', 'R7'],\n",
    "                        'Slytherin': ['S4', 'S5', 'S6', 'S7']},\n",
    "                        index=[4, 5, 6, 7])\n",
    "\n",
    "df3 = pd.DataFrame({'Gryffindor': ['G8', 'G9', 'G10', 'G11'],\n",
    "                        'Hufflepuff': ['H8', 'H9', 'H10', 'H11'],\n",
    "                        'Ravenclaw': ['R8', 'R9', 'R10', 'R11'],\n",
    "                        'Slytherin': ['S8', 'S9', 'S10', 'S11']},\n",
    "                        index=[8, 9, 10, 11])"
   ]
  },
  {
   "cell_type": "code",
   "execution_count": 108,
   "metadata": {
    "ExecuteTime": {
     "end_time": "2018-10-25T14:31:49.926007Z",
     "start_time": "2018-10-25T14:31:49.912149Z"
    }
   },
   "outputs": [
    {
     "data": {
      "text/html": [
       "<div>\n",
       "<style scoped>\n",
       "    .dataframe tbody tr th:only-of-type {\n",
       "        vertical-align: middle;\n",
       "    }\n",
       "\n",
       "    .dataframe tbody tr th {\n",
       "        vertical-align: top;\n",
       "    }\n",
       "\n",
       "    .dataframe thead th {\n",
       "        text-align: right;\n",
       "    }\n",
       "</style>\n",
       "<table border=\"1\" class=\"dataframe\">\n",
       "  <thead>\n",
       "    <tr style=\"text-align: right;\">\n",
       "      <th></th>\n",
       "      <th>Gryffindor</th>\n",
       "      <th>Hufflepuff</th>\n",
       "      <th>Ravenclaw</th>\n",
       "      <th>Slytherin</th>\n",
       "    </tr>\n",
       "  </thead>\n",
       "  <tbody>\n",
       "    <tr>\n",
       "      <th>0</th>\n",
       "      <td>G0</td>\n",
       "      <td>H0</td>\n",
       "      <td>R0</td>\n",
       "      <td>S0</td>\n",
       "    </tr>\n",
       "    <tr>\n",
       "      <th>1</th>\n",
       "      <td>G1</td>\n",
       "      <td>H1</td>\n",
       "      <td>R1</td>\n",
       "      <td>S1</td>\n",
       "    </tr>\n",
       "    <tr>\n",
       "      <th>2</th>\n",
       "      <td>G2</td>\n",
       "      <td>H2</td>\n",
       "      <td>R2</td>\n",
       "      <td>S2</td>\n",
       "    </tr>\n",
       "    <tr>\n",
       "      <th>3</th>\n",
       "      <td>G3</td>\n",
       "      <td>H3</td>\n",
       "      <td>R3</td>\n",
       "      <td>S3</td>\n",
       "    </tr>\n",
       "  </tbody>\n",
       "</table>\n",
       "</div>"
      ],
      "text/plain": [
       "  Gryffindor Hufflepuff Ravenclaw Slytherin\n",
       "0         G0         H0        R0        S0\n",
       "1         G1         H1        R1        S1\n",
       "2         G2         H2        R2        S2\n",
       "3         G3         H3        R3        S3"
      ]
     },
     "execution_count": 108,
     "metadata": {},
     "output_type": "execute_result"
    }
   ],
   "source": [
    "df1"
   ]
  },
  {
   "cell_type": "code",
   "execution_count": 109,
   "metadata": {
    "ExecuteTime": {
     "end_time": "2018-10-25T14:31:49.943522Z",
     "start_time": "2018-10-25T14:31:49.929397Z"
    }
   },
   "outputs": [
    {
     "data": {
      "text/html": [
       "<div>\n",
       "<style scoped>\n",
       "    .dataframe tbody tr th:only-of-type {\n",
       "        vertical-align: middle;\n",
       "    }\n",
       "\n",
       "    .dataframe tbody tr th {\n",
       "        vertical-align: top;\n",
       "    }\n",
       "\n",
       "    .dataframe thead th {\n",
       "        text-align: right;\n",
       "    }\n",
       "</style>\n",
       "<table border=\"1\" class=\"dataframe\">\n",
       "  <thead>\n",
       "    <tr style=\"text-align: right;\">\n",
       "      <th></th>\n",
       "      <th>Gryffindor</th>\n",
       "      <th>Hufflepuff</th>\n",
       "      <th>Ravenclaw</th>\n",
       "      <th>Slytherin</th>\n",
       "    </tr>\n",
       "  </thead>\n",
       "  <tbody>\n",
       "    <tr>\n",
       "      <th>4</th>\n",
       "      <td>G4</td>\n",
       "      <td>H4</td>\n",
       "      <td>R4</td>\n",
       "      <td>S4</td>\n",
       "    </tr>\n",
       "    <tr>\n",
       "      <th>5</th>\n",
       "      <td>G5</td>\n",
       "      <td>H5</td>\n",
       "      <td>R5</td>\n",
       "      <td>S5</td>\n",
       "    </tr>\n",
       "    <tr>\n",
       "      <th>6</th>\n",
       "      <td>G6</td>\n",
       "      <td>H6</td>\n",
       "      <td>R6</td>\n",
       "      <td>S6</td>\n",
       "    </tr>\n",
       "    <tr>\n",
       "      <th>7</th>\n",
       "      <td>G7</td>\n",
       "      <td>H7</td>\n",
       "      <td>R7</td>\n",
       "      <td>S7</td>\n",
       "    </tr>\n",
       "  </tbody>\n",
       "</table>\n",
       "</div>"
      ],
      "text/plain": [
       "  Gryffindor Hufflepuff Ravenclaw Slytherin\n",
       "4         G4         H4        R4        S4\n",
       "5         G5         H5        R5        S5\n",
       "6         G6         H6        R6        S6\n",
       "7         G7         H7        R7        S7"
      ]
     },
     "execution_count": 109,
     "metadata": {},
     "output_type": "execute_result"
    }
   ],
   "source": [
    "df2"
   ]
  },
  {
   "cell_type": "markdown",
   "metadata": {},
   "source": [
    "## Concatenation\n",
    "\n",
    "Concatenation склеивает DataFrames вместе. Помните, что размерность данных по той оси, по которой склеиваете, должна совпадать у всех склеиваемых частей, если только не вмешивается индекс. **pd.concat** можно просто передать лист таблиц, которые будут объединены:"
   ]
  },
  {
   "cell_type": "code",
   "execution_count": 110,
   "metadata": {
    "ExecuteTime": {
     "end_time": "2018-10-25T14:31:49.963291Z",
     "start_time": "2018-10-25T14:31:49.946689Z"
    }
   },
   "outputs": [
    {
     "data": {
      "text/html": [
       "<div>\n",
       "<style scoped>\n",
       "    .dataframe tbody tr th:only-of-type {\n",
       "        vertical-align: middle;\n",
       "    }\n",
       "\n",
       "    .dataframe tbody tr th {\n",
       "        vertical-align: top;\n",
       "    }\n",
       "\n",
       "    .dataframe thead th {\n",
       "        text-align: right;\n",
       "    }\n",
       "</style>\n",
       "<table border=\"1\" class=\"dataframe\">\n",
       "  <thead>\n",
       "    <tr style=\"text-align: right;\">\n",
       "      <th></th>\n",
       "      <th>Gryffindor</th>\n",
       "      <th>Hufflepuff</th>\n",
       "      <th>Ravenclaw</th>\n",
       "      <th>Slytherin</th>\n",
       "    </tr>\n",
       "  </thead>\n",
       "  <tbody>\n",
       "    <tr>\n",
       "      <th>0</th>\n",
       "      <td>G0</td>\n",
       "      <td>H0</td>\n",
       "      <td>R0</td>\n",
       "      <td>S0</td>\n",
       "    </tr>\n",
       "    <tr>\n",
       "      <th>1</th>\n",
       "      <td>G1</td>\n",
       "      <td>H1</td>\n",
       "      <td>R1</td>\n",
       "      <td>S1</td>\n",
       "    </tr>\n",
       "    <tr>\n",
       "      <th>2</th>\n",
       "      <td>G2</td>\n",
       "      <td>H2</td>\n",
       "      <td>R2</td>\n",
       "      <td>S2</td>\n",
       "    </tr>\n",
       "    <tr>\n",
       "      <th>3</th>\n",
       "      <td>G3</td>\n",
       "      <td>H3</td>\n",
       "      <td>R3</td>\n",
       "      <td>S3</td>\n",
       "    </tr>\n",
       "    <tr>\n",
       "      <th>4</th>\n",
       "      <td>G4</td>\n",
       "      <td>H4</td>\n",
       "      <td>R4</td>\n",
       "      <td>S4</td>\n",
       "    </tr>\n",
       "    <tr>\n",
       "      <th>5</th>\n",
       "      <td>G5</td>\n",
       "      <td>H5</td>\n",
       "      <td>R5</td>\n",
       "      <td>S5</td>\n",
       "    </tr>\n",
       "    <tr>\n",
       "      <th>6</th>\n",
       "      <td>G6</td>\n",
       "      <td>H6</td>\n",
       "      <td>R6</td>\n",
       "      <td>S6</td>\n",
       "    </tr>\n",
       "    <tr>\n",
       "      <th>7</th>\n",
       "      <td>G7</td>\n",
       "      <td>H7</td>\n",
       "      <td>R7</td>\n",
       "      <td>S7</td>\n",
       "    </tr>\n",
       "    <tr>\n",
       "      <th>8</th>\n",
       "      <td>G8</td>\n",
       "      <td>H8</td>\n",
       "      <td>R8</td>\n",
       "      <td>S8</td>\n",
       "    </tr>\n",
       "    <tr>\n",
       "      <th>9</th>\n",
       "      <td>G9</td>\n",
       "      <td>H9</td>\n",
       "      <td>R9</td>\n",
       "      <td>S9</td>\n",
       "    </tr>\n",
       "    <tr>\n",
       "      <th>10</th>\n",
       "      <td>G10</td>\n",
       "      <td>H10</td>\n",
       "      <td>R10</td>\n",
       "      <td>S10</td>\n",
       "    </tr>\n",
       "    <tr>\n",
       "      <th>11</th>\n",
       "      <td>G11</td>\n",
       "      <td>H11</td>\n",
       "      <td>R11</td>\n",
       "      <td>S11</td>\n",
       "    </tr>\n",
       "  </tbody>\n",
       "</table>\n",
       "</div>"
      ],
      "text/plain": [
       "   Gryffindor Hufflepuff Ravenclaw Slytherin\n",
       "0          G0         H0        R0        S0\n",
       "1          G1         H1        R1        S1\n",
       "2          G2         H2        R2        S2\n",
       "3          G3         H3        R3        S3\n",
       "4          G4         H4        R4        S4\n",
       "5          G5         H5        R5        S5\n",
       "6          G6         H6        R6        S6\n",
       "7          G7         H7        R7        S7\n",
       "8          G8         H8        R8        S8\n",
       "9          G9         H9        R9        S9\n",
       "10        G10        H10       R10       S10\n",
       "11        G11        H11       R11       S11"
      ]
     },
     "execution_count": 110,
     "metadata": {},
     "output_type": "execute_result"
    }
   ],
   "source": [
    "pd.concat([df1,df2,df3])"
   ]
  },
  {
   "cell_type": "code",
   "execution_count": 111,
   "metadata": {
    "ExecuteTime": {
     "end_time": "2018-10-25T14:31:50.034434Z",
     "start_time": "2018-10-25T14:31:49.966549Z"
    }
   },
   "outputs": [
    {
     "data": {
      "text/html": [
       "<div>\n",
       "<style scoped>\n",
       "    .dataframe tbody tr th:only-of-type {\n",
       "        vertical-align: middle;\n",
       "    }\n",
       "\n",
       "    .dataframe tbody tr th {\n",
       "        vertical-align: top;\n",
       "    }\n",
       "\n",
       "    .dataframe thead th {\n",
       "        text-align: right;\n",
       "    }\n",
       "</style>\n",
       "<table border=\"1\" class=\"dataframe\">\n",
       "  <thead>\n",
       "    <tr style=\"text-align: right;\">\n",
       "      <th></th>\n",
       "      <th>Gryffindor</th>\n",
       "      <th>Hufflepuff</th>\n",
       "      <th>Ravenclaw</th>\n",
       "      <th>Slytherin</th>\n",
       "      <th>Gryffindor</th>\n",
       "      <th>Hufflepuff</th>\n",
       "      <th>Ravenclaw</th>\n",
       "      <th>Slytherin</th>\n",
       "      <th>Gryffindor</th>\n",
       "      <th>Hufflepuff</th>\n",
       "      <th>Ravenclaw</th>\n",
       "      <th>Slytherin</th>\n",
       "    </tr>\n",
       "  </thead>\n",
       "  <tbody>\n",
       "    <tr>\n",
       "      <th>0</th>\n",
       "      <td>G0</td>\n",
       "      <td>H0</td>\n",
       "      <td>R0</td>\n",
       "      <td>S0</td>\n",
       "      <td>NaN</td>\n",
       "      <td>NaN</td>\n",
       "      <td>NaN</td>\n",
       "      <td>NaN</td>\n",
       "      <td>NaN</td>\n",
       "      <td>NaN</td>\n",
       "      <td>NaN</td>\n",
       "      <td>NaN</td>\n",
       "    </tr>\n",
       "    <tr>\n",
       "      <th>1</th>\n",
       "      <td>G1</td>\n",
       "      <td>H1</td>\n",
       "      <td>R1</td>\n",
       "      <td>S1</td>\n",
       "      <td>NaN</td>\n",
       "      <td>NaN</td>\n",
       "      <td>NaN</td>\n",
       "      <td>NaN</td>\n",
       "      <td>NaN</td>\n",
       "      <td>NaN</td>\n",
       "      <td>NaN</td>\n",
       "      <td>NaN</td>\n",
       "    </tr>\n",
       "    <tr>\n",
       "      <th>2</th>\n",
       "      <td>G2</td>\n",
       "      <td>H2</td>\n",
       "      <td>R2</td>\n",
       "      <td>S2</td>\n",
       "      <td>NaN</td>\n",
       "      <td>NaN</td>\n",
       "      <td>NaN</td>\n",
       "      <td>NaN</td>\n",
       "      <td>NaN</td>\n",
       "      <td>NaN</td>\n",
       "      <td>NaN</td>\n",
       "      <td>NaN</td>\n",
       "    </tr>\n",
       "    <tr>\n",
       "      <th>3</th>\n",
       "      <td>G3</td>\n",
       "      <td>H3</td>\n",
       "      <td>R3</td>\n",
       "      <td>S3</td>\n",
       "      <td>NaN</td>\n",
       "      <td>NaN</td>\n",
       "      <td>NaN</td>\n",
       "      <td>NaN</td>\n",
       "      <td>NaN</td>\n",
       "      <td>NaN</td>\n",
       "      <td>NaN</td>\n",
       "      <td>NaN</td>\n",
       "    </tr>\n",
       "    <tr>\n",
       "      <th>4</th>\n",
       "      <td>NaN</td>\n",
       "      <td>NaN</td>\n",
       "      <td>NaN</td>\n",
       "      <td>NaN</td>\n",
       "      <td>G4</td>\n",
       "      <td>H4</td>\n",
       "      <td>R4</td>\n",
       "      <td>S4</td>\n",
       "      <td>NaN</td>\n",
       "      <td>NaN</td>\n",
       "      <td>NaN</td>\n",
       "      <td>NaN</td>\n",
       "    </tr>\n",
       "    <tr>\n",
       "      <th>5</th>\n",
       "      <td>NaN</td>\n",
       "      <td>NaN</td>\n",
       "      <td>NaN</td>\n",
       "      <td>NaN</td>\n",
       "      <td>G5</td>\n",
       "      <td>H5</td>\n",
       "      <td>R5</td>\n",
       "      <td>S5</td>\n",
       "      <td>NaN</td>\n",
       "      <td>NaN</td>\n",
       "      <td>NaN</td>\n",
       "      <td>NaN</td>\n",
       "    </tr>\n",
       "    <tr>\n",
       "      <th>6</th>\n",
       "      <td>NaN</td>\n",
       "      <td>NaN</td>\n",
       "      <td>NaN</td>\n",
       "      <td>NaN</td>\n",
       "      <td>G6</td>\n",
       "      <td>H6</td>\n",
       "      <td>R6</td>\n",
       "      <td>S6</td>\n",
       "      <td>NaN</td>\n",
       "      <td>NaN</td>\n",
       "      <td>NaN</td>\n",
       "      <td>NaN</td>\n",
       "    </tr>\n",
       "    <tr>\n",
       "      <th>7</th>\n",
       "      <td>NaN</td>\n",
       "      <td>NaN</td>\n",
       "      <td>NaN</td>\n",
       "      <td>NaN</td>\n",
       "      <td>G7</td>\n",
       "      <td>H7</td>\n",
       "      <td>R7</td>\n",
       "      <td>S7</td>\n",
       "      <td>NaN</td>\n",
       "      <td>NaN</td>\n",
       "      <td>NaN</td>\n",
       "      <td>NaN</td>\n",
       "    </tr>\n",
       "    <tr>\n",
       "      <th>8</th>\n",
       "      <td>NaN</td>\n",
       "      <td>NaN</td>\n",
       "      <td>NaN</td>\n",
       "      <td>NaN</td>\n",
       "      <td>NaN</td>\n",
       "      <td>NaN</td>\n",
       "      <td>NaN</td>\n",
       "      <td>NaN</td>\n",
       "      <td>G8</td>\n",
       "      <td>H8</td>\n",
       "      <td>R8</td>\n",
       "      <td>S8</td>\n",
       "    </tr>\n",
       "    <tr>\n",
       "      <th>9</th>\n",
       "      <td>NaN</td>\n",
       "      <td>NaN</td>\n",
       "      <td>NaN</td>\n",
       "      <td>NaN</td>\n",
       "      <td>NaN</td>\n",
       "      <td>NaN</td>\n",
       "      <td>NaN</td>\n",
       "      <td>NaN</td>\n",
       "      <td>G9</td>\n",
       "      <td>H9</td>\n",
       "      <td>R9</td>\n",
       "      <td>S9</td>\n",
       "    </tr>\n",
       "    <tr>\n",
       "      <th>10</th>\n",
       "      <td>NaN</td>\n",
       "      <td>NaN</td>\n",
       "      <td>NaN</td>\n",
       "      <td>NaN</td>\n",
       "      <td>NaN</td>\n",
       "      <td>NaN</td>\n",
       "      <td>NaN</td>\n",
       "      <td>NaN</td>\n",
       "      <td>G10</td>\n",
       "      <td>H10</td>\n",
       "      <td>R10</td>\n",
       "      <td>S10</td>\n",
       "    </tr>\n",
       "    <tr>\n",
       "      <th>11</th>\n",
       "      <td>NaN</td>\n",
       "      <td>NaN</td>\n",
       "      <td>NaN</td>\n",
       "      <td>NaN</td>\n",
       "      <td>NaN</td>\n",
       "      <td>NaN</td>\n",
       "      <td>NaN</td>\n",
       "      <td>NaN</td>\n",
       "      <td>G11</td>\n",
       "      <td>H11</td>\n",
       "      <td>R11</td>\n",
       "      <td>S11</td>\n",
       "    </tr>\n",
       "  </tbody>\n",
       "</table>\n",
       "</div>"
      ],
      "text/plain": [
       "   Gryffindor Hufflepuff Ravenclaw Slytherin Gryffindor Hufflepuff Ravenclaw  \\\n",
       "0          G0         H0        R0        S0        NaN        NaN       NaN   \n",
       "1          G1         H1        R1        S1        NaN        NaN       NaN   \n",
       "2          G2         H2        R2        S2        NaN        NaN       NaN   \n",
       "3          G3         H3        R3        S3        NaN        NaN       NaN   \n",
       "4         NaN        NaN       NaN       NaN         G4         H4        R4   \n",
       "5         NaN        NaN       NaN       NaN         G5         H5        R5   \n",
       "6         NaN        NaN       NaN       NaN         G6         H6        R6   \n",
       "7         NaN        NaN       NaN       NaN         G7         H7        R7   \n",
       "8         NaN        NaN       NaN       NaN        NaN        NaN       NaN   \n",
       "9         NaN        NaN       NaN       NaN        NaN        NaN       NaN   \n",
       "10        NaN        NaN       NaN       NaN        NaN        NaN       NaN   \n",
       "11        NaN        NaN       NaN       NaN        NaN        NaN       NaN   \n",
       "\n",
       "   Slytherin Gryffindor Hufflepuff Ravenclaw Slytherin  \n",
       "0        NaN        NaN        NaN       NaN       NaN  \n",
       "1        NaN        NaN        NaN       NaN       NaN  \n",
       "2        NaN        NaN        NaN       NaN       NaN  \n",
       "3        NaN        NaN        NaN       NaN       NaN  \n",
       "4         S4        NaN        NaN       NaN       NaN  \n",
       "5         S5        NaN        NaN       NaN       NaN  \n",
       "6         S6        NaN        NaN       NaN       NaN  \n",
       "7         S7        NaN        NaN       NaN       NaN  \n",
       "8        NaN         G8         H8        R8        S8  \n",
       "9        NaN         G9         H9        R9        S9  \n",
       "10       NaN        G10        H10       R10       S10  \n",
       "11       NaN        G11        H11       R11       S11  "
      ]
     },
     "execution_count": 111,
     "metadata": {},
     "output_type": "execute_result"
    }
   ],
   "source": [
    "# Сравните этот случай, с непересекающимся индексом\n",
    "pd.concat([df1,df2,df3], axis=1)"
   ]
  },
  {
   "cell_type": "code",
   "execution_count": 112,
   "metadata": {
    "ExecuteTime": {
     "end_time": "2018-10-25T14:31:50.049231Z",
     "start_time": "2018-10-25T14:31:50.036866Z"
    }
   },
   "outputs": [],
   "source": [
    "df1 = pd.DataFrame({'Gryffindor': ['G0', 'G1', 'G2', 'G3'],\n",
    "                        'Hufflepuff': ['H0', 'H1', 'H2', 'H3'],\n",
    "                        'Ravenclaw': ['R0', 'R1', 'R2', 'R3'],\n",
    "                        'Slytherin': ['S0', 'S1', 'S2', 'S3']})\n",
    "df2 = pd.DataFrame({'Gryffindor': ['G4', 'G5', 'G6', 'G7'],\n",
    "                        'Hufflepuff': ['H4', 'H5', 'H6', 'H7'],\n",
    "                        'Ravenclaw': ['R4', 'R5', 'R6', 'R7'],\n",
    "                        'Slytherin': ['S4', 'S5', 'S6', 'S7']})\n",
    "df3 = pd.DataFrame({'Gryffindor': ['G8', 'G9', 'G10', 'G11'],\n",
    "                        'Hufflepuff': ['H8', 'H9', 'H10', 'H11'],\n",
    "                        'Ravenclaw': ['R8', 'R9', 'R10', 'R11'],\n",
    "                        'Slytherin': ['S8', 'S9', 'S10', 'S11']})"
   ]
  },
  {
   "cell_type": "code",
   "execution_count": 113,
   "metadata": {
    "ExecuteTime": {
     "end_time": "2018-10-25T14:31:50.075651Z",
     "start_time": "2018-10-25T14:31:50.051982Z"
    }
   },
   "outputs": [
    {
     "data": {
      "text/html": [
       "<div>\n",
       "<style scoped>\n",
       "    .dataframe tbody tr th:only-of-type {\n",
       "        vertical-align: middle;\n",
       "    }\n",
       "\n",
       "    .dataframe tbody tr th {\n",
       "        vertical-align: top;\n",
       "    }\n",
       "\n",
       "    .dataframe thead th {\n",
       "        text-align: right;\n",
       "    }\n",
       "</style>\n",
       "<table border=\"1\" class=\"dataframe\">\n",
       "  <thead>\n",
       "    <tr style=\"text-align: right;\">\n",
       "      <th></th>\n",
       "      <th>Gryffindor</th>\n",
       "      <th>Hufflepuff</th>\n",
       "      <th>Ravenclaw</th>\n",
       "      <th>Slytherin</th>\n",
       "      <th>Gryffindor</th>\n",
       "      <th>Hufflepuff</th>\n",
       "      <th>Ravenclaw</th>\n",
       "      <th>Slytherin</th>\n",
       "      <th>Gryffindor</th>\n",
       "      <th>Hufflepuff</th>\n",
       "      <th>Ravenclaw</th>\n",
       "      <th>Slytherin</th>\n",
       "    </tr>\n",
       "  </thead>\n",
       "  <tbody>\n",
       "    <tr>\n",
       "      <th>0</th>\n",
       "      <td>G0</td>\n",
       "      <td>H0</td>\n",
       "      <td>R0</td>\n",
       "      <td>S0</td>\n",
       "      <td>G4</td>\n",
       "      <td>H4</td>\n",
       "      <td>R4</td>\n",
       "      <td>S4</td>\n",
       "      <td>G8</td>\n",
       "      <td>H8</td>\n",
       "      <td>R8</td>\n",
       "      <td>S8</td>\n",
       "    </tr>\n",
       "    <tr>\n",
       "      <th>1</th>\n",
       "      <td>G1</td>\n",
       "      <td>H1</td>\n",
       "      <td>R1</td>\n",
       "      <td>S1</td>\n",
       "      <td>G5</td>\n",
       "      <td>H5</td>\n",
       "      <td>R5</td>\n",
       "      <td>S5</td>\n",
       "      <td>G9</td>\n",
       "      <td>H9</td>\n",
       "      <td>R9</td>\n",
       "      <td>S9</td>\n",
       "    </tr>\n",
       "    <tr>\n",
       "      <th>2</th>\n",
       "      <td>G2</td>\n",
       "      <td>H2</td>\n",
       "      <td>R2</td>\n",
       "      <td>S2</td>\n",
       "      <td>G6</td>\n",
       "      <td>H6</td>\n",
       "      <td>R6</td>\n",
       "      <td>S6</td>\n",
       "      <td>G10</td>\n",
       "      <td>H10</td>\n",
       "      <td>R10</td>\n",
       "      <td>S10</td>\n",
       "    </tr>\n",
       "    <tr>\n",
       "      <th>3</th>\n",
       "      <td>G3</td>\n",
       "      <td>H3</td>\n",
       "      <td>R3</td>\n",
       "      <td>S3</td>\n",
       "      <td>G7</td>\n",
       "      <td>H7</td>\n",
       "      <td>R7</td>\n",
       "      <td>S7</td>\n",
       "      <td>G11</td>\n",
       "      <td>H11</td>\n",
       "      <td>R11</td>\n",
       "      <td>S11</td>\n",
       "    </tr>\n",
       "  </tbody>\n",
       "</table>\n",
       "</div>"
      ],
      "text/plain": [
       "  Gryffindor Hufflepuff Ravenclaw Slytherin Gryffindor Hufflepuff Ravenclaw  \\\n",
       "0         G0         H0        R0        S0         G4         H4        R4   \n",
       "1         G1         H1        R1        S1         G5         H5        R5   \n",
       "2         G2         H2        R2        S2         G6         H6        R6   \n",
       "3         G3         H3        R3        S3         G7         H7        R7   \n",
       "\n",
       "  Slytherin Gryffindor Hufflepuff Ravenclaw Slytherin  \n",
       "0        S4         G8         H8        R8        S8  \n",
       "1        S5         G9         H9        R9        S9  \n",
       "2        S6        G10        H10       R10       S10  \n",
       "3        S7        G11        H11       R11       S11  "
      ]
     },
     "execution_count": 113,
     "metadata": {},
     "output_type": "execute_result"
    }
   ],
   "source": [
    "# И этот - с пересекающимся индексом\n",
    "pd.concat([df1,df2,df3], axis=1)"
   ]
  },
  {
   "cell_type": "code",
   "execution_count": 114,
   "metadata": {
    "ExecuteTime": {
     "end_time": "2018-10-25T14:31:50.101068Z",
     "start_time": "2018-10-25T14:31:50.079211Z"
    }
   },
   "outputs": [
    {
     "data": {
      "text/html": [
       "<div>\n",
       "<style scoped>\n",
       "    .dataframe tbody tr th:only-of-type {\n",
       "        vertical-align: middle;\n",
       "    }\n",
       "\n",
       "    .dataframe tbody tr th {\n",
       "        vertical-align: top;\n",
       "    }\n",
       "\n",
       "    .dataframe thead th {\n",
       "        text-align: right;\n",
       "    }\n",
       "</style>\n",
       "<table border=\"1\" class=\"dataframe\">\n",
       "  <thead>\n",
       "    <tr style=\"text-align: right;\">\n",
       "      <th></th>\n",
       "      <th>Gryffindor</th>\n",
       "      <th>Hufflepuff</th>\n",
       "      <th>Ravenclaw</th>\n",
       "      <th>Slytherin</th>\n",
       "    </tr>\n",
       "  </thead>\n",
       "  <tbody>\n",
       "    <tr>\n",
       "      <th>0</th>\n",
       "      <td>G0</td>\n",
       "      <td>H0</td>\n",
       "      <td>R0</td>\n",
       "      <td>S0</td>\n",
       "    </tr>\n",
       "    <tr>\n",
       "      <th>1</th>\n",
       "      <td>G1</td>\n",
       "      <td>H1</td>\n",
       "      <td>R1</td>\n",
       "      <td>S1</td>\n",
       "    </tr>\n",
       "    <tr>\n",
       "      <th>2</th>\n",
       "      <td>G2</td>\n",
       "      <td>H2</td>\n",
       "      <td>R2</td>\n",
       "      <td>S2</td>\n",
       "    </tr>\n",
       "    <tr>\n",
       "      <th>3</th>\n",
       "      <td>G3</td>\n",
       "      <td>H3</td>\n",
       "      <td>R3</td>\n",
       "      <td>S3</td>\n",
       "    </tr>\n",
       "    <tr>\n",
       "      <th>0</th>\n",
       "      <td>G4</td>\n",
       "      <td>H4</td>\n",
       "      <td>R4</td>\n",
       "      <td>S4</td>\n",
       "    </tr>\n",
       "    <tr>\n",
       "      <th>1</th>\n",
       "      <td>G5</td>\n",
       "      <td>H5</td>\n",
       "      <td>R5</td>\n",
       "      <td>S5</td>\n",
       "    </tr>\n",
       "    <tr>\n",
       "      <th>2</th>\n",
       "      <td>G6</td>\n",
       "      <td>H6</td>\n",
       "      <td>R6</td>\n",
       "      <td>S6</td>\n",
       "    </tr>\n",
       "    <tr>\n",
       "      <th>3</th>\n",
       "      <td>G7</td>\n",
       "      <td>H7</td>\n",
       "      <td>R7</td>\n",
       "      <td>S7</td>\n",
       "    </tr>\n",
       "    <tr>\n",
       "      <th>0</th>\n",
       "      <td>G8</td>\n",
       "      <td>H8</td>\n",
       "      <td>R8</td>\n",
       "      <td>S8</td>\n",
       "    </tr>\n",
       "    <tr>\n",
       "      <th>1</th>\n",
       "      <td>G9</td>\n",
       "      <td>H9</td>\n",
       "      <td>R9</td>\n",
       "      <td>S9</td>\n",
       "    </tr>\n",
       "    <tr>\n",
       "      <th>2</th>\n",
       "      <td>G10</td>\n",
       "      <td>H10</td>\n",
       "      <td>R10</td>\n",
       "      <td>S10</td>\n",
       "    </tr>\n",
       "    <tr>\n",
       "      <th>3</th>\n",
       "      <td>G11</td>\n",
       "      <td>H11</td>\n",
       "      <td>R11</td>\n",
       "      <td>S11</td>\n",
       "    </tr>\n",
       "  </tbody>\n",
       "</table>\n",
       "</div>"
      ],
      "text/plain": [
       "  Gryffindor Hufflepuff Ravenclaw Slytherin\n",
       "0         G0         H0        R0        S0\n",
       "1         G1         H1        R1        S1\n",
       "2         G2         H2        R2        S2\n",
       "3         G3         H3        R3        S3\n",
       "0         G4         H4        R4        S4\n",
       "1         G5         H5        R5        S5\n",
       "2         G6         H6        R6        S6\n",
       "3         G7         H7        R7        S7\n",
       "0         G8         H8        R8        S8\n",
       "1         G9         H9        R9        S9\n",
       "2        G10        H10       R10       S10\n",
       "3        G11        H11       R11       S11"
      ]
     },
     "execution_count": 114,
     "metadata": {},
     "output_type": "execute_result"
    }
   ],
   "source": [
    "# Append так же подходит для простых случаев склейки таблиц, но только по 0 оси.\n",
    "df1.append(df2).append(df3)"
   ]
  },
  {
   "cell_type": "code",
   "execution_count": 115,
   "metadata": {
    "ExecuteTime": {
     "end_time": "2018-10-25T14:31:50.121081Z",
     "start_time": "2018-10-25T14:31:50.103708Z"
    }
   },
   "outputs": [
    {
     "data": {
      "text/html": [
       "<div>\n",
       "<style scoped>\n",
       "    .dataframe tbody tr th:only-of-type {\n",
       "        vertical-align: middle;\n",
       "    }\n",
       "\n",
       "    .dataframe tbody tr th {\n",
       "        vertical-align: top;\n",
       "    }\n",
       "\n",
       "    .dataframe thead th {\n",
       "        text-align: right;\n",
       "    }\n",
       "</style>\n",
       "<table border=\"1\" class=\"dataframe\">\n",
       "  <thead>\n",
       "    <tr style=\"text-align: right;\">\n",
       "      <th></th>\n",
       "      <th>Gryffindor</th>\n",
       "      <th>Hufflepuff</th>\n",
       "      <th>Ravenclaw</th>\n",
       "      <th>Slytherin</th>\n",
       "    </tr>\n",
       "  </thead>\n",
       "  <tbody>\n",
       "    <tr>\n",
       "      <th>0</th>\n",
       "      <td>G0</td>\n",
       "      <td>H0</td>\n",
       "      <td>R0</td>\n",
       "      <td>S0</td>\n",
       "    </tr>\n",
       "    <tr>\n",
       "      <th>1</th>\n",
       "      <td>G1</td>\n",
       "      <td>H1</td>\n",
       "      <td>R1</td>\n",
       "      <td>S1</td>\n",
       "    </tr>\n",
       "    <tr>\n",
       "      <th>2</th>\n",
       "      <td>G2</td>\n",
       "      <td>H2</td>\n",
       "      <td>R2</td>\n",
       "      <td>S2</td>\n",
       "    </tr>\n",
       "    <tr>\n",
       "      <th>3</th>\n",
       "      <td>G3</td>\n",
       "      <td>H3</td>\n",
       "      <td>R3</td>\n",
       "      <td>S3</td>\n",
       "    </tr>\n",
       "    <tr>\n",
       "      <th>4</th>\n",
       "      <td>G4</td>\n",
       "      <td>H4</td>\n",
       "      <td>R4</td>\n",
       "      <td>S4</td>\n",
       "    </tr>\n",
       "    <tr>\n",
       "      <th>5</th>\n",
       "      <td>G5</td>\n",
       "      <td>H5</td>\n",
       "      <td>R5</td>\n",
       "      <td>S5</td>\n",
       "    </tr>\n",
       "    <tr>\n",
       "      <th>6</th>\n",
       "      <td>G6</td>\n",
       "      <td>H6</td>\n",
       "      <td>R6</td>\n",
       "      <td>S6</td>\n",
       "    </tr>\n",
       "    <tr>\n",
       "      <th>7</th>\n",
       "      <td>G7</td>\n",
       "      <td>H7</td>\n",
       "      <td>R7</td>\n",
       "      <td>S7</td>\n",
       "    </tr>\n",
       "    <tr>\n",
       "      <th>8</th>\n",
       "      <td>G8</td>\n",
       "      <td>H8</td>\n",
       "      <td>R8</td>\n",
       "      <td>S8</td>\n",
       "    </tr>\n",
       "    <tr>\n",
       "      <th>9</th>\n",
       "      <td>G9</td>\n",
       "      <td>H9</td>\n",
       "      <td>R9</td>\n",
       "      <td>S9</td>\n",
       "    </tr>\n",
       "    <tr>\n",
       "      <th>10</th>\n",
       "      <td>G10</td>\n",
       "      <td>H10</td>\n",
       "      <td>R10</td>\n",
       "      <td>S10</td>\n",
       "    </tr>\n",
       "    <tr>\n",
       "      <th>11</th>\n",
       "      <td>G11</td>\n",
       "      <td>H11</td>\n",
       "      <td>R11</td>\n",
       "      <td>S11</td>\n",
       "    </tr>\n",
       "  </tbody>\n",
       "</table>\n",
       "</div>"
      ],
      "text/plain": [
       "   Gryffindor Hufflepuff Ravenclaw Slytherin\n",
       "0          G0         H0        R0        S0\n",
       "1          G1         H1        R1        S1\n",
       "2          G2         H2        R2        S2\n",
       "3          G3         H3        R3        S3\n",
       "4          G4         H4        R4        S4\n",
       "5          G5         H5        R5        S5\n",
       "6          G6         H6        R6        S6\n",
       "7          G7         H7        R7        S7\n",
       "8          G8         H8        R8        S8\n",
       "9          G9         H9        R9        S9\n",
       "10        G10        H10       R10       S10\n",
       "11        G11        H11       R11       S11"
      ]
     },
     "execution_count": 115,
     "metadata": {},
     "output_type": "execute_result"
    }
   ],
   "source": [
    "# Очень полезная опция удаления индекса на случай, если он пересекающийся. \n",
    "# Часто по пересекающимуся индексу проблематично осуществлять индексирование. \n",
    "# Так что лучше всегда удалять индекс.\n",
    "df1.append(df2).append(df3).reset_index(drop=True)"
   ]
  },
  {
   "cell_type": "markdown",
   "metadata": {},
   "source": [
    "## Merging\n",
    "\n",
    "**merge** позволяет объединять таблицы, следуя той же логике, что и в SQL."
   ]
  },
  {
   "cell_type": "code",
   "execution_count": 116,
   "metadata": {
    "ExecuteTime": {
     "end_time": "2018-10-25T14:31:50.133178Z",
     "start_time": "2018-10-25T14:31:50.123778Z"
    }
   },
   "outputs": [],
   "source": [
    "left = pd.DataFrame({'key': ['Astronomy', 'Apparition', 'Charms', 'Flying', 'Herbology'],\n",
    "                     'Gryffindor': ['G0', 'G1', 'G2', 'G3', 'G4'],\n",
    "                     'Slytherin': ['S0', 'S1', 'S2', 'S3', 'S4']})\n",
    "   \n",
    "right = pd.DataFrame({'key': ['Astronomy', 'Charms', 'Flying', 'Potions', 'Herbology'],\n",
    "                      'Hufflepuff': ['H0', 'H1', 'H2', 'H3', 'H4'],\n",
    "                      'Ravenclaw': ['R0', 'R1', 'R2', 'R3', 'R4']})    "
   ]
  },
  {
   "cell_type": "code",
   "execution_count": 117,
   "metadata": {
    "ExecuteTime": {
     "end_time": "2018-10-25T14:31:50.150382Z",
     "start_time": "2018-10-25T14:31:50.137206Z"
    }
   },
   "outputs": [
    {
     "data": {
      "text/html": [
       "<div>\n",
       "<style scoped>\n",
       "    .dataframe tbody tr th:only-of-type {\n",
       "        vertical-align: middle;\n",
       "    }\n",
       "\n",
       "    .dataframe tbody tr th {\n",
       "        vertical-align: top;\n",
       "    }\n",
       "\n",
       "    .dataframe thead th {\n",
       "        text-align: right;\n",
       "    }\n",
       "</style>\n",
       "<table border=\"1\" class=\"dataframe\">\n",
       "  <thead>\n",
       "    <tr style=\"text-align: right;\">\n",
       "      <th></th>\n",
       "      <th>Gryffindor</th>\n",
       "      <th>Slytherin</th>\n",
       "      <th>key</th>\n",
       "    </tr>\n",
       "  </thead>\n",
       "  <tbody>\n",
       "    <tr>\n",
       "      <th>0</th>\n",
       "      <td>G0</td>\n",
       "      <td>S0</td>\n",
       "      <td>Astronomy</td>\n",
       "    </tr>\n",
       "    <tr>\n",
       "      <th>1</th>\n",
       "      <td>G1</td>\n",
       "      <td>S1</td>\n",
       "      <td>Apparition</td>\n",
       "    </tr>\n",
       "    <tr>\n",
       "      <th>2</th>\n",
       "      <td>G2</td>\n",
       "      <td>S2</td>\n",
       "      <td>Charms</td>\n",
       "    </tr>\n",
       "    <tr>\n",
       "      <th>3</th>\n",
       "      <td>G3</td>\n",
       "      <td>S3</td>\n",
       "      <td>Flying</td>\n",
       "    </tr>\n",
       "    <tr>\n",
       "      <th>4</th>\n",
       "      <td>G4</td>\n",
       "      <td>S4</td>\n",
       "      <td>Herbology</td>\n",
       "    </tr>\n",
       "  </tbody>\n",
       "</table>\n",
       "</div>"
      ],
      "text/plain": [
       "  Gryffindor Slytherin         key\n",
       "0         G0        S0   Astronomy\n",
       "1         G1        S1  Apparition\n",
       "2         G2        S2      Charms\n",
       "3         G3        S3      Flying\n",
       "4         G4        S4   Herbology"
      ]
     },
     "execution_count": 117,
     "metadata": {},
     "output_type": "execute_result"
    }
   ],
   "source": [
    "left"
   ]
  },
  {
   "cell_type": "code",
   "execution_count": 118,
   "metadata": {
    "ExecuteTime": {
     "end_time": "2018-10-25T14:31:50.167937Z",
     "start_time": "2018-10-25T14:31:50.153317Z"
    }
   },
   "outputs": [
    {
     "data": {
      "text/html": [
       "<div>\n",
       "<style scoped>\n",
       "    .dataframe tbody tr th:only-of-type {\n",
       "        vertical-align: middle;\n",
       "    }\n",
       "\n",
       "    .dataframe tbody tr th {\n",
       "        vertical-align: top;\n",
       "    }\n",
       "\n",
       "    .dataframe thead th {\n",
       "        text-align: right;\n",
       "    }\n",
       "</style>\n",
       "<table border=\"1\" class=\"dataframe\">\n",
       "  <thead>\n",
       "    <tr style=\"text-align: right;\">\n",
       "      <th></th>\n",
       "      <th>Hufflepuff</th>\n",
       "      <th>Ravenclaw</th>\n",
       "      <th>key</th>\n",
       "    </tr>\n",
       "  </thead>\n",
       "  <tbody>\n",
       "    <tr>\n",
       "      <th>0</th>\n",
       "      <td>H0</td>\n",
       "      <td>R0</td>\n",
       "      <td>Astronomy</td>\n",
       "    </tr>\n",
       "    <tr>\n",
       "      <th>1</th>\n",
       "      <td>H1</td>\n",
       "      <td>R1</td>\n",
       "      <td>Charms</td>\n",
       "    </tr>\n",
       "    <tr>\n",
       "      <th>2</th>\n",
       "      <td>H2</td>\n",
       "      <td>R2</td>\n",
       "      <td>Flying</td>\n",
       "    </tr>\n",
       "    <tr>\n",
       "      <th>3</th>\n",
       "      <td>H3</td>\n",
       "      <td>R3</td>\n",
       "      <td>Potions</td>\n",
       "    </tr>\n",
       "    <tr>\n",
       "      <th>4</th>\n",
       "      <td>H4</td>\n",
       "      <td>R4</td>\n",
       "      <td>Herbology</td>\n",
       "    </tr>\n",
       "  </tbody>\n",
       "</table>\n",
       "</div>"
      ],
      "text/plain": [
       "  Hufflepuff Ravenclaw        key\n",
       "0         H0        R0  Astronomy\n",
       "1         H1        R1     Charms\n",
       "2         H2        R2     Flying\n",
       "3         H3        R3    Potions\n",
       "4         H4        R4  Herbology"
      ]
     },
     "execution_count": 118,
     "metadata": {},
     "output_type": "execute_result"
    }
   ],
   "source": [
    "right"
   ]
  },
  {
   "cell_type": "code",
   "execution_count": 119,
   "metadata": {
    "ExecuteTime": {
     "end_time": "2018-10-25T14:31:50.189145Z",
     "start_time": "2018-10-25T14:31:50.171456Z"
    }
   },
   "outputs": [
    {
     "data": {
      "text/html": [
       "<div>\n",
       "<style scoped>\n",
       "    .dataframe tbody tr th:only-of-type {\n",
       "        vertical-align: middle;\n",
       "    }\n",
       "\n",
       "    .dataframe tbody tr th {\n",
       "        vertical-align: top;\n",
       "    }\n",
       "\n",
       "    .dataframe thead th {\n",
       "        text-align: right;\n",
       "    }\n",
       "</style>\n",
       "<table border=\"1\" class=\"dataframe\">\n",
       "  <thead>\n",
       "    <tr style=\"text-align: right;\">\n",
       "      <th></th>\n",
       "      <th>Gryffindor</th>\n",
       "      <th>Slytherin</th>\n",
       "      <th>key</th>\n",
       "      <th>Hufflepuff</th>\n",
       "      <th>Ravenclaw</th>\n",
       "    </tr>\n",
       "  </thead>\n",
       "  <tbody>\n",
       "    <tr>\n",
       "      <th>0</th>\n",
       "      <td>G0</td>\n",
       "      <td>S0</td>\n",
       "      <td>Astronomy</td>\n",
       "      <td>H0</td>\n",
       "      <td>R0</td>\n",
       "    </tr>\n",
       "    <tr>\n",
       "      <th>1</th>\n",
       "      <td>G2</td>\n",
       "      <td>S2</td>\n",
       "      <td>Charms</td>\n",
       "      <td>H1</td>\n",
       "      <td>R1</td>\n",
       "    </tr>\n",
       "    <tr>\n",
       "      <th>2</th>\n",
       "      <td>G3</td>\n",
       "      <td>S3</td>\n",
       "      <td>Flying</td>\n",
       "      <td>H2</td>\n",
       "      <td>R2</td>\n",
       "    </tr>\n",
       "    <tr>\n",
       "      <th>3</th>\n",
       "      <td>G4</td>\n",
       "      <td>S4</td>\n",
       "      <td>Herbology</td>\n",
       "      <td>H4</td>\n",
       "      <td>R4</td>\n",
       "    </tr>\n",
       "  </tbody>\n",
       "</table>\n",
       "</div>"
      ],
      "text/plain": [
       "  Gryffindor Slytherin        key Hufflepuff Ravenclaw\n",
       "0         G0        S0  Astronomy         H0        R0\n",
       "1         G2        S2     Charms         H1        R1\n",
       "2         G3        S3     Flying         H2        R2\n",
       "3         G4        S4  Herbology         H4        R4"
      ]
     },
     "execution_count": 119,
     "metadata": {},
     "output_type": "execute_result"
    }
   ],
   "source": [
    "pd.merge(left,right,how='inner',on='key')"
   ]
  },
  {
   "cell_type": "code",
   "execution_count": 120,
   "metadata": {
    "ExecuteTime": {
     "end_time": "2018-10-25T14:31:50.212660Z",
     "start_time": "2018-10-25T14:31:50.192746Z"
    }
   },
   "outputs": [
    {
     "data": {
      "text/html": [
       "<div>\n",
       "<style scoped>\n",
       "    .dataframe tbody tr th:only-of-type {\n",
       "        vertical-align: middle;\n",
       "    }\n",
       "\n",
       "    .dataframe tbody tr th {\n",
       "        vertical-align: top;\n",
       "    }\n",
       "\n",
       "    .dataframe thead th {\n",
       "        text-align: right;\n",
       "    }\n",
       "</style>\n",
       "<table border=\"1\" class=\"dataframe\">\n",
       "  <thead>\n",
       "    <tr style=\"text-align: right;\">\n",
       "      <th></th>\n",
       "      <th>Gryffindor</th>\n",
       "      <th>Slytherin</th>\n",
       "      <th>key</th>\n",
       "      <th>Hufflepuff</th>\n",
       "      <th>Ravenclaw</th>\n",
       "    </tr>\n",
       "  </thead>\n",
       "  <tbody>\n",
       "    <tr>\n",
       "      <th>0</th>\n",
       "      <td>G0</td>\n",
       "      <td>S0</td>\n",
       "      <td>Astronomy</td>\n",
       "      <td>H0</td>\n",
       "      <td>R0</td>\n",
       "    </tr>\n",
       "    <tr>\n",
       "      <th>1</th>\n",
       "      <td>G1</td>\n",
       "      <td>S1</td>\n",
       "      <td>Apparition</td>\n",
       "      <td>NaN</td>\n",
       "      <td>NaN</td>\n",
       "    </tr>\n",
       "    <tr>\n",
       "      <th>2</th>\n",
       "      <td>G2</td>\n",
       "      <td>S2</td>\n",
       "      <td>Charms</td>\n",
       "      <td>H1</td>\n",
       "      <td>R1</td>\n",
       "    </tr>\n",
       "    <tr>\n",
       "      <th>3</th>\n",
       "      <td>G3</td>\n",
       "      <td>S3</td>\n",
       "      <td>Flying</td>\n",
       "      <td>H2</td>\n",
       "      <td>R2</td>\n",
       "    </tr>\n",
       "    <tr>\n",
       "      <th>4</th>\n",
       "      <td>G4</td>\n",
       "      <td>S4</td>\n",
       "      <td>Herbology</td>\n",
       "      <td>H4</td>\n",
       "      <td>R4</td>\n",
       "    </tr>\n",
       "    <tr>\n",
       "      <th>5</th>\n",
       "      <td>NaN</td>\n",
       "      <td>NaN</td>\n",
       "      <td>Potions</td>\n",
       "      <td>H3</td>\n",
       "      <td>R3</td>\n",
       "    </tr>\n",
       "  </tbody>\n",
       "</table>\n",
       "</div>"
      ],
      "text/plain": [
       "  Gryffindor Slytherin         key Hufflepuff Ravenclaw\n",
       "0         G0        S0   Astronomy         H0        R0\n",
       "1         G1        S1  Apparition        NaN       NaN\n",
       "2         G2        S2      Charms         H1        R1\n",
       "3         G3        S3      Flying         H2        R2\n",
       "4         G4        S4   Herbology         H4        R4\n",
       "5        NaN       NaN     Potions         H3        R3"
      ]
     },
     "execution_count": 120,
     "metadata": {},
     "output_type": "execute_result"
    }
   ],
   "source": [
    "pd.merge(left, right, how='outer', on='key')"
   ]
  },
  {
   "cell_type": "code",
   "execution_count": 121,
   "metadata": {
    "ExecuteTime": {
     "end_time": "2018-10-25T14:31:50.235798Z",
     "start_time": "2018-10-25T14:31:50.215394Z"
    }
   },
   "outputs": [
    {
     "data": {
      "text/html": [
       "<div>\n",
       "<style scoped>\n",
       "    .dataframe tbody tr th:only-of-type {\n",
       "        vertical-align: middle;\n",
       "    }\n",
       "\n",
       "    .dataframe tbody tr th {\n",
       "        vertical-align: top;\n",
       "    }\n",
       "\n",
       "    .dataframe thead th {\n",
       "        text-align: right;\n",
       "    }\n",
       "</style>\n",
       "<table border=\"1\" class=\"dataframe\">\n",
       "  <thead>\n",
       "    <tr style=\"text-align: right;\">\n",
       "      <th></th>\n",
       "      <th>Gryffindor</th>\n",
       "      <th>Slytherin</th>\n",
       "      <th>key</th>\n",
       "      <th>Hufflepuff</th>\n",
       "      <th>Ravenclaw</th>\n",
       "    </tr>\n",
       "  </thead>\n",
       "  <tbody>\n",
       "    <tr>\n",
       "      <th>0</th>\n",
       "      <td>G0</td>\n",
       "      <td>S0</td>\n",
       "      <td>Astronomy</td>\n",
       "      <td>H0</td>\n",
       "      <td>R0</td>\n",
       "    </tr>\n",
       "    <tr>\n",
       "      <th>1</th>\n",
       "      <td>G2</td>\n",
       "      <td>S2</td>\n",
       "      <td>Charms</td>\n",
       "      <td>H1</td>\n",
       "      <td>R1</td>\n",
       "    </tr>\n",
       "    <tr>\n",
       "      <th>2</th>\n",
       "      <td>G3</td>\n",
       "      <td>S3</td>\n",
       "      <td>Flying</td>\n",
       "      <td>H2</td>\n",
       "      <td>R2</td>\n",
       "    </tr>\n",
       "    <tr>\n",
       "      <th>3</th>\n",
       "      <td>G4</td>\n",
       "      <td>S4</td>\n",
       "      <td>Herbology</td>\n",
       "      <td>H4</td>\n",
       "      <td>R4</td>\n",
       "    </tr>\n",
       "    <tr>\n",
       "      <th>4</th>\n",
       "      <td>NaN</td>\n",
       "      <td>NaN</td>\n",
       "      <td>Potions</td>\n",
       "      <td>H3</td>\n",
       "      <td>R3</td>\n",
       "    </tr>\n",
       "  </tbody>\n",
       "</table>\n",
       "</div>"
      ],
      "text/plain": [
       "  Gryffindor Slytherin        key Hufflepuff Ravenclaw\n",
       "0         G0        S0  Astronomy         H0        R0\n",
       "1         G2        S2     Charms         H1        R1\n",
       "2         G3        S3     Flying         H2        R2\n",
       "3         G4        S4  Herbology         H4        R4\n",
       "4        NaN       NaN    Potions         H3        R3"
      ]
     },
     "execution_count": 121,
     "metadata": {},
     "output_type": "execute_result"
    }
   ],
   "source": [
    "pd.merge(left, right, how='right', on='key')"
   ]
  },
  {
   "cell_type": "code",
   "execution_count": 122,
   "metadata": {
    "ExecuteTime": {
     "end_time": "2018-10-25T14:31:50.253897Z",
     "start_time": "2018-10-25T14:31:50.238652Z"
    }
   },
   "outputs": [
    {
     "data": {
      "text/html": [
       "<div>\n",
       "<style scoped>\n",
       "    .dataframe tbody tr th:only-of-type {\n",
       "        vertical-align: middle;\n",
       "    }\n",
       "\n",
       "    .dataframe tbody tr th {\n",
       "        vertical-align: top;\n",
       "    }\n",
       "\n",
       "    .dataframe thead th {\n",
       "        text-align: right;\n",
       "    }\n",
       "</style>\n",
       "<table border=\"1\" class=\"dataframe\">\n",
       "  <thead>\n",
       "    <tr style=\"text-align: right;\">\n",
       "      <th></th>\n",
       "      <th>Gryffindor</th>\n",
       "      <th>Slytherin</th>\n",
       "      <th>key</th>\n",
       "      <th>Hufflepuff</th>\n",
       "      <th>Ravenclaw</th>\n",
       "    </tr>\n",
       "  </thead>\n",
       "  <tbody>\n",
       "    <tr>\n",
       "      <th>0</th>\n",
       "      <td>G0</td>\n",
       "      <td>S0</td>\n",
       "      <td>Astronomy</td>\n",
       "      <td>H0</td>\n",
       "      <td>R0</td>\n",
       "    </tr>\n",
       "    <tr>\n",
       "      <th>1</th>\n",
       "      <td>G1</td>\n",
       "      <td>S1</td>\n",
       "      <td>Apparition</td>\n",
       "      <td>NaN</td>\n",
       "      <td>NaN</td>\n",
       "    </tr>\n",
       "    <tr>\n",
       "      <th>2</th>\n",
       "      <td>G2</td>\n",
       "      <td>S2</td>\n",
       "      <td>Charms</td>\n",
       "      <td>H1</td>\n",
       "      <td>R1</td>\n",
       "    </tr>\n",
       "    <tr>\n",
       "      <th>3</th>\n",
       "      <td>G3</td>\n",
       "      <td>S3</td>\n",
       "      <td>Flying</td>\n",
       "      <td>H2</td>\n",
       "      <td>R2</td>\n",
       "    </tr>\n",
       "    <tr>\n",
       "      <th>4</th>\n",
       "      <td>G4</td>\n",
       "      <td>S4</td>\n",
       "      <td>Herbology</td>\n",
       "      <td>H4</td>\n",
       "      <td>R4</td>\n",
       "    </tr>\n",
       "  </tbody>\n",
       "</table>\n",
       "</div>"
      ],
      "text/plain": [
       "  Gryffindor Slytherin         key Hufflepuff Ravenclaw\n",
       "0         G0        S0   Astronomy         H0        R0\n",
       "1         G1        S1  Apparition        NaN       NaN\n",
       "2         G2        S2      Charms         H1        R1\n",
       "3         G3        S3      Flying         H2        R2\n",
       "4         G4        S4   Herbology         H4        R4"
      ]
     },
     "execution_count": 122,
     "metadata": {},
     "output_type": "execute_result"
    }
   ],
   "source": [
    "pd.merge(left, right, how='left', on='key')"
   ]
  },
  {
   "cell_type": "markdown",
   "metadata": {},
   "source": [
    "Есть и другие способы объединения таблиц в разных специфических случаях. Так что не пренебрегайте гуглением, там есть ответы на почти все ваши вопросы. Если ответа на ваш вопрос не нашлось, скорее всего, вы немного не так спрашиваете."
   ]
  },
  {
   "cell_type": "markdown",
   "metadata": {},
   "source": [
    "# Pandas: Ecommerce Purchases"
   ]
  },
  {
   "cell_type": "code",
   "execution_count": 123,
   "metadata": {
    "ExecuteTime": {
     "end_time": "2018-10-25T14:31:50.260960Z",
     "start_time": "2018-10-25T14:31:50.256924Z"
    }
   },
   "outputs": [],
   "source": [
    "import pandas as pd"
   ]
  },
  {
   "cell_type": "code",
   "execution_count": 124,
   "metadata": {
    "ExecuteTime": {
     "end_time": "2018-10-25T14:31:50.342469Z",
     "start_time": "2018-10-25T14:31:50.264693Z"
    }
   },
   "outputs": [],
   "source": [
    "ecom = pd.read_csv('Ecommerce Purchases.csv')"
   ]
  },
  {
   "cell_type": "markdown",
   "metadata": {},
   "source": [
    "**Посмотреть на первые строки таблицы**"
   ]
  },
  {
   "cell_type": "code",
   "execution_count": 125,
   "metadata": {
    "ExecuteTime": {
     "end_time": "2018-10-25T14:31:50.369543Z",
     "start_time": "2018-10-25T14:31:50.345091Z"
    }
   },
   "outputs": [
    {
     "data": {
      "text/html": [
       "<div>\n",
       "<style scoped>\n",
       "    .dataframe tbody tr th:only-of-type {\n",
       "        vertical-align: middle;\n",
       "    }\n",
       "\n",
       "    .dataframe tbody tr th {\n",
       "        vertical-align: top;\n",
       "    }\n",
       "\n",
       "    .dataframe thead th {\n",
       "        text-align: right;\n",
       "    }\n",
       "</style>\n",
       "<table border=\"1\" class=\"dataframe\">\n",
       "  <thead>\n",
       "    <tr style=\"text-align: right;\">\n",
       "      <th></th>\n",
       "      <th>Address</th>\n",
       "      <th>Lot</th>\n",
       "      <th>AM or PM</th>\n",
       "      <th>Browser Info</th>\n",
       "      <th>Company</th>\n",
       "      <th>Credit Card</th>\n",
       "      <th>CC Exp Date</th>\n",
       "      <th>CC Security Code</th>\n",
       "      <th>CC Provider</th>\n",
       "      <th>Email</th>\n",
       "      <th>Job</th>\n",
       "      <th>IP Address</th>\n",
       "      <th>Language</th>\n",
       "      <th>Purchase Price</th>\n",
       "    </tr>\n",
       "  </thead>\n",
       "  <tbody>\n",
       "    <tr>\n",
       "      <th>0</th>\n",
       "      <td>16629 Pace Camp Apt. 448\\nAlexisborough, NE 77...</td>\n",
       "      <td>46 in</td>\n",
       "      <td>PM</td>\n",
       "      <td>Opera/9.56.(X11; Linux x86_64; sl-SI) Presto/2...</td>\n",
       "      <td>Martinez-Herman</td>\n",
       "      <td>6011929061123406</td>\n",
       "      <td>02/20</td>\n",
       "      <td>900</td>\n",
       "      <td>JCB 16 digit</td>\n",
       "      <td>pdunlap@yahoo.com</td>\n",
       "      <td>Scientist, product/process development</td>\n",
       "      <td>149.146.147.205</td>\n",
       "      <td>el</td>\n",
       "      <td>98.14</td>\n",
       "    </tr>\n",
       "    <tr>\n",
       "      <th>1</th>\n",
       "      <td>9374 Jasmine Spurs Suite 508\\nSouth John, TN 8...</td>\n",
       "      <td>28 rn</td>\n",
       "      <td>PM</td>\n",
       "      <td>Opera/8.93.(Windows 98; Win 9x 4.90; en-US) Pr...</td>\n",
       "      <td>Fletcher, Richards and Whitaker</td>\n",
       "      <td>3337758169645356</td>\n",
       "      <td>11/18</td>\n",
       "      <td>561</td>\n",
       "      <td>Mastercard</td>\n",
       "      <td>anthony41@reed.com</td>\n",
       "      <td>Drilling engineer</td>\n",
       "      <td>15.160.41.51</td>\n",
       "      <td>fr</td>\n",
       "      <td>70.73</td>\n",
       "    </tr>\n",
       "    <tr>\n",
       "      <th>2</th>\n",
       "      <td>Unit 0065 Box 5052\\nDPO AP 27450</td>\n",
       "      <td>94 vE</td>\n",
       "      <td>PM</td>\n",
       "      <td>Mozilla/5.0 (compatible; MSIE 9.0; Windows NT ...</td>\n",
       "      <td>Simpson, Williams and Pham</td>\n",
       "      <td>675957666125</td>\n",
       "      <td>08/19</td>\n",
       "      <td>699</td>\n",
       "      <td>JCB 16 digit</td>\n",
       "      <td>amymiller@morales-harrison.com</td>\n",
       "      <td>Customer service manager</td>\n",
       "      <td>132.207.160.22</td>\n",
       "      <td>de</td>\n",
       "      <td>0.95</td>\n",
       "    </tr>\n",
       "    <tr>\n",
       "      <th>3</th>\n",
       "      <td>7780 Julia Fords\\nNew Stacy, WA 45798</td>\n",
       "      <td>36 vm</td>\n",
       "      <td>PM</td>\n",
       "      <td>Mozilla/5.0 (Macintosh; Intel Mac OS X 10_8_0 ...</td>\n",
       "      <td>Williams, Marshall and Buchanan</td>\n",
       "      <td>6011578504430710</td>\n",
       "      <td>02/24</td>\n",
       "      <td>384</td>\n",
       "      <td>Discover</td>\n",
       "      <td>brent16@olson-robinson.info</td>\n",
       "      <td>Drilling engineer</td>\n",
       "      <td>30.250.74.19</td>\n",
       "      <td>es</td>\n",
       "      <td>78.04</td>\n",
       "    </tr>\n",
       "    <tr>\n",
       "      <th>4</th>\n",
       "      <td>23012 Munoz Drive Suite 337\\nNew Cynthia, TX 5...</td>\n",
       "      <td>20 IE</td>\n",
       "      <td>AM</td>\n",
       "      <td>Opera/9.58.(X11; Linux x86_64; it-IT) Presto/2...</td>\n",
       "      <td>Brown, Watson and Andrews</td>\n",
       "      <td>6011456623207998</td>\n",
       "      <td>10/25</td>\n",
       "      <td>678</td>\n",
       "      <td>Diners Club / Carte Blanche</td>\n",
       "      <td>christopherwright@gmail.com</td>\n",
       "      <td>Fine artist</td>\n",
       "      <td>24.140.33.94</td>\n",
       "      <td>es</td>\n",
       "      <td>77.82</td>\n",
       "    </tr>\n",
       "  </tbody>\n",
       "</table>\n",
       "</div>"
      ],
      "text/plain": [
       "                                             Address    Lot AM or PM  \\\n",
       "0  16629 Pace Camp Apt. 448\\nAlexisborough, NE 77...  46 in       PM   \n",
       "1  9374 Jasmine Spurs Suite 508\\nSouth John, TN 8...  28 rn       PM   \n",
       "2                   Unit 0065 Box 5052\\nDPO AP 27450  94 vE       PM   \n",
       "3              7780 Julia Fords\\nNew Stacy, WA 45798  36 vm       PM   \n",
       "4  23012 Munoz Drive Suite 337\\nNew Cynthia, TX 5...  20 IE       AM   \n",
       "\n",
       "                                        Browser Info  \\\n",
       "0  Opera/9.56.(X11; Linux x86_64; sl-SI) Presto/2...   \n",
       "1  Opera/8.93.(Windows 98; Win 9x 4.90; en-US) Pr...   \n",
       "2  Mozilla/5.0 (compatible; MSIE 9.0; Windows NT ...   \n",
       "3  Mozilla/5.0 (Macintosh; Intel Mac OS X 10_8_0 ...   \n",
       "4  Opera/9.58.(X11; Linux x86_64; it-IT) Presto/2...   \n",
       "\n",
       "                           Company       Credit Card CC Exp Date  \\\n",
       "0                  Martinez-Herman  6011929061123406       02/20   \n",
       "1  Fletcher, Richards and Whitaker  3337758169645356       11/18   \n",
       "2       Simpson, Williams and Pham      675957666125       08/19   \n",
       "3  Williams, Marshall and Buchanan  6011578504430710       02/24   \n",
       "4        Brown, Watson and Andrews  6011456623207998       10/25   \n",
       "\n",
       "   CC Security Code                  CC Provider  \\\n",
       "0               900                 JCB 16 digit   \n",
       "1               561                   Mastercard   \n",
       "2               699                 JCB 16 digit   \n",
       "3               384                     Discover   \n",
       "4               678  Diners Club / Carte Blanche   \n",
       "\n",
       "                            Email                                     Job  \\\n",
       "0               pdunlap@yahoo.com  Scientist, product/process development   \n",
       "1              anthony41@reed.com                       Drilling engineer   \n",
       "2  amymiller@morales-harrison.com                Customer service manager   \n",
       "3     brent16@olson-robinson.info                       Drilling engineer   \n",
       "4     christopherwright@gmail.com                             Fine artist   \n",
       "\n",
       "        IP Address Language  Purchase Price  \n",
       "0  149.146.147.205       el           98.14  \n",
       "1     15.160.41.51       fr           70.73  \n",
       "2   132.207.160.22       de            0.95  \n",
       "3     30.250.74.19       es           78.04  \n",
       "4     24.140.33.94       es           77.82  "
      ]
     },
     "execution_count": 125,
     "metadata": {},
     "output_type": "execute_result"
    }
   ],
   "source": [
    "ecom.head()"
   ]
  },
  {
   "cell_type": "markdown",
   "metadata": {},
   "source": [
    "**Сколько колонок и строк в таблице, какие типы имеют данные и насколько они заполнены?**"
   ]
  },
  {
   "cell_type": "code",
   "execution_count": 126,
   "metadata": {
    "ExecuteTime": {
     "end_time": "2018-10-25T14:31:50.394486Z",
     "start_time": "2018-10-25T14:31:50.372286Z"
    }
   },
   "outputs": [
    {
     "name": "stdout",
     "output_type": "stream",
     "text": [
      "<class 'pandas.core.frame.DataFrame'>\n",
      "RangeIndex: 10000 entries, 0 to 9999\n",
      "Data columns (total 14 columns):\n",
      "Address             10000 non-null object\n",
      "Lot                 10000 non-null object\n",
      "AM or PM            10000 non-null object\n",
      "Browser Info        10000 non-null object\n",
      "Company             10000 non-null object\n",
      "Credit Card         10000 non-null int64\n",
      "CC Exp Date         10000 non-null object\n",
      "CC Security Code    10000 non-null int64\n",
      "CC Provider         10000 non-null object\n",
      "Email               10000 non-null object\n",
      "Job                 10000 non-null object\n",
      "IP Address          10000 non-null object\n",
      "Language            10000 non-null object\n",
      "Purchase Price      10000 non-null float64\n",
      "dtypes: float64(1), int64(2), object(11)\n",
      "memory usage: 1.1+ MB\n"
     ]
    }
   ],
   "source": [
    "ecom.info()"
   ]
  },
  {
   "cell_type": "markdown",
   "metadata": {},
   "source": [
    "##  Блиц!"
   ]
  },
  {
   "cell_type": "markdown",
   "metadata": {},
   "source": [
    "**Какова средняя цена покупки?**"
   ]
  },
  {
   "cell_type": "code",
   "execution_count": null,
   "metadata": {},
   "outputs": [],
   "source": []
  },
  {
   "cell_type": "markdown",
   "metadata": {},
   "source": [
    "**Каковы максимальная и минимаьная цена покупки?**"
   ]
  },
  {
   "cell_type": "code",
   "execution_count": null,
   "metadata": {},
   "outputs": [],
   "source": []
  },
  {
   "cell_type": "markdown",
   "metadata": {},
   "source": [
    "**Сколько человек выбрали 'en' своим языком на сайте?**"
   ]
  },
  {
   "cell_type": "code",
   "execution_count": null,
   "metadata": {},
   "outputs": [],
   "source": []
  },
  {
   "cell_type": "markdown",
   "metadata": {},
   "source": [
    "**Сколько человек имеют работу юристом?**\n"
   ]
  },
  {
   "cell_type": "code",
   "execution_count": null,
   "metadata": {},
   "outputs": [],
   "source": []
  },
  {
   "cell_type": "markdown",
   "metadata": {},
   "source": [
    "**Сколько человек совершает покупки утром и сколько вечером?**"
   ]
  },
  {
   "cell_type": "code",
   "execution_count": null,
   "metadata": {},
   "outputs": [],
   "source": []
  },
  {
   "cell_type": "markdown",
   "metadata": {},
   "source": [
    "**Какие 5 самые популярные профессии?**"
   ]
  },
  {
   "cell_type": "code",
   "execution_count": null,
   "metadata": {},
   "outputs": [],
   "source": []
  },
  {
   "cell_type": "markdown",
   "metadata": {},
   "source": [
    "**Какова цена транзакции для лота \"90 WT\"?**"
   ]
  },
  {
   "cell_type": "code",
   "execution_count": null,
   "metadata": {},
   "outputs": [],
   "source": []
  },
  {
   "cell_type": "markdown",
   "metadata": {},
   "source": [
    "**Какой почтовый адрес у человека с номером карты: 4926535242672853**"
   ]
  },
  {
   "cell_type": "code",
   "execution_count": null,
   "metadata": {},
   "outputs": [],
   "source": []
  },
  {
   "cell_type": "markdown",
   "metadata": {},
   "source": [
    "**Сколько человек имеют American Express в качестве их Credit Card Provider и сделали покупку более $95 ?**"
   ]
  },
  {
   "cell_type": "code",
   "execution_count": null,
   "metadata": {},
   "outputs": [],
   "source": []
  },
  {
   "cell_type": "markdown",
   "metadata": {},
   "source": [
    "**Сколько человек имеют кредитную карточку, срок которой оканчивается в 2025 году?**"
   ]
  },
  {
   "cell_type": "code",
   "execution_count": null,
   "metadata": {},
   "outputs": [],
   "source": []
  },
  {
   "cell_type": "markdown",
   "metadata": {},
   "source": [
    "**Какие 5 самых популрных почтовых провайдеров? (e.g. gmail.com, yahoo.com, etc...)**"
   ]
  },
  {
   "cell_type": "code",
   "execution_count": null,
   "metadata": {},
   "outputs": [],
   "source": []
  },
  {
   "cell_type": "code",
   "execution_count": null,
   "metadata": {},
   "outputs": [],
   "source": []
  },
  {
   "cell_type": "code",
   "execution_count": null,
   "metadata": {},
   "outputs": [],
   "source": []
  },
  {
   "cell_type": "code",
   "execution_count": null,
   "metadata": {},
   "outputs": [],
   "source": []
  }
 ],
 "metadata": {
  "kernelspec": {
   "display_name": "Python 3",
   "language": "python",
   "name": "python3"
  },
  "language_info": {
   "codemirror_mode": {
    "name": "ipython",
    "version": 3
   },
   "file_extension": ".py",
   "mimetype": "text/x-python",
   "name": "python",
   "nbconvert_exporter": "python",
   "pygments_lexer": "ipython3",
   "version": "3.6.4"
  }
 },
 "nbformat": 4,
 "nbformat_minor": 1
}
