{
 "cells": [
  {
   "cell_type": "markdown",
   "metadata": {
    "ExecuteTime": {
     "end_time": "2018-10-27T22:45:57.162576Z",
     "start_time": "2018-10-27T22:45:57.150732Z"
    }
   },
   "source": [
    "### Задача 1. (макс. 7 баллов)\n",
    "Скачайте датасет в .xlsx (Excel) \"Археологические находки на реконструируемых улицах\" с московского портала открытых данных : https://data.mos.ru/opendata/7702155262-arheologicheskie-nahodki-na-rekonstruiruemyh-ulitsah?pageNumber=2&versionNumber=2&releaseNumber=8\n",
    "\n",
    "1. (2 балла) Загрузите датасет функцией pandas.read_excel(). Сколько было находок?\n",
    "2. (1 балла) Добавьте в датафрейм колонки с годом и месяцем обнаружения (метод apply)\n",
    "4. (1 балл) Выведете распределение количества находок по годам и отдельно по месяцам (метод value_counts())\n",
    "5. (2 балла) Найдите находку с самым длинным описанием\n",
    "6. (1 балл) Бонусный балл за интересные факты, которые можно почерпнуть из датасета с использованием pandas."
   ]
  },
  {
   "cell_type": "code",
   "execution_count": null,
   "metadata": {},
   "outputs": [],
   "source": []
  },
  {
   "cell_type": "markdown",
   "metadata": {
    "ExecuteTime": {
     "end_time": "2018-10-27T22:49:12.987646Z",
     "start_time": "2018-10-27T22:49:12.964324Z"
    }
   },
   "source": [
    "### Задача 2. (макс. 10 баллов)\n",
    "Вам дан датасет с данными о спортивных площадках в Москве и Московской области с портала открытых данных города москвы. https://data.mos.ru/opendata/7708040885-sportivnye-ploshchadki\n",
    "\n",
    "1. (2 балла) Загрузите датасет функцией pandas.read_excel(). Сколько всего площадок? \n",
    "2. (1 балл) Pandas сокращает количество выводимых столбцов, если их слишком много. Выполните pd.set_option('display.max_columns', None) , чтобы выводить всегда все колонки. \n",
    "3. (1 балл) Сколько площадок останется, если удалить строчки, у которых хотя бы 1 значение пропущено (функция pandas.dropna())? Почему столько?\n",
    "4. (2 балла) Выведите все бесплатные площадки, приспособленные для инвалидов\n",
    "5. (1 балл) Какие типы покрытия бывают на площадках (метод unique() у колонки)? Какое покрытие самое популярное, самое непопулярное (метод value_counts())?\n",
    "6. (1 балл) Сколько всего районов, в которых расположены площадки (метод .nunique() у колонки). Какой район имеет наибольшее количество площадок? \n",
    "7. (2 балла) Сколько площадок в вашем районе? На каком месте находится ваш район по кол-ву площадок? (функция np.where() или метод .index())\n"
   ]
  },
  {
   "cell_type": "code",
   "execution_count": null,
   "metadata": {},
   "outputs": [],
   "source": []
  }
 ],
 "metadata": {
  "kernelspec": {
   "display_name": "Python 3",
   "language": "python",
   "name": "python3"
  },
  "language_info": {
   "codemirror_mode": {
    "name": "ipython",
    "version": 3
   },
   "file_extension": ".py",
   "mimetype": "text/x-python",
   "name": "python",
   "nbconvert_exporter": "python",
   "pygments_lexer": "ipython3",
   "version": "3.6.4"
  }
 },
 "nbformat": 4,
 "nbformat_minor": 2
}
