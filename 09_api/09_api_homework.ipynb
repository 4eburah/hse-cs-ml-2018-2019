{
 "cells": [
  {
   "cell_type": "markdown",
   "metadata": {},
   "source": [
    "# Задание 1 (7 балла)\n",
    "Выберите одного певца. Скачайте несколько его свежих портретных фото. Какой ему возраст в среднем дает апи?\n",
    "\n",
    "Делайте запросы в цикле.\n",
    "\n",
    "Если не знаете, где взять легально mp3 файлы, то можно воспользоваться этим сервисом: https://www.jamendo.com/start\n",
    "\n",
    "### Microsoft Face API:\n",
    "https://www.microsoft.com/cognitive-services/en-us/face-api - дают 7-дневный пробный период без кредитки\n",
    "    \n",
    "https://docs.microsoft.com/ru-ru/azure/cognitive-services/face/quickstarts/python - quick start"
   ]
  },
  {
   "cell_type": "markdown",
   "metadata": {},
   "source": [
    "# Задание 2 (7 балла)\n",
    "Выберите одну его песню. Разбейте ее на кусочки. Кусочки не должны быть больше 1 мб и длиннее 1 минуты. Получите текст кусочков с помощью соответствующего апи.\n",
    "\n",
    "Для английского языка используйте en-US, для русского ru-RU. Яндекс русские песни понимает лучше.\n",
    "\n",
    "# Yandex SpeechKit\n",
    "https://tech.yandex.ru/speechkit/\n",
    "\n",
    "Нас не интересует встраивание этой технологии в мобильное приложение. Так что идем в https://tech.yandex.ru/speechkit/cloud/ . Отсюда в кабинет разработчика: https://developer.tech.yandex.ru и получаем там API ключ на 30 дней.\n",
    "\n",
    "С новеньким ключем читаем документацию: https://tech.yandex.ru/speechkit/cloud/doc/guide/concepts/speechkit-cloud-asr-quick-start-docpage/\n",
    "\n",
    "Проблематично что-то понять, но гугление дает прекрасный пример на Питоне: https://toster.ru/q/310132"
   ]
  },
  {
   "cell_type": "markdown",
   "metadata": {},
   "source": [
    "# Задание 3 по желанию.\n",
    "\n",
    "Получившиеся тексты классифицируйте с помощью fasttext.\n",
    "\n",
    "Для русского языка вам потребуется найти самостоятельно корпус текстов. Они есть в интернете, например, вот по твиттеру: http://study.mokoron.com/\n",
    "\n",
    "\n",
    "### FastText\n",
    "https://fasttext.cc"
   ]
  }
 ],
 "metadata": {
  "kernelspec": {
   "display_name": "Python 3",
   "language": "python",
   "name": "python3"
  },
  "language_info": {
   "codemirror_mode": {
    "name": "ipython",
    "version": 3
   },
   "file_extension": ".py",
   "mimetype": "text/x-python",
   "name": "python",
   "nbconvert_exporter": "python",
   "pygments_lexer": "ipython3",
   "version": "3.7.0"
  }
 },
 "nbformat": 4,
 "nbformat_minor": 2
}
