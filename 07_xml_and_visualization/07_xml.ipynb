{
 "cells": [
  {
   "cell_type": "markdown",
   "metadata": {},
   "source": [
    "# XML\n",
    "### eXtensible Markup Language\n",
    "https://docs.python.org/3.7/library/xml.etree.elementtree.html"
   ]
  },
  {
   "cell_type": "code",
   "execution_count": 1,
   "metadata": {
    "ExecuteTime": {
     "end_time": "2018-11-01T15:54:39.016650Z",
     "start_time": "2018-11-01T15:54:39.005944Z"
    }
   },
   "outputs": [],
   "source": [
    "# Примеры:\n",
    "    \n",
    "<?xml version=\"1.0\" ?>\n",
    "<zAppointments reminder=\"15\">\n",
    "    <appointment>\n",
    "        <begin>1181251680</begin>\n",
    "        <uid>040000008200E000</uid>\n",
    "        <alarmTime>1181572063</alarmTime>\n",
    "        <state></state>\n",
    "        <location></location>\n",
    "        <duration>1800</duration>\n",
    "        <subject>Bring pizza home</subject>\n",
    "    </appointment>\n",
    "</zAppointments>\n",
    "\n",
    "\n",
    "<?xml version=\"1.0\"?>\n",
    "<data>\n",
    "    <country name=\"Liechtenstein\">\n",
    "        <rank updated=\"yes\">2</rank>\n",
    "        <year>2008</year>\n",
    "        <gdppc>141100</gdppc>\n",
    "        <neighbor name=\"Austria\" direction=\"E\"/>\n",
    "        <neighbor name=\"Switzerland\" direction=\"W\"/>\n",
    "    </country>\n",
    "    <country name=\"Singapore\">\n",
    "        <rank updated=\"yes\">5</rank>\n",
    "        <year>2011</year>\n",
    "        <gdppc>59900</gdppc>\n",
    "        <neighbor name=\"Malaysia\" direction=\"N\"/>\n",
    "    </country>\n",
    "    <country name=\"Panama\">\n",
    "        <rank updated=\"yes\">69</rank>\n",
    "        <year>2011</year>\n",
    "        <gdppc>13600</gdppc>\n",
    "        <neighbor name=\"Costa Rica\" direction=\"W\"/>\n",
    "        <neighbor name=\"Colombia\" direction=\"E\"/>\n",
    "    </country>\n",
    "</data>"
   ]
  },
  {
   "cell_type": "code",
   "execution_count": 171,
   "metadata": {
    "ExecuteTime": {
     "end_time": "2018-11-01T13:29:41.575832Z",
     "start_time": "2018-11-01T13:29:41.569804Z"
    }
   },
   "outputs": [],
   "source": [
    "import xml.etree.ElementTree as ET "
   ]
  },
  {
   "cell_type": "code",
   "execution_count": 337,
   "metadata": {
    "ExecuteTime": {
     "end_time": "2018-11-01T14:42:10.381895Z",
     "start_time": "2018-11-01T14:42:10.374500Z"
    }
   },
   "outputs": [],
   "source": [
    "xml_text = \"\"\"<?xml version=\"1.0\"?>\n",
    "<data>\n",
    "    <country name=\"Liechtenstein\">\n",
    "        <rank updated=\"yes\">2</rank>\n",
    "        <year>2008</year>\n",
    "        <gdppc>141100</gdppc>\n",
    "        <neighbor name=\"Austria\" direction=\"E\"/>\n",
    "        <neighbor name=\"Switzerland\" direction=\"W\"/>\n",
    "    </country>\n",
    "    <country name=\"Singapore\">\n",
    "        <rank updated=\"yes\">5</rank>\n",
    "        <year>2011</year>\n",
    "        <gdppc>59900</gdppc>\n",
    "        <neighbor name=\"Malaysia\" direction=\"N\"/>\n",
    "    </country>\n",
    "    <country name=\"Panama\">\n",
    "        <rank updated=\"yes\">69</rank>\n",
    "        <year>2011</year>\n",
    "        <gdppc>13600</gdppc>\n",
    "        <neighbor name=\"Costa Rica\" direction=\"W\"/>\n",
    "        <neighbor name=\"Colombia\" direction=\"E\"/>\n",
    "    </country>\n",
    "</data>\"\"\"\n"
   ]
  },
  {
   "cell_type": "code",
   "execution_count": 226,
   "metadata": {
    "ExecuteTime": {
     "end_time": "2018-11-01T14:14:55.839314Z",
     "start_time": "2018-11-01T14:14:55.835040Z"
    }
   },
   "outputs": [],
   "source": [
    "root = ET.fromstring(xml_text)"
   ]
  },
  {
   "cell_type": "code",
   "execution_count": 187,
   "metadata": {
    "ExecuteTime": {
     "end_time": "2018-11-01T13:31:04.671409Z",
     "start_time": "2018-11-01T13:31:04.664660Z"
    }
   },
   "outputs": [
    {
     "data": {
      "text/plain": [
       "<Element 'data' at 0x10d90a048>"
      ]
     },
     "execution_count": 187,
     "metadata": {},
     "output_type": "execute_result"
    }
   ],
   "source": [
    "root"
   ]
  },
  {
   "cell_type": "code",
   "execution_count": 188,
   "metadata": {
    "ExecuteTime": {
     "end_time": "2018-11-01T13:31:06.047871Z",
     "start_time": "2018-11-01T13:31:06.036844Z"
    }
   },
   "outputs": [
    {
     "data": {
      "text/plain": [
       "'data'"
      ]
     },
     "execution_count": 188,
     "metadata": {},
     "output_type": "execute_result"
    }
   ],
   "source": [
    "root.tag"
   ]
  },
  {
   "cell_type": "code",
   "execution_count": 189,
   "metadata": {
    "ExecuteTime": {
     "end_time": "2018-11-01T13:31:06.511654Z",
     "start_time": "2018-11-01T13:31:06.503444Z"
    }
   },
   "outputs": [
    {
     "data": {
      "text/plain": [
       "{}"
      ]
     },
     "execution_count": 189,
     "metadata": {},
     "output_type": "execute_result"
    }
   ],
   "source": [
    "root.attrib"
   ]
  },
  {
   "cell_type": "code",
   "execution_count": 190,
   "metadata": {
    "ExecuteTime": {
     "end_time": "2018-11-01T13:31:07.493948Z",
     "start_time": "2018-11-01T13:31:07.484962Z"
    }
   },
   "outputs": [
    {
     "data": {
      "text/plain": [
       "'\\n    '"
      ]
     },
     "execution_count": 190,
     "metadata": {},
     "output_type": "execute_result"
    }
   ],
   "source": [
    "root.text"
   ]
  },
  {
   "cell_type": "code",
   "execution_count": 191,
   "metadata": {
    "ExecuteTime": {
     "end_time": "2018-11-01T13:31:07.918723Z",
     "start_time": "2018-11-01T13:31:07.912399Z"
    }
   },
   "outputs": [
    {
     "name": "stdout",
     "output_type": "stream",
     "text": [
      "country\n",
      "country\n",
      "country\n"
     ]
    }
   ],
   "source": [
    "for child in root:\n",
    "    print(child.tag)"
   ]
  },
  {
   "cell_type": "code",
   "execution_count": 192,
   "metadata": {
    "ExecuteTime": {
     "end_time": "2018-11-01T13:31:10.085228Z",
     "start_time": "2018-11-01T13:31:10.074960Z"
    }
   },
   "outputs": [
    {
     "data": {
      "text/plain": [
       "'country'"
      ]
     },
     "execution_count": 192,
     "metadata": {},
     "output_type": "execute_result"
    }
   ],
   "source": [
    "first_child = root.getchildren()[0]\n",
    "first_child.tag"
   ]
  },
  {
   "cell_type": "code",
   "execution_count": 193,
   "metadata": {
    "ExecuteTime": {
     "end_time": "2018-11-01T13:31:16.636557Z",
     "start_time": "2018-11-01T13:31:16.629616Z"
    }
   },
   "outputs": [
    {
     "data": {
      "text/plain": [
       "{'name': 'Liechtenstein'}"
      ]
     },
     "execution_count": 193,
     "metadata": {},
     "output_type": "execute_result"
    }
   ],
   "source": [
    "first_child.attrib"
   ]
  },
  {
   "cell_type": "code",
   "execution_count": 194,
   "metadata": {
    "ExecuteTime": {
     "end_time": "2018-11-01T13:31:17.506149Z",
     "start_time": "2018-11-01T13:31:17.498115Z"
    }
   },
   "outputs": [
    {
     "data": {
      "text/plain": [
       "'\\n        '"
      ]
     },
     "execution_count": 194,
     "metadata": {},
     "output_type": "execute_result"
    }
   ],
   "source": [
    "first_child.text"
   ]
  },
  {
   "cell_type": "markdown",
   "metadata": {},
   "source": [
    "### Find with XPath support\n",
    "https://msdn.microsoft.com/en-us/library/ms256086(v=vs.110).aspx - xPath examples"
   ]
  },
  {
   "cell_type": "code",
   "execution_count": 212,
   "metadata": {
    "ExecuteTime": {
     "end_time": "2018-11-01T13:37:27.381358Z",
     "start_time": "2018-11-01T13:37:27.374587Z"
    }
   },
   "outputs": [
    {
     "data": {
      "text/plain": [
       "[<Element 'data' at 0x10d90a048>]"
      ]
     },
     "execution_count": 212,
     "metadata": {},
     "output_type": "execute_result"
    }
   ],
   "source": [
    "# Top-level elements\n",
    "root.findall(\".\")"
   ]
  },
  {
   "cell_type": "code",
   "execution_count": 213,
   "metadata": {
    "ExecuteTime": {
     "end_time": "2018-11-01T13:37:27.545390Z",
     "start_time": "2018-11-01T13:37:27.536928Z"
    }
   },
   "outputs": [
    {
     "data": {
      "text/plain": [
       "[<Element 'neighbor' at 0x10d90a958>,\n",
       " <Element 'neighbor' at 0x10d90a9a8>,\n",
       " <Element 'neighbor' at 0x10d90ab38>,\n",
       " <Element 'neighbor' at 0x10d90acc8>,\n",
       " <Element 'neighbor' at 0x10d90ad18>]"
      ]
     },
     "execution_count": 213,
     "metadata": {},
     "output_type": "execute_result"
    }
   ],
   "source": [
    "# All 'neighbor' grand-children of 'country' children of the top-level\n",
    "# elements\n",
    "root.findall(\"./country/neighbor\")"
   ]
  },
  {
   "cell_type": "code",
   "execution_count": 214,
   "metadata": {
    "ExecuteTime": {
     "end_time": "2018-11-01T13:37:27.693817Z",
     "start_time": "2018-11-01T13:37:27.685890Z"
    }
   },
   "outputs": [
    {
     "data": {
      "text/plain": [
       "[<Element 'country' at 0x10d90a9f8>]"
      ]
     },
     "execution_count": 214,
     "metadata": {},
     "output_type": "execute_result"
    }
   ],
   "source": [
    "# Nodes with name='Singapore' that have a 'year' child\n",
    "root.findall(\".//year/..[@name='Singapore']\")"
   ]
  },
  {
   "cell_type": "code",
   "execution_count": 215,
   "metadata": {
    "ExecuteTime": {
     "end_time": "2018-11-01T13:37:27.829518Z",
     "start_time": "2018-11-01T13:37:27.820649Z"
    }
   },
   "outputs": [
    {
     "data": {
      "text/plain": [
       "[<Element 'year' at 0x10d90aa98>]"
      ]
     },
     "execution_count": 215,
     "metadata": {},
     "output_type": "execute_result"
    }
   ],
   "source": [
    "# 'year' nodes that are children of nodes with name='Singapore'\n",
    "root.findall(\".//*[@name='Singapore']/year\")"
   ]
  },
  {
   "cell_type": "code",
   "execution_count": 216,
   "metadata": {
    "ExecuteTime": {
     "end_time": "2018-11-01T13:37:27.974108Z",
     "start_time": "2018-11-01T13:37:27.967660Z"
    }
   },
   "outputs": [
    {
     "data": {
      "text/plain": [
       "[<Element 'neighbor' at 0x10d90a9a8>, <Element 'neighbor' at 0x10d90ad18>]"
      ]
     },
     "execution_count": 216,
     "metadata": {},
     "output_type": "execute_result"
    }
   ],
   "source": [
    "# All 'neighbor' nodes that are the second child of their parent\n",
    "root.findall(\".//neighbor[2]\")"
   ]
  },
  {
   "cell_type": "code",
   "execution_count": null,
   "metadata": {},
   "outputs": [],
   "source": []
  },
  {
   "cell_type": "markdown",
   "metadata": {},
   "source": [
    "### Более сложный пример:"
   ]
  },
  {
   "cell_type": "code",
   "execution_count": 257,
   "metadata": {
    "ExecuteTime": {
     "end_time": "2018-11-01T14:22:01.204690Z",
     "start_time": "2018-11-01T14:22:00.865842Z"
    }
   },
   "outputs": [],
   "source": [
    "import requests \n",
    "resp = requests.get('http://www.forbes.ru/newrss.xml') "
   ]
  },
  {
   "cell_type": "code",
   "execution_count": 258,
   "metadata": {
    "ExecuteTime": {
     "end_time": "2018-11-01T14:22:01.221904Z",
     "start_time": "2018-11-01T14:22:01.207627Z"
    }
   },
   "outputs": [],
   "source": [
    "root = ET.fromstring(resp.text)"
   ]
  },
  {
   "cell_type": "code",
   "execution_count": 259,
   "metadata": {
    "ExecuteTime": {
     "end_time": "2018-11-01T14:22:01.249401Z",
     "start_time": "2018-11-01T14:22:01.225592Z"
    }
   },
   "outputs": [],
   "source": [
    "with open('topnewsfeed.xml', 'wb') as f: \n",
    "    f.write(resp.content)\n",
    "    \n",
    "tree = ET.parse('topnewsfeed.xml')\n",
    "\n",
    "root = tree.getroot()"
   ]
  },
  {
   "cell_type": "code",
   "execution_count": 260,
   "metadata": {
    "ExecuteTime": {
     "end_time": "2018-11-01T14:22:01.312261Z",
     "start_time": "2018-11-01T14:22:01.305885Z"
    }
   },
   "outputs": [
    {
     "data": {
      "text/plain": [
       "'rss'"
      ]
     },
     "execution_count": 260,
     "metadata": {},
     "output_type": "execute_result"
    }
   ],
   "source": [
    "root.tag"
   ]
  },
  {
   "cell_type": "code",
   "execution_count": 150,
   "metadata": {
    "ExecuteTime": {
     "end_time": "2018-11-01T13:26:31.718747Z",
     "start_time": "2018-11-01T13:26:31.710134Z"
    }
   },
   "outputs": [
    {
     "data": {
      "text/plain": [
       "{'version': '2.0',\n",
       " '{http://www.w3.org/XML/1998/namespace}base': 'http://www.forbes.ru/'}"
      ]
     },
     "execution_count": 150,
     "metadata": {},
     "output_type": "execute_result"
    }
   ],
   "source": [
    "root.attrib"
   ]
  },
  {
   "cell_type": "code",
   "execution_count": 52,
   "metadata": {
    "ExecuteTime": {
     "end_time": "2018-10-31T22:03:32.900730Z",
     "start_time": "2018-10-31T22:03:32.893097Z"
    }
   },
   "outputs": [
    {
     "name": "stdout",
     "output_type": "stream",
     "text": [
      "channel {}\n"
     ]
    }
   ],
   "source": [
    "for child in root:\n",
    "    print(child.tag, child.attrib)"
   ]
  },
  {
   "cell_type": "code",
   "execution_count": 57,
   "metadata": {
    "ExecuteTime": {
     "end_time": "2018-10-31T22:04:23.324767Z",
     "start_time": "2018-10-31T22:04:23.316463Z"
    }
   },
   "outputs": [
    {
     "data": {
      "text/plain": [
       "<Element 'channel' at 0x10d64fd68>"
      ]
     },
     "execution_count": 57,
     "metadata": {},
     "output_type": "execute_result"
    }
   ],
   "source": [
    "root[0]"
   ]
  },
  {
   "cell_type": "code",
   "execution_count": 69,
   "metadata": {
    "ExecuteTime": {
     "end_time": "2018-10-31T22:05:38.271778Z",
     "start_time": "2018-10-31T22:05:38.262249Z"
    }
   },
   "outputs": [
    {
     "data": {
      "text/plain": [
       "[<Element 'item' at 0x10d6372c8>,\n",
       " <Element 'item' at 0x10d637958>,\n",
       " <Element 'item' at 0x10d637d68>,\n",
       " <Element 'item' at 0x10d63b1d8>,\n",
       " <Element 'item' at 0x10d63b5e8>,\n",
       " <Element 'item' at 0x10d63b9f8>,\n",
       " <Element 'item' at 0x10d63be08>,\n",
       " <Element 'item' at 0x10d622278>,\n",
       " <Element 'item' at 0x10d622688>,\n",
       " <Element 'item' at 0x10d622b38>,\n",
       " <Element 'item' at 0x10d622ea8>,\n",
       " <Element 'item' at 0x10d2b8318>,\n",
       " <Element 'item' at 0x10d2b8728>,\n",
       " <Element 'item' at 0x10d2b8b38>,\n",
       " <Element 'item' at 0x10d2b8f48>,\n",
       " <Element 'item' at 0x10d2b63b8>,\n",
       " <Element 'item' at 0x10d2b67c8>,\n",
       " <Element 'item' at 0x10d2b6cc8>,\n",
       " <Element 'item' at 0x10d29e138>,\n",
       " <Element 'item' at 0x10d29e548>]"
      ]
     },
     "execution_count": 69,
     "metadata": {},
     "output_type": "execute_result"
    }
   ],
   "source": [
    "root.findall('channel/item')"
   ]
  },
  {
   "cell_type": "code",
   "execution_count": 70,
   "metadata": {
    "ExecuteTime": {
     "end_time": "2018-10-31T22:05:52.655307Z",
     "start_time": "2018-10-31T22:05:52.644360Z"
    }
   },
   "outputs": [
    {
     "data": {
      "text/plain": [
       "[<Element 'content' at 0x10d637318>,\n",
       " <Element 'content' at 0x10d6379a8>,\n",
       " <Element 'content' at 0x10d637db8>,\n",
       " <Element 'content' at 0x10d63b228>,\n",
       " <Element 'content' at 0x10d63b638>,\n",
       " <Element 'content' at 0x10d63ba48>,\n",
       " <Element 'content' at 0x10d63be58>,\n",
       " <Element 'content' at 0x10d6222c8>,\n",
       " <Element 'content' at 0x10d6226d8>,\n",
       " <Element 'content' at 0x10d622b88>,\n",
       " <Element 'content' at 0x10d622ef8>,\n",
       " <Element 'content' at 0x10d2b8368>,\n",
       " <Element 'content' at 0x10d2b8778>,\n",
       " <Element 'content' at 0x10d2b8b88>,\n",
       " <Element 'content' at 0x10d2b8f98>,\n",
       " <Element 'content' at 0x10d2b6408>,\n",
       " <Element 'content' at 0x10d2b6818>,\n",
       " <Element 'content' at 0x10d2b6d18>,\n",
       " <Element 'content' at 0x10d29e188>,\n",
       " <Element 'content' at 0x10d29e598>]"
      ]
     },
     "execution_count": 70,
     "metadata": {},
     "output_type": "execute_result"
    }
   ],
   "source": [
    "root.findall('*/item/content')"
   ]
  },
  {
   "cell_type": "code",
   "execution_count": 347,
   "metadata": {
    "ExecuteTime": {
     "end_time": "2018-11-01T14:48:40.022697Z",
     "start_time": "2018-11-01T14:48:40.005236Z"
    }
   },
   "outputs": [],
   "source": [
    "def parse_xml(xml_file): \n",
    "  \n",
    "    # создаем tree объект \n",
    "    tree = ET.parse(xml_file) \n",
    "  \n",
    "    # достаем из дерева корневой элемент \n",
    "    root = tree.getroot() \n",
    "  \n",
    "    # создаем пустой лист для единиц новостей \n",
    "    news_items = [] \n",
    "  \n",
    "    # итерируемся по новостям \n",
    "    for item in root.findall('./channel/item'): # ищем элементы по пути\n",
    "        news = {}\n",
    "        \n",
    "        # итерируемся по дочерним элементам\n",
    "        for child in item:  \n",
    "            news[child.tag] = child.text\n",
    "  \n",
    "        news_items.append(news) \n",
    "      \n",
    "    return news_items "
   ]
  },
  {
   "cell_type": "code",
   "execution_count": 348,
   "metadata": {
    "ExecuteTime": {
     "end_time": "2018-11-01T14:48:40.357892Z",
     "start_time": "2018-11-01T14:48:40.345867Z"
    }
   },
   "outputs": [],
   "source": [
    "news_items = parse_xml('topnewsfeed.xml')"
   ]
  },
  {
   "cell_type": "code",
   "execution_count": 256,
   "metadata": {
    "ExecuteTime": {
     "end_time": "2018-11-01T14:21:52.573444Z",
     "start_time": "2018-11-01T14:21:52.563809Z"
    }
   },
   "outputs": [
    {
     "data": {
      "text/plain": [
       "{'category': 'Миллиардеры',\n",
       " 'content': '<p>Прискорбно наблюдать, как буквально на глазах Лондон\\xa0из относительно спокойного и морально комфортабельного европейского города (можно даже сказать — финансовой столицы мира)\\xa0становится чем-то, напоминающим Бейрут — по висящей в воздухе атмосфере напряжения.\\xa0Истерия началась с исторического голосования за «выход» Шотландии, потом резко усугубилась неожиданным и непонятным «Брэкзитом», а сейчас, благодаря всячески распространяемой правительством консерваторов истерии вокруг всего российского, превратилась в публичную «инфекционную шизофрению». Но кроме атмосферы «Путин идет со спецназом по Пикадилли», есть еще много факторов, влияющих на современный Лондон\\xa0— совершенно отдельное\\xa0от Британии и всего мира государство со своими законами, правилами и обычаями.</p>\\n<h2><strong>От Березовского до Скрипаля: смерть в Британии</strong></h2>\\n<p>В соцсетях часто повторятся вопрос: «А почему у вас в Лондоне постоянно кого-нибудь убивают? Разные темные личности бегут из Матушки-России и в США, и в Израиль, и в Европу, да и вообще по свету щедро разбросаны, а взрывают и травят исключительно в столице Туманного Альбиона. Может это все из-за британской погоды? Сплин, депрессия, джин, кокс, туман, темный берег Темзы…»</p>\\n<p>На самом деле\\xa0в благословенной Британии есть просто убийства и убийства с большой буквы. Впрочем, Англия ими всегда славилась, ведь недаром именно здесь жили и работали\\xa0мисс Марпл, Шерлок Холмс и еще пара дюжин иных, менее известных персонажей классических британских детективов.</p>\\n<p>Лондон является абсолютно уникальным политическим, культурным и юридическим образованием. Никуда столько не «понаехали» и нигде столько не «понаоставались». Пройдясь по ресторанам и кабачкам в центре, можно составить шикарный каталог бывших депутатов, чиновников, банкиров, «решал», просто мелких мошенников, прибывших в страну в надежде, что Ее Величество приютит их и не отдаст на поругание кровавому режиму. Что обойдется без «Матроски», Лефортова и «Крестов». Это криминально-политическая\\xa0вынужденная эмиграция многослойна: слой\\xa0Березовского, слой\\xa0бывших «юкосовцев», беженцы «от Назарбаева», и так далее. Если построить схему,\\xa0получится срез мощнейшего дуба «эволюции режима». В нем смешаны и те, кто вырвался прямо из-под уголовного дела (вечером улетел — утром пришли), и те, кто пережидает\\xa0смутные времена, и те, кто улетел «полечиться на всякий случай», и те, кто просто «впарил глупым бритам» историю о кровавых пытках в ФСБ, чтобы получить вожделенный статус. Может, есть и более матерые\\xa0эмиграции, но большего собрания людей из СНГ, да, впрочем, и со всего мира, с разными историями\\xa0нет абсолютно нигде. Не верите — просто прогуляйтесь по известным лондонским пабам и присмотритесь повнимательней.</p>\\n<p>А почему убивают? Все очень просто: когда большое количество людей с очень сомнительными жизненными историями и не очень чистыми деньгами собирается в одном месте, там всегда есть, кого можно (или нужно) «заказать». Политические оппоненты (очень редко), кредиторы, должники, настоящие преступники, обиженные супруги. Наконец массово мрут просто от депрессии и наркотиков.\\xa0Причем схема «заказал\\xa0кредитора, а свалил на Путина«\\xa0сейчас должна работать на 300%. Кстати, современная история таинственных смертей в Британии началась с уже почти позабытого падения вертолета известного юриста <a target=\"_blank\" href=\"https://ru.wikipedia.org/wiki/%D0%9A%D0%B5%D1%80%D1%82%D0%B8%D1%81,_%D0%A1%D1%82%D0%B8%D0%B2%D0%B5%D0%BD\">Стивена Кертиса</a> в самом начале нулевых. Излишне напоминать, что по абсолютно публичной информации старина Стивен работал и на Бориса Березовского, и на Михаил Ходорковского. Расследования не выявили каких-либо интересных «концов», но всем было ясно, что вертолеты с такими людьми, как Кертис, так просто не падают. А за ним уже пошли Литвиненко, Перепеличный, Патаркацишвили, сам Борис Абрамыч\\xa0и так далее\\xa0по списку. И везде — полные «глухари». Которые сейчас, разумеется, дополнительно перепроверят за счет средств налогоплательщиков на участие Путина.</p>\\n<p>Но в Лондоне убивали, убивают и будут убивать. Чем выше политическая нестабильность — тем больше убийств.</p>\\n<h2><strong>Возвращение Джеков-потрошителей </strong></h2>\\n<p>Существует так называемый Crime Index, оценивающий криминальность\\xa0отдельных городов. Согласно ему,\\xa0<a target=\"_blank\" href=\"https://www.numbeo.com/crime/region_rankings.jsp?title=2018-mid&region=150\">на данный момент</a> четвертый город по разгулу преступности в Европе — Бирмингем, а шестнадцатый —\\xa0Лондон. Самый криминальный город\\xa0в России Новосибирск нервно курит аж на 21-ом месте, а Москва — на 34-ом. Стоит вдуматься\\xa0—\\xa0криминальная ситуация в Москве в два раза лучше, чем в Лондоне.</p>\\n<p>За последние несколько лет полицию в Британии урезали, согласно газете The Independent, на 21 500 человек —\\xa0почти на 20%. И это с учетом того, что британская полиция и раньше особой численностью не отличалась. При этом\\xa0преступность выросла на 14%. И это только официальные цифры. Недавно мои знакомые были втянуты в драку в трех минутах ходьбы от Пикадилли. Когда они попытались\\xa0вызывать полицию по телефону, им ответили: «Но вас же сильно не избили, просто проходите мимо».</p>\\n<p>Ненормальным кажется\\xa0то, что на фоне сокращения численности полиции и общего разгула преступности у людей возникает впечатление, что любое таинственное преступление «с душком» можно списать на Путина с его ГРУ.\\xa0Сегодня попытались отравить\\xa0Скрипаля, завтра Путин может заказать убийство дюжины старушек или слона в Лондонском зоопарке. И этому поверят — скажут, что Путин «намеренно создает атмосферу общего террора».\\xa0Все чаще разные «оппозиционные лидеры в эмиграции» заявляют, что живут в постоянном страхе, будто Путин подошлёт к ними убийц из ГРУ. Этому почти никто не верит, но журналисты охотно пишут: «Наш дорогой и любимый Лондон трясется в атмосфере путинского террора». До реальной преступности никому уже нет дела: даже мэр начал ходить с охраной — хотя в свое время Борис Джонсон свободно катался на велосипеде и метро.</p>\\n<p>На фоне общего упадка законности и правопорядка британское правительство решает, что в судебной системе царит «низкий моральный дух». В связи с этим премьер-министр предлагает увеличить зарплату судьям сразу на 32%, чтобы поднять этот дух. Высокопоставленным судьям могут повысить годовую зарплату почти на €60 000\\xa0с\\xa0€181 000\\xa0до €240 000.\\xa0Но благодаря этому очень дорогое британское правосудие становится совсем уж дорогим. И это на фоне постоянно продолжающегося сокращения бюджета на бесплатную юридическую помощь нуждающимся: с 2010 года она сократилась почти на миллиард фунтов, и этот процесс практически беспрерывен и не остановим.</p>\\n<p>Уголовные барристеры (вторая после солиситоров и более привилегированная категория адвокатов в Великобритании — <strong>Forbes</strong>) откровенно заявляют, что все уголовное правосудие в Британии, начиная от судов и полиции и заканчивая\\xa0тюрьмами, крайне недофинансировано и практически летит в тартарары. Барристеры уже несколько раз бастовали, и многие судебные процессы над серьезными преступниками попросту «замерзали», а потом разваливались. Среднестатистический россиянин посчитает это все капризами «зажравшихся» от своего передового правосудия британцев и будет не прав: британское правосудие очень и очень дорого, и немногие люди могут позволить платить хорошим адвокатам из своего собственного кармана. К хорошему привыкаешь быстро, а отвыкнуть — практически невозможно.</p>\\n<p>За последние десять лет Британия из страны почти образцового правопорядка и эталонной правоохранительной системы практически превратилась в рядовую европейскую страну со множество хронических\\xa0заболеваний, связанных с недофинансированием. До полного хаоса, конечно, еще далековато, но гордиться уже точно нечем. Времена Холмса и Ватсона надежно канули в сумрачную Темзу</p>\\n<h2><strong>Неопознанное российское богатство</strong></h2>\\n<p>Основной тренд британской внутренней политики последних двух лет\\xa0—\\xa0поиск «грязных» российских денег, ввезенных в страну за последнее двадцатилетие\\xa0«друзьями» Путина, а также друзьями друзей. В целях спасения британской экономики и морали был придуман и принят пресловутый закон об уголовных финансах (Criminal Finance Act), который породил новое британской оружие\\xa0против «грязных» денег — UWO (Unexplained Wealth Order), судебные\\xa0приказы о раскрытии источников состояния. Многие наделяли его практически мистической силой\\xa0— мнилось, что от него, как бесы от «намоленной» иконы, из Британии побегут, побросав\\xa0незаконно приобретенные активы, близкие к Кремлю олигархи. Но не случилось.</p>\\n<p>Та же ведущая The Independent пишет, что на начало августа было издано всего три подобных приказа, причём один на тот момент оспаривался в суде.\\xa0Буквально на днях Высокий суд\\xa0рассматривал обоснованность издания такого приказа в отношении Замиры\\xa0Хаджиевой, жены бывшего главы Международного банка Азербайджана, которая потратила в одном только универмаге Harrods около £16 млн, а также приобрела недвижимости более чем на £20 млн.\\xa0Об этом деле\\xa0пишут совершенно невообразимые глупости. Например, что суд якобы одобрил заморозку и конфискацию активов\\xa0и это скоро грозит всем российским олигархам. На этом примере хотелось бы еще раз объяснить, что такое UWO и как он действует:</p>\\n<p>Во-первых, суд пока что рассматривал только и исключительно законность выпуска приказа — законность и обоснованность направления запроса о происхождении активов. Решил, что\\xa0да, у Национального криминального агентства (NAC, National Crime Agency) могли быть обоснованные и достаточные подозрения (очень дорогая недвижимость и огромные расходы на роскошь плюс инвестиционная виза, что не коррелировало с официальными источниками доходов) для того, чтобы направить запрос. Но это не значит, что что-то отняли или имеют право отнять. Сейчас госпожа Хаджиева\\xa0и ее юристы будут иметь возможность объяснить и подтвердить источник происхождения активов, а у NCA будет шесть месяцев для принятия решения о дальнейших действиях. Затем агентство\\xa0может вновь обратиться суд с требованием об изъятии активов, мотивируя это тем, что объяснения недостаточные или неполные. Единственное преимущество NAC в этом случае состоит в том, что даме предстоит опровергать в суде презумпцию того, что ее активы приобретены на незаконные доходы. Вот и все возможности UWO.</p>\\n<p>Во-вторых, сам суд и его решение прямо подтверждают, что весь процесс достаточно долгий и дорогой. А ведь ничего еще не отняли, всё только предстоит. И это дама — не <a href=\"/node/65704\">Роман Абрамович</a> и не <a href=\"/node/66367\">Андрей Гурьев</a> с <a href=\"/node/65699\">Алишером Усмановым</a>. Желание отнять у них что-нибудь\\xa0обойдется британской\\xa0казне в десятки миллионов, а если NAC проиграет, то весь его бюджет пойдет на компенсации и платежи юристам. Замира Хаджиева, очевидно, выбрана для процесса как очень легкая жертва. Надо же показать, что закон хоть как-то работает.</p>\\n<p>В-третьих, применение новых возможностей и UWO грозит последствиями юристам, банкирам и риелторам, которые обеспечивали приобретение активов и согласно и британским, и европейским законам должны были проверять «чистоту» расходуемых средств. А это уже не какой-то малоизвестный азербайджанский банкир и его расточительная жена, а свои родные британские налогоплательщики, которых очень опасно трогать.</p>\\n<p>Так что, в настоящее время, до формирования понятной практики, олигархам в Англии британских судов можно не бояться.\\xa0Но думать о переводе активов на Родину\\xa0все-таки надо. США со своими санкциями ведь не дремлют.\\xa0</p>\\n<h2><b>Русские не норм</b></h2>\\n<p>Жизнь профессиональных юристов\\xa0в Лондоне с развитием истерии вокруг «путинской России»\\xa0существенно поменялась. Раньше, бывало, приходишь нанимать юристов для какого-нибудь процесса для своего клиента или идешь в банк открывать ему счет.\\xa0Уверенно распахиваешь дверь и говоришь: «Ну, что, наконец-то и в вашей маленькой фирме праздник —\\xa0я привел вам замечательного русского клиента из третьей сотни Forbes.\\xa0Пляшите и несите самый дорогой коньяк из запасов. И помните — на вашем здании еще будет висеть табличка, что вы имели честь обслуживать этого клиента».</p>\\n<p>И ведь плясали, и несли, и уважали. Русские клиенты даже после 2008 года оставались желанными\\xa0для очень многих. Правда, они стали, конечно, более капризными и жадными, но по сравнению с европейцами — вполне себе ничего. И дел сложных — когда непонятно, то ли у истца украли, то ли истец сам у всех украл —\\xa0было много. А теперь, если придёшь с русским клиентом, то хорошо, если сразу с порога не спустят: «Ты кого привел в наш офис? Олигарх? Друг Путина? В Крым ездил? А есть ли у него друзья из «кремлевского списка»? А не служил ли у него прадед в ГРУ? И прежде, чем он заплатит нам хоть пенс, и мы для него хотя бы шевельнем пальцем, пусть расскажет, как он заработал свой первый рубль! В\\xa0советском ПТУ заработал? Вот пусть оттуда и начинает! Прапрадед был судим при царском режиме за богохульство и непотребство? Да пусть он навсегда забудет дорогу в наш офис!»</p>\\n<p>И ни на пол-дюйма не преувеличиваю — все именно так. А если так и будет дальше продолжаться, то скоро некуда будет податься простому русскому состоятельному человеку в Лондоне — совсем осадили со всех сторон, грозят исследовать все состояние, родственные связи и как въехал в Британию. Подобная дотошность распространяется и на знаменитые инвесторские визы\\xa0— легальную возможность для состоятельного человека приехать в Лондон и прижиться там все семьей, внеся в экономику Британии не менее £2 млн. Теперь на историю жизни заявителей, а также на историю происхождения их денег, смотрят даже не через лупу, а в электронный микроскоп. Доходы иммиграционных юристов падают, доходы юристов, объясняющих происхождение активов, растут.</p>\\n<p>Можно еще очень многое написать о Британии и особенно о Лондоне «позднего елизаветинского периода», когда в мозгах британцев смешались Скрипаль, Тереза Мэй, ГРУ, Novichok и жесткий «Брэкзит». Лондон стал другим — более сухим, жестким, не столь уж толерантным по отношению к иностранцам, как раньше. В нем стало намного тяжелей спрятать деньги и получить желанное британское гражданство. Но в нем осталась все та же культура, образование, архитектура и, конечно, common law. Может, есть смысл сюда переехать даже сейчас.\\xa0 Если, конечно, хватит мозгов и денег.</p>\\n\\n<div class=\"mldr_tooltip_content\">\\n          <div class=\"mldr_tooltip\" data-p-type=\"man\" style=\"display: none;\" data-nid=\"65699\" data-rating=\"10\">\\n\\n      <div class=\"mldr_tooltip_portrait\"><img src=\"http://cdn.forbes.ru/sites/default/files/styles/200_200/public/forbes_import/us/usmanov_al_13581.jpg?itok=G5AENNN_\" width=\"200\" height=\"200\" /></div>\\n\\n      <div class=\"mldr_tooltip_data\">\\n\\n        <span class=\"mldr_tooltip_data_title\">Алишер Усманов</span>\\n\\n        <span class=\"mldr_tooltip_data_rating\">Рейтинг Forbes: <span>№10</span></span>\\n\\n        <span class=\"mldr_tooltip_data_fortune\">\\n          Состояние: <span>$12500млн</span>\\n        </span>\\n\\n      </div>\\n\\n      <div class=\"more\">\\n        <a href=\"/profile/alisher-usmanov\">Узнать подробнее</a>\\n        <!--div class=\"angle\"></div-->\\n      </div>\\n\\n    </div>\\n          <div class=\"mldr_tooltip\" data-p-type=\"man\" style=\"display: none;\" data-nid=\"65704\" data-rating=\"11\">\\n\\n      <div class=\"mldr_tooltip_portrait\"><img src=\"http://cdn.forbes.ru/sites/default/files/styles/200_200/public/forbes_import/ab/abramovich_ro_rtr2tr1q_0.jpg?itok=0tzGOqB9\" width=\"200\" height=\"200\" /></div>\\n\\n      <div class=\"mldr_tooltip_data\">\\n\\n        <span class=\"mldr_tooltip_data_title\">Роман Абрамович</span>\\n\\n        <span class=\"mldr_tooltip_data_rating\">Рейтинг Forbes: <span>№11</span></span>\\n\\n        <span class=\"mldr_tooltip_data_fortune\">\\n          Состояние: <span>$10800млн</span>\\n        </span>\\n\\n      </div>\\n\\n      <div class=\"more\">\\n        <a href=\"/profile/roman-abramovich\">Узнать подробнее</a>\\n        <!--div class=\"angle\"></div-->\\n      </div>\\n\\n    </div>\\n          <div class=\"mldr_tooltip\" data-p-type=\"man\" style=\"display: none;\" data-nid=\"66367\" data-rating=\"26\">\\n\\n      <div class=\"mldr_tooltip_portrait\"><img src=\"http://cdn.forbes.ru/sites/default/files/styles/200_200/public/forbes_import/gu/guriev_an_5393_1.jpg?itok=kQNvxaGO\" width=\"200\" height=\"200\" /></div>\\n\\n      <div class=\"mldr_tooltip_data\">\\n\\n        <span class=\"mldr_tooltip_data_title\">Андрей Гурьев</span>\\n\\n        <span class=\"mldr_tooltip_data_rating\">Рейтинг Forbes: <span>№26</span></span>\\n\\n        <span class=\"mldr_tooltip_data_fortune\">\\n          Состояние: <span>$4500млн</span>\\n        </span>\\n\\n      </div>\\n\\n      <div class=\"more\">\\n        <a href=\"/profile/andrei-gurev\">Узнать подробнее</a>\\n        <!--div class=\"angle\"></div-->\\n      </div>\\n\\n    </div>\\n  </div>\\n<!--mldr_tooltip_content-end-->\\n',\n",
       " 'description': 'Бывший юрист ЮКОСа Дмитрий Гололобов рисует изнутри красочную, но безрадостную картину британской столицы и рассказывает, как изменилась жизнь состоятельных россиян в эпоху политической истерии',\n",
       " 'enclosure': None,\n",
       " 'guid': 'http://www.forbes.ru/milliardery/368475-epoha-gru-kak-zhivut-i-umirayut-bogatye-russkie-v-londone',\n",
       " 'link': 'http://www.forbes.ru/milliardery/368475-epoha-gru-kak-zhivut-i-umirayut-bogatye-russkie-v-londone',\n",
       " 'pubDate': 'Wed, 31 Oct 2018 19:25:02 +0300',\n",
       " 'source': 'Forbes.ru - Главные темы дня',\n",
       " 'title': 'Эпоха ГРУ: как живут и умирают богатые русские в Лондоне'}"
      ]
     },
     "execution_count": 256,
     "metadata": {},
     "output_type": "execute_result"
    }
   ],
   "source": [
    "news_items[0]"
   ]
  },
  {
   "cell_type": "code",
   "execution_count": 349,
   "metadata": {
    "ExecuteTime": {
     "end_time": "2018-11-01T14:48:43.567843Z",
     "start_time": "2018-11-01T14:48:43.539214Z"
    }
   },
   "outputs": [
    {
     "data": {
      "text/html": [
       "<div>\n",
       "<style scoped>\n",
       "    .dataframe tbody tr th:only-of-type {\n",
       "        vertical-align: middle;\n",
       "    }\n",
       "\n",
       "    .dataframe tbody tr th {\n",
       "        vertical-align: top;\n",
       "    }\n",
       "\n",
       "    .dataframe thead th {\n",
       "        text-align: right;\n",
       "    }\n",
       "</style>\n",
       "<table border=\"1\" class=\"dataframe\">\n",
       "  <thead>\n",
       "    <tr style=\"text-align: right;\">\n",
       "      <th></th>\n",
       "      <th>category</th>\n",
       "      <th>content</th>\n",
       "      <th>description</th>\n",
       "      <th>enclosure</th>\n",
       "      <th>guid</th>\n",
       "      <th>link</th>\n",
       "      <th>pubDate</th>\n",
       "      <th>source</th>\n",
       "      <th>title</th>\n",
       "    </tr>\n",
       "  </thead>\n",
       "  <tbody>\n",
       "    <tr>\n",
       "      <th>0</th>\n",
       "      <td>Финансы и инвестиции</td>\n",
       "      <td>&lt;p&gt;На днях агентство Bloomberg &lt;a target=\"_bla...</td>\n",
       "      <td>Ужесточение денежно-кредитной политики в США в...</td>\n",
       "      <td>None</td>\n",
       "      <td>http://www.forbes.ru/finansy-i-investicii/3686...</td>\n",
       "      <td>http://www.forbes.ru/finansy-i-investicii/3686...</td>\n",
       "      <td>Thu, 01 Nov 2018 16:55:51 +0300</td>\n",
       "      <td>Forbes.ru - Главные темы дня</td>\n",
       "      <td>Расплата за жизнь взаймы. Грозит ли Америке до...</td>\n",
       "    </tr>\n",
       "    <tr>\n",
       "      <th>1</th>\n",
       "      <td>Технологии</td>\n",
       "      <td>&lt;p dir=\"ltr\"&gt;Одними из самых популярных технол...</td>\n",
       "      <td>Каждый год Gartner публикует прогнозы по тренд...</td>\n",
       "      <td>None</td>\n",
       "      <td>http://www.forbes.ru/tehnologii/368653-itogi-g...</td>\n",
       "      <td>http://www.forbes.ru/tehnologii/368653-itogi-g...</td>\n",
       "      <td>Thu, 01 Nov 2018 16:01:01 +0300</td>\n",
       "      <td>Forbes.ru - Главные темы дня</td>\n",
       "      <td>Итоги года: какие технологии вписали 2018-й в ...</td>\n",
       "    </tr>\n",
       "    <tr>\n",
       "      <th>2</th>\n",
       "      <td>Карьера и свой бизнес</td>\n",
       "      <td>&lt;p&gt;Если мы начнем создавать облако ассоциаций ...</td>\n",
       "      <td>Работодатели понимают, что стресс снижает прои...</td>\n",
       "      <td>None</td>\n",
       "      <td>http://www.forbes.ru/karera-i-svoy-biznes/3684...</td>\n",
       "      <td>http://www.forbes.ru/karera-i-svoy-biznes/3684...</td>\n",
       "      <td>Thu, 01 Nov 2018 15:46:01 +0300</td>\n",
       "      <td>Forbes.ru - Главные темы дня</td>\n",
       "      <td>Плата за кофе-брейк. Как бизнес борется со стр...</td>\n",
       "    </tr>\n",
       "    <tr>\n",
       "      <th>3</th>\n",
       "      <td>Миллиардеры</td>\n",
       "      <td>&lt;p&gt;Вице-президент «Лукойла» &lt;a href=\"/node/661...</td>\n",
       "      <td>Антон и Екатерина Федун, не работающие в струк...</td>\n",
       "      <td>None</td>\n",
       "      <td>http://www.forbes.ru/milliardery/368661-leonid...</td>\n",
       "      <td>http://www.forbes.ru/milliardery/368661-leonid...</td>\n",
       "      <td>Thu, 01 Nov 2018 15:41:01 +0300</td>\n",
       "      <td>Forbes.ru - Главные темы дня</td>\n",
       "      <td>Леонид Федун передал своим детям акции «Лукойл...</td>\n",
       "    </tr>\n",
       "    <tr>\n",
       "      <th>4</th>\n",
       "      <td>ForbesLife</td>\n",
       "      <td>&lt;p&gt;Песок простирается на десятки километров во...</td>\n",
       "      <td>98% отказов в визе для иностранцев, запрет на ...</td>\n",
       "      <td>None</td>\n",
       "      <td>http://www.forbes.ru/forbeslife/368659-prezide...</td>\n",
       "      <td>http://www.forbes.ru/forbeslife/368659-prezide...</td>\n",
       "      <td>Thu, 01 Nov 2018 15:31:01 +0300</td>\n",
       "      <td>Forbes.ru - Главные темы дня</td>\n",
       "      <td>Президент за рулем. Как прошел ралли-рейд в од...</td>\n",
       "    </tr>\n",
       "  </tbody>\n",
       "</table>\n",
       "</div>"
      ],
      "text/plain": [
       "                category                                            content  \\\n",
       "0   Финансы и инвестиции  <p>На днях агентство Bloomberg <a target=\"_bla...   \n",
       "1             Технологии  <p dir=\"ltr\">Одними из самых популярных технол...   \n",
       "2  Карьера и свой бизнес  <p>Если мы начнем создавать облако ассоциаций ...   \n",
       "3            Миллиардеры  <p>Вице-президент «Лукойла» <a href=\"/node/661...   \n",
       "4             ForbesLife  <p>Песок простирается на десятки километров во...   \n",
       "\n",
       "                                         description enclosure  \\\n",
       "0  Ужесточение денежно-кредитной политики в США в...      None   \n",
       "1  Каждый год Gartner публикует прогнозы по тренд...      None   \n",
       "2  Работодатели понимают, что стресс снижает прои...      None   \n",
       "3  Антон и Екатерина Федун, не работающие в струк...      None   \n",
       "4  98% отказов в визе для иностранцев, запрет на ...      None   \n",
       "\n",
       "                                                guid  \\\n",
       "0  http://www.forbes.ru/finansy-i-investicii/3686...   \n",
       "1  http://www.forbes.ru/tehnologii/368653-itogi-g...   \n",
       "2  http://www.forbes.ru/karera-i-svoy-biznes/3684...   \n",
       "3  http://www.forbes.ru/milliardery/368661-leonid...   \n",
       "4  http://www.forbes.ru/forbeslife/368659-prezide...   \n",
       "\n",
       "                                                link  \\\n",
       "0  http://www.forbes.ru/finansy-i-investicii/3686...   \n",
       "1  http://www.forbes.ru/tehnologii/368653-itogi-g...   \n",
       "2  http://www.forbes.ru/karera-i-svoy-biznes/3684...   \n",
       "3  http://www.forbes.ru/milliardery/368661-leonid...   \n",
       "4  http://www.forbes.ru/forbeslife/368659-prezide...   \n",
       "\n",
       "                           pubDate                        source  \\\n",
       "0  Thu, 01 Nov 2018 16:55:51 +0300  Forbes.ru - Главные темы дня   \n",
       "1  Thu, 01 Nov 2018 16:01:01 +0300  Forbes.ru - Главные темы дня   \n",
       "2  Thu, 01 Nov 2018 15:46:01 +0300  Forbes.ru - Главные темы дня   \n",
       "3  Thu, 01 Nov 2018 15:41:01 +0300  Forbes.ru - Главные темы дня   \n",
       "4  Thu, 01 Nov 2018 15:31:01 +0300  Forbes.ru - Главные темы дня   \n",
       "\n",
       "                                               title  \n",
       "0  Расплата за жизнь взаймы. Грозит ли Америке до...  \n",
       "1  Итоги года: какие технологии вписали 2018-й в ...  \n",
       "2  Плата за кофе-брейк. Как бизнес борется со стр...  \n",
       "3  Леонид Федун передал своим детям акции «Лукойл...  \n",
       "4  Президент за рулем. Как прошел ралли-рейд в од...  "
      ]
     },
     "execution_count": 349,
     "metadata": {},
     "output_type": "execute_result"
    }
   ],
   "source": [
    "import pandas as pd\n",
    "\n",
    "data = pd.DataFrame(news_items)\n",
    "data.head()"
   ]
  },
  {
   "cell_type": "markdown",
   "metadata": {},
   "source": [
    "# Блиц"
   ]
  },
  {
   "cell_type": "markdown",
   "metadata": {
    "ExecuteTime": {
     "end_time": "2018-11-01T14:14:42.079695Z",
     "start_time": "2018-11-01T14:14:42.070453Z"
    }
   },
   "source": [
    "1. Для xml со странами выведете все названия стран (country name)\n",
    "2. Создайте словарь, где в ключах будет название страны, а в значении - list со странами-соседями\n",
    "3. Напишите find, в котором найдите все теги, в которых есть аттрибут direction=\"E\"\n",
    "4. Для xml от Forbes выведете все title новостей в категории Технологии. Напишите аналогичный фильтр для DataFrame выше."
   ]
  },
  {
   "cell_type": "code",
   "execution_count": 339,
   "metadata": {
    "ExecuteTime": {
     "end_time": "2018-11-01T14:42:16.045168Z",
     "start_time": "2018-11-01T14:42:16.033398Z"
    }
   },
   "outputs": [
    {
     "name": "stdout",
     "output_type": "stream",
     "text": [
      "Liechtenstein\n",
      "Singapore\n",
      "Panama\n"
     ]
    }
   ],
   "source": [
    "# 1\n",
    "\n",
    "root = ET.fromstring(xml_text)\n",
    "for country in root.findall('country[@name]'):\n",
    "    print(country.attrib['name'])"
   ]
  },
  {
   "cell_type": "code",
   "execution_count": 340,
   "metadata": {
    "ExecuteTime": {
     "end_time": "2018-11-01T14:42:16.425294Z",
     "start_time": "2018-11-01T14:42:16.411486Z"
    }
   },
   "outputs": [
    {
     "data": {
      "text/plain": [
       "defaultdict(list,\n",
       "            {'Liechtenstein': ['Austria', 'Switzerland'],\n",
       "             'Panama': ['Costa Rica', 'Colombia'],\n",
       "             'Singapore': ['Malaysia']})"
      ]
     },
     "execution_count": 340,
     "metadata": {},
     "output_type": "execute_result"
    }
   ],
   "source": [
    "# 2\n",
    "from collections import defaultdict\n",
    "\n",
    "country2neighbors = defaultdict(list)\n",
    "for country in root.findall('country[@name]'):\n",
    "    for neighbor in country.findall('neighbor[@name]'):\n",
    "        country2neighbors[country.attrib['name']].append(neighbor.attrib['name'])\n",
    "        \n",
    "country2neighbors"
   ]
  },
  {
   "cell_type": "code",
   "execution_count": 341,
   "metadata": {
    "ExecuteTime": {
     "end_time": "2018-11-01T14:42:16.523698Z",
     "start_time": "2018-11-01T14:42:16.519444Z"
    }
   },
   "outputs": [
    {
     "name": "stdout",
     "output_type": "stream",
     "text": [
      "{'name': 'Austria', 'direction': 'E'}\n",
      "{'name': 'Switzerland', 'direction': 'W'}\n",
      "{'name': 'Malaysia', 'direction': 'N'}\n",
      "{'name': 'Costa Rica', 'direction': 'W'}\n",
      "{'name': 'Colombia', 'direction': 'E'}\n"
     ]
    }
   ],
   "source": [
    "# 3\n",
    "for n in root.findall('.//neighbor'):\n",
    "    print(n.attrib)"
   ]
  },
  {
   "cell_type": "code",
   "execution_count": 350,
   "metadata": {
    "ExecuteTime": {
     "end_time": "2018-11-01T14:48:53.713944Z",
     "start_time": "2018-11-01T14:48:53.679182Z"
    }
   },
   "outputs": [
    {
     "name": "stdout",
     "output_type": "stream",
     "text": [
      "Итоги года: какие технологии вписали 2018-й в историю\n",
      "История времени: суперкомпьютер вычислил начало Вселенной\n",
      "Школа Джобса: романтики и анархисты от ИТ\n"
     ]
    },
    {
     "data": {
      "text/html": [
       "<div>\n",
       "<style scoped>\n",
       "    .dataframe tbody tr th:only-of-type {\n",
       "        vertical-align: middle;\n",
       "    }\n",
       "\n",
       "    .dataframe tbody tr th {\n",
       "        vertical-align: top;\n",
       "    }\n",
       "\n",
       "    .dataframe thead th {\n",
       "        text-align: right;\n",
       "    }\n",
       "</style>\n",
       "<table border=\"1\" class=\"dataframe\">\n",
       "  <thead>\n",
       "    <tr style=\"text-align: right;\">\n",
       "      <th></th>\n",
       "      <th>category</th>\n",
       "      <th>content</th>\n",
       "      <th>description</th>\n",
       "      <th>enclosure</th>\n",
       "      <th>guid</th>\n",
       "      <th>link</th>\n",
       "      <th>pubDate</th>\n",
       "      <th>source</th>\n",
       "      <th>title</th>\n",
       "    </tr>\n",
       "  </thead>\n",
       "  <tbody>\n",
       "    <tr>\n",
       "      <th>1</th>\n",
       "      <td>Технологии</td>\n",
       "      <td>&lt;p dir=\"ltr\"&gt;Одними из самых популярных технол...</td>\n",
       "      <td>Каждый год Gartner публикует прогнозы по тренд...</td>\n",
       "      <td>None</td>\n",
       "      <td>http://www.forbes.ru/tehnologii/368653-itogi-g...</td>\n",
       "      <td>http://www.forbes.ru/tehnologii/368653-itogi-g...</td>\n",
       "      <td>Thu, 01 Nov 2018 16:01:01 +0300</td>\n",
       "      <td>Forbes.ru - Главные темы дня</td>\n",
       "      <td>Итоги года: какие технологии вписали 2018-й в ...</td>\n",
       "    </tr>\n",
       "    <tr>\n",
       "      <th>7</th>\n",
       "      <td>Технологии</td>\n",
       "      <td>&lt;p&gt;Профессор Майкл Норман из лаборатории вычис...</td>\n",
       "      <td>Компьютерные симуляции, проведенные в Суперком...</td>\n",
       "      <td>None</td>\n",
       "      <td>http://www.forbes.ru/tehnologii/368583-istoriy...</td>\n",
       "      <td>http://www.forbes.ru/tehnologii/368583-istoriy...</td>\n",
       "      <td>Thu, 01 Nov 2018 14:35:05 +0300</td>\n",
       "      <td>Forbes.ru - Главные темы дня</td>\n",
       "      <td>История времени: суперкомпьютер вычислил начал...</td>\n",
       "    </tr>\n",
       "    <tr>\n",
       "      <th>12</th>\n",
       "      <td>Технологии</td>\n",
       "      <td>&lt;p&gt;&lt;meta charset=\"utf-8\" /&gt;&lt;/p&gt;\\n&lt;p dir=\"ltr\"&gt;...</td>\n",
       "      <td>Почему Павел Дуров, Линус Торвальдс и Палмер Л...</td>\n",
       "      <td>None</td>\n",
       "      <td>http://www.forbes.ru/tehnologii/368635-shkola-...</td>\n",
       "      <td>http://www.forbes.ru/tehnologii/368635-shkola-...</td>\n",
       "      <td>Thu, 01 Nov 2018 12:10:17 +0300</td>\n",
       "      <td>Forbes.ru - Главные темы дня</td>\n",
       "      <td>Школа Джобса: романтики и анархисты от ИТ</td>\n",
       "    </tr>\n",
       "  </tbody>\n",
       "</table>\n",
       "</div>"
      ],
      "text/plain": [
       "      category                                            content  \\\n",
       "1   Технологии  <p dir=\"ltr\">Одними из самых популярных технол...   \n",
       "7   Технологии  <p>Профессор Майкл Норман из лаборатории вычис...   \n",
       "12  Технологии  <p><meta charset=\"utf-8\" /></p>\\n<p dir=\"ltr\">...   \n",
       "\n",
       "                                          description enclosure  \\\n",
       "1   Каждый год Gartner публикует прогнозы по тренд...      None   \n",
       "7   Компьютерные симуляции, проведенные в Суперком...      None   \n",
       "12  Почему Павел Дуров, Линус Торвальдс и Палмер Л...      None   \n",
       "\n",
       "                                                 guid  \\\n",
       "1   http://www.forbes.ru/tehnologii/368653-itogi-g...   \n",
       "7   http://www.forbes.ru/tehnologii/368583-istoriy...   \n",
       "12  http://www.forbes.ru/tehnologii/368635-shkola-...   \n",
       "\n",
       "                                                 link  \\\n",
       "1   http://www.forbes.ru/tehnologii/368653-itogi-g...   \n",
       "7   http://www.forbes.ru/tehnologii/368583-istoriy...   \n",
       "12  http://www.forbes.ru/tehnologii/368635-shkola-...   \n",
       "\n",
       "                            pubDate                        source  \\\n",
       "1   Thu, 01 Nov 2018 16:01:01 +0300  Forbes.ru - Главные темы дня   \n",
       "7   Thu, 01 Nov 2018 14:35:05 +0300  Forbes.ru - Главные темы дня   \n",
       "12  Thu, 01 Nov 2018 12:10:17 +0300  Forbes.ru - Главные темы дня   \n",
       "\n",
       "                                                title  \n",
       "1   Итоги года: какие технологии вписали 2018-й в ...  \n",
       "7   История времени: суперкомпьютер вычислил начал...  \n",
       "12          Школа Джобса: романтики и анархисты от ИТ  "
      ]
     },
     "execution_count": 350,
     "metadata": {},
     "output_type": "execute_result"
    }
   ],
   "source": [
    "# 4\n",
    "\n",
    "tree = ET.parse('topnewsfeed.xml')\n",
    "root = tree.getroot()\n",
    "for item in root.findall('.//item[category]'):\n",
    "    if item.find('category').text == 'Технологии':\n",
    "        if item.find('title') is not None:\n",
    "            print(item.find('title').text)\n",
    "\n",
    "data[data['category'] == 'Технологии']"
   ]
  },
  {
   "cell_type": "code",
   "execution_count": null,
   "metadata": {},
   "outputs": [],
   "source": []
  }
 ],
 "metadata": {
  "kernelspec": {
   "display_name": "Python 3",
   "language": "python",
   "name": "python3"
  },
  "language_info": {
   "codemirror_mode": {
    "name": "ipython",
    "version": 3
   },
   "file_extension": ".py",
   "mimetype": "text/x-python",
   "name": "python",
   "nbconvert_exporter": "python",
   "pygments_lexer": "ipython3",
   "version": "3.6.4"
  }
 },
 "nbformat": 4,
 "nbformat_minor": 2
}
