{
 "cells": [
  {
   "cell_type": "markdown",
   "metadata": {},
   "source": [
    "# XML\n",
    "### eXtensible Markup Language\n",
    "https://docs.python.org/3.7/library/xml.etree.elementtree.html"
   ]
  },
  {
   "cell_type": "code",
   "execution_count": 43,
   "metadata": {
    "ExecuteTime": {
     "end_time": "2018-10-31T22:01:53.726674Z",
     "start_time": "2018-10-31T22:01:53.721668Z"
    }
   },
   "outputs": [],
   "source": [
    "import requests \n",
    "import xml.etree.ElementTree as ET "
   ]
  },
  {
   "cell_type": "code",
   "execution_count": 48,
   "metadata": {
    "ExecuteTime": {
     "end_time": "2018-10-31T22:02:45.359890Z",
     "start_time": "2018-10-31T22:02:45.303648Z"
    }
   },
   "outputs": [],
   "source": [
    "resp = requests.get('http://www.forbes.ru/newrss.xml') "
   ]
  },
  {
   "cell_type": "code",
   "execution_count": 49,
   "metadata": {
    "ExecuteTime": {
     "end_time": "2018-10-31T22:02:45.820796Z",
     "start_time": "2018-10-31T22:02:45.810364Z"
    }
   },
   "outputs": [],
   "source": [
    "root = ET.fromstring(resp.text)"
   ]
  },
  {
   "cell_type": "code",
   "execution_count": 50,
   "metadata": {
    "ExecuteTime": {
     "end_time": "2018-10-31T22:02:50.156171Z",
     "start_time": "2018-10-31T22:02:50.141019Z"
    }
   },
   "outputs": [],
   "source": [
    "with open('topnewsfeed.xml', 'wb') as f: \n",
    "    f.write(resp.content)\n",
    "    \n",
    "tree = ET.parse('topnewsfeed.xml')\n",
    "\n",
    "root = tree.getroot()"
   ]
  },
  {
   "cell_type": "code",
   "execution_count": 52,
   "metadata": {
    "ExecuteTime": {
     "end_time": "2018-10-31T22:03:32.900730Z",
     "start_time": "2018-10-31T22:03:32.893097Z"
    }
   },
   "outputs": [
    {
     "name": "stdout",
     "output_type": "stream",
     "text": [
      "channel {}\n"
     ]
    }
   ],
   "source": [
    "for child in root:\n",
    "    print(child.tag, child.attrib)"
   ]
  },
  {
   "cell_type": "code",
   "execution_count": 57,
   "metadata": {
    "ExecuteTime": {
     "end_time": "2018-10-31T22:04:23.324767Z",
     "start_time": "2018-10-31T22:04:23.316463Z"
    }
   },
   "outputs": [
    {
     "data": {
      "text/plain": [
       "<Element 'channel' at 0x10d64fd68>"
      ]
     },
     "execution_count": 57,
     "metadata": {},
     "output_type": "execute_result"
    }
   ],
   "source": [
    "root[0]"
   ]
  },
  {
   "cell_type": "code",
   "execution_count": 69,
   "metadata": {
    "ExecuteTime": {
     "end_time": "2018-10-31T22:05:38.271778Z",
     "start_time": "2018-10-31T22:05:38.262249Z"
    }
   },
   "outputs": [
    {
     "data": {
      "text/plain": [
       "[<Element 'item' at 0x10d6372c8>,\n",
       " <Element 'item' at 0x10d637958>,\n",
       " <Element 'item' at 0x10d637d68>,\n",
       " <Element 'item' at 0x10d63b1d8>,\n",
       " <Element 'item' at 0x10d63b5e8>,\n",
       " <Element 'item' at 0x10d63b9f8>,\n",
       " <Element 'item' at 0x10d63be08>,\n",
       " <Element 'item' at 0x10d622278>,\n",
       " <Element 'item' at 0x10d622688>,\n",
       " <Element 'item' at 0x10d622b38>,\n",
       " <Element 'item' at 0x10d622ea8>,\n",
       " <Element 'item' at 0x10d2b8318>,\n",
       " <Element 'item' at 0x10d2b8728>,\n",
       " <Element 'item' at 0x10d2b8b38>,\n",
       " <Element 'item' at 0x10d2b8f48>,\n",
       " <Element 'item' at 0x10d2b63b8>,\n",
       " <Element 'item' at 0x10d2b67c8>,\n",
       " <Element 'item' at 0x10d2b6cc8>,\n",
       " <Element 'item' at 0x10d29e138>,\n",
       " <Element 'item' at 0x10d29e548>]"
      ]
     },
     "execution_count": 69,
     "metadata": {},
     "output_type": "execute_result"
    }
   ],
   "source": [
    "root.findall('channel/item')"
   ]
  },
  {
   "cell_type": "code",
   "execution_count": 70,
   "metadata": {
    "ExecuteTime": {
     "end_time": "2018-10-31T22:05:52.655307Z",
     "start_time": "2018-10-31T22:05:52.644360Z"
    }
   },
   "outputs": [
    {
     "data": {
      "text/plain": [
       "[<Element 'content' at 0x10d637318>,\n",
       " <Element 'content' at 0x10d6379a8>,\n",
       " <Element 'content' at 0x10d637db8>,\n",
       " <Element 'content' at 0x10d63b228>,\n",
       " <Element 'content' at 0x10d63b638>,\n",
       " <Element 'content' at 0x10d63ba48>,\n",
       " <Element 'content' at 0x10d63be58>,\n",
       " <Element 'content' at 0x10d6222c8>,\n",
       " <Element 'content' at 0x10d6226d8>,\n",
       " <Element 'content' at 0x10d622b88>,\n",
       " <Element 'content' at 0x10d622ef8>,\n",
       " <Element 'content' at 0x10d2b8368>,\n",
       " <Element 'content' at 0x10d2b8778>,\n",
       " <Element 'content' at 0x10d2b8b88>,\n",
       " <Element 'content' at 0x10d2b8f98>,\n",
       " <Element 'content' at 0x10d2b6408>,\n",
       " <Element 'content' at 0x10d2b6818>,\n",
       " <Element 'content' at 0x10d2b6d18>,\n",
       " <Element 'content' at 0x10d29e188>,\n",
       " <Element 'content' at 0x10d29e598>]"
      ]
     },
     "execution_count": 70,
     "metadata": {},
     "output_type": "execute_result"
    }
   ],
   "source": [
    "root.findall('*/item/content')"
   ]
  },
  {
   "cell_type": "code",
   "execution_count": 73,
   "metadata": {
    "ExecuteTime": {
     "end_time": "2018-10-31T22:06:38.744982Z",
     "start_time": "2018-10-31T22:06:38.723110Z"
    }
   },
   "outputs": [],
   "source": [
    "def parse_xml(xml_file): \n",
    "  \n",
    "    # создаем tree объект \n",
    "    tree = ET.parse(xml_file) \n",
    "  \n",
    "    # достаем из дерева корневой элемент \n",
    "    root = tree.getroot() \n",
    "  \n",
    "    # создаем пустой лист для единиц новостей \n",
    "    news_items = [] \n",
    "  \n",
    "    # итерируемся по новостям \n",
    "    for item in root.findall('./channel/item'): # ищем элементы по пути\n",
    "        news = {}\n",
    "        \n",
    "        # итерируемся по дочерним элементам\n",
    "        for child in item:  \n",
    "            news[child.tag] = child.text\n",
    "  \n",
    "        news_items.append(news) \n",
    "      \n",
    "    return news_items "
   ]
  },
  {
   "cell_type": "code",
   "execution_count": 74,
   "metadata": {
    "ExecuteTime": {
     "end_time": "2018-10-31T22:06:40.445371Z",
     "start_time": "2018-10-31T22:06:40.431811Z"
    }
   },
   "outputs": [],
   "source": [
    "news_items = parse_xml('topnewsfeed.xml')"
   ]
  },
  {
   "cell_type": "code",
   "execution_count": 78,
   "metadata": {
    "ExecuteTime": {
     "end_time": "2018-10-31T22:07:26.095825Z",
     "start_time": "2018-10-31T22:07:26.089499Z"
    }
   },
   "outputs": [],
   "source": [
    "news_items[0]"
   ]
  },
  {
   "cell_type": "code",
   "execution_count": 23,
   "metadata": {
    "ExecuteTime": {
     "end_time": "2018-10-31T20:02:08.126071Z",
     "start_time": "2018-10-31T20:02:08.030681Z"
    }
   },
   "outputs": [
    {
     "data": {
      "text/html": [
       "<div>\n",
       "<style scoped>\n",
       "    .dataframe tbody tr th:only-of-type {\n",
       "        vertical-align: middle;\n",
       "    }\n",
       "\n",
       "    .dataframe tbody tr th {\n",
       "        vertical-align: top;\n",
       "    }\n",
       "\n",
       "    .dataframe thead th {\n",
       "        text-align: right;\n",
       "    }\n",
       "</style>\n",
       "<table border=\"1\" class=\"dataframe\">\n",
       "  <thead>\n",
       "    <tr style=\"text-align: right;\">\n",
       "      <th></th>\n",
       "      <th>category</th>\n",
       "      <th>content</th>\n",
       "      <th>description</th>\n",
       "      <th>enclosure</th>\n",
       "      <th>guid</th>\n",
       "      <th>link</th>\n",
       "      <th>pubDate</th>\n",
       "      <th>source</th>\n",
       "      <th>title</th>\n",
       "    </tr>\n",
       "  </thead>\n",
       "  <tbody>\n",
       "    <tr>\n",
       "      <th>0</th>\n",
       "      <td>Миллиардеры</td>\n",
       "      <td>&lt;p&gt;Прискорбно наблюдать, как буквально на глаз...</td>\n",
       "      <td>Бывший юрист ЮКОСа Дмитрий Гололобов рисует из...</td>\n",
       "      <td>None</td>\n",
       "      <td>http://www.forbes.ru/milliardery/368475-epoha-...</td>\n",
       "      <td>http://www.forbes.ru/milliardery/368475-epoha-...</td>\n",
       "      <td>Wed, 31 Oct 2018 19:25:02 +0300</td>\n",
       "      <td>Forbes.ru - Главные темы дня</td>\n",
       "      <td>Эпоха ГРУ: как живут и умирают богатые русские...</td>\n",
       "    </tr>\n",
       "    <tr>\n",
       "      <th>1</th>\n",
       "      <td>Forbes Woman</td>\n",
       "      <td>&lt;p dir=\"ltr\"&gt;Двадцативосьмилетняя принцесса ст...</td>\n",
       "      <td>Японская принцесса Аяко вышла замуж за простол...</td>\n",
       "      <td>None</td>\n",
       "      <td>http://www.forbes.ru/forbes-woman/368625-begst...</td>\n",
       "      <td>http://www.forbes.ru/forbes-woman/368625-begst...</td>\n",
       "      <td>Wed, 31 Oct 2018 18:54:09 +0300</td>\n",
       "      <td>Forbes.ru - Главные темы дня</td>\n",
       "      <td>Бегство из рая. Японскую императорскую семью п...</td>\n",
       "    </tr>\n",
       "    <tr>\n",
       "      <th>2</th>\n",
       "      <td>Финансы и инвестиции</td>\n",
       "      <td>&lt;p&gt;Ведущие инвестиционные банки Уолл-стрит оце...</td>\n",
       "      <td>На вероятном IPO компания Uber сможет получить...</td>\n",
       "      <td>None</td>\n",
       "      <td>http://www.forbes.ru/finansy-i-investicii/3685...</td>\n",
       "      <td>http://www.forbes.ru/finansy-i-investicii/3685...</td>\n",
       "      <td>Wed, 31 Oct 2018 16:28:28 +0300</td>\n",
       "      <td>Forbes.ru - Главные темы дня</td>\n",
       "      <td>Гонки на $100 млрд: стоит ли инвестировать в I...</td>\n",
       "    </tr>\n",
       "    <tr>\n",
       "      <th>3</th>\n",
       "      <td>ForbesLife</td>\n",
       "      <td>&lt;p&gt;Побег от нацизма и смена фамилии, морганати...</td>\n",
       "      <td>Сегодня, 31 октября — 100 лет со дня смерти ав...</td>\n",
       "      <td>None</td>\n",
       "      <td>http://www.forbes.ru/forbeslife/368613-adskie-...</td>\n",
       "      <td>http://www.forbes.ru/forbeslife/368613-adskie-...</td>\n",
       "      <td>Wed, 31 Oct 2018 16:20:52 +0300</td>\n",
       "      <td>Forbes.ru - Главные темы дня</td>\n",
       "      <td>Адские деньги: как еврейские арт-дилеры спасал...</td>\n",
       "    </tr>\n",
       "    <tr>\n",
       "      <th>4</th>\n",
       "      <td>Технологии</td>\n",
       "      <td>&lt;p dir=\"ltr\"&gt;Космическая обсерватория Kepler п...</td>\n",
       "      <td>Рано радовались ученые и энтузиасты: починенны...</td>\n",
       "      <td>None</td>\n",
       "      <td>http://www.forbes.ru/tehnologii/368607-konchin...</td>\n",
       "      <td>http://www.forbes.ru/tehnologii/368607-konchin...</td>\n",
       "      <td>Wed, 31 Oct 2018 16:07:38 +0300</td>\n",
       "      <td>Forbes.ru - Главные темы дня</td>\n",
       "      <td>Кончина «Кеплера»: охотник на инопланетян ушел...</td>\n",
       "    </tr>\n",
       "  </tbody>\n",
       "</table>\n",
       "</div>"
      ],
      "text/plain": [
       "               category                                            content  \\\n",
       "0           Миллиардеры  <p>Прискорбно наблюдать, как буквально на глаз...   \n",
       "1          Forbes Woman  <p dir=\"ltr\">Двадцативосьмилетняя принцесса ст...   \n",
       "2  Финансы и инвестиции  <p>Ведущие инвестиционные банки Уолл-стрит оце...   \n",
       "3            ForbesLife  <p>Побег от нацизма и смена фамилии, морганати...   \n",
       "4            Технологии  <p dir=\"ltr\">Космическая обсерватория Kepler п...   \n",
       "\n",
       "                                         description enclosure  \\\n",
       "0  Бывший юрист ЮКОСа Дмитрий Гололобов рисует из...      None   \n",
       "1  Японская принцесса Аяко вышла замуж за простол...      None   \n",
       "2  На вероятном IPO компания Uber сможет получить...      None   \n",
       "3  Сегодня, 31 октября — 100 лет со дня смерти ав...      None   \n",
       "4  Рано радовались ученые и энтузиасты: починенны...      None   \n",
       "\n",
       "                                                guid  \\\n",
       "0  http://www.forbes.ru/milliardery/368475-epoha-...   \n",
       "1  http://www.forbes.ru/forbes-woman/368625-begst...   \n",
       "2  http://www.forbes.ru/finansy-i-investicii/3685...   \n",
       "3  http://www.forbes.ru/forbeslife/368613-adskie-...   \n",
       "4  http://www.forbes.ru/tehnologii/368607-konchin...   \n",
       "\n",
       "                                                link  \\\n",
       "0  http://www.forbes.ru/milliardery/368475-epoha-...   \n",
       "1  http://www.forbes.ru/forbes-woman/368625-begst...   \n",
       "2  http://www.forbes.ru/finansy-i-investicii/3685...   \n",
       "3  http://www.forbes.ru/forbeslife/368613-adskie-...   \n",
       "4  http://www.forbes.ru/tehnologii/368607-konchin...   \n",
       "\n",
       "                           pubDate                        source  \\\n",
       "0  Wed, 31 Oct 2018 19:25:02 +0300  Forbes.ru - Главные темы дня   \n",
       "1  Wed, 31 Oct 2018 18:54:09 +0300  Forbes.ru - Главные темы дня   \n",
       "2  Wed, 31 Oct 2018 16:28:28 +0300  Forbes.ru - Главные темы дня   \n",
       "3  Wed, 31 Oct 2018 16:20:52 +0300  Forbes.ru - Главные темы дня   \n",
       "4  Wed, 31 Oct 2018 16:07:38 +0300  Forbes.ru - Главные темы дня   \n",
       "\n",
       "                                               title  \n",
       "0  Эпоха ГРУ: как живут и умирают богатые русские...  \n",
       "1  Бегство из рая. Японскую императорскую семью п...  \n",
       "2  Гонки на $100 млрд: стоит ли инвестировать в I...  \n",
       "3  Адские деньги: как еврейские арт-дилеры спасал...  \n",
       "4  Кончина «Кеплера»: охотник на инопланетян ушел...  "
      ]
     },
     "execution_count": 23,
     "metadata": {},
     "output_type": "execute_result"
    }
   ],
   "source": [
    "import pandas as pd\n",
    "\n",
    "data = pd.DataFrame(news_items)\n",
    "data.head()"
   ]
  },
  {
   "cell_type": "code",
   "execution_count": null,
   "metadata": {},
   "outputs": [],
   "source": []
  }
 ],
 "metadata": {
  "kernelspec": {
   "display_name": "Python 3",
   "language": "python",
   "name": "python3"
  },
  "language_info": {
   "codemirror_mode": {
    "name": "ipython",
    "version": 3
   },
   "file_extension": ".py",
   "mimetype": "text/x-python",
   "name": "python",
   "nbconvert_exporter": "python",
   "pygments_lexer": "ipython3",
   "version": "3.6.4"
  }
 },
 "nbformat": 4,
 "nbformat_minor": 2
}
