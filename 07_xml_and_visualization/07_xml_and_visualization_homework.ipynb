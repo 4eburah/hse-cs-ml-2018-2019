{
 "cells": [
  {
   "cell_type": "markdown",
   "metadata": {},
   "source": [
    "## Задача 1 (макс. 11 баллов):"
   ]
  },
  {
   "cell_type": "markdown",
   "metadata": {},
   "source": [
    "На сайте https://www.kaggle.com/c/shelter-animal-outcomes/data прочтите описание и скачайте train.csv\n",
    "\n",
    "Все вопросы ниже предполагают ответ в графическом виде.\n",
    "\n",
    "1. (1 балл) Кого в питомнике больше: кошек или собак?\n",
    "2. (1 балл) Какие бывают OutcomeType и сколько их?\n",
    "3. (1 балл) Как связаны пол животного и OutcomeType?\n",
    "4. (1 балл) Как связаны вид животного и OutcomeType?\n",
    "5. (2 балла) Создайте колонку Mix для \"смешанных\" пород. Придумайте, как определить, что порода у животного не чистая. Связан ли факт смешанной породы c OutcomeType?\n",
    "6. (3 балла) Из AgeuponOutcome создайте числовую колонку AgeInYears, в которой запишите возраст животного в годах. Постройте гистограмму возрастов животных.\n",
    "7. (2 балл) Разбейте всех животных на 4 возрастных группы: <3 лет ; 3-5 лет; 5-10 лет; >10 лет. Влияет ли группа на OutcomeType?"
   ]
  },
  {
   "cell_type": "code",
   "execution_count": null,
   "metadata": {},
   "outputs": [],
   "source": []
  },
  {
   "cell_type": "markdown",
   "metadata": {},
   "source": [
    "## Задача 2 (макс 4 балла)"
   ]
  },
  {
   "cell_type": "markdown",
   "metadata": {},
   "source": [
    "Скачайте файл data-405-2018-10-03.xml в Телеграмме.\n",
    "\n",
    "1. (3 балла) Распарсите xml с помощью xml.etree.ElementTree. Для каждого маршрута (Track) создайте 2 массива: x – значения долготы (~55°), y – значения широты (~37°) точек маршрута.\n",
    "2. (1 балл) Полученные треки визуализируйте на графике ."
   ]
  },
  {
   "cell_type": "code",
   "execution_count": null,
   "metadata": {},
   "outputs": [],
   "source": []
  }
 ],
 "metadata": {
  "kernelspec": {
   "display_name": "Python 3",
   "language": "python",
   "name": "python3"
  },
  "language_info": {
   "codemirror_mode": {
    "name": "ipython",
    "version": 3
   },
   "file_extension": ".py",
   "mimetype": "text/x-python",
   "name": "python",
   "nbconvert_exporter": "python",
   "pygments_lexer": "ipython3",
   "version": "3.6.4"
  }
 },
 "nbformat": 4,
 "nbformat_minor": 2
}
