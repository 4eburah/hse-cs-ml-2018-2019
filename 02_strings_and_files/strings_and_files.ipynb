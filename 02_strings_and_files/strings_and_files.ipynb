{
 "cells": [
  {
   "cell_type": "markdown",
   "metadata": {},
   "source": [
    "# Проверочный блиц\n",
    "\n",
    "1 Правильно проиндексировать словарь d, чтобы получить фразу 'Вот оно!'\n",
    "\n",
    "`d = {'index1': [42, 200, {'index2': ['уже не просто', {'сложно!': [101, 15, ['Вот оно!']]}]}]}`\n",
    "\n",
    "2 Напишите программу, в которой пользователь вводит числа по одному, пока не введет слово \"done\". Для каждого числа вывести четное оно или не четное. Для ввода используйте встроенную функцию input().\n",
    "\n",
    "3 Для каждой буквы вашего имени (все буквы строчные) выведите, какой по счету она является. Русский алфавит для справки:\n",
    "\n",
    "`абвгдеёжзийклмнопрстуфхцчшщъыьэюя`"
   ]
  },
  {
   "cell_type": "code",
   "execution_count": null,
   "metadata": {},
   "outputs": [],
   "source": []
  },
  {
   "cell_type": "markdown",
   "metadata": {},
   "source": [
    "# Strings"
   ]
  },
  {
   "cell_type": "markdown",
   "metadata": {},
   "source": [
    "Строки, strings, в питоне используются для хранения и отображения текстовой информации. Строки являются последовательностью, имеющей порядок,  что значит, что питон питон отслеживает положение каждого элемента строки. Это позволит нам, например, удобно индексировать строки.\n",
    "\n",
    "В этой теме мы затроним следующие моменты:\n",
    "\n",
    "    1.) Создание строк\n",
    "    2.) Индексация и выделение подмассивов\n",
    "    3.) Свойства строк\n",
    "    4.) Встроенные строковые методы"
   ]
  },
  {
   "cell_type": "markdown",
   "metadata": {},
   "source": [
    "## Создание String\n",
    "Для создания строки нужно использовать одинарные или двойные кавычки."
   ]
  },
  {
   "cell_type": "code",
   "execution_count": 1,
   "metadata": {
    "ExecuteTime": {
     "end_time": "2018-09-27T16:38:11.448995Z",
     "start_time": "2018-09-27T16:38:11.433578Z"
    }
   },
   "outputs": [
    {
     "data": {
      "text/plain": [
       "'hello, world'"
      ]
     },
     "execution_count": 1,
     "metadata": {},
     "output_type": "execute_result"
    }
   ],
   "source": [
    "'hello, world'"
   ]
  },
  {
   "cell_type": "code",
   "execution_count": 2,
   "metadata": {
    "ExecuteTime": {
     "end_time": "2018-09-27T16:38:12.573562Z",
     "start_time": "2018-09-27T16:38:12.564534Z"
    }
   },
   "outputs": [
    {
     "data": {
      "text/plain": [
       "'I print hello, world'"
      ]
     },
     "execution_count": 2,
     "metadata": {},
     "output_type": "execute_result"
    }
   ],
   "source": [
    "# Двойные кавычки\n",
    "\"I print hello, world\""
   ]
  },
  {
   "cell_type": "code",
   "execution_count": 4,
   "metadata": {
    "ExecuteTime": {
     "end_time": "2018-09-27T16:38:27.205851Z",
     "start_time": "2018-09-27T16:38:27.197076Z"
    }
   },
   "outputs": [
    {
     "data": {
      "text/plain": [
       "\"I print 'hello, world'\""
      ]
     },
     "execution_count": 4,
     "metadata": {},
     "output_type": "execute_result"
    }
   ],
   "source": [
    "# Нельзя беспорядочно мешать двойные и одинарные кавычки\n",
    "'I print \\'hello, world\\''"
   ]
  },
  {
   "cell_type": "markdown",
   "metadata": {},
   "source": [
    "Правильно так:"
   ]
  },
  {
   "cell_type": "code",
   "execution_count": 5,
   "metadata": {
    "ExecuteTime": {
     "end_time": "2018-09-27T16:38:41.367437Z",
     "start_time": "2018-09-27T16:38:41.357936Z"
    }
   },
   "outputs": [
    {
     "data": {
      "text/plain": [
       "'I print \"hello, world\"'"
      ]
     },
     "execution_count": 5,
     "metadata": {},
     "output_type": "execute_result"
    }
   ],
   "source": [
    "'I print \"hello, world\"'"
   ]
  },
  {
   "cell_type": "markdown",
   "metadata": {},
   "source": [
    "## Индексация строк и выделение подмассивов\n",
    "Так как строка - это последовательность, значит, мы можем обратиться к любой ее части по индексу.\n",
    "\n",
    "В питоне используются квадратные скобки <code>[]</code> после объекта для вызова индекса. Индексирование начинается с 0."
   ]
  },
  {
   "cell_type": "code",
   "execution_count": 59,
   "metadata": {
    "ExecuteTime": {
     "end_time": "2018-09-27T16:47:48.550856Z",
     "start_time": "2018-09-27T16:47:48.545328Z"
    }
   },
   "outputs": [],
   "source": [
    "string = 'I like Python'"
   ]
  },
  {
   "cell_type": "code",
   "execution_count": 7,
   "metadata": {
    "ExecuteTime": {
     "end_time": "2018-09-27T16:38:54.319435Z",
     "start_time": "2018-09-27T16:38:54.311733Z"
    }
   },
   "outputs": [
    {
     "data": {
      "text/plain": [
       "'I like Python'"
      ]
     },
     "execution_count": 7,
     "metadata": {},
     "output_type": "execute_result"
    }
   ],
   "source": [
    "string"
   ]
  },
  {
   "cell_type": "code",
   "execution_count": 8,
   "metadata": {
    "ExecuteTime": {
     "end_time": "2018-09-27T16:38:54.898212Z",
     "start_time": "2018-09-27T16:38:54.891249Z"
    }
   },
   "outputs": [
    {
     "name": "stdout",
     "output_type": "stream",
     "text": [
      "I like Python\n"
     ]
    }
   ],
   "source": [
    "print(string) "
   ]
  },
  {
   "cell_type": "code",
   "execution_count": 9,
   "metadata": {
    "ExecuteTime": {
     "end_time": "2018-09-27T16:38:56.680708Z",
     "start_time": "2018-09-27T16:38:56.670899Z"
    }
   },
   "outputs": [
    {
     "data": {
      "text/plain": [
       "'I'"
      ]
     },
     "execution_count": 9,
     "metadata": {},
     "output_type": "execute_result"
    }
   ],
   "source": [
    "string[0]"
   ]
  },
  {
   "cell_type": "code",
   "execution_count": 10,
   "metadata": {
    "ExecuteTime": {
     "end_time": "2018-09-27T16:38:58.485626Z",
     "start_time": "2018-09-27T16:38:58.477913Z"
    }
   },
   "outputs": [
    {
     "data": {
      "text/plain": [
       "' '"
      ]
     },
     "execution_count": 10,
     "metadata": {},
     "output_type": "execute_result"
    }
   ],
   "source": [
    "string[1]"
   ]
  },
  {
   "cell_type": "code",
   "execution_count": 11,
   "metadata": {
    "ExecuteTime": {
     "end_time": "2018-09-27T16:38:58.748037Z",
     "start_time": "2018-09-27T16:38:58.738265Z"
    }
   },
   "outputs": [
    {
     "data": {
      "text/plain": [
       "'l'"
      ]
     },
     "execution_count": 11,
     "metadata": {},
     "output_type": "execute_result"
    }
   ],
   "source": [
    "string[2]"
   ]
  },
  {
   "cell_type": "code",
   "execution_count": 12,
   "metadata": {
    "ExecuteTime": {
     "end_time": "2018-09-27T16:39:00.104527Z",
     "start_time": "2018-09-27T16:39:00.096456Z"
    }
   },
   "outputs": [
    {
     "data": {
      "text/plain": [
       "' like Python'"
      ]
     },
     "execution_count": 12,
     "metadata": {},
     "output_type": "execute_result"
    }
   ],
   "source": [
    "string[1:]"
   ]
  },
  {
   "cell_type": "code",
   "execution_count": 13,
   "metadata": {
    "ExecuteTime": {
     "end_time": "2018-09-27T16:39:04.857847Z",
     "start_time": "2018-09-27T16:39:04.848380Z"
    }
   },
   "outputs": [
    {
     "data": {
      "text/plain": [
       "'I like Python'"
      ]
     },
     "execution_count": 13,
     "metadata": {},
     "output_type": "execute_result"
    }
   ],
   "source": [
    "#Предыдущие действия на саму строку влияния не оказали\n",
    "string"
   ]
  },
  {
   "cell_type": "code",
   "execution_count": 14,
   "metadata": {
    "ExecuteTime": {
     "end_time": "2018-09-27T16:39:21.969550Z",
     "start_time": "2018-09-27T16:39:21.960239Z"
    }
   },
   "outputs": [
    {
     "data": {
      "text/plain": [
       "'I l'"
      ]
     },
     "execution_count": 14,
     "metadata": {},
     "output_type": "execute_result"
    }
   ],
   "source": [
    "#Три первых символа до порядкового номера 3\n",
    "string[:3]"
   ]
  },
  {
   "cell_type": "code",
   "execution_count": 15,
   "metadata": {
    "ExecuteTime": {
     "end_time": "2018-09-27T16:39:28.480177Z",
     "start_time": "2018-09-27T16:39:28.470726Z"
    }
   },
   "outputs": [
    {
     "data": {
      "text/plain": [
       "'I like Python'"
      ]
     },
     "execution_count": 15,
     "metadata": {},
     "output_type": "execute_result"
    }
   ],
   "source": [
    "string[:]"
   ]
  },
  {
   "cell_type": "code",
   "execution_count": 17,
   "metadata": {
    "ExecuteTime": {
     "end_time": "2018-09-27T16:39:39.600758Z",
     "start_time": "2018-09-27T16:39:39.593373Z"
    }
   },
   "outputs": [
    {
     "data": {
      "text/plain": [
       "'n'"
      ]
     },
     "execution_count": 17,
     "metadata": {},
     "output_type": "execute_result"
    }
   ],
   "source": [
    "string[-1]"
   ]
  },
  {
   "cell_type": "code",
   "execution_count": 16,
   "metadata": {
    "ExecuteTime": {
     "end_time": "2018-09-27T16:39:37.432054Z",
     "start_time": "2018-09-27T16:39:37.423389Z"
    }
   },
   "outputs": [
    {
     "data": {
      "text/plain": [
       "'I like Pytho'"
      ]
     },
     "execution_count": 16,
     "metadata": {},
     "output_type": "execute_result"
    }
   ],
   "source": [
    "string[:-1]"
   ]
  },
  {
   "cell_type": "code",
   "execution_count": 18,
   "metadata": {
    "ExecuteTime": {
     "end_time": "2018-09-27T16:39:42.563450Z",
     "start_time": "2018-09-27T16:39:42.553368Z"
    }
   },
   "outputs": [
    {
     "data": {
      "text/plain": [
       "'I like Python'"
      ]
     },
     "execution_count": 18,
     "metadata": {},
     "output_type": "execute_result"
    }
   ],
   "source": [
    "string[::1]"
   ]
  },
  {
   "cell_type": "code",
   "execution_count": 19,
   "metadata": {
    "ExecuteTime": {
     "end_time": "2018-09-27T16:39:46.479299Z",
     "start_time": "2018-09-27T16:39:46.471057Z"
    }
   },
   "outputs": [
    {
     "data": {
      "text/plain": [
       "'Ilk yhn'"
      ]
     },
     "execution_count": 19,
     "metadata": {},
     "output_type": "execute_result"
    }
   ],
   "source": [
    "string[::2]"
   ]
  },
  {
   "cell_type": "code",
   "execution_count": 20,
   "metadata": {
    "ExecuteTime": {
     "end_time": "2018-09-27T16:39:52.375907Z",
     "start_time": "2018-09-27T16:39:52.367290Z"
    }
   },
   "outputs": [
    {
     "data": {
      "text/plain": [
       "'nohtyP ekil I'"
      ]
     },
     "execution_count": 20,
     "metadata": {},
     "output_type": "execute_result"
    }
   ],
   "source": [
    "string[::-1] "
   ]
  },
  {
   "cell_type": "markdown",
   "metadata": {
    "collapsed": true
   },
   "source": [
    "## Свойства строк\n",
    "Важное свойство строк заключается в том, что после того, как они были созданы, они не изменяются."
   ]
  },
  {
   "cell_type": "code",
   "execution_count": 21,
   "metadata": {
    "ExecuteTime": {
     "end_time": "2018-09-27T16:40:07.447570Z",
     "start_time": "2018-09-27T16:40:07.439449Z"
    }
   },
   "outputs": [
    {
     "data": {
      "text/plain": [
       "'I like Python'"
      ]
     },
     "execution_count": 21,
     "metadata": {},
     "output_type": "execute_result"
    }
   ],
   "source": [
    "string"
   ]
  },
  {
   "cell_type": "code",
   "execution_count": 22,
   "metadata": {
    "ExecuteTime": {
     "end_time": "2018-09-27T16:40:08.313903Z",
     "start_time": "2018-09-27T16:40:07.999153Z"
    }
   },
   "outputs": [
    {
     "ename": "TypeError",
     "evalue": "'str' object does not support item assignment",
     "output_type": "error",
     "traceback": [
      "\u001b[0;31m---------------------------------------------------------------------------\u001b[0m",
      "\u001b[0;31mTypeError\u001b[0m                                 Traceback (most recent call last)",
      "\u001b[0;32m<ipython-input-22-b15a9609fecf>\u001b[0m in \u001b[0;36m<module>\u001b[0;34m()\u001b[0m\n\u001b[1;32m      1\u001b[0m \u001b[0;31m# Попробуем заменить первую букву\u001b[0m\u001b[0;34m\u001b[0m\u001b[0;34m\u001b[0m\u001b[0m\n\u001b[0;32m----> 2\u001b[0;31m \u001b[0mstring\u001b[0m\u001b[0;34m[\u001b[0m\u001b[0;36m0\u001b[0m\u001b[0;34m]\u001b[0m \u001b[0;34m=\u001b[0m \u001b[0;34m'x'\u001b[0m\u001b[0;34m\u001b[0m\u001b[0m\n\u001b[0m",
      "\u001b[0;31mTypeError\u001b[0m: 'str' object does not support item assignment"
     ]
    }
   ],
   "source": [
    "# Попробуем заменить первую букву\n",
    "string[0] = 'x'"
   ]
  },
  {
   "cell_type": "code",
   "execution_count": 23,
   "metadata": {
    "ExecuteTime": {
     "end_time": "2018-09-27T16:40:20.354592Z",
     "start_time": "2018-09-27T16:40:20.346586Z"
    }
   },
   "outputs": [
    {
     "data": {
      "text/plain": [
       "'I like Python very much!'"
      ]
     },
     "execution_count": 23,
     "metadata": {},
     "output_type": "execute_result"
    }
   ],
   "source": [
    "# Зато мы можем объединять строки\n",
    "string + ' very much!'"
   ]
  },
  {
   "cell_type": "code",
   "execution_count": 24,
   "metadata": {
    "ExecuteTime": {
     "end_time": "2018-09-27T16:40:29.294293Z",
     "start_time": "2018-09-27T16:40:29.287720Z"
    }
   },
   "outputs": [],
   "source": [
    "string += ' very much!'"
   ]
  },
  {
   "cell_type": "code",
   "execution_count": 25,
   "metadata": {
    "ExecuteTime": {
     "end_time": "2018-09-27T16:40:31.299656Z",
     "start_time": "2018-09-27T16:40:31.293158Z"
    }
   },
   "outputs": [
    {
     "name": "stdout",
     "output_type": "stream",
     "text": [
      "I like Python very much!\n"
     ]
    }
   ],
   "source": [
    "print(string)"
   ]
  },
  {
   "cell_type": "code",
   "execution_count": 26,
   "metadata": {
    "ExecuteTime": {
     "end_time": "2018-09-27T16:40:33.374348Z",
     "start_time": "2018-09-27T16:40:33.365367Z"
    }
   },
   "outputs": [
    {
     "data": {
      "text/plain": [
       "'I like Python very much!'"
      ]
     },
     "execution_count": 26,
     "metadata": {},
     "output_type": "execute_result"
    }
   ],
   "source": [
    "string"
   ]
  },
  {
   "cell_type": "code",
   "execution_count": 27,
   "metadata": {
    "ExecuteTime": {
     "end_time": "2018-09-27T16:40:53.365112Z",
     "start_time": "2018-09-27T16:40:53.361021Z"
    }
   },
   "outputs": [],
   "source": [
    "letter = '9'"
   ]
  },
  {
   "cell_type": "code",
   "execution_count": 28,
   "metadata": {
    "ExecuteTime": {
     "end_time": "2018-09-27T16:41:01.013011Z",
     "start_time": "2018-09-27T16:41:01.004674Z"
    }
   },
   "outputs": [
    {
     "data": {
      "text/plain": [
       "'9999999999'"
      ]
     },
     "execution_count": 28,
     "metadata": {},
     "output_type": "execute_result"
    }
   ],
   "source": [
    "letter * 10"
   ]
  },
  {
   "cell_type": "markdown",
   "metadata": {},
   "source": [
    "## Встроенные строковые методы\n",
    "\n",
    "Объекты в питоне имеют встроенные методы. И имеют вид:\n",
    "\n",
    "object.method(parameters)\n",
    "\n",
    "Где параметры - это дополнительные аргементы, передаваемые методу.\n",
    "\n",
    "Доступные методы можно посмотреть по ссылке: https://docs.python.org/3.6/library/stdtypes.html#string-methods"
   ]
  },
  {
   "cell_type": "code",
   "execution_count": 29,
   "metadata": {
    "ExecuteTime": {
     "end_time": "2018-09-27T16:41:33.401109Z",
     "start_time": "2018-09-27T16:41:33.392173Z"
    }
   },
   "outputs": [
    {
     "data": {
      "text/plain": [
       "'I like Python very much!'"
      ]
     },
     "execution_count": 29,
     "metadata": {},
     "output_type": "execute_result"
    }
   ],
   "source": [
    "string"
   ]
  },
  {
   "cell_type": "code",
   "execution_count": 30,
   "metadata": {
    "ExecuteTime": {
     "end_time": "2018-09-27T16:41:36.969202Z",
     "start_time": "2018-09-27T16:41:36.959589Z"
    }
   },
   "outputs": [
    {
     "data": {
      "text/plain": [
       "'I LIKE PYTHON VERY MUCH!'"
      ]
     },
     "execution_count": 30,
     "metadata": {},
     "output_type": "execute_result"
    }
   ],
   "source": [
    "string.upper()"
   ]
  },
  {
   "cell_type": "code",
   "execution_count": 31,
   "metadata": {
    "ExecuteTime": {
     "end_time": "2018-09-27T16:41:39.262367Z",
     "start_time": "2018-09-27T16:41:39.256839Z"
    }
   },
   "outputs": [
    {
     "data": {
      "text/plain": [
       "'i like python very much!'"
      ]
     },
     "execution_count": 31,
     "metadata": {},
     "output_type": "execute_result"
    }
   ],
   "source": [
    "string.lower()"
   ]
  },
  {
   "cell_type": "code",
   "execution_count": 32,
   "metadata": {
    "ExecuteTime": {
     "end_time": "2018-09-27T16:41:42.632452Z",
     "start_time": "2018-09-27T16:41:42.621927Z"
    }
   },
   "outputs": [
    {
     "data": {
      "text/plain": [
       "['I', 'like', 'Python', 'very', 'much!']"
      ]
     },
     "execution_count": 32,
     "metadata": {},
     "output_type": "execute_result"
    }
   ],
   "source": [
    "string.split() "
   ]
  },
  {
   "cell_type": "code",
   "execution_count": 33,
   "metadata": {
    "ExecuteTime": {
     "end_time": "2018-09-27T16:42:14.897159Z",
     "start_time": "2018-09-27T16:42:14.886658Z"
    }
   },
   "outputs": [
    {
     "data": {
      "text/plain": [
       "['i like pyt', 'on very muc', '!']"
      ]
     },
     "execution_count": 33,
     "metadata": {},
     "output_type": "execute_result"
    }
   ],
   "source": [
    "string.lower().split('h')"
   ]
  },
  {
   "cell_type": "code",
   "execution_count": 37,
   "metadata": {
    "ExecuteTime": {
     "end_time": "2018-09-27T16:42:46.881133Z",
     "start_time": "2018-09-27T16:42:46.874609Z"
    }
   },
   "outputs": [
    {
     "data": {
      "text/plain": [
       "2"
      ]
     },
     "execution_count": 37,
     "metadata": {},
     "output_type": "execute_result"
    }
   ],
   "source": [
    "string.count('h') "
   ]
  },
  {
   "cell_type": "code",
   "execution_count": 40,
   "metadata": {
    "ExecuteTime": {
     "end_time": "2018-09-27T16:43:12.798188Z",
     "start_time": "2018-09-27T16:43:12.790288Z"
    }
   },
   "outputs": [
    {
     "data": {
      "text/plain": [
       "True"
      ]
     },
     "execution_count": 40,
     "metadata": {},
     "output_type": "execute_result"
    }
   ],
   "source": [
    "string.endswith('!')"
   ]
  },
  {
   "cell_type": "code",
   "execution_count": 42,
   "metadata": {
    "ExecuteTime": {
     "end_time": "2018-09-27T16:43:18.217272Z",
     "start_time": "2018-09-27T16:43:18.211554Z"
    }
   },
   "outputs": [
    {
     "name": "stdout",
     "output_type": "stream",
     "text": [
      "Does not start with \"P\"\n"
     ]
    }
   ],
   "source": [
    "if string.startswith('P'):\n",
    "    print('Starts with \"P\"')\n",
    "else:\n",
    "    print('Does not start with \"P\"')"
   ]
  },
  {
   "cell_type": "code",
   "execution_count": 45,
   "metadata": {
    "ExecuteTime": {
     "end_time": "2018-09-27T16:44:17.277970Z",
     "start_time": "2018-09-27T16:44:17.271733Z"
    }
   },
   "outputs": [
    {
     "data": {
      "text/plain": [
       "2"
      ]
     },
     "execution_count": 45,
     "metadata": {},
     "output_type": "execute_result"
    }
   ],
   "source": [
    "string.find('like')"
   ]
  },
  {
   "cell_type": "code",
   "execution_count": 46,
   "metadata": {
    "ExecuteTime": {
     "end_time": "2018-09-27T16:44:22.557548Z",
     "start_time": "2018-09-27T16:44:22.548680Z"
    }
   },
   "outputs": [
    {
     "data": {
      "text/plain": [
       "'I like Python very much!'"
      ]
     },
     "execution_count": 46,
     "metadata": {},
     "output_type": "execute_result"
    }
   ],
   "source": [
    "string"
   ]
  },
  {
   "cell_type": "code",
   "execution_count": 53,
   "metadata": {
    "ExecuteTime": {
     "end_time": "2018-09-27T16:46:18.125038Z",
     "start_time": "2018-09-27T16:46:18.117068Z"
    }
   },
   "outputs": [
    {
     "data": {
      "text/plain": [
       "-1"
      ]
     },
     "execution_count": 53,
     "metadata": {},
     "output_type": "execute_result"
    }
   ],
   "source": [
    "string.find('like', 1, 4)"
   ]
  },
  {
   "cell_type": "code",
   "execution_count": 58,
   "metadata": {
    "ExecuteTime": {
     "end_time": "2018-09-27T16:47:22.807238Z",
     "start_time": "2018-09-27T16:47:22.796103Z"
    }
   },
   "outputs": [
    {
     "data": {
      "text/plain": [
       "True"
      ]
     },
     "execution_count": 58,
     "metadata": {},
     "output_type": "execute_result"
    }
   ],
   "source": [
    "string.isalpha()"
   ]
  },
  {
   "cell_type": "code",
   "execution_count": 63,
   "metadata": {
    "ExecuteTime": {
     "end_time": "2018-09-27T16:48:34.878418Z",
     "start_time": "2018-09-27T16:48:34.867526Z"
    }
   },
   "outputs": [
    {
     "data": {
      "text/plain": [
       "['I', 'like', 'Python']"
      ]
     },
     "execution_count": 63,
     "metadata": {},
     "output_type": "execute_result"
    }
   ],
   "source": [
    "s = string.split()\n",
    "s"
   ]
  },
  {
   "cell_type": "code",
   "execution_count": 64,
   "metadata": {
    "ExecuteTime": {
     "end_time": "2018-09-27T16:48:35.349760Z",
     "start_time": "2018-09-27T16:48:35.343553Z"
    }
   },
   "outputs": [
    {
     "data": {
      "text/plain": [
       "'I_&_like_&_Python'"
      ]
     },
     "execution_count": 64,
     "metadata": {},
     "output_type": "execute_result"
    }
   ],
   "source": [
    "s = '_&_'.join(s)\n",
    "s"
   ]
  },
  {
   "cell_type": "code",
   "execution_count": 68,
   "metadata": {
    "ExecuteTime": {
     "end_time": "2018-09-27T16:49:20.863508Z",
     "start_time": "2018-09-27T16:49:20.854789Z"
    }
   },
   "outputs": [
    {
     "data": {
      "text/plain": [
       "'I like Python\\n\\n'"
      ]
     },
     "execution_count": 68,
     "metadata": {},
     "output_type": "execute_result"
    }
   ],
   "source": [
    "string += '\\n'\n",
    "string"
   ]
  },
  {
   "cell_type": "code",
   "execution_count": 74,
   "metadata": {
    "ExecuteTime": {
     "end_time": "2018-09-27T16:50:11.207100Z",
     "start_time": "2018-09-27T16:50:11.200821Z"
    }
   },
   "outputs": [
    {
     "data": {
      "text/plain": [
       "'I like Pytho'"
      ]
     },
     "execution_count": 74,
     "metadata": {},
     "output_type": "execute_result"
    }
   ],
   "source": [
    "string"
   ]
  },
  {
   "cell_type": "code",
   "execution_count": 76,
   "metadata": {
    "ExecuteTime": {
     "end_time": "2018-09-27T16:50:59.618800Z",
     "start_time": "2018-09-27T16:50:59.612602Z"
    }
   },
   "outputs": [],
   "source": [
    "s = '123hello123'"
   ]
  },
  {
   "cell_type": "code",
   "execution_count": 79,
   "metadata": {
    "ExecuteTime": {
     "end_time": "2018-09-27T16:51:07.390930Z",
     "start_time": "2018-09-27T16:51:07.384986Z"
    }
   },
   "outputs": [
    {
     "data": {
      "text/plain": [
       "'hello'"
      ]
     },
     "execution_count": 79,
     "metadata": {},
     "output_type": "execute_result"
    }
   ],
   "source": [
    "s.strip('123')"
   ]
  },
  {
   "cell_type": "markdown",
   "metadata": {},
   "source": [
    "## Блиц 1\n"
   ]
  },
  {
   "cell_type": "markdown",
   "metadata": {},
   "source": [
    "1. На вход подается строка с каким-то количеством цифр на конце.\n",
    "Вам необходимо вывести только буквенную часть строки, используя встроенные строковые методы и циклы.\n",
    "\n",
    "2. На вход подается строка и подстрока. Проверить, что подстрока присутствует в строке и вывести индекс первого вхождения.\n",
    "\n",
    "3. На вход подается строка и подстрока. Найти все вхождения подстроки в строку и вывести количество таких вхождений."
   ]
  },
  {
   "cell_type": "code",
   "execution_count": 89,
   "metadata": {
    "ExecuteTime": {
     "end_time": "2018-09-27T17:20:32.762605Z",
     "start_time": "2018-09-27T17:20:32.758290Z"
    }
   },
   "outputs": [],
   "source": [
    "string_with_numbers = 's ds123asdas123123'"
   ]
  },
  {
   "cell_type": "code",
   "execution_count": 130,
   "metadata": {
    "ExecuteTime": {
     "end_time": "2018-09-27T17:27:56.021233Z",
     "start_time": "2018-09-27T17:27:56.012910Z"
    }
   },
   "outputs": [
    {
     "name": "stdout",
     "output_type": "stream",
     "text": [
      "123asd\n"
     ]
    }
   ],
   "source": [
    "for index in range(len(string_with_numbers)):\n",
    "    char = string_with_numbers[-index-1]\n",
    "    if not char.isdigit():\n",
    "        print(string_with_numbers[:len(string_with_numbers)-index])\n",
    "        break"
   ]
  },
  {
   "cell_type": "code",
   "execution_count": 122,
   "metadata": {
    "ExecuteTime": {
     "end_time": "2018-09-27T17:26:57.185502Z",
     "start_time": "2018-09-27T17:26:57.178826Z"
    }
   },
   "outputs": [
    {
     "name": "stdout",
     "output_type": "stream",
     "text": [
      "0 1\n",
      "1 2\n",
      "2 3\n",
      "3 a\n",
      "4 s\n",
      "5 d\n",
      "6 s\n",
      "7 a\n",
      "8 d\n"
     ]
    }
   ],
   "source": [
    "for index, char in enumerate(string_with_numbers):\n",
    "    print(index, char) "
   ]
  },
  {
   "cell_type": "code",
   "execution_count": 135,
   "metadata": {
    "ExecuteTime": {
     "end_time": "2018-09-27T17:30:24.572873Z",
     "start_time": "2018-09-27T17:30:24.563490Z"
    }
   },
   "outputs": [
    {
     "name": "stdout",
     "output_type": "stream",
     "text": [
      "no such substring\n"
     ]
    }
   ],
   "source": [
    "index = 'qweqweqweqwe'.find('helo') \n",
    "if index != -1:\n",
    "    print(index)\n",
    "else:\n",
    "    print('no such substring')"
   ]
  },
  {
   "cell_type": "code",
   "execution_count": 147,
   "metadata": {
    "ExecuteTime": {
     "end_time": "2018-09-27T17:40:26.487211Z",
     "start_time": "2018-09-27T17:40:26.477201Z"
    }
   },
   "outputs": [
    {
     "data": {
      "text/plain": [
       "1"
      ]
     },
     "execution_count": 147,
     "metadata": {},
     "output_type": "execute_result"
    }
   ],
   "source": [
    "# Первый способ – не отдает индексы подстрок\n",
    "inital_string = 'hellohellohello'\n",
    "substring = 'hellohello'\n",
    "\n",
    "len(inital_string.split(substring)) - 1"
   ]
  },
  {
   "cell_type": "code",
   "execution_count": 149,
   "metadata": {
    "ExecuteTime": {
     "end_time": "2018-09-27T17:41:31.502402Z",
     "start_time": "2018-09-27T17:41:31.493262Z"
    }
   },
   "outputs": [
    {
     "name": "stdout",
     "output_type": "stream",
     "text": [
      "0\n"
     ]
    }
   ],
   "source": [
    "# Второй способ - отдает\n",
    "find_index = 0\n",
    "while True:\n",
    "    find_index = inital_string.find(substring, find_index)\n",
    "    if find_index == -1:\n",
    "        break\n",
    "    else:\n",
    "        print(find_index)\n",
    "        find_index += len(substring)"
   ]
  },
  {
   "cell_type": "code",
   "execution_count": null,
   "metadata": {},
   "outputs": [],
   "source": []
  },
  {
   "cell_type": "markdown",
   "metadata": {},
   "source": [
    "# Files\n",
    "Питон позволяет взаимодействовать с любыми файлами, любых форматов, которые хранятся у вас на компьютере. Также он позволяет создавать и записывать различные файлы на компьютер. \n",
    "\n",
    "Для некоторых действий понадобится установить отдельные библиотеки, но многое можно сделать и встроенными методами.\n",
    "Например, следующая команда является исключительно возможньстью jupyter notebooks.\n",
    "\n",
    "## Создание файла с помощью IPython"
   ]
  },
  {
   "cell_type": "code",
   "execution_count": 169,
   "metadata": {
    "ExecuteTime": {
     "end_time": "2018-09-27T18:00:49.288801Z",
     "start_time": "2018-09-27T18:00:49.279739Z"
    }
   },
   "outputs": [
    {
     "name": "stdout",
     "output_type": "stream",
     "text": [
      "Overwriting test.txt\n"
     ]
    }
   ],
   "source": [
    "%%writefile test.txt\n",
    "This is an easy test file.\n",
    "This is the second line"
   ]
  },
  {
   "cell_type": "markdown",
   "metadata": {},
   "source": [
    "## Открытие файла"
   ]
  },
  {
   "cell_type": "code",
   "execution_count": 170,
   "metadata": {
    "ExecuteTime": {
     "end_time": "2018-09-27T18:00:52.364738Z",
     "start_time": "2018-09-27T18:00:52.350307Z"
    }
   },
   "outputs": [
    {
     "ename": "FileNotFoundError",
     "evalue": "[Errno 2] No such file or directory: 'whoops.txt'",
     "output_type": "error",
     "traceback": [
      "\u001b[0;31m---------------------------------------------------------------------------\u001b[0m",
      "\u001b[0;31mFileNotFoundError\u001b[0m                         Traceback (most recent call last)",
      "\u001b[0;32m<ipython-input-170-410403f4f4b4>\u001b[0m in \u001b[0;36m<module>\u001b[0;34m()\u001b[0m\n\u001b[0;32m----> 1\u001b[0;31m \u001b[0mmyfile\u001b[0m \u001b[0;34m=\u001b[0m \u001b[0mopen\u001b[0m\u001b[0;34m(\u001b[0m\u001b[0;34m'whoops.txt'\u001b[0m\u001b[0;34m)\u001b[0m\u001b[0;34m\u001b[0m\u001b[0m\n\u001b[0m",
      "\u001b[0;31mFileNotFoundError\u001b[0m: [Errno 2] No such file or directory: 'whoops.txt'"
     ]
    }
   ],
   "source": [
    "myfile = open('whoops.txt')"
   ]
  },
  {
   "cell_type": "markdown",
   "metadata": {},
   "source": [
    "Чтобы избежать эту ошибку, надо удостовериться, что файл находится по указанному вами пути или в той же папке, что и блокнот. Для проверки текущей папки можно использовать команду **pwd**:"
   ]
  },
  {
   "cell_type": "code",
   "execution_count": 155,
   "metadata": {
    "ExecuteTime": {
     "end_time": "2018-09-27T17:57:29.924763Z",
     "start_time": "2018-09-27T17:57:29.783958Z"
    }
   },
   "outputs": [
    {
     "name": "stdout",
     "output_type": "stream",
     "text": [
      "strings_and_files.ipynb test.txt\r\n"
     ]
    }
   ],
   "source": [
    "!ls"
   ]
  },
  {
   "cell_type": "code",
   "execution_count": 179,
   "metadata": {
    "ExecuteTime": {
     "end_time": "2018-09-27T18:05:15.051288Z",
     "start_time": "2018-09-27T18:05:14.927969Z"
    }
   },
   "outputs": [
    {
     "name": "stdout",
     "output_type": "stream",
     "text": [
      "/Users/yellowduck/Yandex.Disk.localized/projects/ml/data_mining_course2/02_strings_and_files\r\n"
     ]
    }
   ],
   "source": [
    "!pwd"
   ]
  },
  {
   "cell_type": "code",
   "execution_count": 183,
   "metadata": {
    "ExecuteTime": {
     "end_time": "2018-09-27T18:06:58.633818Z",
     "start_time": "2018-09-27T18:06:58.629142Z"
    }
   },
   "outputs": [],
   "source": [
    "my_file = open('dir/test.txt')"
   ]
  },
  {
   "cell_type": "code",
   "execution_count": null,
   "metadata": {},
   "outputs": [],
   "source": [
    "my_file = open('dir/') "
   ]
  },
  {
   "cell_type": "code",
   "execution_count": 159,
   "metadata": {
    "ExecuteTime": {
     "end_time": "2018-09-27T17:58:51.332517Z",
     "start_time": "2018-09-27T17:58:51.324042Z"
    }
   },
   "outputs": [
    {
     "data": {
      "text/plain": [
       "'This is an easy test file.'"
      ]
     },
     "execution_count": 159,
     "metadata": {},
     "output_type": "execute_result"
    }
   ],
   "source": [
    "my_file.read() "
   ]
  },
  {
   "cell_type": "code",
   "execution_count": 160,
   "metadata": {
    "ExecuteTime": {
     "end_time": "2018-09-27T17:59:08.246552Z",
     "start_time": "2018-09-27T17:59:08.236306Z"
    }
   },
   "outputs": [
    {
     "data": {
      "text/plain": [
       "''"
      ]
     },
     "execution_count": 160,
     "metadata": {},
     "output_type": "execute_result"
    }
   ],
   "source": [
    "my_file.read()"
   ]
  },
  {
   "cell_type": "markdown",
   "metadata": {},
   "source": [
    "Что произошло? Курсор (или указатель) дошел до конца файла и ему нечего больше показывать, поэтому выдает пустую строку."
   ]
  },
  {
   "cell_type": "code",
   "execution_count": 166,
   "metadata": {
    "ExecuteTime": {
     "end_time": "2018-09-27T18:00:10.553949Z",
     "start_time": "2018-09-27T18:00:10.546176Z"
    }
   },
   "outputs": [
    {
     "data": {
      "text/plain": [
       "0"
      ]
     },
     "execution_count": 166,
     "metadata": {},
     "output_type": "execute_result"
    }
   ],
   "source": [
    "my_file.seek(0)"
   ]
  },
  {
   "cell_type": "code",
   "execution_count": 167,
   "metadata": {
    "ExecuteTime": {
     "end_time": "2018-09-27T18:00:11.090384Z",
     "start_time": "2018-09-27T18:00:11.080450Z"
    }
   },
   "outputs": [
    {
     "data": {
      "text/plain": [
       "'This is an easy test file.'"
      ]
     },
     "execution_count": 167,
     "metadata": {},
     "output_type": "execute_result"
    }
   ],
   "source": [
    "my_file.read()"
   ]
  },
  {
   "cell_type": "markdown",
   "metadata": {},
   "source": [
    "Также можно считывать тексты из файла построчно."
   ]
  },
  {
   "cell_type": "code",
   "execution_count": 172,
   "metadata": {
    "ExecuteTime": {
     "end_time": "2018-09-27T18:01:00.436497Z",
     "start_time": "2018-09-27T18:01:00.428578Z"
    }
   },
   "outputs": [
    {
     "data": {
      "text/plain": [
       "['This is an easy test file.\\n', 'This is the second line']"
      ]
     },
     "execution_count": 172,
     "metadata": {},
     "output_type": "execute_result"
    }
   ],
   "source": [
    "my_file.seek(0)\n",
    "my_file.readlines()"
   ]
  },
  {
   "cell_type": "code",
   "execution_count": 173,
   "metadata": {
    "ExecuteTime": {
     "end_time": "2018-09-27T18:01:15.161591Z",
     "start_time": "2018-09-27T18:01:15.150211Z"
    }
   },
   "outputs": [
    {
     "data": {
      "text/plain": [
       "'This is an easy test file.\\n'"
      ]
     },
     "execution_count": 173,
     "metadata": {},
     "output_type": "execute_result"
    }
   ],
   "source": [
    "my_file.seek(0)\n",
    "my_file.readline()"
   ]
  },
  {
   "cell_type": "markdown",
   "metadata": {},
   "source": [
    "При данном способе чтения файла его надо закрывать после работы."
   ]
  },
  {
   "cell_type": "code",
   "execution_count": 174,
   "metadata": {
    "ExecuteTime": {
     "end_time": "2018-09-27T18:01:26.498270Z",
     "start_time": "2018-09-27T18:01:26.492522Z"
    }
   },
   "outputs": [],
   "source": [
    "my_file.close()"
   ]
  },
  {
   "cell_type": "markdown",
   "metadata": {},
   "source": [
    "## Запись в файл\n",
    "\n",
    "Команда `open()` позволяет открыт файл для чтения. Чтобы писать в него, надо передать аргумент `w`. А `w+` позволяет читать и писать в файл. Но эти аргументы удаляют все, что было в файле до этого, будьте осторожны!"
   ]
  },
  {
   "cell_type": "code",
   "execution_count": 186,
   "metadata": {
    "ExecuteTime": {
     "end_time": "2018-09-27T18:08:31.765435Z",
     "start_time": "2018-09-27T18:08:31.758987Z"
    }
   },
   "outputs": [],
   "source": [
    "my_file = open('test.txt', 'w+')"
   ]
  },
  {
   "cell_type": "code",
   "execution_count": 187,
   "metadata": {
    "ExecuteTime": {
     "end_time": "2018-09-27T18:08:32.988288Z",
     "start_time": "2018-09-27T18:08:32.979131Z"
    }
   },
   "outputs": [
    {
     "data": {
      "text/plain": [
       "27"
      ]
     },
     "execution_count": 187,
     "metadata": {},
     "output_type": "execute_result"
    }
   ],
   "source": [
    "my_file.write(\"Oops, ok, let's start again\")"
   ]
  },
  {
   "cell_type": "code",
   "execution_count": 188,
   "metadata": {
    "ExecuteTime": {
     "end_time": "2018-09-27T18:08:38.630003Z",
     "start_time": "2018-09-27T18:08:38.619473Z"
    }
   },
   "outputs": [
    {
     "data": {
      "text/plain": [
       "\"Oops, ok, let's start again\""
      ]
     },
     "execution_count": 188,
     "metadata": {},
     "output_type": "execute_result"
    }
   ],
   "source": [
    "my_file.seek(0)\n",
    "my_file.read() "
   ]
  },
  {
   "cell_type": "code",
   "execution_count": 189,
   "metadata": {
    "ExecuteTime": {
     "end_time": "2018-09-27T18:08:59.597003Z",
     "start_time": "2018-09-27T18:08:59.590947Z"
    }
   },
   "outputs": [],
   "source": [
    "my_file.close() "
   ]
  },
  {
   "cell_type": "markdown",
   "metadata": {},
   "source": [
    "## Дописывание в файл\n",
    "Аргумент `'a'` открывает файл и помещает указатель в конец файла, чтобы произвести дозапись. Если файла не существовало, он будет создан. Аргумент `'a+'` позволяет также и читать файл."
   ]
  },
  {
   "cell_type": "code",
   "execution_count": 190,
   "metadata": {
    "ExecuteTime": {
     "end_time": "2018-09-27T18:09:20.453016Z",
     "start_time": "2018-09-27T18:09:20.445455Z"
    }
   },
   "outputs": [
    {
     "data": {
      "text/plain": [
       "35"
      ]
     },
     "execution_count": 190,
     "metadata": {},
     "output_type": "execute_result"
    }
   ],
   "source": [
    "my_file = open('test.txt','a+')\n",
    "my_file.write('\\nSomething new appended to test.txt')\n",
    "my_file.write('\\nHope all first strings were saved.')"
   ]
  },
  {
   "cell_type": "code",
   "execution_count": 191,
   "metadata": {
    "ExecuteTime": {
     "end_time": "2018-09-27T18:09:24.616039Z",
     "start_time": "2018-09-27T18:09:24.611044Z"
    }
   },
   "outputs": [
    {
     "name": "stdout",
     "output_type": "stream",
     "text": [
      "Oops, ok, let's start again\n",
      "Something new appended to test.txt\n",
      "Hope all first strings were saved.\n"
     ]
    }
   ],
   "source": [
    "my_file.seek(0)\n",
    "print(my_file.read())"
   ]
  },
  {
   "cell_type": "code",
   "execution_count": 192,
   "metadata": {
    "ExecuteTime": {
     "end_time": "2018-09-27T18:09:33.076310Z",
     "start_time": "2018-09-27T18:09:33.071627Z"
    }
   },
   "outputs": [],
   "source": [
    "my_file.close()"
   ]
  },
  {
   "cell_type": "markdown",
   "metadata": {},
   "source": [
    "### Дописывание с помощью `%%writefile`"
   ]
  },
  {
   "cell_type": "code",
   "execution_count": 193,
   "metadata": {
    "ExecuteTime": {
     "end_time": "2018-09-27T18:09:47.701346Z",
     "start_time": "2018-09-27T18:09:47.690739Z"
    }
   },
   "outputs": [
    {
     "name": "stdout",
     "output_type": "stream",
     "text": [
      "Appending to test.txt\n"
     ]
    }
   ],
   "source": [
    "%%writefile -a test.txt\n",
    "\n",
    "add add add add\n",
    "something to test.txt."
   ]
  },
  {
   "cell_type": "markdown",
   "metadata": {},
   "source": [
    "Благодаря конструкции `with open` не надо задумываться о закрытии файла."
   ]
  },
  {
   "cell_type": "code",
   "execution_count": null,
   "metadata": {},
   "outputs": [],
   "source": [
    "f = open('test.txt') "
   ]
  },
  {
   "cell_type": "code",
   "execution_count": 196,
   "metadata": {
    "ExecuteTime": {
     "end_time": "2018-09-27T18:11:36.410383Z",
     "start_time": "2018-09-27T18:11:36.401686Z"
    }
   },
   "outputs": [],
   "source": [
    "with open('test.txt', 'w+') as f:\n",
    "    f.write('sdasdasd\\nasdasdw\\n')\n",
    "    \n"
   ]
  },
  {
   "cell_type": "code",
   "execution_count": 198,
   "metadata": {
    "ExecuteTime": {
     "end_time": "2018-09-27T18:11:55.871101Z",
     "start_time": "2018-09-27T18:11:55.860228Z"
    }
   },
   "outputs": [
    {
     "name": "stdout",
     "output_type": "stream",
     "text": [
      "sdasdasd\n",
      "asdasdw\n",
      "\n"
     ]
    }
   ],
   "source": [
    "with open('test.txt') as f:\n",
    "    print(f.read()) "
   ]
  },
  {
   "cell_type": "code",
   "execution_count": 199,
   "metadata": {
    "ExecuteTime": {
     "end_time": "2018-09-27T18:12:36.365674Z",
     "start_time": "2018-09-27T18:12:36.357374Z"
    }
   },
   "outputs": [
    {
     "name": "stdout",
     "output_type": "stream",
     "text": [
      "sdasdasd\n",
      "\n",
      "asdasdw\n",
      "\n"
     ]
    }
   ],
   "source": [
    "with open('test.txt') as f:\n",
    "    for line in f:\n",
    "        print(line) "
   ]
  },
  {
   "cell_type": "markdown",
   "metadata": {},
   "source": [
    "## Итерирование в файле"
   ]
  },
  {
   "cell_type": "code",
   "execution_count": null,
   "metadata": {},
   "outputs": [],
   "source": [
    "for line in open('test.txt'):\n",
    "    print(line)"
   ]
  },
  {
   "cell_type": "markdown",
   "metadata": {},
   "source": [
    "# Блиц 2\n",
    "\n",
    "1. Записать в файл первые 100 натуральных чисел, каждое с новой строки.\n",
    "2. Записать в файл 'Raven1.txt' кусок стихотворения, данный ниже. Затем прочитать стихотворения из этого файла и переписать в новый файл 'Raven2.txt' каждое второе предложение.\n",
    "\n",
    "`And the Raven, never flitting, still is sitting, still is sitting\n",
    "On the pallid bust of Pallas just above my chamber door;\n",
    "And his eyes have all the seeming of a demon’s that is dreaming,\n",
    "And the lamp-light o’er him streaming throws his shadow on the floor;\n",
    "And my soul from out that shadow that lies floating on the floor\n",
    "Shall be lifted—nevermore!`"
   ]
  },
  {
   "cell_type": "code",
   "execution_count": 207,
   "metadata": {
    "ExecuteTime": {
     "end_time": "2018-09-27T18:43:04.858335Z",
     "start_time": "2018-09-27T18:43:04.852825Z"
    }
   },
   "outputs": [],
   "source": [
    "numbers_fp = open('numbers.txt', 'w')\n",
    "for i in range(100):\n",
    "    numbers_fp.write(str(i) + '\\n')\n",
    "numbers_fp.close()"
   ]
  },
  {
   "cell_type": "code",
   "execution_count": 212,
   "metadata": {
    "ExecuteTime": {
     "end_time": "2018-09-27T18:44:05.007845Z",
     "start_time": "2018-09-27T18:44:05.000961Z"
    }
   },
   "outputs": [],
   "source": [
    "with open('numbers.txt', 'w') as numbers_fp:\n",
    "    for i in range(100):\n",
    "        numbers_fp.write(str(i) + '\\n')\n",
    "        #print(i, file=numbers_fp)"
   ]
  },
  {
   "cell_type": "code",
   "execution_count": 217,
   "metadata": {
    "ExecuteTime": {
     "end_time": "2018-09-27T18:45:52.058248Z",
     "start_time": "2018-09-27T18:45:52.053015Z"
    }
   },
   "outputs": [],
   "source": [
    "numbers_fp = open('numbers.txt', 'w')\n",
    "print('asdasd', file=numbers_fp)"
   ]
  },
  {
   "cell_type": "code",
   "execution_count": 218,
   "metadata": {
    "ExecuteTime": {
     "end_time": "2018-09-27T18:47:11.037882Z",
     "start_time": "2018-09-27T18:47:11.030737Z"
    }
   },
   "outputs": [],
   "source": [
    "poem = \"\"\"And the Raven, never flitting, still is sitting, still is sitting\n",
    "On the pallid bust of Pallas just above my chamber door;\n",
    "And his eyes have all the seeming of a demon’s that is dreaming,\n",
    "And the lamp-light o’er him streaming throws his shadow on the floor;\n",
    "And my soul from out that shadow that lies floating on the floor\n",
    "Shall be lifted—nevermore!\"\"\""
   ]
  },
  {
   "cell_type": "code",
   "execution_count": 222,
   "metadata": {
    "ExecuteTime": {
     "end_time": "2018-09-27T18:54:17.748090Z",
     "start_time": "2018-09-27T18:54:17.737305Z"
    }
   },
   "outputs": [],
   "source": [
    "with open('Raven1.txt', 'w') as poem_fp:\n",
    "    print(poem, file=poem_fp)"
   ]
  },
  {
   "cell_type": "code",
   "execution_count": 228,
   "metadata": {
    "ExecuteTime": {
     "end_time": "2018-09-27T18:57:35.485469Z",
     "start_time": "2018-09-27T18:57:35.472719Z"
    }
   },
   "outputs": [],
   "source": [
    "with open('Raven1.txt') as poem_fp, \\\n",
    "        open('Raven2.txt', 'w') as poem_even_fp:\n",
    "    for index, line in enumerate(poem_fp.read().split(';\\n')):\n",
    "        if index % 2 == 1:\n",
    "            print(line, file=poem_even_fp, end='') "
   ]
  },
  {
   "cell_type": "code",
   "execution_count": null,
   "metadata": {},
   "outputs": [],
   "source": []
  }
 ],
 "metadata": {
  "kernelspec": {
   "display_name": "Python 3",
   "language": "python",
   "name": "python3"
  },
  "language_info": {
   "codemirror_mode": {
    "name": "ipython",
    "version": 3
   },
   "file_extension": ".py",
   "mimetype": "text/x-python",
   "name": "python",
   "nbconvert_exporter": "python",
   "pygments_lexer": "ipython3",
   "version": "3.6.4"
  }
 },
 "nbformat": 4,
 "nbformat_minor": 1
}
