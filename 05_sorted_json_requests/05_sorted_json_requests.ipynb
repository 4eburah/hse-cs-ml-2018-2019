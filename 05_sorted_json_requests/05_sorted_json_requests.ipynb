{
 "cells": [
  {
   "cell_type": "markdown",
   "metadata": {},
   "source": [
    "## Функция sorted"
   ]
  },
  {
   "cell_type": "code",
   "execution_count": 55,
   "metadata": {
    "ExecuteTime": {
     "end_time": "2018-10-18T15:09:12.639787Z",
     "start_time": "2018-10-18T15:09:12.632302Z"
    }
   },
   "outputs": [
    {
     "data": {
      "text/plain": [
       "[-100, 1, 1, 2, 4, 5, 5]"
      ]
     },
     "execution_count": 55,
     "metadata": {},
     "output_type": "execute_result"
    }
   ],
   "source": [
    "my_list = [4, 5, 1, -100, 1, 2, 5]\n",
    "sorted(my_list)"
   ]
  },
  {
   "cell_type": "code",
   "execution_count": 56,
   "metadata": {
    "ExecuteTime": {
     "end_time": "2018-10-18T15:09:12.800745Z",
     "start_time": "2018-10-18T15:09:12.791140Z"
    }
   },
   "outputs": [
    {
     "data": {
      "text/plain": [
       "['', '_', 'a', 'aa', 'ab']"
      ]
     },
     "execution_count": 56,
     "metadata": {},
     "output_type": "execute_result"
    }
   ],
   "source": [
    "my_lines = ['aa', 'a', 'ab', '', '_']\n",
    "sorted(my_lines)"
   ]
  },
  {
   "cell_type": "code",
   "execution_count": 57,
   "metadata": {
    "ExecuteTime": {
     "end_time": "2018-10-18T15:09:12.955756Z",
     "start_time": "2018-10-18T15:09:12.944832Z"
    }
   },
   "outputs": [
    {
     "data": {
      "text/plain": [
       "{-100: 'z', 1: 'd', 2: 'e', 4: 'a', 5: 'k'}"
      ]
     },
     "execution_count": 57,
     "metadata": {},
     "output_type": "execute_result"
    }
   ],
   "source": [
    "my_dict = {4: 'a', 5: 'c', 1: 'a', -100: 'z', 1: 'd', 2: 'e', 5: 'k'}\n",
    "my_dict"
   ]
  },
  {
   "cell_type": "code",
   "execution_count": 58,
   "metadata": {
    "ExecuteTime": {
     "end_time": "2018-10-18T15:09:13.089727Z",
     "start_time": "2018-10-18T15:09:13.084357Z"
    }
   },
   "outputs": [
    {
     "data": {
      "text/plain": [
       "[-100, 1, 2, 4, 5]"
      ]
     },
     "execution_count": 58,
     "metadata": {},
     "output_type": "execute_result"
    }
   ],
   "source": [
    "sorted(my_dict)"
   ]
  },
  {
   "cell_type": "code",
   "execution_count": 59,
   "metadata": {
    "ExecuteTime": {
     "end_time": "2018-10-18T15:09:13.231659Z",
     "start_time": "2018-10-18T15:09:13.223746Z"
    }
   },
   "outputs": [
    {
     "data": {
      "text/plain": [
       "['a', 'd', 'e', 'k', 'z']"
      ]
     },
     "execution_count": 59,
     "metadata": {},
     "output_type": "execute_result"
    }
   ],
   "source": [
    "sorted(my_dict.values())"
   ]
  },
  {
   "cell_type": "code",
   "execution_count": 60,
   "metadata": {
    "ExecuteTime": {
     "end_time": "2018-10-18T15:09:13.365698Z",
     "start_time": "2018-10-18T15:09:13.359629Z"
    }
   },
   "outputs": [
    {
     "data": {
      "text/plain": [
       "dict_items([(4, 'a'), (5, 'k'), (1, 'd'), (-100, 'z'), (2, 'e')])"
      ]
     },
     "execution_count": 60,
     "metadata": {},
     "output_type": "execute_result"
    }
   ],
   "source": [
    "my_dict.items()"
   ]
  },
  {
   "cell_type": "code",
   "execution_count": 61,
   "metadata": {
    "ExecuteTime": {
     "end_time": "2018-10-18T15:09:13.511945Z",
     "start_time": "2018-10-18T15:09:13.503879Z"
    }
   },
   "outputs": [
    {
     "data": {
      "text/plain": [
       "[(-100, 'z'), (1, 'd'), (2, 'e'), (4, 'a'), (5, 'k')]"
      ]
     },
     "execution_count": 61,
     "metadata": {},
     "output_type": "execute_result"
    }
   ],
   "source": [
    "sorted(my_dict.items())"
   ]
  },
  {
   "cell_type": "code",
   "execution_count": 62,
   "metadata": {
    "ExecuteTime": {
     "end_time": "2018-10-18T15:09:14.359613Z",
     "start_time": "2018-10-18T15:09:14.352072Z"
    }
   },
   "outputs": [
    {
     "data": {
      "text/plain": [
       "[(5, 'k'), (4, 'a'), (2, 'e'), (1, 'd'), (-100, 'z')]"
      ]
     },
     "execution_count": 62,
     "metadata": {},
     "output_type": "execute_result"
    }
   ],
   "source": [
    "sorted(my_dict.items(), reverse=True)"
   ]
  },
  {
   "cell_type": "code",
   "execution_count": 63,
   "metadata": {
    "ExecuteTime": {
     "end_time": "2018-10-18T15:09:14.509511Z",
     "start_time": "2018-10-18T15:09:14.504658Z"
    }
   },
   "outputs": [],
   "source": [
    "def get_second_elem(x):\n",
    "    return x[1]"
   ]
  },
  {
   "cell_type": "code",
   "execution_count": 64,
   "metadata": {
    "ExecuteTime": {
     "end_time": "2018-10-18T15:09:14.643249Z",
     "start_time": "2018-10-18T15:09:14.637194Z"
    }
   },
   "outputs": [
    {
     "data": {
      "text/plain": [
       "[(4, 'a'), (1, 'd'), (2, 'e'), (5, 'k'), (-100, 'z')]"
      ]
     },
     "execution_count": 64,
     "metadata": {},
     "output_type": "execute_result"
    }
   ],
   "source": [
    "sorted(my_dict.items(), key=get_second_elem)"
   ]
  },
  {
   "cell_type": "code",
   "execution_count": 65,
   "metadata": {
    "ExecuteTime": {
     "end_time": "2018-10-18T15:09:15.194164Z",
     "start_time": "2018-10-18T15:09:15.185856Z"
    }
   },
   "outputs": [
    {
     "data": {
      "text/plain": [
       "[(4, 'a'), (1, 'd'), (2, 'e'), (5, 'k'), (-100, 'z')]"
      ]
     },
     "execution_count": 65,
     "metadata": {},
     "output_type": "execute_result"
    }
   ],
   "source": [
    "sorted(my_dict.items(), key=lambda x: x[1])"
   ]
  },
  {
   "cell_type": "markdown",
   "metadata": {},
   "source": [
    "# Блиц:"
   ]
  },
  {
   "cell_type": "markdown",
   "metadata": {
    "ExecuteTime": {
     "end_time": "2018-10-18T15:10:57.381976Z",
     "start_time": "2018-10-18T15:10:57.371837Z"
    }
   },
   "source": [
    "Дана фильмография актера. \n",
    "\n",
    "1. Отсортируйте фильмы по годам от новых к старым\n",
    "2. Отсортируйте фильмы по длине названия"
   ]
  },
  {
   "cell_type": "code",
   "execution_count": 70,
   "metadata": {
    "ExecuteTime": {
     "end_time": "2018-10-18T15:11:04.996430Z",
     "start_time": "2018-10-18T15:11:04.976777Z"
    }
   },
   "outputs": [],
   "source": [
    "movies = \"\"\"1983  ф Резиновое лицо  Rubberface (Introducting… Janet)  Тони Морони\n",
    "2000  ф Я, снова я и Ирэн Me, Myself and Irene  Офицер Чарли Бэйлигейтс/Хэнк\n",
    "2008  ф Всегда говори «Да»  Yes man Карл Аллен\n",
    "1989  ф Земные девушки легко доступны Earth Girls Are Easy  Уиплок\n",
    "1988  ф Смертельный список  The Dead Pool Джонни Squares\n",
    "2011  с Офис  The Office  Парень из Пальцевых Озер (одна серия)\n",
    "2009  ф Я люблю тебя, Филлип Моррис I Love You Phillip Morris Стив Рассел\n",
    "1983  ф Всё в хорошем вкусе All in Good Taste Ральф\n",
    "2009  мф  Рождественская история  A Christmas Carol Эбенезер Скрудж, призраки\n",
    "1984 — 1984 с Утиная фабрика  The Duck Factory  Скип Таркентон\n",
    "2007  ф Роковое число 23  Number 23 Уолтер Спэрроу\n",
    "2017  ф Джим и Энди - великое запределье  Оригинальное название неизвестно\n",
    "2008  мф  Хортон  Horton Hears a Who! Хортон (голос)\n",
    "2003  ф Брюс всемогущий Bruce Almighty  Брюс Нолан\n",
    "1996  ф Кабельщик The Cable Guy Кабельщик/Чип/Рики\n",
    "2009  ф Под морем в 3D  Under the Sea 3D  рассказчик\n",
    "2013  ф Невероятный Бёрт Уандерстоун  Burt Wonderstone  Стив Грэй\n",
    "1989  ф Розовый кадиллак  Pink Cadillac Комедиант\n",
    "2013  ф Телеведущий 2 Anchorman: The Legend Continues ведущий Скотт Райлс\n",
    "1999  ф Человек на Луне Man on the Moon Энди Кауфман/Тони Клифтон\n",
    "1994  ф Маска The Mask  Стэнли Ипкисс\n",
    "2011  ф Пингвины мистера Поппера  Mr. Popper’s Penguins Том Поппер\n",
    "2000  ф Гринч — похититель Рождества  How the Grinch Stole Christmas  Гринч\n",
    "1986  ф Пегги Сью вышла замуж Peggy Sue Got Married Уолтер Гетц\n",
    "1998  ф Шоу Трумана The Truman Show Трумэн Бёрбэнк\n",
    "1983  ф Гора Куппер Copper Mountain Бобби Тодд\n",
    "2013  ф Пипец 2 Kick-Ass 2  Полковник Америка\n",
    "1985  ф Однажды укушенный Once Bitten Марк Кендэлл\n",
    "2005  ф Аферисты Дик и Джейн  Fun with Dick and Jane  Дик Харпер\n",
    "1995  ф Бэтмен навсегда Batman Forever  Эдвард Нигма/Загадочник\n",
    "1990 — 1994 с В живом цвете In Living Color Различные роли\n",
    "1984  ф Чур, мое! Finders Keepers Лэйн Бидлекофф\n",
    "1995  ф Эйс Вентура 2: Когда зовёт природа  Ace Ventura: When Nature Calls  Эйс Вентура\n",
    "2016  ф Настоящее преступление  True Crimes Джек\n",
    "1993  ф Эйс Вентура: Розыск домашних животных Ace Ventura: Pet Detective  Эйс Вентура\n",
    "2016  ф Плохая партия The Bad Batch Питер\n",
    "2001  ф Мажестик  The Majestic  Питер Эпплтон\n",
    "1991  ф Нервы на пределе  High Strung Смерть\n",
    "2004  ф Лемони Сникет: 33 несчастья Lemony Snicket’s A Series of Unfortunate Events Граф Олаф\n",
    "2004  ф Вечное сияние чистого разума  Eternal Sunshine of the Spotless Mind Джоел Бэриш\n",
    "1997  ф Лжец, лжец  Liar Liar Флетчер Рид\n",
    "1992  мф  Крошечный паучок  Itsy Bitsy Spider Истребитель насекомых (голос)\n",
    "1992  ф Жизнь на Мэйпл-Драйв (ТВ) Doing Time on Maple Drive Тим Картер\n",
    "2014  ф Тупой и ещё тупее 2 Dumb & Dumber 2 Ллойд Кристмас\n",
    "1998  ф Саймон Бирч Simon Birch Взрослый Джо Вентеуорф\n",
    "1994  ф Тупой и ещё тупее Dumb & Dumber Ллойд Кристмас\"\"\""
   ]
  },
  {
   "cell_type": "markdown",
   "metadata": {},
   "source": [
    "# JSON \n",
    "(англ. JavaScript Object Notation) — текстовый формат обмена данными, основанный на JavaScript."
   ]
  },
  {
   "cell_type": "code",
   "execution_count": 1,
   "metadata": {
    "ExecuteTime": {
     "end_time": "2017-12-02T07:44:42.579743Z",
     "start_time": "2017-12-02T07:44:42.576020Z"
    }
   },
   "outputs": [],
   "source": [
    "import json"
   ]
  },
  {
   "cell_type": "markdown",
   "metadata": {},
   "source": [
    "#### Из JSON в Python:"
   ]
  },
  {
   "cell_type": "code",
   "execution_count": 2,
   "metadata": {
    "ExecuteTime": {
     "end_time": "2017-12-02T07:44:44.209699Z",
     "start_time": "2017-12-02T07:44:44.204383Z"
    }
   },
   "outputs": [
    {
     "data": {
      "text/plain": [
       "{'first_name': 'Guido', 'last_name': 'Rossum'}"
      ]
     },
     "execution_count": 2,
     "metadata": {},
     "output_type": "execute_result"
    }
   ],
   "source": [
    "json_string = '{\"first_name\": \"Guido\", \"last_name\":\"Rossum\"}'\n",
    "parsed_json = json.loads(json_string)\n",
    "parsed_json"
   ]
  },
  {
   "cell_type": "code",
   "execution_count": 3,
   "metadata": {
    "ExecuteTime": {
     "end_time": "2017-12-02T06:54:38.361019Z",
     "start_time": "2017-12-02T06:54:38.350998Z"
    }
   },
   "outputs": [
    {
     "name": "stdout",
     "output_type": "stream",
     "text": [
      "Guido\n"
     ]
    }
   ],
   "source": [
    "print(parsed_json['first_name'])"
   ]
  },
  {
   "cell_type": "markdown",
   "metadata": {},
   "source": [
    "#### Из Python в JSON:"
   ]
  },
  {
   "cell_type": "code",
   "execution_count": 4,
   "metadata": {
    "ExecuteTime": {
     "end_time": "2017-12-02T06:54:38.650054Z",
     "start_time": "2017-12-02T06:54:38.641466Z"
    }
   },
   "outputs": [
    {
     "name": "stdout",
     "output_type": "stream",
     "text": [
      "{\"first_name\": \"Guido\", \"second_name\": \"Rossum\", \"titles\": [\"BDFL\", \"Developer\"]}\n"
     ]
    }
   ],
   "source": [
    "d = {\n",
    "    'first_name': 'Guido',\n",
    "    'second_name': 'Rossum',\n",
    "    'titles': ['BDFL', 'Developer'],\n",
    "}\n",
    "\n",
    "print(json.dumps(d))"
   ]
  },
  {
   "cell_type": "markdown",
   "metadata": {},
   "source": [
    "#### Типы в JSON:"
   ]
  },
  {
   "cell_type": "code",
   "execution_count": 5,
   "metadata": {
    "ExecuteTime": {
     "end_time": "2017-12-02T06:54:39.980568Z",
     "start_time": "2017-12-02T06:54:39.970181Z"
    }
   },
   "outputs": [
    {
     "data": {
      "text/plain": [
       "'[\"foo\", {\"bar\": [\"baz\", null, true, 1.0, 2]}]'"
      ]
     },
     "execution_count": 5,
     "metadata": {},
     "output_type": "execute_result"
    }
   ],
   "source": [
    "json.dumps(['foo', {'bar': ('baz', None, True, 1.0, 2)}])"
   ]
  },
  {
   "cell_type": "code",
   "execution_count": 6,
   "metadata": {
    "ExecuteTime": {
     "end_time": "2017-12-02T06:54:40.122431Z",
     "start_time": "2017-12-02T06:54:40.118524Z"
    }
   },
   "outputs": [
    {
     "data": {
      "text/plain": [
       "['foo', {'bar': ['baz', None, True, 1.0, 2]}]"
      ]
     },
     "execution_count": 6,
     "metadata": {},
     "output_type": "execute_result"
    }
   ],
   "source": [
    "json.loads('[\"foo\", {\"bar\": [\"baz\", null, true, 1.0, 2]}]')"
   ]
  },
  {
   "cell_type": "markdown",
   "metadata": {},
   "source": [
    "#### Unicode:"
   ]
  },
  {
   "cell_type": "code",
   "execution_count": 7,
   "metadata": {
    "ExecuteTime": {
     "end_time": "2018-10-18T13:43:19.977204Z",
     "start_time": "2018-10-18T13:43:19.969128Z"
    }
   },
   "outputs": [
    {
     "data": {
      "text/plain": [
       "True"
      ]
     },
     "execution_count": 7,
     "metadata": {},
     "output_type": "execute_result"
    }
   ],
   "source": [
    "\"\\u043f\\u0440\\u0438\\u0432\\u0435\\u0442 \\u043c\\u0438\\u0440!\" == \"привет мир!\""
   ]
  },
  {
   "cell_type": "code",
   "execution_count": 11,
   "metadata": {
    "ExecuteTime": {
     "end_time": "2018-10-18T13:45:22.102756Z",
     "start_time": "2018-10-18T13:45:22.093022Z"
    }
   },
   "outputs": [
    {
     "data": {
      "text/plain": [
       "'\"\\\\u043f\\\\u0440\\\\u0438\\\\u0432\\\\u0435\\\\u0442 \\\\u043c\\\\u0438\\\\u0440!\"'"
      ]
     },
     "execution_count": 11,
     "metadata": {},
     "output_type": "execute_result"
    }
   ],
   "source": [
    "json.dumps('привет мир!')"
   ]
  },
  {
   "cell_type": "code",
   "execution_count": 12,
   "metadata": {
    "ExecuteTime": {
     "end_time": "2018-10-18T13:47:51.612750Z",
     "start_time": "2018-10-18T13:47:51.598228Z"
    }
   },
   "outputs": [
    {
     "name": "stdout",
     "output_type": "stream",
     "text": [
      "\"\\u043f\\u0440\\u0438\\u0432\\u0435\\u0442 \\u043c\\u0438\\u0440!\"\n",
      "привет мир!\n"
     ]
    }
   ],
   "source": [
    "with open('json_with_unicode.txt', 'w') as output_fp:\n",
    "    output_fp.write(json.dumps('привет мир!'))\n",
    "    \n",
    "with open('json_with_unicode.txt') as input_fp:\n",
    "    file_inwards = input_fp.read()\n",
    "    print(file_inwards)              # строка с unicode-кодами  \n",
    "    print(json.loads(file_inwards))  # после json.loads корректная строка с кириллицей"
   ]
  },
  {
   "cell_type": "markdown",
   "metadata": {},
   "source": [
    "#### Compact encoding:"
   ]
  },
  {
   "cell_type": "code",
   "execution_count": 8,
   "metadata": {
    "ExecuteTime": {
     "end_time": "2017-12-02T06:54:42.310129Z",
     "start_time": "2017-12-02T06:54:42.302757Z"
    }
   },
   "outputs": [
    {
     "data": {
      "text/plain": [
       "'[1,2,3,{\"4\":5,\"6\":7}]'"
      ]
     },
     "execution_count": 8,
     "metadata": {},
     "output_type": "execute_result"
    }
   ],
   "source": [
    "json.dumps([1, 2, 3, {'4': 5, '6': 7}], separators=(',', ':'))"
   ]
  },
  {
   "cell_type": "markdown",
   "metadata": {},
   "source": [
    "#### Pretty printing:"
   ]
  },
  {
   "cell_type": "code",
   "execution_count": 13,
   "metadata": {
    "ExecuteTime": {
     "end_time": "2018-10-18T13:50:01.300719Z",
     "start_time": "2018-10-18T13:50:01.286763Z"
    }
   },
   "outputs": [
    {
     "name": "stdout",
     "output_type": "stream",
     "text": [
      "{\n",
      "    \"4\": 7,\n",
      "    \"6\": 5\n",
      "}\n"
     ]
    }
   ],
   "source": [
    "print(json.dumps({'6': 5, '4': 7}, sort_keys=True, indent=4))"
   ]
  },
  {
   "cell_type": "markdown",
   "metadata": {},
   "source": [
    "#### Работа с файлами:"
   ]
  },
  {
   "cell_type": "code",
   "execution_count": 15,
   "metadata": {
    "ExecuteTime": {
     "end_time": "2017-12-02T07:51:05.379611Z",
     "start_time": "2017-12-02T07:51:05.374459Z"
    }
   },
   "outputs": [],
   "source": [
    "with open('train.json', 'w') as json_file:\n",
    "    json.dump({'4': 5, '6': 7}, json_file)"
   ]
  },
  {
   "cell_type": "code",
   "execution_count": 16,
   "metadata": {
    "ExecuteTime": {
     "end_time": "2017-12-02T07:51:05.789752Z",
     "start_time": "2017-12-02T07:51:05.785236Z"
    }
   },
   "outputs": [
    {
     "name": "stdout",
     "output_type": "stream",
     "text": [
      "{'4': 5, '6': 7}\n"
     ]
    }
   ],
   "source": [
    "with open('train.json') as json_file:\n",
    "    json_parsed = json.load(json_file)\n",
    "print(json_parsed)"
   ]
  },
  {
   "cell_type": "markdown",
   "metadata": {},
   "source": [
    "#### Неочевидные моменты:"
   ]
  },
  {
   "cell_type": "markdown",
   "metadata": {},
   "source": [
    "1) ключами в словаре могут быть только строчки:"
   ]
  },
  {
   "cell_type": "code",
   "execution_count": 17,
   "metadata": {
    "ExecuteTime": {
     "end_time": "2017-12-02T06:54:52.305118Z",
     "start_time": "2017-12-02T06:54:52.246959Z"
    }
   },
   "outputs": [
    {
     "ename": "JSONDecodeError",
     "evalue": "Expecting property name enclosed in double quotes: line 1 column 2 (char 1)",
     "output_type": "error",
     "traceback": [
      "\u001b[0;31m---------------------------------------------------------------------------\u001b[0m",
      "\u001b[0;31mJSONDecodeError\u001b[0m                           Traceback (most recent call last)",
      "\u001b[0;32m<ipython-input-17-cbed78d0b508>\u001b[0m in \u001b[0;36m<module>\u001b[0;34m()\u001b[0m\n\u001b[0;32m----> 1\u001b[0;31m \u001b[0mjson\u001b[0m\u001b[0;34m.\u001b[0m\u001b[0mloads\u001b[0m\u001b[0;34m(\u001b[0m\u001b[0;34m'{1: 2}'\u001b[0m\u001b[0;34m)\u001b[0m\u001b[0;34m\u001b[0m\u001b[0m\n\u001b[0m",
      "\u001b[0;32m~/miniconda3/lib/python3.6/json/__init__.py\u001b[0m in \u001b[0;36mloads\u001b[0;34m(s, encoding, cls, object_hook, parse_float, parse_int, parse_constant, object_pairs_hook, **kw)\u001b[0m\n\u001b[1;32m    352\u001b[0m             \u001b[0mparse_int\u001b[0m \u001b[0;32mis\u001b[0m \u001b[0;32mNone\u001b[0m \u001b[0;32mand\u001b[0m \u001b[0mparse_float\u001b[0m \u001b[0;32mis\u001b[0m \u001b[0;32mNone\u001b[0m \u001b[0;32mand\u001b[0m\u001b[0;34m\u001b[0m\u001b[0m\n\u001b[1;32m    353\u001b[0m             parse_constant is None and object_pairs_hook is None and not kw):\n\u001b[0;32m--> 354\u001b[0;31m         \u001b[0;32mreturn\u001b[0m \u001b[0m_default_decoder\u001b[0m\u001b[0;34m.\u001b[0m\u001b[0mdecode\u001b[0m\u001b[0;34m(\u001b[0m\u001b[0ms\u001b[0m\u001b[0;34m)\u001b[0m\u001b[0;34m\u001b[0m\u001b[0m\n\u001b[0m\u001b[1;32m    355\u001b[0m     \u001b[0;32mif\u001b[0m \u001b[0mcls\u001b[0m \u001b[0;32mis\u001b[0m \u001b[0;32mNone\u001b[0m\u001b[0;34m:\u001b[0m\u001b[0;34m\u001b[0m\u001b[0m\n\u001b[1;32m    356\u001b[0m         \u001b[0mcls\u001b[0m \u001b[0;34m=\u001b[0m \u001b[0mJSONDecoder\u001b[0m\u001b[0;34m\u001b[0m\u001b[0m\n",
      "\u001b[0;32m~/miniconda3/lib/python3.6/json/decoder.py\u001b[0m in \u001b[0;36mdecode\u001b[0;34m(self, s, _w)\u001b[0m\n\u001b[1;32m    337\u001b[0m \u001b[0;34m\u001b[0m\u001b[0m\n\u001b[1;32m    338\u001b[0m         \"\"\"\n\u001b[0;32m--> 339\u001b[0;31m         \u001b[0mobj\u001b[0m\u001b[0;34m,\u001b[0m \u001b[0mend\u001b[0m \u001b[0;34m=\u001b[0m \u001b[0mself\u001b[0m\u001b[0;34m.\u001b[0m\u001b[0mraw_decode\u001b[0m\u001b[0;34m(\u001b[0m\u001b[0ms\u001b[0m\u001b[0;34m,\u001b[0m \u001b[0midx\u001b[0m\u001b[0;34m=\u001b[0m\u001b[0m_w\u001b[0m\u001b[0;34m(\u001b[0m\u001b[0ms\u001b[0m\u001b[0;34m,\u001b[0m \u001b[0;36m0\u001b[0m\u001b[0;34m)\u001b[0m\u001b[0;34m.\u001b[0m\u001b[0mend\u001b[0m\u001b[0;34m(\u001b[0m\u001b[0;34m)\u001b[0m\u001b[0;34m)\u001b[0m\u001b[0;34m\u001b[0m\u001b[0m\n\u001b[0m\u001b[1;32m    340\u001b[0m         \u001b[0mend\u001b[0m \u001b[0;34m=\u001b[0m \u001b[0m_w\u001b[0m\u001b[0;34m(\u001b[0m\u001b[0ms\u001b[0m\u001b[0;34m,\u001b[0m \u001b[0mend\u001b[0m\u001b[0;34m)\u001b[0m\u001b[0;34m.\u001b[0m\u001b[0mend\u001b[0m\u001b[0;34m(\u001b[0m\u001b[0;34m)\u001b[0m\u001b[0;34m\u001b[0m\u001b[0m\n\u001b[1;32m    341\u001b[0m         \u001b[0;32mif\u001b[0m \u001b[0mend\u001b[0m \u001b[0;34m!=\u001b[0m \u001b[0mlen\u001b[0m\u001b[0;34m(\u001b[0m\u001b[0ms\u001b[0m\u001b[0;34m)\u001b[0m\u001b[0;34m:\u001b[0m\u001b[0;34m\u001b[0m\u001b[0m\n",
      "\u001b[0;32m~/miniconda3/lib/python3.6/json/decoder.py\u001b[0m in \u001b[0;36mraw_decode\u001b[0;34m(self, s, idx)\u001b[0m\n\u001b[1;32m    353\u001b[0m         \"\"\"\n\u001b[1;32m    354\u001b[0m         \u001b[0;32mtry\u001b[0m\u001b[0;34m:\u001b[0m\u001b[0;34m\u001b[0m\u001b[0m\n\u001b[0;32m--> 355\u001b[0;31m             \u001b[0mobj\u001b[0m\u001b[0;34m,\u001b[0m \u001b[0mend\u001b[0m \u001b[0;34m=\u001b[0m \u001b[0mself\u001b[0m\u001b[0;34m.\u001b[0m\u001b[0mscan_once\u001b[0m\u001b[0;34m(\u001b[0m\u001b[0ms\u001b[0m\u001b[0;34m,\u001b[0m \u001b[0midx\u001b[0m\u001b[0;34m)\u001b[0m\u001b[0;34m\u001b[0m\u001b[0m\n\u001b[0m\u001b[1;32m    356\u001b[0m         \u001b[0;32mexcept\u001b[0m \u001b[0mStopIteration\u001b[0m \u001b[0;32mas\u001b[0m \u001b[0merr\u001b[0m\u001b[0;34m:\u001b[0m\u001b[0;34m\u001b[0m\u001b[0m\n\u001b[1;32m    357\u001b[0m             \u001b[0;32mraise\u001b[0m \u001b[0mJSONDecodeError\u001b[0m\u001b[0;34m(\u001b[0m\u001b[0;34m\"Expecting value\"\u001b[0m\u001b[0;34m,\u001b[0m \u001b[0ms\u001b[0m\u001b[0;34m,\u001b[0m \u001b[0merr\u001b[0m\u001b[0;34m.\u001b[0m\u001b[0mvalue\u001b[0m\u001b[0;34m)\u001b[0m \u001b[0;32mfrom\u001b[0m \u001b[0;32mNone\u001b[0m\u001b[0;34m\u001b[0m\u001b[0m\n",
      "\u001b[0;31mJSONDecodeError\u001b[0m: Expecting property name enclosed in double quotes: line 1 column 2 (char 1)"
     ]
    }
   ],
   "source": [
    "json.loads('{1: 2}')"
   ]
  },
  {
   "cell_type": "markdown",
   "metadata": {},
   "source": [
    "2) строчки обрамляются только двойными кавычками: "
   ]
  },
  {
   "cell_type": "code",
   "execution_count": 18,
   "metadata": {
    "ExecuteTime": {
     "end_time": "2017-12-02T07:52:55.134128Z",
     "start_time": "2017-12-02T07:52:55.122454Z"
    }
   },
   "outputs": [
    {
     "ename": "JSONDecodeError",
     "evalue": "Expecting value: line 1 column 1 (char 0)",
     "output_type": "error",
     "traceback": [
      "\u001b[0;31m---------------------------------------------------------------------------\u001b[0m",
      "\u001b[0;31mJSONDecodeError\u001b[0m                           Traceback (most recent call last)",
      "\u001b[0;32m<ipython-input-18-b0808a497905>\u001b[0m in \u001b[0;36m<module>\u001b[0;34m()\u001b[0m\n\u001b[0;32m----> 1\u001b[0;31m \u001b[0mjson\u001b[0m\u001b[0;34m.\u001b[0m\u001b[0mloads\u001b[0m\u001b[0;34m(\u001b[0m\u001b[0;34m\"'string'\"\u001b[0m\u001b[0;34m)\u001b[0m\u001b[0;34m\u001b[0m\u001b[0m\n\u001b[0m",
      "\u001b[0;32m~/miniconda3/lib/python3.6/json/__init__.py\u001b[0m in \u001b[0;36mloads\u001b[0;34m(s, encoding, cls, object_hook, parse_float, parse_int, parse_constant, object_pairs_hook, **kw)\u001b[0m\n\u001b[1;32m    352\u001b[0m             \u001b[0mparse_int\u001b[0m \u001b[0;32mis\u001b[0m \u001b[0;32mNone\u001b[0m \u001b[0;32mand\u001b[0m \u001b[0mparse_float\u001b[0m \u001b[0;32mis\u001b[0m \u001b[0;32mNone\u001b[0m \u001b[0;32mand\u001b[0m\u001b[0;34m\u001b[0m\u001b[0m\n\u001b[1;32m    353\u001b[0m             parse_constant is None and object_pairs_hook is None and not kw):\n\u001b[0;32m--> 354\u001b[0;31m         \u001b[0;32mreturn\u001b[0m \u001b[0m_default_decoder\u001b[0m\u001b[0;34m.\u001b[0m\u001b[0mdecode\u001b[0m\u001b[0;34m(\u001b[0m\u001b[0ms\u001b[0m\u001b[0;34m)\u001b[0m\u001b[0;34m\u001b[0m\u001b[0m\n\u001b[0m\u001b[1;32m    355\u001b[0m     \u001b[0;32mif\u001b[0m \u001b[0mcls\u001b[0m \u001b[0;32mis\u001b[0m \u001b[0;32mNone\u001b[0m\u001b[0;34m:\u001b[0m\u001b[0;34m\u001b[0m\u001b[0m\n\u001b[1;32m    356\u001b[0m         \u001b[0mcls\u001b[0m \u001b[0;34m=\u001b[0m \u001b[0mJSONDecoder\u001b[0m\u001b[0;34m\u001b[0m\u001b[0m\n",
      "\u001b[0;32m~/miniconda3/lib/python3.6/json/decoder.py\u001b[0m in \u001b[0;36mdecode\u001b[0;34m(self, s, _w)\u001b[0m\n\u001b[1;32m    337\u001b[0m \u001b[0;34m\u001b[0m\u001b[0m\n\u001b[1;32m    338\u001b[0m         \"\"\"\n\u001b[0;32m--> 339\u001b[0;31m         \u001b[0mobj\u001b[0m\u001b[0;34m,\u001b[0m \u001b[0mend\u001b[0m \u001b[0;34m=\u001b[0m \u001b[0mself\u001b[0m\u001b[0;34m.\u001b[0m\u001b[0mraw_decode\u001b[0m\u001b[0;34m(\u001b[0m\u001b[0ms\u001b[0m\u001b[0;34m,\u001b[0m \u001b[0midx\u001b[0m\u001b[0;34m=\u001b[0m\u001b[0m_w\u001b[0m\u001b[0;34m(\u001b[0m\u001b[0ms\u001b[0m\u001b[0;34m,\u001b[0m \u001b[0;36m0\u001b[0m\u001b[0;34m)\u001b[0m\u001b[0;34m.\u001b[0m\u001b[0mend\u001b[0m\u001b[0;34m(\u001b[0m\u001b[0;34m)\u001b[0m\u001b[0;34m)\u001b[0m\u001b[0;34m\u001b[0m\u001b[0m\n\u001b[0m\u001b[1;32m    340\u001b[0m         \u001b[0mend\u001b[0m \u001b[0;34m=\u001b[0m \u001b[0m_w\u001b[0m\u001b[0;34m(\u001b[0m\u001b[0ms\u001b[0m\u001b[0;34m,\u001b[0m \u001b[0mend\u001b[0m\u001b[0;34m)\u001b[0m\u001b[0;34m.\u001b[0m\u001b[0mend\u001b[0m\u001b[0;34m(\u001b[0m\u001b[0;34m)\u001b[0m\u001b[0;34m\u001b[0m\u001b[0m\n\u001b[1;32m    341\u001b[0m         \u001b[0;32mif\u001b[0m \u001b[0mend\u001b[0m \u001b[0;34m!=\u001b[0m \u001b[0mlen\u001b[0m\u001b[0;34m(\u001b[0m\u001b[0ms\u001b[0m\u001b[0;34m)\u001b[0m\u001b[0;34m:\u001b[0m\u001b[0;34m\u001b[0m\u001b[0m\n",
      "\u001b[0;32m~/miniconda3/lib/python3.6/json/decoder.py\u001b[0m in \u001b[0;36mraw_decode\u001b[0;34m(self, s, idx)\u001b[0m\n\u001b[1;32m    355\u001b[0m             \u001b[0mobj\u001b[0m\u001b[0;34m,\u001b[0m \u001b[0mend\u001b[0m \u001b[0;34m=\u001b[0m \u001b[0mself\u001b[0m\u001b[0;34m.\u001b[0m\u001b[0mscan_once\u001b[0m\u001b[0;34m(\u001b[0m\u001b[0ms\u001b[0m\u001b[0;34m,\u001b[0m \u001b[0midx\u001b[0m\u001b[0;34m)\u001b[0m\u001b[0;34m\u001b[0m\u001b[0m\n\u001b[1;32m    356\u001b[0m         \u001b[0;32mexcept\u001b[0m \u001b[0mStopIteration\u001b[0m \u001b[0;32mas\u001b[0m \u001b[0merr\u001b[0m\u001b[0;34m:\u001b[0m\u001b[0;34m\u001b[0m\u001b[0m\n\u001b[0;32m--> 357\u001b[0;31m             \u001b[0;32mraise\u001b[0m \u001b[0mJSONDecodeError\u001b[0m\u001b[0;34m(\u001b[0m\u001b[0;34m\"Expecting value\"\u001b[0m\u001b[0;34m,\u001b[0m \u001b[0ms\u001b[0m\u001b[0;34m,\u001b[0m \u001b[0merr\u001b[0m\u001b[0;34m.\u001b[0m\u001b[0mvalue\u001b[0m\u001b[0;34m)\u001b[0m \u001b[0;32mfrom\u001b[0m \u001b[0;32mNone\u001b[0m\u001b[0;34m\u001b[0m\u001b[0m\n\u001b[0m\u001b[1;32m    358\u001b[0m         \u001b[0;32mreturn\u001b[0m \u001b[0mobj\u001b[0m\u001b[0;34m,\u001b[0m \u001b[0mend\u001b[0m\u001b[0;34m\u001b[0m\u001b[0m\n",
      "\u001b[0;31mJSONDecodeError\u001b[0m: Expecting value: line 1 column 1 (char 0)"
     ]
    }
   ],
   "source": [
    "json.loads(\"'string'\")"
   ]
  },
  {
   "cell_type": "markdown",
   "metadata": {},
   "source": [
    "3) в JSON нельзя поместить set:"
   ]
  },
  {
   "cell_type": "code",
   "execution_count": 19,
   "metadata": {
    "ExecuteTime": {
     "end_time": "2017-12-02T06:54:54.517685Z",
     "start_time": "2017-12-02T06:54:54.502436Z"
    }
   },
   "outputs": [
    {
     "ename": "TypeError",
     "evalue": "Object of type 'set' is not JSON serializable",
     "output_type": "error",
     "traceback": [
      "\u001b[0;31m---------------------------------------------------------------------------\u001b[0m",
      "\u001b[0;31mTypeError\u001b[0m                                 Traceback (most recent call last)",
      "\u001b[0;32m<ipython-input-19-edceb60c2afe>\u001b[0m in \u001b[0;36m<module>\u001b[0;34m()\u001b[0m\n\u001b[1;32m      1\u001b[0m \u001b[0mmy_set\u001b[0m \u001b[0;34m=\u001b[0m \u001b[0mset\u001b[0m\u001b[0;34m(\u001b[0m\u001b[0;34m(\u001b[0m\u001b[0;36m1\u001b[0m\u001b[0;34m,\u001b[0m\u001b[0;36m2\u001b[0m\u001b[0;34m,\u001b[0m\u001b[0;36m3\u001b[0m\u001b[0;34m)\u001b[0m\u001b[0;34m)\u001b[0m\u001b[0;34m\u001b[0m\u001b[0m\n\u001b[0;32m----> 2\u001b[0;31m \u001b[0mjson\u001b[0m\u001b[0;34m.\u001b[0m\u001b[0mdumps\u001b[0m\u001b[0;34m(\u001b[0m\u001b[0mmy_set\u001b[0m\u001b[0;34m)\u001b[0m\u001b[0;34m\u001b[0m\u001b[0m\n\u001b[0m",
      "\u001b[0;32m~/miniconda3/lib/python3.6/json/__init__.py\u001b[0m in \u001b[0;36mdumps\u001b[0;34m(obj, skipkeys, ensure_ascii, check_circular, allow_nan, cls, indent, separators, default, sort_keys, **kw)\u001b[0m\n\u001b[1;32m    229\u001b[0m         \u001b[0mcls\u001b[0m \u001b[0;32mis\u001b[0m \u001b[0;32mNone\u001b[0m \u001b[0;32mand\u001b[0m \u001b[0mindent\u001b[0m \u001b[0;32mis\u001b[0m \u001b[0;32mNone\u001b[0m \u001b[0;32mand\u001b[0m \u001b[0mseparators\u001b[0m \u001b[0;32mis\u001b[0m \u001b[0;32mNone\u001b[0m \u001b[0;32mand\u001b[0m\u001b[0;34m\u001b[0m\u001b[0m\n\u001b[1;32m    230\u001b[0m         default is None and not sort_keys and not kw):\n\u001b[0;32m--> 231\u001b[0;31m         \u001b[0;32mreturn\u001b[0m \u001b[0m_default_encoder\u001b[0m\u001b[0;34m.\u001b[0m\u001b[0mencode\u001b[0m\u001b[0;34m(\u001b[0m\u001b[0mobj\u001b[0m\u001b[0;34m)\u001b[0m\u001b[0;34m\u001b[0m\u001b[0m\n\u001b[0m\u001b[1;32m    232\u001b[0m     \u001b[0;32mif\u001b[0m \u001b[0mcls\u001b[0m \u001b[0;32mis\u001b[0m \u001b[0;32mNone\u001b[0m\u001b[0;34m:\u001b[0m\u001b[0;34m\u001b[0m\u001b[0m\n\u001b[1;32m    233\u001b[0m         \u001b[0mcls\u001b[0m \u001b[0;34m=\u001b[0m \u001b[0mJSONEncoder\u001b[0m\u001b[0;34m\u001b[0m\u001b[0m\n",
      "\u001b[0;32m~/miniconda3/lib/python3.6/json/encoder.py\u001b[0m in \u001b[0;36mencode\u001b[0;34m(self, o)\u001b[0m\n\u001b[1;32m    197\u001b[0m         \u001b[0;31m# exceptions aren't as detailed.  The list call should be roughly\u001b[0m\u001b[0;34m\u001b[0m\u001b[0;34m\u001b[0m\u001b[0m\n\u001b[1;32m    198\u001b[0m         \u001b[0;31m# equivalent to the PySequence_Fast that ''.join() would do.\u001b[0m\u001b[0;34m\u001b[0m\u001b[0;34m\u001b[0m\u001b[0m\n\u001b[0;32m--> 199\u001b[0;31m         \u001b[0mchunks\u001b[0m \u001b[0;34m=\u001b[0m \u001b[0mself\u001b[0m\u001b[0;34m.\u001b[0m\u001b[0miterencode\u001b[0m\u001b[0;34m(\u001b[0m\u001b[0mo\u001b[0m\u001b[0;34m,\u001b[0m \u001b[0m_one_shot\u001b[0m\u001b[0;34m=\u001b[0m\u001b[0;32mTrue\u001b[0m\u001b[0;34m)\u001b[0m\u001b[0;34m\u001b[0m\u001b[0m\n\u001b[0m\u001b[1;32m    200\u001b[0m         \u001b[0;32mif\u001b[0m \u001b[0;32mnot\u001b[0m \u001b[0misinstance\u001b[0m\u001b[0;34m(\u001b[0m\u001b[0mchunks\u001b[0m\u001b[0;34m,\u001b[0m \u001b[0;34m(\u001b[0m\u001b[0mlist\u001b[0m\u001b[0;34m,\u001b[0m \u001b[0mtuple\u001b[0m\u001b[0;34m)\u001b[0m\u001b[0;34m)\u001b[0m\u001b[0;34m:\u001b[0m\u001b[0;34m\u001b[0m\u001b[0m\n\u001b[1;32m    201\u001b[0m             \u001b[0mchunks\u001b[0m \u001b[0;34m=\u001b[0m \u001b[0mlist\u001b[0m\u001b[0;34m(\u001b[0m\u001b[0mchunks\u001b[0m\u001b[0;34m)\u001b[0m\u001b[0;34m\u001b[0m\u001b[0m\n",
      "\u001b[0;32m~/miniconda3/lib/python3.6/json/encoder.py\u001b[0m in \u001b[0;36miterencode\u001b[0;34m(self, o, _one_shot)\u001b[0m\n\u001b[1;32m    255\u001b[0m                 \u001b[0mself\u001b[0m\u001b[0;34m.\u001b[0m\u001b[0mkey_separator\u001b[0m\u001b[0;34m,\u001b[0m \u001b[0mself\u001b[0m\u001b[0;34m.\u001b[0m\u001b[0mitem_separator\u001b[0m\u001b[0;34m,\u001b[0m \u001b[0mself\u001b[0m\u001b[0;34m.\u001b[0m\u001b[0msort_keys\u001b[0m\u001b[0;34m,\u001b[0m\u001b[0;34m\u001b[0m\u001b[0m\n\u001b[1;32m    256\u001b[0m                 self.skipkeys, _one_shot)\n\u001b[0;32m--> 257\u001b[0;31m         \u001b[0;32mreturn\u001b[0m \u001b[0m_iterencode\u001b[0m\u001b[0;34m(\u001b[0m\u001b[0mo\u001b[0m\u001b[0;34m,\u001b[0m \u001b[0;36m0\u001b[0m\u001b[0;34m)\u001b[0m\u001b[0;34m\u001b[0m\u001b[0m\n\u001b[0m\u001b[1;32m    258\u001b[0m \u001b[0;34m\u001b[0m\u001b[0m\n\u001b[1;32m    259\u001b[0m def _make_iterencode(markers, _default, _encoder, _indent, _floatstr,\n",
      "\u001b[0;32m~/miniconda3/lib/python3.6/json/encoder.py\u001b[0m in \u001b[0;36mdefault\u001b[0;34m(self, o)\u001b[0m\n\u001b[1;32m    178\u001b[0m         \"\"\"\n\u001b[1;32m    179\u001b[0m         raise TypeError(\"Object of type '%s' is not JSON serializable\" %\n\u001b[0;32m--> 180\u001b[0;31m                         o.__class__.__name__)\n\u001b[0m\u001b[1;32m    181\u001b[0m \u001b[0;34m\u001b[0m\u001b[0m\n\u001b[1;32m    182\u001b[0m     \u001b[0;32mdef\u001b[0m \u001b[0mencode\u001b[0m\u001b[0;34m(\u001b[0m\u001b[0mself\u001b[0m\u001b[0;34m,\u001b[0m \u001b[0mo\u001b[0m\u001b[0;34m)\u001b[0m\u001b[0;34m:\u001b[0m\u001b[0;34m\u001b[0m\u001b[0m\n",
      "\u001b[0;31mTypeError\u001b[0m: Object of type 'set' is not JSON serializable"
     ]
    }
   ],
   "source": [
    "my_set = set((1,2,3))\n",
    "json.dumps(my_set)"
   ]
  },
  {
   "cell_type": "markdown",
   "metadata": {},
   "source": [
    "### Блиц:\n",
    "\n",
    "1. Телефонный справочник.\n",
    "Создайте dict, в котором в ключах будут имена, а в значениях - телефонные номера. Преобразуйте его в json-файл с помощью функции json.dump\n",
    "\n",
    "2. Прочитайте файл json_task1.json -> сконвертируйте в python-объект (функция json.load) -> выведите слово \"world\" (оно является значением во вложенном dict'е)\n",
    "\n",
    "3. Исправьте синтаксические ошибки в файле json_task2.json и сконвертируйте в python-объект (функция json.load)"
   ]
  },
  {
   "cell_type": "code",
   "execution_count": null,
   "metadata": {
    "collapsed": true
   },
   "outputs": [],
   "source": []
  },
  {
   "cell_type": "markdown",
   "metadata": {
    "ExecuteTime": {
     "end_time": "2018-10-18T14:03:03.784907Z",
     "start_time": "2018-10-18T14:03:03.779762Z"
    }
   },
   "source": [
    "# Библиотека requests\n",
    "http://docs.python-requests.org/en/master/"
   ]
  },
  {
   "cell_type": "code",
   "execution_count": 15,
   "metadata": {
    "ExecuteTime": {
     "end_time": "2018-10-18T14:03:16.927504Z",
     "start_time": "2018-10-18T14:03:15.509993Z"
    }
   },
   "outputs": [],
   "source": [
    "import requests\n",
    "response = requests.get('http://docs.python-requests.org/en/master/')"
   ]
  },
  {
   "cell_type": "code",
   "execution_count": 16,
   "metadata": {
    "ExecuteTime": {
     "end_time": "2018-10-18T14:03:24.319925Z",
     "start_time": "2018-10-18T14:03:24.314149Z"
    },
    "collapsed": true
   },
   "outputs": [
    {
     "name": "stdout",
     "output_type": "stream",
     "text": [
      "\n",
      "<!DOCTYPE html PUBLIC \"-//W3C//DTD XHTML 1.0 Transitional//EN\"\n",
      "  \"http://www.w3.org/TR/xhtml1/DTD/xhtml1-transitional.dtd\">\n",
      "\n",
      "<html xmlns=\"http://www.w3.org/1999/xhtml\" lang=\"en\">\n",
      "  <head>\n",
      "    <meta http-equiv=\"X-UA-Compatible\" content=\"IE=Edge\" />\n",
      "    <meta http-equiv=\"Content-Type\" content=\"text/html; charset=utf-8\" />\n",
      "    <title>Requests: HTTP for Humansâ¢ &#8212; Requests 2.19.1 documentation</title>\n",
      "    <link rel=\"stylesheet\" href=\"_static/alabaster.css\" type=\"text/css\" />\n",
      "    <link rel=\"stylesheet\" href=\"_static/pygments.css\" type=\"text/css\" />\n",
      "    <link rel=\"stylesheet\" href=\"https://media.readthedocs.org/css/badge_only.css\" type=\"text/css\" />\n",
      "    <script type=\"text/javascript\" id=\"documentation_options\" data-url_root=\"#\" src=\"_static/documentation_options.js\"></script>\n",
      "    <script type=\"text/javascript\" src=\"https://media.readthedocs.org/javascript/jquery/jquery-2.0.3.min.js\"></script>\n",
      "    <script type=\"text/javascript\" src=\"https://media.readthedocs.org/javascript/jquery/jquery-migrate-1.2.1.min.js\"></script>\n",
      "    <script type=\"text/javascript\" src=\"https://media.readthedocs.org/javascript/underscore.js\"></script>\n",
      "    <script type=\"text/javascript\" src=\"https://media.readthedocs.org/javascript/doctools.js\"></script>\n",
      "    <script type=\"text/javascript\" src=\"https://media.readthedocs.org/javascript/readthedocs-doc-embed.js\"></script>\n",
      "    <link rel=\"index\" title=\"Index\" href=\"genindex/\" />\n",
      "    <link rel=\"search\" title=\"Search\" href=\"search/\" />\n",
      "    <link rel=\"next\" title=\"Introduction\" href=\"user/intro/\" />\n",
      "   \n",
      "  <link rel=\"stylesheet\" href=\"_static/custom.css\" type=\"text/css\" />\n",
      "  \n",
      "  \n",
      "  <meta name=\"viewport\" content=\"width=device-width, initial-scale=0.9, maximum-scale=0.9\" />\n",
      "\n",
      "  \n",
      "<!-- RTD Extra Head -->\n",
      "\n",
      "<!-- \n",
      "Always link to the latest version, as canonical.\n",
      "http://docs.readthedocs.org/en/latest/canonical.html\n",
      "-->\n",
      "<link rel=\"canonical\" href=\"http://docs.python-requests.org/en/master/\" />\n",
      "\n",
      "<link rel=\"stylesheet\" href=\"https://media.readthedocs.org/css/readthedocs-doc-embed.css\" type=\"text/css\" />\n",
      "\n",
      "<script type=\"text/javascript\" src=\"_static/readthedocs-data.js\"></script>\n",
      "\n",
      "<!-- Add page-specific data, which must exist in the page js, not global -->\n",
      "<script type=\"text/javascript\">\n",
      "READTHEDOCS_DATA['page'] = 'index'\n",
      "READTHEDOCS_DATA['source_suffix'] = '.rst'\n",
      "</script>\n",
      "\n",
      "<script type=\"text/javascript\" src=\"https://media.readthedocs.org/javascript/readthedocs-analytics.js\"></script>\n",
      "\n",
      "<!-- end RTD <extrahead> -->\n",
      "</head><body>\n",
      "  \n",
      "\n",
      "    <div class=\"document\">\n",
      "      <div class=\"documentwrapper\">\n",
      "        <div class=\"bodywrapper\">\n",
      "          \n",
      "\n",
      "          <div class=\"body\" role=\"main\">\n",
      "            \n",
      "  <div class=\"section\" id=\"requests-http-for-humans\">\n",
      "<h1>Requests: HTTP for Humansâ¢<a class=\"headerlink\" href=\"#requests-http-for-humans\" title=\"Permalink to this headline\">Â¶</a></h1>\n",
      "<p>Release v2.19.1. (<a class=\"reference internal\" href=\"user/install/#install\"><span class=\"std std-ref\">Installation</span></a>)</p>\n",
      "<a class=\"reference external image-reference\" href=\"https://pypi.org/project/requests/\"><img alt=\"https://img.shields.io/pypi/l/requests.svg\" src=\"https://img.shields.io/pypi/l/requests.svg\" /></a>\n",
      "<a class=\"reference external image-reference\" href=\"https://pypi.org/project/requests/\"><img alt=\"https://img.shields.io/pypi/wheel/requests.svg\" src=\"https://img.shields.io/pypi/wheel/requests.svg\" /></a>\n",
      "<a class=\"reference external image-reference\" href=\"https://pypi.org/project/requests/\"><img alt=\"https://img.shields.io/pypi/pyversions/requests.svg\" src=\"https://img.shields.io/pypi/pyversions/requests.svg\" /></a>\n",
      "<a class=\"reference external image-reference\" href=\"https://codecov.io/github/requests/requests\"><img alt=\"codecov.io\" src=\"https://codecov.io/github/requests/requests/coverage.svg?branch=master\" /></a>\n",
      "<a class=\"reference external image-reference\" href=\"https://saythanks.io/to/kennethreitz\"><img alt=\"https://img.shields.io/badge/Say%20Thanks!-ð¦-1EAEDB.svg\" src=\"https://img.shields.io/badge/Say%20Thanks!-ð¦-1EAEDB.svg\" /></a>\n",
      "<p><strong>Requests</strong> is the only <em>Non-GMO</em> HTTP library for Python, safe for human\n",
      "consumption.</p>\n",
      "<div class=\"admonition note\">\n",
      "<p class=\"first admonition-title\">Note</p>\n",
      "<p class=\"last\">The use of <strong>Python 3</strong> is <em>highly</em> preferred over Python 2. Consider upgrading your applications and infrastructure if you find yourself <em>still</em> using Python 2 in production today. If you are using Python 3, congratulations â&nbsp;you are indeed a person of excellent taste.\n",
      "â<em>Kenneth Reitz</em></p>\n",
      "</div>\n",
      "<p>If youâre interested in financially supporting Kenneth Reitz open source, consider visiting  <a class=\"reference external\" href=\"https://cash.me/kennethreitz\">this link</a>. Your support helps tremendously with sustainability of motivation, as Open Source is no longer part of my day job.</p>\n",
      "<hr class=\"docutils\" />\n",
      "<p><strong>Behold, the power of Requests</strong>:</p>\n",
      "<div class=\"highlight-default notranslate\"><div class=\"highlight\"><pre><span></span><span class=\"gp\">&gt;&gt;&gt; </span><span class=\"n\">r</span> <span class=\"o\">=</span> <span class=\"n\">requests</span><span class=\"o\">.</span><span class=\"n\">get</span><span class=\"p\">(</span><span class=\"s1\">&#39;https://api.github.com/user&#39;</span><span class=\"p\">,</span> <span class=\"n\">auth</span><span class=\"o\">=</span><span class=\"p\">(</span><span class=\"s1\">&#39;user&#39;</span><span class=\"p\">,</span> <span class=\"s1\">&#39;pass&#39;</span><span class=\"p\">))</span>\n",
      "<span class=\"gp\">&gt;&gt;&gt; </span><span class=\"n\">r</span><span class=\"o\">.</span><span class=\"n\">status_code</span>\n",
      "<span class=\"go\">200</span>\n",
      "<span class=\"gp\">&gt;&gt;&gt; </span><span class=\"n\">r</span><span class=\"o\">.</span><span class=\"n\">headers</span><span class=\"p\">[</span><span class=\"s1\">&#39;content-type&#39;</span><span class=\"p\">]</span>\n",
      "<span class=\"go\">&#39;application/json; charset=utf8&#39;</span>\n",
      "<span class=\"gp\">&gt;&gt;&gt; </span><span class=\"n\">r</span><span class=\"o\">.</span><span class=\"n\">encoding</span>\n",
      "<span class=\"go\">&#39;utf-8&#39;</span>\n",
      "<span class=\"gp\">&gt;&gt;&gt; </span><span class=\"n\">r</span><span class=\"o\">.</span><span class=\"n\">text</span>\n",
      "<span class=\"go\">u&#39;{&quot;type&quot;:&quot;User&quot;...&#39;</span>\n",
      "<span class=\"gp\">&gt;&gt;&gt; </span><span class=\"n\">r</span><span class=\"o\">.</span><span class=\"n\">json</span><span class=\"p\">()</span>\n",
      "<span class=\"go\">{u&#39;private_gists&#39;: 419, u&#39;total_private_repos&#39;: 77, ...}</span>\n",
      "</pre></div>\n",
      "</div>\n",
      "<p>See <a class=\"reference external\" href=\"https://gist.github.com/973705\">similar code, sans Requests</a>.</p>\n",
      "<p><strong>Requests</strong> allows you to send <em>organic, grass-fed</em> HTTP/1.1 requests, without the\n",
      "need for manual labor. Thereâs no need to manually add query strings to your\n",
      "URLs, or to form-encode your POST data. Keep-alive and HTTP connection pooling\n",
      "are 100% automatic, thanks to <a class=\"reference external\" href=\"https://github.com/shazow/urllib3\">urllib3</a>.</p>\n",
      "<div class=\"section\" id=\"user-testimonials\">\n",
      "<h2>User Testimonials<a class=\"headerlink\" href=\"#user-testimonials\" title=\"Permalink to this headline\">Â¶</a></h2>\n",
      "<p>Nike, Twitter, Spotify, Microsoft, Amazon, Lyft, BuzzFeed, Reddit, The NSA, Her Majestyâs Government, Google, Twilio, Runscope, Mozilla, Heroku,\n",
      "PayPal, NPR, Obama for America, Transifex, Native Instruments, The Washington\n",
      "Post, SoundCloud, Kippt, Sony, and Federal U.S.\n",
      "Institutions that prefer to be unnamed claim to use Requests internally.</p>\n",
      "<dl class=\"docutils\">\n",
      "<dt><strong>Armin Ronacher</strong>, creator of Flaskâ</dt>\n",
      "<dd><em>Requests is the perfect example how beautiful an API can be with the\n",
      "right level of abstraction.</em></dd>\n",
      "<dt><strong>Matt DeBoard</strong>â</dt>\n",
      "<dd><em>Iâm going to get Kenneth Reitzâs Python requests module tattooed\n",
      "on my body, somehow. The whole thing.</em></dd>\n",
      "<dt><strong>Daniel Greenfeld</strong>â</dt>\n",
      "<dd><em>Nuked a 1200 LOC spaghetti code library with 10 lines of code thanks to\n",
      "Kenneth Reitzâs Requests library. Today has been AWESOME.</em></dd>\n",
      "<dt><strong>Kenny Meyers</strong>â</dt>\n",
      "<dd><em>Python HTTP: When in doubt, or when not in doubt, use Requests. Beautiful,\n",
      "simple, Pythonic.</em></dd>\n",
      "</dl>\n",
      "<p>Requests is one of the most downloaded Python packages of all time, pulling in\n",
      "over 400,000 downloads <strong>each day</strong>. Join the party!</p>\n",
      "<p>If your organization uses Requests internally, consider <a class=\"reference external\" href=\"https://www.kennethreitz.org/requests3\">supporting the development of 3.0</a>. Your\n",
      "generosity will be greatly appreciated, and help drive the project forward\n",
      "into the future.</p>\n",
      "</div>\n",
      "<div class=\"section\" id=\"beloved-features\">\n",
      "<h2>Beloved Features<a class=\"headerlink\" href=\"#beloved-features\" title=\"Permalink to this headline\">Â¶</a></h2>\n",
      "<p>Requests is ready for todayâs web.</p>\n",
      "<ul class=\"simple\">\n",
      "<li>Keep-Alive &amp; Connection Pooling</li>\n",
      "<li>International Domains and URLs</li>\n",
      "<li>Sessions with Cookie Persistence</li>\n",
      "<li>Browser-style SSL Verification</li>\n",
      "<li>Automatic Content Decoding</li>\n",
      "<li>Basic/Digest Authentication</li>\n",
      "<li>Elegant Key/Value Cookies</li>\n",
      "<li>Automatic Decompression</li>\n",
      "<li>Unicode Response Bodies</li>\n",
      "<li>HTTP(S) Proxy Support</li>\n",
      "<li>Multipart File Uploads</li>\n",
      "<li>Streaming Downloads</li>\n",
      "<li>Connection Timeouts</li>\n",
      "<li>Chunked Requests</li>\n",
      "<li><code class=\"docutils literal notranslate\"><span class=\"pre\">.netrc</span></code> Support</li>\n",
      "</ul>\n",
      "<p>Requests officially supports Python 2.7 &amp; 3.4â3.7, and runs great on PyPy.</p>\n",
      "</div>\n",
      "<div class=\"section\" id=\"the-user-guide\">\n",
      "<h2>The User Guide<a class=\"headerlink\" href=\"#the-user-guide\" title=\"Permalink to this headline\">Â¶</a></h2>\n",
      "<p>This part of the documentation, which is mostly prose, begins with some\n",
      "background information about Requests, then focuses on step-by-step\n",
      "instructions for getting the most out of Requests.</p>\n",
      "<div class=\"toctree-wrapper compound\">\n",
      "<ul>\n",
      "<li class=\"toctree-l1\"><a class=\"reference internal\" href=\"user/intro/\">Introduction</a><ul>\n",
      "<li class=\"toctree-l2\"><a class=\"reference internal\" href=\"user/intro/#philosophy\">Philosophy</a></li>\n",
      "<li class=\"toctree-l2\"><a class=\"reference internal\" href=\"user/intro/#apache2-license\">Apache2 License</a></li>\n",
      "<li class=\"toctree-l2\"><a class=\"reference internal\" href=\"user/intro/#requests-license\">Requests License</a></li>\n",
      "</ul>\n",
      "</li>\n",
      "<li class=\"toctree-l1\"><a class=\"reference internal\" href=\"user/install/\">Installation of Requests</a><ul>\n",
      "<li class=\"toctree-l2\"><a class=\"reference internal\" href=\"user/install/#pipenv-install-requests\">$ pipenv install requests</a></li>\n",
      "<li class=\"toctree-l2\"><a class=\"reference internal\" href=\"user/install/#get-the-source-code\">Get the Source Code</a></li>\n",
      "</ul>\n",
      "</li>\n",
      "<li class=\"toctree-l1\"><a class=\"reference internal\" href=\"user/quickstart/\">Quickstart</a><ul>\n",
      "<li class=\"toctree-l2\"><a class=\"reference internal\" href=\"user/quickstart/#make-a-request\">Make a Request</a></li>\n",
      "<li class=\"toctree-l2\"><a class=\"reference internal\" href=\"user/quickstart/#passing-parameters-in-urls\">Passing Parameters In URLs</a></li>\n",
      "<li class=\"toctree-l2\"><a class=\"reference internal\" href=\"user/quickstart/#response-content\">Response Content</a></li>\n",
      "<li class=\"toctree-l2\"><a class=\"reference internal\" href=\"user/quickstart/#binary-response-content\">Binary Response Content</a></li>\n",
      "<li class=\"toctree-l2\"><a class=\"reference internal\" href=\"user/quickstart/#json-response-content\">JSON Response Content</a></li>\n",
      "<li class=\"toctree-l2\"><a class=\"reference internal\" href=\"user/quickstart/#raw-response-content\">Raw Response Content</a></li>\n",
      "<li class=\"toctree-l2\"><a class=\"reference internal\" href=\"user/quickstart/#custom-headers\">Custom Headers</a></li>\n",
      "<li class=\"toctree-l2\"><a class=\"reference internal\" href=\"user/quickstart/#more-complicated-post-requests\">More complicated POST requests</a></li>\n",
      "<li class=\"toctree-l2\"><a class=\"reference internal\" href=\"user/quickstart/#post-a-multipart-encoded-file\">POST a Multipart-Encoded File</a></li>\n",
      "<li class=\"toctree-l2\"><a class=\"reference internal\" href=\"user/quickstart/#response-status-codes\">Response Status Codes</a></li>\n",
      "<li class=\"toctree-l2\"><a class=\"reference internal\" href=\"user/quickstart/#response-headers\">Response Headers</a></li>\n",
      "<li class=\"toctree-l2\"><a class=\"reference internal\" href=\"user/quickstart/#cookies\">Cookies</a></li>\n",
      "<li class=\"toctree-l2\"><a class=\"reference internal\" href=\"user/quickstart/#redirection-and-history\">Redirection and History</a></li>\n",
      "<li class=\"toctree-l2\"><a class=\"reference internal\" href=\"user/quickstart/#timeouts\">Timeouts</a></li>\n",
      "<li class=\"toctree-l2\"><a class=\"reference internal\" href=\"user/quickstart/#errors-and-exceptions\">Errors and Exceptions</a></li>\n",
      "</ul>\n",
      "</li>\n",
      "<li class=\"toctree-l1\"><a class=\"reference internal\" href=\"user/advanced/\">Advanced Usage</a><ul>\n",
      "<li class=\"toctree-l2\"><a class=\"reference internal\" href=\"user/advanced/#session-objects\">Session Objects</a></li>\n",
      "<li class=\"toctree-l2\"><a class=\"reference internal\" href=\"user/advanced/#request-and-response-objects\">Request and Response Objects</a></li>\n",
      "<li class=\"toctree-l2\"><a class=\"reference internal\" href=\"user/advanced/#prepared-requests\">Prepared Requests</a></li>\n",
      "<li class=\"toctree-l2\"><a class=\"reference internal\" href=\"user/advanced/#ssl-cert-verification\">SSL Cert Verification</a></li>\n",
      "<li class=\"toctree-l2\"><a class=\"reference internal\" href=\"user/advanced/#client-side-certificates\">Client Side Certificates</a></li>\n",
      "<li class=\"toctree-l2\"><a class=\"reference internal\" href=\"user/advanced/#ca-certificates\">CA Certificates</a></li>\n",
      "<li class=\"toctree-l2\"><a class=\"reference internal\" href=\"user/advanced/#body-content-workflow\">Body Content Workflow</a></li>\n",
      "<li class=\"toctree-l2\"><a class=\"reference internal\" href=\"user/advanced/#keep-alive\">Keep-Alive</a></li>\n",
      "<li class=\"toctree-l2\"><a class=\"reference internal\" href=\"user/advanced/#streaming-uploads\">Streaming Uploads</a></li>\n",
      "<li class=\"toctree-l2\"><a class=\"reference internal\" href=\"user/advanced/#chunk-encoded-requests\">Chunk-Encoded Requests</a></li>\n",
      "<li class=\"toctree-l2\"><a class=\"reference internal\" href=\"user/advanced/#post-multiple-multipart-encoded-files\">POST Multiple Multipart-Encoded Files</a></li>\n",
      "<li class=\"toctree-l2\"><a class=\"reference internal\" href=\"user/advanced/#event-hooks\">Event Hooks</a></li>\n",
      "<li class=\"toctree-l2\"><a class=\"reference internal\" href=\"user/advanced/#custom-authentication\">Custom Authentication</a></li>\n",
      "<li class=\"toctree-l2\"><a class=\"reference internal\" href=\"user/advanced/#streaming-requests\">Streaming Requests</a></li>\n",
      "<li class=\"toctree-l2\"><a class=\"reference internal\" href=\"user/advanced/#proxies\">Proxies</a></li>\n",
      "<li class=\"toctree-l2\"><a class=\"reference internal\" href=\"user/advanced/#compliance\">Compliance</a></li>\n",
      "<li class=\"toctree-l2\"><a class=\"reference internal\" href=\"user/advanced/#http-verbs\">HTTP Verbs</a></li>\n",
      "<li class=\"toctree-l2\"><a class=\"reference internal\" href=\"user/advanced/#custom-verbs\">Custom Verbs</a></li>\n",
      "<li class=\"toctree-l2\"><a class=\"reference internal\" href=\"user/advanced/#link-headers\">Link Headers</a></li>\n",
      "<li class=\"toctree-l2\"><a class=\"reference internal\" href=\"user/advanced/#transport-adapters\">Transport Adapters</a></li>\n",
      "<li class=\"toctree-l2\"><a class=\"reference internal\" href=\"user/advanced/#blocking-or-non-blocking\">Blocking Or Non-Blocking?</a></li>\n",
      "<li class=\"toctree-l2\"><a class=\"reference internal\" href=\"user/advanced/#header-ordering\">Header Ordering</a></li>\n",
      "<li class=\"toctree-l2\"><a class=\"reference internal\" href=\"user/advanced/#timeouts\">Timeouts</a></li>\n",
      "</ul>\n",
      "</li>\n",
      "<li class=\"toctree-l1\"><a class=\"reference internal\" href=\"user/authentication/\">Authentication</a><ul>\n",
      "<li class=\"toctree-l2\"><a class=\"reference internal\" href=\"user/authentication/#basic-authentication\">Basic Authentication</a></li>\n",
      "<li class=\"toctree-l2\"><a class=\"reference internal\" href=\"user/authentication/#digest-authentication\">Digest Authentication</a></li>\n",
      "<li class=\"toctree-l2\"><a class=\"reference internal\" href=\"user/authentication/#oauth-1-authentication\">OAuth 1 Authentication</a></li>\n",
      "<li class=\"toctree-l2\"><a class=\"reference internal\" href=\"user/authentication/#oauth-2-and-openid-connect-authentication\">OAuth 2 and OpenID Connect Authentication</a></li>\n",
      "<li class=\"toctree-l2\"><a class=\"reference internal\" href=\"user/authentication/#other-authentication\">Other Authentication</a></li>\n",
      "<li class=\"toctree-l2\"><a class=\"reference internal\" href=\"user/authentication/#new-forms-of-authentication\">New Forms of Authentication</a></li>\n",
      "</ul>\n",
      "</li>\n",
      "</ul>\n",
      "</div>\n",
      "</div>\n",
      "<div class=\"section\" id=\"the-community-guide\">\n",
      "<h2>The Community Guide<a class=\"headerlink\" href=\"#the-community-guide\" title=\"Permalink to this headline\">Â¶</a></h2>\n",
      "<p>This part of the documentation, which is mostly prose, details the\n",
      "Requests ecosystem and community.</p>\n",
      "<div class=\"toctree-wrapper compound\">\n",
      "<ul>\n",
      "<li class=\"toctree-l1\"><a class=\"reference internal\" href=\"community/sponsors/\">Community Sponsors</a><ul>\n",
      "<li class=\"toctree-l2\"><a class=\"reference internal\" href=\"community/sponsors/#patron-sponsors\">Patron Sponsors</a></li>\n",
      "<li class=\"toctree-l2\"><a class=\"reference internal\" href=\"community/sponsors/#major-sponsors\">Major Sponsors</a></li>\n",
      "<li class=\"toctree-l2\"><a class=\"reference internal\" href=\"community/sponsors/#individual-sponsors\">Individual Sponsors</a></li>\n",
      "</ul>\n",
      "</li>\n",
      "<li class=\"toctree-l1\"><a class=\"reference internal\" href=\"community/recommended/\">Recommended Packages and Extensions</a><ul>\n",
      "<li class=\"toctree-l2\"><a class=\"reference internal\" href=\"community/recommended/#certifi-ca-bundle\">Certifi CA Bundle</a></li>\n",
      "<li class=\"toctree-l2\"><a class=\"reference internal\" href=\"community/recommended/#cachecontrol\">CacheControl</a></li>\n",
      "<li class=\"toctree-l2\"><a class=\"reference internal\" href=\"community/recommended/#requests-toolbelt\">Requests-Toolbelt</a></li>\n",
      "<li class=\"toctree-l2\"><a class=\"reference internal\" href=\"community/recommended/#requests-threads\">Requests-Threads</a></li>\n",
      "<li class=\"toctree-l2\"><a class=\"reference internal\" href=\"community/recommended/#requests-oauthlib\">Requests-OAuthlib</a></li>\n",
      "<li class=\"toctree-l2\"><a class=\"reference internal\" href=\"community/recommended/#betamax\">Betamax</a></li>\n",
      "</ul>\n",
      "</li>\n",
      "<li class=\"toctree-l1\"><a class=\"reference internal\" href=\"community/faq/\">Frequently Asked Questions</a><ul>\n",
      "<li class=\"toctree-l2\"><a class=\"reference internal\" href=\"community/faq/#encoded-data\">Encoded Data?</a></li>\n",
      "<li class=\"toctree-l2\"><a class=\"reference internal\" href=\"community/faq/#custom-user-agents\">Custom User-Agents?</a></li>\n",
      "<li class=\"toctree-l2\"><a class=\"reference internal\" href=\"community/faq/#why-not-httplib2\">Why not Httplib2?</a></li>\n",
      "<li class=\"toctree-l2\"><a class=\"reference internal\" href=\"community/faq/#python-3-support\">Python 3 Support?</a></li>\n",
      "<li class=\"toctree-l2\"><a class=\"reference internal\" href=\"community/faq/#what-are-hostname-doesn-t-match-errors\">What are âhostname doesnât matchâ errors?</a></li>\n",
      "</ul>\n",
      "</li>\n",
      "<li class=\"toctree-l1\"><a class=\"reference internal\" href=\"community/out-there/\">Integrations</a><ul>\n",
      "<li class=\"toctree-l2\"><a class=\"reference internal\" href=\"community/out-there/#python-for-ios\">Python for iOS</a></li>\n",
      "</ul>\n",
      "</li>\n",
      "<li class=\"toctree-l1\"><a class=\"reference internal\" href=\"community/out-there/#articles-talks\">Articles &amp; Talks</a></li>\n",
      "<li class=\"toctree-l1\"><a class=\"reference internal\" href=\"community/support/\">Support</a><ul>\n",
      "<li class=\"toctree-l2\"><a class=\"reference internal\" href=\"community/support/#stack-overflow\">Stack Overflow</a></li>\n",
      "<li class=\"toctree-l2\"><a class=\"reference internal\" href=\"community/support/#send-a-tweet\">Send a Tweet</a></li>\n",
      "<li class=\"toctree-l2\"><a class=\"reference internal\" href=\"community/support/#file-an-issue\">File an Issue</a></li>\n",
      "<li class=\"toctree-l2\"><a class=\"reference internal\" href=\"community/support/#e-mail\">E-mail</a></li>\n",
      "<li class=\"toctree-l2\"><a class=\"reference internal\" href=\"community/support/#irc\">IRC</a></li>\n",
      "</ul>\n",
      "</li>\n",
      "<li class=\"toctree-l1\"><a class=\"reference internal\" href=\"community/vulnerabilities/\">Vulnerability Disclosure</a><ul>\n",
      "<li class=\"toctree-l2\"><a class=\"reference internal\" href=\"community/vulnerabilities/#process\">Process</a></li>\n",
      "<li class=\"toctree-l2\"><a class=\"reference internal\" href=\"community/vulnerabilities/#previous-cves\">Previous CVEs</a></li>\n",
      "</ul>\n",
      "</li>\n",
      "<li class=\"toctree-l1\"><a class=\"reference internal\" href=\"community/updates/\">Community Updates</a><ul>\n",
      "<li class=\"toctree-l2\"><a class=\"reference internal\" href=\"community/updates/#github\">GitHub</a></li>\n",
      "<li class=\"toctree-l2\"><a class=\"reference internal\" href=\"community/updates/#twitter\">Twitter</a></li>\n",
      "</ul>\n",
      "</li>\n",
      "<li class=\"toctree-l1\"><a class=\"reference internal\" href=\"community/updates/#release-and-version-history\">Release and Version History</a></li>\n",
      "<li class=\"toctree-l1\"><a class=\"reference internal\" href=\"community/release-process/\">Release Process and Rules</a><ul>\n",
      "<li class=\"toctree-l2\"><a class=\"reference internal\" href=\"community/release-process/#major-releases\">Major Releases</a></li>\n",
      "<li class=\"toctree-l2\"><a class=\"reference internal\" href=\"community/release-process/#minor-releases\">Minor Releases</a></li>\n",
      "<li class=\"toctree-l2\"><a class=\"reference internal\" href=\"community/release-process/#hotfix-releases\">Hotfix Releases</a></li>\n",
      "<li class=\"toctree-l2\"><a class=\"reference internal\" href=\"community/release-process/#reasoning\">Reasoning</a></li>\n",
      "</ul>\n",
      "</li>\n",
      "</ul>\n",
      "</div>\n",
      "</div>\n",
      "<div class=\"section\" id=\"the-api-documentation-guide\">\n",
      "<h2>The API Documentation / Guide<a class=\"headerlink\" href=\"#the-api-documentation-guide\" title=\"Permalink to this headline\">Â¶</a></h2>\n",
      "<p>If you are looking for information on a specific function, class, or method,\n",
      "this part of the documentation is for you.</p>\n",
      "<div class=\"toctree-wrapper compound\">\n",
      "<ul>\n",
      "<li class=\"toctree-l1\"><a class=\"reference internal\" href=\"api/\">Developer Interface</a><ul>\n",
      "<li class=\"toctree-l2\"><a class=\"reference internal\" href=\"api/#main-interface\">Main Interface</a></li>\n",
      "<li class=\"toctree-l2\"><a class=\"reference internal\" href=\"api/#exceptions\">Exceptions</a></li>\n",
      "<li class=\"toctree-l2\"><a class=\"reference internal\" href=\"api/#request-sessions\">Request Sessions</a></li>\n",
      "<li class=\"toctree-l2\"><a class=\"reference internal\" href=\"api/#lower-level-classes\">Lower-Level Classes</a></li>\n",
      "<li class=\"toctree-l2\"><a class=\"reference internal\" href=\"api/#lower-lower-level-classes\">Lower-Lower-Level Classes</a></li>\n",
      "<li class=\"toctree-l2\"><a class=\"reference internal\" href=\"api/#authentication\">Authentication</a></li>\n",
      "<li class=\"toctree-l2\"><a class=\"reference internal\" href=\"api/#encodings\">Encodings</a></li>\n",
      "<li class=\"toctree-l2\"><a class=\"reference internal\" href=\"api/#cookies\">Cookies</a></li>\n",
      "<li class=\"toctree-l2\"><a class=\"reference internal\" href=\"api/#status-code-lookup\">Status Code Lookup</a></li>\n",
      "<li class=\"toctree-l2\"><a class=\"reference internal\" href=\"api/#migrating-to-1-x\">Migrating to 1.x</a></li>\n",
      "<li class=\"toctree-l2\"><a class=\"reference internal\" href=\"api/#migrating-to-2-x\">Migrating to 2.x</a></li>\n",
      "</ul>\n",
      "</li>\n",
      "</ul>\n",
      "</div>\n",
      "</div>\n",
      "<div class=\"section\" id=\"the-contributor-guide\">\n",
      "<h2>The Contributor Guide<a class=\"headerlink\" href=\"#the-contributor-guide\" title=\"Permalink to this headline\">Â¶</a></h2>\n",
      "<p>If you want to contribute to the project, this part of the documentation is for\n",
      "you.</p>\n",
      "<div class=\"toctree-wrapper compound\">\n",
      "<ul>\n",
      "<li class=\"toctree-l1\"><a class=\"reference internal\" href=\"dev/contributing/\">Contributorâs Guide</a><ul>\n",
      "<li class=\"toctree-l2\"><a class=\"reference internal\" href=\"dev/contributing/#be-cordial\">Be Cordial</a></li>\n",
      "<li class=\"toctree-l2\"><a class=\"reference internal\" href=\"dev/contributing/#get-early-feedback\">Get Early Feedback</a></li>\n",
      "<li class=\"toctree-l2\"><a class=\"reference internal\" href=\"dev/contributing/#contribution-suitability\">Contribution Suitability</a></li>\n",
      "<li class=\"toctree-l2\"><a class=\"reference internal\" href=\"dev/contributing/#code-contributions\">Code Contributions</a><ul>\n",
      "<li class=\"toctree-l3\"><a class=\"reference internal\" href=\"dev/contributing/#steps-for-submitting-code\">Steps for Submitting Code</a></li>\n",
      "<li class=\"toctree-l3\"><a class=\"reference internal\" href=\"dev/contributing/#code-review\">Code Review</a></li>\n",
      "<li class=\"toctree-l3\"><a class=\"reference internal\" href=\"dev/contributing/#new-contributors\">New Contributors</a></li>\n",
      "<li class=\"toctree-l3\"><a class=\"reference internal\" href=\"dev/contributing/#kenneth-reitz-s-code-style\">Kenneth Reitzâs Code Styleâ¢</a></li>\n",
      "</ul>\n",
      "</li>\n",
      "<li class=\"toctree-l2\"><a class=\"reference internal\" href=\"dev/contributing/#documentation-contributions\">Documentation Contributions</a></li>\n",
      "<li class=\"toctree-l2\"><a class=\"reference internal\" href=\"dev/contributing/#bug-reports\">Bug Reports</a></li>\n",
      "<li class=\"toctree-l2\"><a class=\"reference internal\" href=\"dev/contributing/#feature-requests\">Feature Requests</a></li>\n",
      "</ul>\n",
      "</li>\n",
      "<li class=\"toctree-l1\"><a class=\"reference internal\" href=\"dev/philosophy/\">Development Philosophy</a><ul>\n",
      "<li class=\"toctree-l2\"><a class=\"reference internal\" href=\"dev/philosophy/#management-style\">Management Style</a></li>\n",
      "<li class=\"toctree-l2\"><a class=\"reference internal\" href=\"dev/philosophy/#values\">Values</a></li>\n",
      "<li class=\"toctree-l2\"><a class=\"reference internal\" href=\"dev/philosophy/#semantic-versioning\">Semantic Versioning</a></li>\n",
      "<li class=\"toctree-l2\"><a class=\"reference internal\" href=\"dev/philosophy/#standard-library\">Standard Library?</a></li>\n",
      "<li class=\"toctree-l2\"><a class=\"reference internal\" href=\"dev/philosophy/#linux-distro-packages\">Linux Distro Packages</a></li>\n",
      "</ul>\n",
      "</li>\n",
      "<li class=\"toctree-l1\"><a class=\"reference internal\" href=\"dev/todo/\">How to Help</a><ul>\n",
      "<li class=\"toctree-l2\"><a class=\"reference internal\" href=\"dev/todo/#feature-freeze\">Feature Freeze</a></li>\n",
      "<li class=\"toctree-l2\"><a class=\"reference internal\" href=\"dev/todo/#development-dependencies\">Development Dependencies</a></li>\n",
      "<li class=\"toctree-l2\"><a class=\"reference internal\" href=\"dev/todo/#runtime-environments\">Runtime Environments</a></li>\n",
      "</ul>\n",
      "</li>\n",
      "<li class=\"toctree-l1\"><a class=\"reference internal\" href=\"dev/authors/\">Authors</a><ul>\n",
      "<li class=\"toctree-l2\"><a class=\"reference internal\" href=\"dev/authors/#keepers-of-the-crystals\">Keepers of the Crystals</a></li>\n",
      "<li class=\"toctree-l2\"><a class=\"reference internal\" href=\"dev/authors/#previous-keepers-of-crystals\">Previous Keepers of Crystals</a></li>\n",
      "<li class=\"toctree-l2\"><a class=\"reference internal\" href=\"dev/authors/#patches-and-suggestions\">Patches and Suggestions</a></li>\n",
      "</ul>\n",
      "</li>\n",
      "</ul>\n",
      "</div>\n",
      "<p>There are no more guides. You are now guideless.\n",
      "Good luck.</p>\n",
      "</div>\n",
      "</div>\n",
      "\n",
      "\n",
      "          </div>\n",
      "          \n",
      "        </div>\n",
      "      </div>\n",
      "      <div class=\"sphinxsidebar\" role=\"navigation\" aria-label=\"main navigation\">\n",
      "        <div class=\"sphinxsidebarwrapper\"><p class=\"logo\">\n",
      "  <a href=\"#\">\n",
      "    <img class=\"logo\" src=\"_static/requests-sidebar.png\" title=\"https://kennethreitz.org/tattoos\"/>\n",
      "  </a>\n",
      "</p>\n",
      "\n",
      "<p>\n",
      "  <iframe src=\"https://ghbtns.com/github-btn.html?user=requests&repo=requests&type=watch&count=true&size=large\"\n",
      "    allowtransparency=\"true\" frameborder=\"0\" scrolling=\"0\" width=\"200px\" height=\"35px\"></iframe>\n",
      "</p>\n",
      "\n",
      "<p>\n",
      "  Requests is an elegant and simple HTTP library for Python, built for\n",
      "  human beings.\n",
      "</p>\n",
      "<p>Sponsored by <strong><a href=\"https://linode.com/\">Linode</a></strong> and <a href=\"http://docs.python-requests.org/en/master/community/sponsors/#patron-sponsors\">other wonderful organizations</a>.</p>\n",
      "\n",
      "\n",
      "<script async type=\"text/javascript\" src=\"//cdn.carbonads.com/carbon.js?zoneid=1673&serve=CKYI5K3E&placement=pythonrequestsorg\" id=\"_carbonads_js\"></script>\n",
      "\n",
      "<h3>Stay Informed</h3>\n",
      "<p>Receive updates on new releases and upcoming projects.</p>\n",
      "\n",
      "<p><iframe src=\"https://ghbtns.com/github-btn.html?user=kennethreitz&type=follow&count=false\"\n",
      "  allowtransparency=\"true\" frameborder=\"0\" scrolling=\"0\" width=\"200\" height=\"20\"></iframe></p>\n",
      "\n",
      "<p><a href=\"https://twitter.com/kennethreitz\" class=\"twitter-follow-button\" data-show-count=\"false\">Follow @kennethreitz</a> <script>!function(d,s,id){var js,fjs=d.getElementsByTagName(s)[0],p=/^http:/.test(d.location)?'http':'https';if(!d.getElementById(id)){js=d.createElement(s);js.id=id;js.src=p+'://platform.twitter.com/widgets.js';fjs.parentNode.insertBefore(js,fjs);}}(document, 'script', 'twitter-wjs');</script></p>\n",
      "<p><a href=\"https://tinyletter.com/kennethreitz\">Join Mailing List</a>.</p>\n",
      "<h3>Other Projects</h3>\n",
      "\n",
      "<p>More <a href=\"https://www.kennethreitz.org/\">Kenneth Reitz</a> projects:</p>\n",
      "<ul>\n",
      "    <li><a href=\"https://html.python-requests.org/\">Requests-HTML</a></li>\n",
      "    <li><a href=\"http://howtopython.org/\">howtopython.org</a></li>\n",
      "    <li><a href=\"http://pipenv.org/\">pipenv</a></li>\n",
      "    <li><a href=\"https://pep8.org/\">pep8.org</a></li>\n",
      "    <li><a href=\"https://httpbin.org/\">httpbin.org</a></li>\n",
      "    <li><a href=\"https://docs.python-guide.org/\">The Python Guide</a></li>\n",
      "    <li><a href=\"https://github.com/kennethreitz/maya\">Maya: Datetimes for Humans</a></li>\n",
      "    <li><a href=\"https://github.com/kennethreitz/records\">Records: SQL for Humans</a></li>\n",
      "    <li><a href=\"http://www.git-legit.org\">Legit: Git for Humans</a></li>\n",
      "    <li><a href=\"http://docs.python-tablib.org/en/latest/\">Tablib: Tabular Datasets</a></li>\n",
      "</ul>\n",
      "\n",
      "\n",
      "<h3>Useful Links</h3>\n",
      "<ul>\n",
      "  <li><a href=\"http://docs.python-requests.org/en/latest/community/recommended/\">Recommended Packages and Extensions</a></li>\n",
      "\n",
      "  <p></p>\n",
      "\n",
      "  <li><a href=\"https://github.com/requests/requests\">Requests @ GitHub</a></li>\n",
      "  <li><a href=\"https://pypi.org/project/requests/\">Requests @ PyPI</a></li>\n",
      "  <li><a href=\"https://github.com/requests/requests/issues\">Issue Tracker</a></li>\n",
      "  <li><a href=\"http://docs.python-requests.org/en/latest/community/updates/#software-updates\">Release History</a></li>\n",
      "</ul>\n",
      "\n",
      "\n",
      "<h3>Translations</h3>\n",
      "\n",
      "<ul>\n",
      "  <li><a href=\"http://docs.python-requests.org/\">English</a></li>\n",
      "  <li><a href=\"http://fr.python-requests.org/\">French</a></li>\n",
      "  <li><a href=\"http://de.python-requests.org/\">German</a></li>\n",
      "  <li><a href=\"http://jp.python-requests.org/\">Japanese</a></li>\n",
      "  <li><a href=\"http://cn.python-requests.org/\">Chinese</a></li>\n",
      "  <li><a href=\"http://pt.python-requests.org/\">Portuguese</a></li>\n",
      "  <li><a href=\"http://it.python-requests.org/\">Italian</a></li>\n",
      "  <li><a href=\"http://es.python-requests.org/\">Spanish</a></li>\n",
      "</ul>\n",
      "\n",
      "<div class=\"native-js\">\n",
      "  <div class=\"native-sponsor\">Sponsored by #native_company# â Learn More</div>\n",
      "  <a href=\"#native_link#\" class=\"native-flex\">\n",
      "    <style>\n",
      "      .native-js {\n",
      "        background: linear-gradient(-30deg, #native_bg_color#E5, #native_bg_color#E5 45%, #native_bg_color# 45%) #fff;\n",
      "      }\n",
      "\n",
      "      .native-details,\n",
      "      .native-sponsor,\n",
      "      .native-bsa {\n",
      "        color: #native_color# !important;\n",
      "      }\n",
      "\n",
      "      .native-details:hover {\n",
      "        color: #native_color_hover# !important;\n",
      "      }\n",
      "\n",
      "      .native-cta {\n",
      "        color: #native_cta_color#;\n",
      "        background-color: #native_cta_bg_color#;\n",
      "      }\n",
      "\n",
      "      .native-cta:hover {\n",
      "        color: #native_cta_color_hover;\n",
      "        background-color: #native_cta_bg_color_hover#;\n",
      "      }\n",
      "    </style>\n",
      "    <div class=\"native-main\">\n",
      "      <img class=\"native-img\" src=\"#native_logo#\">\n",
      "      <div class=\"native-details\">\n",
      "        <span class=\"native-company\">#native_title#</span>\n",
      "        <span class=\"native-desc\">#native_desc#</span>\n",
      "      </div>\n",
      "    </div>\n",
      "    <span class=\"native-cta\">#native_cta#</span>\n",
      "  </a>\n",
      "</div>\n",
      "<div id=\"searchbox\" style=\"display: none\" role=\"search\">\n",
      "  <h3>Quick search</h3>\n",
      "    <div class=\"searchformwrapper\">\n",
      "    <form class=\"search\" action=\"search/\" method=\"get\">\n",
      "      <input type=\"text\" name=\"q\" />\n",
      "      <input type=\"submit\" value=\"Go\" />\n",
      "      <input type=\"hidden\" name=\"check_keywords\" value=\"yes\" />\n",
      "      <input type=\"hidden\" name=\"area\" value=\"default\" />\n",
      "    </form>\n",
      "    </div>\n",
      "</div>\n",
      "<script type=\"text/javascript\">$('#searchbox').show(0);</script><!-- Alabaster (krTheme++) Hacks -->\n",
      "\n",
      "<!-- CSS Adjustments (I'm very picky.) -->\n",
      "<style type=\"text/css\">\n",
      "\n",
      "  /* Rezzy requires precise alignment. */\n",
      "  img.logo {margin-left: -20px!important;}\n",
      "\n",
      "  /* \"Quick Search\" should be capitalized. */\n",
      "  div#searchbox h3 {text-transform: capitalize;}\n",
      "\n",
      "  /* Make the document a little wider, less code is cut-off. */\n",
      "  div.document {width: 1008px;}\n",
      "\n",
      "  /* Much-improved spacing around code blocks. */\n",
      "  div.highlight pre {padding: 11px 14px;}\n",
      "\n",
      "  /* Remain Responsive! */\n",
      "  @media screen and (max-width: 1008px) {\n",
      "    div.sphinxsidebar {display: none;}\n",
      "    div.document {width: 100%!important;}\n",
      "\n",
      "    /* Have code blocks escape the document right-margin. */\n",
      "    div.highlight pre {margin-right: -30px;}\n",
      "  }\n",
      "\n",
      "</style>\n",
      "\n",
      "\n",
      "<!-- Analytics tracking for Kenneth. -->\n",
      "<script type=\"text/javascript\">\n",
      "  var _gauges = _gauges || [];\n",
      "  (function() {\n",
      "    var t   = document.createElement('script');\n",
      "    t.type  = 'text/javascript';\n",
      "    t.async = true;\n",
      "    t.id    = 'gauges-tracker';\n",
      "    t.setAttribute('data-site-id', '56ca7a57c88d9011080024dd');\n",
      "    t.setAttribute('data-track-path', 'https://track.gaug.es/track.gif');\n",
      "    t.src = 'https://d36ee2fcip1434.cloudfront.net/track.js';\n",
      "    var s = document.getElementsByTagName('script')[0];\n",
      "    s.parentNode.insertBefore(t, s);\n",
      "  })();\n",
      "</script>\n",
      "\n",
      "\n",
      "<!-- There are no more hacks. -->\n",
      "<!--         à®Ú¿Ú°Û£-Ú°Û£â         -->\n",
      "<!--   Love, Kenneth Reitz    -->\n",
      "\n",
      "<script src=\"_static//konami.js\"></script>\n",
      "<script>\n",
      "  var easter_egg = new Konami('http://fortunes.herokuapp.com/random/raw');\n",
      "</script>\n",
      "\n",
      "<!-- That was not a hack. That was art. -->\n",
      "\n",
      "<!-- Native CPC by BuySellAds -->\n",
      "\n",
      "<script src=\"_static//native.js\"></script>\n",
      "<script>\n",
      "  _native.init(\"CK7D62JU\", {\n",
      "    targetClass: 'native-js'\n",
      "  });\n",
      "</script>\n",
      "\n",
      "<div class=\"native-js\">\n",
      "  <div class=\"native-sponsor\">Sponsored Ad by #native_company# â Learn More</div>\n",
      "  <a href=\"#native_link#\" class=\"native-flex\">\n",
      "    <style>\n",
      "      .native-js {\n",
      "        background: linear-gradient(-30deg, #native_bg_color#E5, #native_bg_color#E5 45%, #native_bg_color# 45%) #fff;\n",
      "      }\n",
      "\n",
      "      .native-details,\n",
      "      .native-sponsor {\n",
      "        color: #native_color# !important;\n",
      "      }\n",
      "\n",
      "      .native-details:hover {\n",
      "        color: #native_color_hover# !important;\n",
      "      }\n",
      "\n",
      "      .native-cta {\n",
      "        color: #native_cta_color#;\n",
      "        background-color: #native_cta_bg_color#;\n",
      "      }\n",
      "\n",
      "      .native-cta:hover {\n",
      "        color: #native_cta_color_hover;\n",
      "        background-color: #native_cta_bg_color_hover#;\n",
      "      }\n",
      "    </style>\n",
      "    <div class=\"native-main\">\n",
      "      <img class=\"native-img\" src=\"#native_logo#\">\n",
      "      <div class=\"native-details\">\n",
      "        <span class=\"native-company\">#native_title#</span>\n",
      "        <span class=\"native-desc\">#native_desc#</span>\n",
      "      </div>\n",
      "      <span class=\"native-cta\">#native_cta#</span>\n",
      "    </div>\n",
      "  </a>\n",
      "</div>\n",
      "        </div>\n",
      "      </div>\n",
      "      <div class=\"clearer\"></div>\n",
      "    </div>\n",
      "    <div class=\"footer\">\n",
      "      &copy;MMXVIII. A <a href=\"http://kennethreitz.com/pages/open-projects.html\">Kenneth Reitz</a> Project.\n",
      "      \n",
      "    </div>\n",
      "\n",
      "    \n",
      "    <a href=\"https://github.com/requests/requests\" class=\"github\">\n",
      "        <img style=\"position: absolute; top: 0; right: 0; border: 0;\" src=\"https://s3.amazonaws.com/github/ribbons/forkme_right_darkblue_121621.png\" alt=\"Fork me on GitHub\"  class=\"github\"/>\n",
      "    </a>\n",
      "    \n",
      "\n",
      "    \n",
      "  </body>\n",
      "</html>\n"
     ]
    }
   ],
   "source": [
    "print(response.text)"
   ]
  },
  {
   "cell_type": "code",
   "execution_count": 19,
   "metadata": {
    "ExecuteTime": {
     "end_time": "2018-10-18T14:06:03.398989Z",
     "start_time": "2018-10-18T14:06:02.617310Z"
    }
   },
   "outputs": [
    {
     "name": "stdout",
     "output_type": "stream",
     "text": [
      "401\n",
      "application/json; charset=utf-8\n",
      "utf-8\n",
      "{\"message\":\"Bad credentials\",\"documentation_url\":\"https://developer.github.com/v3\"}\n"
     ]
    }
   ],
   "source": [
    "response = requests.get('https://api.github.com/user', \n",
    "                        auth=('user', 'pass'))\n",
    "print(response.status_code)\n",
    "print(response.headers['content-type'])\n",
    "print(response.encoding)\n",
    "print(response.text)"
   ]
  },
  {
   "cell_type": "markdown",
   "metadata": {
    "ExecuteTime": {
     "end_time": "2018-10-18T14:33:49.952231Z",
     "start_time": "2018-10-18T14:33:49.946373Z"
    }
   },
   "source": [
    "### Скачивание изображений"
   ]
  },
  {
   "cell_type": "code",
   "execution_count": 25,
   "metadata": {
    "ExecuteTime": {
     "end_time": "2018-10-18T14:34:00.722910Z",
     "start_time": "2018-10-18T14:34:00.409302Z"
    }
   },
   "outputs": [],
   "source": [
    "url = 'https://avatars.mds.yandex.net/get-banana/26007/x25RcU6xfkEuNxJWMvVWTqj9_banana_20161021_teaser4-13.png/optimize'\n",
    "response = requests.get(url)\n",
    "with open('img.png', 'wb') as out_file:\n",
    "    out_file.write(response.content)\n",
    "del response"
   ]
  },
  {
   "cell_type": "markdown",
   "metadata": {},
   "source": [
    "## Блиц:\n",
    "\n",
    "## 1 \n",
    "Найдите ники на странички авторов статей, которые сейчас на главной страничке Medium:<br>\n",
    "С помощью requests.get получите html https://medium.com/<br>\n",
    "Разбейте полученный response.text на \"слова\" (по пробельным символам)<br>\n",
    "Найдите такие \"слова\", в которых есть паттерн href=\"https://medium.com/@user_name<br>\n",
    "Поместите всех @user_name в лист со списком авторов."
   ]
  },
  {
   "cell_type": "code",
   "execution_count": null,
   "metadata": {},
   "outputs": [],
   "source": []
  },
  {
   "cell_type": "markdown",
   "metadata": {},
   "source": [
    "## 2\n",
    "Скачайте все картинки с главной images.yandex.ru:<br>\n",
    "С помощью requests.get получите html главной странички https://images.yandex.ru<br>\n",
    "Разбейте полученный response.text на \"слова\" (по пробельным символам)<br>\n",
    "Найдите такие \"слова\", в которых есть паттерн src=\"https://avatars.mds.yandex.net/get-pdb/***********\"<br> \n",
    "Обрежьте префикс **src=\"** и суффикс (все что после закрывающих кавычек)<br> \n",
    "Скачайте каждую из https://************.jpg в папку yandex_images"
   ]
  },
  {
   "cell_type": "code",
   "execution_count": null,
   "metadata": {},
   "outputs": [],
   "source": []
  },
  {
   "cell_type": "markdown",
   "metadata": {},
   "source": [
    "## Парсим JSON из Instagram!"
   ]
  },
  {
   "cell_type": "code",
   "execution_count": 20,
   "metadata": {
    "ExecuteTime": {
     "end_time": "2018-10-18T14:10:17.765092Z",
     "start_time": "2018-10-18T14:10:17.759793Z"
    }
   },
   "outputs": [],
   "source": [
    "import requests"
   ]
  },
  {
   "cell_type": "code",
   "execution_count": 28,
   "metadata": {
    "ExecuteTime": {
     "end_time": "2018-10-18T14:43:13.232478Z",
     "start_time": "2018-10-18T14:43:11.172298Z"
    },
    "scrolled": false
   },
   "outputs": [],
   "source": [
    "response = requests.get(\n",
    "    'https://www.instagram.com/explore/tags/hse/?__a=1')\n",
    "hse_tag_json = response.json()"
   ]
  },
  {
   "cell_type": "code",
   "execution_count": null,
   "metadata": {
    "ExecuteTime": {
     "end_time": "2018-10-18T14:43:13.388536Z",
     "start_time": "2018-10-18T14:43:13.237424Z"
    }
   },
   "outputs": [],
   "source": [
    "hse_tag_json"
   ]
  },
  {
   "cell_type": "code",
   "execution_count": 1,
   "metadata": {
    "ExecuteTime": {
     "end_time": "2018-10-18T15:19:59.909099Z",
     "start_time": "2018-10-18T15:19:59.903542Z"
    }
   },
   "outputs": [],
   "source": [
    "hse_tag_json['graphql']['hashtag']['edge_hashtag_to_media']['edges']"
   ]
  },
  {
   "cell_type": "code",
   "execution_count": 31,
   "metadata": {
    "ExecuteTime": {
     "end_time": "2018-10-18T14:44:35.761206Z",
     "start_time": "2018-10-18T14:44:35.746067Z"
    }
   },
   "outputs": [
    {
     "name": "stdout",
     "output_type": "stream",
     "text": [
      "1 9 2 10 9 3 1 7 11 12 17 34 5 7 11 10 18 21 9 6 31 34 5 3 1 4 9 7 58 86 13 10 6 17 7 23 94 10 31 3 8 13 12 10 96 27 10 4 7 7 10 30 30 8 50 10 37 52 70 37 11 1 68 10 6 18 22 "
     ]
    }
   ],
   "source": [
    "for node in hse_tag_json['graphql']['hashtag']['edge_hashtag_to_media']['edges']:\n",
    "    print(node['node']['edge_liked_by']['count'], end=' ')"
   ]
  },
  {
   "cell_type": "markdown",
   "metadata": {
    "ExecuteTime": {
     "end_time": "2018-10-18T14:45:58.751059Z",
     "start_time": "2018-10-18T14:45:58.743512Z"
    }
   },
   "source": [
    "## Блиц:\n",
    "## 1. \n",
    "На страничке https://www.instagram.com/explore/tags/hse/ есть как фото так и видео. Определите, какой тип контента собирает в среднем больше лайков?  "
   ]
  },
  {
   "cell_type": "code",
   "execution_count": null,
   "metadata": {},
   "outputs": [],
   "source": []
  }
 ],
 "metadata": {
  "kernelspec": {
   "display_name": "Python 3",
   "language": "python",
   "name": "python3"
  },
  "language_info": {
   "codemirror_mode": {
    "name": "ipython",
    "version": 3
   },
   "file_extension": ".py",
   "mimetype": "text/x-python",
   "name": "python",
   "nbconvert_exporter": "python",
   "pygments_lexer": "ipython3",
   "version": "3.6.4"
  }
 },
 "nbformat": 4,
 "nbformat_minor": 2
}
