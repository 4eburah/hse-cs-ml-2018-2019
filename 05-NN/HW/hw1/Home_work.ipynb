{
 "cells": [
  {
   "cell_type": "markdown",
   "metadata": {},
   "source": [
    "# ДПО"
   ]
  },
  {
   "cell_type": "markdown",
   "metadata": {},
   "source": [
    "## Домашнее задание NN_L1\n",
    "\n",
    "Задания 1-10 - обязательные <br>\n",
    "Задание 11 - опциональное <br>\n",
    "Выполнять задания необходимо без использования numpy (только TensorFlow / PyTorch) "
   ]
  },
  {
   "cell_type": "markdown",
   "metadata": {},
   "source": [
    "### 1) Импортируйте tensorflow"
   ]
  },
  {
   "cell_type": "code",
   "execution_count": 1,
   "metadata": {},
   "outputs": [
    {
     "data": {
      "text/plain": [
       "'1.12.0'"
      ]
     },
     "execution_count": 1,
     "metadata": {},
     "output_type": "execute_result"
    }
   ],
   "source": [
    "import tensorflow as tf\n",
    "\n",
    "tf.__version__"
   ]
  },
  {
   "cell_type": "markdown",
   "metadata": {},
   "source": [
    "### 2) Определите два Placeholder-a A(передайте 4) и B(передайте 3) и две переменных a(инициализируйте - 2-кой) и b(инициализируйте - 1) и в рамках tf-сессии сложите их"
   ]
  },
  {
   "cell_type": "code",
   "execution_count": 2,
   "metadata": {},
   "outputs": [],
   "source": [
    "tf.reset_default_graph()"
   ]
  },
  {
   "cell_type": "code",
   "execution_count": 3,
   "metadata": {},
   "outputs": [],
   "source": [
    "A = tf.placeholder(dtype=tf.float16, shape=[1])\n",
    "B = tf.placeholder(dtype=tf.float16, shape=[1])\n",
    "\n",
    "a = tf.Variable(2, dtype=tf.float16)\n",
    "b = tf.Variable(1, dtype=tf.float16)\n",
    "\n",
    "r = A + B + a + b"
   ]
  },
  {
   "cell_type": "code",
   "execution_count": 4,
   "metadata": {},
   "outputs": [],
   "source": [
    "tfs = tf.Session()"
   ]
  },
  {
   "cell_type": "code",
   "execution_count": 5,
   "metadata": {},
   "outputs": [
    {
     "name": "stdout",
     "output_type": "stream",
     "text": [
      "[10.]\n"
     ]
    }
   ],
   "source": [
    "tfs.run(tf. variables_initializer([a, b]))    \n",
    "print(tfs.run(r, feed_dict={A : [4], B : [3]}))"
   ]
  },
  {
   "cell_type": "markdown",
   "metadata": {},
   "source": [
    "### 3) Создайте 1D Tensor от 0 до 10 с шагом 2 - [0, 2, 4, 6, 8]"
   ]
  },
  {
   "cell_type": "code",
   "execution_count": 6,
   "metadata": {},
   "outputs": [
    {
     "name": "stdout",
     "output_type": "stream",
     "text": [
      "[0 2 4 6 8]\n"
     ]
    }
   ],
   "source": [
    "vector_even = tf.range(0, 10, 2)\n",
    "\n",
    "print(tfs.run(vector_even))"
   ]
  },
  {
   "cell_type": "markdown",
   "metadata": {},
   "source": [
    "### 4) Отфильтруйте каждое второе значение вектора созданного на предыдущего шаге"
   ]
  },
  {
   "cell_type": "code",
   "execution_count": 7,
   "metadata": {},
   "outputs": [
    {
     "name": "stdout",
     "output_type": "stream",
     "text": [
      "[0 4 8]\n"
     ]
    }
   ],
   "source": [
    "print(tfs.run(vector_even[0::2]))"
   ]
  },
  {
   "cell_type": "markdown",
   "metadata": {},
   "source": [
    "### 5) Создайте матрицу 3х3, где значения будут \n",
    "[0, 1, 2],<br>\n",
    "       [3, 4, 5],<br>\n",
    "       [6, 7, 8]<br>"
   ]
  },
  {
   "cell_type": "code",
   "execution_count": 8,
   "metadata": {},
   "outputs": [
    {
     "name": "stdout",
     "output_type": "stream",
     "text": [
      "[[0 1 2]\n",
      " [3 4 5]\n",
      " [6 7 8]]\n"
     ]
    }
   ],
   "source": [
    "matrix33 = tf.reshape(tf.range(9), [3, 3])\n",
    "\n",
    "print(tfs.run(matrix33))"
   ]
  },
  {
   "cell_type": "markdown",
   "metadata": {},
   "source": [
    "### 6) Посчитайте среднее значение, сумму, а также максимум вектора a = [1,2,3,4,5,6,7,8,9]"
   ]
  },
  {
   "cell_type": "code",
   "execution_count": 9,
   "metadata": {},
   "outputs": [
    {
     "name": "stdout",
     "output_type": "stream",
     "text": [
      "vector : [1 2 3 4 5 6 7 8 9]\n",
      "mean : 5\n",
      "sum : 45\n",
      "max : 9\n"
     ]
    }
   ],
   "source": [
    "vec_a = tf.range(1,10)\n",
    "\n",
    "print('vector : {}'.format(tfs.run(vec_a)))\n",
    "print('mean : {}'.format(tfs.run(tf.reduce_mean(vec_a))))\n",
    "print('sum : {}'.format(tfs.run(tf.reduce_sum(vec_a))))\n",
    "print('max : {}'.format(tfs.run(tf.reduce_max(vec_a))))"
   ]
  },
  {
   "cell_type": "markdown",
   "metadata": {},
   "source": [
    "### 7) Создайте матрицу 10х10, где все значения распределены равномерно"
   ]
  },
  {
   "cell_type": "code",
   "execution_count": 10,
   "metadata": {},
   "outputs": [
    {
     "name": "stdout",
     "output_type": "stream",
     "text": [
      "(10, 10)\n"
     ]
    }
   ],
   "source": [
    "random_matrix = tf.random_uniform(shape=[10, 10])\n",
    "\n",
    "print(tfs.run(random_matrix).shape)"
   ]
  },
  {
   "cell_type": "markdown",
   "metadata": {},
   "source": [
    "### 8) Создайте матрицу 5х5 где все значения -1, а на главной диагонали +1 "
   ]
  },
  {
   "cell_type": "code",
   "execution_count": 11,
   "metadata": {},
   "outputs": [
    {
     "name": "stdout",
     "output_type": "stream",
     "text": [
      "[[ 1. -1. -1. -1. -1.]\n",
      " [-1.  1. -1. -1. -1.]\n",
      " [-1. -1.  1. -1. -1.]\n",
      " [-1. -1. -1.  1. -1.]\n",
      " [-1. -1. -1. -1.  1.]]\n"
     ]
    }
   ],
   "source": [
    "martix55 = tf.eye(5) * 2 + tf.negative(tf.ones([5, 5]))\n",
    "\n",
    "print(tfs.run(martix55))"
   ]
  },
  {
   "cell_type": "markdown",
   "metadata": {},
   "source": [
    "### 9) Разбейте вектор a = [1,2,3,4,5,6,7,8] на два"
   ]
  },
  {
   "cell_type": "code",
   "execution_count": 12,
   "metadata": {},
   "outputs": [
    {
     "name": "stdout",
     "output_type": "stream",
     "text": [
      "[1 2 3 4 5 6 7 8]\n",
      "[array([1, 2, 3, 4]), array([5, 6, 7, 8])]\n"
     ]
    }
   ],
   "source": [
    "vec8 = tf.range(1, 9)\n",
    "\n",
    "print(tfs.run(vec8))\n",
    "print(tfs.run(tf.split(vec8, 2)))"
   ]
  },
  {
   "cell_type": "code",
   "execution_count": 13,
   "metadata": {},
   "outputs": [],
   "source": [
    "tfs.close()"
   ]
  },
  {
   "cell_type": "markdown",
   "metadata": {},
   "source": [
    "### 10) Даны точки x и y, восстановите зависимость:"
   ]
  },
  {
   "cell_type": "code",
   "execution_count": 14,
   "metadata": {},
   "outputs": [],
   "source": [
    "import numpy as np\n",
    "from matplotlib.pylab import plt\n",
    "%matplotlib inline\n",
    "x = np.linspace(-10,10,100)\n",
    "y = x**2+3.2*x+2.4+np.random.normal(scale=6,size=100)"
   ]
  },
  {
   "cell_type": "code",
   "execution_count": 15,
   "metadata": {},
   "outputs": [
    {
     "data": {
      "text/plain": [
       "<matplotlib.collections.PathCollection at 0x1e38ac10438>"
      ]
     },
     "execution_count": 15,
     "metadata": {},
     "output_type": "execute_result"
    },
    {
     "data": {
      "image/png": "[encoded data removed]",
      "text/plain": [
       "<Figure size 432x288 with 1 Axes>"
      ]
     },
     "metadata": {
      "needs_background": "light"
     },
     "output_type": "display_data"
    }
   ],
   "source": [
    "plt.scatter(x, y)"
   ]
  },
  {
   "cell_type": "code",
   "execution_count": 16,
   "metadata": {},
   "outputs": [],
   "source": [
    "tf.reset_default_graph()"
   ]
  },
  {
   "cell_type": "code",
   "execution_count": 17,
   "metadata": {},
   "outputs": [],
   "source": [
    "X = tf.placeholder(tf.float32)\n",
    "Y = tf.placeholder(tf.float32)"
   ]
  },
  {
   "cell_type": "code",
   "execution_count": 18,
   "metadata": {},
   "outputs": [],
   "source": [
    "a = tf.get_variable(name=\"a\", shape=[1]) \n",
    "b = tf.get_variable(name=\"b\", shape=[1])\n",
    "c = tf.get_variable(name=\"c\", shape=[1])"
   ]
  },
  {
   "cell_type": "code",
   "execution_count": 19,
   "metadata": {},
   "outputs": [],
   "source": [
    "y_ = a*(X**2) + b*X + c"
   ]
  },
  {
   "cell_type": "code",
   "execution_count": 20,
   "metadata": {},
   "outputs": [],
   "source": [
    "loss = tf.losses.mean_squared_error(Y, y_)"
   ]
  },
  {
   "cell_type": "code",
   "execution_count": 21,
   "metadata": {},
   "outputs": [],
   "source": [
    "optimizer = tf.train.GradientDescentOptimizer(learning_rate=0.0001).minimize(loss)"
   ]
  },
  {
   "cell_type": "code",
   "execution_count": 22,
   "metadata": {},
   "outputs": [
    {
     "name": "stdout",
     "output_type": "stream",
     "text": [
      "[array([0.62876457], dtype=float32), array([-0.77532035], dtype=float32), array([0.09267557], dtype=float32), 883.8794]\n",
      "[array([1.0295988], dtype=float32), array([1.145693], dtype=float32), array([0.11954516], dtype=float32), 166.76146]\n",
      "[array([1.0292698], dtype=float32), array([2.1165216], dtype=float32), array([0.13967904], dtype=float32), 69.17332]\n",
      "[array([1.0289438], dtype=float32), array([2.6071527], dtype=float32), array([0.1596348], dtype=float32), 44.21961]\n",
      "[array([1.0286205], dtype=float32), array([2.8551044], dtype=float32), array([0.17941396], dtype=float32), 37.81743]\n"
     ]
    }
   ],
   "source": [
    "with tf.Session() as sess:\n",
    "    sess.run(tf.global_variables_initializer())\n",
    "    for epoch in range(500):\n",
    "        sess.run(optimizer, feed_dict={X: x, Y: y})\n",
    "        if epoch%100==0:\n",
    "            print(sess.run([a, b, c, loss], feed_dict={X: x, Y: y}))\n",
    "        y_preds, x_preds = sess.run([y_, X], feed_dict={X: x})"
   ]
  },
  {
   "cell_type": "code",
   "execution_count": 23,
   "metadata": {
    "scrolled": true
   },
   "outputs": [
    {
     "data": {
      "text/plain": [
       "[<matplotlib.lines.Line2D at 0x1e38ac7f588>]"
      ]
     },
     "execution_count": 23,
     "metadata": {},
     "output_type": "execute_result"
    },
    {
     "data": {
      "image/png": "[encoded data removed]",
      "text/plain": [
       "<Figure size 432x288 with 1 Axes>"
      ]
     },
     "metadata": {
      "needs_background": "light"
     },
     "output_type": "display_data"
    }
   ],
   "source": [
    "plt.scatter(x, y)\n",
    "plt.plot(x_preds, y_preds, c='r')"
   ]
  },
  {
   "cell_type": "markdown",
   "metadata": {},
   "source": [
    "### 11) Реализуйте класс TF_LinearRegression c методами как в [sklearn.linear_model.LinearRegression](https://scikit-learn.org/stable/modules/generated/sklearn.linear_model.LinearRegression.html) (задание с *)"
   ]
  },
  {
   "cell_type": "code",
   "execution_count": 24,
   "metadata": {},
   "outputs": [],
   "source": [
    "from sklearn.metrics import r2_score\n",
    "\n",
    "class TF_LinearRegression:\n",
    "    \n",
    "    def __init__(self, learning_rate = 0.1, n_epoch = 100):\n",
    "        self._learning_rate = learning_rate\n",
    "        self._n_epoch = n_epoch\n",
    "        tf.reset_default_graph()\n",
    "        self._session = tf.Session()\n",
    "    \n",
    "    def __del__(self):\n",
    "        self._session.close()        \n",
    "    \n",
    "    def fit(self, X, y):\n",
    "        \"\"\"Fit linear model.\"\"\"\n",
    "        self._k = tf.get_variable(name=\"coef\", shape=[X.shape[1]] ) \n",
    "        self._b = tf.get_variable(name=\"intercept\", shape=[1])\n",
    "        X_fit = tf.placeholder(tf.float32, name='feature_fit')\n",
    "        y_fit = tf.placeholder(tf.float32, name='target_fit')\n",
    "        y_ = self._k * X_fit + self._b\n",
    "        loss = tf.losses.mean_squared_error(y_fit, y_)\n",
    "        optimizer = tf.train.GradientDescentOptimizer(learning_rate=self._learning_rate).minimize(loss)\n",
    "        self._session.run(tf.global_variables_initializer())\n",
    "        for epoch in range(self._n_epoch):\n",
    "            for (xx, yy) in zip(X, y):\n",
    "                self._session.run(optimizer, feed_dict={X_fit: xx, y_fit: yy})\n",
    "            self._session.run(optimizer, feed_dict={X_fit : X, y_fit : y})\n",
    "            if 0==epoch%(self._n_epoch // 4):\n",
    "                print(self._session.run([self._k, self._b, loss], feed_dict={X_fit : X, y_fit : y}))\n",
    "        self.coef_ = self._session.run(self._k)\n",
    "        self.intercept_ = self._session.run(self._b)\n",
    "        return self\n",
    "        \n",
    "    def predict(self, X):\n",
    "        \"\"\"Predict using the linear model.\"\"\"\n",
    "        X_pred = tf.placeholder(tf.float32, name='feature_pred')\n",
    "        y_ = self._k * X_pred + self._b\n",
    "        return self._session.run(y_, feed_dict={X_pred : X})\n",
    "\n",
    "    def score(self, X, y):\n",
    "        \"\"\"Returns the coefficient of determination R^2 of the prediction.\"\"\"\n",
    "        return r2_score(y, self.predict(X))"
   ]
  },
  {
   "cell_type": "markdown",
   "metadata": {},
   "source": [
    "#### Тестовые данные - линейная зависимость с шумом\n",
    "\n",
    "Одномерный случай для удобства визуализации"
   ]
  },
  {
   "cell_type": "code",
   "execution_count": 25,
   "metadata": {},
   "outputs": [
    {
     "data": {
      "image/png": "[encoded data removed]",
      "text/plain": [
       "<Figure size 432x288 with 1 Axes>"
      ]
     },
     "metadata": {
      "needs_background": "light"
     },
     "output_type": "display_data"
    }
   ],
   "source": [
    "def linear_function_noise(X, scale=0.2):\n",
    "    return X*2.4 + 5 + np.random.normal(size=X.size, loc=0, scale=scale).reshape(X.shape)\n",
    "\n",
    "X_train = np.linspace(0, 1, 100).reshape(-1, 1)\n",
    "y_train = linear_function_noise(X_train)\n",
    "\n",
    "plt.scatter(X_train, y_train);"
   ]
  },
  {
   "cell_type": "markdown",
   "metadata": {},
   "source": [
    "#### Линейная регрессия из **sklearn**"
   ]
  },
  {
   "cell_type": "code",
   "execution_count": 26,
   "metadata": {},
   "outputs": [],
   "source": [
    "from sklearn.linear_model import LinearRegression"
   ]
  },
  {
   "cell_type": "code",
   "execution_count": 27,
   "metadata": {},
   "outputs": [
    {
     "name": "stdout",
     "output_type": "stream",
     "text": [
      "Wall time: 993 µs\n"
     ]
    }
   ],
   "source": [
    "%%time\n",
    "\n",
    "sklr = LinearRegression()\n",
    "\n",
    "sklr.fit(X_train, y_train)"
   ]
  },
  {
   "cell_type": "code",
   "execution_count": 28,
   "metadata": {},
   "outputs": [
    {
     "data": {
      "text/plain": [
       "(array([[2.43412468]]), array([4.97593484]))"
      ]
     },
     "execution_count": 28,
     "metadata": {},
     "output_type": "execute_result"
    }
   ],
   "source": [
    "sklr.coef_, sklr.intercept_"
   ]
  },
  {
   "cell_type": "markdown",
   "metadata": {},
   "source": [
    "#### Реализация линейной регресси в **Tensor flow**"
   ]
  },
  {
   "cell_type": "code",
   "execution_count": 29,
   "metadata": {},
   "outputs": [
    {
     "name": "stdout",
     "output_type": "stream",
     "text": [
      "[array([0.8566664], dtype=float32), array([6.30994], dtype=float32), 0.5553886]\n",
      "[array([2.3694463], dtype=float32), array([5.0084143], dtype=float32), 0.04686483]\n",
      "[array([2.3825207], dtype=float32), array([4.9971657], dtype=float32), 0.04675647]\n",
      "[array([2.3826346], dtype=float32), array([4.9970675], dtype=float32), 0.046755843]\n",
      "Wall time: 11.6 s\n"
     ]
    }
   ],
   "source": [
    "%%time\n",
    "\n",
    "tflr = TF_LinearRegression(0.1, 64)\n",
    "\n",
    "tflr.fit(X_train, y_train)"
   ]
  },
  {
   "cell_type": "markdown",
   "metadata": {},
   "source": [
    "Коэффициенты подобрал достаточно точно:"
   ]
  },
  {
   "cell_type": "code",
   "execution_count": 30,
   "metadata": {},
   "outputs": [
    {
     "data": {
      "text/plain": [
       "(array([2.3826346], dtype=float32), array([4.9970675], dtype=float32))"
      ]
     },
     "execution_count": 30,
     "metadata": {},
     "output_type": "execute_result"
    }
   ],
   "source": [
    "tflr.coef_, tflr.intercept_"
   ]
  },
  {
   "cell_type": "markdown",
   "metadata": {},
   "source": [
    "#### Тестовые данные - сместимся по оси."
   ]
  },
  {
   "cell_type": "code",
   "execution_count": 31,
   "metadata": {},
   "outputs": [
    {
     "data": {
      "image/png": "[encoded data removed]",
      "text/plain": [
       "<Figure size 432x288 with 1 Axes>"
      ]
     },
     "metadata": {
      "needs_background": "light"
     },
     "output_type": "display_data"
    }
   ],
   "source": [
    "X_test = np.linspace(3, 4, 100).reshape(-1, 1)\n",
    "y_test = linear_function_noise(X_test)\n",
    "\n",
    "plt.scatter(X_test, y_test)\n",
    "\n",
    "plt.plot(X_test, tflr.predict(X_test), c='r');"
   ]
  },
  {
   "cell_type": "markdown",
   "metadata": {},
   "source": [
    "#### R2 score"
   ]
  },
  {
   "cell_type": "code",
   "execution_count": 32,
   "metadata": {},
   "outputs": [
    {
     "data": {
      "text/plain": [
       "0.9231675677699938"
      ]
     },
     "execution_count": 32,
     "metadata": {},
     "output_type": "execute_result"
    }
   ],
   "source": [
    "tflr.score(X_test, y_test)"
   ]
  },
  {
   "cell_type": "code",
   "execution_count": 33,
   "metadata": {},
   "outputs": [
    {
     "data": {
      "text/plain": [
       "0.9211705713352804"
      ]
     },
     "execution_count": 33,
     "metadata": {},
     "output_type": "execute_result"
    }
   ],
   "source": [
    "sklr.score(X_test, y_test)"
   ]
  },
  {
   "cell_type": "markdown",
   "metadata": {},
   "source": [
    "----"
   ]
  },
  {
   "cell_type": "code",
   "execution_count": 34,
   "metadata": {},
   "outputs": [],
   "source": [
    "# Оставьте свой комментарий по задачам (сложнее, проще, что понравилось, что нет)"
   ]
  },
  {
   "cell_type": "markdown",
   "metadata": {},
   "source": [
    "_пока не слишком сложно)_\n",
    "\n",
    "_задача на реализацию класса линейного регрессора понравилась_"
   ]
  }
 ],
 "metadata": {
  "kernelspec": {
   "display_name": "Python 3",
   "language": "python",
   "name": "python3"
  },
  "language_info": {
   "codemirror_mode": {
    "name": "ipython",
    "version": 3
   },
   "file_extension": ".py",
   "mimetype": "text/x-python",
   "name": "python",
   "nbconvert_exporter": "python",
   "pygments_lexer": "ipython3",
   "version": "3.6.8"
  }
 },
 "nbformat": 4,
 "nbformat_minor": 2
}
