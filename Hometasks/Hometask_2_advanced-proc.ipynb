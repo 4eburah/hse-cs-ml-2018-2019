{
 "cells": [
  {
   "cell_type": "markdown",
   "metadata": {},
   "source": [
    "# Домашнее задание 2 (продвинутое)"
   ]
  },
  {
   "cell_type": "code",
   "execution_count": 2,
   "metadata": {},
   "outputs": [],
   "source": [
    "import pandas as pd\n",
    "import numpy as np\n",
    "import matplotlib.pyplot as plt\n",
    "\n",
    "%matplotlib inline\n",
    "\n",
    "plt.style.use('ggplot')\n",
    "plt.rcParams['figure.figsize'] = (12,5)\n",
    "\n",
    "# Для кириллицы на графиках\n",
    "font = {'family': 'Verdana',\n",
    "        'weight': 'normal'}\n",
    "plt.rc('font', **font)\n",
    "\n",
    "try:\n",
    "    from ipywidgets import interact, IntSlider, fixed, FloatSlider\n",
    "except ImportError:\n",
    "    print(u'Так надо')"
   ]
  },
  {
   "cell_type": "markdown",
   "metadata": {},
   "source": [
    "# Задание"
   ]
  },
  {
   "cell_type": "markdown",
   "metadata": {},
   "source": [
    "Ваша задада - научиться предсказывать рейтинг (тональность) отзывов к фильмам Amazon\n",
    "\n",
    "\n",
    "Загрузите текстовые данные [отсюда](https://archive.ics.uci.edu/ml/machine-learning-databases/00331/). Архив должен содержать 3 файла с положительными и отрицательными отзывами с ресурсов\n",
    "* imdb.com\n",
    "* amazon.com\n",
    "* yelp.com\n",
    "\n",
    "Формат файла следующий:\n",
    "<отзыв>\\t<метка>\\n\n",
    "\n",
    "\n",
    "### Задача\n",
    "1. Загрузите тексты и метки классов в разные переменные\n",
    "2. Мера качества классификации - accuracy\n",
    "3. Обучите линейный SVM (без подбора гиперпараметров). Тексты представляются в виде мешка слов\n",
    "4. Выведите наиболее значимые слова из текста\n",
    "5. С помощью кросс-валидации и валидационных кривых исследуйте, как различные комбинции параметров влияют на качество\n",
    "6. Сравните с другими линейными методами классификации\n",
    "7. Визуализируйте обучающую выборку и предсказания классификатора с помощью PCA и (или) t-SNE"
   ]
  },
  {
   "cell_type": "code",
   "execution_count": 3,
   "metadata": {},
   "outputs": [
    {
     "name": "stdout",
     "output_type": "stream",
     "text": [
      " __MACOSX  'sentiment labelled sentences'\r\n"
     ]
    }
   ],
   "source": [
    "!ls ./sentiment\\ labelled\\ sentences"
   ]
  },
  {
   "cell_type": "code",
   "execution_count": 4,
   "metadata": {},
   "outputs": [],
   "source": [
    "texts, labels = [], []\n",
    "\n",
    "for line in open('./sentiment labelled sentences/sentiment labelled sentences/amazon_cells_labelled.txt'):\n",
    "    text, label = line.strip('\\n').split('\\t')\n",
    "    texts.append(text)\n",
    "    labels.append(int(label))"
   ]
  },
  {
   "cell_type": "code",
   "execution_count": 5,
   "metadata": {},
   "outputs": [],
   "source": [
    "from sklearn.feature_extraction.text import TfidfVectorizer\n",
    "from sklearn.pipeline import Pipeline\n",
    "from mlxtend.preprocessing import DenseTransformer\n",
    "from sklearn.svm import SVC\n",
    "\n",
    "\n",
    "model = Pipeline(\n",
    "[\n",
    "    ('vect', TfidfVectorizer()), # Позволяет преобразовать текст в набор признаков, в значении каждого из которых стоит нормированная на число документов частота соответствующего слова\n",
    "    ('dense', DenseTransformer()),\n",
    "    ('svm', SVC(kernel='linear'))\n",
    "])"
   ]
  },
  {
   "cell_type": "code",
   "execution_count": 6,
   "metadata": {},
   "outputs": [
    {
     "data": {
      "text/plain": [
       "Pipeline(memory=None,\n",
       "     steps=[('vect', TfidfVectorizer(analyzer='word', binary=False, decode_error='strict',\n",
       "        dtype=<class 'numpy.int64'>, encoding='utf-8', input='content',\n",
       "        lowercase=True, max_df=1.0, max_features=None, min_df=1,\n",
       "        ngram_range=(1, 1), norm='l2', preprocessor=None, smooth_idf=True,\n",
       "  ...,\n",
       "  max_iter=-1, probability=False, random_state=None, shrinking=True,\n",
       "  tol=0.001, verbose=False))])"
      ]
     },
     "execution_count": 6,
     "metadata": {},
     "output_type": "execute_result"
    }
   ],
   "source": [
    "model.fit(texts, labels)"
   ]
  },
  {
   "cell_type": "code",
   "execution_count": 9,
   "metadata": {},
   "outputs": [],
   "source": [
    "weights = model.steps[2][1].coef_[0]\n",
    "words = model.steps[0][1].get_feature_names()"
   ]
  },
  {
   "cell_type": "code",
   "execution_count": 10,
   "metadata": {},
   "outputs": [],
   "source": [
    "coefs = pd.Series(index=words, data=weights)"
   ]
  },
  {
   "cell_type": "code",
   "execution_count": 11,
   "metadata": {},
   "outputs": [
    {
     "data": {
      "text/plain": [
       "not             -3.507181\n",
       "first           -1.975821\n",
       "poor            -1.965497\n",
       "doesn           -1.505776\n",
       "bad             -1.485459\n",
       "if              -1.456254\n",
       "none            -1.446073\n",
       "difficult       -1.376058\n",
       "disappointed    -1.374236\n",
       "then            -1.372565\n",
       "unreliable      -1.359178\n",
       "old             -1.344775\n",
       "worst           -1.294790\n",
       "disappointing   -1.292949\n",
       "terrible        -1.290509\n",
       "hear            -1.255339\n",
       "money           -1.162993\n",
       "however         -1.148374\n",
       "don             -1.145519\n",
       "horrible        -1.063185\n",
       "problem         -1.036764\n",
       "within          -1.013970\n",
       "return          -1.007565\n",
       "waste           -1.005096\n",
       "stay            -1.003578\n",
       "buying          -0.996052\n",
       "sucks           -0.976878\n",
       "experience      -0.958927\n",
       "off             -0.953516\n",
       "crap            -0.947778\n",
       "                   ...   \n",
       "all              1.077599\n",
       "car              1.091398\n",
       "rocks            1.125765\n",
       "happy            1.163118\n",
       "awesome          1.169940\n",
       "beautiful        1.170902\n",
       "any              1.173849\n",
       "seems            1.181771\n",
       "setup            1.185614\n",
       "definitely       1.194722\n",
       "worthwhile       1.198160\n",
       "pleased          1.216341\n",
       "exactly          1.236538\n",
       "and              1.242878\n",
       "sturdy           1.324035\n",
       "glad             1.324793\n",
       "perfectly        1.472077\n",
       "without          1.489238\n",
       "comfortable      1.565059\n",
       "well             1.579040\n",
       "recommend        1.776462\n",
       "than             1.781467\n",
       "easy             1.834265\n",
       "excellent        1.876684\n",
       "nice             1.923456\n",
       "love             1.954578\n",
       "works            2.188037\n",
       "best             2.503786\n",
       "good             2.569317\n",
       "great            3.112906\n",
       "Length: 1847, dtype: float64"
      ]
     },
     "execution_count": 11,
     "metadata": {},
     "output_type": "execute_result"
    }
   ],
   "source": [
    "coefs.sort_values()"
   ]
  },
  {
   "cell_type": "code",
   "execution_count": null,
   "metadata": {},
   "outputs": [],
   "source": []
  }
 ],
 "metadata": {
  "anaconda-cloud": {},
  "kernelspec": {
   "display_name": "Python 3",
   "language": "python",
   "name": "python3"
  },
  "language_info": {
   "codemirror_mode": {
    "name": "ipython",
    "version": 3
   },
   "file_extension": ".py",
   "mimetype": "text/x-python",
   "name": "python",
   "nbconvert_exporter": "python",
   "pygments_lexer": "ipython3",
   "version": "3.6.6"
  },
  "toc": {
   "colors": {
    "hover_highlight": "#DAA520",
    "navigate_num": "#000000",
    "navigate_text": "#333333",
    "running_highlight": "#FF0000",
    "selected_highlight": "#FFD700",
    "sidebar_border": "#EEEEEE",
    "wrapper_background": "#FFFFFF"
   },
   "moveMenuLeft": true,
   "nav_menu": {
    "height": "179px",
    "width": "252px"
   },
   "navigate_menu": true,
   "number_sections": false,
   "sideBar": true,
   "threshold": 4,
   "toc_cell": false,
   "toc_section_display": "block",
   "toc_window_display": false,
   "widenNotebook": false
  }
 },
 "nbformat": 4,
 "nbformat_minor": 1
}
