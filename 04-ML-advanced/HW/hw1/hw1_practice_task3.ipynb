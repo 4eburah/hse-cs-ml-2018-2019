{
 "cells": [
  {
   "cell_type": "markdown",
   "metadata": {},
   "source": [
    "\n",
    "#### _ML продвинутые методы / ДЗ №1 / Практическая часть / Задача 3_"
   ]
  },
  {
   "cell_type": "markdown",
   "metadata": {},
   "source": [
    "## 3. _Boosting vs Bagging_ "
   ]
  },
  {
   "cell_type": "code",
   "execution_count": 1,
   "metadata": {},
   "outputs": [],
   "source": [
    "import pandas as pd\n",
    "import numpy as np\n",
    "\n",
    "import matplotlib.pyplot as plt\n",
    "%matplotlib inline"
   ]
  },
  {
   "cell_type": "code",
   "execution_count": 2,
   "metadata": {},
   "outputs": [],
   "source": [
    "from sklearn.tree import DecisionTreeRegressor\n",
    "from sklearn.ensemble import RandomForestRegressor, BaggingRegressor, GradientBoostingRegressor\n",
    "\n",
    "from sklearn.model_selection import train_test_split\n",
    "from sklearn.model_selection import cross_val_score\n",
    "from sklearn.model_selection import GridSearchCV\n",
    "\n",
    "from sklearn.metrics import r2_score\n",
    "from sklearn.metrics import mean_squared_error"
   ]
  },
  {
   "cell_type": "code",
   "execution_count": 3,
   "metadata": {},
   "outputs": [
    {
     "data": {
      "text/plain": [
       "((442, 10), (442,))"
      ]
     },
     "execution_count": 3,
     "metadata": {},
     "output_type": "execute_result"
    }
   ],
   "source": [
    "from sklearn.datasets import load_diabetes\n",
    "\n",
    "data = load_diabetes()\n",
    "\n",
    "X = data.data\n",
    "y = data.target\n",
    "\n",
    "X.shape, y.shape"
   ]
  },
  {
   "cell_type": "code",
   "execution_count": 4,
   "metadata": {},
   "outputs": [
    {
     "name": "stdout",
     "output_type": "stream",
     "text": [
      "(353, 10) (89, 10)\n"
     ]
    }
   ],
   "source": [
    "X_train, X_test, y_train, y_test = train_test_split(X, y, test_size=0.2, random_state=223)\n",
    "\n",
    "print(X_train.shape, X_test.shape)"
   ]
  },
  {
   "cell_type": "markdown",
   "metadata": {},
   "source": [
    "### 3.1 _DecisionTreeRegressor_ "
   ]
  },
  {
   "cell_type": "code",
   "execution_count": 5,
   "metadata": {},
   "outputs": [
    {
     "name": "stdout",
     "output_type": "stream",
     "text": [
      "Wall time: 4.58 s\n"
     ]
    }
   ],
   "source": [
    "%%time\n",
    "\n",
    "dtr = DecisionTreeRegressor()\n",
    "\n",
    "dtr_grid_params = {\n",
    "    'max_depth' : list(range(2, 10)),\n",
    "    'max_features' : [0.1, 0.2, 0.3, 0.5, 0.7, 0.9, 1.0],\n",
    "    'min_samples_leaf' : list(range(1, 15))\n",
    "}\n",
    "\n",
    "gs_dtr = GridSearchCV(dtr, dtr_grid_params, scoring='neg_mean_squared_error', cv=4, iid=True, n_jobs=-1)\n",
    "gs_dtr.fit(X_train, y_train)\n",
    "\n",
    "best_dtr = gs_dtr.best_estimator_"
   ]
  },
  {
   "cell_type": "code",
   "execution_count": 6,
   "metadata": {},
   "outputs": [
    {
     "data": {
      "text/plain": [
       "DecisionTreeRegressor(criterion='mse', max_depth=6, max_features=0.7,\n",
       "           max_leaf_nodes=None, min_impurity_decrease=0.0,\n",
       "           min_impurity_split=None, min_samples_leaf=13,\n",
       "           min_samples_split=2, min_weight_fraction_leaf=0.0,\n",
       "           presort=False, random_state=None, splitter='best')"
      ]
     },
     "execution_count": 6,
     "metadata": {},
     "output_type": "execute_result"
    }
   ],
   "source": [
    "best_dtr"
   ]
  },
  {
   "cell_type": "code",
   "execution_count": 7,
   "metadata": {},
   "outputs": [
    {
     "data": {
      "text/plain": [
       "3524.077836890143"
      ]
     },
     "execution_count": 7,
     "metadata": {},
     "output_type": "execute_result"
    }
   ],
   "source": [
    "-gs_dtr.best_score_"
   ]
  },
  {
   "cell_type": "code",
   "execution_count": 8,
   "metadata": {},
   "outputs": [],
   "source": [
    "def print_scores(regr_name, dataset_name, y_test, y_pred):\n",
    "    print('[{}] R2 ({}): {:.3f}'.format(regr_name, dataset_name, r2_score(y_test, y_pred)))\n",
    "    print('[{}] MSE ({}): {:.3f}'.format(regr_name, dataset_name, mean_squared_error(y_test, y_pred)))\n",
    "    print()\n",
    "    print('*' * 50)"
   ]
  },
  {
   "cell_type": "code",
   "execution_count": 9,
   "metadata": {},
   "outputs": [],
   "source": [
    "y_dtr_pred = best_dtr.predict(X_test)"
   ]
  },
  {
   "cell_type": "code",
   "execution_count": 10,
   "metadata": {},
   "outputs": [
    {
     "name": "stdout",
     "output_type": "stream",
     "text": [
      "[DecisionTreeRegressor] R2 (train): 0.582\n",
      "[DecisionTreeRegressor] MSE (train): 2452.073\n",
      "\n",
      "**************************************************\n",
      "[DecisionTreeRegressor] R2 (test): 0.397\n",
      "[DecisionTreeRegressor] MSE (test): 3708.473\n",
      "\n",
      "**************************************************\n"
     ]
    }
   ],
   "source": [
    "print_scores('DecisionTreeRegressor', 'train', y_train, best_dtr.predict(X_train))\n",
    "print_scores('DecisionTreeRegressor', 'test', y_test, y_dtr_pred)"
   ]
  },
  {
   "cell_type": "markdown",
   "metadata": {},
   "source": [
    "### 3.2 _RandomForestRegressor_"
   ]
  },
  {
   "cell_type": "markdown",
   "metadata": {},
   "source": [
    "Параметры для решающего дерева возьмём равными найденным выше для `DecisionTreeRegressor`."
   ]
  },
  {
   "cell_type": "code",
   "execution_count": 11,
   "metadata": {},
   "outputs": [
    {
     "name": "stdout",
     "output_type": "stream",
     "text": [
      "3211.8958624491647\n",
      "Wall time: 192 ms\n"
     ]
    }
   ],
   "source": [
    "%%time\n",
    "\n",
    "rfr_params = {k:v for (k,v) in best_dtr.get_params().items() \n",
    "                  if k in ['max_depth', 'max_features', 'min_samples_leaf', 'min_samples_split']}\n",
    "\n",
    "rfr = RandomForestRegressor(n_estimators=50, **rfr_params)\n",
    "\n",
    "print( -cross_val_score(rfr, X_train, y_train, cv=4, scoring='neg_mean_squared_error').mean() )"
   ]
  },
  {
   "cell_type": "code",
   "execution_count": 12,
   "metadata": {},
   "outputs": [
    {
     "data": {
      "text/plain": [
       "RandomForestRegressor(bootstrap=True, criterion='mse', max_depth=6,\n",
       "           max_features=0.7, max_leaf_nodes=None,\n",
       "           min_impurity_decrease=0.0, min_impurity_split=None,\n",
       "           min_samples_leaf=13, min_samples_split=2,\n",
       "           min_weight_fraction_leaf=0.0, n_estimators=50, n_jobs=None,\n",
       "           oob_score=False, random_state=None, verbose=0, warm_start=False)"
      ]
     },
     "execution_count": 12,
     "metadata": {},
     "output_type": "execute_result"
    }
   ],
   "source": [
    "rfr.fit(X_train, y_train)"
   ]
  },
  {
   "cell_type": "code",
   "execution_count": 13,
   "metadata": {},
   "outputs": [],
   "source": [
    "y_rfr_pred = rfr.predict(X_test)"
   ]
  },
  {
   "cell_type": "code",
   "execution_count": 14,
   "metadata": {},
   "outputs": [
    {
     "name": "stdout",
     "output_type": "stream",
     "text": [
      "[RandomForestRegressor] R2 (train): 0.603\n",
      "[RandomForestRegressor] MSE (train): 2330.276\n",
      "\n",
      "**************************************************\n",
      "[RandomForestRegressor] R2 (test): 0.497\n",
      "[RandomForestRegressor] MSE (test): 3096.330\n",
      "\n",
      "**************************************************\n"
     ]
    }
   ],
   "source": [
    "print_scores('RandomForestRegressor', 'train', y_train, rfr.predict(X_train))\n",
    "print_scores('RandomForestRegressor', 'test', y_test, y_rfr_pred)"
   ]
  },
  {
   "cell_type": "markdown",
   "metadata": {},
   "source": [
    "#### 3.2.1 _Number of trees in RandomForest_"
   ]
  },
  {
   "cell_type": "code",
   "execution_count": 15,
   "metadata": {},
   "outputs": [],
   "source": [
    "from tqdm import tqdm"
   ]
  },
  {
   "cell_type": "code",
   "execution_count": 16,
   "metadata": {},
   "outputs": [
    {
     "name": "stderr",
     "output_type": "stream",
     "text": [
      "100%|██████████████████████████████████████████████████████████████████████████████████████████████████████████| 40/40 [00:44<00:00,  1.60s/it]\n"
     ]
    }
   ],
   "source": [
    "n_trees = np.arange(5,400,10)\n",
    "scores = []\n",
    "\n",
    "rfr_params = {k:v for (k,v) in rfr.get_params().items() \n",
    "                        if k in ['max_depth', 'max_features', 'min_samples_leaf', \n",
    "                                 'min_samples_split', 'min_weight_fraction_leaf']}\n",
    "\n",
    "for n in tqdm(n_trees):\n",
    "    rfr = RandomForestRegressor(n_estimators=n, n_jobs=-1, **rfr_params)\n",
    "    scores.append(-cross_val_score(rfr, X, y, cv=4, scoring='neg_mean_squared_error').mean())"
   ]
  },
  {
   "cell_type": "code",
   "execution_count": 17,
   "metadata": {},
   "outputs": [
    {
     "data": {
      "image/png": "[encoded data removed]",
      "text/plain": [
       "<Figure size 1080x504 with 1 Axes>"
      ]
     },
     "metadata": {
      "needs_background": "light"
     },
     "output_type": "display_data"
    }
   ],
   "source": [
    "plt.figure(figsize = (15, 7))\n",
    "plt.plot(scores)\n",
    "plt.xticks(np.arange(len(n_trees)), n_trees, rotation='vertical')\n",
    "plt.grid(axis='y')\n",
    "plt.ylabel('MSE')\n",
    "plt.xlabel('n_trees')\n",
    "plt.title('RandomForestRegressor');"
   ]
  },
  {
   "cell_type": "markdown",
   "metadata": {},
   "source": [
    "### 3.3 _GradientBoostingRegressor_"
   ]
  },
  {
   "cell_type": "code",
   "execution_count": 18,
   "metadata": {},
   "outputs": [
    {
     "name": "stdout",
     "output_type": "stream",
     "text": [
      "Wall time: 23.8 s\n"
     ]
    }
   ],
   "source": [
    "%%time\n",
    "\n",
    "gbr = GradientBoostingRegressor(n_estimators=10)\n",
    "\n",
    "gbr_grid_params = {\n",
    "    'max_depth' : list(range(1, 6)),\n",
    "    'learning_rate' : np.linspace(0.1, 1, 10),\n",
    "    'max_features' : [0.1, 0.2, 0.3, 0.5, 0.7, 0.9, 1.0],\n",
    "    'min_samples_leaf' : list(range(1, 10))\n",
    "}\n",
    "\n",
    "gs_gbr = GridSearchCV(gbr, gbr_grid_params, scoring='neg_mean_squared_error', cv=4, iid=True, n_jobs=-1)\n",
    "gs_gbr.fit(X_train, y_train)\n",
    "\n",
    "best_gbr = gs_gbr.best_estimator_"
   ]
  },
  {
   "cell_type": "code",
   "execution_count": 19,
   "metadata": {},
   "outputs": [
    {
     "data": {
      "text/plain": [
       "GradientBoostingRegressor(alpha=0.9, criterion='friedman_mse', init=None,\n",
       "             learning_rate=0.4, loss='ls', max_depth=3, max_features=0.2,\n",
       "             max_leaf_nodes=None, min_impurity_decrease=0.0,\n",
       "             min_impurity_split=None, min_samples_leaf=5,\n",
       "             min_samples_split=2, min_weight_fraction_leaf=0.0,\n",
       "             n_estimators=10, n_iter_no_change=None, presort='auto',\n",
       "             random_state=None, subsample=1.0, tol=0.0001,\n",
       "             validation_fraction=0.1, verbose=0, warm_start=False)"
      ]
     },
     "execution_count": 19,
     "metadata": {},
     "output_type": "execute_result"
    }
   ],
   "source": [
    "best_gbr"
   ]
  },
  {
   "cell_type": "code",
   "execution_count": 20,
   "metadata": {},
   "outputs": [],
   "source": [
    "y_gbr_pred = best_gbr.predict(X_test) "
   ]
  },
  {
   "cell_type": "code",
   "execution_count": 21,
   "metadata": {},
   "outputs": [
    {
     "name": "stdout",
     "output_type": "stream",
     "text": [
      "[GradientBoostingRegressor] R2 (train): 0.663\n",
      "[GradientBoostingRegressor] MSE (train): 1977.171\n",
      "\n",
      "**************************************************\n",
      "[GradientBoostingRegressor] R2 (test): 0.491\n",
      "[GradientBoostingRegressor] MSE (test): 3134.302\n",
      "\n",
      "**************************************************\n"
     ]
    }
   ],
   "source": [
    "print_scores('GradientBoostingRegressor', 'train', y_train, best_gbr.predict(X_train))\n",
    "print_scores('GradientBoostingRegressor', 'test', y_test, y_gbr_pred)"
   ]
  },
  {
   "cell_type": "markdown",
   "metadata": {},
   "source": [
    "#### 3.3.1 _Number of trees in GradientBoosting_"
   ]
  },
  {
   "cell_type": "code",
   "execution_count": 22,
   "metadata": {},
   "outputs": [
    {
     "name": "stderr",
     "output_type": "stream",
     "text": [
      "100%|██████████████████████████████████████████████████████████████████████████████████████████████████████████| 41/41 [00:03<00:00,  4.51it/s]\n"
     ]
    }
   ],
   "source": [
    "n_trees = np.concatenate((np.array([1]), np.arange(5, 205, 5)))\n",
    "scores = []\n",
    "\n",
    "for n in tqdm(n_trees):\n",
    "    best_gbr.n_estimators = n\n",
    "    scores.append(-cross_val_score(best_gbr, X, y, cv=4, scoring='neg_mean_squared_error').mean())"
   ]
  },
  {
   "cell_type": "code",
   "execution_count": 23,
   "metadata": {},
   "outputs": [
    {
     "data": {
      "image/png": "[encoded data removed]",
      "text/plain": [
       "<Figure size 1080x504 with 1 Axes>"
      ]
     },
     "metadata": {
      "needs_background": "light"
     },
     "output_type": "display_data"
    }
   ],
   "source": [
    "plt.figure(figsize = (15, 7))\n",
    "plt.plot(scores)\n",
    "plt.xticks(np.arange(len(n_trees)), n_trees, rotation='vertical')\n",
    "plt.grid(axis='y')\n",
    "plt.ylabel('MSE')\n",
    "plt.xlabel('n_trees')\n",
    "plt.title('GradientBoostingRegressor');"
   ]
  }
 ],
 "metadata": {
  "kernelspec": {
   "display_name": "Python 3",
   "language": "python",
   "name": "python3"
  },
  "language_info": {
   "codemirror_mode": {
    "name": "ipython",
    "version": 3
   },
   "file_extension": ".py",
   "mimetype": "text/x-python",
   "name": "python",
   "nbconvert_exporter": "python",
   "pygments_lexer": "ipython3",
   "version": "3.7.2"
  }
 },
 "nbformat": 4,
 "nbformat_minor": 2
}
